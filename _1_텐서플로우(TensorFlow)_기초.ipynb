{
  "nbformat": 4,
  "nbformat_minor": 0,
  "metadata": {
    "colab": {
      "provenance": [],
      "include_colab_link": true
    },
    "kernelspec": {
      "name": "python3",
      "display_name": "Python 3"
    },
    "accelerator": "GPU"
  },
  "cells": [
    {
      "cell_type": "markdown",
      "metadata": {
        "id": "view-in-github",
        "colab_type": "text"
      },
      "source": [
        "<a href=\"https://colab.research.google.com/github/hyunwjang/deep/blob/main/_1_%ED%85%90%EC%84%9C%ED%94%8C%EB%A1%9C%EC%9A%B0(TensorFlow)_%EA%B8%B0%EC%B4%88.ipynb\" target=\"_parent\"><img src=\"https://colab.research.google.com/assets/colab-badge.svg\" alt=\"Open In Colab\"/></a>"
      ]
    },
    {
      "cell_type": "markdown",
      "metadata": {
        "id": "mpf4TRENWJMZ"
      },
      "source": [
        "# 텐서플로우 (Tensorflow)\n",
        "\n",
        "<img src=\"https://upload.wikimedia.org/wikipedia/commons/thumb/1/11/TensorFlowLogo.svg/1200px-TensorFlowLogo.svg.png\" width=\"300\">\n",
        "\n",
        "- 가장 널리 쓰이는 딥러닝 프레임워크 중 하나\n",
        "\n",
        "- 구글이 주도적으로 개발하는 플랫폼\n",
        "\n",
        "- 파이썬, C++ API를 기본적으로 제공하고,  \n",
        "  자바스크립트(JavaScript), 자바(Java), 고(Go), 스위프트(Swift) 등 다양한 프로그래밍 언어를 지원\n",
        "\n",
        "- tf.keras를 중심으로 고수준 API 통합 (2.x 버전)\n",
        "\n",
        "- TPU(Tensor Processing Unit) 지원\n",
        "  - TPU는 GPU보다 전력을 적게 소모, 경제적\n",
        "  \n",
        "  - 일반적으로 32비트(float32)로 수행되는 곱셈 연산을 16비트(float16)로 낮춤"
      ]
    },
    {
      "cell_type": "markdown",
      "metadata": {
        "id": "a9-NEf2BWd4M"
      },
      "source": [
        "## 텐서플로우 아키텍쳐\n",
        "\n",
        "<img src=\"https://developers.google.com/machine-learning/crash-course/images/TFHierarchy.svg\">\n",
        "\n",
        "<sub>출처: https://developers.google.com/machine-learning/crash-course/first-steps-with-tensorflow/toolkit</sub>"
      ]
    },
    {
      "cell_type": "markdown",
      "metadata": {
        "id": "c_ktVhFhYUiE"
      },
      "source": [
        "## 텐서플로우 시작하기"
      ]
    },
    {
      "cell_type": "code",
      "metadata": {
        "id": "SP9HL3ZvV0zR"
      },
      "source": [
        "import numpy as np\n",
        "import tensorflow as tf"
      ],
      "execution_count": null,
      "outputs": []
    },
    {
      "cell_type": "code",
      "metadata": {
        "id": "KvPQ0N4_YhDt",
        "colab": {
          "base_uri": "https://localhost:8080/"
        },
        "outputId": "7c308e99-6376-4053-fdd9-8d9ae268010c"
      },
      "source": [
        "print(tf.__version__)"
      ],
      "execution_count": null,
      "outputs": [
        {
          "output_type": "stream",
          "name": "stdout",
          "text": [
            "2.9.2\n"
          ]
        }
      ]
    },
    {
      "cell_type": "markdown",
      "metadata": {
        "id": "d-9usyAXY7Gw"
      },
      "source": [
        "### 텐서(Tensor)의 객체\n",
        "- 타입(Type): `string`, `float32`, `float16`, `int32`, `int8` 등\n",
        "\n",
        "- 형상(Shape): 0, 1, 2차원 등의 데이터 차원 \n",
        "\n",
        "- 축(Rank): 차원의 개수"
      ]
    },
    {
      "cell_type": "markdown",
      "metadata": {
        "id": "dZeigiNEZODl"
      },
      "source": [
        "### 텐서의 차원과 연산"
      ]
    },
    {
      "cell_type": "code",
      "metadata": {
        "id": "GMVq68gUYksh",
        "colab": {
          "base_uri": "https://localhost:8080/"
        },
        "outputId": "c2512302-a107-48f9-cebc-07bda142e90e"
      },
      "source": [
        "a = tf.constant(2)\n",
        "print(tf.rank(a))\n",
        "print(a)"
      ],
      "execution_count": null,
      "outputs": [
        {
          "output_type": "stream",
          "name": "stdout",
          "text": [
            "tf.Tensor(0, shape=(), dtype=int32)\n",
            "tf.Tensor(2, shape=(), dtype=int32)\n"
          ]
        }
      ]
    },
    {
      "cell_type": "code",
      "metadata": {
        "id": "MgOKILDqZZKP",
        "colab": {
          "base_uri": "https://localhost:8080/"
        },
        "outputId": "e6e8ebba-e388-4eaa-cb6d-d1bddab89437"
      },
      "source": [
        "b = tf.constant([2,3])\n",
        "print(tf.rank(b))\n",
        "print(b)"
      ],
      "execution_count": null,
      "outputs": [
        {
          "output_type": "stream",
          "name": "stdout",
          "text": [
            "tf.Tensor(1, shape=(), dtype=int32)\n",
            "tf.Tensor([2 3], shape=(2,), dtype=int32)\n"
          ]
        }
      ]
    },
    {
      "cell_type": "code",
      "metadata": {
        "id": "k74H8ImTZbWi",
        "colab": {
          "base_uri": "https://localhost:8080/"
        },
        "outputId": "fc0c11fb-1805-458d-b45b-0510e72cbfbb"
      },
      "source": [
        "c = tf.constant([[2,3],[6,7]])\n",
        "print(tf.rank(c))\n",
        "print(c)"
      ],
      "execution_count": null,
      "outputs": [
        {
          "output_type": "stream",
          "name": "stdout",
          "text": [
            "tf.Tensor(2, shape=(), dtype=int32)\n",
            "tf.Tensor(\n",
            "[[2 3]\n",
            " [6 7]], shape=(2, 2), dtype=int32)\n"
          ]
        }
      ]
    },
    {
      "cell_type": "code",
      "metadata": {
        "id": "WmCCc587wkTy",
        "colab": {
          "base_uri": "https://localhost:8080/"
        },
        "outputId": "dadcdd94-009c-4f43-98ae-7132283a4e42"
      },
      "source": [
        "d = tf.constant(['hello'])\n",
        "print(tf.rank(d))\n",
        "print(d)"
      ],
      "execution_count": null,
      "outputs": [
        {
          "output_type": "stream",
          "name": "stdout",
          "text": [
            "tf.Tensor(1, shape=(), dtype=int32)\n",
            "tf.Tensor([b'hello'], shape=(1,), dtype=string)\n"
          ]
        }
      ]
    },
    {
      "cell_type": "markdown",
      "metadata": {
        "id": "z3mgwo7FZ_0S"
      },
      "source": [
        "### 난수 생성"
      ]
    },
    {
      "cell_type": "code",
      "metadata": {
        "id": "eaT2dUJlZ2Cd",
        "colab": {
          "base_uri": "https://localhost:8080/"
        },
        "outputId": "428ec651-a219-4a2f-bebb-28eed3a4db31"
      },
      "source": [
        "rand = tf.random.uniform([1],0,1)\n",
        "print(rand.shape)\n",
        "print(rand)"
      ],
      "execution_count": null,
      "outputs": [
        {
          "output_type": "stream",
          "name": "stdout",
          "text": [
            "(1,)\n",
            "tf.Tensor([0.03292847], shape=(1,), dtype=float32)\n"
          ]
        }
      ]
    },
    {
      "cell_type": "code",
      "metadata": {
        "id": "KfgimJg9aFgB",
        "colab": {
          "base_uri": "https://localhost:8080/"
        },
        "outputId": "c93fa781-5094-4619-86cc-d168530a18f0"
      },
      "source": [
        "rand2 = tf.random.normal([1,2],0,1)\n",
        "print(rand2.shape)\n",
        "print(rand2)"
      ],
      "execution_count": null,
      "outputs": [
        {
          "output_type": "stream",
          "name": "stdout",
          "text": [
            "(1, 2)\n",
            "tf.Tensor([[-0.5164832 -1.7284313]], shape=(1, 2), dtype=float32)\n"
          ]
        }
      ]
    },
    {
      "cell_type": "code",
      "metadata": {
        "id": "R_xdzhG5aPxB",
        "colab": {
          "base_uri": "https://localhost:8080/"
        },
        "outputId": "e64308e9-afcb-4949-b928-be80b41a19bc"
      },
      "source": [
        "rand3 = tf.random.normal(shape = (3,2),mean = 0,stddev = 1)\n",
        "print(rand3.shape)\n",
        "print(rand3)"
      ],
      "execution_count": null,
      "outputs": [
        {
          "output_type": "stream",
          "name": "stdout",
          "text": [
            "(3, 2)\n",
            "tf.Tensor(\n",
            "[[-0.80224764 -1.0251567 ]\n",
            " [-0.02948986 -1.3574687 ]\n",
            " [ 0.8164125  -1.3915113 ]], shape=(3, 2), dtype=float32)\n"
          ]
        }
      ]
    },
    {
      "cell_type": "markdown",
      "metadata": {
        "id": "Za7HlqVba5wD"
      },
      "source": [
        "### 즉시 실행 모드 (Eager Mode) 지원\n",
        "- 즉시 실행모드를 통해 텐서플로우를 파이썬처럼 사용할 수 있음\n",
        "\n",
        "- 1.x 버전에서는 '그래프'를 생성하고, 초기화 한 뒤에 세션을 통해 **값을 흐르게 하는 작업**을 진행해야함\n"
      ]
    },
    {
      "cell_type": "code",
      "source": [
        "a= tf.constant(3)\n",
        "b= tf.constant(2) "
      ],
      "metadata": {
        "id": "k0Dag6jodTSr"
      },
      "execution_count": null,
      "outputs": []
    },
    {
      "cell_type": "code",
      "metadata": {
        "id": "fVBqOSFrbQ1e",
        "colab": {
          "base_uri": "https://localhost:8080/"
        },
        "outputId": "f88a1714-e529-4df8-d16b-fb79c4be73fe"
      },
      "source": [
        "print(tf.add(a,b))\n",
        "print(a+b)"
      ],
      "execution_count": null,
      "outputs": [
        {
          "output_type": "stream",
          "name": "stdout",
          "text": [
            "tf.Tensor(5, shape=(), dtype=int32)\n",
            "tf.Tensor(5, shape=(), dtype=int32)\n"
          ]
        }
      ]
    },
    {
      "cell_type": "code",
      "metadata": {
        "id": "1btItwSEbdEO",
        "colab": {
          "base_uri": "https://localhost:8080/"
        },
        "outputId": "97a4cf7e-30f8-43ad-9155-6387c8983aa1"
      },
      "source": [
        "print(tf.subtract(a,b))\n",
        "print(a-b)"
      ],
      "execution_count": null,
      "outputs": [
        {
          "output_type": "stream",
          "name": "stdout",
          "text": [
            "tf.Tensor(1, shape=(), dtype=int32)\n",
            "tf.Tensor(1, shape=(), dtype=int32)\n"
          ]
        }
      ]
    },
    {
      "cell_type": "code",
      "metadata": {
        "id": "SaOXtxLpbfDC",
        "colab": {
          "base_uri": "https://localhost:8080/"
        },
        "outputId": "4ff4d955-a7c2-41ec-e5ff-69a3753ba9b5"
      },
      "source": [
        "print(tf.multiply(a,b))\n",
        "print(a*b)"
      ],
      "execution_count": null,
      "outputs": [
        {
          "output_type": "stream",
          "name": "stdout",
          "text": [
            "tf.Tensor(6, shape=(), dtype=int32)\n",
            "tf.Tensor(6, shape=(), dtype=int32)\n"
          ]
        }
      ]
    },
    {
      "cell_type": "markdown",
      "metadata": {
        "id": "XyLkPW4Db67W"
      },
      "source": [
        "### 텐서 플로우 ↔ 넘파이\n",
        "- `numpy()`\n",
        "- `tf.convet_to_tensor()`"
      ]
    },
    {
      "cell_type": "code",
      "metadata": {
        "id": "c9AWzdJRb4Ez",
        "colab": {
          "base_uri": "https://localhost:8080/"
        },
        "outputId": "ca4e8de4-a731-4d9a-89da-7103eb7cf28a"
      },
      "source": [
        "import numpy as np\n",
        "c = tf.add(a,b).numpy()\n",
        "\n",
        "print(type(c))"
      ],
      "execution_count": null,
      "outputs": [
        {
          "output_type": "stream",
          "name": "stdout",
          "text": [
            "<class 'numpy.int32'>\n"
          ]
        }
      ]
    },
    {
      "cell_type": "code",
      "metadata": {
        "id": "ql4O755kcfnk",
        "colab": {
          "base_uri": "https://localhost:8080/"
        },
        "outputId": "524ea0ef-76b7-482d-9c2e-617ee1aaaae5"
      },
      "source": [
        "c_square = np.square(c, dtype = np.float32)\n",
        "c_tensor = tf.convert_to_tensor(c_square)\n",
        "print(c_square)\n",
        "print(c_tensor)\n",
        "print(type(c_tensor))"
      ],
      "execution_count": null,
      "outputs": [
        {
          "output_type": "stream",
          "name": "stdout",
          "text": [
            "25.0\n",
            "tf.Tensor(25.0, shape=(), dtype=float32)\n",
            "<class 'tensorflow.python.framework.ops.EagerTensor'>\n"
          ]
        }
      ]
    },
    {
      "cell_type": "markdown",
      "metadata": {
        "id": "LmWKhcWVk00O"
      },
      "source": [
        "### 넘파이처럼 사용하기\n"
      ]
    },
    {
      "cell_type": "code",
      "metadata": {
        "id": "0on9RGRllNnX",
        "colab": {
          "base_uri": "https://localhost:8080/"
        },
        "outputId": "57a89410-ab18-4933-e97e-42c0d310bb2d"
      },
      "source": [
        "t =tf.constant([[1.,2.,3.],[4.,5.,6.]])\n",
        "print(t)\n",
        "print(t.shape)\n",
        "print(t.dtype)"
      ],
      "execution_count": null,
      "outputs": [
        {
          "output_type": "stream",
          "name": "stdout",
          "text": [
            "tf.Tensor(\n",
            "[[1. 2. 3.]\n",
            " [4. 5. 6.]], shape=(2, 3), dtype=float32)\n",
            "(2, 3)\n",
            "<dtype: 'float32'>\n"
          ]
        }
      ]
    },
    {
      "cell_type": "code",
      "metadata": {
        "id": "lhlyV7oklUIh",
        "colab": {
          "base_uri": "https://localhost:8080/"
        },
        "outputId": "f5d9fdb4-4ef1-44eb-f0ca-c531b77b7549"
      },
      "source": [
        "print(t[:,1:])"
      ],
      "execution_count": null,
      "outputs": [
        {
          "output_type": "stream",
          "name": "stdout",
          "text": [
            "tf.Tensor(\n",
            "[[2. 3.]\n",
            " [5. 6.]], shape=(2, 2), dtype=float32)\n"
          ]
        }
      ]
    },
    {
      "cell_type": "code",
      "metadata": {
        "id": "glWL8MITlo7H",
        "colab": {
          "base_uri": "https://localhost:8080/"
        },
        "outputId": "475e354e-1a3e-4612-e40f-0a27067a3eed"
      },
      "source": [
        "t[...,1,tf.newaxis]"
      ],
      "execution_count": null,
      "outputs": [
        {
          "output_type": "execute_result",
          "data": {
            "text/plain": [
              "<tf.Tensor: shape=(2, 1), dtype=float32, numpy=\n",
              "array([[2.],\n",
              "       [5.]], dtype=float32)>"
            ]
          },
          "metadata": {},
          "execution_count": 20
        }
      ]
    },
    {
      "cell_type": "code",
      "metadata": {
        "id": "RtzQuhwnmRdu",
        "colab": {
          "base_uri": "https://localhost:8080/"
        },
        "outputId": "42a1951e-8f76-4455-d5ee-84234640b3b8"
      },
      "source": [
        "t +10"
      ],
      "execution_count": null,
      "outputs": [
        {
          "output_type": "execute_result",
          "data": {
            "text/plain": [
              "<tf.Tensor: shape=(2, 3), dtype=float32, numpy=\n",
              "array([[11., 12., 13.],\n",
              "       [14., 15., 16.]], dtype=float32)>"
            ]
          },
          "metadata": {},
          "execution_count": 21
        }
      ]
    },
    {
      "cell_type": "code",
      "metadata": {
        "id": "Z5wQhZ0xmRi6",
        "colab": {
          "base_uri": "https://localhost:8080/"
        },
        "outputId": "653f6be3-ab26-47f8-e7e4-5b0ce9d25148"
      },
      "source": [
        "tf.square(t)"
      ],
      "execution_count": null,
      "outputs": [
        {
          "output_type": "execute_result",
          "data": {
            "text/plain": [
              "<tf.Tensor: shape=(2, 3), dtype=float32, numpy=\n",
              "array([[ 1.,  4.,  9.],\n",
              "       [16., 25., 36.]], dtype=float32)>"
            ]
          },
          "metadata": {},
          "execution_count": 22
        }
      ]
    },
    {
      "cell_type": "code",
      "metadata": {
        "id": "Fj9RmYc6mRVh",
        "colab": {
          "base_uri": "https://localhost:8080/"
        },
        "outputId": "aca14b25-8e9b-4bab-e0f7-a0053fc556e9"
      },
      "source": [
        "t @ tf.transpose(t)"
      ],
      "execution_count": null,
      "outputs": [
        {
          "output_type": "execute_result",
          "data": {
            "text/plain": [
              "<tf.Tensor: shape=(2, 2), dtype=float32, numpy=\n",
              "array([[14., 32.],\n",
              "       [32., 77.]], dtype=float32)>"
            ]
          },
          "metadata": {},
          "execution_count": 23
        }
      ]
    },
    {
      "cell_type": "markdown",
      "metadata": {
        "id": "8y5wUIfpuhzL"
      },
      "source": [
        "### 타입 변환\n",
        "- 텐서의 기본 dtype\n",
        "  - float형 텐서: `float32`\n",
        "  - int형 텐서: `int32`\n",
        "\n",
        "- 연산시 텐서의 타입을 맞춰줘야 함\n",
        "  - `float32` ~ `float32`\n",
        "  - `int32` ~ `int32`\n",
        "  - `flot32` ~ `int32` (x)\n",
        "\n",
        "- 타입변환에는 `tf.cast()` 사용"
      ]
    },
    {
      "cell_type": "code",
      "source": [
        "a = tf.constant(2)\n",
        "print(a)\n",
        " \n",
        "b = tf.constant(2.)\n",
        "print(b)"
      ],
      "metadata": {
        "colab": {
          "base_uri": "https://localhost:8080/"
        },
        "id": "fJZltCnbgKGK",
        "outputId": "c6aeb2f7-46e9-413d-c44d-bdf08b4246b8"
      },
      "execution_count": null,
      "outputs": [
        {
          "output_type": "stream",
          "name": "stdout",
          "text": [
            "tf.Tensor(2, shape=(), dtype=int32)\n",
            "tf.Tensor(2.0, shape=(), dtype=float32)\n"
          ]
        }
      ]
    },
    {
      "cell_type": "code",
      "metadata": {
        "id": "RMwFpHCAvEFG"
      },
      "source": [
        "# tf.constant(2.) + tf.constant(40)"
      ],
      "execution_count": null,
      "outputs": []
    },
    {
      "cell_type": "code",
      "metadata": {
        "id": "rVb9KZSKui_c"
      },
      "source": [
        "# tf.constant(2.) + tf.constant(30., dtype = tf.float64)"
      ],
      "execution_count": null,
      "outputs": []
    },
    {
      "cell_type": "code",
      "metadata": {
        "id": "-Lz79b8Fumsy",
        "colab": {
          "base_uri": "https://localhost:8080/"
        },
        "outputId": "c636be8c-a301-46cd-b25b-c478a10b8b44"
      },
      "source": [
        "t = tf.constant(30., dtype = tf.float64)\n",
        "t2 = tf.constant(4.)\n",
        "print(t2 + tf.cast(t,tf.float32))"
      ],
      "execution_count": null,
      "outputs": [
        {
          "output_type": "stream",
          "name": "stdout",
          "text": [
            "tf.Tensor(34.0, shape=(), dtype=float32)\n"
          ]
        }
      ]
    },
    {
      "cell_type": "markdown",
      "metadata": {
        "id": "E3IX5JwVZePH"
      },
      "source": [
        "### AutoGraph (오토그래프)\n",
        "\n",
        "- Tensorflow가 작업을 좀 더 빠르게 동작하게 하기 위한 방법으로 Graph로 만들어 연산을 진행\n",
        "\n",
        "- `tf.Graph`\n",
        "\n",
        "- 유연성이 있음\n",
        "\n",
        "  - 모바일 애플리케이션, 임베디드 기기, 백엔드 서버와 같이 Python 인터프리터가 없는 환경에서 Tensorflow 사용 가능 "
      ]
    },
    {
      "cell_type": "code",
      "metadata": {
        "id": "78VD-XWRaea5"
      },
      "source": [
        "import timeit"
      ],
      "execution_count": null,
      "outputs": []
    },
    {
      "cell_type": "markdown",
      "metadata": {
        "id": "YxNt6nejc8Ei"
      },
      "source": [
        "### @tf.function\n",
        "- 자동으로 그래프를 생성(Auto Graph)\n",
        "\n",
        "- 그래프로 변환하여 사용 -> GPU 연산 가능\n",
        "\n",
        "- 파이썬으로 구성된 함수를 텐서플로우의 그래프 형태로 다루고 싶을 때 사용가능\n",
        "\n",
        "\n",
        "- 원본 함수가 필요하다면 `(tf.function).python_function()`"
      ]
    },
    {
      "cell_type": "code",
      "metadata": {
        "id": "gq5NFuLjcukw",
        "colab": {
          "base_uri": "https://localhost:8080/"
        },
        "outputId": "dc223602-1869-4c35-f396-48e0c5d9ccb5"
      },
      "source": [
        "@tf.function\n",
        "def my_function(x):\n",
        "  return x**2 -10*x +3\n",
        "\n",
        "print(my_function(2))\n",
        "print(my_function(tf.constant(2)))"
      ],
      "execution_count": null,
      "outputs": [
        {
          "output_type": "stream",
          "name": "stdout",
          "text": [
            "tf.Tensor(-13, shape=(), dtype=int32)\n",
            "tf.Tensor(-13, shape=(), dtype=int32)\n"
          ]
        }
      ]
    },
    {
      "cell_type": "code",
      "metadata": {
        "id": "hR3RAAIQd8J7",
        "colab": {
          "base_uri": "https://localhost:8080/"
        },
        "outputId": "d9388e14-f255-4ce7-b6fa-d6a879c264e1"
      },
      "source": [
        "def my_function_(x):\n",
        "  return x**2 - 10 *x +3\n",
        "\n",
        "print(my_function_(2))\n",
        "print(my_function_(tf.constant(2)))"
      ],
      "execution_count": null,
      "outputs": [
        {
          "output_type": "stream",
          "name": "stdout",
          "text": [
            "-13\n",
            "tf.Tensor(-13, shape=(), dtype=int32)\n"
          ]
        }
      ]
    },
    {
      "cell_type": "code",
      "metadata": {
        "id": "bsy3eabmy8X8",
        "colab": {
          "base_uri": "https://localhost:8080/"
        },
        "outputId": "8759ef5e-6ec9-45e7-db9b-deea3f6295fc"
      },
      "source": [
        "tf_my_fuc = tf.function(my_function_)\n",
        "print(tf_my_fuc)\n",
        "print(tf_my_fuc(2))"
      ],
      "execution_count": null,
      "outputs": [
        {
          "output_type": "stream",
          "name": "stdout",
          "text": [
            "<tensorflow.python.eager.def_function.Function object at 0x7fe0702ba850>\n",
            "tf.Tensor(-13, shape=(), dtype=int32)\n"
          ]
        }
      ]
    },
    {
      "cell_type": "code",
      "metadata": {
        "id": "TgwwgQvjzKqn",
        "colab": {
          "base_uri": "https://localhost:8080/"
        },
        "outputId": "f3451b62-a35b-43c6-9e2a-eebebeecd233"
      },
      "source": [
        "tf_my_fuc.python_function(2)"
      ],
      "execution_count": null,
      "outputs": [
        {
          "output_type": "execute_result",
          "data": {
            "text/plain": [
              "-13"
            ]
          },
          "metadata": {},
          "execution_count": 32
        }
      ]
    },
    {
      "cell_type": "code",
      "metadata": {
        "id": "1pkBOpWhaehO",
        "colab": {
          "base_uri": "https://localhost:8080/"
        },
        "outputId": "a24d96f5-afbe-4717-ce47-43d8de72cc2c"
      },
      "source": [
        "def function_to_get_faster(x,y,b):\n",
        "  x = tf.matmul(x,y)\n",
        "  x = x+b\n",
        "  return x \n",
        "\n",
        "a_function_that_uses_a_graph = tf.function(function_to_get_faster)\n",
        "\n",
        "x1 = tf.constant([[1.0,2.0]])\n",
        "y1 = tf.constant([[2.0], [3.0]])\n",
        "b1 = tf.constant(4.0)\n",
        "\n",
        "a_function_that_uses_a_graph(x1,y1,b1).numpy()"
      ],
      "execution_count": null,
      "outputs": [
        {
          "output_type": "execute_result",
          "data": {
            "text/plain": [
              "array([[12.]], dtype=float32)"
            ]
          },
          "metadata": {},
          "execution_count": 33
        }
      ]
    },
    {
      "cell_type": "code",
      "metadata": {
        "id": "rcLAgLKfaepn",
        "colab": {
          "base_uri": "https://localhost:8080/"
        },
        "outputId": "e438066e-2011-4419-aa19-b423daa2eb05"
      },
      "source": [
        "def inner_function(x,y,b):\n",
        "  x = tf.matmul(x,y)\n",
        "  x = x+b\n",
        "  return x \n",
        "\n",
        "@tf.function\n",
        "def outer_function(x):\n",
        "  y = tf.constant([[2.0],[3.0]])\n",
        "  b = tf.constant(4.0)\n",
        "  return inner_function(x,y,b)\n",
        "\n",
        "outer_function(tf.constant([[1.0,2.0]])).numpy()"
      ],
      "execution_count": null,
      "outputs": [
        {
          "output_type": "execute_result",
          "data": {
            "text/plain": [
              "array([[12.]], dtype=float32)"
            ]
          },
          "metadata": {},
          "execution_count": 34
        }
      ]
    },
    {
      "cell_type": "markdown",
      "metadata": {
        "id": "mXLYEP4fbSYe"
      },
      "source": [
        "텐서플로우가 `tf.function`으로 변환한 코드"
      ]
    },
    {
      "cell_type": "code",
      "metadata": {
        "id": "i6cqueZuWN1g",
        "colab": {
          "base_uri": "https://localhost:8080/"
        },
        "outputId": "38e54a61-f400-4dbe-c0bc-7c5d11b90be9"
      },
      "source": [
        "print(tf.autograph.to_code(my_function.python_function))\n",
        "print(tf.autograph.to_code(tf_my_fuc.python_function))\n",
        "print(tf.autograph.to_code(outer_function.python_function))\n",
        "\n"
      ],
      "execution_count": null,
      "outputs": [
        {
          "output_type": "stream",
          "name": "stdout",
          "text": [
            "def tf__my_function(x):\n",
            "    with ag__.FunctionScope('my_function', 'fscope', ag__.ConversionOptions(recursive=True, user_requested=True, optional_features=(), internal_convert_user_code=True)) as fscope:\n",
            "        do_return = False\n",
            "        retval_ = ag__.UndefinedReturnValue()\n",
            "        try:\n",
            "            do_return = True\n",
            "            retval_ = (((ag__.ld(x) ** 2) - (10 * ag__.ld(x))) + 3)\n",
            "        except:\n",
            "            do_return = False\n",
            "            raise\n",
            "        return fscope.ret(retval_, do_return)\n",
            "\n",
            "def tf__my_function_(x):\n",
            "    with ag__.FunctionScope('my_function_', 'fscope', ag__.ConversionOptions(recursive=True, user_requested=True, optional_features=(), internal_convert_user_code=True)) as fscope:\n",
            "        do_return = False\n",
            "        retval_ = ag__.UndefinedReturnValue()\n",
            "        try:\n",
            "            do_return = True\n",
            "            retval_ = (((ag__.ld(x) ** 2) - (10 * ag__.ld(x))) + 3)\n",
            "        except:\n",
            "            do_return = False\n",
            "            raise\n",
            "        return fscope.ret(retval_, do_return)\n",
            "\n",
            "def tf__outer_function(x):\n",
            "    with ag__.FunctionScope('outer_function', 'fscope', ag__.ConversionOptions(recursive=True, user_requested=True, optional_features=(), internal_convert_user_code=True)) as fscope:\n",
            "        do_return = False\n",
            "        retval_ = ag__.UndefinedReturnValue()\n",
            "        y = ag__.converted_call(ag__.ld(tf).constant, ([[2.0], [3.0]],), None, fscope)\n",
            "        b = ag__.converted_call(ag__.ld(tf).constant, (4.0,), None, fscope)\n",
            "        try:\n",
            "            do_return = True\n",
            "            retval_ = ag__.converted_call(ag__.ld(inner_function), (ag__.ld(x), ag__.ld(y), ag__.ld(b)), None, fscope)\n",
            "        except:\n",
            "            do_return = False\n",
            "            raise\n",
            "        return fscope.ret(retval_, do_return)\n",
            "\n"
          ]
        }
      ]
    },
    {
      "cell_type": "markdown",
      "metadata": {
        "id": "hf2KCJu1bdg_"
      },
      "source": [
        "\n",
        " 속도 향상\n"
      ]
    },
    {
      "cell_type": "markdown",
      "metadata": {
        "id": "EizHAodregRR"
      },
      "source": [
        "### 변수 생성\n",
        "\n",
        "- `tf.Variable`\n",
        "- 딥러닝 모델 학습 시, 그래프 연산이 필요할 때 사용"
      ]
    },
    {
      "cell_type": "code",
      "metadata": {
        "id": "PybmfPcAeH-S",
        "colab": {
          "base_uri": "https://localhost:8080/"
        },
        "outputId": "741ab8b4-ca8a-4945-a0a8-45b83ca9711f"
      },
      "source": [
        "#**kwargs 는 (키워드 = 특정 값) 형태로 함수를 호출할 수 있다 \n",
        "#딕셔러리 형태\n",
        "class SequentialModel(tf.keras.Model):\n",
        "  def __init__(self,**kwargs):\n",
        "    super(SequentialModel,self).__init__(**kwargs)\n",
        "    self.flatten = tf.keras.layers.Flatten(input_shape=(28,28))\n",
        "    self.dense_1 = tf.keras.layers.Dense(128, activation = 'relu')\n",
        "    self.dropout = tf.keras.layers.Dropout(0.2)\n",
        "    self.dense_2 = tf.keras.layers.Dense(10)\n",
        "\n",
        "  def call(self, x):\n",
        "    x = self.flatten(x)\n",
        "    x = self.dense_1(x)\n",
        "    x = self.dropout(x)\n",
        "    x = self.dense_2(x)\n",
        "    return x\n",
        "\n",
        "input_data = tf.random.uniform([60,28,28])\n",
        "\n",
        "eager_model = SequentialModel()\n",
        "graph_model = tf.function(eager_model)\n",
        "\n",
        "print(\"Eager_model:\", timeit.timeit(lambda : eager_model(input_data),number = 10000))\n",
        "print(\"Graph_model:\", timeit.timeit(lambda : graph_model(input_data),number = 10000))"
      ],
      "execution_count": null,
      "outputs": [
        {
          "output_type": "stream",
          "name": "stdout",
          "text": [
            "Eager_model: 14.366919771999989\n",
            "Graph_model: 6.913758135999984\n"
          ]
        }
      ]
    },
    {
      "cell_type": "code",
      "source": [
        "X = tf.Variable(20,0)\n",
        "print(X)"
      ],
      "metadata": {
        "colab": {
          "base_uri": "https://localhost:8080/"
        },
        "id": "_QAqSxJtqh4m",
        "outputId": "d7d0597f-aff0-4cba-da4f-c39d5acd765e"
      },
      "execution_count": null,
      "outputs": [
        {
          "output_type": "stream",
          "name": "stdout",
          "text": [
            "<tf.Variable 'Variable:0' shape=() dtype=int32, numpy=20>\n"
          ]
        }
      ]
    },
    {
      "cell_type": "markdown",
      "metadata": {
        "id": "qY_oUvVneiHH"
      },
      "source": [
        "### Autograd (자동 미분)\n",
        "\n",
        "- `tf.GradientTape` API를 사용\n",
        "- `tf.Variable` 같은 일부 입력에 대한 기울기 계산\n",
        "  - 기본적으로 한번만 사용됨\n",
        "- 변수가 포함된 연산만 기록"
      ]
    },
    {
      "cell_type": "code",
      "metadata": {
        "id": "4_lrTYZfeiHO"
      },
      "source": [
        "x = tf.Variable(3.0)\n",
        "\n",
        "with tf.GradientTape() as tape:\n",
        "  y = x**2\n"
      ],
      "execution_count": null,
      "outputs": []
    },
    {
      "cell_type": "code",
      "metadata": {
        "id": "1Tq7MMJTeiHQ",
        "colab": {
          "base_uri": "https://localhost:8080/"
        },
        "outputId": "fb3eda65-f499-495b-cdff-faec300d7c7b"
      },
      "source": [
        "dy_dx = tape.gradient(y,x)\n",
        "dy_dx.numpy()"
      ],
      "execution_count": null,
      "outputs": [
        {
          "output_type": "execute_result",
          "data": {
            "text/plain": [
              "6.0"
            ]
          },
          "metadata": {},
          "execution_count": 39
        }
      ]
    },
    {
      "cell_type": "code",
      "metadata": {
        "id": "y0wty7V3eiHT"
      },
      "source": [
        "# x2 =tf.Variable(4)\n",
        "# dy_dx = tape.gradient(y,x)\n",
        "# dy_dx.numpy()"
      ],
      "execution_count": null,
      "outputs": []
    },
    {
      "cell_type": "code",
      "metadata": {
        "id": "itJftqGlfWmy",
        "colab": {
          "base_uri": "https://localhost:8080/"
        },
        "outputId": "451ce09c-1170-4fe0-95e5-81a8e061747f"
      },
      "source": [
        "x = tf.Variable(2.0)\n",
        "x = tf.Variable(3.0)\n",
        "\n",
        "with tf.GradientTape() as tape:\n",
        "  y_sq = y**2\n",
        "  z = x**2 +tf.stop_gradient(y_sq)\n",
        "\n",
        "grad = tape.gradient(z, {'x':x, \n",
        "                         'y':y})\n",
        "\n",
        "print('dz/dx:', grad['x'])\n",
        "print('dz/dx:', grad['y'])"
      ],
      "execution_count": null,
      "outputs": [
        {
          "output_type": "stream",
          "name": "stdout",
          "text": [
            "dz/dx: tf.Tensor(6.0, shape=(), dtype=float32)\n",
            "dz/dx: None\n"
          ]
        }
      ]
    },
    {
      "cell_type": "code",
      "metadata": {
        "id": "Np-JoGSneiHW"
      },
      "source": [
        "weights = tf.Variable(tf.random.normal((3,2)), name = 'weights')\n",
        "biases = tf.Variable(tf.zeros(2, dtype = tf.float32), name = 'biases')\n",
        "x = [[1,2,3]]\n",
        "\n",
        "with tf.GradientTape(persistent = True) as tape:\n",
        "  y =x@ weights + biases\n",
        "  loss = tf.reduce_mean(y**2)\n"
      ],
      "execution_count": null,
      "outputs": []
    },
    {
      "cell_type": "code",
      "metadata": {
        "id": "OMhB1rONeiHY"
      },
      "source": [
        "[dl_dw, dl_db] = tape.gradient(loss, [weights, biases])"
      ],
      "execution_count": null,
      "outputs": []
    },
    {
      "cell_type": "code",
      "metadata": {
        "id": "7mS4UrqgeiHa",
        "colab": {
          "base_uri": "https://localhost:8080/"
        },
        "outputId": "8edd0ac9-5655-4674-f302-f1a867acb036"
      },
      "source": [
        "print(weights.shape)\n",
        "print(dl_dw.shape)"
      ],
      "execution_count": null,
      "outputs": [
        {
          "output_type": "stream",
          "name": "stdout",
          "text": [
            "(3, 2)\n",
            "(3, 2)\n"
          ]
        }
      ]
    },
    {
      "cell_type": "code",
      "metadata": {
        "id": "UIFUed4yeiHc",
        "colab": {
          "base_uri": "https://localhost:8080/"
        },
        "outputId": "7311b6b2-0a53-4a0f-c133-7ad7476369ce"
      },
      "source": [
        "weight2 = tf.Variable(tf.random.normal((3,2)),name = 'weights')\n",
        "biasese2 = tf.Variable(tf.zeros(2, dtype = tf.float32), name = 'biases')\n",
        "x2= [[4,5,6]]\n",
        "\n",
        "[dl_dw2, dl_db2] = tape.gradient(loss, [weight2, biasese2])\n",
        "\n",
        "print(weight2.shape)\n",
        "print(dl_dw.shape)"
      ],
      "execution_count": null,
      "outputs": [
        {
          "output_type": "stream",
          "name": "stdout",
          "text": [
            "(3, 2)\n",
            "(3, 2)\n"
          ]
        }
      ]
    },
    {
      "cell_type": "code",
      "metadata": {
        "id": "b1X3900EeiHd"
      },
      "source": [
        "del tape"
      ],
      "execution_count": null,
      "outputs": []
    },
    {
      "cell_type": "markdown",
      "metadata": {
        "id": "FcG5ddWTgjMq"
      },
      "source": [
        "## 간단한 신경망 구조 "
      ]
    },
    {
      "cell_type": "markdown",
      "metadata": {
        "id": "fXE8tlU7gkrV"
      },
      "source": [
        "### 뉴런\n",
        "- 입력 → 연산 → 활성화함수 → 출력"
      ]
    },
    {
      "cell_type": "code",
      "metadata": {
        "id": "B-DUt6cZe7iD"
      },
      "source": [
        "def sigmoid(x):\n",
        "  return(1/ (1 +np.exp(-x)))\n",
        "\n",
        "def Neuron(x,W,bias = 0):\n",
        "  z = x*W +bias\n",
        "  return sigmoid(z)"
      ],
      "execution_count": null,
      "outputs": []
    },
    {
      "cell_type": "code",
      "metadata": {
        "id": "r8baxM6mg_XQ",
        "colab": {
          "base_uri": "https://localhost:8080/"
        },
        "outputId": "8796c3bd-f730-4204-c702-d152d47a5550"
      },
      "source": [
        "x = tf.random.normal((1,2),0,1)\n",
        "W = tf.random.normal((1,2),0,1)\n",
        "\n",
        "print('x.shape :',x.shape)\n",
        "print('W.shape :',W.shape)\n",
        "\n",
        "print(x)\n",
        "print(W)\n",
        "\n",
        "print(Neuron(x,W))"
      ],
      "execution_count": null,
      "outputs": [
        {
          "output_type": "stream",
          "name": "stdout",
          "text": [
            "x.shape : (1, 2)\n",
            "W.shape : (1, 2)\n",
            "tf.Tensor([[ 1.4778192  -0.89187664]], shape=(1, 2), dtype=float32)\n",
            "tf.Tensor([[ 0.19011585 -0.6044548 ]], shape=(1, 2), dtype=float32)\n",
            "[[0.56978077 0.6316028 ]]\n"
          ]
        }
      ]
    },
    {
      "cell_type": "code",
      "metadata": {
        "id": "I7D57W93htFt",
        "colab": {
          "base_uri": "https://localhost:8080/"
        },
        "outputId": "708c24e0-2506-46ab-80f9-888fc7edb5ef"
      },
      "source": [
        "x = tf.random.normal((2,1),0,1)\n",
        "W = tf.random.normal((2,1),0,1)\n",
        "\n",
        "print('x.shape :',x.shape)\n",
        "print('W.shape :',W.shape)\n",
        "\n",
        "print(x)\n",
        "print(W)\n",
        "\n",
        "print(Neuron(x,W))"
      ],
      "execution_count": null,
      "outputs": [
        {
          "output_type": "stream",
          "name": "stdout",
          "text": [
            "x.shape : (2, 1)\n",
            "W.shape : (2, 1)\n",
            "tf.Tensor(\n",
            "[[-2.8878932]\n",
            " [-1.0780861]], shape=(2, 1), dtype=float32)\n",
            "tf.Tensor(\n",
            "[[ 0.65859604]\n",
            " [-1.3801554 ]], shape=(2, 1), dtype=float32)\n",
            "[[0.12988736]\n",
            " [0.8157669 ]]\n"
          ]
        }
      ]
    },
    {
      "cell_type": "code",
      "metadata": {
        "id": "IKeoXsJBhzPk",
        "colab": {
          "base_uri": "https://localhost:8080/"
        },
        "outputId": "ff56b2fd-1796-455c-d0b2-8763d4b7949b"
      },
      "source": [
        "x = tf.random.normal((1,),0,1)\n",
        "W = tf.random.normal((2,1),0,1)\n",
        "\n",
        "print('x.shape :',x.shape)\n",
        "print('W.shape :',W.shape)\n",
        "\n",
        "print(x)\n",
        "print(W)\n",
        "\n",
        "print(Neuron(x,W))"
      ],
      "execution_count": null,
      "outputs": [
        {
          "output_type": "stream",
          "name": "stdout",
          "text": [
            "x.shape : (1,)\n",
            "W.shape : (2, 1)\n",
            "tf.Tensor([-0.48915997], shape=(1,), dtype=float32)\n",
            "tf.Tensor(\n",
            "[[1.2953283]\n",
            " [1.9394606]], shape=(2, 1), dtype=float32)\n",
            "[[0.34668955]\n",
            " [0.27914503]]\n"
          ]
        }
      ]
    },
    {
      "cell_type": "markdown",
      "metadata": {
        "id": "ATmvx1utmmMl"
      },
      "source": [
        "### 퍼셉트론 학습 알고리즘 (가중치 업데이트)\n",
        "\n",
        "## $\\qquad w^{(next step)} = w + \\eta \\ (y - \\tilde{y}) \\ x$\n",
        "\n",
        "- $w \\ $: 가중치\n",
        "\n",
        "- $\\eta \\ $ : 학습률\n",
        "\n",
        "- $y \\ $ : 정답 레이블\n",
        "\n",
        "- $\\tilde{y} \\ $: 예측 레이블\n"
      ]
    },
    {
      "cell_type": "code",
      "metadata": {
        "id": "7f-3qRCHXO9m",
        "colab": {
          "base_uri": "https://localhost:8080/"
        },
        "outputId": "411904a8-badb-4cda-9590-28f65cdb191f"
      },
      "source": [
        "x = 1\n",
        "y = 0 \n",
        "W = tf.random.normal([1], 0,1)\n",
        "print(Neuron(x, W))\n",
        "print(\"y\", y)"
      ],
      "execution_count": null,
      "outputs": [
        {
          "output_type": "stream",
          "name": "stdout",
          "text": [
            "[0.4099814]\n",
            "y 0\n"
          ]
        }
      ]
    },
    {
      "cell_type": "code",
      "metadata": {
        "id": "S8JG-rbdml_v",
        "colab": {
          "base_uri": "https://localhost:8080/"
        },
        "outputId": "dd80d868-1740-41ff-a5cc-eb84ee25bf99"
      },
      "source": [
        "for i in range(1000):\n",
        "  output = Neuron(x,W)\n",
        "  error = y - output\n",
        "  W = W + x * 0.1 *error\n",
        "\n",
        "  if i % 100 == 99:\n",
        "    print(\"{}\\t{}\\t{}\".format(i+1, error, output))"
      ],
      "execution_count": null,
      "outputs": [
        {
          "output_type": "stream",
          "name": "stdout",
          "text": [
            "100\t[-0.09503076]\t[0.09503076]\n",
            "200\t[-0.05032499]\t[0.05032499]\n",
            "300\t[-0.03392239]\t[0.03392239]\n",
            "400\t[-0.02551041]\t[0.02551041]\n",
            "500\t[-0.02041532]\t[0.02041532]\n",
            "600\t[-0.01700515]\t[0.01700515]\n",
            "700\t[-0.01456529]\t[0.01456529]\n",
            "800\t[-0.01273451]\t[0.01273451]\n",
            "900\t[-0.01131058]\t[0.01131058]\n",
            "1000\t[-0.01017182]\t[0.01017182]\n"
          ]
        }
      ]
    },
    {
      "cell_type": "code",
      "metadata": {
        "id": "vrJKCpf0VyOR"
      },
      "source": [
        "def Neuron2( x, W, bias = 0):\n",
        "  z = tf.matmul(x,W, transpose_b = True) + bias\n",
        "  return sigmoid(z)\n"
      ],
      "execution_count": null,
      "outputs": []
    },
    {
      "cell_type": "code",
      "metadata": {
        "id": "dkLHtKQ8htRg",
        "colab": {
          "base_uri": "https://localhost:8080/"
        },
        "outputId": "ce980054-df04-4a0c-c3f5-4e482c3b1218"
      },
      "source": [
        "x = tf.random.normal((1,3),0,1)\n",
        "y = tf.ones(1)\n",
        "W = tf.random.normal((1,3),0,1)\n",
        "\n",
        "print(Neuron2(x,W))\n",
        "print(\"y:\",y)"
      ],
      "execution_count": null,
      "outputs": [
        {
          "output_type": "stream",
          "name": "stdout",
          "text": [
            "[[0.6887086]]\n",
            "y: tf.Tensor([1.], shape=(1,), dtype=float32)\n"
          ]
        }
      ]
    },
    {
      "cell_type": "code",
      "metadata": {
        "id": "udZu2_rQo1SH",
        "colab": {
          "base_uri": "https://localhost:8080/"
        },
        "outputId": "f9f8b195-bda8-438a-c3e2-446cf313210c"
      },
      "source": [
        "for i in range(1000):\n",
        "  output = Neuron2(x, W)\n",
        "  error = y - output\n",
        "  W = W+ x *0.1 * error\n",
        "\n",
        "  if i %100 ==99:\n",
        "    print(\"{}\\t{}\\t{}\".format(i+1, error, output))"
      ],
      "execution_count": null,
      "outputs": [
        {
          "output_type": "stream",
          "name": "stdout",
          "text": [
            "100\t[[0.02982008]]\t[[0.9701799]]\n",
            "200\t[[0.01517344]]\t[[0.98482656]]\n",
            "300\t[[0.01015091]]\t[[0.9898491]]\n",
            "400\t[[0.00762069]]\t[[0.9923793]]\n",
            "500\t[[0.00609815]]\t[[0.99390185]]\n",
            "600\t[[0.00508183]]\t[[0.99491817]]\n",
            "700\t[[0.00435543]]\t[[0.99564457]]\n",
            "800\t[[0.00381047]]\t[[0.99618953]]\n",
            "900\t[[0.00338656]]\t[[0.99661344]]\n",
            "1000\t[[0.00304747]]\t[[0.99695253]]\n"
          ]
        }
      ]
    },
    {
      "cell_type": "code",
      "metadata": {
        "id": "X7rw7DAxbCcu",
        "colab": {
          "base_uri": "https://localhost:8080/"
        },
        "outputId": "52dcabb7-6fee-40ce-8025-f1db27a39067"
      },
      "source": [
        "x = tf.random.normal((1,3), 0,1)\n",
        "weights = tf.random.normal((1,3),0,1)\n",
        "bias = tf.zeros((1,1))\n",
        "\n",
        "y = tf.ones((1,))\n",
        "\n",
        "print(\"x\\t: {}\\nweights\\t: {}\\nbias\\t: {}\".format(x,weights, bias))"
      ],
      "execution_count": null,
      "outputs": [
        {
          "output_type": "stream",
          "name": "stdout",
          "text": [
            "x\t: [[-0.3921007   0.12983103 -0.03155931]]\n",
            "weights\t: [[-0.28760114 -1.0086676   0.30200416]]\n",
            "bias\t: [[0.]]\n"
          ]
        }
      ]
    },
    {
      "cell_type": "code",
      "metadata": {
        "id": "Of-hjiq1pKF2",
        "colab": {
          "base_uri": "https://localhost:8080/"
        },
        "outputId": "a566ae7f-36a6-4028-fca3-3a7967cf2b3d"
      },
      "source": [
        "for i in range(1000):\n",
        "  output  = Neuron2(x, weights, bias = bias)\n",
        "  error = y - output\n",
        "  weights = weights + x * 0.1 *error\n",
        "  bias = bias + 1 * 0.1 * error\n",
        "\n",
        "  if i %100 ==99:\n",
        "    print(\"{}\\t{}\\t{}\".format(i+1, error, output))"
      ],
      "execution_count": null,
      "outputs": [
        {
          "output_type": "stream",
          "name": "stdout",
          "text": [
            "100\t[[0.08839256]]\t[[0.91160744]]\n",
            "200\t[[0.04475915]]\t[[0.95524085]]\n",
            "300\t[[0.02971202]]\t[[0.970288]]\n",
            "400\t[[0.02217823]]\t[[0.97782177]]\n",
            "500\t[[0.01767194]]\t[[0.98232806]]\n",
            "600\t[[0.0146789]]\t[[0.9853211]]\n",
            "700\t[[0.01254839]]\t[[0.9874516]]\n",
            "800\t[[0.01095557]]\t[[0.9890444]]\n",
            "900\t[[0.00972003]]\t[[0.99028]]\n",
            "1000\t[[0.00873405]]\t[[0.99126595]]\n"
          ]
        }
      ]
    },
    {
      "cell_type": "code",
      "metadata": {
        "id": "KHVs1hALZ_bA",
        "colab": {
          "base_uri": "https://localhost:8080/"
        },
        "outputId": "7172d955-5520-41bb-faa5-841f60cc4c82"
      },
      "source": [
        "print(\"x\\t: {}\\nweights\\t: {}\\nbias\\t: {}\".format(x,weights, bias))"
      ],
      "execution_count": null,
      "outputs": [
        {
          "output_type": "stream",
          "name": "stdout",
          "text": [
            "x\t: [[-0.3921007   0.12983103 -0.03155931]]\n",
            "weights\t: [[-1.8808061  -0.4811311   0.17377074]]\n",
            "bias\t: [[4.0632577]]\n"
          ]
        }
      ]
    },
    {
      "cell_type": "markdown",
      "metadata": {
        "id": "LQ-syOVwfjB9"
      },
      "source": [
        "### AND Gate"
      ]
    },
    {
      "cell_type": "code",
      "metadata": {
        "id": "HyRma3NorTRs",
        "colab": {
          "base_uri": "https://localhost:8080/"
        },
        "outputId": "81be285b-d844-4a50-f2cf-44b4875879a2"
      },
      "source": [
        "X = np.array([[1,1],[1,0],[0,1],[0,0]])\n",
        "Y = np.array([[1],[0],[0],[0]])\n",
        "\n",
        "W = tf.random.normal([2], 0,1)\n",
        "b = tf.random.normal([1], 0, 1)\n",
        "b_x = 1\n",
        "\n",
        "for i in range(2000):\n",
        "  error_sum = 0\n",
        "\n",
        "  for j in range(4):\n",
        "    output = sigmoid(np.sum(X[j] * W) +b_x +b)\n",
        "    error =  Y[j][0] - output\n",
        "    W = W + X[j] * 0.1 * error\n",
        "    b = b+b_x * 0.1 * error\n",
        "    error_sum += error\n",
        "\n",
        "  if i %200 == 0:\n",
        "    print(\"Epoch {:4d}\\tError Sum {}\".format(i, error_sum))\n",
        "\n",
        "print(\"\\n가중치\\t : {}\".format(W))\n",
        "print(\"편향\\t : {}\".format(b))"
      ],
      "execution_count": null,
      "outputs": [
        {
          "output_type": "stream",
          "name": "stdout",
          "text": [
            "Epoch    0\tError Sum [-2.7586658]\n",
            "Epoch  200\tError Sum [-0.11597954]\n",
            "Epoch  400\tError Sum [-0.06765724]\n",
            "Epoch  600\tError Sum [-0.04766671]\n",
            "Epoch  800\tError Sum [-0.03668585]\n",
            "Epoch 1000\tError Sum [-0.02975941]\n",
            "Epoch 1200\tError Sum [-0.02500433]\n",
            "Epoch 1400\tError Sum [-0.02154209]\n",
            "Epoch 1600\tError Sum [-0.01891285]\n",
            "Epoch 1800\tError Sum [-0.01684745]\n",
            "\n",
            "가중치\t : [6.9579716 6.961141 ]\n",
            "편향\t : [-11.616116]\n"
          ]
        }
      ]
    },
    {
      "cell_type": "code",
      "metadata": {
        "id": "OylWtem2stH0",
        "colab": {
          "base_uri": "https://localhost:8080/"
        },
        "outputId": "1a540289-6a10-4e21-b721-1610cd7e6f95"
      },
      "source": [
        "for i in range(4):\n",
        "  print(\"x: {} y : {} output : {}\".format(X[i],Y[i], sigmoid(np.sum(X[i] * W) +b)))"
      ],
      "execution_count": null,
      "outputs": [
        {
          "output_type": "stream",
          "name": "stdout",
          "text": [
            "x: [1 1] y : [1] output : [0.91051316]\n",
            "x: [1 0] y : [0] output : [0.00924179]\n",
            "x: [0 1] y : [0] output : [0.00927027]\n",
            "x: [0 0] y : [0] output : [8.578167e-06]\n"
          ]
        }
      ]
    },
    {
      "cell_type": "markdown",
      "metadata": {
        "id": "pADtZrsagJ64"
      },
      "source": [
        "### OR Gate"
      ]
    },
    {
      "cell_type": "code",
      "metadata": {
        "id": "X1drqmeNuxIU",
        "colab": {
          "base_uri": "https://localhost:8080/"
        },
        "outputId": "98662e7c-2f2a-4c75-a101-25cbff6ccdfc"
      },
      "source": [
        "X2 = np.array([[1,1],[1,0],[0,1],[0,0]])\n",
        "Y2 = np.array([[1],[1],[1],[0]])\n",
        "\n",
        "W2 = tf.random.normal([2], 0,1)\n",
        "b2 = tf.random.normal([1], 0, 1)\n",
        "b_x = 1\n",
        "\n",
        "for i in range(2000):\n",
        "  error_sum = 0\n",
        "\n",
        "  for j in range(4):\n",
        "    output = sigmoid(np.sum(X2[j] * W2) +b_x +b2)\n",
        "    error =  Y2[j][0] - output\n",
        "    W2 = W2 + X2[j] * 0.1 * error\n",
        "    b2= b2+b_x * 0.1 * error\n",
        "    error_sum += error\n",
        "\n",
        "  if i %200 == 0:\n",
        "    print(\"Epoch {:4d}\\tError Sum {}\".format(i, error_sum))\n",
        "\n",
        "print(\"\\n가중치\\t : {}\".format(W2))\n",
        "print(\"편향\\t : {}\".format(b2))"
      ],
      "execution_count": null,
      "outputs": [
        {
          "output_type": "stream",
          "name": "stdout",
          "text": [
            "Epoch    0\tError Sum [0.57750285]\n",
            "Epoch  200\tError Sum [-0.05237524]\n",
            "Epoch  400\tError Sum [-0.02657987]\n",
            "Epoch  600\tError Sum [-0.01771331]\n",
            "Epoch  800\tError Sum [-0.01323605]\n",
            "Epoch 1000\tError Sum [-0.01054573]\n",
            "Epoch 1200\tError Sum [-0.00875514]\n",
            "Epoch 1400\tError Sum [-0.00747958]\n",
            "Epoch 1600\tError Sum [-0.00652513]\n",
            "Epoch 1800\tError Sum [-0.00578556]\n",
            "\n",
            "가중치\t : [8.198356 8.194544]\n",
            "편향\t : [-4.632627]\n"
          ]
        }
      ]
    },
    {
      "cell_type": "code",
      "metadata": {
        "id": "FGG4_ZXGgLNd",
        "colab": {
          "base_uri": "https://localhost:8080/"
        },
        "outputId": "9a7c5435-7e09-465a-eb1f-35f403566ae5"
      },
      "source": [
        "for i in range(4):\n",
        "  print(\"x: {} y : {} output : {}\".format(X2[i],Y2[i], sigmoid(np.sum(X2[i] * W2) +b2)))"
      ],
      "execution_count": null,
      "outputs": [
        {
          "output_type": "stream",
          "name": "stdout",
          "text": [
            "x: [1 1] y : [1] output : [0.99999213]\n",
            "x: [1 0] y : [1] output : [0.9725012]\n",
            "x: [0 1] y : [1] output : [0.9723991]\n",
            "x: [0 0] y : [0] output : [0.00963542]\n"
          ]
        }
      ]
    },
    {
      "cell_type": "markdown",
      "metadata": {
        "id": "IQyeNLdagPw1"
      },
      "source": [
        "### XOR Gate"
      ]
    },
    {
      "cell_type": "code",
      "metadata": {
        "id": "W-BYPnNBgNd9",
        "colab": {
          "base_uri": "https://localhost:8080/"
        },
        "outputId": "2fd3d0b6-30f3-4ddb-99af-c5664cc0b4ec"
      },
      "source": [
        "X3 = np.array([[1,1],[1,0],[0,1],[0,0]])\n",
        "Y3 = np.array([[0],[1],[1],[0]])\n",
        "\n",
        "W3 = tf.random.normal([2], 0,1)\n",
        "b3 = tf.random.normal([1], 0, 1)\n",
        "b_x = 1\n",
        "\n",
        "for i in range(2000):\n",
        "  error_sum = 0\n",
        "\n",
        "  for j in range(4):\n",
        "    output = sigmoid(np.sum(X3[j] * W3) +b_x +b3)\n",
        "    error =  Y3[j][0] - output\n",
        "    W3 = W3 + X3[j] * 0.1 * error\n",
        "    b3= b3+b_x * 0.1 * error\n",
        "    error_sum += error\n",
        "\n",
        "  if i %200 == 0:\n",
        "    print(\"Epoch {:4d}\\tError Sum {}\".format(i, error_sum))\n",
        "\n",
        "print(\"\\n가중치\\t : {}\".format(W3))\n",
        "print(\"편향\\t : {}\".format(b3))"
      ],
      "execution_count": null,
      "outputs": [
        {
          "output_type": "stream",
          "name": "stdout",
          "text": [
            "Epoch    0\tError Sum [0.07627288]\n",
            "Epoch  200\tError Sum [0.00488853]\n",
            "Epoch  400\tError Sum [0.00019866]\n",
            "Epoch  600\tError Sum [8.106232e-06]\n",
            "Epoch  800\tError Sum [4.7683716e-07]\n",
            "Epoch 1000\tError Sum [5.364418e-07]\n",
            "Epoch 1200\tError Sum [5.364418e-07]\n",
            "Epoch 1400\tError Sum [5.364418e-07]\n",
            "Epoch 1600\tError Sum [5.364418e-07]\n",
            "Epoch 1800\tError Sum [5.364418e-07]\n",
            "\n",
            "가중치\t : [5.1282953e-02 1.1697412e-06]\n",
            "편향\t : [-1.0000018]\n"
          ]
        }
      ]
    },
    {
      "cell_type": "code",
      "metadata": {
        "id": "z1EWz3N5gRfH",
        "colab": {
          "base_uri": "https://localhost:8080/"
        },
        "outputId": "dbbbc9a3-689d-422a-d292-2965c51a0810"
      },
      "source": [
        "for i in range(4):\n",
        "  print(\"x: {} y : {} output : {}\".format(X2[i],Y2[i], sigmoid(np.sum(X3[i] * W3) +b3)))"
      ],
      "execution_count": null,
      "outputs": [
        {
          "output_type": "stream",
          "name": "stdout",
          "text": [
            "x: [1 1] y : [1] output : [0.2791428]\n",
            "x: [1 0] y : [1] output : [0.27914253]\n",
            "x: [0 1] y : [1] output : [0.2689413]\n",
            "x: [0 0] y : [0] output : [0.26894107]\n"
          ]
        }
      ]
    },
    {
      "cell_type": "code",
      "metadata": {
        "id": "duXh8GGkgUET",
        "colab": {
          "base_uri": "https://localhost:8080/"
        },
        "outputId": "21fee6ae-9e7c-4ea5-d230-d4d95b5945d2"
      },
      "source": [
        "from tensorflow.keras import Sequential\n",
        "from tensorflow.keras.layers import Dense\n",
        "\n",
        "np.random.seed(111)\n",
        "\n",
        "X4 = np.array([[1,1],[1,0],[0,1],[0,0]])\n",
        "Y4 = np.array([[0],[1],[1],[0]])\n",
        "\n",
        "model = Sequential([Dense(units = 2, activation = 'sigmoid', input_shape=(2,)),\n",
        "                    Dense(units = 1, activation = 'sigmoid')])\n",
        "model.compile(optimizer = tf.keras.optimizers.SGD(lr = 0.1), loss= 'mse')\n",
        "\n",
        "model.summary()"
      ],
      "execution_count": null,
      "outputs": [
        {
          "output_type": "stream",
          "name": "stdout",
          "text": [
            "Model: \"sequential_2\"\n",
            "_________________________________________________________________\n",
            " Layer (type)                Output Shape              Param #   \n",
            "=================================================================\n",
            " dense_6 (Dense)             (None, 2)                 6         \n",
            "                                                                 \n",
            " dense_7 (Dense)             (None, 1)                 3         \n",
            "                                                                 \n",
            "=================================================================\n",
            "Total params: 9\n",
            "Trainable params: 9\n",
            "Non-trainable params: 0\n",
            "_________________________________________________________________\n"
          ]
        }
      ]
    },
    {
      "cell_type": "code",
      "metadata": {
        "id": "HYf3E6w6gV3z"
      },
      "source": [
        "history = model.fit(X4, Y4, epochs = 2000, batch_size = 1, verbose =0)"
      ],
      "execution_count": null,
      "outputs": []
    },
    {
      "cell_type": "code",
      "metadata": {
        "id": "0ZuQIfAZgXzD",
        "colab": {
          "base_uri": "https://localhost:8080/"
        },
        "outputId": "dd877c5a-2172-4dd1-92ad-10ab11633a8b"
      },
      "source": [
        "model.predict(X4)"
      ],
      "execution_count": null,
      "outputs": [
        {
          "output_type": "stream",
          "name": "stdout",
          "text": [
            "1/1 [==============================] - 0s 40ms/step\n"
          ]
        },
        {
          "output_type": "execute_result",
          "data": {
            "text/plain": [
              "array([[0.15354694],\n",
              "       [0.8645051 ],\n",
              "       [0.86433876],\n",
              "       [0.13442558]], dtype=float32)"
            ]
          },
          "metadata": {},
          "execution_count": 86
        }
      ]
    },
    {
      "cell_type": "markdown",
      "metadata": {
        "id": "NgHTUlX68Fyk"
      },
      "source": [
        "## 시각화 사용"
      ]
    },
    {
      "cell_type": "code",
      "metadata": {
        "id": "a8azIYHQ8H16",
        "colab": {
          "base_uri": "https://localhost:8080/",
          "height": 265
        },
        "outputId": "88ce11db-4b06-4e93-d7da-dc481f10837f"
      },
      "source": [
        "import matplotlib.pyplot as plt\n",
        "#plt.style.use('seaborn = white')\n",
        "\n",
        "x = range(50)\n",
        "y = tf.random.normal([50],0,1)\n",
        "plt.plot(x, y)\n",
        "plt.show()"
      ],
      "execution_count": null,
      "outputs": [
        {
          "output_type": "display_data",
          "data": {
            "text/plain": [
              "<Figure size 432x288 with 1 Axes>"
            ],
            "image/png": "[encoded data removed]"
          },
          "metadata": {
            "needs_background": "light"
          }
        }
      ]
    },
    {
      "cell_type": "code",
      "metadata": {
        "id": "hX-S0ZvF8Hq6",
        "colab": {
          "base_uri": "https://localhost:8080/",
          "height": 265
        },
        "outputId": "4d83f365-7fd5-4299-8655-f54541ff1e3e"
      },
      "source": [
        "x = range(50)\n",
        "y = tf.random.normal([50],0,1)\n",
        "plt.plot(x, y, 'ro')\n",
        "plt.show()"
      ],
      "execution_count": null,
      "outputs": [
        {
          "output_type": "display_data",
          "data": {
            "text/plain": [
              "<Figure size 432x288 with 1 Axes>"
            ],
            "image/png": "[encoded data removed]"
          },
          "metadata": {
            "needs_background": "light"
          }
        }
      ]
    },
    {
      "cell_type": "code",
      "metadata": {
        "id": "2teBa4878XEI",
        "colab": {
          "base_uri": "https://localhost:8080/",
          "height": 265
        },
        "outputId": "ddd96cb4-ca7f-41c8-e216-e38afeab209e"
      },
      "source": [
        "x = range(30)\n",
        "y = tf.random.normal([30],0,1)\n",
        "plt.plot(x, y,'g-')\n",
        "plt.show()"
      ],
      "execution_count": null,
      "outputs": [
        {
          "output_type": "display_data",
          "data": {
            "text/plain": [
              "<Figure size 432x288 with 1 Axes>"
            ],
            "image/png": "[encoded data removed]"
          },
          "metadata": {
            "needs_background": "light"
          }
        }
      ]
    },
    {
      "cell_type": "code",
      "metadata": {
        "id": "43W0ygJj8XA1",
        "colab": {
          "base_uri": "https://localhost:8080/",
          "height": 265
        },
        "outputId": "bd6d76b5-1767-48b7-d7a0-2020e94c355f"
      },
      "source": [
        "x = range(30)\n",
        "y = tf.random.normal([30],0,1)\n",
        "plt.plot(x, y,'b--')\n",
        "plt.show()"
      ],
      "execution_count": null,
      "outputs": [
        {
          "output_type": "display_data",
          "data": {
            "text/plain": [
              "<Figure size 432x288 with 1 Axes>"
            ],
            "image/png": "[encoded data removed]"
          },
          "metadata": {
            "needs_background": "light"
          }
        }
      ]
    },
    {
      "cell_type": "code",
      "metadata": {
        "id": "HkF8DN5a8fWR",
        "colab": {
          "base_uri": "https://localhost:8080/",
          "height": 265
        },
        "outputId": "dcab7647-2a05-4113-8282-f84178bbe083"
      },
      "source": [
        "random_normal = tf.random.normal([10000],0,1)\n",
        "plt.hist(random_normal, bins = 100)\n",
        "plt.show()"
      ],
      "execution_count": null,
      "outputs": [
        {
          "output_type": "display_data",
          "data": {
            "text/plain": [
              "<Figure size 432x288 with 1 Axes>"
            ],
            "image/png": "[encoded data removed]"
          },
          "metadata": {
            "needs_background": "light"
          }
        }
      ]
    },
    {
      "cell_type": "markdown",
      "metadata": {
        "id": "aL-QTl5Q8mdB"
      },
      "source": [
        "### XOR Gate의 'LOSS' 시각화\n"
      ]
    },
    {
      "cell_type": "code",
      "metadata": {
        "id": "vs8dlY1o8iby",
        "colab": {
          "base_uri": "https://localhost:8080/",
          "height": 283
        },
        "outputId": "9c2bc19e-2bee-4754-efb7-e6f55cd41b8d"
      },
      "source": [
        "plt.plot(history.history['loss'])"
      ],
      "execution_count": null,
      "outputs": [
        {
          "output_type": "execute_result",
          "data": {
            "text/plain": [
              "[<matplotlib.lines.Line2D at 0x7fdff1fdc4d0>]"
            ]
          },
          "metadata": {},
          "execution_count": 95
        },
        {
          "output_type": "display_data",
          "data": {
            "text/plain": [
              "<Figure size 432x288 with 1 Axes>"
            ],
            "image/png": "[encoded data removed]"
          },
          "metadata": {
            "needs_background": "light"
          }
        }
      ]
    }
  ]
}