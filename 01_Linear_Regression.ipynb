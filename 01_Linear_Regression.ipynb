{
  "cells": [
    {
      "cell_type": "markdown",
      "metadata": {
        "id": "view-in-github",
        "colab_type": "text"
      },
      "source": [
        "<a href=\"https://colab.research.google.com/github/hyunwjang/deep/blob/main/01_Linear_Regression.ipynb\" target=\"_parent\"><img src=\"https://colab.research.google.com/assets/colab-badge.svg\" alt=\"Open In Colab\"/></a>"
      ]
    },
    {
      "cell_type": "markdown",
      "id": "61576722",
      "metadata": {
        "id": "61576722"
      },
      "source": [
        "# 1. Linear Regression\n",
        "### 공부 시간에 따른 시험 점수"
      ]
    },
    {
      "cell_type": "code",
      "execution_count": null,
      "id": "76d88aff",
      "metadata": {
        "id": "76d88aff"
      },
      "outputs": [],
      "source": [
        "import matplotlib.pyplot as plt\n",
        "import pandas as pd"
      ]
    },
    {
      "cell_type": "code",
      "execution_count": null,
      "id": "13fdabe8",
      "metadata": {
        "id": "13fdabe8"
      },
      "outputs": [],
      "source": [
        "dataset = pd.read_csv('/content/drive/MyDrive/나도코딩/ScikitLearn/LinearRegressionData.csv')"
      ]
    },
    {
      "cell_type": "code",
      "source": [
        "from google.colab import drive\n",
        "drive.mount('/content/drive')"
      ],
      "metadata": {
        "colab": {
          "base_uri": "https://localhost:8080/"
        },
        "id": "Bv4CR79zOuBW",
        "outputId": "43f21735-81c3-44e0-8522-b5db6fe97b12"
      },
      "id": "Bv4CR79zOuBW",
      "execution_count": null,
      "outputs": [
        {
          "output_type": "stream",
          "name": "stdout",
          "text": [
            "Mounted at /content/drive\n"
          ]
        }
      ]
    },
    {
      "cell_type": "code",
      "execution_count": null,
      "id": "bd020893",
      "metadata": {
        "id": "bd020893",
        "outputId": "35c63187-4676-4795-83b2-86ce377eb0d3",
        "colab": {
          "base_uri": "https://localhost:8080/",
          "height": 206
        }
      },
      "outputs": [
        {
          "output_type": "execute_result",
          "data": {
            "text/plain": [
              "   hour  score\n",
              "0   0.5     10\n",
              "1   1.2      8\n",
              "2   1.8     14\n",
              "3   2.4     26\n",
              "4   2.6     22"
            ],
            "text/html": [
              "\n",
              "  <div id=\"df-3167457f-888b-4b6c-bfbc-318acdfafd83\">\n",
              "    <div class=\"colab-df-container\">\n",
              "      <div>\n",
              "<style scoped>\n",
              "    .dataframe tbody tr th:only-of-type {\n",
              "        vertical-align: middle;\n",
              "    }\n",
              "\n",
              "    .dataframe tbody tr th {\n",
              "        vertical-align: top;\n",
              "    }\n",
              "\n",
              "    .dataframe thead th {\n",
              "        text-align: right;\n",
              "    }\n",
              "</style>\n",
              "<table border=\"1\" class=\"dataframe\">\n",
              "  <thead>\n",
              "    <tr style=\"text-align: right;\">\n",
              "      <th></th>\n",
              "      <th>hour</th>\n",
              "      <th>score</th>\n",
              "    </tr>\n",
              "  </thead>\n",
              "  <tbody>\n",
              "    <tr>\n",
              "      <th>0</th>\n",
              "      <td>0.5</td>\n",
              "      <td>10</td>\n",
              "    </tr>\n",
              "    <tr>\n",
              "      <th>1</th>\n",
              "      <td>1.2</td>\n",
              "      <td>8</td>\n",
              "    </tr>\n",
              "    <tr>\n",
              "      <th>2</th>\n",
              "      <td>1.8</td>\n",
              "      <td>14</td>\n",
              "    </tr>\n",
              "    <tr>\n",
              "      <th>3</th>\n",
              "      <td>2.4</td>\n",
              "      <td>26</td>\n",
              "    </tr>\n",
              "    <tr>\n",
              "      <th>4</th>\n",
              "      <td>2.6</td>\n",
              "      <td>22</td>\n",
              "    </tr>\n",
              "  </tbody>\n",
              "</table>\n",
              "</div>\n",
              "      <button class=\"colab-df-convert\" onclick=\"convertToInteractive('df-3167457f-888b-4b6c-bfbc-318acdfafd83')\"\n",
              "              title=\"Convert this dataframe to an interactive table.\"\n",
              "              style=\"display:none;\">\n",
              "        \n",
              "  <svg xmlns=\"http://www.w3.org/2000/svg\" height=\"24px\"viewBox=\"0 0 24 24\"\n",
              "       width=\"24px\">\n",
              "    <path d=\"M0 0h24v24H0V0z\" fill=\"none\"/>\n",
              "    <path d=\"M18.56 5.44l.94 2.06.94-2.06 2.06-.94-2.06-.94-.94-2.06-.94 2.06-2.06.94zm-11 1L8.5 8.5l.94-2.06 2.06-.94-2.06-.94L8.5 2.5l-.94 2.06-2.06.94zm10 10l.94 2.06.94-2.06 2.06-.94-2.06-.94-.94-2.06-.94 2.06-2.06.94z\"/><path d=\"M17.41 7.96l-1.37-1.37c-.4-.4-.92-.59-1.43-.59-.52 0-1.04.2-1.43.59L10.3 9.45l-7.72 7.72c-.78.78-.78 2.05 0 2.83L4 21.41c.39.39.9.59 1.41.59.51 0 1.02-.2 1.41-.59l7.78-7.78 2.81-2.81c.8-.78.8-2.07 0-2.86zM5.41 20L4 18.59l7.72-7.72 1.47 1.35L5.41 20z\"/>\n",
              "  </svg>\n",
              "      </button>\n",
              "      \n",
              "  <style>\n",
              "    .colab-df-container {\n",
              "      display:flex;\n",
              "      flex-wrap:wrap;\n",
              "      gap: 12px;\n",
              "    }\n",
              "\n",
              "    .colab-df-convert {\n",
              "      background-color: #E8F0FE;\n",
              "      border: none;\n",
              "      border-radius: 50%;\n",
              "      cursor: pointer;\n",
              "      display: none;\n",
              "      fill: #1967D2;\n",
              "      height: 32px;\n",
              "      padding: 0 0 0 0;\n",
              "      width: 32px;\n",
              "    }\n",
              "\n",
              "    .colab-df-convert:hover {\n",
              "      background-color: #E2EBFA;\n",
              "      box-shadow: 0px 1px 2px rgba(60, 64, 67, 0.3), 0px 1px 3px 1px rgba(60, 64, 67, 0.15);\n",
              "      fill: #174EA6;\n",
              "    }\n",
              "\n",
              "    [theme=dark] .colab-df-convert {\n",
              "      background-color: #3B4455;\n",
              "      fill: #D2E3FC;\n",
              "    }\n",
              "\n",
              "    [theme=dark] .colab-df-convert:hover {\n",
              "      background-color: #434B5C;\n",
              "      box-shadow: 0px 1px 3px 1px rgba(0, 0, 0, 0.15);\n",
              "      filter: drop-shadow(0px 1px 2px rgba(0, 0, 0, 0.3));\n",
              "      fill: #FFFFFF;\n",
              "    }\n",
              "  </style>\n",
              "\n",
              "      <script>\n",
              "        const buttonEl =\n",
              "          document.querySelector('#df-3167457f-888b-4b6c-bfbc-318acdfafd83 button.colab-df-convert');\n",
              "        buttonEl.style.display =\n",
              "          google.colab.kernel.accessAllowed ? 'block' : 'none';\n",
              "\n",
              "        async function convertToInteractive(key) {\n",
              "          const element = document.querySelector('#df-3167457f-888b-4b6c-bfbc-318acdfafd83');\n",
              "          const dataTable =\n",
              "            await google.colab.kernel.invokeFunction('convertToInteractive',\n",
              "                                                     [key], {});\n",
              "          if (!dataTable) return;\n",
              "\n",
              "          const docLinkHtml = 'Like what you see? Visit the ' +\n",
              "            '<a target=\"_blank\" href=https://colab.research.google.com/notebooks/data_table.ipynb>data table notebook</a>'\n",
              "            + ' to learn more about interactive tables.';\n",
              "          element.innerHTML = '';\n",
              "          dataTable['output_type'] = 'display_data';\n",
              "          await google.colab.output.renderOutput(dataTable, element);\n",
              "          const docLink = document.createElement('div');\n",
              "          docLink.innerHTML = docLinkHtml;\n",
              "          element.appendChild(docLink);\n",
              "        }\n",
              "      </script>\n",
              "    </div>\n",
              "  </div>\n",
              "  "
            ]
          },
          "metadata": {},
          "execution_count": 6
        }
      ],
      "source": [
        "dataset.head()"
      ]
    },
    {
      "cell_type": "code",
      "execution_count": null,
      "id": "e711a2e8",
      "metadata": {
        "id": "e711a2e8"
      },
      "outputs": [],
      "source": [
        "X = dataset.iloc[:, :-1].values # 처음부터 마지막 컬럼 직전까지의 데이터 (독립 변수 - 원인)\n",
        "y = dataset.iloc[:, -1].values # 마지막 컬럼 데이터 (종속 변수 - 결과)"
      ]
    },
    {
      "cell_type": "code",
      "execution_count": null,
      "id": "ef7c870e",
      "metadata": {
        "id": "ef7c870e",
        "outputId": "0e565df0-a43f-446b-a071-65f81fc388d2",
        "colab": {
          "base_uri": "https://localhost:8080/"
        }
      },
      "outputs": [
        {
          "output_type": "execute_result",
          "data": {
            "text/plain": [
              "(array([[ 0.5],\n",
              "        [ 1.2],\n",
              "        [ 1.8],\n",
              "        [ 2.4],\n",
              "        [ 2.6],\n",
              "        [ 3.2],\n",
              "        [ 3.9],\n",
              "        [ 4.4],\n",
              "        [ 4.5],\n",
              "        [ 5. ],\n",
              "        [ 5.3],\n",
              "        [ 5.8],\n",
              "        [ 6. ],\n",
              "        [ 6.1],\n",
              "        [ 6.2],\n",
              "        [ 6.9],\n",
              "        [ 7.2],\n",
              "        [ 8.4],\n",
              "        [ 8.6],\n",
              "        [10. ]]),\n",
              " array([ 10,   8,  14,  26,  22,  30,  42,  48,  38,  58,  60,  72,  62,\n",
              "         68,  72,  58,  76,  86,  90, 100]))"
            ]
          },
          "metadata": {},
          "execution_count": 8
        }
      ],
      "source": [
        "X, y"
      ]
    },
    {
      "cell_type": "code",
      "execution_count": null,
      "id": "3d8c324a",
      "metadata": {
        "id": "3d8c324a",
        "outputId": "80cc75f1-12f4-4856-96f9-6fda1672bef4",
        "colab": {
          "base_uri": "https://localhost:8080/"
        }
      },
      "outputs": [
        {
          "output_type": "execute_result",
          "data": {
            "text/plain": [
              "LinearRegression()"
            ]
          },
          "metadata": {},
          "execution_count": 9
        }
      ],
      "source": [
        "from sklearn.linear_model import LinearRegression\n",
        "reg = LinearRegression() # 객체 생성\n",
        "reg.fit(X, y) # 학습 (모델 생성)"
      ]
    },
    {
      "cell_type": "code",
      "source": [
        "import numpy as np\n",
        "x = np.array([9])\n",
        "x"
      ],
      "metadata": {
        "colab": {
          "base_uri": "https://localhost:8080/"
        },
        "id": "CxXpnR0lPYxl",
        "outputId": "12e637e9-eed5-4ced-f803-ed98894e441b"
      },
      "id": "CxXpnR0lPYxl",
      "execution_count": null,
      "outputs": [
        {
          "output_type": "execute_result",
          "data": {
            "text/plain": [
              "array([9])"
            ]
          },
          "metadata": {},
          "execution_count": 21
        }
      ]
    },
    {
      "cell_type": "code",
      "execution_count": null,
      "id": "786cf613",
      "metadata": {
        "id": "786cf613",
        "outputId": "84a48ff2-5cb5-49bf-9204-5e058ba9851f",
        "colab": {
          "base_uri": "https://localhost:8080/"
        }
      },
      "outputs": [
        {
          "output_type": "execute_result",
          "data": {
            "text/plain": [
              "array([105.52768566])"
            ]
          },
          "metadata": {},
          "execution_count": 57
        }
      ],
      "source": [
        "y_pred = reg.predict([[10]]) # X 에 대한 예측 값\n",
        "y_pred"
      ]
    },
    {
      "cell_type": "code",
      "execution_count": null,
      "id": "30134309",
      "metadata": {
        "id": "30134309",
        "outputId": "a8bdeb07-2a21-41bd-f0a4-9e63c8027cc5",
        "colab": {
          "base_uri": "https://localhost:8080/",
          "height": 295
        }
      },
      "outputs": [
        {
          "output_type": "display_data",
          "data": {
            "text/plain": [
              "<Figure size 432x288 with 1 Axes>"
            ],
            "image/png": "[encoded data removed]"
          },
          "metadata": {
            "needs_background": "light"
          }
        }
      ],
      "source": [
        "plt.scatter(X, y, color='blue') # 산점도\n",
        "plt.plot(X, y_pred, color='green') # 선 그래프\n",
        "plt.title('Score by hours') # 제목\n",
        "plt.xlabel('hours') # X 축 이름\n",
        "plt.ylabel('score') # Y 축 이름\n",
        "plt.show()"
      ]
    },
    {
      "cell_type": "code",
      "execution_count": null,
      "id": "e67dd863",
      "metadata": {
        "id": "e67dd863",
        "outputId": "cfc3e2b9-c359-4111-9e41-3cdd94b233a6",
        "colab": {
          "base_uri": "https://localhost:8080/"
        }
      },
      "outputs": [
        {
          "output_type": "stream",
          "name": "stdout",
          "text": [
            "9시간 공부했을 때 예상 점수 :  [93.77478776]\n"
          ]
        }
      ],
      "source": [
        "print('9시간 공부했을 때 예상 점수 : ', reg.predict([[9]])) # [[9], [8], [7]]"
      ]
    },
    {
      "cell_type": "code",
      "execution_count": null,
      "id": "215852b8",
      "metadata": {
        "id": "215852b8",
        "outputId": "ade8ff29-58de-4d3e-abec-a011980f244d",
        "colab": {
          "base_uri": "https://localhost:8080/"
        }
      },
      "outputs": [
        {
          "output_type": "execute_result",
          "data": {
            "text/plain": [
              "array([10.44369694])"
            ]
          },
          "metadata": {},
          "execution_count": 26
        }
      ],
      "source": [
        "reg.coef_ # 기울기 (m)"
      ]
    },
    {
      "cell_type": "code",
      "execution_count": null,
      "id": "91615e64",
      "metadata": {
        "id": "91615e64",
        "outputId": "03ee3ce0-9e6e-41f2-e1da-48d6b19a29f0",
        "colab": {
          "base_uri": "https://localhost:8080/"
        }
      },
      "outputs": [
        {
          "output_type": "execute_result",
          "data": {
            "text/plain": [
              "-0.218484702867201"
            ]
          },
          "metadata": {},
          "execution_count": 27
        }
      ],
      "source": [
        "reg.intercept_ # y 절편 (b)"
      ]
    },
    {
      "cell_type": "markdown",
      "id": "e7f20030",
      "metadata": {
        "id": "e7f20030"
      },
      "source": [
        "y = mx + b  -> y = 10.4436x - 0.2184"
      ]
    },
    {
      "cell_type": "markdown",
      "id": "44d88248",
      "metadata": {
        "id": "44d88248"
      },
      "source": [
        "### 데이터 세트 분리"
      ]
    },
    {
      "cell_type": "code",
      "execution_count": null,
      "id": "955e40a5",
      "metadata": {
        "id": "955e40a5"
      },
      "outputs": [],
      "source": [
        "import matplotlib.pyplot as plt\n",
        "import pandas as pd"
      ]
    },
    {
      "cell_type": "code",
      "execution_count": null,
      "id": "4f50aca6",
      "metadata": {
        "id": "4f50aca6",
        "outputId": "c740c448-2174-4775-9590-68ce54c507b4",
        "colab": {
          "base_uri": "https://localhost:8080/",
          "height": 677
        }
      },
      "outputs": [
        {
          "output_type": "execute_result",
          "data": {
            "text/plain": [
              "    hour  score\n",
              "0    0.5     10\n",
              "1    1.2      8\n",
              "2    1.8     14\n",
              "3    2.4     26\n",
              "4    2.6     22\n",
              "5    3.2     30\n",
              "6    3.9     42\n",
              "7    4.4     48\n",
              "8    4.5     38\n",
              "9    5.0     58\n",
              "10   5.3     60\n",
              "11   5.8     72\n",
              "12   6.0     62\n",
              "13   6.1     68\n",
              "14   6.2     72\n",
              "15   6.9     58\n",
              "16   7.2     76\n",
              "17   8.4     86\n",
              "18   8.6     90\n",
              "19  10.0    100"
            ],
            "text/html": [
              "\n",
              "  <div id=\"df-0fb8772e-48a6-4f9a-ad39-e0b71e62a8dd\">\n",
              "    <div class=\"colab-df-container\">\n",
              "      <div>\n",
              "<style scoped>\n",
              "    .dataframe tbody tr th:only-of-type {\n",
              "        vertical-align: middle;\n",
              "    }\n",
              "\n",
              "    .dataframe tbody tr th {\n",
              "        vertical-align: top;\n",
              "    }\n",
              "\n",
              "    .dataframe thead th {\n",
              "        text-align: right;\n",
              "    }\n",
              "</style>\n",
              "<table border=\"1\" class=\"dataframe\">\n",
              "  <thead>\n",
              "    <tr style=\"text-align: right;\">\n",
              "      <th></th>\n",
              "      <th>hour</th>\n",
              "      <th>score</th>\n",
              "    </tr>\n",
              "  </thead>\n",
              "  <tbody>\n",
              "    <tr>\n",
              "      <th>0</th>\n",
              "      <td>0.5</td>\n",
              "      <td>10</td>\n",
              "    </tr>\n",
              "    <tr>\n",
              "      <th>1</th>\n",
              "      <td>1.2</td>\n",
              "      <td>8</td>\n",
              "    </tr>\n",
              "    <tr>\n",
              "      <th>2</th>\n",
              "      <td>1.8</td>\n",
              "      <td>14</td>\n",
              "    </tr>\n",
              "    <tr>\n",
              "      <th>3</th>\n",
              "      <td>2.4</td>\n",
              "      <td>26</td>\n",
              "    </tr>\n",
              "    <tr>\n",
              "      <th>4</th>\n",
              "      <td>2.6</td>\n",
              "      <td>22</td>\n",
              "    </tr>\n",
              "    <tr>\n",
              "      <th>5</th>\n",
              "      <td>3.2</td>\n",
              "      <td>30</td>\n",
              "    </tr>\n",
              "    <tr>\n",
              "      <th>6</th>\n",
              "      <td>3.9</td>\n",
              "      <td>42</td>\n",
              "    </tr>\n",
              "    <tr>\n",
              "      <th>7</th>\n",
              "      <td>4.4</td>\n",
              "      <td>48</td>\n",
              "    </tr>\n",
              "    <tr>\n",
              "      <th>8</th>\n",
              "      <td>4.5</td>\n",
              "      <td>38</td>\n",
              "    </tr>\n",
              "    <tr>\n",
              "      <th>9</th>\n",
              "      <td>5.0</td>\n",
              "      <td>58</td>\n",
              "    </tr>\n",
              "    <tr>\n",
              "      <th>10</th>\n",
              "      <td>5.3</td>\n",
              "      <td>60</td>\n",
              "    </tr>\n",
              "    <tr>\n",
              "      <th>11</th>\n",
              "      <td>5.8</td>\n",
              "      <td>72</td>\n",
              "    </tr>\n",
              "    <tr>\n",
              "      <th>12</th>\n",
              "      <td>6.0</td>\n",
              "      <td>62</td>\n",
              "    </tr>\n",
              "    <tr>\n",
              "      <th>13</th>\n",
              "      <td>6.1</td>\n",
              "      <td>68</td>\n",
              "    </tr>\n",
              "    <tr>\n",
              "      <th>14</th>\n",
              "      <td>6.2</td>\n",
              "      <td>72</td>\n",
              "    </tr>\n",
              "    <tr>\n",
              "      <th>15</th>\n",
              "      <td>6.9</td>\n",
              "      <td>58</td>\n",
              "    </tr>\n",
              "    <tr>\n",
              "      <th>16</th>\n",
              "      <td>7.2</td>\n",
              "      <td>76</td>\n",
              "    </tr>\n",
              "    <tr>\n",
              "      <th>17</th>\n",
              "      <td>8.4</td>\n",
              "      <td>86</td>\n",
              "    </tr>\n",
              "    <tr>\n",
              "      <th>18</th>\n",
              "      <td>8.6</td>\n",
              "      <td>90</td>\n",
              "    </tr>\n",
              "    <tr>\n",
              "      <th>19</th>\n",
              "      <td>10.0</td>\n",
              "      <td>100</td>\n",
              "    </tr>\n",
              "  </tbody>\n",
              "</table>\n",
              "</div>\n",
              "      <button class=\"colab-df-convert\" onclick=\"convertToInteractive('df-0fb8772e-48a6-4f9a-ad39-e0b71e62a8dd')\"\n",
              "              title=\"Convert this dataframe to an interactive table.\"\n",
              "              style=\"display:none;\">\n",
              "        \n",
              "  <svg xmlns=\"http://www.w3.org/2000/svg\" height=\"24px\"viewBox=\"0 0 24 24\"\n",
              "       width=\"24px\">\n",
              "    <path d=\"M0 0h24v24H0V0z\" fill=\"none\"/>\n",
              "    <path d=\"M18.56 5.44l.94 2.06.94-2.06 2.06-.94-2.06-.94-.94-2.06-.94 2.06-2.06.94zm-11 1L8.5 8.5l.94-2.06 2.06-.94-2.06-.94L8.5 2.5l-.94 2.06-2.06.94zm10 10l.94 2.06.94-2.06 2.06-.94-2.06-.94-.94-2.06-.94 2.06-2.06.94z\"/><path d=\"M17.41 7.96l-1.37-1.37c-.4-.4-.92-.59-1.43-.59-.52 0-1.04.2-1.43.59L10.3 9.45l-7.72 7.72c-.78.78-.78 2.05 0 2.83L4 21.41c.39.39.9.59 1.41.59.51 0 1.02-.2 1.41-.59l7.78-7.78 2.81-2.81c.8-.78.8-2.07 0-2.86zM5.41 20L4 18.59l7.72-7.72 1.47 1.35L5.41 20z\"/>\n",
              "  </svg>\n",
              "      </button>\n",
              "      \n",
              "  <style>\n",
              "    .colab-df-container {\n",
              "      display:flex;\n",
              "      flex-wrap:wrap;\n",
              "      gap: 12px;\n",
              "    }\n",
              "\n",
              "    .colab-df-convert {\n",
              "      background-color: #E8F0FE;\n",
              "      border: none;\n",
              "      border-radius: 50%;\n",
              "      cursor: pointer;\n",
              "      display: none;\n",
              "      fill: #1967D2;\n",
              "      height: 32px;\n",
              "      padding: 0 0 0 0;\n",
              "      width: 32px;\n",
              "    }\n",
              "\n",
              "    .colab-df-convert:hover {\n",
              "      background-color: #E2EBFA;\n",
              "      box-shadow: 0px 1px 2px rgba(60, 64, 67, 0.3), 0px 1px 3px 1px rgba(60, 64, 67, 0.15);\n",
              "      fill: #174EA6;\n",
              "    }\n",
              "\n",
              "    [theme=dark] .colab-df-convert {\n",
              "      background-color: #3B4455;\n",
              "      fill: #D2E3FC;\n",
              "    }\n",
              "\n",
              "    [theme=dark] .colab-df-convert:hover {\n",
              "      background-color: #434B5C;\n",
              "      box-shadow: 0px 1px 3px 1px rgba(0, 0, 0, 0.15);\n",
              "      filter: drop-shadow(0px 1px 2px rgba(0, 0, 0, 0.3));\n",
              "      fill: #FFFFFF;\n",
              "    }\n",
              "  </style>\n",
              "\n",
              "      <script>\n",
              "        const buttonEl =\n",
              "          document.querySelector('#df-0fb8772e-48a6-4f9a-ad39-e0b71e62a8dd button.colab-df-convert');\n",
              "        buttonEl.style.display =\n",
              "          google.colab.kernel.accessAllowed ? 'block' : 'none';\n",
              "\n",
              "        async function convertToInteractive(key) {\n",
              "          const element = document.querySelector('#df-0fb8772e-48a6-4f9a-ad39-e0b71e62a8dd');\n",
              "          const dataTable =\n",
              "            await google.colab.kernel.invokeFunction('convertToInteractive',\n",
              "                                                     [key], {});\n",
              "          if (!dataTable) return;\n",
              "\n",
              "          const docLinkHtml = 'Like what you see? Visit the ' +\n",
              "            '<a target=\"_blank\" href=https://colab.research.google.com/notebooks/data_table.ipynb>data table notebook</a>'\n",
              "            + ' to learn more about interactive tables.';\n",
              "          element.innerHTML = '';\n",
              "          dataTable['output_type'] = 'display_data';\n",
              "          await google.colab.output.renderOutput(dataTable, element);\n",
              "          const docLink = document.createElement('div');\n",
              "          docLink.innerHTML = docLinkHtml;\n",
              "          element.appendChild(docLink);\n",
              "        }\n",
              "      </script>\n",
              "    </div>\n",
              "  </div>\n",
              "  "
            ]
          },
          "metadata": {},
          "execution_count": 30
        }
      ],
      "source": [
        "dataset = pd.read_csv('/content/drive/MyDrive/나도코딩/ScikitLearn/LinearRegressionData.csv')\n",
        "dataset"
      ]
    },
    {
      "cell_type": "code",
      "execution_count": null,
      "id": "30ef3032",
      "metadata": {
        "id": "30ef3032"
      },
      "outputs": [],
      "source": [
        "X = dataset.iloc[:, :-1].values\n",
        "y = dataset.iloc[:, -1].values"
      ]
    },
    {
      "cell_type": "code",
      "execution_count": null,
      "id": "36908570",
      "metadata": {
        "id": "36908570"
      },
      "outputs": [],
      "source": [
        "from sklearn.model_selection import train_test_split\n",
        "X_train, X_test, y_train, y_test = train_test_split(X, y, test_size=0.2, random_state=0) # 훈련 80 : 테스트 20 으로 분리"
      ]
    },
    {
      "cell_type": "code",
      "execution_count": null,
      "id": "bbeb703c",
      "metadata": {
        "id": "bbeb703c",
        "outputId": "58e04baa-a468-48fd-ae5c-0544ddecc68c",
        "colab": {
          "base_uri": "https://localhost:8080/"
        }
      },
      "outputs": [
        {
          "output_type": "execute_result",
          "data": {
            "text/plain": [
              "(array([[ 0.5],\n",
              "        [ 1.2],\n",
              "        [ 1.8],\n",
              "        [ 2.4],\n",
              "        [ 2.6],\n",
              "        [ 3.2],\n",
              "        [ 3.9],\n",
              "        [ 4.4],\n",
              "        [ 4.5],\n",
              "        [ 5. ],\n",
              "        [ 5.3],\n",
              "        [ 5.8],\n",
              "        [ 6. ],\n",
              "        [ 6.1],\n",
              "        [ 6.2],\n",
              "        [ 6.9],\n",
              "        [ 7.2],\n",
              "        [ 8.4],\n",
              "        [ 8.6],\n",
              "        [10. ]]), 20)"
            ]
          },
          "metadata": {},
          "execution_count": 33
        }
      ],
      "source": [
        "X, len(X) # 전체 데이터 X, 개수"
      ]
    },
    {
      "cell_type": "code",
      "execution_count": null,
      "id": "c2d42b0a",
      "metadata": {
        "id": "c2d42b0a",
        "outputId": "a813d9da-ca4a-49e8-92cb-98c0c5d3db97",
        "colab": {
          "base_uri": "https://localhost:8080/"
        }
      },
      "outputs": [
        {
          "output_type": "execute_result",
          "data": {
            "text/plain": [
              "(array([[5.3],\n",
              "        [8.4],\n",
              "        [3.9],\n",
              "        [6.1],\n",
              "        [2.6],\n",
              "        [1.8],\n",
              "        [3.2],\n",
              "        [6.2],\n",
              "        [5. ],\n",
              "        [4.4],\n",
              "        [7.2],\n",
              "        [5.8],\n",
              "        [2.4],\n",
              "        [0.5],\n",
              "        [6.9],\n",
              "        [6. ]]), 16)"
            ]
          },
          "metadata": {},
          "execution_count": 34
        }
      ],
      "source": [
        "X_train, len(X_train) # 훈련 세트 X, 개수"
      ]
    },
    {
      "cell_type": "code",
      "execution_count": null,
      "id": "0265a8f9",
      "metadata": {
        "scrolled": true,
        "id": "0265a8f9",
        "outputId": "8ae70009-e9f3-45ec-a457-d23ff26a4e61",
        "colab": {
          "base_uri": "https://localhost:8080/"
        }
      },
      "outputs": [
        {
          "output_type": "execute_result",
          "data": {
            "text/plain": [
              "(array([[ 8.6],\n",
              "        [ 1.2],\n",
              "        [10. ],\n",
              "        [ 4.5]]), 4)"
            ]
          },
          "metadata": {},
          "execution_count": 35
        }
      ],
      "source": [
        "X_test, len(X_test) # 테스트 세트 X, 개수"
      ]
    },
    {
      "cell_type": "code",
      "execution_count": null,
      "id": "6b0dbc59",
      "metadata": {
        "id": "6b0dbc59",
        "outputId": "da9b3b78-f3d3-4817-dc21-96815f80f230",
        "colab": {
          "base_uri": "https://localhost:8080/"
        }
      },
      "outputs": [
        {
          "output_type": "execute_result",
          "data": {
            "text/plain": [
              "(array([ 10,   8,  14,  26,  22,  30,  42,  48,  38,  58,  60,  72,  62,\n",
              "         68,  72,  58,  76,  86,  90, 100]), 20)"
            ]
          },
          "metadata": {},
          "execution_count": 36
        }
      ],
      "source": [
        "y, len(y) # 전체 데이터 y"
      ]
    },
    {
      "cell_type": "code",
      "execution_count": null,
      "id": "8525e49c",
      "metadata": {
        "id": "8525e49c",
        "outputId": "3d50cdc7-4911-43dd-fa27-091e6c860087",
        "colab": {
          "base_uri": "https://localhost:8080/"
        }
      },
      "outputs": [
        {
          "output_type": "execute_result",
          "data": {
            "text/plain": [
              "(array([60, 86, 42, 68, 22, 14, 30, 72, 58, 48, 76, 72, 26, 10, 58, 62]), 16)"
            ]
          },
          "metadata": {},
          "execution_count": 37
        }
      ],
      "source": [
        "y_train, len(y_train) # 훈련 세트 y"
      ]
    },
    {
      "cell_type": "code",
      "execution_count": null,
      "id": "c69fe463",
      "metadata": {
        "id": "c69fe463",
        "outputId": "25a41339-c8dc-484c-ab3c-e670c380aef2",
        "colab": {
          "base_uri": "https://localhost:8080/"
        }
      },
      "outputs": [
        {
          "output_type": "execute_result",
          "data": {
            "text/plain": [
              "(array([ 90,   8, 100,  38]), 4)"
            ]
          },
          "metadata": {},
          "execution_count": 38
        }
      ],
      "source": [
        "y_test, len(y_test) # 테스트 세트 y"
      ]
    },
    {
      "cell_type": "markdown",
      "id": "0c7eaac0",
      "metadata": {
        "id": "0c7eaac0"
      },
      "source": [
        "### 분리된 데이터를 통한 모델링"
      ]
    },
    {
      "cell_type": "code",
      "execution_count": null,
      "id": "67499f70",
      "metadata": {
        "id": "67499f70"
      },
      "outputs": [],
      "source": [
        "from sklearn.linear_model import LinearRegression\n",
        "reg = LinearRegression()"
      ]
    },
    {
      "cell_type": "code",
      "execution_count": null,
      "id": "3e47527b",
      "metadata": {
        "id": "3e47527b",
        "outputId": "d207dc02-157c-4f26-db82-5f561be9b088",
        "colab": {
          "base_uri": "https://localhost:8080/"
        }
      },
      "outputs": [
        {
          "output_type": "execute_result",
          "data": {
            "text/plain": [
              "LinearRegression()"
            ]
          },
          "metadata": {},
          "execution_count": 40
        }
      ],
      "source": [
        "reg.fit(X_train, y_train) # 훈련 세트로 학습"
      ]
    },
    {
      "cell_type": "markdown",
      "id": "4aec330d",
      "metadata": {
        "id": "4aec330d"
      },
      "source": [
        "### 데이터 시각화 (훈련 세트)"
      ]
    },
    {
      "cell_type": "code",
      "execution_count": null,
      "id": "ba641b03",
      "metadata": {
        "id": "ba641b03",
        "outputId": "ce0feaea-c7ec-434f-870d-bf4d1ebf1940",
        "colab": {
          "base_uri": "https://localhost:8080/",
          "height": 295
        }
      },
      "outputs": [
        {
          "output_type": "display_data",
          "data": {
            "text/plain": [
              "<Figure size 432x288 with 1 Axes>"
            ],
            "image/png": "[encoded data removed]"
          },
          "metadata": {
            "needs_background": "light"
          }
        }
      ],
      "source": [
        "plt.scatter(X_train, y_train, color='blue') # 산점도\n",
        "plt.plot(X_train, reg.predict(X_train), color='green') # 선 그래프\n",
        "plt.title('Score by hours (train data)') # 제목\n",
        "plt.xlabel('hours') # X 축 이름\n",
        "plt.ylabel('score') # Y 축 이름\n",
        "plt.show()"
      ]
    },
    {
      "cell_type": "markdown",
      "id": "129cd837",
      "metadata": {
        "id": "129cd837"
      },
      "source": [
        "### 데이터 시각화 (테스트 세트)"
      ]
    },
    {
      "cell_type": "code",
      "execution_count": null,
      "id": "3184268a",
      "metadata": {
        "id": "3184268a",
        "outputId": "bf3812b6-330d-4f4e-bd49-424ec818ce31",
        "colab": {
          "base_uri": "https://localhost:8080/",
          "height": 295
        }
      },
      "outputs": [
        {
          "output_type": "display_data",
          "data": {
            "text/plain": [
              "<Figure size 432x288 with 1 Axes>"
            ],
            "image/png": "[encoded data removed]"
          },
          "metadata": {
            "needs_background": "light"
          }
        }
      ],
      "source": [
        "plt.scatter(X_test, y_test, color='blue') # 산점도\n",
        "plt.plot(X_train, reg.predict(X_train), color='green') # 선 그래프\n",
        "plt.title('Score by hours (test data)') # 제목\n",
        "plt.xlabel('hours') # X 축 이름\n",
        "plt.ylabel('score') # Y 축 이름\n",
        "plt.show()"
      ]
    },
    {
      "cell_type": "code",
      "execution_count": null,
      "id": "01cba3cb",
      "metadata": {
        "id": "01cba3cb",
        "outputId": "8e7ec8ca-3fcd-4394-ead1-e996475e4225",
        "colab": {
          "base_uri": "https://localhost:8080/"
        }
      },
      "outputs": [
        {
          "output_type": "execute_result",
          "data": {
            "text/plain": [
              "array([10.49161294])"
            ]
          },
          "metadata": {},
          "execution_count": 43
        }
      ],
      "source": [
        "reg.coef_"
      ]
    },
    {
      "cell_type": "code",
      "execution_count": null,
      "id": "a7e97ee1",
      "metadata": {
        "id": "a7e97ee1",
        "outputId": "4f7149b5-f5bc-4217-e86f-bceb49039f7d",
        "colab": {
          "base_uri": "https://localhost:8080/"
        }
      },
      "outputs": [
        {
          "output_type": "execute_result",
          "data": {
            "text/plain": [
              "0.6115562905169369"
            ]
          },
          "metadata": {},
          "execution_count": 44
        }
      ],
      "source": [
        "reg.intercept_"
      ]
    },
    {
      "cell_type": "markdown",
      "id": "670bd18d",
      "metadata": {
        "id": "670bd18d"
      },
      "source": [
        "### 모델 평가"
      ]
    },
    {
      "cell_type": "code",
      "execution_count": null,
      "id": "55548d70",
      "metadata": {
        "id": "55548d70",
        "outputId": "0cdcd649-1686-4148-8e41-9e1ab12ad10e",
        "colab": {
          "base_uri": "https://localhost:8080/"
        }
      },
      "outputs": [
        {
          "output_type": "execute_result",
          "data": {
            "text/plain": [
              "0.9727616474310156"
            ]
          },
          "metadata": {},
          "execution_count": 45
        }
      ],
      "source": [
        "reg.score(X_test, y_test) # 테스트 세트를 통한 모델 평가"
      ]
    },
    {
      "cell_type": "code",
      "execution_count": null,
      "id": "5c258af0",
      "metadata": {
        "scrolled": true,
        "id": "5c258af0",
        "outputId": "5d0f7ca4-b5bb-4829-a808-938b7ec1ccd3",
        "colab": {
          "base_uri": "https://localhost:8080/"
        }
      },
      "outputs": [
        {
          "output_type": "execute_result",
          "data": {
            "text/plain": [
              "0.9356663661221668"
            ]
          },
          "metadata": {},
          "execution_count": 46
        }
      ],
      "source": [
        "reg.score(X_train, y_train) # 훈련 세트를 통한 모델 평가"
      ]
    },
    {
      "cell_type": "markdown",
      "id": "276c3d09",
      "metadata": {
        "id": "276c3d09"
      },
      "source": [
        "## 경사 하강법 (Gradient Descent)"
      ]
    },
    {
      "cell_type": "markdown",
      "id": "5f0bb731",
      "metadata": {
        "id": "5f0bb731"
      },
      "source": [
        "max_iter : 훈련 세트 반복 횟수 (Epoch 횟수)\n",
        "\n",
        "eta0 : 학습률 (learning rate)"
      ]
    },
    {
      "cell_type": "code",
      "execution_count": null,
      "id": "17213553",
      "metadata": {
        "id": "17213553",
        "outputId": "142761a9-b961-4eda-986e-882059a277ac",
        "colab": {
          "base_uri": "https://localhost:8080/"
        }
      },
      "outputs": [
        {
          "output_type": "execute_result",
          "data": {
            "text/plain": [
              "SGDRegressor()"
            ]
          },
          "metadata": {},
          "execution_count": 47
        }
      ],
      "source": [
        "from sklearn.linear_model import SGDRegressor # SGD : Stochastic Gradient Descent 확률적 경사 하강법\n",
        "\n",
        "# 지수표기법\n",
        "# 1e-3 : 0.001 (10^-3)\n",
        "# 1e-4 : 0.0001 (10^-4)\n",
        "# 1e+3 : 1000 (10^3)\n",
        "# 1e+4 : 10000 (10^4)\n",
        "\n",
        "# sr = SGDRegressor(max_iter=200, eta0=1e-4, random_state=0, verbose=1)\n",
        "sr = SGDRegressor()\n",
        "sr.fit(X_train, y_train)"
      ]
    },
    {
      "cell_type": "code",
      "execution_count": null,
      "id": "c73a36b6",
      "metadata": {
        "id": "c73a36b6",
        "outputId": "1b48f42e-1e5b-4a3b-e144-9d8646216acd",
        "colab": {
          "base_uri": "https://localhost:8080/",
          "height": 295
        }
      },
      "outputs": [
        {
          "output_type": "display_data",
          "data": {
            "text/plain": [
              "<Figure size 432x288 with 1 Axes>"
            ],
            "image/png": "[encoded data removed]"
          },
          "metadata": {
            "needs_background": "light"
          }
        }
      ],
      "source": [
        "plt.scatter(X_train, y_train, color='blue') # 산점도\n",
        "plt.plot(X_train, sr.predict(X_train), color='green') # 선 그래프\n",
        "plt.title('Score by hours (train data, SGD)') # 제목\n",
        "plt.xlabel('hours') # X 축 이름\n",
        "plt.ylabel('score') # Y 축 이름\n",
        "plt.show()"
      ]
    },
    {
      "cell_type": "code",
      "execution_count": null,
      "id": "9143f755",
      "metadata": {
        "id": "9143f755",
        "outputId": "7e9c95af-a21e-4fa0-8e0c-a314c7fd721c",
        "colab": {
          "base_uri": "https://localhost:8080/"
        }
      },
      "outputs": [
        {
          "output_type": "execute_result",
          "data": {
            "text/plain": [
              "(array([10.50505388]), array([1.36165803]))"
            ]
          },
          "metadata": {},
          "execution_count": 49
        }
      ],
      "source": [
        "sr.coef_, sr.intercept_\n",
        "# 주의 : SGDRegressor() 객체를 생성할 때 random_state 값을 지정하지 않았으므로 결과가 다르게 나타날 수 있습니다"
      ]
    },
    {
      "cell_type": "code",
      "execution_count": null,
      "id": "8e01241d",
      "metadata": {
        "id": "8e01241d",
        "outputId": "a22190cc-3418-4a91-dce1-ebd181f6b4cd",
        "colab": {
          "base_uri": "https://localhost:8080/"
        }
      },
      "outputs": [
        {
          "output_type": "execute_result",
          "data": {
            "text/plain": [
              "0.9660929109073586"
            ]
          },
          "metadata": {},
          "execution_count": 50
        }
      ],
      "source": [
        "sr.score(X_test, y_test) # 테스트 세트를 통한 모델 평가 "
      ]
    },
    {
      "cell_type": "code",
      "execution_count": null,
      "id": "ee1306ec",
      "metadata": {
        "id": "ee1306ec",
        "outputId": "4b98425c-387e-44de-dc2e-d9d5013820f2",
        "colab": {
          "base_uri": "https://localhost:8080/"
        }
      },
      "outputs": [
        {
          "output_type": "execute_result",
          "data": {
            "text/plain": [
              "0.9343975052138009"
            ]
          },
          "metadata": {},
          "execution_count": 51
        }
      ],
      "source": [
        "sr.score(X_train, y_train) # 훈련 세트를 통한 모델 평가 "
      ]
    },
    {
      "cell_type": "code",
      "source": [],
      "metadata": {
        "id": "YTgtkkRSQ4EB"
      },
      "id": "YTgtkkRSQ4EB",
      "execution_count": null,
      "outputs": []
    }
  ],
  "metadata": {
    "kernelspec": {
      "display_name": "Python 3",
      "language": "python",
      "name": "python3"
    },
    "language_info": {
      "codemirror_mode": {
        "name": "ipython",
        "version": 3
      },
      "file_extension": ".py",
      "mimetype": "text/x-python",
      "name": "python",
      "nbconvert_exporter": "python",
      "pygments_lexer": "ipython3",
      "version": "3.8.8"
    },
    "colab": {
      "provenance": [],
      "include_colab_link": true
    }
  },
  "nbformat": 4,
  "nbformat_minor": 5
}