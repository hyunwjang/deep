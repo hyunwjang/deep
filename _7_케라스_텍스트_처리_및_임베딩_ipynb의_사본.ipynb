{
  "cells": [
    {
      "cell_type": "markdown",
      "metadata": {
        "id": "view-in-github",
        "colab_type": "text"
      },
      "source": [
        "<a href=\"https://colab.research.google.com/github/hyunwjang/deep/blob/main/_7_%EC%BC%80%EB%9D%BC%EC%8A%A4_%ED%85%8D%EC%8A%A4%ED%8A%B8_%EC%B2%98%EB%A6%AC_%EB%B0%8F_%EC%9E%84%EB%B2%A0%EB%94%A9_ipynb%EC%9D%98_%EC%82%AC%EB%B3%B8.ipynb\" target=\"_parent\"><img src=\"https://colab.research.google.com/assets/colab-badge.svg\" alt=\"Open In Colab\"/></a>"
      ]
    },
    {
      "cell_type": "markdown",
      "metadata": {
        "id": "IflaNMlDefSR"
      },
      "source": [
        "# 케라스 텍스트 처리 및 임베딩\n",
        "\n",
        "- 코드 참조: 케라스 창시자에게 배우는 딥러닝\n",
        "\n"
      ]
    },
    {
      "cell_type": "markdown",
      "metadata": {
        "id": "4FUSW6WsehVW"
      },
      "source": [
        "## 용어 설명\n",
        "\n",
        "- `토큰(token)`\n",
        "  - 텍스트를 나누는 단위\n",
        "\n",
        "  - 토큰화(tokenization): 토큰으로 나누는 작업\n",
        "\n",
        "- `n-gram`\n",
        "  - 문장에서 추출한 N개(또는 그 이하)의 연속된 단어 그룹\n",
        "\n",
        "  - 같은 개념이 '문자'에도 적용가능\n",
        "\n",
        "  <img src=\"https://www.sqlservercentral.com/wp-content/uploads/legacy/0bf6a2bd621db172dba029ce3c712280a3f6aab3/29444.jpg\">\n",
        "\n",
        "  <sub>출처: https://www.sqlservercentral.com/articles/nasty-fast-n-grams-part-1-character-level-unigrams</sub>"
      ]
    },
    {
      "cell_type": "markdown",
      "metadata": {
        "id": "7pLA61IbtnZC"
      },
      "source": [
        "## 문자 수준 원-핫 인코딩"
      ]
    },
    {
      "cell_type": "code",
      "execution_count": null,
      "metadata": {
        "id": "uo2drvFOebkZ"
      },
      "outputs": [],
      "source": [
        "import pandas as pd\n",
        "import numpy as np"
      ]
    },
    {
      "cell_type": "code",
      "execution_count": null,
      "metadata": {
        "id": "h-GllKYStqu3"
      },
      "outputs": [],
      "source": [
        "samples = ['The cat sat on the mat.',\n",
        "           'The dog ate my homeworks.']\n",
        "token_index = {}"
      ]
    },
    {
      "cell_type": "code",
      "execution_count": null,
      "metadata": {
        "id": "Ot1p-zxItyA6"
      },
      "outputs": [],
      "source": [
        "for sample in samples:\n",
        "  for word in sample.split():\n",
        "    if word not in token_index:\n",
        "      token_index[word] = len(token_index) +1\n",
        "\n",
        "max_len = 10\n",
        "results = np.zeros(shape = (len(samples), max_len,\n",
        "                            max(token_index.values())+1))\n"
      ]
    },
    {
      "cell_type": "code",
      "execution_count": null,
      "metadata": {
        "colab": {
          "base_uri": "https://localhost:8080/"
        },
        "id": "l-yNFl8TuKMt",
        "outputId": "125f8731-44b1-48a5-f12b-20db11dd05e4"
      },
      "outputs": [
        {
          "output_type": "execute_result",
          "data": {
            "text/plain": [
              "array([[[0., 1., 0., 0., 0., 0., 0., 0., 0., 0., 0.],\n",
              "        [0., 0., 1., 0., 0., 0., 0., 0., 0., 0., 0.],\n",
              "        [0., 0., 0., 1., 0., 0., 0., 0., 0., 0., 0.],\n",
              "        [0., 0., 0., 0., 1., 0., 0., 0., 0., 0., 0.],\n",
              "        [0., 0., 0., 0., 0., 1., 0., 0., 0., 0., 0.],\n",
              "        [0., 0., 0., 0., 0., 0., 1., 0., 0., 0., 0.],\n",
              "        [0., 0., 0., 0., 0., 0., 0., 0., 0., 0., 0.],\n",
              "        [0., 0., 0., 0., 0., 0., 0., 0., 0., 0., 0.],\n",
              "        [0., 0., 0., 0., 0., 0., 0., 0., 0., 0., 0.],\n",
              "        [0., 0., 0., 0., 0., 0., 0., 0., 0., 0., 0.]],\n",
              "\n",
              "       [[0., 1., 0., 0., 0., 0., 0., 0., 0., 0., 0.],\n",
              "        [0., 0., 0., 0., 0., 0., 0., 1., 0., 0., 0.],\n",
              "        [0., 0., 0., 0., 0., 0., 0., 0., 1., 0., 0.],\n",
              "        [0., 0., 0., 0., 0., 0., 0., 0., 0., 1., 0.],\n",
              "        [0., 0., 0., 0., 0., 0., 0., 0., 0., 0., 1.],\n",
              "        [0., 0., 0., 0., 0., 0., 0., 0., 0., 0., 0.],\n",
              "        [0., 0., 0., 0., 0., 0., 0., 0., 0., 0., 0.],\n",
              "        [0., 0., 0., 0., 0., 0., 0., 0., 0., 0., 0.],\n",
              "        [0., 0., 0., 0., 0., 0., 0., 0., 0., 0., 0.],\n",
              "        [0., 0., 0., 0., 0., 0., 0., 0., 0., 0., 0.]]])"
            ]
          },
          "metadata": {},
          "execution_count": 5
        }
      ],
      "source": [
        "for i , sample in enumerate(samples):\n",
        "  for j, word in list(enumerate(sample.split()))[:max_len]:\n",
        "    index = token_index.get(word)\n",
        "    results[i,j,index] = 1.\n",
        "\n",
        "results"
      ]
    },
    {
      "cell_type": "markdown",
      "metadata": {
        "id": "FTQMJ5f7uicB"
      },
      "source": [
        "## 케라스를 사용한 단어 수준 원-핫 인코딩\n",
        "\n",
        "- `fit_on_texts()`\n",
        "\n",
        "- `texts_to_sequences()`\n",
        "\n",
        "- `texts_to_matrix()`"
      ]
    },
    {
      "cell_type": "code",
      "execution_count": null,
      "metadata": {
        "id": "yGzuiBqwukx7"
      },
      "outputs": [],
      "source": [
        "from tensorflow.keras.preprocessing.text import Tokenizer"
      ]
    },
    {
      "cell_type": "code",
      "execution_count": null,
      "metadata": {
        "colab": {
          "base_uri": "https://localhost:8080/"
        },
        "id": "2zjbtYPbukvm",
        "outputId": "7040cd8a-cd49-4c23-ad0e-93853ab88a0b"
      },
      "outputs": [
        {
          "output_type": "stream",
          "name": "stdout",
          "text": [
            "9\n"
          ]
        }
      ],
      "source": [
        "samples = ['The cat sat on the mat.',\n",
        "           'The dog ate my homeworks.']\n",
        "tokenizer = Tokenizer(num_words =1000)\n",
        "tokenizer.fit_on_texts(samples)\n",
        "\n",
        "sequences = tokenizer.texts_to_sequences(samples)\n",
        "\n",
        "ohe_results = tokenizer.texts_to_matrix(samples, mode = 'binary')\n",
        "\n",
        "word_index = tokenizer.word_index\n",
        "print(len(word_index))"
      ]
    },
    {
      "cell_type": "code",
      "execution_count": null,
      "metadata": {
        "colab": {
          "base_uri": "https://localhost:8080/"
        },
        "id": "akOCIduiy9Be",
        "outputId": "ce558954-ecc4-4789-f0d5-e8b1fb3640c0"
      },
      "outputs": [
        {
          "output_type": "execute_result",
          "data": {
            "text/plain": [
              "[[1, 2, 3, 4, 1, 5], [1, 6, 7, 8, 9]]"
            ]
          },
          "metadata": {},
          "execution_count": 8
        }
      ],
      "source": [
        "sequences"
      ]
    },
    {
      "cell_type": "code",
      "execution_count": null,
      "metadata": {
        "colab": {
          "base_uri": "https://localhost:8080/"
        },
        "id": "a9glsKtCzDJZ",
        "outputId": "86a5ea83-ebab-4a53-8066-3f094bb258a8"
      },
      "outputs": [
        {
          "output_type": "stream",
          "name": "stdout",
          "text": [
            "(2, 1000)\n",
            "[[0. 1. 1. ... 0. 0. 0.]\n",
            " [0. 1. 0. ... 0. 0. 0.]]\n"
          ]
        }
      ],
      "source": [
        "print(ohe_results.shape)\n",
        "print(ohe_results)"
      ]
    },
    {
      "cell_type": "code",
      "execution_count": null,
      "metadata": {
        "colab": {
          "base_uri": "https://localhost:8080/"
        },
        "id": "-WkPEXlIvFy9",
        "outputId": "837686bb-544a-4aa7-d986-72c0334aa76c"
      },
      "outputs": [
        {
          "output_type": "execute_result",
          "data": {
            "text/plain": [
              "{'the': 1,\n",
              " 'cat': 2,\n",
              " 'sat': 3,\n",
              " 'on': 4,\n",
              " 'mat': 5,\n",
              " 'dog': 6,\n",
              " 'ate': 7,\n",
              " 'my': 8,\n",
              " 'homeworks': 9}"
            ]
          },
          "metadata": {},
          "execution_count": 10
        }
      ],
      "source": [
        "word_index"
      ]
    },
    {
      "cell_type": "markdown",
      "metadata": {
        "id": "0b4thb4_xoJd"
      },
      "source": [
        "### 토큰화 예제\n",
        "\n",
        "- `OOV` : Out of Vocabulary\n",
        "  - 새로운 문장에서 기존에 토큰화한 문장에 존재하지 않으면 OOV로 대체됨"
      ]
    },
    {
      "cell_type": "code",
      "execution_count": null,
      "metadata": {
        "id": "VXSiy6AzxqYZ"
      },
      "outputs": [],
      "source": [
        "from tensorflow.keras.preprocessing.text import Tokenizer"
      ]
    },
    {
      "cell_type": "code",
      "execution_count": null,
      "metadata": {
        "colab": {
          "base_uri": "https://localhost:8080/"
        },
        "id": "7SaLoGGXxqb0",
        "outputId": "dff170e6-523d-43ac-e68c-446dd2a14145"
      },
      "outputs": [
        {
          "output_type": "stream",
          "name": "stdout",
          "text": [
            "{'<OOV>': 1, 'the': 2, 'cat': 3, 'sat': 4, 'on': 5, 'mat': 6, 'dog': 7, 'ate': 8, 'my': 9, 'homeworks': 10}\n"
          ]
        }
      ],
      "source": [
        "samples = ['The cat sat on the mat.',\n",
        "           'The dog ate my homeworks.']\n",
        "\n",
        "tokenizer = Tokenizer(num_words=10, oov_token='<OOV>')\n",
        "tokenizer.fit_on_texts(samples)\n",
        "\n",
        "sequences = tokenizer.texts_to_sequences(samples)\n",
        "\n",
        "binary_results = tokenizer.texts_to_matrix(samples, mode = 'binary')\n",
        "print(tokenizer.word_index)\n"
      ]
    },
    {
      "cell_type": "code",
      "execution_count": null,
      "metadata": {
        "colab": {
          "base_uri": "https://localhost:8080/"
        },
        "id": "TCrxXLIdxqPE",
        "outputId": "59fddeb2-338a-443f-ca63-f973f8f14bd9"
      },
      "outputs": [
        {
          "output_type": "execute_result",
          "data": {
            "text/plain": [
              "array([[0., 0., 1., 1., 1., 1., 1., 0., 0., 0.],\n",
              "       [0., 1., 1., 0., 0., 0., 0., 1., 1., 1.]])"
            ]
          },
          "metadata": {},
          "execution_count": 13
        }
      ],
      "source": [
        "binary_results"
      ]
    },
    {
      "cell_type": "markdown",
      "metadata": {
        "id": "dA5--lIu0ReW"
      },
      "source": [
        "테스트"
      ]
    },
    {
      "cell_type": "code",
      "execution_count": null,
      "metadata": {
        "id": "KVNkjjvx0QIv"
      },
      "outputs": [],
      "source": [
        "test = [\"I'm the fastest student.\"]\n",
        "test_seq = tokenizer.texts_to_sequences(test)"
      ]
    },
    {
      "cell_type": "code",
      "execution_count": null,
      "metadata": {
        "colab": {
          "base_uri": "https://localhost:8080/"
        },
        "id": "DbbaoH2E38CX",
        "outputId": "51f75749-a505-4900-8b46-7e3e62f7b269"
      },
      "outputs": [
        {
          "output_type": "stream",
          "name": "stdout",
          "text": [
            "word_index: {'<OOV>': 1, 'the': 2, 'cat': 3, 'sat': 4, 'on': 5, 'mat': 6, 'dog': 7, 'ate': 8, 'my': 9, 'homeworks': 10}\n",
            "Test Text: [\"I'm the fastest student.\"]\n",
            "Test Seq : [[1, 2, 1, 1]]\n"
          ]
        }
      ],
      "source": [
        "print('word_index:', tokenizer.word_index)\n",
        "print('Test Text:',test)\n",
        "print('Test Seq :',test_seq)"
      ]
    },
    {
      "cell_type": "markdown",
      "metadata": {
        "id": "DJbDRYOmsVhf"
      },
      "source": [
        "## 원-핫 단어 벡터와 단어 임베딩\n",
        "\n",
        "- `원-핫 단어 벡터`\n",
        "  - 데이터가 희소(sparse)\n",
        "\n",
        "  - 고차원\n",
        "\n",
        "- `단어 임베딩`\n",
        "  - 밀집(dense)\n",
        "\n",
        "  - 저차원\n",
        "\n",
        "  <img src=\"https://freecontent.manning.com/wp-content/uploads/Chollet_DLfT_02.png\" width=\"400\">\n",
        "\n",
        "  <sub>출처: https://freecontent.manning.com/deep-learning-for-text/</sub>"
      ]
    },
    {
      "cell_type": "markdown",
      "metadata": {
        "id": "v8czQwhBvcw3"
      },
      "source": [
        "## 단어 임베딩\n",
        "- 단어간 벡터사이의 **거리가 가까운**, 즉 비슷한 단어들끼리 임베딩\n",
        "\n",
        "- 거리 외에 임베딩 공간의 특정 방향도 의미를 가질 수 있음\n",
        "\n",
        "\n",
        "<img src=\"https://miro.medium.com/max/3010/1*OEmWDt4eztOcm5pr2QbxfA.png\">\n",
        "\n",
        "<sub>출처: https://towardsdatascience.com/creating-word-embeddings-coding-the-word2vec-algorithm-in-python-using-deep-learning-b337d0ba17a8</sub>\n"
      ]
    },
    {
      "cell_type": "markdown",
      "metadata": {
        "id": "ziKlhWUK1Wwx"
      },
      "source": [
        "## Embedding Layer\n",
        "\n",
        "- 특정 단어를 나타내는 정수 인덱스를 밀집 벡터(dense vector)로 매핑하는 딕셔너리 레이어\n",
        "\n",
        "- 입력: `(samples, sequence_length)`\n",
        "\n",
        "- 출력: `(samples, sequnece_length, dim)`"
      ]
    },
    {
      "cell_type": "code",
      "execution_count": null,
      "metadata": {
        "id": "gNiREoxJvTa-"
      },
      "outputs": [],
      "source": [
        "from tensorflow.keras.layers import Embedding"
      ]
    },
    {
      "cell_type": "code",
      "execution_count": null,
      "metadata": {
        "colab": {
          "base_uri": "https://localhost:8080/"
        },
        "id": "ULCjEZ5vvTX-",
        "outputId": "b8190356-3da1-4ca7-b3d6-ab90d68836e2"
      },
      "outputs": [
        {
          "output_type": "execute_result",
          "data": {
            "text/plain": [
              "<keras.layers.core.embedding.Embedding at 0x7f3024243a00>"
            ]
          },
          "metadata": {},
          "execution_count": 17
        }
      ],
      "source": [
        "embedding_layer = Embedding(1000, 64)\n",
        "embedding_layer"
      ]
    },
    {
      "cell_type": "markdown",
      "metadata": {
        "id": "0T4R-JlP2-6k"
      },
      "source": [
        "## 예제 : IMDB 데이터\n",
        "\n",
        "- 인터넷 영화 데이터베이스(Internet Movie Database)\n",
        "\n",
        "- 양극단의 리뷰 5만개로 이루어진 데이터셋\n",
        "  - 훈련데이터: 25,000개\n",
        "  - 테스트데이터 : 25,000개\n",
        "\n",
        "  <img src=\"https://encrypted-tbn0.gstatic.com/images?q=tbn%3AANd9GcQlk-f2SHB6-Vs3RWwIugMctsyEn2QVZWC5KQ&usqp=CAU\">\n",
        "\n",
        "- https://www.imdb.com/interfaces/"
      ]
    },
    {
      "cell_type": "markdown",
      "metadata": {
        "id": "gxmuXi9L3-O2"
      },
      "source": [
        "### module import"
      ]
    },
    {
      "cell_type": "code",
      "execution_count": null,
      "metadata": {
        "id": "XrfsUoGS2EVN"
      },
      "outputs": [],
      "source": [
        "from tensorflow.keras.datasets import imdb\n",
        "from tensorflow.keras.models import Sequential\n",
        "from tensorflow.keras.layers import Embedding, Dense, Flatten"
      ]
    },
    {
      "cell_type": "markdown",
      "metadata": {
        "id": "YyMXXlpY4Ajz"
      },
      "source": [
        "### 데이터 로드"
      ]
    },
    {
      "cell_type": "code",
      "execution_count": null,
      "metadata": {
        "colab": {
          "base_uri": "https://localhost:8080/"
        },
        "id": "wNnbw2tH2EiP",
        "outputId": "9fc9c1d7-0a18-4439-823e-1330d490a07d"
      },
      "outputs": [
        {
          "output_type": "stream",
          "name": "stdout",
          "text": [
            "Downloading data from https://storage.googleapis.com/tensorflow/tf-keras-datasets/imdb.npz\n",
            "17464789/17464789 [==============================] - 0s 0us/step\n"
          ]
        }
      ],
      "source": [
        "num_words = 1000\n",
        "max_len = 20\n",
        "\n",
        "(x_train, y_train), (x_test, y_test) = imdb.load_data(num_words = num_words)"
      ]
    },
    {
      "cell_type": "code",
      "execution_count": null,
      "metadata": {
        "colab": {
          "base_uri": "https://localhost:8080/"
        },
        "id": "OGnkPs_U2Ezk",
        "outputId": "65b6db32-2406-4ff6-f9ae-f8c1666c3713"
      },
      "outputs": [
        {
          "output_type": "stream",
          "name": "stdout",
          "text": [
            "(25000,)\n",
            "(25000,)\n",
            "(25000,)\n",
            "(25000,)\n"
          ]
        }
      ],
      "source": [
        "print(x_train.shape)\n",
        "print(y_train.shape)\n",
        "print(x_test.shape)\n",
        "print(y_test.shape)"
      ]
    },
    {
      "cell_type": "markdown",
      "metadata": {
        "id": "bvtDvmuX4_JB"
      },
      "source": [
        "### 데이터 확인\n",
        "- 긍정: 1\n",
        "- 부정: 0"
      ]
    },
    {
      "cell_type": "code",
      "execution_count": null,
      "metadata": {
        "colab": {
          "base_uri": "https://localhost:8080/"
        },
        "id": "wFruX-Vp2ExJ",
        "outputId": "e63f7838-d4c5-4793-b121-e7d6a0dc3306"
      },
      "outputs": [
        {
          "output_type": "stream",
          "name": "stdout",
          "text": [
            "[1, 14, 22, 16, 43, 530, 973, 2, 2, 65, 458, 2, 66, 2, 4, 173, 36, 256, 5, 25, 100, 43, 838, 112, 50, 670, 2, 9, 35, 480, 284, 5, 150, 4, 172, 112, 167, 2, 336, 385, 39, 4, 172, 2, 2, 17, 546, 38, 13, 447, 4, 192, 50, 16, 6, 147, 2, 19, 14, 22, 4, 2, 2, 469, 4, 22, 71, 87, 12, 16, 43, 530, 38, 76, 15, 13, 2, 4, 22, 17, 515, 17, 12, 16, 626, 18, 2, 5, 62, 386, 12, 8, 316, 8, 106, 5, 4, 2, 2, 16, 480, 66, 2, 33, 4, 130, 12, 16, 38, 619, 5, 25, 124, 51, 36, 135, 48, 25, 2, 33, 6, 22, 12, 215, 28, 77, 52, 5, 14, 407, 16, 82, 2, 8, 4, 107, 117, 2, 15, 256, 4, 2, 7, 2, 5, 723, 36, 71, 43, 530, 476, 26, 400, 317, 46, 7, 4, 2, 2, 13, 104, 88, 4, 381, 15, 297, 98, 32, 2, 56, 26, 141, 6, 194, 2, 18, 4, 226, 22, 21, 134, 476, 26, 480, 5, 144, 30, 2, 18, 51, 36, 28, 224, 92, 25, 104, 4, 226, 65, 16, 38, 2, 88, 12, 16, 283, 5, 16, 2, 113, 103, 32, 15, 16, 2, 19, 178, 32]\n",
            "1\n"
          ]
        }
      ],
      "source": [
        "print(x_train[0])\n",
        "print(y_train[0])"
      ]
    },
    {
      "cell_type": "code",
      "execution_count": null,
      "metadata": {
        "colab": {
          "base_uri": "https://localhost:8080/"
        },
        "id": "xSZ37jXC5qoj",
        "outputId": "9424621c-2d46-4761-d34e-cd456a2d7e93"
      },
      "outputs": [
        {
          "output_type": "stream",
          "name": "stdout",
          "text": [
            "review Seq : [1, 14, 22, 16, 43, 530, 973, 2, 2, 65, 458, 2, 66, 2, 4, 173, 36, 256, 5, 25, 100, 43, 838, 112, 50, 670, 2, 9, 35, 480, 284, 5, 150, 4, 172, 112, 167, 2, 336, 385, 39, 4, 172, 2, 2, 17, 546, 38, 13, 447, 4, 192, 50, 16, 6, 147, 2, 19, 14, 22, 4, 2, 2, 469, 4, 22, 71, 87, 12, 16, 43, 530, 38, 76, 15, 13, 2, 4, 22, 17, 515, 17, 12, 16, 626, 18, 2, 5, 62, 386, 12, 8, 316, 8, 106, 5, 4, 2, 2, 16, 480, 66, 2, 33, 4, 130, 12, 16, 38, 619, 5, 25, 124, 51, 36, 135, 48, 25, 2, 33, 6, 22, 12, 215, 28, 77, 52, 5, 14, 407, 16, 82, 2, 8, 4, 107, 117, 2, 15, 256, 4, 2, 7, 2, 5, 723, 36, 71, 43, 530, 476, 26, 400, 317, 46, 7, 4, 2, 2, 13, 104, 88, 4, 381, 15, 297, 98, 32, 2, 56, 26, 141, 6, 194, 2, 18, 4, 226, 22, 21, 134, 476, 26, 480, 5, 144, 30, 2, 18, 51, 36, 28, 224, 92, 25, 104, 4, 226, 65, 16, 38, 2, 88, 12, 16, 283, 5, 16, 2, 113, 103, 32, 15, 16, 2, 19, 178, 32]\n",
            "Label:긍정\n",
            "review Seq : [1, 194, 2, 194, 2, 78, 228, 5, 6, 2, 2, 2, 134, 26, 4, 715, 8, 118, 2, 14, 394, 20, 13, 119, 954, 189, 102, 5, 207, 110, 2, 21, 14, 69, 188, 8, 30, 23, 7, 4, 249, 126, 93, 4, 114, 9, 2, 2, 5, 647, 4, 116, 9, 35, 2, 4, 229, 9, 340, 2, 4, 118, 9, 4, 130, 2, 19, 4, 2, 5, 89, 29, 952, 46, 37, 4, 455, 9, 45, 43, 38, 2, 2, 398, 4, 2, 26, 2, 5, 163, 11, 2, 2, 4, 2, 9, 194, 775, 7, 2, 2, 349, 2, 148, 605, 2, 2, 15, 123, 125, 68, 2, 2, 15, 349, 165, 2, 98, 5, 4, 228, 9, 43, 2, 2, 15, 299, 120, 5, 120, 174, 11, 220, 175, 136, 50, 9, 2, 228, 2, 5, 2, 656, 245, 2, 5, 4, 2, 131, 152, 491, 18, 2, 32, 2, 2, 14, 9, 6, 371, 78, 22, 625, 64, 2, 9, 8, 168, 145, 23, 4, 2, 15, 16, 4, 2, 5, 28, 6, 52, 154, 462, 33, 89, 78, 285, 16, 145, 95]\n",
            "Label:부정\n",
            "review Seq : [1, 14, 47, 8, 30, 31, 7, 4, 249, 108, 7, 4, 2, 54, 61, 369, 13, 71, 149, 14, 22, 112, 4, 2, 311, 12, 16, 2, 33, 75, 43, 2, 296, 4, 86, 320, 35, 534, 19, 263, 2, 2, 4, 2, 33, 89, 78, 12, 66, 16, 4, 360, 7, 4, 58, 316, 334, 11, 4, 2, 43, 645, 662, 8, 257, 85, 2, 42, 2, 2, 83, 68, 2, 15, 36, 165, 2, 278, 36, 69, 2, 780, 8, 106, 14, 2, 2, 18, 6, 22, 12, 215, 28, 610, 40, 6, 87, 326, 23, 2, 21, 23, 22, 12, 272, 40, 57, 31, 11, 4, 22, 47, 6, 2, 51, 9, 170, 23, 595, 116, 595, 2, 13, 191, 79, 638, 89, 2, 14, 9, 8, 106, 607, 624, 35, 534, 6, 227, 7, 129, 113]\n",
            "Label:부정\n",
            "review Seq : [1, 4, 2, 2, 33, 2, 4, 2, 432, 111, 153, 103, 4, 2, 13, 70, 131, 67, 11, 61, 2, 744, 35, 2, 761, 61, 2, 452, 2, 4, 985, 7, 2, 59, 166, 4, 105, 216, 2, 41, 2, 9, 15, 7, 35, 744, 2, 31, 8, 4, 687, 23, 4, 2, 2, 6, 2, 42, 38, 39, 121, 59, 456, 10, 10, 7, 265, 12, 575, 111, 153, 159, 59, 16, 2, 21, 25, 586, 482, 39, 4, 96, 59, 716, 12, 4, 172, 65, 9, 579, 11, 2, 4, 2, 5, 2, 7, 2, 17, 13, 2, 12, 19, 6, 464, 31, 314, 11, 2, 6, 719, 605, 11, 8, 202, 27, 310, 4, 2, 2, 8, 2, 58, 10, 10, 537, 2, 180, 40, 14, 413, 173, 7, 263, 112, 37, 152, 377, 4, 537, 263, 846, 579, 178, 54, 75, 71, 476, 36, 413, 263, 2, 182, 5, 17, 75, 2, 922, 36, 279, 131, 2, 17, 2, 42, 17, 35, 921, 2, 192, 5, 2, 2, 19, 2, 217, 2, 2, 537, 2, 2, 5, 736, 10, 10, 61, 403, 9, 2, 40, 61, 2, 5, 27, 2, 159, 90, 263, 2, 2, 309, 8, 178, 5, 82, 2, 4, 65, 15, 2, 145, 143, 2, 12, 2, 537, 746, 537, 537, 15, 2, 4, 2, 594, 7, 2, 94, 2, 2, 2, 11, 2, 4, 538, 7, 2, 246, 2, 9, 2, 11, 635, 14, 9, 51, 408, 12, 94, 318, 2, 12, 47, 6, 2, 936, 5, 2, 2, 19, 49, 7, 4, 2, 2, 2, 25, 80, 126, 842, 10, 10, 2, 2, 2, 27, 2, 11, 2, 2, 159, 27, 341, 29, 2, 19, 2, 173, 7, 90, 2, 8, 30, 11, 4, 2, 86, 2, 8, 2, 46, 11, 2, 21, 29, 9, 2, 23, 4, 2, 2, 793, 6, 2, 2, 2, 10, 10, 246, 50, 9, 6, 2, 2, 746, 90, 29, 2, 8, 124, 4, 882, 4, 882, 496, 27, 2, 2, 537, 121, 127, 2, 130, 5, 29, 494, 8, 124, 4, 882, 496, 4, 341, 7, 27, 846, 10, 10, 29, 9, 2, 8, 97, 6, 236, 2, 2, 8, 4, 2, 7, 31, 7, 2, 91, 2, 2, 70, 4, 882, 30, 579, 42, 9, 12, 32, 11, 537, 10, 10, 11, 14, 65, 44, 537, 75, 2, 2, 2, 2, 2, 4, 2, 7, 154, 5, 4, 518, 53, 2, 2, 7, 2, 882, 11, 399, 38, 75, 257, 2, 19, 2, 17, 29, 456, 4, 65, 7, 27, 205, 113, 10, 10, 2, 4, 2, 2, 9, 242, 4, 91, 2, 2, 5, 2, 307, 22, 7, 2, 126, 93, 40, 2, 13, 188, 2, 2, 19, 4, 2, 7, 2, 537, 23, 53, 537, 21, 82, 40, 2, 13, 2, 14, 280, 13, 219, 4, 2, 431, 758, 859, 4, 953, 2, 2, 7, 2, 5, 94, 40, 25, 238, 60, 2, 4, 2, 804, 2, 7, 4, 2, 132, 8, 67, 6, 22, 15, 9, 283, 8, 2, 14, 31, 9, 242, 955, 48, 25, 279, 2, 23, 12, 2, 195, 25, 238, 60, 796, 2, 4, 671, 7, 2, 5, 4, 559, 154, 888, 7, 726, 50, 26, 49, 2, 15, 566, 30, 579, 21, 64, 2]\n",
            "Label:긍정\n",
            "review Seq : [1, 249, 2, 7, 61, 113, 10, 10, 13, 2, 14, 20, 56, 33, 2, 18, 457, 88, 13, 2, 2, 45, 2, 13, 70, 79, 49, 706, 919, 13, 16, 355, 340, 355, 2, 96, 143, 4, 22, 32, 289, 7, 61, 369, 71, 2, 5, 13, 16, 131, 2, 249, 114, 249, 229, 249, 20, 13, 28, 126, 110, 13, 473, 8, 569, 61, 419, 56, 429, 6, 2, 18, 35, 534, 95, 474, 570, 5, 25, 124, 138, 88, 12, 421, 2, 52, 725, 2, 61, 419, 11, 13, 2, 15, 2, 20, 11, 4, 2, 5, 296, 12, 2, 5, 15, 421, 128, 74, 233, 334, 207, 126, 224, 12, 562, 298, 2, 2, 7, 2, 5, 516, 988, 43, 8, 79, 120, 15, 595, 13, 784, 25, 2, 18, 165, 170, 143, 19, 14, 5, 2, 6, 226, 251, 7, 61, 113]\n",
            "Label:부정\n",
            "review Seq : [1, 778, 128, 74, 12, 630, 163, 15, 4, 2, 2, 2, 2, 32, 85, 156, 45, 40, 148, 139, 121, 664, 665, 10, 10, 2, 173, 4, 749, 2, 16, 2, 8, 4, 226, 65, 12, 43, 127, 24, 2, 10, 10]\n",
            "Label:부정\n",
            "review Seq : [1, 2, 365, 2, 5, 2, 354, 11, 14, 2, 2, 7, 2, 2, 2, 356, 44, 4, 2, 500, 746, 5, 200, 4, 2, 11, 2, 2, 2, 2, 2, 5, 2, 26, 6, 2, 2, 17, 369, 37, 215, 2, 143, 2, 5, 2, 8, 2, 15, 36, 119, 257, 85, 52, 486, 9, 6, 2, 2, 63, 271, 6, 196, 96, 949, 2, 4, 2, 7, 4, 2, 2, 819, 63, 47, 77, 2, 180, 6, 227, 11, 94, 2, 2, 13, 423, 4, 168, 7, 4, 22, 5, 89, 665, 71, 270, 56, 5, 13, 197, 12, 161, 2, 99, 76, 23, 2, 7, 419, 665, 40, 91, 85, 108, 7, 4, 2, 5, 2, 81, 55, 52, 2]\n",
            "Label:긍정\n",
            "review Seq : [1, 4, 2, 716, 4, 65, 7, 4, 689, 2, 2, 2, 2, 2, 2, 2, 2, 2, 2, 2, 2, 2, 4, 2, 628, 2, 37, 9, 150, 4, 2, 2, 11, 2, 4, 2, 847, 313, 6, 176, 2, 9, 2, 138, 9, 2, 19, 4, 96, 183, 26, 4, 192, 15, 27, 2, 799, 2, 2, 588, 84, 11, 4, 2, 152, 339, 2, 42, 2, 2, 2, 345, 2, 2, 142, 43, 218, 208, 54, 29, 853, 659, 46, 4, 882, 183, 80, 115, 30, 4, 172, 174, 10, 10, 2, 398, 2, 2, 526, 34, 2, 2, 2, 2, 17, 4, 2, 2, 871, 64, 85, 22, 2, 2, 38, 230, 9, 4, 2, 2, 251, 2, 2, 195, 301, 14, 16, 31, 7, 4, 2, 8, 783, 2, 33, 4, 2, 103, 465, 2, 42, 845, 45, 446, 11, 2, 19, 184, 76, 32, 4, 2, 207, 110, 13, 197, 4, 2, 16, 601, 964, 2, 595, 13, 258, 4, 2, 66, 338, 55, 2, 4, 550, 728, 65, 2, 8, 2, 61, 2, 42, 2, 61, 602, 120, 45, 2, 6, 320, 786, 99, 196, 2, 786, 2, 4, 225, 4, 373, 2, 33, 4, 130, 63, 69, 72, 2, 46, 2, 225, 14, 66, 194, 2, 2, 56, 8, 803, 2, 6, 2, 155, 11, 4, 2, 2, 45, 853, 2, 8, 30, 6, 117, 430, 19, 6, 2, 9, 15, 66, 424, 8, 2, 178, 9, 15, 66, 424, 8, 2, 178, 9, 15, 66, 142, 15, 9, 424, 8, 28, 178, 662, 44, 12, 17, 4, 130, 898, 2, 9, 6, 2, 267, 185, 430, 4, 118, 2, 277, 15, 4, 2, 100, 216, 56, 19, 4, 357, 114, 2, 367, 45, 115, 93, 788, 121, 4, 2, 79, 32, 68, 278, 39, 8, 818, 162, 2, 237, 600, 7, 98, 306, 8, 157, 549, 628, 11, 6, 2, 13, 824, 15, 2, 76, 42, 138, 36, 774, 77, 2, 159, 150, 4, 229, 497, 8, 2, 11, 175, 251, 453, 19, 2, 189, 12, 43, 127, 6, 394, 292, 7, 2, 4, 107, 8, 4, 2, 15, 2, 2, 9, 906, 42, 2, 6, 66, 78, 22, 15, 13, 244, 2, 8, 135, 233, 52, 44, 10, 10, 466, 112, 398, 526, 34, 4, 2, 2, 2, 2, 225, 57, 599, 133, 225, 6, 227, 7, 541, 2, 6, 171, 139, 7, 539, 2, 56, 11, 6, 2, 21, 164, 25, 426, 81, 33, 344, 624, 19, 6, 2, 7, 2, 2, 6, 2, 4, 22, 9, 2, 629, 237, 45, 188, 6, 55, 655, 707, 2, 956, 225, 2, 841, 42, 2, 225, 6, 2, 2, 2, 2, 21, 4, 2, 9, 364, 23, 4, 2, 2, 225, 24, 76, 133, 18, 4, 189, 2, 10, 10, 814, 11, 2, 11, 2, 14, 47, 15, 682, 364, 352, 168, 44, 12, 45, 24, 913, 93, 21, 247, 2, 4, 116, 34, 35, 2, 8, 72, 177, 9, 164, 8, 901, 344, 44, 13, 191, 135, 13, 126, 421, 233, 18, 259, 10, 10, 4, 2, 2, 4, 2, 2, 7, 112, 199, 753, 357, 39, 63, 12, 115, 2, 763, 8, 15, 35, 2, 2, 65, 57, 599, 6, 2, 277, 2, 37, 25, 92, 202, 6, 2, 44, 25, 28, 6, 22, 15, 122, 24, 2, 72, 33, 32]\n",
            "Label:부정\n",
            "review Seq : [1, 43, 188, 46, 5, 566, 264, 51, 6, 530, 664, 14, 9, 2, 81, 25, 2, 46, 7, 6, 20, 750, 11, 141, 2, 5, 2, 2, 102, 28, 413, 38, 120, 2, 15, 4, 2, 7, 2, 142, 371, 318, 5, 955, 2, 571, 2, 2, 122, 14, 8, 72, 54, 12, 86, 385, 46, 5, 14, 20, 9, 399, 8, 72, 150, 13, 161, 124, 6, 155, 44, 14, 159, 170, 83, 12, 5, 51, 6, 866, 48, 25, 842, 4, 2, 25, 238, 79, 4, 547, 15, 14, 9, 31, 7, 148, 2, 102, 44, 35, 480, 2, 2, 19, 120, 4, 350, 228, 5, 269, 8, 28, 178, 2, 2, 7, 51, 6, 87, 65, 12, 9, 979, 21, 95, 24, 2, 178, 11, 2, 14, 9, 24, 15, 20, 4, 84, 376, 4, 65, 14, 127, 141, 6, 52, 292, 7, 2, 175, 561, 7, 68, 2, 137, 75, 2, 68, 182, 5, 235, 175, 333, 19, 98, 50, 9, 38, 76, 724, 4, 2, 15, 166, 285, 36, 140, 143, 38, 76, 53, 2, 2, 4, 2, 16, 82, 6, 87, 2, 44, 2, 2, 5, 800, 4, 2, 11, 35, 2, 96, 21, 14, 22, 9, 76, 53, 7, 6, 406, 65, 13, 43, 219, 12, 639, 21, 13, 80, 140, 5, 135, 15, 14, 9, 31, 7, 4, 118, 2, 13, 28, 126, 110]\n",
            "Label:긍정\n",
            "review Seq : [1, 14, 20, 47, 111, 439, 2, 19, 12, 15, 166, 12, 216, 125, 40, 6, 364, 352, 707, 2, 39, 294, 11, 22, 396, 13, 28, 8, 202, 12, 2, 23, 94, 2, 151, 111, 211, 469, 4, 20, 13, 258, 546, 2, 2, 12, 16, 38, 78, 33, 211, 15, 12, 16, 2, 63, 93, 12, 6, 253, 106, 10, 10, 48, 335, 267, 18, 6, 364, 2, 2, 20, 19, 6, 2, 7, 2, 189, 5, 6, 2, 7, 2, 2, 95, 2, 6, 2, 7, 2, 2, 49, 369, 120, 5, 28, 49, 253, 10, 10, 13, 2, 19, 85, 795, 15, 4, 481, 9, 55, 78, 807, 9, 375, 8, 2, 8, 794, 76, 7, 4, 58, 5, 4, 816, 9, 243, 7, 43, 50]\n",
            "Label:부정\n"
          ]
        }
      ],
      "source": [
        "for i in range(10):\n",
        "  if y_train[i] ==0:\n",
        "    label = '부정'\n",
        "  else:\n",
        "    label = \"긍정\"\n",
        "  \n",
        "  print(\"review Seq : {}\\nLabel:{}\".format(x_train[i],label))"
      ]
    },
    {
      "cell_type": "markdown",
      "metadata": {
        "id": "WyIx55fz5SzY"
      },
      "source": [
        "### (참고) IMDB 데이터셋에서 가장 많이 사용된 단어"
      ]
    },
    {
      "cell_type": "code",
      "execution_count": null,
      "metadata": {
        "colab": {
          "base_uri": "https://localhost:8080/"
        },
        "id": "KvpkbtUV2EwF",
        "outputId": "f1ef5cd2-fc02-4726-f333-80794b5ec44c"
      },
      "outputs": [
        {
          "output_type": "stream",
          "name": "stdout",
          "text": [
            "Downloading data from https://storage.googleapis.com/tensorflow/tf-keras-datasets/imdb_word_index.json\n",
            "1641221/1641221 [==============================] - 0s 0us/step\n",
            "the\n",
            "and\n",
            "a\n",
            "of\n",
            "to\n",
            "is\n",
            "br\n",
            "in\n",
            "it\n"
          ]
        }
      ],
      "source": [
        "word_index = {}\n",
        "\n",
        "for key, val in imdb.get_word_index().items():\n",
        "  word_index[val] = key\n",
        "\n",
        "for i in range(1,10):\n",
        "  print(word_index[i])"
      ]
    },
    {
      "cell_type": "markdown",
      "metadata": {
        "id": "izJKnVgY7NWl"
      },
      "source": [
        "### 데이터 전처리\n",
        "- 모든 데이터를 같은 길이로 맞추기\n",
        "\n",
        "  - `pad_sequence()`\n",
        "    - 데이터가 maxlen보다 길면 데이터를 자름\n",
        "\n",
        "    - 데이터가 길면 `padding` 설정\n",
        "      - `pre`: 데이터 앞에 0으로 채움\n",
        "      -  `post`: 데이터 뒤에 0으로 채움\n",
        "\n",
        "\n",
        "- 모든 데이터(문장 하나하나)가 같은 길이로 맞추어야 `Embedding` 레이어를 사용할 수 있음"
      ]
    },
    {
      "cell_type": "code",
      "execution_count": null,
      "metadata": {
        "id": "oAF2ZRV32Eup"
      },
      "outputs": [],
      "source": [
        "from tensorflow.keras.preprocessing.sequence import pad_sequences"
      ]
    },
    {
      "cell_type": "code",
      "execution_count": null,
      "metadata": {
        "id": "NOEVDkuD2EqT"
      },
      "outputs": [],
      "source": [
        "pad_x_train = pad_sequences(x_train, maxlen = max_len, padding='pre')\n",
        "pad_x_test = pad_sequences(x_test, maxlen = max_len, padding='pre')"
      ]
    },
    {
      "cell_type": "code",
      "execution_count": null,
      "metadata": {
        "colab": {
          "base_uri": "https://localhost:8080/"
        },
        "id": "nwpMCUb92Eoe",
        "outputId": "c3432c83-82eb-4868-917e-8ccb1c530ae7"
      },
      "outputs": [
        {
          "output_type": "stream",
          "name": "stdout",
          "text": [
            "218\n",
            "20\n"
          ]
        }
      ],
      "source": [
        "print(len(x_train[0]))\n",
        "print(len(pad_x_train[0]))"
      ]
    },
    {
      "cell_type": "code",
      "execution_count": null,
      "metadata": {
        "colab": {
          "base_uri": "https://localhost:8080/"
        },
        "id": "RF9sFjn62El8",
        "outputId": "7d394daf-87ea-423a-9e9a-2d1a637a359f"
      },
      "outputs": [
        {
          "output_type": "stream",
          "name": "stdout",
          "text": [
            "[1, 14, 22, 16, 43, 530, 973, 2, 2, 65, 458, 2, 66, 2, 4, 173, 36, 256, 5, 25, 100, 43, 838, 112, 50, 670, 2, 9, 35, 480, 284, 5, 150, 4, 172, 112, 167, 2, 336, 385, 39, 4, 172, 2, 2, 17, 546, 38, 13, 447, 4, 192, 50, 16, 6, 147, 2, 19, 14, 22, 4, 2, 2, 469, 4, 22, 71, 87, 12, 16, 43, 530, 38, 76, 15, 13, 2, 4, 22, 17, 515, 17, 12, 16, 626, 18, 2, 5, 62, 386, 12, 8, 316, 8, 106, 5, 4, 2, 2, 16, 480, 66, 2, 33, 4, 130, 12, 16, 38, 619, 5, 25, 124, 51, 36, 135, 48, 25, 2, 33, 6, 22, 12, 215, 28, 77, 52, 5, 14, 407, 16, 82, 2, 8, 4, 107, 117, 2, 15, 256, 4, 2, 7, 2, 5, 723, 36, 71, 43, 530, 476, 26, 400, 317, 46, 7, 4, 2, 2, 13, 104, 88, 4, 381, 15, 297, 98, 32, 2, 56, 26, 141, 6, 194, 2, 18, 4, 226, 22, 21, 134, 476, 26, 480, 5, 144, 30, 2, 18, 51, 36, 28, 224, 92, 25, 104, 4, 226, 65, 16, 38, 2, 88, 12, 16, 283, 5, 16, 2, 113, 103, 32, 15, 16, 2, 19, 178, 32]\n",
            "[ 65  16  38   2  88  12  16 283   5  16   2 113 103  32  15  16   2  19\n",
            " 178  32]\n"
          ]
        }
      ],
      "source": [
        "print(x_train[0])\n",
        "print(pad_x_train[0])"
      ]
    },
    {
      "cell_type": "markdown",
      "metadata": {
        "id": "iVSjFumg-TBt"
      },
      "source": [
        "### 모델 구성"
      ]
    },
    {
      "cell_type": "code",
      "execution_count": null,
      "metadata": {
        "colab": {
          "base_uri": "https://localhost:8080/"
        },
        "id": "Blq1UZP92Ed4",
        "outputId": "2c69bee9-43a0-4126-e8be-074d960f96e2"
      },
      "outputs": [
        {
          "output_type": "stream",
          "name": "stdout",
          "text": [
            "Model: \"sequential\"\n",
            "_________________________________________________________________\n",
            " Layer (type)                Output Shape              Param #   \n",
            "=================================================================\n",
            " embedding_1 (Embedding)     (None, 20, 32)            32000     \n",
            "                                                                 \n",
            " flatten (Flatten)           (None, 640)               0         \n",
            "                                                                 \n",
            " dense (Dense)               (None, 1)                 641       \n",
            "                                                                 \n",
            "=================================================================\n",
            "Total params: 32,641\n",
            "Trainable params: 32,641\n",
            "Non-trainable params: 0\n",
            "_________________________________________________________________\n"
          ]
        }
      ],
      "source": [
        "model = Sequential()\n",
        "\n",
        "model.add(Embedding(input_dim = num_words, output_dim =32,\n",
        "                    input_length = max_len))\n",
        "model.add(Flatten())\n",
        "model.add(Dense(1, activation = 'sigmoid'))\n",
        "\n",
        "model.summary()"
      ]
    },
    {
      "cell_type": "markdown",
      "metadata": {
        "id": "H1VqPWEa-m9i"
      },
      "source": [
        "### 모델 컴파일 및 학습"
      ]
    },
    {
      "cell_type": "code",
      "execution_count": null,
      "metadata": {
        "id": "CEXe_6de2EcK"
      },
      "outputs": [],
      "source": [
        "model.compile(optimizer = 'rmsprop',\n",
        "              loss = 'binary_crossentropy',\n",
        "              metrics =['acc'])"
      ]
    },
    {
      "cell_type": "code",
      "execution_count": null,
      "metadata": {
        "colab": {
          "base_uri": "https://localhost:8080/"
        },
        "id": "Xr3pegjQ2Eal",
        "outputId": "3edbb4b7-77ac-407d-9809-0eb238b89ad3"
      },
      "outputs": [
        {
          "output_type": "stream",
          "name": "stdout",
          "text": [
            "Epoch 1/10\n",
            "625/625 [==============================] - 3s 3ms/step - loss: 0.6377 - acc: 0.6508 - val_loss: 0.5647 - val_acc: 0.7054\n",
            "Epoch 2/10\n",
            "625/625 [==============================] - 2s 3ms/step - loss: 0.5129 - acc: 0.7461 - val_loss: 0.5299 - val_acc: 0.7256\n",
            "Epoch 3/10\n",
            "625/625 [==============================] - 2s 2ms/step - loss: 0.4788 - acc: 0.7645 - val_loss: 0.5291 - val_acc: 0.7290\n",
            "Epoch 4/10\n",
            "625/625 [==============================] - 1s 2ms/step - loss: 0.4570 - acc: 0.7814 - val_loss: 0.5336 - val_acc: 0.7266\n",
            "Epoch 5/10\n",
            "625/625 [==============================] - 2s 2ms/step - loss: 0.4366 - acc: 0.7936 - val_loss: 0.5384 - val_acc: 0.7254\n",
            "Epoch 6/10\n",
            "625/625 [==============================] - 1s 2ms/step - loss: 0.4155 - acc: 0.8076 - val_loss: 0.5475 - val_acc: 0.7202\n",
            "Epoch 7/10\n",
            "625/625 [==============================] - 1s 2ms/step - loss: 0.3939 - acc: 0.8250 - val_loss: 0.5591 - val_acc: 0.7226\n",
            "Epoch 8/10\n",
            "625/625 [==============================] - 1s 2ms/step - loss: 0.3730 - acc: 0.8386 - val_loss: 0.5727 - val_acc: 0.7158\n",
            "Epoch 9/10\n",
            "625/625 [==============================] - 1s 2ms/step - loss: 0.3529 - acc: 0.8508 - val_loss: 0.5896 - val_acc: 0.7096\n",
            "Epoch 10/10\n",
            "625/625 [==============================] - 1s 2ms/step - loss: 0.3345 - acc: 0.8604 - val_loss: 0.6056 - val_acc: 0.7038\n"
          ]
        }
      ],
      "source": [
        "history = model.fit(pad_x_train, y_train, \n",
        "                   epochs = 10,\n",
        "                   batch_size = 32,\n",
        "                   validation_split = 0.2)"
      ]
    },
    {
      "cell_type": "markdown",
      "metadata": {
        "id": "-gNKkWKP_3c0"
      },
      "source": [
        "### 시각화"
      ]
    },
    {
      "cell_type": "code",
      "execution_count": null,
      "metadata": {
        "id": "PYKPQO1B_-EJ"
      },
      "outputs": [],
      "source": [
        "import matplotlib.pyplot as plt"
      ]
    },
    {
      "cell_type": "code",
      "execution_count": null,
      "metadata": {
        "colab": {
          "base_uri": "https://localhost:8080/"
        },
        "id": "vMP67mYsAQ9q",
        "outputId": "488d62ba-5c1d-4d5d-a2aa-11802ec95dbe"
      },
      "outputs": [
        {
          "output_type": "execute_result",
          "data": {
            "text/plain": [
              "dict_keys(['loss', 'acc', 'val_loss', 'val_acc'])"
            ]
          },
          "metadata": {},
          "execution_count": 32
        }
      ],
      "source": [
        "hist_dict = history.history\n",
        "hist_dict.keys()"
      ]
    },
    {
      "cell_type": "code",
      "execution_count": null,
      "metadata": {
        "colab": {
          "base_uri": "https://localhost:8080/",
          "height": 516
        },
        "id": "d_EjuJva_4YP",
        "outputId": "5884776f-1764-4cc7-dd6b-5381dad9a802"
      },
      "outputs": [
        {
          "output_type": "display_data",
          "data": {
            "text/plain": [
              "<Figure size 432x288 with 1 Axes>"
            ],
            "image/png": "[encoded data removed]"
          },
          "metadata": {
            "needs_background": "light"
          }
        },
        {
          "output_type": "display_data",
          "data": {
            "text/plain": [
              "<Figure size 432x288 with 1 Axes>"
            ],
            "image/png": "[encoded data removed]"
          },
          "metadata": {
            "needs_background": "light"
          }
        }
      ],
      "source": [
        "plt.plot(hist_dict['loss'], 'b-', label = 'Train Loss')\n",
        "plt.plot(hist_dict['val_loss'], 'r:', label = 'Validation Loss')\n",
        "plt.legend()\n",
        "plt.grid()\n",
        "\n",
        "plt.figure()\n",
        "plt.plot(hist_dict['acc'], 'b-', label = 'Train Accuracy')\n",
        "plt.plot(hist_dict['val_acc'], 'r:', label='Validation Accuracy')\n",
        "plt.legend()\n",
        "plt.grid()\n",
        "\n",
        "plt.show()"
      ]
    },
    {
      "cell_type": "markdown",
      "metadata": {
        "id": "3GtELilA_avO"
      },
      "source": [
        "### 모델 평가"
      ]
    },
    {
      "cell_type": "code",
      "execution_count": null,
      "metadata": {
        "colab": {
          "base_uri": "https://localhost:8080/"
        },
        "id": "_U0Dz9je2ESh",
        "outputId": "e56965a4-e192-4f7d-8d22-451bbd32cff0"
      },
      "outputs": [
        {
          "output_type": "stream",
          "name": "stdout",
          "text": [
            "782/782 [==============================] - 1s 2ms/step - loss: 0.5991 - acc: 0.7067\n"
          ]
        },
        {
          "output_type": "execute_result",
          "data": {
            "text/plain": [
              "[0.5991094708442688, 0.7067199945449829]"
            ]
          },
          "metadata": {},
          "execution_count": 34
        }
      ],
      "source": [
        "model.evaluate(pad_x_test, y_test)"
      ]
    },
    {
      "cell_type": "markdown",
      "metadata": {
        "id": "6aJqudd0AwGa"
      },
      "source": [
        "### 단어의 수를 늘린 후 재학습"
      ]
    },
    {
      "cell_type": "code",
      "execution_count": null,
      "metadata": {
        "id": "C1itQHMDA1hn"
      },
      "outputs": [],
      "source": [
        "num_words = 1000\n",
        "max_len = 500\n",
        "\n",
        "pad_x_train_2 = pad_sequences(x_train, maxlen = max_len, padding='pre')\n",
        "pad_x_test_2 = pad_sequences(x_test, maxlen = max_len, padding='pre')"
      ]
    },
    {
      "cell_type": "markdown",
      "metadata": {
        "id": "e2WL_yueBibH"
      },
      "source": [
        "데이터 확인"
      ]
    },
    {
      "cell_type": "code",
      "execution_count": null,
      "metadata": {
        "colab": {
          "base_uri": "https://localhost:8080/"
        },
        "id": "AydBwyBMA1ku",
        "outputId": "4a851b68-ecfc-46d5-d1e8-c4d4e41361a4"
      },
      "outputs": [
        {
          "output_type": "stream",
          "name": "stdout",
          "text": [
            "[1, 14, 22, 16, 43, 530, 973, 2, 2, 65, 458, 2, 66, 2, 4, 173, 36, 256, 5, 25, 100, 43, 838, 112, 50, 670, 2, 9, 35, 480, 284, 5, 150, 4, 172, 112, 167, 2, 336, 385, 39, 4, 172, 2, 2, 17, 546, 38, 13, 447, 4, 192, 50, 16, 6, 147, 2, 19, 14, 22, 4, 2, 2, 469, 4, 22, 71, 87, 12, 16, 43, 530, 38, 76, 15, 13, 2, 4, 22, 17, 515, 17, 12, 16, 626, 18, 2, 5, 62, 386, 12, 8, 316, 8, 106, 5, 4, 2, 2, 16, 480, 66, 2, 33, 4, 130, 12, 16, 38, 619, 5, 25, 124, 51, 36, 135, 48, 25, 2, 33, 6, 22, 12, 215, 28, 77, 52, 5, 14, 407, 16, 82, 2, 8, 4, 107, 117, 2, 15, 256, 4, 2, 7, 2, 5, 723, 36, 71, 43, 530, 476, 26, 400, 317, 46, 7, 4, 2, 2, 13, 104, 88, 4, 381, 15, 297, 98, 32, 2, 56, 26, 141, 6, 194, 2, 18, 4, 226, 22, 21, 134, 476, 26, 480, 5, 144, 30, 2, 18, 51, 36, 28, 224, 92, 25, 104, 4, 226, 65, 16, 38, 2, 88, 12, 16, 283, 5, 16, 2, 113, 103, 32, 15, 16, 2, 19, 178, 32]\n",
            "[  0   0   0   0   0   0   0   0   0   0   0   0   0   0   0   0   0   0\n",
            "   0   0   0   0   0   0   0   0   0   0   0   0   0   0   0   0   0   0\n",
            "   0   0   0   0   0   0   0   0   0   0   0   0   0   0   0   0   0   0\n",
            "   0   0   0   0   0   0   0   0   0   0   0   0   0   0   0   0   0   0\n",
            "   0   0   0   0   0   0   0   0   0   0   0   0   0   0   0   0   0   0\n",
            "   0   0   0   0   0   0   0   0   0   0   0   0   0   0   0   0   0   0\n",
            "   0   0   0   0   0   0   0   0   0   0   0   0   0   0   0   0   0   0\n",
            "   0   0   0   0   0   0   0   0   0   0   0   0   0   0   0   0   0   0\n",
            "   0   0   0   0   0   0   0   0   0   0   0   0   0   0   0   0   0   0\n",
            "   0   0   0   0   0   0   0   0   0   0   0   0   0   0   0   0   0   0\n",
            "   0   0   0   0   0   0   0   0   0   0   0   0   0   0   0   0   0   0\n",
            "   0   0   0   0   0   0   0   0   0   0   0   0   0   0   0   0   0   0\n",
            "   0   0   0   0   0   0   0   0   0   0   0   0   0   0   0   0   0   0\n",
            "   0   0   0   0   0   0   0   0   0   0   0   0   0   0   0   0   0   0\n",
            "   0   0   0   0   0   0   0   0   0   0   0   0   0   0   0   0   0   0\n",
            "   0   0   0   0   0   0   0   0   0   0   0   0   1  14  22  16  43 530\n",
            " 973   2   2  65 458   2  66   2   4 173  36 256   5  25 100  43 838 112\n",
            "  50 670   2   9  35 480 284   5 150   4 172 112 167   2 336 385  39   4\n",
            " 172   2   2  17 546  38  13 447   4 192  50  16   6 147   2  19  14  22\n",
            "   4   2   2 469   4  22  71  87  12  16  43 530  38  76  15  13   2   4\n",
            "  22  17 515  17  12  16 626  18   2   5  62 386  12   8 316   8 106   5\n",
            "   4   2   2  16 480  66   2  33   4 130  12  16  38 619   5  25 124  51\n",
            "  36 135  48  25   2  33   6  22  12 215  28  77  52   5  14 407  16  82\n",
            "   2   8   4 107 117   2  15 256   4   2   7   2   5 723  36  71  43 530\n",
            " 476  26 400 317  46   7   4   2   2  13 104  88   4 381  15 297  98  32\n",
            "   2  56  26 141   6 194   2  18   4 226  22  21 134 476  26 480   5 144\n",
            "  30   2  18  51  36  28 224  92  25 104   4 226  65  16  38   2  88  12\n",
            "  16 283   5  16   2 113 103  32  15  16   2  19 178  32]\n"
          ]
        }
      ],
      "source": [
        "print(x_train[0])\n",
        "print(pad_x_train_2[0])"
      ]
    },
    {
      "cell_type": "code",
      "execution_count": null,
      "metadata": {
        "colab": {
          "base_uri": "https://localhost:8080/"
        },
        "id": "mK2kQxNUA1eB",
        "outputId": "0ae0405b-e4d9-4428-8b1e-4078af8cff21"
      },
      "outputs": [
        {
          "output_type": "stream",
          "name": "stdout",
          "text": [
            "Model: \"sequential_1\"\n",
            "_________________________________________________________________\n",
            " Layer (type)                Output Shape              Param #   \n",
            "=================================================================\n",
            " embedding_2 (Embedding)     (None, 500, 32)           32000     \n",
            "                                                                 \n",
            " flatten_1 (Flatten)         (None, 16000)             0         \n",
            "                                                                 \n",
            " dense_1 (Dense)             (None, 1)                 16001     \n",
            "                                                                 \n",
            "=================================================================\n",
            "Total params: 48,001\n",
            "Trainable params: 48,001\n",
            "Non-trainable params: 0\n",
            "_________________________________________________________________\n"
          ]
        }
      ],
      "source": [
        "model2 = Sequential()\n",
        "\n",
        "model2.add(Embedding(input_dim = num_words, output_dim =32,\n",
        "                    input_length = max_len))\n",
        "model2.add(Flatten())\n",
        "model2.add(Dense(1, activation = 'sigmoid'))\n",
        "\n",
        "model2.summary()\n",
        "model2.compile(optimizer = 'rmsprop',\n",
        "              loss = 'binary_crossentropy',\n",
        "              metrics =['acc'])"
      ]
    },
    {
      "cell_type": "code",
      "execution_count": null,
      "metadata": {
        "colab": {
          "base_uri": "https://localhost:8080/"
        },
        "id": "I5BK5HXnBtIN",
        "outputId": "a135c0ce-9f0a-4642-d690-7f90465a10e7"
      },
      "outputs": [
        {
          "output_type": "stream",
          "name": "stdout",
          "text": [
            "Epoch 1/10\n",
            "625/625 [==============================] - 5s 7ms/step - loss: 0.5167 - acc: 0.7390 - val_loss: 0.3799 - val_acc: 0.8318\n",
            "Epoch 2/10\n",
            "625/625 [==============================] - 4s 6ms/step - loss: 0.3124 - acc: 0.8676 - val_loss: 0.3344 - val_acc: 0.8592\n",
            "Epoch 3/10\n",
            "625/625 [==============================] - 4s 6ms/step - loss: 0.2644 - acc: 0.8905 - val_loss: 0.3309 - val_acc: 0.8634\n",
            "Epoch 4/10\n",
            "625/625 [==============================] - 4s 6ms/step - loss: 0.2233 - acc: 0.9133 - val_loss: 0.3432 - val_acc: 0.8602\n",
            "Epoch 5/10\n",
            "625/625 [==============================] - 4s 7ms/step - loss: 0.1828 - acc: 0.9334 - val_loss: 0.3651 - val_acc: 0.8530\n",
            "Epoch 6/10\n",
            "625/625 [==============================] - 4s 7ms/step - loss: 0.1458 - acc: 0.9509 - val_loss: 0.3896 - val_acc: 0.8466\n",
            "Epoch 7/10\n",
            "625/625 [==============================] - 4s 6ms/step - loss: 0.1136 - acc: 0.9650 - val_loss: 0.4168 - val_acc: 0.8402\n",
            "Epoch 8/10\n",
            "625/625 [==============================] - 4s 6ms/step - loss: 0.0864 - acc: 0.9760 - val_loss: 0.4581 - val_acc: 0.8360\n",
            "Epoch 9/10\n",
            "625/625 [==============================] - 6s 9ms/step - loss: 0.0638 - acc: 0.9849 - val_loss: 0.5198 - val_acc: 0.8294\n",
            "Epoch 10/10\n",
            "625/625 [==============================] - 7s 12ms/step - loss: 0.0458 - acc: 0.9904 - val_loss: 0.5439 - val_acc: 0.8290\n"
          ]
        }
      ],
      "source": [
        "history2 = model2.fit(pad_x_train_2, y_train, \n",
        "                   epochs = 10,\n",
        "                   batch_size = 32,\n",
        "                   validation_split = 0.2)"
      ]
    },
    {
      "cell_type": "code",
      "execution_count": null,
      "metadata": {
        "colab": {
          "base_uri": "https://localhost:8080/",
          "height": 515
        },
        "id": "odClZim0Bs-O",
        "outputId": "bff4b2e7-563e-4d88-d14f-0faf9cf3655a"
      },
      "outputs": [
        {
          "output_type": "display_data",
          "data": {
            "text/plain": [
              "<Figure size 432x288 with 1 Axes>"
            ],
            "image/png": "[encoded data removed]"
          },
          "metadata": {
            "needs_background": "light"
          }
        },
        {
          "output_type": "display_data",
          "data": {
            "text/plain": [
              "<Figure size 432x288 with 1 Axes>"
            ],
            "image/png": "[encoded data removed]"
          },
          "metadata": {
            "needs_background": "light"
          }
        }
      ],
      "source": [
        "hist_dict2 = history2.history\n",
        "\n",
        "plt.plot(hist_dict2['loss'], 'b-', label = 'Train Loss')\n",
        "plt.plot(hist_dict2['val_loss'], 'r:', label = 'Validation Loss')\n",
        "plt.legend()\n",
        "plt.grid()\n",
        "\n",
        "plt.figure()\n",
        "plt.plot(hist_dict2['acc'], 'b-', label = 'Train Accuracy')\n",
        "plt.plot(hist_dict2['val_acc'], 'r:', label='Validation Accuracy')\n",
        "plt.legend()\n",
        "plt.grid()\n",
        "\n",
        "plt.show()"
      ]
    },
    {
      "cell_type": "code",
      "execution_count": null,
      "metadata": {
        "colab": {
          "base_uri": "https://localhost:8080/"
        },
        "id": "rVPTlmjZB--j",
        "outputId": "f246e41d-5aca-41d7-b8f7-cf1bf7775b29"
      },
      "outputs": [
        {
          "output_type": "stream",
          "name": "stdout",
          "text": [
            "782/782 [==============================] - 6s 8ms/step - loss: 0.5321 - acc: 0.8309\n"
          ]
        },
        {
          "output_type": "execute_result",
          "data": {
            "text/plain": [
              "[0.5321435332298279, 0.8308799862861633]"
            ]
          },
          "metadata": {},
          "execution_count": 40
        }
      ],
      "source": [
        "model2.evaluate(pad_x_test_2, y_test)"
      ]
    },
    {
      "cell_type": "markdown",
      "metadata": {
        "id": "6I0C5ueK73_g"
      },
      "source": [
        "위의 결과도 나쁘지 않으나 과적합이 되는 이유\n",
        "- 단어간 관계나 문장 구조 등 의미적 연결을 고려하지 않음\n",
        "\n",
        "- 시퀀스 전체를 고려한 특성을 학습하는 것은 `Embedding`층 위에 `RNN`층이나 `1D 합성곱`을 추가하는 것이 좋음\n"
      ]
    },
    {
      "cell_type": "markdown",
      "metadata": {
        "id": "Ta_Ktilw73_h"
      },
      "source": [
        "## 단어 임베딩의 종류\n",
        "- LSA\n",
        "\n",
        "- Word2Vec\n",
        "\n",
        "- GloVe\n",
        "\n",
        "- FastText\n",
        "\n",
        "- etc..\n",
        "\n",
        "<!-- ## 사전 훈련된 모델\n",
        "https://github.com/Hironsan/awesome-embedding-models#pre-trained-word-vectors -->"
      ]
    },
    {
      "cell_type": "markdown",
      "metadata": {
        "id": "ud_-PnE873_h"
      },
      "source": [
        "## Word2Vec\n",
        "\n",
        "- 2013년, Mikolov 와 동료들이 제안한 모형\n",
        "\n",
        "- 분류 등과 같이 별도의 레이블이 없이 텍스트 자체만 있어도 학습이 가능\n",
        "\n",
        "- Word2Vec의 방식  \n",
        "  주변 단어의 관계를 이용\n",
        "\n",
        "  - CBOW(continuous bag-of-words)\n",
        "    - 주변단어의 임베딩을 더해서 대상단어를 예측\n",
        "\n",
        "  - Skip-Gram\n",
        "    - 대상 단어의 임베딩으로 주변단어를 예측\n",
        "\n",
        "    - 일반적으로 CBOW보다 성능이 좋은 편\n",
        "\n",
        "    - 한번에 여러 단어를 예측해야하기 때문에 비효율적  \n",
        "      최근에는 **negative sampling**이라는 방법을 사용\n",
        "\n",
        "  <img src=\"https://www.researchgate.net/publication/328160770/figure/fig14/AS:679665089925122@1539056193562/CBOW-and-Skip-Gram-neural-architectures.ppm\">\n",
        "\n",
        "  <sub>출처: https://www.researchgate.net/figure/CBOW-and-Skip-Gram-neural-architectures_fig14_328160770</sub>"
      ]
    },
    {
      "cell_type": "markdown",
      "metadata": {
        "id": "IImEBTAw73_h"
      },
      "source": [
        "### 구텐베르크 프로젝트 예제\n",
        "- 코드 출처 : http://doc.mindscale.kr/km/unstructured/11.html"
      ]
    },
    {
      "cell_type": "code",
      "execution_count": null,
      "metadata": {
        "id": "O3HdJU7973_h"
      },
      "outputs": [],
      "source": [
        "import requests\n",
        "import re"
      ]
    },
    {
      "cell_type": "markdown",
      "metadata": {
        "id": "Ww3UwfBu73_j"
      },
      "source": [
        "### 데이터 다운로드"
      ]
    },
    {
      "cell_type": "code",
      "execution_count": null,
      "metadata": {
        "colab": {
          "base_uri": "https://localhost:8080/"
        },
        "id": "I3OVWgzq73_j",
        "outputId": "1e93f822-9b70-43df-d298-d1933bdabb77"
      },
      "outputs": [
        {
          "output_type": "execute_result",
          "data": {
            "text/plain": [
              "<Response [200]>"
            ]
          },
          "metadata": {},
          "execution_count": 42
        }
      ],
      "source": [
        "res = requests.get('http://www.gutenberg.org/files/2591/2591-0.txt')\n",
        "res"
      ]
    },
    {
      "cell_type": "markdown",
      "metadata": {
        "id": "GWq3UXrb73_k"
      },
      "source": [
        "### 데이터 전처리"
      ]
    },
    {
      "cell_type": "code",
      "execution_count": null,
      "metadata": {
        "id": "0gUUDrZ273_l"
      },
      "outputs": [],
      "source": [
        "grimm = res.text[2801:530661]\n",
        "grimm = re.sub(r'[^a-zA-Z\\.]',' ', grimm)\n",
        "sentences = grimm.split('. ')\n",
        "data = [s.split() for s in sentences]"
      ]
    },
    {
      "cell_type": "code",
      "execution_count": null,
      "metadata": {
        "colab": {
          "base_uri": "https://localhost:8080/"
        },
        "id": "z-L4XE5m73_n",
        "outputId": "2bd3728d-401a-47c5-effa-9ac999b28b15"
      },
      "outputs": [
        {
          "output_type": "execute_result",
          "data": {
            "text/plain": [
              "3468"
            ]
          },
          "metadata": {},
          "execution_count": 44
        }
      ],
      "source": [
        "len(data)"
      ]
    },
    {
      "cell_type": "code",
      "execution_count": null,
      "metadata": {
        "colab": {
          "base_uri": "https://localhost:8080/"
        },
        "id": "AKvPelJI73_p",
        "outputId": "b5e4e1f0-0289-4bd4-8362-283a61b54b3b"
      },
      "outputs": [
        {
          "output_type": "execute_result",
          "data": {
            "text/plain": [
              "['SECOND',\n",
              " 'STORY',\n",
              " 'THE',\n",
              " 'SALAD',\n",
              " 'THE',\n",
              " 'STORY',\n",
              " 'OF',\n",
              " 'THE',\n",
              " 'YOUTH',\n",
              " 'WHO',\n",
              " 'WENT',\n",
              " 'FORTH',\n",
              " 'TO',\n",
              " 'LEARN',\n",
              " 'WHAT',\n",
              " 'FEAR',\n",
              " 'WAS',\n",
              " 'KING',\n",
              " 'GRISLY',\n",
              " 'BEARD',\n",
              " 'IRON',\n",
              " 'HANS',\n",
              " 'CAT',\n",
              " 'SKIN',\n",
              " 'SNOW',\n",
              " 'WHITE',\n",
              " 'AND',\n",
              " 'ROSE',\n",
              " 'RED',\n",
              " 'THE',\n",
              " 'BROTHERS',\n",
              " 'GRIMM',\n",
              " 'FAIRY',\n",
              " 'TALES',\n",
              " 'THE',\n",
              " 'GOLDEN',\n",
              " 'BIRD',\n",
              " 'A',\n",
              " 'certain',\n",
              " 'king',\n",
              " 'had',\n",
              " 'a',\n",
              " 'beautiful',\n",
              " 'garden',\n",
              " 'and',\n",
              " 'in',\n",
              " 'the',\n",
              " 'garden',\n",
              " 'stood',\n",
              " 'a',\n",
              " 'tree',\n",
              " 'which',\n",
              " 'bore',\n",
              " 'golden',\n",
              " 'apples']"
            ]
          },
          "metadata": {},
          "execution_count": 45
        }
      ],
      "source": [
        "data[0]"
      ]
    },
    {
      "cell_type": "markdown",
      "metadata": {
        "id": "DtGbFupQ73_q"
      },
      "source": [
        "`gensim` 패키지로부터 WordVec을 불러오기"
      ]
    },
    {
      "cell_type": "code",
      "execution_count": null,
      "metadata": {
        "id": "B_DpKzfb73_r"
      },
      "outputs": [],
      "source": [
        "from gensim.models.word2vec import Word2Vec"
      ]
    },
    {
      "cell_type": "markdown",
      "metadata": {
        "id": "Qetkdwa_73_s"
      },
      "source": [
        "`sg` 인자에 0을 넘겨주면 CBOW, 1을 넘겨주면 Skip-gram"
      ]
    },
    {
      "cell_type": "code",
      "execution_count": null,
      "metadata": {
        "id": "tAHpdmW173_s"
      },
      "outputs": [],
      "source": [
        "model = Word2Vec(data, sg = 1, size = 100, window = 3, min_count = 3, workers =4)"
      ]
    },
    {
      "cell_type": "markdown",
      "metadata": {
        "id": "PAbHRstj73_v"
      },
      "source": [
        "### 모델 저장 및 로드"
      ]
    },
    {
      "cell_type": "code",
      "execution_count": null,
      "metadata": {
        "id": "y-Quf97y73_v"
      },
      "outputs": [],
      "source": [
        "model.save('word2vec.model')"
      ]
    },
    {
      "cell_type": "code",
      "execution_count": null,
      "metadata": {
        "id": "JT46WXaj73_x"
      },
      "outputs": [],
      "source": [
        "pretrained_model = Word2Vec.load('word2vec.model')"
      ]
    },
    {
      "cell_type": "markdown",
      "metadata": {
        "id": "eAaiFUId73_0"
      },
      "source": [
        "### 단어를 벡터로 변환\n",
        "- `wv`"
      ]
    },
    {
      "cell_type": "code",
      "execution_count": null,
      "metadata": {
        "colab": {
          "base_uri": "https://localhost:8080/"
        },
        "id": "-p-jlF8373_0",
        "outputId": "301c6cf4-040d-4509-a8b8-5b10ec54c25b"
      },
      "outputs": [
        {
          "output_type": "execute_result",
          "data": {
            "text/plain": [
              "array([-9.79151577e-02, -3.13156515e-01, -9.16454792e-02,  1.41121849e-01,\n",
              "       -2.67226070e-01,  2.66364127e-01,  7.10808337e-02,  1.39884263e-01,\n",
              "       -1.12227783e-01, -1.28286421e-01, -1.08538315e-01, -4.65206765e-02,\n",
              "        2.02682503e-02,  4.90794368e-02, -3.46516669e-01,  1.94100209e-03,\n",
              "        1.88921802e-02,  6.75808117e-02,  1.21383160e-01,  2.49814704e-01,\n",
              "        2.95928031e-01,  4.86853160e-02, -2.40737900e-01, -4.04473245e-02,\n",
              "       -2.08559856e-01, -8.27345997e-02, -1.24735631e-01,  6.57051355e-02,\n",
              "        4.52569406e-03, -1.29136756e-01,  3.08012832e-02, -1.35111734e-01,\n",
              "       -7.51794428e-02,  6.87554628e-02, -3.95150371e-02,  1.45101845e-01,\n",
              "       -2.79772393e-02, -1.28670827e-01, -8.03901851e-02, -8.19806010e-02,\n",
              "       -2.74824351e-03,  4.06742394e-02, -2.31100425e-01, -3.52152251e-02,\n",
              "       -3.99488479e-01, -5.72329424e-02, -1.86747551e-01,  1.18806977e-02,\n",
              "        6.58308491e-02, -8.98719281e-02, -2.23832481e-04,  1.32512957e-01,\n",
              "       -2.71708161e-01, -2.22380925e-02, -4.31611799e-02, -1.84929688e-02,\n",
              "       -6.75194189e-02, -4.64780688e-01, -1.48518592e-01,  2.45498922e-02,\n",
              "        2.52699465e-01,  8.37524608e-02,  1.90415800e-01,  3.15134048e-01,\n",
              "        1.13813803e-01, -1.16805442e-01, -1.20546527e-01,  5.10521568e-02,\n",
              "        1.10797822e-01,  3.84520516e-02,  1.24766521e-01,  1.70039102e-01,\n",
              "        1.59052908e-01, -1.92231387e-01,  1.37323692e-01, -2.31482118e-01,\n",
              "        3.26694697e-02,  1.06359310e-01,  2.27512658e-01, -9.92870424e-03,\n",
              "       -8.32355767e-02,  4.43164706e-02,  1.16015732e-01,  1.63725972e-01,\n",
              "       -5.04285423e-03,  2.92252079e-02,  1.41647935e-01, -2.20608786e-02,\n",
              "       -9.53290164e-02,  9.63509306e-02, -4.11523804e-02, -8.69177803e-02,\n",
              "        8.77305046e-02, -2.38244310e-02,  2.31615365e-01, -2.40888864e-01,\n",
              "        1.52588621e-01,  1.60536483e-01, -8.83408338e-02, -4.72269692e-02],\n",
              "      dtype=float32)"
            ]
          },
          "metadata": {},
          "execution_count": 50
        }
      ],
      "source": [
        "pretrained_model.wv['princess']"
      ]
    },
    {
      "cell_type": "markdown",
      "metadata": {
        "id": "zF1Ud2VK73_2"
      },
      "source": [
        "### 유추 또는 유비(analogy)\n",
        "- `wv.similarity()`에 두 단어를 넘겨주면 코사인 유사도를 구할 수 있음"
      ]
    },
    {
      "cell_type": "code",
      "execution_count": null,
      "metadata": {
        "colab": {
          "base_uri": "https://localhost:8080/"
        },
        "id": "n6EZcuj_73_2",
        "outputId": "4125e78d-9254-4721-8f35-da1f44973373"
      },
      "outputs": [
        {
          "output_type": "execute_result",
          "data": {
            "text/plain": [
              "0.83315235"
            ]
          },
          "metadata": {},
          "execution_count": 51
        }
      ],
      "source": [
        "pretrained_model.wv.similarity('king','prince')"
      ]
    },
    {
      "cell_type": "markdown",
      "metadata": {
        "id": "VvlbGf_k73_4"
      },
      "source": [
        "- `wv.most_similar()`에 단어를 넘겨주면 가장 유사한 단어를 추출할 수 있음"
      ]
    },
    {
      "cell_type": "code",
      "execution_count": null,
      "metadata": {
        "id": "uNz_ajtS73_4",
        "colab": {
          "base_uri": "https://localhost:8080/"
        },
        "outputId": "7cc450de-a397-4add-df41-8da16741d572"
      },
      "outputs": [
        {
          "output_type": "execute_result",
          "data": {
            "text/plain": [
              "[('daughter', 0.9377001523971558),\n",
              " ('woman', 0.9309580326080322),\n",
              " ('son', 0.9264955520629883),\n",
              " ('man', 0.9246588945388794),\n",
              " ('old', 0.8843575119972229),\n",
              " ('queen', 0.8615678548812866),\n",
              " ('wolf', 0.8568912744522095),\n",
              " ('But', 0.8550761342048645),\n",
              " ('miller', 0.8500810265541077),\n",
              " ('next', 0.8494956493377686)]"
            ]
          },
          "metadata": {},
          "execution_count": 52
        }
      ],
      "source": [
        "pretrained_model.wv.most_similar('king')"
      ]
    },
    {
      "cell_type": "markdown",
      "metadata": {
        "id": "CvyIH-g-73_7"
      },
      "source": [
        "- `wv_most_similar()`에 `positive`와 `negative`라는 옵션을 넘길 수 있음"
      ]
    },
    {
      "cell_type": "code",
      "execution_count": null,
      "metadata": {
        "colab": {
          "base_uri": "https://localhost:8080/"
        },
        "id": "ty6Dhte-73_7",
        "outputId": "f4230231-7079-4b84-d868-83be78ad0c24"
      },
      "outputs": [
        {
          "output_type": "execute_result",
          "data": {
            "text/plain": [
              "[('bird', 0.9764717817306519),\n",
              " ('fisherman', 0.9753344058990479),\n",
              " ('prince', 0.975088894367218),\n",
              " ('eldest', 0.9747735261917114),\n",
              " ('maid', 0.9744172096252441),\n",
              " ('huntsman', 0.974097490310669),\n",
              " ('mouse', 0.9735507965087891),\n",
              " ('heart', 0.9732075333595276),\n",
              " ('miller', 0.9726303815841675),\n",
              " ('lion', 0.9721084833145142)]"
            ]
          },
          "metadata": {},
          "execution_count": 53
        }
      ],
      "source": [
        "pretrained_model.wv.most_similar(positive=['man','princess'], negative = ['woman'])"
      ]
    },
    {
      "cell_type": "markdown",
      "metadata": {
        "id": "xOpA5Aaa73_9"
      },
      "source": [
        "### gensim으로 학습된 단어 임베딩을 Keras에서 불러오기"
      ]
    },
    {
      "cell_type": "code",
      "execution_count": null,
      "metadata": {
        "id": "k7QqtHhC73_9"
      },
      "outputs": [],
      "source": [
        "from keras.models import Sequential\n",
        "from keras.layers import Embedding"
      ]
    },
    {
      "cell_type": "code",
      "execution_count": null,
      "metadata": {
        "id": "G9LrBGOw73_-",
        "colab": {
          "base_uri": "https://localhost:8080/"
        },
        "outputId": "cd82ca80-4862-4c4c-d6f6-2ac82ae28aa8"
      },
      "outputs": [
        {
          "output_type": "stream",
          "name": "stdout",
          "text": [
            "2446\n",
            "100\n"
          ]
        }
      ],
      "source": [
        "num_words, emb_dim = pretrained_model.wv.vectors.shape\n",
        "\n",
        "print(num_words)\n",
        "print(emb_dim)\n"
      ]
    },
    {
      "cell_type": "markdown",
      "metadata": {
        "id": "ui9L8Nn574AA"
      },
      "source": [
        "### gensim으로 학습된 단어 임베딩을 케라스의 임베딩 레이어의 가중치로 설정"
      ]
    },
    {
      "cell_type": "code",
      "execution_count": null,
      "metadata": {
        "id": "59oRg3bU74AA"
      },
      "outputs": [],
      "source": [
        "emb = Embedding(input_dim = num_words, output_dim = emb_dim,\n",
        "                trainable = False , weights =[pretrained_model.wv.vectors])\n"
      ]
    },
    {
      "cell_type": "code",
      "execution_count": null,
      "metadata": {
        "id": "cH7X-lB_74AC"
      },
      "outputs": [],
      "source": [
        "model = Sequential()\n",
        "model.add(emb)"
      ]
    },
    {
      "cell_type": "code",
      "execution_count": null,
      "metadata": {
        "id": "kQFXfXdY74AE",
        "colab": {
          "base_uri": "https://localhost:8080/"
        },
        "outputId": "4d69d122-6550-4fa8-faf1-0613f3f77dee"
      },
      "outputs": [
        {
          "output_type": "stream",
          "name": "stdout",
          "text": [
            "Model: \"sequential_2\"\n",
            "_________________________________________________________________\n",
            " Layer (type)                Output Shape              Param #   \n",
            "=================================================================\n",
            " embedding_3 (Embedding)     (None, None, 100)         244600    \n",
            "                                                                 \n",
            "=================================================================\n",
            "Total params: 244,600\n",
            "Trainable params: 0\n",
            "Non-trainable params: 244,600\n",
            "_________________________________________________________________\n"
          ]
        }
      ],
      "source": [
        "model.summary()"
      ]
    },
    {
      "cell_type": "code",
      "execution_count": null,
      "metadata": {
        "id": "X4cQ79h874AH"
      },
      "outputs": [],
      "source": [
        "i = pretrained_model.wv.index2word.index('princess')"
      ]
    },
    {
      "cell_type": "code",
      "execution_count": null,
      "metadata": {
        "id": "XvlxA7lL74AL",
        "colab": {
          "base_uri": "https://localhost:8080/"
        },
        "outputId": "466d941c-4326-4e04-bd4a-56e112904d85"
      },
      "outputs": [
        {
          "output_type": "stream",
          "name": "stderr",
          "text": [
            "WARNING:tensorflow:Model was constructed with shape (None, None) for input KerasTensor(type_spec=TensorSpec(shape=(None, None), dtype=tf.float32, name='embedding_3_input'), name='embedding_3_input', description=\"created by layer 'embedding_3_input'\"), but it was called on an input with incompatible shape (None,).\n"
          ]
        },
        {
          "output_type": "stream",
          "name": "stdout",
          "text": [
            "1/1 [==============================] - 0s 164ms/step\n"
          ]
        },
        {
          "output_type": "execute_result",
          "data": {
            "text/plain": [
              "array([[-9.79151577e-02, -3.13156515e-01, -9.16454792e-02,\n",
              "         1.41121849e-01, -2.67226070e-01,  2.66364127e-01,\n",
              "         7.10808337e-02,  1.39884263e-01, -1.12227783e-01,\n",
              "        -1.28286421e-01, -1.08538315e-01, -4.65206765e-02,\n",
              "         2.02682503e-02,  4.90794368e-02, -3.46516669e-01,\n",
              "         1.94100209e-03,  1.88921802e-02,  6.75808117e-02,\n",
              "         1.21383160e-01,  2.49814704e-01,  2.95928031e-01,\n",
              "         4.86853160e-02, -2.40737900e-01, -4.04473245e-02,\n",
              "        -2.08559856e-01, -8.27345997e-02, -1.24735631e-01,\n",
              "         6.57051355e-02,  4.52569406e-03, -1.29136756e-01,\n",
              "         3.08012832e-02, -1.35111734e-01, -7.51794428e-02,\n",
              "         6.87554628e-02, -3.95150371e-02,  1.45101845e-01,\n",
              "        -2.79772393e-02, -1.28670827e-01, -8.03901851e-02,\n",
              "        -8.19806010e-02, -2.74824351e-03,  4.06742394e-02,\n",
              "        -2.31100425e-01, -3.52152251e-02, -3.99488479e-01,\n",
              "        -5.72329424e-02, -1.86747551e-01,  1.18806977e-02,\n",
              "         6.58308491e-02, -8.98719281e-02, -2.23832481e-04,\n",
              "         1.32512957e-01, -2.71708161e-01, -2.22380925e-02,\n",
              "        -4.31611799e-02, -1.84929688e-02, -6.75194189e-02,\n",
              "        -4.64780688e-01, -1.48518592e-01,  2.45498922e-02,\n",
              "         2.52699465e-01,  8.37524608e-02,  1.90415800e-01,\n",
              "         3.15134048e-01,  1.13813803e-01, -1.16805442e-01,\n",
              "        -1.20546527e-01,  5.10521568e-02,  1.10797822e-01,\n",
              "         3.84520516e-02,  1.24766521e-01,  1.70039102e-01,\n",
              "         1.59052908e-01, -1.92231387e-01,  1.37323692e-01,\n",
              "        -2.31482118e-01,  3.26694697e-02,  1.06359310e-01,\n",
              "         2.27512658e-01, -9.92870424e-03, -8.32355767e-02,\n",
              "         4.43164706e-02,  1.16015732e-01,  1.63725972e-01,\n",
              "        -5.04285423e-03,  2.92252079e-02,  1.41647935e-01,\n",
              "        -2.20608786e-02, -9.53290164e-02,  9.63509306e-02,\n",
              "        -4.11523804e-02, -8.69177803e-02,  8.77305046e-02,\n",
              "        -2.38244310e-02,  2.31615365e-01, -2.40888864e-01,\n",
              "         1.52588621e-01,  1.60536483e-01, -8.83408338e-02,\n",
              "        -4.72269692e-02]], dtype=float32)"
            ]
          },
          "metadata": {},
          "execution_count": 60
        }
      ],
      "source": [
        "model.predict([i])"
      ]
    },
    {
      "cell_type": "markdown",
      "metadata": {
        "id": "LabagywRwG25"
      },
      "source": [
        "## Keras에서 Word2Vec 직접 학습\n",
        "- 코드 출처 : http://doc.mindscale.kr/km/unstructured/11.html"
      ]
    },
    {
      "cell_type": "markdown",
      "metadata": {
        "id": "DYKQ4bBOwN7v"
      },
      "source": [
        "### 데이터 준비"
      ]
    },
    {
      "cell_type": "code",
      "execution_count": null,
      "metadata": {
        "id": "iAAM9mxWwMaw"
      },
      "outputs": [],
      "source": [
        "from tensorflow.keras.datasets import imdb"
      ]
    },
    {
      "cell_type": "code",
      "execution_count": null,
      "metadata": {
        "id": "YaVg4BojwMfG"
      },
      "outputs": [],
      "source": [
        "(x_train, y_train), (x_test, y_test) = imdb.load_data()"
      ]
    },
    {
      "cell_type": "markdown",
      "metadata": {
        "id": "Fk5L0JTOwhjW"
      },
      "source": [
        "- 단어 번호와 단어의 관계를 사전으로 만듦\n",
        "\n",
        "- 1번은 문장의 시작, 2번은 사전에 없는 단어(OOV)로 미리 지정"
      ]
    },
    {
      "cell_type": "code",
      "execution_count": null,
      "metadata": {
        "id": "8z0ZJDXIwNBZ"
      },
      "outputs": [],
      "source": [
        "word_index = imdb.get_word_index()"
      ]
    },
    {
      "cell_type": "code",
      "execution_count": null,
      "metadata": {
        "id": "-yChdBdPwNXJ"
      },
      "outputs": [],
      "source": [
        "index_word = {idx+3:word for word, idx in word_index.items()}"
      ]
    },
    {
      "cell_type": "code",
      "execution_count": null,
      "metadata": {
        "id": "91eKCMmAwNUC"
      },
      "outputs": [],
      "source": [
        " index_word[1] = '<START>'\n",
        " index_word[2] = '<UNKNOWN>'"
      ]
    },
    {
      "cell_type": "code",
      "execution_count": null,
      "metadata": {
        "id": "Y__1WJwRwNPv",
        "colab": {
          "base_uri": "https://localhost:8080/",
          "height": 182
        },
        "outputId": "1156527f-7d4c-490b-ab44-66a33b0a464d"
      },
      "outputs": [
        {
          "output_type": "execute_result",
          "data": {
            "text/plain": [
              "\"<START> this film was just brilliant casting location scenery story direction everyone's really suited the part they played and you could just imagine being there robert redford's is an amazing actor and now the same being director norman's father came from the same scottish island as myself so i loved the fact there was a real connection with this film the witty remarks throughout the film were great it was just brilliant so much that i bought the film as soon as it was released for retail and would recommend it to everyone to watch and the fly fishing was amazing really cried at the end it was so sad and you know what they say if you cry at a film it must have been good and this definitely was also congratulations to the two little boy's that played the part's of norman and paul they were just brilliant children are often left out of the praising list i think because the stars that play them all grown up are such a big profile for the whole film but these children are amazing and should be praised for what they have done don't you think the whole story was so lovely because it was true and was someone's life after all that was shared with us all\""
            ],
            "application/vnd.google.colaboratory.intrinsic+json": {
              "type": "string"
            }
          },
          "metadata": {},
          "execution_count": 66
        }
      ],
      "source": [
        "' '.join(index_word[i] for i in x_train[0])"
      ]
    },
    {
      "cell_type": "code",
      "execution_count": null,
      "metadata": {
        "id": "NTegr1CcwNNZ"
      },
      "outputs": [],
      "source": [
        "num_words = max(index_word) +1"
      ]
    },
    {
      "cell_type": "markdown",
      "metadata": {
        "id": "mMALXKTqwwiC"
      },
      "source": [
        "### 텍스트를 단어 번호로 바꾸기"
      ]
    },
    {
      "cell_type": "code",
      "execution_count": null,
      "metadata": {
        "id": "xeN_pdjQwNJ_"
      },
      "outputs": [],
      "source": [
        "texts = []\n",
        "for data in x_train:\n",
        "  text = ' '.join(index_word[i] for i in data)\n",
        "  texts.append(text)"
      ]
    },
    {
      "cell_type": "code",
      "execution_count": null,
      "metadata": {
        "id": "hUS0FSYhwNFv",
        "colab": {
          "base_uri": "https://localhost:8080/"
        },
        "outputId": "609b1138-3d67-4107-df91-8dc5e704900c"
      },
      "outputs": [
        {
          "output_type": "execute_result",
          "data": {
            "text/plain": [
              "25000"
            ]
          },
          "metadata": {},
          "execution_count": 69
        }
      ],
      "source": [
        "len(texts)"
      ]
    },
    {
      "cell_type": "markdown",
      "metadata": {
        "id": "NbYuIJsDw_oE"
      },
      "source": [
        "- `Tokenizer`를 사용해 텍스트를 단어로 바꿈"
      ]
    },
    {
      "cell_type": "code",
      "execution_count": null,
      "metadata": {
        "id": "gLZpRTuWwM6V"
      },
      "outputs": [],
      "source": [
        "from keras.preprocessing.text import Tokenizer"
      ]
    },
    {
      "cell_type": "code",
      "execution_count": null,
      "metadata": {
        "id": "D6Z1SZGcwM4P",
        "colab": {
          "base_uri": "https://localhost:8080/"
        },
        "outputId": "29a517cf-8a17-4ce3-a152-c61a5bd57b69"
      },
      "outputs": [
        {
          "output_type": "execute_result",
          "data": {
            "text/plain": [
              "[28, 11, 19, 13, 41, 526, 968, 1618, 1381, 63]"
            ]
          },
          "metadata": {},
          "execution_count": 71
        }
      ],
      "source": [
        "tok = Tokenizer()\n",
        "tok.fit_on_texts(texts)\n",
        "\n",
        "new_data = tok.texts_to_sequences(texts)\n",
        "new_data[0][:10]"
      ]
    },
    {
      "cell_type": "code",
      "execution_count": null,
      "metadata": {
        "id": "M8KjcGjXwM1b",
        "colab": {
          "base_uri": "https://localhost:8080/"
        },
        "outputId": "98e81d9d-6681-44b3-c695-96eb8771b174"
      },
      "outputs": [
        {
          "output_type": "execute_result",
          "data": {
            "text/plain": [
              "[1, 14, 22, 16, 43, 530, 973, 1622, 1385, 65]"
            ]
          },
          "metadata": {},
          "execution_count": 72
        }
      ],
      "source": [
        "x_train[0][:10]"
      ]
    },
    {
      "cell_type": "markdown",
      "metadata": {
        "id": "F3GI6tWsxOW4"
      },
      "source": [
        "### 단어쌍 만들기"
      ]
    },
    {
      "cell_type": "code",
      "execution_count": null,
      "metadata": {
        "id": "3E26bWQpwMzM"
      },
      "outputs": [],
      "source": [
        "from tensorflow.keras.preprocessing.sequence import make_sampling_table, skipgrams"
      ]
    },
    {
      "cell_type": "code",
      "execution_count": null,
      "metadata": {
        "id": "0CWgz6BhwMwT",
        "colab": {
          "base_uri": "https://localhost:8080/"
        },
        "outputId": "92b4ea2e-5ceb-4635-824c-38a24d1cd2ad"
      },
      "outputs": [
        {
          "output_type": "stream",
          "name": "stdout",
          "text": [
            "88581\n"
          ]
        }
      ],
      "source": [
        "VOCAB_SIZE = len(tok.word_index)\n",
        "print(VOCAB_SIZE)"
      ]
    },
    {
      "cell_type": "markdown",
      "metadata": {
        "id": "lZei9Z6dxUfq"
      },
      "source": [
        "- 단어를 무작위로 추출하면 자주 나오는 단어가 더 많이 나오게됨\n",
        "\n",
        "- 이를 방지하기위해 단어를 추출할 확률의 균형을 맞춘 샘플링 표를 생성"
      ]
    },
    {
      "cell_type": "code",
      "execution_count": null,
      "metadata": {
        "id": "Hrq-4NLIwMtW"
      },
      "outputs": [],
      "source": [
        "table = make_sampling_table(VOCAB_SIZE)"
      ]
    },
    {
      "cell_type": "markdown",
      "metadata": {
        "id": "DTSq3M6jxhkm"
      },
      "source": [
        "- 두 단어씩 뽑아 좌우 2단어(`window_size=2`)안에 들어있는 경우가 있는지 없는지 확인하여 데이터를 생성"
      ]
    },
    {
      "cell_type": "code",
      "execution_count": null,
      "metadata": {
        "id": "D6-bDT9YwMrG"
      },
      "outputs": [],
      "source": [
        "couples, labels = skipgrams(data, VOCAB_SIZE, window_size = 2, sampling_table = table)"
      ]
    },
    {
      "cell_type": "code",
      "execution_count": null,
      "metadata": {
        "id": "_oeEFedSxnQE",
        "colab": {
          "base_uri": "https://localhost:8080/"
        },
        "outputId": "2f10265c-5ed5-46a2-c80f-8526a26eca36"
      },
      "outputs": [
        {
          "output_type": "execute_result",
          "data": {
            "text/plain": [
              "[[1468, 1271], [29043, 92], [1597, 11289], [1183, 4], [16876, 12183]]"
            ]
          },
          "metadata": {},
          "execution_count": 77
        }
      ],
      "source": [
        "couples[:5]"
      ]
    },
    {
      "cell_type": "markdown",
      "metadata": {
        "id": "TvAwr1p-xqpj"
      },
      "source": [
        "- `labels`에는 윈도우 안에 들어있는 경우가 있으면 1, 없으면 0"
      ]
    },
    {
      "cell_type": "code",
      "execution_count": null,
      "metadata": {
        "id": "DiPr7jT4wMoO",
        "colab": {
          "base_uri": "https://localhost:8080/"
        },
        "outputId": "e8647d33-0eac-4f6e-ac38-db0c3c6d80d9"
      },
      "outputs": [
        {
          "output_type": "execute_result",
          "data": {
            "text/plain": [
              "[1, 1, 0, 1, 1]"
            ]
          },
          "metadata": {},
          "execution_count": 78
        }
      ],
      "source": [
        "labels[:5]"
      ]
    },
    {
      "cell_type": "markdown",
      "metadata": {
        "id": "zjthr4cNxweK"
      },
      "source": [
        "- 대상 단어는 `word_target`으로, 맥락 단어는 `word_context`로 모음"
      ]
    },
    {
      "cell_type": "code",
      "execution_count": null,
      "metadata": {
        "id": "qgS6eHs6wMlC"
      },
      "outputs": [],
      "source": [
        "word_target, word_context = zip(*couples)"
      ]
    },
    {
      "cell_type": "markdown",
      "metadata": {
        "id": "7UV4xAnHx3Va"
      },
      "source": [
        "- 배열로 바꾼다."
      ]
    },
    {
      "cell_type": "code",
      "execution_count": null,
      "metadata": {
        "id": "GZCjveJnwMK_"
      },
      "outputs": [],
      "source": [
        "word_target = np.asarray(word_target, dtype = 'int32')\n",
        "word_context = np.asarray(word_context, dtype = 'int32')\n",
        "labels = np.asarray(labels, dtype = 'int32')"
      ]
    },
    {
      "cell_type": "code",
      "execution_count": null,
      "metadata": {
        "id": "nG9C3Hh-05Cs",
        "colab": {
          "base_uri": "https://localhost:8080/"
        },
        "outputId": "549d2c3c-7c16-41a2-b0d3-aec17605996c"
      },
      "outputs": [
        {
          "output_type": "execute_result",
          "data": {
            "text/plain": [
              "(272,)"
            ]
          },
          "metadata": {},
          "execution_count": 81
        }
      ],
      "source": [
        "word_target.shape"
      ]
    },
    {
      "cell_type": "code",
      "execution_count": null,
      "metadata": {
        "id": "b0qHTB8p07_8",
        "colab": {
          "base_uri": "https://localhost:8080/"
        },
        "outputId": "e61aa511-16b3-450a-af5b-82a2317159b5"
      },
      "outputs": [
        {
          "output_type": "execute_result",
          "data": {
            "text/plain": [
              "(272,)"
            ]
          },
          "metadata": {},
          "execution_count": 82
        }
      ],
      "source": [
        "word_context.shape"
      ]
    },
    {
      "cell_type": "markdown",
      "metadata": {
        "id": "TUuQwrXox8RL"
      },
      "source": [
        "### Skip-gram 모형\n",
        "\n",
        "- Skip-gram 모형은 함수형 API를 사용해야 함"
      ]
    },
    {
      "cell_type": "code",
      "execution_count": null,
      "metadata": {
        "id": "a9CKMy83yBxR"
      },
      "outputs": [],
      "source": [
        "from tensorflow.keras.layers import Activation, Dot, Embedding, Flatten, Input, Reshape\n",
        "from tensorflow.keras.models import Model"
      ]
    },
    {
      "cell_type": "code",
      "execution_count": null,
      "metadata": {
        "id": "8lF-kveeyBue"
      },
      "outputs": [],
      "source": [
        "def build_model():\n",
        "  input_target = Input(shape=(1,))\n",
        "  input_context = Input(shape=(1,))\n",
        "\n",
        "  emb = Embedding(input_dim = VOCAB_SIZE, output_dim = 8)\n",
        "  target = emb(input_target)\n",
        "  context = emb(input_context)\n",
        "\n",
        "  dot = Dot(axes = 2)([target, context])\n",
        "  flatten = Reshape((1,))(dot)\n",
        "  output = Activation('sigmoid')(flatten)\n",
        "  skipgram = Model(inputs = [input_target, input_context], outputs = output)\n",
        "\n",
        "  return skipgram"
      ]
    },
    {
      "cell_type": "code",
      "execution_count": null,
      "metadata": {
        "id": "e2Fc8rddyBsV",
        "colab": {
          "base_uri": "https://localhost:8080/"
        },
        "outputId": "166bf36b-5ca6-40fd-8543-f559ab80af20"
      },
      "outputs": [
        {
          "output_type": "stream",
          "name": "stdout",
          "text": [
            "Model: \"model\"\n",
            "__________________________________________________________________________________________________\n",
            " Layer (type)                   Output Shape         Param #     Connected to                     \n",
            "==================================================================================================\n",
            " input_1 (InputLayer)           [(None, 1)]          0           []                               \n",
            "                                                                                                  \n",
            " input_2 (InputLayer)           [(None, 1)]          0           []                               \n",
            "                                                                                                  \n",
            " embedding_4 (Embedding)        (None, 1, 8)         708648      ['input_1[0][0]',                \n",
            "                                                                  'input_2[0][0]']                \n",
            "                                                                                                  \n",
            " dot (Dot)                      (None, 1, 1)         0           ['embedding_4[0][0]',            \n",
            "                                                                  'embedding_4[1][0]']            \n",
            "                                                                                                  \n",
            " reshape (Reshape)              (None, 1)            0           ['dot[0][0]']                    \n",
            "                                                                                                  \n",
            " activation (Activation)        (None, 1)            0           ['reshape[0][0]']                \n",
            "                                                                                                  \n",
            "==================================================================================================\n",
            "Total params: 708,648\n",
            "Trainable params: 708,648\n",
            "Non-trainable params: 0\n",
            "__________________________________________________________________________________________________\n"
          ]
        }
      ],
      "source": [
        "model = build_model()\n",
        "model.summary()"
      ]
    },
    {
      "cell_type": "markdown",
      "metadata": {
        "id": "lNoK_w8FynTj"
      },
      "source": [
        "### 모델 컴파일 및 학습"
      ]
    },
    {
      "cell_type": "code",
      "execution_count": null,
      "metadata": {
        "id": "VMbpVz81yBpf"
      },
      "outputs": [],
      "source": [
        "from tensorflow.keras.optimizers import Adam"
      ]
    },
    {
      "cell_type": "code",
      "execution_count": null,
      "metadata": {
        "id": "F_gYTrAFyBnL"
      },
      "outputs": [],
      "source": [
        "model.compile(optimizer = Adam(),\n",
        "              loss = 'binary_crossentropy',\n",
        "              metrics = ['accuracy'])"
      ]
    },
    {
      "cell_type": "code",
      "execution_count": null,
      "metadata": {
        "id": "TLFMJJ4myBlM",
        "colab": {
          "base_uri": "https://localhost:8080/"
        },
        "outputId": "d48e9fc7-fdca-42b1-8374-211809a098cc"
      },
      "outputs": [
        {
          "output_type": "stream",
          "name": "stdout",
          "text": [
            "Epoch 1/30\n",
            "9/9 [==============================] - 1s 9ms/step - loss: 0.6931 - accuracy: 0.4926\n",
            "Epoch 2/30\n",
            "9/9 [==============================] - 0s 12ms/step - loss: 0.6927 - accuracy: 0.6397\n",
            "Epoch 3/30\n",
            "9/9 [==============================] - 0s 10ms/step - loss: 0.6923 - accuracy: 0.7463\n",
            "Epoch 4/30\n",
            "9/9 [==============================] - 0s 10ms/step - loss: 0.6919 - accuracy: 0.8640\n",
            "Epoch 5/30\n",
            "9/9 [==============================] - 0s 11ms/step - loss: 0.6914 - accuracy: 0.9081\n",
            "Epoch 6/30\n",
            "9/9 [==============================] - 0s 11ms/step - loss: 0.6908 - accuracy: 0.9338\n",
            "Epoch 7/30\n",
            "9/9 [==============================] - 0s 11ms/step - loss: 0.6901 - accuracy: 0.9632\n",
            "Epoch 8/30\n",
            "9/9 [==============================] - 0s 11ms/step - loss: 0.6892 - accuracy: 0.9743\n",
            "Epoch 9/30\n",
            "9/9 [==============================] - 0s 10ms/step - loss: 0.6881 - accuracy: 0.9779\n",
            "Epoch 10/30\n",
            "9/9 [==============================] - 0s 9ms/step - loss: 0.6868 - accuracy: 0.9853\n",
            "Epoch 11/30\n",
            "9/9 [==============================] - 0s 10ms/step - loss: 0.6853 - accuracy: 0.9890\n",
            "Epoch 12/30\n",
            "9/9 [==============================] - 0s 10ms/step - loss: 0.6835 - accuracy: 0.9926\n",
            "Epoch 13/30\n",
            "9/9 [==============================] - 0s 10ms/step - loss: 0.6814 - accuracy: 0.9926\n",
            "Epoch 14/30\n",
            "9/9 [==============================] - 0s 12ms/step - loss: 0.6789 - accuracy: 0.9926\n",
            "Epoch 15/30\n",
            "9/9 [==============================] - 0s 12ms/step - loss: 0.6761 - accuracy: 0.9926\n",
            "Epoch 16/30\n",
            "9/9 [==============================] - 0s 9ms/step - loss: 0.6730 - accuracy: 0.9926\n",
            "Epoch 17/30\n",
            "9/9 [==============================] - 0s 10ms/step - loss: 0.6694 - accuracy: 0.9926\n",
            "Epoch 18/30\n",
            "9/9 [==============================] - 0s 11ms/step - loss: 0.6656 - accuracy: 0.9926\n",
            "Epoch 19/30\n",
            "9/9 [==============================] - 0s 9ms/step - loss: 0.6614 - accuracy: 0.9926\n",
            "Epoch 20/30\n",
            "9/9 [==============================] - 0s 9ms/step - loss: 0.6567 - accuracy: 0.9926\n",
            "Epoch 21/30\n",
            "9/9 [==============================] - 0s 11ms/step - loss: 0.6517 - accuracy: 0.9926\n",
            "Epoch 22/30\n",
            "9/9 [==============================] - 0s 10ms/step - loss: 0.6464 - accuracy: 0.9926\n",
            "Epoch 23/30\n",
            "9/9 [==============================] - 0s 10ms/step - loss: 0.6406 - accuracy: 0.9926\n",
            "Epoch 24/30\n",
            "9/9 [==============================] - 0s 12ms/step - loss: 0.6346 - accuracy: 0.9926\n",
            "Epoch 25/30\n",
            "9/9 [==============================] - 0s 11ms/step - loss: 0.6282 - accuracy: 0.9926\n",
            "Epoch 26/30\n",
            "9/9 [==============================] - 0s 10ms/step - loss: 0.6215 - accuracy: 0.9926\n",
            "Epoch 27/30\n",
            "9/9 [==============================] - 0s 11ms/step - loss: 0.6145 - accuracy: 0.9926\n",
            "Epoch 28/30\n",
            "9/9 [==============================] - 0s 10ms/step - loss: 0.6072 - accuracy: 0.9926\n",
            "Epoch 29/30\n",
            "9/9 [==============================] - 0s 9ms/step - loss: 0.5996 - accuracy: 0.9926\n",
            "Epoch 30/30\n",
            "9/9 [==============================] - 0s 9ms/step - loss: 0.5918 - accuracy: 0.9926\n"
          ]
        },
        {
          "output_type": "execute_result",
          "data": {
            "text/plain": [
              "<keras.callbacks.History at 0x7f301fdcd550>"
            ]
          },
          "metadata": {},
          "execution_count": 88
        }
      ],
      "source": [
        "model.fit([word_target, word_context], labels, epochs = 30)"
      ]
    },
    {
      "cell_type": "markdown",
      "metadata": {
        "id": "n0UeghEry79L"
      },
      "source": [
        "### 임베딩 레이어 저장 및 로드"
      ]
    },
    {
      "cell_type": "code",
      "execution_count": null,
      "metadata": {
        "id": "2IN6guOA3Ko0"
      },
      "outputs": [],
      "source": [
        "emb = model.layers[2]"
      ]
    },
    {
      "cell_type": "code",
      "execution_count": null,
      "metadata": {
        "id": "xX43O7414P6n",
        "colab": {
          "base_uri": "https://localhost:8080/"
        },
        "outputId": "95a57a99-de32-4953-8856-497253ab5c8b"
      },
      "outputs": [
        {
          "output_type": "execute_result",
          "data": {
            "text/plain": [
              "[array([[ 1.6626008e-03,  4.8064623e-02,  2.0145997e-03, ...,\n",
              "          2.7809393e-02,  2.7380738e-02, -4.7095418e-03],\n",
              "        [ 1.2693655e-02, -3.3161797e-02,  3.6886778e-02, ...,\n",
              "         -5.5375583e-03, -2.4135280e-02,  4.9983989e-02],\n",
              "        [-1.9535173e-02, -4.2988922e-02, -3.4483839e-02, ...,\n",
              "          4.6050239e-02, -3.5710741e-02,  2.3726057e-02],\n",
              "        ...,\n",
              "        [ 1.2746345e-02, -1.3946760e-02,  3.9119530e-02, ...,\n",
              "         -3.9260983e-02, -6.9243088e-03,  4.5011844e-02],\n",
              "        [-2.4118651e-02,  1.3082635e-02,  4.1881714e-02, ...,\n",
              "         -2.5461590e-02,  4.0770616e-02,  2.5460944e-03],\n",
              "        [-1.7713755e-05, -1.7498136e-02,  1.2704145e-02, ...,\n",
              "          2.7776372e-02, -4.1879941e-02,  2.3417536e-02]], dtype=float32)]"
            ]
          },
          "metadata": {},
          "execution_count": 90
        }
      ],
      "source": [
        "emb.get_weights()"
      ]
    },
    {
      "cell_type": "code",
      "execution_count": null,
      "metadata": {
        "id": "BrDMmB1IyBfq"
      },
      "outputs": [],
      "source": [
        "np.save('emb.npy', emb.get_weights()[0])"
      ]
    },
    {
      "cell_type": "markdown",
      "metadata": {
        "id": "M9wTT_VQzDsl"
      },
      "source": [
        "- 임베딩 레이어 로드"
      ]
    },
    {
      "cell_type": "code",
      "execution_count": null,
      "metadata": {
        "id": "Ku3DFkCRzHT5"
      },
      "outputs": [],
      "source": [
        "w = np.load('emb.npy')"
      ]
    },
    {
      "cell_type": "markdown",
      "metadata": {
        "id": "6faI7skDzKdW"
      },
      "source": [
        "- 임베딩 레이어를 추가할때 `trainable`를 `False`로 하면 추가학습이 이루어 지지 않는다."
      ]
    },
    {
      "cell_type": "code",
      "execution_count": null,
      "metadata": {
        "id": "yBrWD06mzHQ0"
      },
      "outputs": [],
      "source": [
        "emb_ff = Embedding(input_dim = num_words, output_dim = 8, input_length=30,\n",
        "                   weights=[w], trainable = False)"
      ]
    },
    {
      "cell_type": "markdown",
      "metadata": {
        "id": "nLok-gV3YwY2"
      },
      "source": [
        "## 사전 훈련된 단어 임베딩 사용하기 : GloVe 임베딩\n",
        "\n",
        "- 코드 출처: 케라스 창시자에게 배우는 딥러닝"
      ]
    },
    {
      "cell_type": "markdown",
      "metadata": {
        "id": "mSyfRbEhb8WK"
      },
      "source": [
        "### 원본 IMDB 텍스트 내려받기\n",
        "- http://mng.bz/0tIo"
      ]
    },
    {
      "cell_type": "code",
      "execution_count": null,
      "metadata": {
        "id": "smv3ryyCb_U5",
        "colab": {
          "base_uri": "https://localhost:8080/"
        },
        "outputId": "becbf976-f4bc-44b2-cfa3-3f4c258016c6"
      },
      "outputs": [
        {
          "output_type": "stream",
          "name": "stdout",
          "text": [
            "--2022-12-22 12:04:33--  http://mng.bz/0tIo\n",
            "Resolving mng.bz (mng.bz)... 34.212.216.127, 54.201.180.254, 44.237.248.14, ...\n",
            "Connecting to mng.bz (mng.bz)|34.212.216.127|:80... connected.\n",
            "HTTP request sent, awaiting response... 301 Moved Permanently\n",
            "Location: https://mng.bz:443/0tIo [following]\n",
            "--2022-12-22 12:04:33--  https://mng.bz/0tIo\n",
            "Connecting to mng.bz (mng.bz)|34.212.216.127|:443... connected.\n",
            "HTTP request sent, awaiting response... 301 \n",
            "Location: http://s3.amazonaws.com/text-datasets/aclImdb.zip [following]\n",
            "--2022-12-22 12:04:34--  http://s3.amazonaws.com/text-datasets/aclImdb.zip\n",
            "Resolving s3.amazonaws.com (s3.amazonaws.com)... 54.231.130.72, 52.216.187.37, 52.216.27.110, ...\n",
            "Connecting to s3.amazonaws.com (s3.amazonaws.com)|54.231.130.72|:80... connected.\n",
            "HTTP request sent, awaiting response... 200 OK\n",
            "Length: 60711700 (58M) [application/zip]\n",
            "Saving to: ‘0tIo’\n",
            "\n",
            "0tIo                100%[===================>]  57.90M  58.0MB/s    in 1.0s    \n",
            "\n",
            "2022-12-22 12:04:35 (58.0 MB/s) - ‘0tIo’ saved [60711700/60711700]\n",
            "\n"
          ]
        }
      ],
      "source": [
        "!wget --no-check-certificate http://mng.bz/0tIo"
      ]
    },
    {
      "cell_type": "code",
      "execution_count": null,
      "metadata": {
        "id": "DbcQb_afcGUk",
        "colab": {
          "base_uri": "https://localhost:8080/"
        },
        "outputId": "eea79ccf-0f2b-486c-b685-95824684b637"
      },
      "outputs": [
        {
          "output_type": "stream",
          "name": "stdout",
          "text": [
            "\u001b[1;30;43m스트리밍 출력 내용이 길어서 마지막 5000줄이 삭제되었습니다.\u001b[0m\n",
            "  inflating: /content/dataset/__MACOSX/aclImdb/train/pos/._7754_9.txt  \n",
            "  inflating: /content/dataset/aclImdb/train/pos/7755_9.txt  \n",
            "  inflating: /content/dataset/__MACOSX/aclImdb/train/pos/._7755_9.txt  \n",
            "  inflating: /content/dataset/aclImdb/train/pos/7756_10.txt  \n",
            "  inflating: /content/dataset/__MACOSX/aclImdb/train/pos/._7756_10.txt  \n",
            "  inflating: /content/dataset/aclImdb/train/pos/7757_9.txt  \n",
            "  inflating: /content/dataset/__MACOSX/aclImdb/train/pos/._7757_9.txt  \n",
            "  inflating: /content/dataset/aclImdb/train/pos/7758_7.txt  \n",
            "  inflating: /content/dataset/__MACOSX/aclImdb/train/pos/._7758_7.txt  \n",
            "  inflating: /content/dataset/aclImdb/train/pos/7759_10.txt  \n",
            "  inflating: /content/dataset/__MACOSX/aclImdb/train/pos/._7759_10.txt  \n",
            "  inflating: /content/dataset/aclImdb/train/pos/775_7.txt  \n",
            "  inflating: /content/dataset/__MACOSX/aclImdb/train/pos/._775_7.txt  \n",
            "  inflating: /content/dataset/aclImdb/train/pos/7760_10.txt  \n",
            "  inflating: /content/dataset/__MACOSX/aclImdb/train/pos/._7760_10.txt  \n",
            "  inflating: /content/dataset/aclImdb/train/pos/7761_10.txt  \n",
            "  inflating: /content/dataset/__MACOSX/aclImdb/train/pos/._7761_10.txt  \n",
            "  inflating: /content/dataset/aclImdb/train/pos/7762_8.txt  \n",
            "  inflating: /content/dataset/__MACOSX/aclImdb/train/pos/._7762_8.txt  \n",
            "  inflating: /content/dataset/aclImdb/train/pos/7763_8.txt  \n",
            "  inflating: /content/dataset/__MACOSX/aclImdb/train/pos/._7763_8.txt  \n",
            "  inflating: /content/dataset/aclImdb/train/pos/7764_9.txt  \n",
            "  inflating: /content/dataset/__MACOSX/aclImdb/train/pos/._7764_9.txt  \n",
            "  inflating: /content/dataset/aclImdb/train/pos/7765_7.txt  \n",
            "  inflating: /content/dataset/__MACOSX/aclImdb/train/pos/._7765_7.txt  \n",
            "  inflating: /content/dataset/aclImdb/train/pos/7766_7.txt  \n",
            "  inflating: /content/dataset/__MACOSX/aclImdb/train/pos/._7766_7.txt  \n",
            "  inflating: /content/dataset/aclImdb/train/pos/7767_8.txt  \n",
            "  inflating: /content/dataset/__MACOSX/aclImdb/train/pos/._7767_8.txt  \n",
            "  inflating: /content/dataset/aclImdb/train/pos/7768_8.txt  \n",
            "  inflating: /content/dataset/__MACOSX/aclImdb/train/pos/._7768_8.txt  \n",
            "  inflating: /content/dataset/aclImdb/train/pos/7769_7.txt  \n",
            "  inflating: /content/dataset/__MACOSX/aclImdb/train/pos/._7769_7.txt  \n",
            "  inflating: /content/dataset/aclImdb/train/pos/776_7.txt  \n",
            "  inflating: /content/dataset/__MACOSX/aclImdb/train/pos/._776_7.txt  \n",
            "  inflating: /content/dataset/aclImdb/train/pos/7770_7.txt  \n",
            "  inflating: /content/dataset/__MACOSX/aclImdb/train/pos/._7770_7.txt  \n",
            "  inflating: /content/dataset/aclImdb/train/pos/7771_9.txt  \n",
            "  inflating: /content/dataset/__MACOSX/aclImdb/train/pos/._7771_9.txt  \n",
            "  inflating: /content/dataset/aclImdb/train/pos/7772_7.txt  \n",
            "  inflating: /content/dataset/__MACOSX/aclImdb/train/pos/._7772_7.txt  \n",
            "  inflating: /content/dataset/aclImdb/train/pos/7773_10.txt  \n",
            "  inflating: /content/dataset/__MACOSX/aclImdb/train/pos/._7773_10.txt  \n",
            "  inflating: /content/dataset/aclImdb/train/pos/7774_7.txt  \n",
            "  inflating: /content/dataset/__MACOSX/aclImdb/train/pos/._7774_7.txt  \n",
            "  inflating: /content/dataset/aclImdb/train/pos/7775_8.txt  \n",
            "  inflating: /content/dataset/__MACOSX/aclImdb/train/pos/._7775_8.txt  \n",
            "  inflating: /content/dataset/aclImdb/train/pos/7776_7.txt  \n",
            "  inflating: /content/dataset/__MACOSX/aclImdb/train/pos/._7776_7.txt  \n",
            "  inflating: /content/dataset/aclImdb/train/pos/7777_10.txt  \n",
            "  inflating: /content/dataset/__MACOSX/aclImdb/train/pos/._7777_10.txt  \n",
            "  inflating: /content/dataset/aclImdb/train/pos/7778_10.txt  \n",
            "  inflating: /content/dataset/__MACOSX/aclImdb/train/pos/._7778_10.txt  \n",
            "  inflating: /content/dataset/aclImdb/train/pos/7779_7.txt  \n",
            "  inflating: /content/dataset/__MACOSX/aclImdb/train/pos/._7779_7.txt  \n",
            "  inflating: /content/dataset/aclImdb/train/pos/777_7.txt  \n",
            "  inflating: /content/dataset/__MACOSX/aclImdb/train/pos/._777_7.txt  \n",
            "  inflating: /content/dataset/aclImdb/train/pos/7780_8.txt  \n",
            "  inflating: /content/dataset/__MACOSX/aclImdb/train/pos/._7780_8.txt  \n",
            "  inflating: /content/dataset/aclImdb/train/pos/7781_8.txt  \n",
            "  inflating: /content/dataset/__MACOSX/aclImdb/train/pos/._7781_8.txt  \n",
            "  inflating: /content/dataset/aclImdb/train/pos/7782_7.txt  \n",
            "  inflating: /content/dataset/__MACOSX/aclImdb/train/pos/._7782_7.txt  \n",
            "  inflating: /content/dataset/aclImdb/train/pos/7783_7.txt  \n",
            "  inflating: /content/dataset/__MACOSX/aclImdb/train/pos/._7783_7.txt  \n",
            "  inflating: /content/dataset/aclImdb/train/pos/7784_7.txt  \n",
            "  inflating: /content/dataset/__MACOSX/aclImdb/train/pos/._7784_7.txt  \n",
            "  inflating: /content/dataset/aclImdb/train/pos/7785_9.txt  \n",
            "  inflating: /content/dataset/__MACOSX/aclImdb/train/pos/._7785_9.txt  \n",
            "  inflating: /content/dataset/aclImdb/train/pos/7786_8.txt  \n",
            "  inflating: /content/dataset/__MACOSX/aclImdb/train/pos/._7786_8.txt  \n",
            "  inflating: /content/dataset/aclImdb/train/pos/7787_10.txt  \n",
            "  inflating: /content/dataset/__MACOSX/aclImdb/train/pos/._7787_10.txt  \n",
            "  inflating: /content/dataset/aclImdb/train/pos/7788_10.txt  \n",
            "  inflating: /content/dataset/__MACOSX/aclImdb/train/pos/._7788_10.txt  \n",
            "  inflating: /content/dataset/aclImdb/train/pos/7789_10.txt  \n",
            "  inflating: /content/dataset/__MACOSX/aclImdb/train/pos/._7789_10.txt  \n",
            "  inflating: /content/dataset/aclImdb/train/pos/778_10.txt  \n",
            "  inflating: /content/dataset/__MACOSX/aclImdb/train/pos/._778_10.txt  \n",
            "  inflating: /content/dataset/aclImdb/train/pos/7790_9.txt  \n",
            "  inflating: /content/dataset/__MACOSX/aclImdb/train/pos/._7790_9.txt  \n",
            "  inflating: /content/dataset/aclImdb/train/pos/7791_10.txt  \n",
            "  inflating: /content/dataset/__MACOSX/aclImdb/train/pos/._7791_10.txt  \n",
            "  inflating: /content/dataset/aclImdb/train/pos/7792_10.txt  \n",
            "  inflating: /content/dataset/__MACOSX/aclImdb/train/pos/._7792_10.txt  \n",
            "  inflating: /content/dataset/aclImdb/train/pos/7793_10.txt  \n",
            "  inflating: /content/dataset/__MACOSX/aclImdb/train/pos/._7793_10.txt  \n",
            "  inflating: /content/dataset/aclImdb/train/pos/7794_7.txt  \n",
            "  inflating: /content/dataset/__MACOSX/aclImdb/train/pos/._7794_7.txt  \n",
            "  inflating: /content/dataset/aclImdb/train/pos/7795_9.txt  \n",
            "  inflating: /content/dataset/__MACOSX/aclImdb/train/pos/._7795_9.txt  \n",
            "  inflating: /content/dataset/aclImdb/train/pos/7796_10.txt  \n",
            "  inflating: /content/dataset/__MACOSX/aclImdb/train/pos/._7796_10.txt  \n",
            "  inflating: /content/dataset/aclImdb/train/pos/7797_10.txt  \n",
            "  inflating: /content/dataset/__MACOSX/aclImdb/train/pos/._7797_10.txt  \n",
            "  inflating: /content/dataset/aclImdb/train/pos/7798_10.txt  \n",
            "  inflating: /content/dataset/__MACOSX/aclImdb/train/pos/._7798_10.txt  \n",
            "  inflating: /content/dataset/aclImdb/train/pos/7799_8.txt  \n",
            "  inflating: /content/dataset/__MACOSX/aclImdb/train/pos/._7799_8.txt  \n",
            "  inflating: /content/dataset/aclImdb/train/pos/779_10.txt  \n",
            "  inflating: /content/dataset/__MACOSX/aclImdb/train/pos/._779_10.txt  \n",
            "  inflating: /content/dataset/aclImdb/train/pos/77_7.txt  \n",
            "  inflating: /content/dataset/__MACOSX/aclImdb/train/pos/._77_7.txt  \n",
            "  inflating: /content/dataset/aclImdb/train/pos/7800_8.txt  \n",
            "  inflating: /content/dataset/__MACOSX/aclImdb/train/pos/._7800_8.txt  \n",
            "  inflating: /content/dataset/aclImdb/train/pos/7801_9.txt  \n",
            "  inflating: /content/dataset/__MACOSX/aclImdb/train/pos/._7801_9.txt  \n",
            "  inflating: /content/dataset/aclImdb/train/pos/7802_10.txt  \n",
            "  inflating: /content/dataset/__MACOSX/aclImdb/train/pos/._7802_10.txt  \n",
            "  inflating: /content/dataset/aclImdb/train/pos/7803_10.txt  \n",
            "  inflating: /content/dataset/__MACOSX/aclImdb/train/pos/._7803_10.txt  \n",
            "  inflating: /content/dataset/aclImdb/train/pos/7804_10.txt  \n",
            "  inflating: /content/dataset/__MACOSX/aclImdb/train/pos/._7804_10.txt  \n",
            "  inflating: /content/dataset/aclImdb/train/pos/7805_10.txt  \n",
            "  inflating: /content/dataset/__MACOSX/aclImdb/train/pos/._7805_10.txt  \n",
            "  inflating: /content/dataset/aclImdb/train/pos/7806_10.txt  \n",
            "  inflating: /content/dataset/__MACOSX/aclImdb/train/pos/._7806_10.txt  \n",
            "  inflating: /content/dataset/aclImdb/train/pos/7807_10.txt  \n",
            "  inflating: /content/dataset/__MACOSX/aclImdb/train/pos/._7807_10.txt  \n",
            "  inflating: /content/dataset/aclImdb/train/pos/7808_10.txt  \n",
            "  inflating: /content/dataset/__MACOSX/aclImdb/train/pos/._7808_10.txt  \n",
            "  inflating: /content/dataset/aclImdb/train/pos/7809_10.txt  \n",
            "  inflating: /content/dataset/__MACOSX/aclImdb/train/pos/._7809_10.txt  \n",
            "  inflating: /content/dataset/aclImdb/train/pos/780_7.txt  \n",
            "  inflating: /content/dataset/__MACOSX/aclImdb/train/pos/._780_7.txt  \n",
            "  inflating: /content/dataset/aclImdb/train/pos/7810_7.txt  \n",
            "  inflating: /content/dataset/__MACOSX/aclImdb/train/pos/._7810_7.txt  \n",
            "  inflating: /content/dataset/aclImdb/train/pos/7811_7.txt  \n",
            "  inflating: /content/dataset/__MACOSX/aclImdb/train/pos/._7811_7.txt  \n",
            "  inflating: /content/dataset/aclImdb/train/pos/7812_8.txt  \n",
            "  inflating: /content/dataset/__MACOSX/aclImdb/train/pos/._7812_8.txt  \n",
            "  inflating: /content/dataset/aclImdb/train/pos/7813_10.txt  \n",
            "  inflating: /content/dataset/__MACOSX/aclImdb/train/pos/._7813_10.txt  \n",
            "  inflating: /content/dataset/aclImdb/train/pos/7814_10.txt  \n",
            "  inflating: /content/dataset/__MACOSX/aclImdb/train/pos/._7814_10.txt  \n",
            "  inflating: /content/dataset/aclImdb/train/pos/7815_8.txt  \n",
            "  inflating: /content/dataset/__MACOSX/aclImdb/train/pos/._7815_8.txt  \n",
            "  inflating: /content/dataset/aclImdb/train/pos/7816_9.txt  \n",
            "  inflating: /content/dataset/__MACOSX/aclImdb/train/pos/._7816_9.txt  \n",
            "  inflating: /content/dataset/aclImdb/train/pos/7817_10.txt  \n",
            "  inflating: /content/dataset/__MACOSX/aclImdb/train/pos/._7817_10.txt  \n",
            "  inflating: /content/dataset/aclImdb/train/pos/7818_9.txt  \n",
            "  inflating: /content/dataset/__MACOSX/aclImdb/train/pos/._7818_9.txt  \n",
            "  inflating: /content/dataset/aclImdb/train/pos/7819_9.txt  \n",
            "  inflating: /content/dataset/__MACOSX/aclImdb/train/pos/._7819_9.txt  \n",
            "  inflating: /content/dataset/aclImdb/train/pos/781_9.txt  \n",
            "  inflating: /content/dataset/__MACOSX/aclImdb/train/pos/._781_9.txt  \n",
            "  inflating: /content/dataset/aclImdb/train/pos/7820_8.txt  \n",
            "  inflating: /content/dataset/__MACOSX/aclImdb/train/pos/._7820_8.txt  \n",
            "  inflating: /content/dataset/aclImdb/train/pos/7821_8.txt  \n",
            "  inflating: /content/dataset/__MACOSX/aclImdb/train/pos/._7821_8.txt  \n",
            "  inflating: /content/dataset/aclImdb/train/pos/7822_8.txt  \n",
            "  inflating: /content/dataset/__MACOSX/aclImdb/train/pos/._7822_8.txt  \n",
            "  inflating: /content/dataset/aclImdb/train/pos/7823_7.txt  \n",
            "  inflating: /content/dataset/__MACOSX/aclImdb/train/pos/._7823_7.txt  \n",
            "  inflating: /content/dataset/aclImdb/train/pos/7824_10.txt  \n",
            "  inflating: /content/dataset/__MACOSX/aclImdb/train/pos/._7824_10.txt  \n",
            "  inflating: /content/dataset/aclImdb/train/pos/7825_9.txt  \n",
            "  inflating: /content/dataset/__MACOSX/aclImdb/train/pos/._7825_9.txt  \n",
            "  inflating: /content/dataset/aclImdb/train/pos/7826_8.txt  \n",
            "  inflating: /content/dataset/__MACOSX/aclImdb/train/pos/._7826_8.txt  \n",
            "  inflating: /content/dataset/aclImdb/train/pos/7827_10.txt  \n",
            "  inflating: /content/dataset/__MACOSX/aclImdb/train/pos/._7827_10.txt  \n",
            "  inflating: /content/dataset/aclImdb/train/pos/7828_10.txt  \n",
            "  inflating: /content/dataset/__MACOSX/aclImdb/train/pos/._7828_10.txt  \n",
            "  inflating: /content/dataset/aclImdb/train/pos/7829_7.txt  \n",
            "  inflating: /content/dataset/__MACOSX/aclImdb/train/pos/._7829_7.txt  \n",
            "  inflating: /content/dataset/aclImdb/train/pos/782_9.txt  \n",
            "  inflating: /content/dataset/__MACOSX/aclImdb/train/pos/._782_9.txt  \n",
            "  inflating: /content/dataset/aclImdb/train/pos/7830_10.txt  \n",
            "  inflating: /content/dataset/__MACOSX/aclImdb/train/pos/._7830_10.txt  \n",
            "  inflating: /content/dataset/aclImdb/train/pos/7831_8.txt  \n",
            "  inflating: /content/dataset/__MACOSX/aclImdb/train/pos/._7831_8.txt  \n",
            "  inflating: /content/dataset/aclImdb/train/pos/7832_7.txt  \n",
            "  inflating: /content/dataset/__MACOSX/aclImdb/train/pos/._7832_7.txt  \n",
            "  inflating: /content/dataset/aclImdb/train/pos/7833_8.txt  \n",
            "  inflating: /content/dataset/__MACOSX/aclImdb/train/pos/._7833_8.txt  \n",
            "  inflating: /content/dataset/aclImdb/train/pos/7834_8.txt  \n",
            "  inflating: /content/dataset/__MACOSX/aclImdb/train/pos/._7834_8.txt  \n",
            "  inflating: /content/dataset/aclImdb/train/pos/7835_9.txt  \n",
            "  inflating: /content/dataset/__MACOSX/aclImdb/train/pos/._7835_9.txt  \n",
            "  inflating: /content/dataset/aclImdb/train/pos/7836_8.txt  \n",
            "  inflating: /content/dataset/__MACOSX/aclImdb/train/pos/._7836_8.txt  \n",
            "  inflating: /content/dataset/aclImdb/train/pos/7837_10.txt  \n",
            "  inflating: /content/dataset/__MACOSX/aclImdb/train/pos/._7837_10.txt  \n",
            "  inflating: /content/dataset/aclImdb/train/pos/7838_8.txt  \n",
            "  inflating: /content/dataset/__MACOSX/aclImdb/train/pos/._7838_8.txt  \n",
            "  inflating: /content/dataset/aclImdb/train/pos/7839_10.txt  \n",
            "  inflating: /content/dataset/__MACOSX/aclImdb/train/pos/._7839_10.txt  \n",
            "  inflating: /content/dataset/aclImdb/train/pos/783_10.txt  \n",
            "  inflating: /content/dataset/__MACOSX/aclImdb/train/pos/._783_10.txt  \n",
            "  inflating: /content/dataset/aclImdb/train/pos/7840_8.txt  \n",
            "  inflating: /content/dataset/__MACOSX/aclImdb/train/pos/._7840_8.txt  \n",
            "  inflating: /content/dataset/aclImdb/train/pos/7841_10.txt  \n",
            "  inflating: /content/dataset/__MACOSX/aclImdb/train/pos/._7841_10.txt  \n",
            "  inflating: /content/dataset/aclImdb/train/pos/7842_10.txt  \n",
            "  inflating: /content/dataset/__MACOSX/aclImdb/train/pos/._7842_10.txt  \n",
            "  inflating: /content/dataset/aclImdb/train/pos/7843_9.txt  \n",
            "  inflating: /content/dataset/__MACOSX/aclImdb/train/pos/._7843_9.txt  \n",
            "  inflating: /content/dataset/aclImdb/train/pos/7844_10.txt  \n",
            "  inflating: /content/dataset/__MACOSX/aclImdb/train/pos/._7844_10.txt  \n",
            "  inflating: /content/dataset/aclImdb/train/pos/7845_10.txt  \n",
            "  inflating: /content/dataset/__MACOSX/aclImdb/train/pos/._7845_10.txt  \n",
            "  inflating: /content/dataset/aclImdb/train/pos/7846_10.txt  \n",
            "  inflating: /content/dataset/__MACOSX/aclImdb/train/pos/._7846_10.txt  \n",
            "  inflating: /content/dataset/aclImdb/train/pos/7847_9.txt  \n",
            "  inflating: /content/dataset/__MACOSX/aclImdb/train/pos/._7847_9.txt  \n",
            "  inflating: /content/dataset/aclImdb/train/pos/7848_10.txt  \n",
            "  inflating: /content/dataset/__MACOSX/aclImdb/train/pos/._7848_10.txt  \n",
            "  inflating: /content/dataset/aclImdb/train/pos/7849_9.txt  \n",
            "  inflating: /content/dataset/__MACOSX/aclImdb/train/pos/._7849_9.txt  \n",
            "  inflating: /content/dataset/aclImdb/train/pos/784_10.txt  \n",
            "  inflating: /content/dataset/__MACOSX/aclImdb/train/pos/._784_10.txt  \n",
            "  inflating: /content/dataset/aclImdb/train/pos/7850_8.txt  \n",
            "  inflating: /content/dataset/__MACOSX/aclImdb/train/pos/._7850_8.txt  \n",
            "  inflating: /content/dataset/aclImdb/train/pos/7851_8.txt  \n",
            "  inflating: /content/dataset/__MACOSX/aclImdb/train/pos/._7851_8.txt  \n",
            "  inflating: /content/dataset/aclImdb/train/pos/7852_9.txt  \n",
            "  inflating: /content/dataset/__MACOSX/aclImdb/train/pos/._7852_9.txt  \n",
            "  inflating: /content/dataset/aclImdb/train/pos/7853_9.txt  \n",
            "  inflating: /content/dataset/__MACOSX/aclImdb/train/pos/._7853_9.txt  \n",
            "  inflating: /content/dataset/aclImdb/train/pos/7854_10.txt  \n",
            "  inflating: /content/dataset/__MACOSX/aclImdb/train/pos/._7854_10.txt  \n",
            "  inflating: /content/dataset/aclImdb/train/pos/7855_8.txt  \n",
            "  inflating: /content/dataset/__MACOSX/aclImdb/train/pos/._7855_8.txt  \n",
            "  inflating: /content/dataset/aclImdb/train/pos/7856_10.txt  \n",
            "  inflating: /content/dataset/__MACOSX/aclImdb/train/pos/._7856_10.txt  \n",
            "  inflating: /content/dataset/aclImdb/train/pos/7857_10.txt  \n",
            "  inflating: /content/dataset/__MACOSX/aclImdb/train/pos/._7857_10.txt  \n",
            "  inflating: /content/dataset/aclImdb/train/pos/7858_10.txt  \n",
            "  inflating: /content/dataset/__MACOSX/aclImdb/train/pos/._7858_10.txt  \n",
            "  inflating: /content/dataset/aclImdb/train/pos/7859_7.txt  \n",
            "  inflating: /content/dataset/__MACOSX/aclImdb/train/pos/._7859_7.txt  \n",
            "  inflating: /content/dataset/aclImdb/train/pos/785_9.txt  \n",
            "  inflating: /content/dataset/__MACOSX/aclImdb/train/pos/._785_9.txt  \n",
            "  inflating: /content/dataset/aclImdb/train/pos/7860_10.txt  \n",
            "  inflating: /content/dataset/__MACOSX/aclImdb/train/pos/._7860_10.txt  \n",
            "  inflating: /content/dataset/aclImdb/train/pos/7861_10.txt  \n",
            "  inflating: /content/dataset/__MACOSX/aclImdb/train/pos/._7861_10.txt  \n",
            "  inflating: /content/dataset/aclImdb/train/pos/7862_7.txt  \n",
            "  inflating: /content/dataset/__MACOSX/aclImdb/train/pos/._7862_7.txt  \n",
            "  inflating: /content/dataset/aclImdb/train/pos/7863_10.txt  \n",
            "  inflating: /content/dataset/__MACOSX/aclImdb/train/pos/._7863_10.txt  \n",
            "  inflating: /content/dataset/aclImdb/train/pos/7864_8.txt  \n",
            "  inflating: /content/dataset/__MACOSX/aclImdb/train/pos/._7864_8.txt  \n",
            "  inflating: /content/dataset/aclImdb/train/pos/7865_8.txt  \n",
            "  inflating: /content/dataset/__MACOSX/aclImdb/train/pos/._7865_8.txt  \n",
            "  inflating: /content/dataset/aclImdb/train/pos/7866_10.txt  \n",
            "  inflating: /content/dataset/__MACOSX/aclImdb/train/pos/._7866_10.txt  \n",
            "  inflating: /content/dataset/aclImdb/train/pos/7867_7.txt  \n",
            "  inflating: /content/dataset/__MACOSX/aclImdb/train/pos/._7867_7.txt  \n",
            "  inflating: /content/dataset/aclImdb/train/pos/7868_8.txt  \n",
            "  inflating: /content/dataset/__MACOSX/aclImdb/train/pos/._7868_8.txt  \n",
            "  inflating: /content/dataset/aclImdb/train/pos/7869_9.txt  \n",
            "  inflating: /content/dataset/__MACOSX/aclImdb/train/pos/._7869_9.txt  \n",
            "  inflating: /content/dataset/aclImdb/train/pos/786_7.txt  \n",
            "  inflating: /content/dataset/__MACOSX/aclImdb/train/pos/._786_7.txt  \n",
            "  inflating: /content/dataset/aclImdb/train/pos/7870_10.txt  \n",
            "  inflating: /content/dataset/__MACOSX/aclImdb/train/pos/._7870_10.txt  \n",
            "  inflating: /content/dataset/aclImdb/train/pos/7871_9.txt  \n",
            "  inflating: /content/dataset/__MACOSX/aclImdb/train/pos/._7871_9.txt  \n",
            "  inflating: /content/dataset/aclImdb/train/pos/7872_10.txt  \n",
            "  inflating: /content/dataset/__MACOSX/aclImdb/train/pos/._7872_10.txt  \n",
            "  inflating: /content/dataset/aclImdb/train/pos/7873_8.txt  \n",
            "  inflating: /content/dataset/__MACOSX/aclImdb/train/pos/._7873_8.txt  \n",
            "  inflating: /content/dataset/aclImdb/train/pos/7874_8.txt  \n",
            "  inflating: /content/dataset/__MACOSX/aclImdb/train/pos/._7874_8.txt  \n",
            "  inflating: /content/dataset/aclImdb/train/pos/7875_7.txt  \n",
            "  inflating: /content/dataset/__MACOSX/aclImdb/train/pos/._7875_7.txt  \n",
            "  inflating: /content/dataset/aclImdb/train/pos/7876_8.txt  \n",
            "  inflating: /content/dataset/__MACOSX/aclImdb/train/pos/._7876_8.txt  \n",
            "  inflating: /content/dataset/aclImdb/train/pos/7877_7.txt  \n",
            "  inflating: /content/dataset/__MACOSX/aclImdb/train/pos/._7877_7.txt  \n",
            "  inflating: /content/dataset/aclImdb/train/pos/7878_7.txt  \n",
            "  inflating: /content/dataset/__MACOSX/aclImdb/train/pos/._7878_7.txt  \n",
            "  inflating: /content/dataset/aclImdb/train/pos/7879_7.txt  \n",
            "  inflating: /content/dataset/__MACOSX/aclImdb/train/pos/._7879_7.txt  \n",
            "  inflating: /content/dataset/aclImdb/train/pos/787_9.txt  \n",
            "  inflating: /content/dataset/__MACOSX/aclImdb/train/pos/._787_9.txt  \n",
            "  inflating: /content/dataset/aclImdb/train/pos/7880_8.txt  \n",
            "  inflating: /content/dataset/__MACOSX/aclImdb/train/pos/._7880_8.txt  \n",
            "  inflating: /content/dataset/aclImdb/train/pos/7881_9.txt  \n",
            "  inflating: /content/dataset/__MACOSX/aclImdb/train/pos/._7881_9.txt  \n",
            "  inflating: /content/dataset/aclImdb/train/pos/7882_7.txt  \n",
            "  inflating: /content/dataset/__MACOSX/aclImdb/train/pos/._7882_7.txt  \n",
            "  inflating: /content/dataset/aclImdb/train/pos/7883_10.txt  \n",
            "  inflating: /content/dataset/__MACOSX/aclImdb/train/pos/._7883_10.txt  \n",
            "  inflating: /content/dataset/aclImdb/train/pos/7884_7.txt  \n",
            "  inflating: /content/dataset/__MACOSX/aclImdb/train/pos/._7884_7.txt  \n",
            "  inflating: /content/dataset/aclImdb/train/pos/7885_9.txt  \n",
            "  inflating: /content/dataset/__MACOSX/aclImdb/train/pos/._7885_9.txt  \n",
            "  inflating: /content/dataset/aclImdb/train/pos/7886_10.txt  \n",
            "  inflating: /content/dataset/__MACOSX/aclImdb/train/pos/._7886_10.txt  \n",
            "  inflating: /content/dataset/aclImdb/train/pos/7887_7.txt  \n",
            "  inflating: /content/dataset/__MACOSX/aclImdb/train/pos/._7887_7.txt  \n",
            "  inflating: /content/dataset/aclImdb/train/pos/7888_8.txt  \n",
            "  inflating: /content/dataset/__MACOSX/aclImdb/train/pos/._7888_8.txt  \n",
            "  inflating: /content/dataset/aclImdb/train/pos/7889_10.txt  \n",
            "  inflating: /content/dataset/__MACOSX/aclImdb/train/pos/._7889_10.txt  \n",
            "  inflating: /content/dataset/aclImdb/train/pos/788_8.txt  \n",
            "  inflating: /content/dataset/__MACOSX/aclImdb/train/pos/._788_8.txt  \n",
            "  inflating: /content/dataset/aclImdb/train/pos/7890_7.txt  \n",
            "  inflating: /content/dataset/__MACOSX/aclImdb/train/pos/._7890_7.txt  \n",
            "  inflating: /content/dataset/aclImdb/train/pos/7891_8.txt  \n",
            "  inflating: /content/dataset/__MACOSX/aclImdb/train/pos/._7891_8.txt  \n",
            "  inflating: /content/dataset/aclImdb/train/pos/7892_7.txt  \n",
            "  inflating: /content/dataset/__MACOSX/aclImdb/train/pos/._7892_7.txt  \n",
            "  inflating: /content/dataset/aclImdb/train/pos/7893_7.txt  \n",
            "  inflating: /content/dataset/__MACOSX/aclImdb/train/pos/._7893_7.txt  \n",
            "  inflating: /content/dataset/aclImdb/train/pos/7894_10.txt  \n",
            "  inflating: /content/dataset/__MACOSX/aclImdb/train/pos/._7894_10.txt  \n",
            "  inflating: /content/dataset/aclImdb/train/pos/7895_10.txt  \n",
            "  inflating: /content/dataset/__MACOSX/aclImdb/train/pos/._7895_10.txt  \n",
            "  inflating: /content/dataset/aclImdb/train/pos/7896_10.txt  \n",
            "  inflating: /content/dataset/__MACOSX/aclImdb/train/pos/._7896_10.txt  \n",
            "  inflating: /content/dataset/aclImdb/train/pos/7897_8.txt  \n",
            "  inflating: /content/dataset/__MACOSX/aclImdb/train/pos/._7897_8.txt  \n",
            "  inflating: /content/dataset/aclImdb/train/pos/7898_10.txt  \n",
            "  inflating: /content/dataset/__MACOSX/aclImdb/train/pos/._7898_10.txt  \n",
            "  inflating: /content/dataset/aclImdb/train/pos/7899_10.txt  \n",
            "  inflating: /content/dataset/__MACOSX/aclImdb/train/pos/._7899_10.txt  \n",
            "  inflating: /content/dataset/aclImdb/train/pos/789_7.txt  \n",
            "  inflating: /content/dataset/__MACOSX/aclImdb/train/pos/._789_7.txt  \n",
            "  inflating: /content/dataset/aclImdb/train/pos/78_10.txt  \n",
            "  inflating: /content/dataset/__MACOSX/aclImdb/train/pos/._78_10.txt  \n",
            "  inflating: /content/dataset/aclImdb/train/pos/7900_10.txt  \n",
            "  inflating: /content/dataset/__MACOSX/aclImdb/train/pos/._7900_10.txt  \n",
            "  inflating: /content/dataset/aclImdb/train/pos/7901_7.txt  \n",
            "  inflating: /content/dataset/__MACOSX/aclImdb/train/pos/._7901_7.txt  \n",
            "  inflating: /content/dataset/aclImdb/train/pos/7902_10.txt  \n",
            "  inflating: /content/dataset/__MACOSX/aclImdb/train/pos/._7902_10.txt  \n",
            "  inflating: /content/dataset/aclImdb/train/pos/7903_10.txt  \n",
            "  inflating: /content/dataset/__MACOSX/aclImdb/train/pos/._7903_10.txt  \n",
            "  inflating: /content/dataset/aclImdb/train/pos/7904_8.txt  \n",
            "  inflating: /content/dataset/__MACOSX/aclImdb/train/pos/._7904_8.txt  \n",
            "  inflating: /content/dataset/aclImdb/train/pos/7905_10.txt  \n",
            "  inflating: /content/dataset/__MACOSX/aclImdb/train/pos/._7905_10.txt  \n",
            "  inflating: /content/dataset/aclImdb/train/pos/7906_7.txt  \n",
            "  inflating: /content/dataset/__MACOSX/aclImdb/train/pos/._7906_7.txt  \n",
            "  inflating: /content/dataset/aclImdb/train/pos/7907_7.txt  \n",
            "  inflating: /content/dataset/__MACOSX/aclImdb/train/pos/._7907_7.txt  \n",
            "  inflating: /content/dataset/aclImdb/train/pos/7908_9.txt  \n",
            "  inflating: /content/dataset/__MACOSX/aclImdb/train/pos/._7908_9.txt  \n",
            "  inflating: /content/dataset/aclImdb/train/pos/7909_10.txt  \n",
            "  inflating: /content/dataset/__MACOSX/aclImdb/train/pos/._7909_10.txt  \n",
            "  inflating: /content/dataset/aclImdb/train/pos/790_9.txt  \n",
            "  inflating: /content/dataset/__MACOSX/aclImdb/train/pos/._790_9.txt  \n",
            "  inflating: /content/dataset/aclImdb/train/pos/7910_10.txt  \n",
            "  inflating: /content/dataset/__MACOSX/aclImdb/train/pos/._7910_10.txt  \n",
            "  inflating: /content/dataset/aclImdb/train/pos/7911_10.txt  \n",
            "  inflating: /content/dataset/__MACOSX/aclImdb/train/pos/._7911_10.txt  \n",
            "  inflating: /content/dataset/aclImdb/train/pos/7912_8.txt  \n",
            "  inflating: /content/dataset/__MACOSX/aclImdb/train/pos/._7912_8.txt  \n",
            "  inflating: /content/dataset/aclImdb/train/pos/7913_10.txt  \n",
            "  inflating: /content/dataset/__MACOSX/aclImdb/train/pos/._7913_10.txt  \n",
            "  inflating: /content/dataset/aclImdb/train/pos/7914_10.txt  \n",
            "  inflating: /content/dataset/__MACOSX/aclImdb/train/pos/._7914_10.txt  \n",
            "  inflating: /content/dataset/aclImdb/train/pos/7915_8.txt  \n",
            "  inflating: /content/dataset/__MACOSX/aclImdb/train/pos/._7915_8.txt  \n",
            "  inflating: /content/dataset/aclImdb/train/pos/7916_8.txt  \n",
            "  inflating: /content/dataset/__MACOSX/aclImdb/train/pos/._7916_8.txt  \n",
            "  inflating: /content/dataset/aclImdb/train/pos/7917_8.txt  \n",
            "  inflating: /content/dataset/__MACOSX/aclImdb/train/pos/._7917_8.txt  \n",
            "  inflating: /content/dataset/aclImdb/train/pos/7918_10.txt  \n",
            "  inflating: /content/dataset/__MACOSX/aclImdb/train/pos/._7918_10.txt  \n",
            "  inflating: /content/dataset/aclImdb/train/pos/7919_10.txt  \n",
            "  inflating: /content/dataset/__MACOSX/aclImdb/train/pos/._7919_10.txt  \n",
            "  inflating: /content/dataset/aclImdb/train/pos/791_9.txt  \n",
            "  inflating: /content/dataset/__MACOSX/aclImdb/train/pos/._791_9.txt  \n",
            "  inflating: /content/dataset/aclImdb/train/pos/7920_7.txt  \n",
            "  inflating: /content/dataset/__MACOSX/aclImdb/train/pos/._7920_7.txt  \n",
            "  inflating: /content/dataset/aclImdb/train/pos/7921_10.txt  \n",
            "  inflating: /content/dataset/__MACOSX/aclImdb/train/pos/._7921_10.txt  \n",
            "  inflating: /content/dataset/aclImdb/train/pos/7922_7.txt  \n",
            "  inflating: /content/dataset/__MACOSX/aclImdb/train/pos/._7922_7.txt  \n",
            "  inflating: /content/dataset/aclImdb/train/pos/7923_8.txt  \n",
            "  inflating: /content/dataset/__MACOSX/aclImdb/train/pos/._7923_8.txt  \n",
            "  inflating: /content/dataset/aclImdb/train/pos/7924_9.txt  \n",
            "  inflating: /content/dataset/__MACOSX/aclImdb/train/pos/._7924_9.txt  \n",
            "  inflating: /content/dataset/aclImdb/train/pos/7925_7.txt  \n",
            "  inflating: /content/dataset/__MACOSX/aclImdb/train/pos/._7925_7.txt  \n",
            "  inflating: /content/dataset/aclImdb/train/pos/7926_10.txt  \n",
            "  inflating: /content/dataset/__MACOSX/aclImdb/train/pos/._7926_10.txt  \n",
            "  inflating: /content/dataset/aclImdb/train/pos/7927_10.txt  \n",
            "  inflating: /content/dataset/__MACOSX/aclImdb/train/pos/._7927_10.txt  \n",
            "  inflating: /content/dataset/aclImdb/train/pos/7928_10.txt  \n",
            "  inflating: /content/dataset/__MACOSX/aclImdb/train/pos/._7928_10.txt  \n",
            "  inflating: /content/dataset/aclImdb/train/pos/7929_10.txt  \n",
            "  inflating: /content/dataset/__MACOSX/aclImdb/train/pos/._7929_10.txt  \n",
            "  inflating: /content/dataset/aclImdb/train/pos/792_8.txt  \n",
            "  inflating: /content/dataset/__MACOSX/aclImdb/train/pos/._792_8.txt  \n",
            "  inflating: /content/dataset/aclImdb/train/pos/7930_7.txt  \n",
            "  inflating: /content/dataset/__MACOSX/aclImdb/train/pos/._7930_7.txt  \n",
            "  inflating: /content/dataset/aclImdb/train/pos/7931_8.txt  \n",
            "  inflating: /content/dataset/__MACOSX/aclImdb/train/pos/._7931_8.txt  \n",
            "  inflating: /content/dataset/aclImdb/train/pos/7932_8.txt  \n",
            "  inflating: /content/dataset/__MACOSX/aclImdb/train/pos/._7932_8.txt  \n",
            "  inflating: /content/dataset/aclImdb/train/pos/7933_10.txt  \n",
            "  inflating: /content/dataset/__MACOSX/aclImdb/train/pos/._7933_10.txt  \n",
            "  inflating: /content/dataset/aclImdb/train/pos/7934_7.txt  \n",
            "  inflating: /content/dataset/__MACOSX/aclImdb/train/pos/._7934_7.txt  \n",
            "  inflating: /content/dataset/aclImdb/train/pos/7935_8.txt  \n",
            "  inflating: /content/dataset/__MACOSX/aclImdb/train/pos/._7935_8.txt  \n",
            "  inflating: /content/dataset/aclImdb/train/pos/7936_7.txt  \n",
            "  inflating: /content/dataset/__MACOSX/aclImdb/train/pos/._7936_7.txt  \n",
            "  inflating: /content/dataset/aclImdb/train/pos/7937_10.txt  \n",
            "  inflating: /content/dataset/__MACOSX/aclImdb/train/pos/._7937_10.txt  \n",
            "  inflating: /content/dataset/aclImdb/train/pos/7938_7.txt  \n",
            "  inflating: /content/dataset/__MACOSX/aclImdb/train/pos/._7938_7.txt  \n",
            "  inflating: /content/dataset/aclImdb/train/pos/7939_8.txt  \n",
            "  inflating: /content/dataset/__MACOSX/aclImdb/train/pos/._7939_8.txt  \n",
            "  inflating: /content/dataset/aclImdb/train/pos/793_9.txt  \n",
            "  inflating: /content/dataset/__MACOSX/aclImdb/train/pos/._793_9.txt  \n",
            "  inflating: /content/dataset/aclImdb/train/pos/7940_7.txt  \n",
            "  inflating: /content/dataset/__MACOSX/aclImdb/train/pos/._7940_7.txt  \n",
            "  inflating: /content/dataset/aclImdb/train/pos/7941_8.txt  \n",
            "  inflating: /content/dataset/__MACOSX/aclImdb/train/pos/._7941_8.txt  \n",
            "  inflating: /content/dataset/aclImdb/train/pos/7942_10.txt  \n",
            "  inflating: /content/dataset/__MACOSX/aclImdb/train/pos/._7942_10.txt  \n",
            "  inflating: /content/dataset/aclImdb/train/pos/7943_10.txt  \n",
            "  inflating: /content/dataset/__MACOSX/aclImdb/train/pos/._7943_10.txt  \n",
            "  inflating: /content/dataset/aclImdb/train/pos/7944_9.txt  \n",
            "  inflating: /content/dataset/__MACOSX/aclImdb/train/pos/._7944_9.txt  \n",
            "  inflating: /content/dataset/aclImdb/train/pos/7945_8.txt  \n",
            "  inflating: /content/dataset/__MACOSX/aclImdb/train/pos/._7945_8.txt  \n",
            "  inflating: /content/dataset/aclImdb/train/pos/7946_10.txt  \n",
            "  inflating: /content/dataset/__MACOSX/aclImdb/train/pos/._7946_10.txt  \n",
            "  inflating: /content/dataset/aclImdb/train/pos/7947_10.txt  \n",
            "  inflating: /content/dataset/__MACOSX/aclImdb/train/pos/._7947_10.txt  \n",
            "  inflating: /content/dataset/aclImdb/train/pos/7948_7.txt  \n",
            "  inflating: /content/dataset/__MACOSX/aclImdb/train/pos/._7948_7.txt  \n",
            "  inflating: /content/dataset/aclImdb/train/pos/7949_10.txt  \n",
            "  inflating: /content/dataset/__MACOSX/aclImdb/train/pos/._7949_10.txt  \n",
            "  inflating: /content/dataset/aclImdb/train/pos/794_8.txt  \n",
            "  inflating: /content/dataset/__MACOSX/aclImdb/train/pos/._794_8.txt  \n",
            "  inflating: /content/dataset/aclImdb/train/pos/7950_9.txt  \n",
            "  inflating: /content/dataset/__MACOSX/aclImdb/train/pos/._7950_9.txt  \n",
            "  inflating: /content/dataset/aclImdb/train/pos/7951_10.txt  \n",
            "  inflating: /content/dataset/__MACOSX/aclImdb/train/pos/._7951_10.txt  \n",
            "  inflating: /content/dataset/aclImdb/train/pos/7952_8.txt  \n",
            "  inflating: /content/dataset/__MACOSX/aclImdb/train/pos/._7952_8.txt  \n",
            "  inflating: /content/dataset/aclImdb/train/pos/7953_9.txt  \n",
            "  inflating: /content/dataset/__MACOSX/aclImdb/train/pos/._7953_9.txt  \n",
            "  inflating: /content/dataset/aclImdb/train/pos/7954_7.txt  \n",
            "  inflating: /content/dataset/__MACOSX/aclImdb/train/pos/._7954_7.txt  \n",
            "  inflating: /content/dataset/aclImdb/train/pos/7955_10.txt  \n",
            "  inflating: /content/dataset/__MACOSX/aclImdb/train/pos/._7955_10.txt  \n",
            "  inflating: /content/dataset/aclImdb/train/pos/7956_10.txt  \n",
            "  inflating: /content/dataset/__MACOSX/aclImdb/train/pos/._7956_10.txt  \n",
            "  inflating: /content/dataset/aclImdb/train/pos/7957_10.txt  \n",
            "  inflating: /content/dataset/__MACOSX/aclImdb/train/pos/._7957_10.txt  \n",
            "  inflating: /content/dataset/aclImdb/train/pos/7958_10.txt  \n",
            "  inflating: /content/dataset/__MACOSX/aclImdb/train/pos/._7958_10.txt  \n",
            "  inflating: /content/dataset/aclImdb/train/pos/7959_10.txt  \n",
            "  inflating: /content/dataset/__MACOSX/aclImdb/train/pos/._7959_10.txt  \n",
            "  inflating: /content/dataset/aclImdb/train/pos/795_8.txt  \n",
            "  inflating: /content/dataset/__MACOSX/aclImdb/train/pos/._795_8.txt  \n",
            "  inflating: /content/dataset/aclImdb/train/pos/7960_10.txt  \n",
            "  inflating: /content/dataset/__MACOSX/aclImdb/train/pos/._7960_10.txt  \n",
            "  inflating: /content/dataset/aclImdb/train/pos/7961_10.txt  \n",
            "  inflating: /content/dataset/__MACOSX/aclImdb/train/pos/._7961_10.txt  \n",
            "  inflating: /content/dataset/aclImdb/train/pos/7962_9.txt  \n",
            "  inflating: /content/dataset/__MACOSX/aclImdb/train/pos/._7962_9.txt  \n",
            "  inflating: /content/dataset/aclImdb/train/pos/7963_9.txt  \n",
            "  inflating: /content/dataset/__MACOSX/aclImdb/train/pos/._7963_9.txt  \n",
            "  inflating: /content/dataset/aclImdb/train/pos/7964_10.txt  \n",
            "  inflating: /content/dataset/__MACOSX/aclImdb/train/pos/._7964_10.txt  \n",
            "  inflating: /content/dataset/aclImdb/train/pos/7965_10.txt  \n",
            "  inflating: /content/dataset/__MACOSX/aclImdb/train/pos/._7965_10.txt  \n",
            "  inflating: /content/dataset/aclImdb/train/pos/7966_9.txt  \n",
            "  inflating: /content/dataset/__MACOSX/aclImdb/train/pos/._7966_9.txt  \n",
            "  inflating: /content/dataset/aclImdb/train/pos/7967_9.txt  \n",
            "  inflating: /content/dataset/__MACOSX/aclImdb/train/pos/._7967_9.txt  \n",
            "  inflating: /content/dataset/aclImdb/train/pos/7968_10.txt  \n",
            "  inflating: /content/dataset/__MACOSX/aclImdb/train/pos/._7968_10.txt  \n",
            "  inflating: /content/dataset/aclImdb/train/pos/7969_10.txt  \n",
            "  inflating: /content/dataset/__MACOSX/aclImdb/train/pos/._7969_10.txt  \n",
            "  inflating: /content/dataset/aclImdb/train/pos/796_8.txt  \n",
            "  inflating: /content/dataset/__MACOSX/aclImdb/train/pos/._796_8.txt  \n",
            "  inflating: /content/dataset/aclImdb/train/pos/7970_10.txt  \n",
            "  inflating: /content/dataset/__MACOSX/aclImdb/train/pos/._7970_10.txt  \n",
            "  inflating: /content/dataset/aclImdb/train/pos/7971_10.txt  \n",
            "  inflating: /content/dataset/__MACOSX/aclImdb/train/pos/._7971_10.txt  \n",
            "  inflating: /content/dataset/aclImdb/train/pos/7972_10.txt  \n",
            "  inflating: /content/dataset/__MACOSX/aclImdb/train/pos/._7972_10.txt  \n",
            "  inflating: /content/dataset/aclImdb/train/pos/7973_10.txt  \n",
            "  inflating: /content/dataset/__MACOSX/aclImdb/train/pos/._7973_10.txt  \n",
            "  inflating: /content/dataset/aclImdb/train/pos/7974_7.txt  \n",
            "  inflating: /content/dataset/__MACOSX/aclImdb/train/pos/._7974_7.txt  \n",
            "  inflating: /content/dataset/aclImdb/train/pos/7975_8.txt  \n",
            "  inflating: /content/dataset/__MACOSX/aclImdb/train/pos/._7975_8.txt  \n",
            "  inflating: /content/dataset/aclImdb/train/pos/7976_7.txt  \n",
            "  inflating: /content/dataset/__MACOSX/aclImdb/train/pos/._7976_7.txt  \n",
            "  inflating: /content/dataset/aclImdb/train/pos/7977_8.txt  \n",
            "  inflating: /content/dataset/__MACOSX/aclImdb/train/pos/._7977_8.txt  \n",
            "  inflating: /content/dataset/aclImdb/train/pos/7978_8.txt  \n",
            "  inflating: /content/dataset/__MACOSX/aclImdb/train/pos/._7978_8.txt  \n",
            "  inflating: /content/dataset/aclImdb/train/pos/7979_9.txt  \n",
            "  inflating: /content/dataset/__MACOSX/aclImdb/train/pos/._7979_9.txt  \n",
            "  inflating: /content/dataset/aclImdb/train/pos/797_8.txt  \n",
            "  inflating: /content/dataset/__MACOSX/aclImdb/train/pos/._797_8.txt  \n",
            "  inflating: /content/dataset/aclImdb/train/pos/7980_10.txt  \n",
            "  inflating: /content/dataset/__MACOSX/aclImdb/train/pos/._7980_10.txt  \n",
            "  inflating: /content/dataset/aclImdb/train/pos/7981_10.txt  \n",
            "  inflating: /content/dataset/__MACOSX/aclImdb/train/pos/._7981_10.txt  \n",
            "  inflating: /content/dataset/aclImdb/train/pos/7982_10.txt  \n",
            "  inflating: /content/dataset/__MACOSX/aclImdb/train/pos/._7982_10.txt  \n",
            "  inflating: /content/dataset/aclImdb/train/pos/7983_9.txt  \n",
            "  inflating: /content/dataset/__MACOSX/aclImdb/train/pos/._7983_9.txt  \n",
            "  inflating: /content/dataset/aclImdb/train/pos/7984_10.txt  \n",
            "  inflating: /content/dataset/__MACOSX/aclImdb/train/pos/._7984_10.txt  \n",
            "  inflating: /content/dataset/aclImdb/train/pos/7985_10.txt  \n",
            "  inflating: /content/dataset/__MACOSX/aclImdb/train/pos/._7985_10.txt  \n",
            "  inflating: /content/dataset/aclImdb/train/pos/7986_10.txt  \n",
            "  inflating: /content/dataset/__MACOSX/aclImdb/train/pos/._7986_10.txt  \n",
            "  inflating: /content/dataset/aclImdb/train/pos/7987_8.txt  \n",
            "  inflating: /content/dataset/__MACOSX/aclImdb/train/pos/._7987_8.txt  \n",
            "  inflating: /content/dataset/aclImdb/train/pos/7988_10.txt  \n",
            "  inflating: /content/dataset/__MACOSX/aclImdb/train/pos/._7988_10.txt  \n",
            "  inflating: /content/dataset/aclImdb/train/pos/7989_10.txt  \n",
            "  inflating: /content/dataset/__MACOSX/aclImdb/train/pos/._7989_10.txt  \n",
            "  inflating: /content/dataset/aclImdb/train/pos/798_10.txt  \n",
            "  inflating: /content/dataset/__MACOSX/aclImdb/train/pos/._798_10.txt  \n",
            "  inflating: /content/dataset/aclImdb/train/pos/7990_7.txt  \n",
            "  inflating: /content/dataset/__MACOSX/aclImdb/train/pos/._7990_7.txt  \n",
            "  inflating: /content/dataset/aclImdb/train/pos/7991_7.txt  \n",
            "  inflating: /content/dataset/__MACOSX/aclImdb/train/pos/._7991_7.txt  \n",
            "  inflating: /content/dataset/aclImdb/train/pos/7992_7.txt  \n",
            "  inflating: /content/dataset/__MACOSX/aclImdb/train/pos/._7992_7.txt  \n",
            "  inflating: /content/dataset/aclImdb/train/pos/7993_10.txt  \n",
            "  inflating: /content/dataset/__MACOSX/aclImdb/train/pos/._7993_10.txt  \n",
            "  inflating: /content/dataset/aclImdb/train/pos/7994_9.txt  \n",
            "  inflating: /content/dataset/__MACOSX/aclImdb/train/pos/._7994_9.txt  \n",
            "  inflating: /content/dataset/aclImdb/train/pos/7995_8.txt  \n",
            "  inflating: /content/dataset/__MACOSX/aclImdb/train/pos/._7995_8.txt  \n",
            "  inflating: /content/dataset/aclImdb/train/pos/7996_8.txt  \n",
            "  inflating: /content/dataset/__MACOSX/aclImdb/train/pos/._7996_8.txt  \n",
            "  inflating: /content/dataset/aclImdb/train/pos/7997_10.txt  \n",
            "  inflating: /content/dataset/__MACOSX/aclImdb/train/pos/._7997_10.txt  \n",
            "  inflating: /content/dataset/aclImdb/train/pos/7998_9.txt  \n",
            "  inflating: /content/dataset/__MACOSX/aclImdb/train/pos/._7998_9.txt  \n",
            "  inflating: /content/dataset/aclImdb/train/pos/7999_10.txt  \n",
            "  inflating: /content/dataset/__MACOSX/aclImdb/train/pos/._7999_10.txt  \n",
            "  inflating: /content/dataset/aclImdb/train/pos/799_8.txt  \n",
            "  inflating: /content/dataset/__MACOSX/aclImdb/train/pos/._799_8.txt  \n",
            "  inflating: /content/dataset/aclImdb/train/pos/79_10.txt  \n",
            "  inflating: /content/dataset/__MACOSX/aclImdb/train/pos/._79_10.txt  \n",
            "  inflating: /content/dataset/aclImdb/train/pos/7_7.txt  \n",
            "  inflating: /content/dataset/__MACOSX/aclImdb/train/pos/._7_7.txt  \n",
            "  inflating: /content/dataset/aclImdb/train/pos/8000_10.txt  \n",
            "  inflating: /content/dataset/__MACOSX/aclImdb/train/pos/._8000_10.txt  \n",
            "  inflating: /content/dataset/aclImdb/train/pos/8001_10.txt  \n",
            "  inflating: /content/dataset/__MACOSX/aclImdb/train/pos/._8001_10.txt  \n",
            "  inflating: /content/dataset/aclImdb/train/pos/8002_7.txt  \n",
            "  inflating: /content/dataset/__MACOSX/aclImdb/train/pos/._8002_7.txt  \n",
            "  inflating: /content/dataset/aclImdb/train/pos/8003_8.txt  \n",
            "  inflating: /content/dataset/__MACOSX/aclImdb/train/pos/._8003_8.txt  \n",
            "  inflating: /content/dataset/aclImdb/train/pos/8004_9.txt  \n",
            "  inflating: /content/dataset/__MACOSX/aclImdb/train/pos/._8004_9.txt  \n",
            "  inflating: /content/dataset/aclImdb/train/pos/8005_9.txt  \n",
            "  inflating: /content/dataset/__MACOSX/aclImdb/train/pos/._8005_9.txt  \n",
            "  inflating: /content/dataset/aclImdb/train/pos/8006_10.txt  \n",
            "  inflating: /content/dataset/__MACOSX/aclImdb/train/pos/._8006_10.txt  \n",
            "  inflating: /content/dataset/aclImdb/train/pos/8007_7.txt  \n",
            "  inflating: /content/dataset/__MACOSX/aclImdb/train/pos/._8007_7.txt  \n",
            "  inflating: /content/dataset/aclImdb/train/pos/8008_7.txt  \n",
            "  inflating: /content/dataset/__MACOSX/aclImdb/train/pos/._8008_7.txt  \n",
            "  inflating: /content/dataset/aclImdb/train/pos/8009_9.txt  \n",
            "  inflating: /content/dataset/__MACOSX/aclImdb/train/pos/._8009_9.txt  \n",
            "  inflating: /content/dataset/aclImdb/train/pos/800_9.txt  \n",
            "  inflating: /content/dataset/__MACOSX/aclImdb/train/pos/._800_9.txt  \n",
            "  inflating: /content/dataset/aclImdb/train/pos/8010_7.txt  \n",
            "  inflating: /content/dataset/__MACOSX/aclImdb/train/pos/._8010_7.txt  \n",
            "  inflating: /content/dataset/aclImdb/train/pos/8011_10.txt  \n",
            "  inflating: /content/dataset/__MACOSX/aclImdb/train/pos/._8011_10.txt  \n",
            "  inflating: /content/dataset/aclImdb/train/pos/8012_8.txt  \n",
            "  inflating: /content/dataset/__MACOSX/aclImdb/train/pos/._8012_8.txt  \n",
            "  inflating: /content/dataset/aclImdb/train/pos/8013_8.txt  \n",
            "  inflating: /content/dataset/__MACOSX/aclImdb/train/pos/._8013_8.txt  \n",
            "  inflating: /content/dataset/aclImdb/train/pos/8014_7.txt  \n",
            "  inflating: /content/dataset/__MACOSX/aclImdb/train/pos/._8014_7.txt  \n",
            "  inflating: /content/dataset/aclImdb/train/pos/8015_10.txt  \n",
            "  inflating: /content/dataset/__MACOSX/aclImdb/train/pos/._8015_10.txt  \n",
            "  inflating: /content/dataset/aclImdb/train/pos/8016_10.txt  \n",
            "  inflating: /content/dataset/__MACOSX/aclImdb/train/pos/._8016_10.txt  \n",
            "  inflating: /content/dataset/aclImdb/train/pos/8017_9.txt  \n",
            "  inflating: /content/dataset/__MACOSX/aclImdb/train/pos/._8017_9.txt  \n",
            "  inflating: /content/dataset/aclImdb/train/pos/8018_10.txt  \n",
            "  inflating: /content/dataset/__MACOSX/aclImdb/train/pos/._8018_10.txt  \n",
            "  inflating: /content/dataset/aclImdb/train/pos/8019_7.txt  \n",
            "  inflating: /content/dataset/__MACOSX/aclImdb/train/pos/._8019_7.txt  \n",
            "  inflating: /content/dataset/aclImdb/train/pos/801_8.txt  \n",
            "  inflating: /content/dataset/__MACOSX/aclImdb/train/pos/._801_8.txt  \n",
            "  inflating: /content/dataset/aclImdb/train/pos/8020_8.txt  \n",
            "  inflating: /content/dataset/__MACOSX/aclImdb/train/pos/._8020_8.txt  \n",
            "  inflating: /content/dataset/aclImdb/train/pos/8021_7.txt  \n",
            "  inflating: /content/dataset/__MACOSX/aclImdb/train/pos/._8021_7.txt  \n",
            "  inflating: /content/dataset/aclImdb/train/pos/8022_8.txt  \n",
            "  inflating: /content/dataset/__MACOSX/aclImdb/train/pos/._8022_8.txt  \n",
            "  inflating: /content/dataset/aclImdb/train/pos/8023_7.txt  \n",
            "  inflating: /content/dataset/__MACOSX/aclImdb/train/pos/._8023_7.txt  \n",
            "  inflating: /content/dataset/aclImdb/train/pos/8024_10.txt  \n",
            "  inflating: /content/dataset/__MACOSX/aclImdb/train/pos/._8024_10.txt  \n",
            "  inflating: /content/dataset/aclImdb/train/pos/8025_9.txt  \n",
            "  inflating: /content/dataset/__MACOSX/aclImdb/train/pos/._8025_9.txt  \n",
            "  inflating: /content/dataset/aclImdb/train/pos/8026_9.txt  \n",
            "  inflating: /content/dataset/__MACOSX/aclImdb/train/pos/._8026_9.txt  \n",
            "  inflating: /content/dataset/aclImdb/train/pos/8027_10.txt  \n",
            "  inflating: /content/dataset/__MACOSX/aclImdb/train/pos/._8027_10.txt  \n",
            "  inflating: /content/dataset/aclImdb/train/pos/8028_10.txt  \n",
            "  inflating: /content/dataset/__MACOSX/aclImdb/train/pos/._8028_10.txt  \n",
            "  inflating: /content/dataset/aclImdb/train/pos/8029_10.txt  \n",
            "  inflating: /content/dataset/__MACOSX/aclImdb/train/pos/._8029_10.txt  \n",
            "  inflating: /content/dataset/aclImdb/train/pos/802_10.txt  \n",
            "  inflating: /content/dataset/__MACOSX/aclImdb/train/pos/._802_10.txt  \n",
            "  inflating: /content/dataset/aclImdb/train/pos/8030_9.txt  \n",
            "  inflating: /content/dataset/__MACOSX/aclImdb/train/pos/._8030_9.txt  \n",
            "  inflating: /content/dataset/aclImdb/train/pos/8031_9.txt  \n",
            "  inflating: /content/dataset/__MACOSX/aclImdb/train/pos/._8031_9.txt  \n",
            "  inflating: /content/dataset/aclImdb/train/pos/8032_10.txt  \n",
            "  inflating: /content/dataset/__MACOSX/aclImdb/train/pos/._8032_10.txt  \n",
            "  inflating: /content/dataset/aclImdb/train/pos/8033_7.txt  \n",
            "  inflating: /content/dataset/__MACOSX/aclImdb/train/pos/._8033_7.txt  \n",
            "  inflating: /content/dataset/aclImdb/train/pos/8034_10.txt  \n",
            "  inflating: /content/dataset/__MACOSX/aclImdb/train/pos/._8034_10.txt  \n",
            "  inflating: /content/dataset/aclImdb/train/pos/8035_7.txt  \n",
            "  inflating: /content/dataset/__MACOSX/aclImdb/train/pos/._8035_7.txt  \n",
            "  inflating: /content/dataset/aclImdb/train/pos/8036_8.txt  \n",
            "  inflating: /content/dataset/__MACOSX/aclImdb/train/pos/._8036_8.txt  \n",
            "  inflating: /content/dataset/aclImdb/train/pos/8037_10.txt  \n",
            "  inflating: /content/dataset/__MACOSX/aclImdb/train/pos/._8037_10.txt  \n",
            "  inflating: /content/dataset/aclImdb/train/pos/8038_7.txt  \n",
            "  inflating: /content/dataset/__MACOSX/aclImdb/train/pos/._8038_7.txt  \n",
            "  inflating: /content/dataset/aclImdb/train/pos/8039_8.txt  \n",
            "  inflating: /content/dataset/__MACOSX/aclImdb/train/pos/._8039_8.txt  \n",
            "  inflating: /content/dataset/aclImdb/train/pos/803_10.txt  \n",
            "  inflating: /content/dataset/__MACOSX/aclImdb/train/pos/._803_10.txt  \n",
            "  inflating: /content/dataset/aclImdb/train/pos/8040_9.txt  \n",
            "  inflating: /content/dataset/__MACOSX/aclImdb/train/pos/._8040_9.txt  \n",
            "  inflating: /content/dataset/aclImdb/train/pos/8041_7.txt  \n",
            "  inflating: /content/dataset/__MACOSX/aclImdb/train/pos/._8041_7.txt  \n",
            "  inflating: /content/dataset/aclImdb/train/pos/8042_7.txt  \n",
            "  inflating: /content/dataset/__MACOSX/aclImdb/train/pos/._8042_7.txt  \n",
            "  inflating: /content/dataset/aclImdb/train/pos/8043_9.txt  \n",
            "  inflating: /content/dataset/__MACOSX/aclImdb/train/pos/._8043_9.txt  \n",
            "  inflating: /content/dataset/aclImdb/train/pos/8044_10.txt  \n",
            "  inflating: /content/dataset/__MACOSX/aclImdb/train/pos/._8044_10.txt  \n",
            "  inflating: /content/dataset/aclImdb/train/pos/8045_8.txt  \n",
            "  inflating: /content/dataset/__MACOSX/aclImdb/train/pos/._8045_8.txt  \n",
            "  inflating: /content/dataset/aclImdb/train/pos/8046_9.txt  \n",
            "  inflating: /content/dataset/__MACOSX/aclImdb/train/pos/._8046_9.txt  \n",
            "  inflating: /content/dataset/aclImdb/train/pos/8047_9.txt  \n",
            "  inflating: /content/dataset/__MACOSX/aclImdb/train/pos/._8047_9.txt  \n",
            "  inflating: /content/dataset/aclImdb/train/pos/8048_7.txt  \n",
            "  inflating: /content/dataset/__MACOSX/aclImdb/train/pos/._8048_7.txt  \n",
            "  inflating: /content/dataset/aclImdb/train/pos/8049_7.txt  \n",
            "  inflating: /content/dataset/__MACOSX/aclImdb/train/pos/._8049_7.txt  \n",
            "  inflating: /content/dataset/aclImdb/train/pos/804_10.txt  \n",
            "  inflating: /content/dataset/__MACOSX/aclImdb/train/pos/._804_10.txt  \n",
            "  inflating: /content/dataset/aclImdb/train/pos/8050_10.txt  \n",
            "  inflating: /content/dataset/__MACOSX/aclImdb/train/pos/._8050_10.txt  \n",
            "  inflating: /content/dataset/aclImdb/train/pos/8051_7.txt  \n",
            "  inflating: /content/dataset/__MACOSX/aclImdb/train/pos/._8051_7.txt  \n",
            "  inflating: /content/dataset/aclImdb/train/pos/8052_9.txt  \n",
            "  inflating: /content/dataset/__MACOSX/aclImdb/train/pos/._8052_9.txt  \n",
            "  inflating: /content/dataset/aclImdb/train/pos/8053_8.txt  \n",
            "  inflating: /content/dataset/__MACOSX/aclImdb/train/pos/._8053_8.txt  \n",
            "  inflating: /content/dataset/aclImdb/train/pos/8054_8.txt  \n",
            "  inflating: /content/dataset/__MACOSX/aclImdb/train/pos/._8054_8.txt  \n",
            "  inflating: /content/dataset/aclImdb/train/pos/8055_8.txt  \n",
            "  inflating: /content/dataset/__MACOSX/aclImdb/train/pos/._8055_8.txt  \n",
            "  inflating: /content/dataset/aclImdb/train/pos/8056_8.txt  \n",
            "  inflating: /content/dataset/__MACOSX/aclImdb/train/pos/._8056_8.txt  \n",
            "  inflating: /content/dataset/aclImdb/train/pos/8057_10.txt  \n",
            "  inflating: /content/dataset/__MACOSX/aclImdb/train/pos/._8057_10.txt  \n",
            "  inflating: /content/dataset/aclImdb/train/pos/8058_8.txt  \n",
            "  inflating: /content/dataset/__MACOSX/aclImdb/train/pos/._8058_8.txt  \n",
            "  inflating: /content/dataset/aclImdb/train/pos/8059_10.txt  \n",
            "  inflating: /content/dataset/__MACOSX/aclImdb/train/pos/._8059_10.txt  \n",
            "  inflating: /content/dataset/aclImdb/train/pos/805_9.txt  \n",
            "  inflating: /content/dataset/__MACOSX/aclImdb/train/pos/._805_9.txt  \n",
            "  inflating: /content/dataset/aclImdb/train/pos/8060_9.txt  \n",
            "  inflating: /content/dataset/__MACOSX/aclImdb/train/pos/._8060_9.txt  \n",
            "  inflating: /content/dataset/aclImdb/train/pos/8061_10.txt  \n",
            "  inflating: /content/dataset/__MACOSX/aclImdb/train/pos/._8061_10.txt  \n",
            "  inflating: /content/dataset/aclImdb/train/pos/8062_8.txt  \n",
            "  inflating: /content/dataset/__MACOSX/aclImdb/train/pos/._8062_8.txt  \n",
            "  inflating: /content/dataset/aclImdb/train/pos/8063_10.txt  \n",
            "  inflating: /content/dataset/__MACOSX/aclImdb/train/pos/._8063_10.txt  \n",
            "  inflating: /content/dataset/aclImdb/train/pos/8064_10.txt  \n",
            "  inflating: /content/dataset/__MACOSX/aclImdb/train/pos/._8064_10.txt  \n",
            "  inflating: /content/dataset/aclImdb/train/pos/8065_9.txt  \n",
            "  inflating: /content/dataset/__MACOSX/aclImdb/train/pos/._8065_9.txt  \n",
            "  inflating: /content/dataset/aclImdb/train/pos/8066_9.txt  \n",
            "  inflating: /content/dataset/__MACOSX/aclImdb/train/pos/._8066_9.txt  \n",
            "  inflating: /content/dataset/aclImdb/train/pos/8067_8.txt  \n",
            "  inflating: /content/dataset/__MACOSX/aclImdb/train/pos/._8067_8.txt  \n",
            "  inflating: /content/dataset/aclImdb/train/pos/8068_9.txt  \n",
            "  inflating: /content/dataset/__MACOSX/aclImdb/train/pos/._8068_9.txt  \n",
            "  inflating: /content/dataset/aclImdb/train/pos/8069_8.txt  \n",
            "  inflating: /content/dataset/__MACOSX/aclImdb/train/pos/._8069_8.txt  \n",
            "  inflating: /content/dataset/aclImdb/train/pos/806_10.txt  \n",
            "  inflating: /content/dataset/__MACOSX/aclImdb/train/pos/._806_10.txt  \n",
            "  inflating: /content/dataset/aclImdb/train/pos/8070_8.txt  \n",
            "  inflating: /content/dataset/__MACOSX/aclImdb/train/pos/._8070_8.txt  \n",
            "  inflating: /content/dataset/aclImdb/train/pos/8071_9.txt  \n",
            "  inflating: /content/dataset/__MACOSX/aclImdb/train/pos/._8071_9.txt  \n",
            "  inflating: /content/dataset/aclImdb/train/pos/8072_10.txt  \n",
            "  inflating: /content/dataset/__MACOSX/aclImdb/train/pos/._8072_10.txt  \n",
            "  inflating: /content/dataset/aclImdb/train/pos/8073_8.txt  \n",
            "  inflating: /content/dataset/__MACOSX/aclImdb/train/pos/._8073_8.txt  \n",
            "  inflating: /content/dataset/aclImdb/train/pos/8074_10.txt  \n",
            "  inflating: /content/dataset/__MACOSX/aclImdb/train/pos/._8074_10.txt  \n",
            "  inflating: /content/dataset/aclImdb/train/pos/8075_8.txt  \n",
            "  inflating: /content/dataset/__MACOSX/aclImdb/train/pos/._8075_8.txt  \n",
            "  inflating: /content/dataset/aclImdb/train/pos/8076_7.txt  \n",
            "  inflating: /content/dataset/__MACOSX/aclImdb/train/pos/._8076_7.txt  \n",
            "  inflating: /content/dataset/aclImdb/train/pos/8077_7.txt  \n",
            "  inflating: /content/dataset/__MACOSX/aclImdb/train/pos/._8077_7.txt  \n",
            "  inflating: /content/dataset/aclImdb/train/pos/8078_10.txt  \n",
            "  inflating: /content/dataset/__MACOSX/aclImdb/train/pos/._8078_10.txt  \n",
            "  inflating: /content/dataset/aclImdb/train/pos/8079_8.txt  \n",
            "  inflating: /content/dataset/__MACOSX/aclImdb/train/pos/._8079_8.txt  \n",
            "  inflating: /content/dataset/aclImdb/train/pos/807_10.txt  \n",
            "  inflating: /content/dataset/__MACOSX/aclImdb/train/pos/._807_10.txt  \n",
            "  inflating: /content/dataset/aclImdb/train/pos/8080_8.txt  \n",
            "  inflating: /content/dataset/__MACOSX/aclImdb/train/pos/._8080_8.txt  \n",
            "  inflating: /content/dataset/aclImdb/train/pos/8081_9.txt  \n",
            "  inflating: /content/dataset/__MACOSX/aclImdb/train/pos/._8081_9.txt  \n",
            "  inflating: /content/dataset/aclImdb/train/pos/8082_8.txt  \n",
            "  inflating: /content/dataset/__MACOSX/aclImdb/train/pos/._8082_8.txt  \n",
            "  inflating: /content/dataset/aclImdb/train/pos/8083_7.txt  \n",
            "  inflating: /content/dataset/__MACOSX/aclImdb/train/pos/._8083_7.txt  \n",
            "  inflating: /content/dataset/aclImdb/train/pos/8084_7.txt  \n",
            "  inflating: /content/dataset/__MACOSX/aclImdb/train/pos/._8084_7.txt  \n",
            "  inflating: /content/dataset/aclImdb/train/pos/8085_7.txt  \n",
            "  inflating: /content/dataset/__MACOSX/aclImdb/train/pos/._8085_7.txt  \n",
            "  inflating: /content/dataset/aclImdb/train/pos/8086_9.txt  \n",
            "  inflating: /content/dataset/__MACOSX/aclImdb/train/pos/._8086_9.txt  \n",
            "  inflating: /content/dataset/aclImdb/train/pos/8087_8.txt  \n",
            "  inflating: /content/dataset/__MACOSX/aclImdb/train/pos/._8087_8.txt  \n",
            "  inflating: /content/dataset/aclImdb/train/pos/8088_7.txt  \n",
            "  inflating: /content/dataset/__MACOSX/aclImdb/train/pos/._8088_7.txt  \n",
            "  inflating: /content/dataset/aclImdb/train/pos/8089_10.txt  \n",
            "  inflating: /content/dataset/__MACOSX/aclImdb/train/pos/._8089_10.txt  \n",
            "  inflating: /content/dataset/aclImdb/train/pos/808_9.txt  \n",
            "  inflating: /content/dataset/__MACOSX/aclImdb/train/pos/._808_9.txt  \n",
            "  inflating: /content/dataset/aclImdb/train/pos/8090_9.txt  \n",
            "  inflating: /content/dataset/__MACOSX/aclImdb/train/pos/._8090_9.txt  \n",
            "  inflating: /content/dataset/aclImdb/train/pos/8091_9.txt  \n",
            "  inflating: /content/dataset/__MACOSX/aclImdb/train/pos/._8091_9.txt  \n",
            "  inflating: /content/dataset/aclImdb/train/pos/8092_8.txt  \n",
            "  inflating: /content/dataset/__MACOSX/aclImdb/train/pos/._8092_8.txt  \n",
            "  inflating: /content/dataset/aclImdb/train/pos/8093_7.txt  \n",
            "  inflating: /content/dataset/__MACOSX/aclImdb/train/pos/._8093_7.txt  \n",
            "  inflating: /content/dataset/aclImdb/train/pos/8094_9.txt  \n",
            "  inflating: /content/dataset/__MACOSX/aclImdb/train/pos/._8094_9.txt  \n",
            "  inflating: /content/dataset/aclImdb/train/pos/8095_8.txt  \n",
            "  inflating: /content/dataset/__MACOSX/aclImdb/train/pos/._8095_8.txt  \n",
            "  inflating: /content/dataset/aclImdb/train/pos/8096_10.txt  \n",
            "  inflating: /content/dataset/__MACOSX/aclImdb/train/pos/._8096_10.txt  \n",
            "  inflating: /content/dataset/aclImdb/train/pos/8097_7.txt  \n",
            "  inflating: /content/dataset/__MACOSX/aclImdb/train/pos/._8097_7.txt  \n",
            "  inflating: /content/dataset/aclImdb/train/pos/8098_7.txt  \n",
            "  inflating: /content/dataset/__MACOSX/aclImdb/train/pos/._8098_7.txt  \n",
            "  inflating: /content/dataset/aclImdb/train/pos/8099_7.txt  \n",
            "  inflating: /content/dataset/__MACOSX/aclImdb/train/pos/._8099_7.txt  \n",
            "  inflating: /content/dataset/aclImdb/train/pos/809_10.txt  \n",
            "  inflating: /content/dataset/__MACOSX/aclImdb/train/pos/._809_10.txt  \n",
            "  inflating: /content/dataset/aclImdb/train/pos/80_9.txt  \n",
            "  inflating: /content/dataset/__MACOSX/aclImdb/train/pos/._80_9.txt  \n",
            "  inflating: /content/dataset/aclImdb/train/pos/8100_10.txt  \n",
            "  inflating: /content/dataset/__MACOSX/aclImdb/train/pos/._8100_10.txt  \n",
            "  inflating: /content/dataset/aclImdb/train/pos/8101_8.txt  \n",
            "  inflating: /content/dataset/__MACOSX/aclImdb/train/pos/._8101_8.txt  \n",
            "  inflating: /content/dataset/aclImdb/train/pos/8102_7.txt  \n",
            "  inflating: /content/dataset/__MACOSX/aclImdb/train/pos/._8102_7.txt  \n",
            "  inflating: /content/dataset/aclImdb/train/pos/8103_10.txt  \n",
            "  inflating: /content/dataset/__MACOSX/aclImdb/train/pos/._8103_10.txt  \n",
            "  inflating: /content/dataset/aclImdb/train/pos/8104_7.txt  \n",
            "  inflating: /content/dataset/__MACOSX/aclImdb/train/pos/._8104_7.txt  \n",
            "  inflating: /content/dataset/aclImdb/train/pos/8105_8.txt  \n",
            "  inflating: /content/dataset/__MACOSX/aclImdb/train/pos/._8105_8.txt  \n",
            "  inflating: /content/dataset/aclImdb/train/pos/8106_7.txt  \n",
            "  inflating: /content/dataset/__MACOSX/aclImdb/train/pos/._8106_7.txt  \n",
            "  inflating: /content/dataset/aclImdb/train/pos/8107_8.txt  \n",
            "  inflating: /content/dataset/__MACOSX/aclImdb/train/pos/._8107_8.txt  \n",
            "  inflating: /content/dataset/aclImdb/train/pos/8108_10.txt  \n",
            "  inflating: /content/dataset/__MACOSX/aclImdb/train/pos/._8108_10.txt  \n",
            "  inflating: /content/dataset/aclImdb/train/pos/8109_10.txt  \n",
            "  inflating: /content/dataset/__MACOSX/aclImdb/train/pos/._8109_10.txt  \n",
            "  inflating: /content/dataset/aclImdb/train/pos/810_10.txt  \n",
            "  inflating: /content/dataset/__MACOSX/aclImdb/train/pos/._810_10.txt  \n",
            "  inflating: /content/dataset/aclImdb/train/pos/8110_9.txt  \n",
            "  inflating: /content/dataset/__MACOSX/aclImdb/train/pos/._8110_9.txt  \n",
            "  inflating: /content/dataset/aclImdb/train/pos/8111_8.txt  \n",
            "  inflating: /content/dataset/__MACOSX/aclImdb/train/pos/._8111_8.txt  \n",
            "  inflating: /content/dataset/aclImdb/train/pos/8112_9.txt  \n",
            "  inflating: /content/dataset/__MACOSX/aclImdb/train/pos/._8112_9.txt  \n",
            "  inflating: /content/dataset/aclImdb/train/pos/8113_8.txt  \n",
            "  inflating: /content/dataset/__MACOSX/aclImdb/train/pos/._8113_8.txt  \n",
            "  inflating: /content/dataset/aclImdb/train/pos/8114_8.txt  \n",
            "  inflating: /content/dataset/__MACOSX/aclImdb/train/pos/._8114_8.txt  \n",
            "  inflating: /content/dataset/aclImdb/train/pos/8115_10.txt  \n",
            "  inflating: /content/dataset/__MACOSX/aclImdb/train/pos/._8115_10.txt  \n",
            "  inflating: /content/dataset/aclImdb/train/pos/8116_9.txt  \n",
            "  inflating: /content/dataset/__MACOSX/aclImdb/train/pos/._8116_9.txt  \n",
            "  inflating: /content/dataset/aclImdb/train/pos/8117_8.txt  \n",
            "  inflating: /content/dataset/__MACOSX/aclImdb/train/pos/._8117_8.txt  \n",
            "  inflating: /content/dataset/aclImdb/train/pos/8118_10.txt  \n",
            "  inflating: /content/dataset/__MACOSX/aclImdb/train/pos/._8118_10.txt  \n",
            "  inflating: /content/dataset/aclImdb/train/pos/8119_10.txt  \n",
            "  inflating: /content/dataset/__MACOSX/aclImdb/train/pos/._8119_10.txt  \n",
            "  inflating: /content/dataset/aclImdb/train/pos/811_10.txt  \n",
            "  inflating: /content/dataset/__MACOSX/aclImdb/train/pos/._811_10.txt  \n",
            "  inflating: /content/dataset/aclImdb/train/pos/8120_7.txt  \n",
            "  inflating: /content/dataset/__MACOSX/aclImdb/train/pos/._8120_7.txt  \n",
            "  inflating: /content/dataset/aclImdb/train/pos/8121_8.txt  \n",
            "  inflating: /content/dataset/__MACOSX/aclImdb/train/pos/._8121_8.txt  \n",
            "  inflating: /content/dataset/aclImdb/train/pos/8122_10.txt  \n",
            "  inflating: /content/dataset/__MACOSX/aclImdb/train/pos/._8122_10.txt  \n",
            "  inflating: /content/dataset/aclImdb/train/pos/8123_8.txt  \n",
            "  inflating: /content/dataset/__MACOSX/aclImdb/train/pos/._8123_8.txt  \n",
            "  inflating: /content/dataset/aclImdb/train/pos/8124_9.txt  \n",
            "  inflating: /content/dataset/__MACOSX/aclImdb/train/pos/._8124_9.txt  \n",
            "  inflating: /content/dataset/aclImdb/train/pos/8125_7.txt  \n",
            "  inflating: /content/dataset/__MACOSX/aclImdb/train/pos/._8125_7.txt  \n",
            "  inflating: /content/dataset/aclImdb/train/pos/8126_7.txt  \n",
            "  inflating: /content/dataset/__MACOSX/aclImdb/train/pos/._8126_7.txt  \n",
            "  inflating: /content/dataset/aclImdb/train/pos/8127_8.txt  \n",
            "  inflating: /content/dataset/__MACOSX/aclImdb/train/pos/._8127_8.txt  \n",
            "  inflating: /content/dataset/aclImdb/train/pos/8128_10.txt  \n",
            "  inflating: /content/dataset/__MACOSX/aclImdb/train/pos/._8128_10.txt  \n",
            "  inflating: /content/dataset/aclImdb/train/pos/8129_9.txt  \n",
            "  inflating: /content/dataset/__MACOSX/aclImdb/train/pos/._8129_9.txt  \n",
            "  inflating: /content/dataset/aclImdb/train/pos/812_10.txt  \n",
            "  inflating: /content/dataset/__MACOSX/aclImdb/train/pos/._812_10.txt  \n",
            "  inflating: /content/dataset/aclImdb/train/pos/8130_10.txt  \n",
            "  inflating: /content/dataset/__MACOSX/aclImdb/train/pos/._8130_10.txt  \n",
            "  inflating: /content/dataset/aclImdb/train/pos/8131_8.txt  \n",
            "  inflating: /content/dataset/__MACOSX/aclImdb/train/pos/._8131_8.txt  \n",
            "  inflating: /content/dataset/aclImdb/train/pos/8132_10.txt  \n",
            "  inflating: /content/dataset/__MACOSX/aclImdb/train/pos/._8132_10.txt  \n",
            "  inflating: /content/dataset/aclImdb/train/pos/8133_7.txt  \n",
            "  inflating: /content/dataset/__MACOSX/aclImdb/train/pos/._8133_7.txt  \n",
            "  inflating: /content/dataset/aclImdb/train/pos/8134_10.txt  \n",
            "  inflating: /content/dataset/__MACOSX/aclImdb/train/pos/._8134_10.txt  \n",
            "  inflating: /content/dataset/aclImdb/train/pos/8135_10.txt  \n",
            "  inflating: /content/dataset/__MACOSX/aclImdb/train/pos/._8135_10.txt  \n",
            "  inflating: /content/dataset/aclImdb/train/pos/8136_9.txt  \n",
            "  inflating: /content/dataset/__MACOSX/aclImdb/train/pos/._8136_9.txt  \n",
            "  inflating: /content/dataset/aclImdb/train/pos/8137_10.txt  \n",
            "  inflating: /content/dataset/__MACOSX/aclImdb/train/pos/._8137_10.txt  \n",
            "  inflating: /content/dataset/aclImdb/train/pos/8138_10.txt  \n",
            "  inflating: /content/dataset/__MACOSX/aclImdb/train/pos/._8138_10.txt  \n",
            "  inflating: /content/dataset/aclImdb/train/pos/8139_10.txt  \n",
            "  inflating: /content/dataset/__MACOSX/aclImdb/train/pos/._8139_10.txt  \n",
            "  inflating: /content/dataset/aclImdb/train/pos/813_10.txt  \n",
            "  inflating: /content/dataset/__MACOSX/aclImdb/train/pos/._813_10.txt  \n",
            "  inflating: /content/dataset/aclImdb/train/pos/8140_10.txt  \n",
            "  inflating: /content/dataset/__MACOSX/aclImdb/train/pos/._8140_10.txt  \n",
            "  inflating: /content/dataset/aclImdb/train/pos/8141_10.txt  \n",
            "  inflating: /content/dataset/__MACOSX/aclImdb/train/pos/._8141_10.txt  \n",
            "  inflating: /content/dataset/aclImdb/train/pos/8142_10.txt  \n",
            "  inflating: /content/dataset/__MACOSX/aclImdb/train/pos/._8142_10.txt  \n",
            "  inflating: /content/dataset/aclImdb/train/pos/8143_10.txt  \n",
            "  inflating: /content/dataset/__MACOSX/aclImdb/train/pos/._8143_10.txt  \n",
            "  inflating: /content/dataset/aclImdb/train/pos/8144_9.txt  \n",
            "  inflating: /content/dataset/__MACOSX/aclImdb/train/pos/._8144_9.txt  \n",
            "  inflating: /content/dataset/aclImdb/train/pos/8145_10.txt  \n",
            "  inflating: /content/dataset/__MACOSX/aclImdb/train/pos/._8145_10.txt  \n",
            "  inflating: /content/dataset/aclImdb/train/pos/8146_10.txt  \n",
            "  inflating: /content/dataset/__MACOSX/aclImdb/train/pos/._8146_10.txt  \n",
            "  inflating: /content/dataset/aclImdb/train/pos/8147_10.txt  \n",
            "  inflating: /content/dataset/__MACOSX/aclImdb/train/pos/._8147_10.txt  \n",
            "  inflating: /content/dataset/aclImdb/train/pos/8148_8.txt  \n",
            "  inflating: /content/dataset/__MACOSX/aclImdb/train/pos/._8148_8.txt  \n",
            "  inflating: /content/dataset/aclImdb/train/pos/8149_10.txt  \n",
            "  inflating: /content/dataset/__MACOSX/aclImdb/train/pos/._8149_10.txt  \n",
            "  inflating: /content/dataset/aclImdb/train/pos/814_10.txt  \n",
            "  inflating: /content/dataset/__MACOSX/aclImdb/train/pos/._814_10.txt  \n",
            "  inflating: /content/dataset/aclImdb/train/pos/8150_10.txt  \n",
            "  inflating: /content/dataset/__MACOSX/aclImdb/train/pos/._8150_10.txt  \n",
            "  inflating: /content/dataset/aclImdb/train/pos/8151_10.txt  \n",
            "  inflating: /content/dataset/__MACOSX/aclImdb/train/pos/._8151_10.txt  \n",
            "  inflating: /content/dataset/aclImdb/train/pos/8152_10.txt  \n",
            "  inflating: /content/dataset/__MACOSX/aclImdb/train/pos/._8152_10.txt  \n",
            "  inflating: /content/dataset/aclImdb/train/pos/8153_9.txt  \n",
            "  inflating: /content/dataset/__MACOSX/aclImdb/train/pos/._8153_9.txt  \n",
            "  inflating: /content/dataset/aclImdb/train/pos/8154_10.txt  \n",
            "  inflating: /content/dataset/__MACOSX/aclImdb/train/pos/._8154_10.txt  \n",
            "  inflating: /content/dataset/aclImdb/train/pos/8155_7.txt  \n",
            "  inflating: /content/dataset/__MACOSX/aclImdb/train/pos/._8155_7.txt  \n",
            "  inflating: /content/dataset/aclImdb/train/pos/8156_10.txt  \n",
            "  inflating: /content/dataset/__MACOSX/aclImdb/train/pos/._8156_10.txt  \n",
            "  inflating: /content/dataset/aclImdb/train/pos/8157_10.txt  \n",
            "  inflating: /content/dataset/__MACOSX/aclImdb/train/pos/._8157_10.txt  \n",
            "  inflating: /content/dataset/aclImdb/train/pos/8158_10.txt  \n",
            "  inflating: /content/dataset/__MACOSX/aclImdb/train/pos/._8158_10.txt  \n",
            "  inflating: /content/dataset/aclImdb/train/pos/8159_10.txt  \n",
            "  inflating: /content/dataset/__MACOSX/aclImdb/train/pos/._8159_10.txt  \n",
            "  inflating: /content/dataset/aclImdb/train/pos/815_7.txt  \n",
            "  inflating: /content/dataset/__MACOSX/aclImdb/train/pos/._815_7.txt  \n",
            "  inflating: /content/dataset/aclImdb/train/pos/8160_7.txt  \n",
            "  inflating: /content/dataset/__MACOSX/aclImdb/train/pos/._8160_7.txt  \n",
            "  inflating: /content/dataset/aclImdb/train/pos/8161_10.txt  \n",
            "  inflating: /content/dataset/__MACOSX/aclImdb/train/pos/._8161_10.txt  \n",
            "  inflating: /content/dataset/aclImdb/train/pos/8162_9.txt  \n",
            "  inflating: /content/dataset/__MACOSX/aclImdb/train/pos/._8162_9.txt  \n",
            "  inflating: /content/dataset/aclImdb/train/pos/8163_8.txt  \n",
            "  inflating: /content/dataset/__MACOSX/aclImdb/train/pos/._8163_8.txt  \n",
            "  inflating: /content/dataset/aclImdb/train/pos/8164_8.txt  \n",
            "  inflating: /content/dataset/__MACOSX/aclImdb/train/pos/._8164_8.txt  \n",
            "  inflating: /content/dataset/aclImdb/train/pos/8165_8.txt  \n",
            "  inflating: /content/dataset/__MACOSX/aclImdb/train/pos/._8165_8.txt  \n",
            "  inflating: /content/dataset/aclImdb/train/pos/8166_10.txt  \n",
            "  inflating: /content/dataset/__MACOSX/aclImdb/train/pos/._8166_10.txt  \n",
            "  inflating: /content/dataset/aclImdb/train/pos/8167_7.txt  \n",
            "  inflating: /content/dataset/__MACOSX/aclImdb/train/pos/._8167_7.txt  \n",
            "  inflating: /content/dataset/aclImdb/train/pos/8168_7.txt  \n",
            "  inflating: /content/dataset/__MACOSX/aclImdb/train/pos/._8168_7.txt  \n",
            "  inflating: /content/dataset/aclImdb/train/pos/8169_8.txt  \n",
            "  inflating: /content/dataset/__MACOSX/aclImdb/train/pos/._8169_8.txt  \n",
            "  inflating: /content/dataset/aclImdb/train/pos/816_10.txt  \n",
            "  inflating: /content/dataset/__MACOSX/aclImdb/train/pos/._816_10.txt  \n",
            "  inflating: /content/dataset/aclImdb/train/pos/8170_7.txt  \n",
            "  inflating: /content/dataset/__MACOSX/aclImdb/train/pos/._8170_7.txt  \n",
            "  inflating: /content/dataset/aclImdb/train/pos/8171_8.txt  \n",
            "  inflating: /content/dataset/__MACOSX/aclImdb/train/pos/._8171_8.txt  \n",
            "  inflating: /content/dataset/aclImdb/train/pos/8172_9.txt  \n",
            "  inflating: /content/dataset/__MACOSX/aclImdb/train/pos/._8172_9.txt  \n",
            "  inflating: /content/dataset/aclImdb/train/pos/8173_8.txt  \n",
            "  inflating: /content/dataset/__MACOSX/aclImdb/train/pos/._8173_8.txt  \n",
            "  inflating: /content/dataset/aclImdb/train/pos/8174_9.txt  \n",
            "  inflating: /content/dataset/__MACOSX/aclImdb/train/pos/._8174_9.txt  \n",
            "  inflating: /content/dataset/aclImdb/train/pos/8175_7.txt  \n",
            "  inflating: /content/dataset/__MACOSX/aclImdb/train/pos/._8175_7.txt  \n",
            "  inflating: /content/dataset/aclImdb/train/pos/8176_8.txt  \n",
            "  inflating: /content/dataset/__MACOSX/aclImdb/train/pos/._8176_8.txt  \n",
            "  inflating: /content/dataset/aclImdb/train/pos/8177_8.txt  \n",
            "  inflating: /content/dataset/__MACOSX/aclImdb/train/pos/._8177_8.txt  \n",
            "  inflating: /content/dataset/aclImdb/train/pos/8178_8.txt  \n",
            "  inflating: /content/dataset/__MACOSX/aclImdb/train/pos/._8178_8.txt  \n",
            "  inflating: /content/dataset/aclImdb/train/pos/8179_7.txt  \n",
            "  inflating: /content/dataset/__MACOSX/aclImdb/train/pos/._8179_7.txt  \n",
            "  inflating: /content/dataset/aclImdb/train/pos/817_10.txt  \n",
            "  inflating: /content/dataset/__MACOSX/aclImdb/train/pos/._817_10.txt  \n",
            "  inflating: /content/dataset/aclImdb/train/pos/8180_8.txt  \n",
            "  inflating: /content/dataset/__MACOSX/aclImdb/train/pos/._8180_8.txt  \n",
            "  inflating: /content/dataset/aclImdb/train/pos/8181_10.txt  \n",
            "  inflating: /content/dataset/__MACOSX/aclImdb/train/pos/._8181_10.txt  \n",
            "  inflating: /content/dataset/aclImdb/train/pos/8182_7.txt  \n",
            "  inflating: /content/dataset/__MACOSX/aclImdb/train/pos/._8182_7.txt  \n",
            "  inflating: /content/dataset/aclImdb/train/pos/8183_7.txt  \n",
            "  inflating: /content/dataset/__MACOSX/aclImdb/train/pos/._8183_7.txt  \n",
            "  inflating: /content/dataset/aclImdb/train/pos/8184_7.txt  \n",
            "  inflating: /content/dataset/__MACOSX/aclImdb/train/pos/._8184_7.txt  \n",
            "  inflating: /content/dataset/aclImdb/train/pos/8185_8.txt  \n",
            "  inflating: /content/dataset/__MACOSX/aclImdb/train/pos/._8185_8.txt  \n",
            "  inflating: /content/dataset/aclImdb/train/pos/8186_10.txt  \n",
            "  inflating: /content/dataset/__MACOSX/aclImdb/train/pos/._8186_10.txt  \n",
            "  inflating: /content/dataset/aclImdb/train/pos/8187_9.txt  \n",
            "  inflating: /content/dataset/__MACOSX/aclImdb/train/pos/._8187_9.txt  \n",
            "  inflating: /content/dataset/aclImdb/train/pos/8188_8.txt  \n",
            "  inflating: /content/dataset/__MACOSX/aclImdb/train/pos/._8188_8.txt  \n",
            "  inflating: /content/dataset/aclImdb/train/pos/8189_10.txt  \n",
            "  inflating: /content/dataset/__MACOSX/aclImdb/train/pos/._8189_10.txt  \n",
            "  inflating: /content/dataset/aclImdb/train/pos/818_10.txt  \n",
            "  inflating: /content/dataset/__MACOSX/aclImdb/train/pos/._818_10.txt  \n",
            "  inflating: /content/dataset/aclImdb/train/pos/8190_10.txt  \n",
            "  inflating: /content/dataset/__MACOSX/aclImdb/train/pos/._8190_10.txt  \n",
            "  inflating: /content/dataset/aclImdb/train/pos/8191_8.txt  \n",
            "  inflating: /content/dataset/__MACOSX/aclImdb/train/pos/._8191_8.txt  \n",
            "  inflating: /content/dataset/aclImdb/train/pos/8192_10.txt  \n",
            "  inflating: /content/dataset/__MACOSX/aclImdb/train/pos/._8192_10.txt  \n",
            "  inflating: /content/dataset/aclImdb/train/pos/8193_10.txt  \n",
            "  inflating: /content/dataset/__MACOSX/aclImdb/train/pos/._8193_10.txt  \n",
            "  inflating: /content/dataset/aclImdb/train/pos/8194_9.txt  \n",
            "  inflating: /content/dataset/__MACOSX/aclImdb/train/pos/._8194_9.txt  \n",
            "  inflating: /content/dataset/aclImdb/train/pos/8195_10.txt  \n",
            "  inflating: /content/dataset/__MACOSX/aclImdb/train/pos/._8195_10.txt  \n",
            "  inflating: /content/dataset/aclImdb/train/pos/8196_8.txt  \n",
            "  inflating: /content/dataset/__MACOSX/aclImdb/train/pos/._8196_8.txt  \n",
            "  inflating: /content/dataset/aclImdb/train/pos/8197_8.txt  \n",
            "  inflating: /content/dataset/__MACOSX/aclImdb/train/pos/._8197_8.txt  \n",
            "  inflating: /content/dataset/aclImdb/train/pos/8198_7.txt  \n",
            "  inflating: /content/dataset/__MACOSX/aclImdb/train/pos/._8198_7.txt  \n",
            "  inflating: /content/dataset/aclImdb/train/pos/8199_10.txt  \n",
            "  inflating: /content/dataset/__MACOSX/aclImdb/train/pos/._8199_10.txt  \n",
            "  inflating: /content/dataset/aclImdb/train/pos/819_10.txt  \n",
            "  inflating: /content/dataset/__MACOSX/aclImdb/train/pos/._819_10.txt  \n",
            "  inflating: /content/dataset/aclImdb/train/pos/81_10.txt  \n",
            "  inflating: /content/dataset/__MACOSX/aclImdb/train/pos/._81_10.txt  \n",
            "  inflating: /content/dataset/aclImdb/train/pos/8200_8.txt  \n",
            "  inflating: /content/dataset/__MACOSX/aclImdb/train/pos/._8200_8.txt  \n",
            "  inflating: /content/dataset/aclImdb/train/pos/8201_8.txt  \n",
            "  inflating: /content/dataset/__MACOSX/aclImdb/train/pos/._8201_8.txt  \n",
            "  inflating: /content/dataset/aclImdb/train/pos/8202_10.txt  \n",
            "  inflating: /content/dataset/__MACOSX/aclImdb/train/pos/._8202_10.txt  \n",
            "  inflating: /content/dataset/aclImdb/train/pos/8203_7.txt  \n",
            "  inflating: /content/dataset/__MACOSX/aclImdb/train/pos/._8203_7.txt  \n",
            "  inflating: /content/dataset/aclImdb/train/pos/8204_8.txt  \n",
            "  inflating: /content/dataset/__MACOSX/aclImdb/train/pos/._8204_8.txt  \n",
            "  inflating: /content/dataset/aclImdb/train/pos/8205_8.txt  \n",
            "  inflating: /content/dataset/__MACOSX/aclImdb/train/pos/._8205_8.txt  \n",
            "  inflating: /content/dataset/aclImdb/train/pos/8206_10.txt  \n",
            "  inflating: /content/dataset/__MACOSX/aclImdb/train/pos/._8206_10.txt  \n",
            "  inflating: /content/dataset/aclImdb/train/pos/8207_10.txt  \n",
            "  inflating: /content/dataset/__MACOSX/aclImdb/train/pos/._8207_10.txt  \n",
            "  inflating: /content/dataset/aclImdb/train/pos/8208_8.txt  \n",
            "  inflating: /content/dataset/__MACOSX/aclImdb/train/pos/._8208_8.txt  \n",
            "  inflating: /content/dataset/aclImdb/train/pos/8209_8.txt  \n",
            "  inflating: /content/dataset/__MACOSX/aclImdb/train/pos/._8209_8.txt  \n",
            "  inflating: /content/dataset/aclImdb/train/pos/820_10.txt  \n",
            "  inflating: /content/dataset/__MACOSX/aclImdb/train/pos/._820_10.txt  \n",
            "  inflating: /content/dataset/aclImdb/train/pos/8210_7.txt  \n",
            "  inflating: /content/dataset/__MACOSX/aclImdb/train/pos/._8210_7.txt  \n",
            "  inflating: /content/dataset/aclImdb/train/pos/8211_7.txt  \n",
            "  inflating: /content/dataset/__MACOSX/aclImdb/train/pos/._8211_7.txt  \n",
            "  inflating: /content/dataset/aclImdb/train/pos/8212_7.txt  \n",
            "  inflating: /content/dataset/__MACOSX/aclImdb/train/pos/._8212_7.txt  \n",
            "  inflating: /content/dataset/aclImdb/train/pos/8213_9.txt  \n",
            "  inflating: /content/dataset/__MACOSX/aclImdb/train/pos/._8213_9.txt  \n",
            "  inflating: /content/dataset/aclImdb/train/pos/8214_7.txt  \n",
            "  inflating: /content/dataset/__MACOSX/aclImdb/train/pos/._8214_7.txt  \n",
            "  inflating: /content/dataset/aclImdb/train/pos/8215_7.txt  \n",
            "  inflating: /content/dataset/__MACOSX/aclImdb/train/pos/._8215_7.txt  \n",
            "  inflating: /content/dataset/aclImdb/train/pos/8216_8.txt  \n",
            "  inflating: /content/dataset/__MACOSX/aclImdb/train/pos/._8216_8.txt  \n",
            "  inflating: /content/dataset/aclImdb/train/pos/8217_8.txt  \n",
            "  inflating: /content/dataset/__MACOSX/aclImdb/train/pos/._8217_8.txt  \n",
            "  inflating: /content/dataset/aclImdb/train/pos/8218_7.txt  \n",
            "  inflating: /content/dataset/__MACOSX/aclImdb/train/pos/._8218_7.txt  \n",
            "  inflating: /content/dataset/aclImdb/train/pos/8219_7.txt  \n",
            "  inflating: /content/dataset/__MACOSX/aclImdb/train/pos/._8219_7.txt  \n",
            "  inflating: /content/dataset/aclImdb/train/pos/821_10.txt  \n",
            "  inflating: /content/dataset/__MACOSX/aclImdb/train/pos/._821_10.txt  \n",
            "  inflating: /content/dataset/aclImdb/train/pos/8220_8.txt  \n",
            "  inflating: /content/dataset/__MACOSX/aclImdb/train/pos/._8220_8.txt  \n",
            "  inflating: /content/dataset/aclImdb/train/pos/8221_9.txt  \n",
            "  inflating: /content/dataset/__MACOSX/aclImdb/train/pos/._8221_9.txt  \n",
            "  inflating: /content/dataset/aclImdb/train/pos/8222_9.txt  \n",
            "  inflating: /content/dataset/__MACOSX/aclImdb/train/pos/._8222_9.txt  \n",
            "  inflating: /content/dataset/aclImdb/train/pos/8223_9.txt  \n",
            "  inflating: /content/dataset/__MACOSX/aclImdb/train/pos/._8223_9.txt  \n",
            "  inflating: /content/dataset/aclImdb/train/pos/8224_8.txt  \n",
            "  inflating: /content/dataset/__MACOSX/aclImdb/train/pos/._8224_8.txt  \n",
            "  inflating: /content/dataset/aclImdb/train/pos/8225_8.txt  \n",
            "  inflating: /content/dataset/__MACOSX/aclImdb/train/pos/._8225_8.txt  \n",
            "  inflating: /content/dataset/aclImdb/train/pos/8226_8.txt  \n",
            "  inflating: /content/dataset/__MACOSX/aclImdb/train/pos/._8226_8.txt  \n",
            "  inflating: /content/dataset/aclImdb/train/pos/8227_7.txt  \n",
            "  inflating: /content/dataset/__MACOSX/aclImdb/train/pos/._8227_7.txt  \n",
            "  inflating: /content/dataset/aclImdb/train/pos/8228_8.txt  \n",
            "  inflating: /content/dataset/__MACOSX/aclImdb/train/pos/._8228_8.txt  \n",
            "  inflating: /content/dataset/aclImdb/train/pos/8229_10.txt  \n",
            "  inflating: /content/dataset/__MACOSX/aclImdb/train/pos/._8229_10.txt  \n",
            "  inflating: /content/dataset/aclImdb/train/pos/822_9.txt  \n",
            "  inflating: /content/dataset/__MACOSX/aclImdb/train/pos/._822_9.txt  \n",
            "  inflating: /content/dataset/aclImdb/train/pos/8230_10.txt  \n",
            "  inflating: /content/dataset/__MACOSX/aclImdb/train/pos/._8230_10.txt  \n",
            "  inflating: /content/dataset/aclImdb/train/pos/8231_10.txt  \n",
            "  inflating: /content/dataset/__MACOSX/aclImdb/train/pos/._8231_10.txt  \n",
            "  inflating: /content/dataset/aclImdb/train/pos/8232_10.txt  \n",
            "  inflating: /content/dataset/__MACOSX/aclImdb/train/pos/._8232_10.txt  \n",
            "  inflating: /content/dataset/aclImdb/train/pos/8233_8.txt  \n",
            "  inflating: /content/dataset/__MACOSX/aclImdb/train/pos/._8233_8.txt  \n",
            "  inflating: /content/dataset/aclImdb/train/pos/8234_7.txt  \n",
            "  inflating: /content/dataset/__MACOSX/aclImdb/train/pos/._8234_7.txt  \n",
            "  inflating: /content/dataset/aclImdb/train/pos/8235_7.txt  \n",
            "  inflating: /content/dataset/__MACOSX/aclImdb/train/pos/._8235_7.txt  \n",
            "  inflating: /content/dataset/aclImdb/train/pos/8236_7.txt  \n",
            "  inflating: /content/dataset/__MACOSX/aclImdb/train/pos/._8236_7.txt  \n",
            "  inflating: /content/dataset/aclImdb/train/pos/8237_8.txt  \n",
            "  inflating: /content/dataset/__MACOSX/aclImdb/train/pos/._8237_8.txt  \n",
            "  inflating: /content/dataset/aclImdb/train/pos/8238_8.txt  \n",
            "  inflating: /content/dataset/__MACOSX/aclImdb/train/pos/._8238_8.txt  \n",
            "  inflating: /content/dataset/aclImdb/train/pos/8239_10.txt  \n",
            "  inflating: /content/dataset/__MACOSX/aclImdb/train/pos/._8239_10.txt  \n",
            "  inflating: /content/dataset/aclImdb/train/pos/823_9.txt  \n",
            "  inflating: /content/dataset/__MACOSX/aclImdb/train/pos/._823_9.txt  \n",
            "  inflating: /content/dataset/aclImdb/train/pos/8240_9.txt  \n",
            "  inflating: /content/dataset/__MACOSX/aclImdb/train/pos/._8240_9.txt  \n",
            "  inflating: /content/dataset/aclImdb/train/pos/8241_7.txt  \n",
            "  inflating: /content/dataset/__MACOSX/aclImdb/train/pos/._8241_7.txt  \n",
            "  inflating: /content/dataset/aclImdb/train/pos/8242_8.txt  \n",
            "  inflating: /content/dataset/__MACOSX/aclImdb/train/pos/._8242_8.txt  \n",
            "  inflating: /content/dataset/aclImdb/train/pos/8243_9.txt  \n",
            "  inflating: /content/dataset/__MACOSX/aclImdb/train/pos/._8243_9.txt  \n",
            "  inflating: /content/dataset/aclImdb/train/pos/8244_9.txt  \n",
            "  inflating: /content/dataset/__MACOSX/aclImdb/train/pos/._8244_9.txt  \n",
            "  inflating: /content/dataset/aclImdb/train/pos/8245_9.txt  \n",
            "  inflating: /content/dataset/__MACOSX/aclImdb/train/pos/._8245_9.txt  \n",
            "  inflating: /content/dataset/aclImdb/train/pos/8246_9.txt  \n",
            "  inflating: /content/dataset/__MACOSX/aclImdb/train/pos/._8246_9.txt  \n",
            "  inflating: /content/dataset/aclImdb/train/pos/8247_9.txt  \n",
            "  inflating: /content/dataset/__MACOSX/aclImdb/train/pos/._8247_9.txt  \n",
            "  inflating: /content/dataset/aclImdb/train/pos/8248_9.txt  \n",
            "  inflating: /content/dataset/__MACOSX/aclImdb/train/pos/._8248_9.txt  \n",
            "  inflating: /content/dataset/aclImdb/train/pos/8249_10.txt  \n",
            "  inflating: /content/dataset/__MACOSX/aclImdb/train/pos/._8249_10.txt  \n",
            "  inflating: /content/dataset/aclImdb/train/pos/824_8.txt  \n",
            "  inflating: /content/dataset/__MACOSX/aclImdb/train/pos/._824_8.txt  \n",
            "  inflating: /content/dataset/aclImdb/train/pos/8250_8.txt  \n",
            "  inflating: /content/dataset/__MACOSX/aclImdb/train/pos/._8250_8.txt  \n",
            "  inflating: /content/dataset/aclImdb/train/pos/8251_10.txt  \n",
            "  inflating: /content/dataset/__MACOSX/aclImdb/train/pos/._8251_10.txt  \n",
            "  inflating: /content/dataset/aclImdb/train/pos/8252_9.txt  \n",
            "  inflating: /content/dataset/__MACOSX/aclImdb/train/pos/._8252_9.txt  \n",
            "  inflating: /content/dataset/aclImdb/train/pos/8253_10.txt  \n",
            "  inflating: /content/dataset/__MACOSX/aclImdb/train/pos/._8253_10.txt  \n",
            "  inflating: /content/dataset/aclImdb/train/pos/8254_8.txt  \n",
            "  inflating: /content/dataset/__MACOSX/aclImdb/train/pos/._8254_8.txt  \n",
            "  inflating: /content/dataset/aclImdb/train/pos/8255_9.txt  \n",
            "  inflating: /content/dataset/__MACOSX/aclImdb/train/pos/._8255_9.txt  \n",
            "  inflating: /content/dataset/aclImdb/train/pos/8256_9.txt  \n",
            "  inflating: /content/dataset/__MACOSX/aclImdb/train/pos/._8256_9.txt  \n",
            "  inflating: /content/dataset/aclImdb/train/pos/8257_9.txt  \n",
            "  inflating: /content/dataset/__MACOSX/aclImdb/train/pos/._8257_9.txt  \n",
            "  inflating: /content/dataset/aclImdb/train/pos/8258_9.txt  \n",
            "  inflating: /content/dataset/__MACOSX/aclImdb/train/pos/._8258_9.txt  \n",
            "  inflating: /content/dataset/aclImdb/train/pos/8259_9.txt  \n",
            "  inflating: /content/dataset/__MACOSX/aclImdb/train/pos/._8259_9.txt  \n",
            "  inflating: /content/dataset/aclImdb/train/pos/825_10.txt  \n",
            "  inflating: /content/dataset/__MACOSX/aclImdb/train/pos/._825_10.txt  \n",
            "  inflating: /content/dataset/aclImdb/train/pos/8260_9.txt  \n",
            "  inflating: /content/dataset/__MACOSX/aclImdb/train/pos/._8260_9.txt  \n",
            "  inflating: /content/dataset/aclImdb/train/pos/8261_8.txt  \n",
            "  inflating: /content/dataset/__MACOSX/aclImdb/train/pos/._8261_8.txt  \n",
            "  inflating: /content/dataset/aclImdb/train/pos/8262_10.txt  \n",
            "  inflating: /content/dataset/__MACOSX/aclImdb/train/pos/._8262_10.txt  \n",
            "  inflating: /content/dataset/aclImdb/train/pos/8263_9.txt  \n",
            "  inflating: /content/dataset/__MACOSX/aclImdb/train/pos/._8263_9.txt  \n",
            "  inflating: /content/dataset/aclImdb/train/pos/8264_9.txt  \n",
            "  inflating: /content/dataset/__MACOSX/aclImdb/train/pos/._8264_9.txt  \n",
            "  inflating: /content/dataset/aclImdb/train/pos/8265_10.txt  \n",
            "  inflating: /content/dataset/__MACOSX/aclImdb/train/pos/._8265_10.txt  \n",
            "  inflating: /content/dataset/aclImdb/train/pos/8266_10.txt  \n",
            "  inflating: /content/dataset/__MACOSX/aclImdb/train/pos/._8266_10.txt  \n",
            "  inflating: /content/dataset/aclImdb/train/pos/8267_7.txt  \n",
            "  inflating: /content/dataset/__MACOSX/aclImdb/train/pos/._8267_7.txt  \n",
            "  inflating: /content/dataset/aclImdb/train/pos/8268_7.txt  \n",
            "  inflating: /content/dataset/__MACOSX/aclImdb/train/pos/._8268_7.txt  \n",
            "  inflating: /content/dataset/aclImdb/train/pos/8269_7.txt  \n",
            "  inflating: /content/dataset/__MACOSX/aclImdb/train/pos/._8269_7.txt  \n",
            "  inflating: /content/dataset/aclImdb/train/pos/826_9.txt  \n",
            "  inflating: /content/dataset/__MACOSX/aclImdb/train/pos/._826_9.txt  \n",
            "  inflating: /content/dataset/aclImdb/train/pos/8270_10.txt  \n",
            "  inflating: /content/dataset/__MACOSX/aclImdb/train/pos/._8270_10.txt  \n",
            "  inflating: /content/dataset/aclImdb/train/pos/8271_10.txt  \n",
            "  inflating: /content/dataset/__MACOSX/aclImdb/train/pos/._8271_10.txt  \n",
            "  inflating: /content/dataset/aclImdb/train/pos/8272_7.txt  \n",
            "  inflating: /content/dataset/__MACOSX/aclImdb/train/pos/._8272_7.txt  \n",
            "  inflating: /content/dataset/aclImdb/train/pos/8273_10.txt  \n",
            "  inflating: /content/dataset/__MACOSX/aclImdb/train/pos/._8273_10.txt  \n",
            "  inflating: /content/dataset/aclImdb/train/pos/8274_10.txt  \n",
            "  inflating: /content/dataset/__MACOSX/aclImdb/train/pos/._8274_10.txt  \n",
            "  inflating: /content/dataset/aclImdb/train/pos/8275_10.txt  \n",
            "  inflating: /content/dataset/__MACOSX/aclImdb/train/pos/._8275_10.txt  \n",
            "  inflating: /content/dataset/aclImdb/train/pos/8276_10.txt  \n",
            "  inflating: /content/dataset/__MACOSX/aclImdb/train/pos/._8276_10.txt  \n",
            "  inflating: /content/dataset/aclImdb/train/pos/8277_10.txt  \n",
            "  inflating: /content/dataset/__MACOSX/aclImdb/train/pos/._8277_10.txt  \n",
            "  inflating: /content/dataset/aclImdb/train/pos/8278_10.txt  \n",
            "  inflating: /content/dataset/__MACOSX/aclImdb/train/pos/._8278_10.txt  \n",
            "  inflating: /content/dataset/aclImdb/train/pos/8279_10.txt  \n",
            "  inflating: /content/dataset/__MACOSX/aclImdb/train/pos/._8279_10.txt  \n",
            "  inflating: /content/dataset/aclImdb/train/pos/827_7.txt  \n",
            "  inflating: /content/dataset/__MACOSX/aclImdb/train/pos/._827_7.txt  \n",
            "  inflating: /content/dataset/aclImdb/train/pos/8280_8.txt  \n",
            "  inflating: /content/dataset/__MACOSX/aclImdb/train/pos/._8280_8.txt  \n",
            "  inflating: /content/dataset/aclImdb/train/pos/8281_7.txt  \n",
            "  inflating: /content/dataset/__MACOSX/aclImdb/train/pos/._8281_7.txt  \n",
            "  inflating: /content/dataset/aclImdb/train/pos/8282_7.txt  \n",
            "  inflating: /content/dataset/__MACOSX/aclImdb/train/pos/._8282_7.txt  \n",
            "  inflating: /content/dataset/aclImdb/train/pos/8283_7.txt  \n",
            "  inflating: /content/dataset/__MACOSX/aclImdb/train/pos/._8283_7.txt  \n",
            "  inflating: /content/dataset/aclImdb/train/pos/8284_8.txt  \n",
            "  inflating: /content/dataset/__MACOSX/aclImdb/train/pos/._8284_8.txt  \n",
            "  inflating: /content/dataset/aclImdb/train/pos/8285_8.txt  \n",
            "  inflating: /content/dataset/__MACOSX/aclImdb/train/pos/._8285_8.txt  \n",
            "  inflating: /content/dataset/aclImdb/train/pos/8286_7.txt  \n",
            "  inflating: /content/dataset/__MACOSX/aclImdb/train/pos/._8286_7.txt  \n",
            "  inflating: /content/dataset/aclImdb/train/pos/8287_9.txt  \n",
            "  inflating: /content/dataset/__MACOSX/aclImdb/train/pos/._8287_9.txt  \n",
            "  inflating: /content/dataset/aclImdb/train/pos/8288_7.txt  \n",
            "  inflating: /content/dataset/__MACOSX/aclImdb/train/pos/._8288_7.txt  \n",
            "  inflating: /content/dataset/aclImdb/train/pos/8289_8.txt  \n",
            "  inflating: /content/dataset/__MACOSX/aclImdb/train/pos/._8289_8.txt  \n",
            "  inflating: /content/dataset/aclImdb/train/pos/828_10.txt  \n",
            "  inflating: /content/dataset/__MACOSX/aclImdb/train/pos/._828_10.txt  \n",
            "  inflating: /content/dataset/aclImdb/train/pos/8290_10.txt  \n",
            "  inflating: /content/dataset/__MACOSX/aclImdb/train/pos/._8290_10.txt  \n",
            "  inflating: /content/dataset/aclImdb/train/pos/8291_8.txt  \n",
            "  inflating: /content/dataset/__MACOSX/aclImdb/train/pos/._8291_8.txt  \n",
            "  inflating: /content/dataset/aclImdb/train/pos/8292_8.txt  \n",
            "  inflating: /content/dataset/__MACOSX/aclImdb/train/pos/._8292_8.txt  \n",
            "  inflating: /content/dataset/aclImdb/train/pos/8293_8.txt  \n",
            "  inflating: /content/dataset/__MACOSX/aclImdb/train/pos/._8293_8.txt  \n",
            "  inflating: /content/dataset/aclImdb/train/pos/8294_8.txt  \n",
            "  inflating: /content/dataset/__MACOSX/aclImdb/train/pos/._8294_8.txt  \n",
            "  inflating: /content/dataset/aclImdb/train/pos/8295_7.txt  \n",
            "  inflating: /content/dataset/__MACOSX/aclImdb/train/pos/._8295_7.txt  \n",
            "  inflating: /content/dataset/aclImdb/train/pos/8296_8.txt  \n",
            "  inflating: /content/dataset/__MACOSX/aclImdb/train/pos/._8296_8.txt  \n",
            "  inflating: /content/dataset/aclImdb/train/pos/8297_10.txt  \n",
            "  inflating: /content/dataset/__MACOSX/aclImdb/train/pos/._8297_10.txt  \n",
            "  inflating: /content/dataset/aclImdb/train/pos/8298_7.txt  \n",
            "  inflating: /content/dataset/__MACOSX/aclImdb/train/pos/._8298_7.txt  \n",
            "  inflating: /content/dataset/aclImdb/train/pos/8299_7.txt  \n",
            "  inflating: /content/dataset/__MACOSX/aclImdb/train/pos/._8299_7.txt  \n",
            "  inflating: /content/dataset/aclImdb/train/pos/829_7.txt  \n",
            "  inflating: /content/dataset/__MACOSX/aclImdb/train/pos/._829_7.txt  \n",
            "  inflating: /content/dataset/aclImdb/train/pos/82_8.txt  \n",
            "  inflating: /content/dataset/__MACOSX/aclImdb/train/pos/._82_8.txt  \n",
            "  inflating: /content/dataset/aclImdb/train/pos/8300_10.txt  \n",
            "  inflating: /content/dataset/__MACOSX/aclImdb/train/pos/._8300_10.txt  \n",
            "  inflating: /content/dataset/aclImdb/train/pos/8301_7.txt  \n",
            "  inflating: /content/dataset/__MACOSX/aclImdb/train/pos/._8301_7.txt  \n",
            "  inflating: /content/dataset/aclImdb/train/pos/8302_8.txt  \n",
            "  inflating: /content/dataset/__MACOSX/aclImdb/train/pos/._8302_8.txt  \n",
            "  inflating: /content/dataset/aclImdb/train/pos/8303_10.txt  \n",
            "  inflating: /content/dataset/__MACOSX/aclImdb/train/pos/._8303_10.txt  \n",
            "  inflating: /content/dataset/aclImdb/train/pos/8304_8.txt  \n",
            "  inflating: /content/dataset/__MACOSX/aclImdb/train/pos/._8304_8.txt  \n",
            "  inflating: /content/dataset/aclImdb/train/pos/8305_7.txt  \n",
            "  inflating: /content/dataset/__MACOSX/aclImdb/train/pos/._8305_7.txt  \n",
            "  inflating: /content/dataset/aclImdb/train/pos/8306_10.txt  \n",
            "  inflating: /content/dataset/__MACOSX/aclImdb/train/pos/._8306_10.txt  \n",
            "  inflating: /content/dataset/aclImdb/train/pos/8307_10.txt  \n",
            "  inflating: /content/dataset/__MACOSX/aclImdb/train/pos/._8307_10.txt  \n",
            "  inflating: /content/dataset/aclImdb/train/pos/8308_7.txt  \n",
            "  inflating: /content/dataset/__MACOSX/aclImdb/train/pos/._8308_7.txt  \n",
            "  inflating: /content/dataset/aclImdb/train/pos/8309_7.txt  \n",
            "  inflating: /content/dataset/__MACOSX/aclImdb/train/pos/._8309_7.txt  \n",
            "  inflating: /content/dataset/aclImdb/train/pos/830_10.txt  \n",
            "  inflating: /content/dataset/__MACOSX/aclImdb/train/pos/._830_10.txt  \n",
            "  inflating: /content/dataset/aclImdb/train/pos/8310_10.txt  \n",
            "  inflating: /content/dataset/__MACOSX/aclImdb/train/pos/._8310_10.txt  \n",
            "  inflating: /content/dataset/aclImdb/train/pos/8311_9.txt  \n",
            "  inflating: /content/dataset/__MACOSX/aclImdb/train/pos/._8311_9.txt  \n",
            "  inflating: /content/dataset/aclImdb/train/pos/8312_10.txt  \n",
            "  inflating: /content/dataset/__MACOSX/aclImdb/train/pos/._8312_10.txt  \n",
            "  inflating: /content/dataset/aclImdb/train/pos/8313_10.txt  \n",
            "  inflating: /content/dataset/__MACOSX/aclImdb/train/pos/._8313_10.txt  \n",
            "  inflating: /content/dataset/aclImdb/train/pos/8314_9.txt  \n",
            "  inflating: /content/dataset/__MACOSX/aclImdb/train/pos/._8314_9.txt  \n",
            "  inflating: /content/dataset/aclImdb/train/pos/8315_10.txt  \n",
            "  inflating: /content/dataset/__MACOSX/aclImdb/train/pos/._8315_10.txt  \n",
            "  inflating: /content/dataset/aclImdb/train/pos/8316_9.txt  \n",
            "  inflating: /content/dataset/__MACOSX/aclImdb/train/pos/._8316_9.txt  \n",
            "  inflating: /content/dataset/aclImdb/train/pos/8317_8.txt  \n",
            "  inflating: /content/dataset/__MACOSX/aclImdb/train/pos/._8317_8.txt  \n",
            "  inflating: /content/dataset/aclImdb/train/pos/8318_10.txt  \n",
            "  inflating: /content/dataset/__MACOSX/aclImdb/train/pos/._8318_10.txt  \n",
            "  inflating: /content/dataset/aclImdb/train/pos/8319_10.txt  \n",
            "  inflating: /content/dataset/__MACOSX/aclImdb/train/pos/._8319_10.txt  \n",
            "  inflating: /content/dataset/aclImdb/train/pos/831_9.txt  \n",
            "  inflating: /content/dataset/__MACOSX/aclImdb/train/pos/._831_9.txt  \n",
            "  inflating: /content/dataset/aclImdb/train/pos/8320_8.txt  \n",
            "  inflating: /content/dataset/__MACOSX/aclImdb/train/pos/._8320_8.txt  \n",
            "  inflating: /content/dataset/aclImdb/train/pos/8321_7.txt  \n",
            "  inflating: /content/dataset/__MACOSX/aclImdb/train/pos/._8321_7.txt  \n",
            "  inflating: /content/dataset/aclImdb/train/pos/8322_7.txt  \n",
            "  inflating: /content/dataset/__MACOSX/aclImdb/train/pos/._8322_7.txt  \n",
            "  inflating: /content/dataset/aclImdb/train/pos/8323_10.txt  \n",
            "  inflating: /content/dataset/__MACOSX/aclImdb/train/pos/._8323_10.txt  \n",
            "  inflating: /content/dataset/aclImdb/train/pos/8324_8.txt  \n",
            "  inflating: /content/dataset/__MACOSX/aclImdb/train/pos/._8324_8.txt  \n",
            "  inflating: /content/dataset/aclImdb/train/pos/8325_9.txt  \n",
            "  inflating: /content/dataset/__MACOSX/aclImdb/train/pos/._8325_9.txt  \n",
            "  inflating: /content/dataset/aclImdb/train/pos/8326_7.txt  \n",
            "  inflating: /content/dataset/__MACOSX/aclImdb/train/pos/._8326_7.txt  \n",
            "  inflating: /content/dataset/aclImdb/train/pos/8327_9.txt  \n",
            "  inflating: /content/dataset/__MACOSX/aclImdb/train/pos/._8327_9.txt  \n",
            "  inflating: /content/dataset/aclImdb/train/pos/8328_10.txt  \n",
            "  inflating: /content/dataset/__MACOSX/aclImdb/train/pos/._8328_10.txt  \n",
            "  inflating: /content/dataset/aclImdb/train/pos/8329_7.txt  \n",
            "  inflating: /content/dataset/__MACOSX/aclImdb/train/pos/._8329_7.txt  \n",
            "  inflating: /content/dataset/aclImdb/train/pos/832_8.txt  \n",
            "  inflating: /content/dataset/__MACOSX/aclImdb/train/pos/._832_8.txt  \n",
            "  inflating: /content/dataset/aclImdb/train/pos/8330_7.txt  \n",
            "  inflating: /content/dataset/__MACOSX/aclImdb/train/pos/._8330_7.txt  \n",
            "  inflating: /content/dataset/aclImdb/train/pos/8331_8.txt  \n",
            "  inflating: /content/dataset/__MACOSX/aclImdb/train/pos/._8331_8.txt  \n",
            "  inflating: /content/dataset/aclImdb/train/pos/8332_9.txt  \n",
            "  inflating: /content/dataset/__MACOSX/aclImdb/train/pos/._8332_9.txt  \n",
            "  inflating: /content/dataset/aclImdb/train/pos/8333_9.txt  \n",
            "  inflating: /content/dataset/__MACOSX/aclImdb/train/pos/._8333_9.txt  \n",
            "  inflating: /content/dataset/aclImdb/train/pos/8334_8.txt  \n",
            "  inflating: /content/dataset/__MACOSX/aclImdb/train/pos/._8334_8.txt  \n",
            "  inflating: /content/dataset/aclImdb/train/pos/8335_8.txt  \n",
            "  inflating: /content/dataset/__MACOSX/aclImdb/train/pos/._8335_8.txt  \n",
            "  inflating: /content/dataset/aclImdb/train/pos/8336_10.txt  \n",
            "  inflating: /content/dataset/__MACOSX/aclImdb/train/pos/._8336_10.txt  \n",
            "  inflating: /content/dataset/aclImdb/train/pos/8337_10.txt  \n",
            "  inflating: /content/dataset/__MACOSX/aclImdb/train/pos/._8337_10.txt  \n",
            "  inflating: /content/dataset/aclImdb/train/pos/8338_8.txt  \n",
            "  inflating: /content/dataset/__MACOSX/aclImdb/train/pos/._8338_8.txt  \n",
            "  inflating: /content/dataset/aclImdb/train/pos/8339_10.txt  \n",
            "  inflating: /content/dataset/__MACOSX/aclImdb/train/pos/._8339_10.txt  \n",
            "  inflating: /content/dataset/aclImdb/train/pos/833_8.txt  \n",
            "  inflating: /content/dataset/__MACOSX/aclImdb/train/pos/._833_8.txt  \n",
            "  inflating: /content/dataset/aclImdb/train/pos/8340_8.txt  \n",
            "  inflating: /content/dataset/__MACOSX/aclImdb/train/pos/._8340_8.txt  \n",
            "  inflating: /content/dataset/aclImdb/train/pos/8341_10.txt  \n",
            "  inflating: /content/dataset/__MACOSX/aclImdb/train/pos/._8341_10.txt  \n",
            "  inflating: /content/dataset/aclImdb/train/pos/8342_7.txt  \n",
            "  inflating: /content/dataset/__MACOSX/aclImdb/train/pos/._8342_7.txt  \n",
            "  inflating: /content/dataset/aclImdb/train/pos/8343_7.txt  \n",
            "  inflating: /content/dataset/__MACOSX/aclImdb/train/pos/._8343_7.txt  \n",
            "  inflating: /content/dataset/aclImdb/train/pos/8344_10.txt  \n",
            "  inflating: /content/dataset/__MACOSX/aclImdb/train/pos/._8344_10.txt  \n",
            "  inflating: /content/dataset/aclImdb/train/pos/8345_7.txt  \n",
            "  inflating: /content/dataset/__MACOSX/aclImdb/train/pos/._8345_7.txt  \n",
            "  inflating: /content/dataset/aclImdb/train/pos/8346_9.txt  \n",
            "  inflating: /content/dataset/__MACOSX/aclImdb/train/pos/._8346_9.txt  \n",
            "  inflating: /content/dataset/aclImdb/train/pos/8347_10.txt  \n",
            "  inflating: /content/dataset/__MACOSX/aclImdb/train/pos/._8347_10.txt  \n",
            "  inflating: /content/dataset/aclImdb/train/pos/8348_10.txt  \n",
            "  inflating: /content/dataset/__MACOSX/aclImdb/train/pos/._8348_10.txt  \n",
            "  inflating: /content/dataset/aclImdb/train/pos/8349_10.txt  \n",
            "  inflating: /content/dataset/__MACOSX/aclImdb/train/pos/._8349_10.txt  \n",
            "  inflating: /content/dataset/aclImdb/train/pos/834_8.txt  \n",
            "  inflating: /content/dataset/__MACOSX/aclImdb/train/pos/._834_8.txt  \n",
            "  inflating: /content/dataset/aclImdb/train/pos/8350_9.txt  \n",
            "  inflating: /content/dataset/__MACOSX/aclImdb/train/pos/._8350_9.txt  \n",
            "  inflating: /content/dataset/aclImdb/train/pos/8351_9.txt  \n",
            "  inflating: /content/dataset/__MACOSX/aclImdb/train/pos/._8351_9.txt  \n",
            "  inflating: /content/dataset/aclImdb/train/pos/8352_9.txt  \n",
            "  inflating: /content/dataset/__MACOSX/aclImdb/train/pos/._8352_9.txt  \n",
            "  inflating: /content/dataset/aclImdb/train/pos/8353_10.txt  \n",
            "  inflating: /content/dataset/__MACOSX/aclImdb/train/pos/._8353_10.txt  \n",
            "  inflating: /content/dataset/aclImdb/train/pos/8354_8.txt  \n",
            "  inflating: /content/dataset/__MACOSX/aclImdb/train/pos/._8354_8.txt  \n",
            "  inflating: /content/dataset/aclImdb/train/pos/8355_7.txt  \n",
            "  inflating: /content/dataset/__MACOSX/aclImdb/train/pos/._8355_7.txt  \n",
            "  inflating: /content/dataset/aclImdb/train/pos/8356_10.txt  \n",
            "  inflating: /content/dataset/__MACOSX/aclImdb/train/pos/._8356_10.txt  \n",
            "  inflating: /content/dataset/aclImdb/train/pos/8357_10.txt  \n",
            "  inflating: /content/dataset/__MACOSX/aclImdb/train/pos/._8357_10.txt  \n",
            "  inflating: /content/dataset/aclImdb/train/pos/8358_9.txt  \n",
            "  inflating: /content/dataset/__MACOSX/aclImdb/train/pos/._8358_9.txt  \n",
            "  inflating: /content/dataset/aclImdb/train/pos/8359_8.txt  \n",
            "  inflating: /content/dataset/__MACOSX/aclImdb/train/pos/._8359_8.txt  \n",
            "  inflating: /content/dataset/aclImdb/train/pos/835_8.txt  \n",
            "  inflating: /content/dataset/__MACOSX/aclImdb/train/pos/._835_8.txt  \n",
            "  inflating: /content/dataset/aclImdb/train/pos/8360_9.txt  \n",
            "  inflating: /content/dataset/__MACOSX/aclImdb/train/pos/._8360_9.txt  \n",
            "  inflating: /content/dataset/aclImdb/train/pos/8361_8.txt  \n",
            "  inflating: /content/dataset/__MACOSX/aclImdb/train/pos/._8361_8.txt  \n",
            "  inflating: /content/dataset/aclImdb/train/pos/8362_7.txt  \n",
            "  inflating: /content/dataset/__MACOSX/aclImdb/train/pos/._8362_7.txt  \n",
            "  inflating: /content/dataset/aclImdb/train/pos/8363_8.txt  \n",
            "  inflating: /content/dataset/__MACOSX/aclImdb/train/pos/._8363_8.txt  \n",
            "  inflating: /content/dataset/aclImdb/train/pos/8364_10.txt  \n",
            "  inflating: /content/dataset/__MACOSX/aclImdb/train/pos/._8364_10.txt  \n",
            "  inflating: /content/dataset/aclImdb/train/pos/8365_8.txt  \n",
            "  inflating: /content/dataset/__MACOSX/aclImdb/train/pos/._8365_8.txt  \n",
            "  inflating: /content/dataset/aclImdb/train/pos/8366_10.txt  \n",
            "  inflating: /content/dataset/__MACOSX/aclImdb/train/pos/._8366_10.txt  \n",
            "  inflating: /content/dataset/aclImdb/train/pos/8367_10.txt  \n",
            "  inflating: /content/dataset/__MACOSX/aclImdb/train/pos/._8367_10.txt  \n",
            "  inflating: /content/dataset/aclImdb/train/pos/8368_10.txt  \n",
            "  inflating: /content/dataset/__MACOSX/aclImdb/train/pos/._8368_10.txt  \n",
            "  inflating: /content/dataset/aclImdb/train/pos/8369_8.txt  \n",
            "  inflating: /content/dataset/__MACOSX/aclImdb/train/pos/._8369_8.txt  \n",
            "  inflating: /content/dataset/aclImdb/train/pos/836_8.txt  \n",
            "  inflating: /content/dataset/__MACOSX/aclImdb/train/pos/._836_8.txt  \n",
            "  inflating: /content/dataset/aclImdb/train/pos/8370_10.txt  \n",
            "  inflating: /content/dataset/__MACOSX/aclImdb/train/pos/._8370_10.txt  \n",
            "  inflating: /content/dataset/aclImdb/train/pos/8371_10.txt  \n",
            "  inflating: /content/dataset/__MACOSX/aclImdb/train/pos/._8371_10.txt  \n",
            "  inflating: /content/dataset/aclImdb/train/pos/8372_10.txt  \n",
            "  inflating: /content/dataset/__MACOSX/aclImdb/train/pos/._8372_10.txt  \n",
            "  inflating: /content/dataset/aclImdb/train/pos/8373_9.txt  \n",
            "  inflating: /content/dataset/__MACOSX/aclImdb/train/pos/._8373_9.txt  \n",
            "  inflating: /content/dataset/aclImdb/train/pos/8374_7.txt  \n",
            "  inflating: /content/dataset/__MACOSX/aclImdb/train/pos/._8374_7.txt  \n",
            "  inflating: /content/dataset/aclImdb/train/pos/8375_8.txt  \n",
            "  inflating: /content/dataset/__MACOSX/aclImdb/train/pos/._8375_8.txt  \n",
            "  inflating: /content/dataset/aclImdb/train/pos/8376_10.txt  \n",
            "  inflating: /content/dataset/__MACOSX/aclImdb/train/pos/._8376_10.txt  \n",
            "  inflating: /content/dataset/aclImdb/train/pos/8377_8.txt  \n",
            "  inflating: /content/dataset/__MACOSX/aclImdb/train/pos/._8377_8.txt  \n",
            "  inflating: /content/dataset/aclImdb/train/pos/8378_10.txt  \n",
            "  inflating: /content/dataset/__MACOSX/aclImdb/train/pos/._8378_10.txt  \n",
            "  inflating: /content/dataset/aclImdb/train/pos/8379_10.txt  \n",
            "  inflating: /content/dataset/__MACOSX/aclImdb/train/pos/._8379_10.txt  \n",
            "  inflating: /content/dataset/aclImdb/train/pos/837_7.txt  \n",
            "  inflating: /content/dataset/__MACOSX/aclImdb/train/pos/._837_7.txt  \n",
            "  inflating: /content/dataset/aclImdb/train/pos/8380_9.txt  \n",
            "  inflating: /content/dataset/__MACOSX/aclImdb/train/pos/._8380_9.txt  \n",
            "  inflating: /content/dataset/aclImdb/train/pos/8381_8.txt  \n",
            "  inflating: /content/dataset/__MACOSX/aclImdb/train/pos/._8381_8.txt  \n",
            "  inflating: /content/dataset/aclImdb/train/pos/8382_7.txt  \n",
            "  inflating: /content/dataset/__MACOSX/aclImdb/train/pos/._8382_7.txt  \n",
            "  inflating: /content/dataset/aclImdb/train/pos/8383_7.txt  \n",
            "  inflating: /content/dataset/__MACOSX/aclImdb/train/pos/._8383_7.txt  \n",
            "  inflating: /content/dataset/aclImdb/train/pos/8384_7.txt  \n",
            "  inflating: /content/dataset/__MACOSX/aclImdb/train/pos/._8384_7.txt  \n",
            "  inflating: /content/dataset/aclImdb/train/pos/8385_10.txt  \n",
            "  inflating: /content/dataset/__MACOSX/aclImdb/train/pos/._8385_10.txt  \n",
            "  inflating: /content/dataset/aclImdb/train/pos/8386_9.txt  \n",
            "  inflating: /content/dataset/__MACOSX/aclImdb/train/pos/._8386_9.txt  \n",
            "  inflating: /content/dataset/aclImdb/train/pos/8387_8.txt  \n",
            "  inflating: /content/dataset/__MACOSX/aclImdb/train/pos/._8387_8.txt  \n",
            "  inflating: /content/dataset/aclImdb/train/pos/8388_7.txt  \n",
            "  inflating: /content/dataset/__MACOSX/aclImdb/train/pos/._8388_7.txt  \n",
            "  inflating: /content/dataset/aclImdb/train/pos/8389_8.txt  \n",
            "  inflating: /content/dataset/__MACOSX/aclImdb/train/pos/._8389_8.txt  \n",
            "  inflating: /content/dataset/aclImdb/train/pos/838_9.txt  \n",
            "  inflating: /content/dataset/__MACOSX/aclImdb/train/pos/._838_9.txt  \n",
            "  inflating: /content/dataset/aclImdb/train/pos/8390_8.txt  \n",
            "  inflating: /content/dataset/__MACOSX/aclImdb/train/pos/._8390_8.txt  \n",
            "  inflating: /content/dataset/aclImdb/train/pos/8391_8.txt  \n",
            "  inflating: /content/dataset/__MACOSX/aclImdb/train/pos/._8391_8.txt  \n",
            "  inflating: /content/dataset/aclImdb/train/pos/8392_8.txt  \n",
            "  inflating: /content/dataset/__MACOSX/aclImdb/train/pos/._8392_8.txt  \n",
            "  inflating: /content/dataset/aclImdb/train/pos/8393_8.txt  \n",
            "  inflating: /content/dataset/__MACOSX/aclImdb/train/pos/._8393_8.txt  \n",
            "  inflating: /content/dataset/aclImdb/train/pos/8394_10.txt  \n",
            "  inflating: /content/dataset/__MACOSX/aclImdb/train/pos/._8394_10.txt  \n",
            "  inflating: /content/dataset/aclImdb/train/pos/8395_8.txt  \n",
            "  inflating: /content/dataset/__MACOSX/aclImdb/train/pos/._8395_8.txt  \n",
            "  inflating: /content/dataset/aclImdb/train/pos/8396_8.txt  \n",
            "  inflating: /content/dataset/__MACOSX/aclImdb/train/pos/._8396_8.txt  \n",
            "  inflating: /content/dataset/aclImdb/train/pos/8397_10.txt  \n",
            "  inflating: /content/dataset/__MACOSX/aclImdb/train/pos/._8397_10.txt  \n",
            "  inflating: /content/dataset/aclImdb/train/pos/8398_8.txt  \n",
            "  inflating: /content/dataset/__MACOSX/aclImdb/train/pos/._8398_8.txt  \n",
            "  inflating: /content/dataset/aclImdb/train/pos/8399_10.txt  \n",
            "  inflating: /content/dataset/__MACOSX/aclImdb/train/pos/._8399_10.txt  \n",
            "  inflating: /content/dataset/aclImdb/train/pos/839_7.txt  \n",
            "  inflating: /content/dataset/__MACOSX/aclImdb/train/pos/._839_7.txt  \n",
            "  inflating: /content/dataset/aclImdb/train/pos/83_10.txt  \n",
            "  inflating: /content/dataset/__MACOSX/aclImdb/train/pos/._83_10.txt  \n",
            "  inflating: /content/dataset/aclImdb/train/pos/8400_7.txt  \n",
            "  inflating: /content/dataset/__MACOSX/aclImdb/train/pos/._8400_7.txt  \n",
            "  inflating: /content/dataset/aclImdb/train/pos/8401_10.txt  \n",
            "  inflating: /content/dataset/__MACOSX/aclImdb/train/pos/._8401_10.txt  \n",
            "  inflating: /content/dataset/aclImdb/train/pos/8402_10.txt  \n",
            "  inflating: /content/dataset/__MACOSX/aclImdb/train/pos/._8402_10.txt  \n",
            "  inflating: /content/dataset/aclImdb/train/pos/8403_10.txt  \n",
            "  inflating: /content/dataset/__MACOSX/aclImdb/train/pos/._8403_10.txt  \n",
            "  inflating: /content/dataset/aclImdb/train/pos/8404_10.txt  \n",
            "  inflating: /content/dataset/__MACOSX/aclImdb/train/pos/._8404_10.txt  \n",
            "  inflating: /content/dataset/aclImdb/train/pos/8405_9.txt  \n",
            "  inflating: /content/dataset/__MACOSX/aclImdb/train/pos/._8405_9.txt  \n",
            "  inflating: /content/dataset/aclImdb/train/pos/8406_10.txt  \n",
            "  inflating: /content/dataset/__MACOSX/aclImdb/train/pos/._8406_10.txt  \n",
            "  inflating: /content/dataset/aclImdb/train/pos/8407_7.txt  \n",
            "  inflating: /content/dataset/__MACOSX/aclImdb/train/pos/._8407_7.txt  \n",
            "  inflating: /content/dataset/aclImdb/train/pos/8408_10.txt  \n",
            "  inflating: /content/dataset/__MACOSX/aclImdb/train/pos/._8408_10.txt  \n",
            "  inflating: /content/dataset/aclImdb/train/pos/8409_8.txt  \n",
            "  inflating: /content/dataset/__MACOSX/aclImdb/train/pos/._8409_8.txt  \n",
            "  inflating: /content/dataset/aclImdb/train/pos/840_9.txt  \n",
            "  inflating: /content/dataset/__MACOSX/aclImdb/train/pos/._840_9.txt  \n",
            "  inflating: /content/dataset/aclImdb/train/pos/8410_10.txt  \n",
            "  inflating: /content/dataset/__MACOSX/aclImdb/train/pos/._8410_10.txt  \n",
            "  inflating: /content/dataset/aclImdb/train/pos/8411_7.txt  \n",
            "  inflating: /content/dataset/__MACOSX/aclImdb/train/pos/._8411_7.txt  \n",
            "  inflating: /content/dataset/aclImdb/train/pos/8412_7.txt  \n",
            "  inflating: /content/dataset/__MACOSX/aclImdb/train/pos/._8412_7.txt  \n",
            "  inflating: /content/dataset/aclImdb/train/pos/8413_8.txt  \n",
            "  inflating: /content/dataset/__MACOSX/aclImdb/train/pos/._8413_8.txt  \n",
            "  inflating: /content/dataset/aclImdb/train/pos/8414_7.txt  \n",
            "  inflating: /content/dataset/__MACOSX/aclImdb/train/pos/._8414_7.txt  \n",
            "  inflating: /content/dataset/aclImdb/train/pos/8415_7.txt  \n",
            "  inflating: /content/dataset/__MACOSX/aclImdb/train/pos/._8415_7.txt  \n",
            "  inflating: /content/dataset/aclImdb/train/pos/8416_7.txt  \n",
            "  inflating: /content/dataset/__MACOSX/aclImdb/train/pos/._8416_7.txt  \n",
            "  inflating: /content/dataset/aclImdb/train/pos/8417_8.txt  \n",
            "  inflating: /content/dataset/__MACOSX/aclImdb/train/pos/._8417_8.txt  \n",
            "  inflating: /content/dataset/aclImdb/train/pos/8418_7.txt  \n",
            "  inflating: /content/dataset/__MACOSX/aclImdb/train/pos/._8418_7.txt  \n",
            "  inflating: /content/dataset/aclImdb/train/pos/8419_9.txt  \n",
            "  inflating: /content/dataset/__MACOSX/aclImdb/train/pos/._8419_9.txt  \n",
            "  inflating: /content/dataset/aclImdb/train/pos/841_10.txt  \n",
            "  inflating: /content/dataset/__MACOSX/aclImdb/train/pos/._841_10.txt  \n",
            "  inflating: /content/dataset/aclImdb/train/pos/8420_9.txt  \n",
            "  inflating: /content/dataset/__MACOSX/aclImdb/train/pos/._8420_9.txt  \n",
            "  inflating: /content/dataset/aclImdb/train/pos/8421_10.txt  \n",
            "  inflating: /content/dataset/__MACOSX/aclImdb/train/pos/._8421_10.txt  \n",
            "  inflating: /content/dataset/aclImdb/train/pos/8422_10.txt  \n",
            "  inflating: /content/dataset/__MACOSX/aclImdb/train/pos/._8422_10.txt  \n",
            "  inflating: /content/dataset/aclImdb/train/pos/8423_8.txt  \n",
            "  inflating: /content/dataset/__MACOSX/aclImdb/train/pos/._8423_8.txt  \n",
            "  inflating: /content/dataset/aclImdb/train/pos/8424_9.txt  \n",
            "  inflating: /content/dataset/__MACOSX/aclImdb/train/pos/._8424_9.txt  \n",
            "  inflating: /content/dataset/aclImdb/train/pos/8425_9.txt  \n",
            "  inflating: /content/dataset/__MACOSX/aclImdb/train/pos/._8425_9.txt  \n",
            "  inflating: /content/dataset/aclImdb/train/pos/8426_7.txt  \n",
            "  inflating: /content/dataset/__MACOSX/aclImdb/train/pos/._8426_7.txt  \n",
            "  inflating: /content/dataset/aclImdb/train/pos/8427_7.txt  \n",
            "  inflating: /content/dataset/__MACOSX/aclImdb/train/pos/._8427_7.txt  \n",
            "  inflating: /content/dataset/aclImdb/train/pos/8428_7.txt  \n",
            "  inflating: /content/dataset/__MACOSX/aclImdb/train/pos/._8428_7.txt  \n",
            "  inflating: /content/dataset/aclImdb/train/pos/8429_7.txt  \n",
            "  inflating: /content/dataset/__MACOSX/aclImdb/train/pos/._8429_7.txt  \n",
            "  inflating: /content/dataset/aclImdb/train/pos/842_9.txt  \n",
            "  inflating: /content/dataset/__MACOSX/aclImdb/train/pos/._842_9.txt  \n",
            "  inflating: /content/dataset/aclImdb/train/pos/8430_9.txt  \n",
            "  inflating: /content/dataset/__MACOSX/aclImdb/train/pos/._8430_9.txt  \n",
            "  inflating: /content/dataset/aclImdb/train/pos/8431_9.txt  \n",
            "  inflating: /content/dataset/__MACOSX/aclImdb/train/pos/._8431_9.txt  \n",
            "  inflating: /content/dataset/aclImdb/train/pos/8432_10.txt  \n",
            "  inflating: /content/dataset/__MACOSX/aclImdb/train/pos/._8432_10.txt  \n",
            "  inflating: /content/dataset/aclImdb/train/pos/8433_9.txt  \n",
            "  inflating: /content/dataset/__MACOSX/aclImdb/train/pos/._8433_9.txt  \n",
            "  inflating: /content/dataset/aclImdb/train/pos/8434_9.txt  \n",
            "  inflating: /content/dataset/__MACOSX/aclImdb/train/pos/._8434_9.txt  \n",
            "  inflating: /content/dataset/aclImdb/train/pos/8435_10.txt  \n",
            "  inflating: /content/dataset/__MACOSX/aclImdb/train/pos/._8435_10.txt  \n",
            "  inflating: /content/dataset/aclImdb/train/pos/8436_10.txt  \n",
            "  inflating: /content/dataset/__MACOSX/aclImdb/train/pos/._8436_10.txt  \n",
            "  inflating: /content/dataset/aclImdb/train/pos/8437_10.txt  \n",
            "  inflating: /content/dataset/__MACOSX/aclImdb/train/pos/._8437_10.txt  \n",
            "  inflating: /content/dataset/aclImdb/train/pos/8438_10.txt  \n",
            "  inflating: /content/dataset/__MACOSX/aclImdb/train/pos/._8438_10.txt  \n",
            "  inflating: /content/dataset/aclImdb/train/pos/8439_10.txt  \n",
            "  inflating: /content/dataset/__MACOSX/aclImdb/train/pos/._8439_10.txt  \n",
            "  inflating: /content/dataset/aclImdb/train/pos/843_10.txt  \n",
            "  inflating: /content/dataset/__MACOSX/aclImdb/train/pos/._843_10.txt  \n",
            "  inflating: /content/dataset/aclImdb/train/pos/8440_8.txt  \n",
            "  inflating: /content/dataset/__MACOSX/aclImdb/train/pos/._8440_8.txt  \n",
            "  inflating: /content/dataset/aclImdb/train/pos/8441_10.txt  \n",
            "  inflating: /content/dataset/__MACOSX/aclImdb/train/pos/._8441_10.txt  \n",
            "  inflating: /content/dataset/aclImdb/train/pos/8442_9.txt  \n",
            "  inflating: /content/dataset/__MACOSX/aclImdb/train/pos/._8442_9.txt  \n",
            "  inflating: /content/dataset/aclImdb/train/pos/8443_9.txt  \n",
            "  inflating: /content/dataset/__MACOSX/aclImdb/train/pos/._8443_9.txt  \n",
            "  inflating: /content/dataset/aclImdb/train/pos/8444_10.txt  \n",
            "  inflating: /content/dataset/__MACOSX/aclImdb/train/pos/._8444_10.txt  \n",
            "  inflating: /content/dataset/aclImdb/train/pos/8445_10.txt  \n",
            "  inflating: /content/dataset/__MACOSX/aclImdb/train/pos/._8445_10.txt  \n",
            "  inflating: /content/dataset/aclImdb/train/pos/8446_10.txt  \n",
            "  inflating: /content/dataset/__MACOSX/aclImdb/train/pos/._8446_10.txt  \n",
            "  inflating: /content/dataset/aclImdb/train/pos/8447_8.txt  \n",
            "  inflating: /content/dataset/__MACOSX/aclImdb/train/pos/._8447_8.txt  \n",
            "  inflating: /content/dataset/aclImdb/train/pos/8448_10.txt  \n",
            "  inflating: /content/dataset/__MACOSX/aclImdb/train/pos/._8448_10.txt  \n",
            "  inflating: /content/dataset/aclImdb/train/pos/8449_9.txt  \n",
            "  inflating: /content/dataset/__MACOSX/aclImdb/train/pos/._8449_9.txt  \n",
            "  inflating: /content/dataset/aclImdb/train/pos/844_8.txt  \n",
            "  inflating: /content/dataset/__MACOSX/aclImdb/train/pos/._844_8.txt  \n",
            "  inflating: /content/dataset/aclImdb/train/pos/8450_7.txt  \n",
            "  inflating: /content/dataset/__MACOSX/aclImdb/train/pos/._8450_7.txt  \n",
            "  inflating: /content/dataset/aclImdb/train/pos/8451_10.txt  \n",
            "  inflating: /content/dataset/__MACOSX/aclImdb/train/pos/._8451_10.txt  \n",
            "  inflating: /content/dataset/aclImdb/train/pos/8452_7.txt  \n",
            "  inflating: /content/dataset/__MACOSX/aclImdb/train/pos/._8452_7.txt  \n",
            "  inflating: /content/dataset/aclImdb/train/pos/8453_10.txt  \n",
            "  inflating: /content/dataset/__MACOSX/aclImdb/train/pos/._8453_10.txt  \n",
            "  inflating: /content/dataset/aclImdb/train/pos/8454_8.txt  \n",
            "  inflating: /content/dataset/__MACOSX/aclImdb/train/pos/._8454_8.txt  \n",
            "  inflating: /content/dataset/aclImdb/train/pos/8455_10.txt  \n",
            "  inflating: /content/dataset/__MACOSX/aclImdb/train/pos/._8455_10.txt  \n",
            "  inflating: /content/dataset/aclImdb/train/pos/8456_10.txt  \n",
            "  inflating: /content/dataset/__MACOSX/aclImdb/train/pos/._8456_10.txt  \n",
            "  inflating: /content/dataset/aclImdb/train/pos/8457_9.txt  \n",
            "  inflating: /content/dataset/__MACOSX/aclImdb/train/pos/._8457_9.txt  \n",
            "  inflating: /content/dataset/aclImdb/train/pos/8458_10.txt  \n",
            "  inflating: /content/dataset/__MACOSX/aclImdb/train/pos/._8458_10.txt  \n",
            "  inflating: /content/dataset/aclImdb/train/pos/8459_10.txt  \n",
            "  inflating: /content/dataset/__MACOSX/aclImdb/train/pos/._8459_10.txt  \n",
            "  inflating: /content/dataset/aclImdb/train/pos/845_7.txt  \n",
            "  inflating: /content/dataset/__MACOSX/aclImdb/train/pos/._845_7.txt  \n",
            "  inflating: /content/dataset/aclImdb/train/pos/8460_7.txt  \n",
            "  inflating: /content/dataset/__MACOSX/aclImdb/train/pos/._8460_7.txt  \n",
            "  inflating: /content/dataset/aclImdb/train/pos/8461_7.txt  \n",
            "  inflating: /content/dataset/__MACOSX/aclImdb/train/pos/._8461_7.txt  \n",
            "  inflating: /content/dataset/aclImdb/train/pos/8462_9.txt  \n",
            "  inflating: /content/dataset/__MACOSX/aclImdb/train/pos/._8462_9.txt  \n",
            "  inflating: /content/dataset/aclImdb/train/pos/8463_9.txt  \n",
            "  inflating: /content/dataset/__MACOSX/aclImdb/train/pos/._8463_9.txt  \n",
            "  inflating: /content/dataset/aclImdb/train/pos/8464_10.txt  \n",
            "  inflating: /content/dataset/__MACOSX/aclImdb/train/pos/._8464_10.txt  \n",
            "  inflating: /content/dataset/aclImdb/train/pos/8465_8.txt  \n",
            "  inflating: /content/dataset/__MACOSX/aclImdb/train/pos/._8465_8.txt  \n",
            "  inflating: /content/dataset/aclImdb/train/pos/8466_9.txt  \n",
            "  inflating: /content/dataset/__MACOSX/aclImdb/train/pos/._8466_9.txt  \n",
            "  inflating: /content/dataset/aclImdb/train/pos/8467_7.txt  \n",
            "  inflating: /content/dataset/__MACOSX/aclImdb/train/pos/._8467_7.txt  \n",
            "  inflating: /content/dataset/aclImdb/train/pos/8468_7.txt  \n",
            "  inflating: /content/dataset/__MACOSX/aclImdb/train/pos/._8468_7.txt  \n",
            "  inflating: /content/dataset/aclImdb/train/pos/8469_7.txt  \n",
            "  inflating: /content/dataset/__MACOSX/aclImdb/train/pos/._8469_7.txt  \n",
            "  inflating: /content/dataset/aclImdb/train/pos/846_7.txt  \n",
            "  inflating: /content/dataset/__MACOSX/aclImdb/train/pos/._846_7.txt  \n",
            "  inflating: /content/dataset/aclImdb/train/pos/8470_8.txt  \n",
            "  inflating: /content/dataset/__MACOSX/aclImdb/train/pos/._8470_8.txt  \n",
            "  inflating: /content/dataset/aclImdb/train/pos/8471_10.txt  \n",
            "  inflating: /content/dataset/__MACOSX/aclImdb/train/pos/._8471_10.txt  \n",
            "  inflating: /content/dataset/aclImdb/train/pos/8472_10.txt  \n",
            "  inflating: /content/dataset/__MACOSX/aclImdb/train/pos/._8472_10.txt  \n",
            "  inflating: /content/dataset/aclImdb/train/pos/8473_8.txt  \n",
            "  inflating: /content/dataset/__MACOSX/aclImdb/train/pos/._8473_8.txt  \n",
            "  inflating: /content/dataset/aclImdb/train/pos/8474_10.txt  \n",
            "  inflating: /content/dataset/__MACOSX/aclImdb/train/pos/._8474_10.txt  \n",
            "  inflating: /content/dataset/aclImdb/train/pos/8475_10.txt  \n",
            "  inflating: /content/dataset/__MACOSX/aclImdb/train/pos/._8475_10.txt  \n",
            "  inflating: /content/dataset/aclImdb/train/pos/8476_10.txt  \n",
            "  inflating: /content/dataset/__MACOSX/aclImdb/train/pos/._8476_10.txt  \n",
            "  inflating: /content/dataset/aclImdb/train/pos/8477_10.txt  \n",
            "  inflating: /content/dataset/__MACOSX/aclImdb/train/pos/._8477_10.txt  \n",
            "  inflating: /content/dataset/aclImdb/train/pos/8478_8.txt  \n",
            "  inflating: /content/dataset/__MACOSX/aclImdb/train/pos/._8478_8.txt  \n",
            "  inflating: /content/dataset/aclImdb/train/pos/8479_9.txt  \n",
            "  inflating: /content/dataset/__MACOSX/aclImdb/train/pos/._8479_9.txt  \n",
            "  inflating: /content/dataset/aclImdb/train/pos/847_7.txt  \n",
            "  inflating: /content/dataset/__MACOSX/aclImdb/train/pos/._847_7.txt  \n",
            "  inflating: /content/dataset/aclImdb/train/pos/8480_10.txt  \n",
            "  inflating: /content/dataset/__MACOSX/aclImdb/train/pos/._8480_10.txt  \n",
            "  inflating: /content/dataset/aclImdb/train/pos/8481_8.txt  \n",
            "  inflating: /content/dataset/__MACOSX/aclImdb/train/pos/._8481_8.txt  \n",
            "  inflating: /content/dataset/aclImdb/train/pos/8482_7.txt  \n",
            "  inflating: /content/dataset/__MACOSX/aclImdb/train/pos/._8482_7.txt  \n",
            "  inflating: /content/dataset/aclImdb/train/pos/8483_7.txt  \n",
            "  inflating: /content/dataset/__MACOSX/aclImdb/train/pos/._8483_7.txt  \n",
            "  inflating: /content/dataset/aclImdb/train/pos/8484_10.txt  \n",
            "  inflating: /content/dataset/__MACOSX/aclImdb/train/pos/._8484_10.txt  \n",
            "  inflating: /content/dataset/aclImdb/train/pos/8485_8.txt  \n",
            "  inflating: /content/dataset/__MACOSX/aclImdb/train/pos/._8485_8.txt  \n",
            "  inflating: /content/dataset/aclImdb/train/pos/8486_10.txt  \n",
            "  inflating: /content/dataset/__MACOSX/aclImdb/train/pos/._8486_10.txt  \n",
            "  inflating: /content/dataset/aclImdb/train/pos/8487_10.txt  \n",
            "  inflating: /content/dataset/__MACOSX/aclImdb/train/pos/._8487_10.txt  \n",
            "  inflating: /content/dataset/aclImdb/train/pos/8488_8.txt  \n",
            "  inflating: /content/dataset/__MACOSX/aclImdb/train/pos/._8488_8.txt  \n",
            "  inflating: /content/dataset/aclImdb/train/pos/8489_9.txt  \n",
            "  inflating: /content/dataset/__MACOSX/aclImdb/train/pos/._8489_9.txt  \n",
            "  inflating: /content/dataset/aclImdb/train/pos/848_8.txt  \n",
            "  inflating: /content/dataset/__MACOSX/aclImdb/train/pos/._848_8.txt  \n",
            "  inflating: /content/dataset/aclImdb/train/pos/8490_7.txt  \n",
            "  inflating: /content/dataset/__MACOSX/aclImdb/train/pos/._8490_7.txt  \n",
            "  inflating: /content/dataset/aclImdb/train/pos/8491_7.txt  \n",
            "  inflating: /content/dataset/__MACOSX/aclImdb/train/pos/._8491_7.txt  \n",
            "  inflating: /content/dataset/aclImdb/train/pos/8492_9.txt  \n",
            "  inflating: /content/dataset/__MACOSX/aclImdb/train/pos/._8492_9.txt  \n",
            "  inflating: /content/dataset/aclImdb/train/pos/8493_10.txt  \n",
            "  inflating: /content/dataset/__MACOSX/aclImdb/train/pos/._8493_10.txt  \n",
            "  inflating: /content/dataset/aclImdb/train/pos/8494_8.txt  \n",
            "  inflating: /content/dataset/__MACOSX/aclImdb/train/pos/._8494_8.txt  \n",
            "  inflating: /content/dataset/aclImdb/train/pos/8495_8.txt  \n",
            "  inflating: /content/dataset/__MACOSX/aclImdb/train/pos/._8495_8.txt  \n",
            "  inflating: /content/dataset/aclImdb/train/pos/8496_7.txt  \n",
            "  inflating: /content/dataset/__MACOSX/aclImdb/train/pos/._8496_7.txt  \n",
            "  inflating: /content/dataset/aclImdb/train/pos/8497_7.txt  \n",
            "  inflating: /content/dataset/__MACOSX/aclImdb/train/pos/._8497_7.txt  \n",
            "  inflating: /content/dataset/aclImdb/train/pos/8498_9.txt  \n",
            "  inflating: /content/dataset/__MACOSX/aclImdb/train/pos/._8498_9.txt  \n",
            "  inflating: /content/dataset/aclImdb/train/pos/8499_9.txt  \n",
            "  inflating: /content/dataset/__MACOSX/aclImdb/train/pos/._8499_9.txt  \n",
            "  inflating: /content/dataset/aclImdb/train/pos/849_7.txt  \n",
            "  inflating: /content/dataset/__MACOSX/aclImdb/train/pos/._849_7.txt  \n",
            "  inflating: /content/dataset/aclImdb/train/pos/84_10.txt  \n",
            "  inflating: /content/dataset/__MACOSX/aclImdb/train/pos/._84_10.txt  \n",
            "  inflating: /content/dataset/aclImdb/train/pos/8500_7.txt  \n",
            "  inflating: /content/dataset/__MACOSX/aclImdb/train/pos/._8500_7.txt  \n",
            "  inflating: /content/dataset/aclImdb/train/pos/8501_8.txt  \n",
            "  inflating: /content/dataset/__MACOSX/aclImdb/train/pos/._8501_8.txt  \n",
            "  inflating: /content/dataset/aclImdb/train/pos/8502_9.txt  \n",
            "  inflating: /content/dataset/__MACOSX/aclImdb/train/pos/._8502_9.txt  \n",
            "  inflating: /content/dataset/aclImdb/train/pos/8503_8.txt  \n",
            "  inflating: /content/dataset/__MACOSX/aclImdb/train/pos/._8503_8.txt  \n",
            "  inflating: /content/dataset/aclImdb/train/pos/8504_8.txt  \n",
            "  inflating: /content/dataset/__MACOSX/aclImdb/train/pos/._8504_8.txt  \n",
            "  inflating: /content/dataset/aclImdb/train/pos/8505_8.txt  \n",
            "  inflating: /content/dataset/__MACOSX/aclImdb/train/pos/._8505_8.txt  \n",
            "  inflating: /content/dataset/aclImdb/train/pos/8506_8.txt  \n",
            "  inflating: /content/dataset/__MACOSX/aclImdb/train/pos/._8506_8.txt  \n",
            "  inflating: /content/dataset/aclImdb/train/pos/8507_10.txt  \n",
            "  inflating: /content/dataset/__MACOSX/aclImdb/train/pos/._8507_10.txt  \n",
            "  inflating: /content/dataset/aclImdb/train/pos/8508_7.txt  \n",
            "  inflating: /content/dataset/__MACOSX/aclImdb/train/pos/._8508_7.txt  \n",
            "  inflating: /content/dataset/aclImdb/train/pos/8509_7.txt  \n",
            "  inflating: /content/dataset/__MACOSX/aclImdb/train/pos/._8509_7.txt  \n",
            "  inflating: /content/dataset/aclImdb/train/pos/850_8.txt  \n",
            "  inflating: /content/dataset/__MACOSX/aclImdb/train/pos/._850_8.txt  \n",
            "  inflating: /content/dataset/aclImdb/train/pos/8510_7.txt  \n",
            "  inflating: /content/dataset/__MACOSX/aclImdb/train/pos/._8510_7.txt  \n",
            "  inflating: /content/dataset/aclImdb/train/pos/8511_10.txt  \n",
            "  inflating: /content/dataset/__MACOSX/aclImdb/train/pos/._8511_10.txt  \n",
            "  inflating: /content/dataset/aclImdb/train/pos/8512_7.txt  \n",
            "  inflating: /content/dataset/__MACOSX/aclImdb/train/pos/._8512_7.txt  \n",
            "  inflating: /content/dataset/aclImdb/train/pos/8513_9.txt  \n",
            "  inflating: /content/dataset/__MACOSX/aclImdb/train/pos/._8513_9.txt  \n",
            "  inflating: /content/dataset/aclImdb/train/pos/8514_7.txt  \n",
            "  inflating: /content/dataset/__MACOSX/aclImdb/train/pos/._8514_7.txt  \n",
            "  inflating: /content/dataset/aclImdb/train/pos/8515_8.txt  \n",
            "  inflating: /content/dataset/__MACOSX/aclImdb/train/pos/._8515_8.txt  \n",
            "  inflating: /content/dataset/aclImdb/train/pos/8516_9.txt  \n",
            "  inflating: /content/dataset/__MACOSX/aclImdb/train/pos/._8516_9.txt  \n",
            "  inflating: /content/dataset/aclImdb/train/pos/8517_8.txt  \n",
            "  inflating: /content/dataset/__MACOSX/aclImdb/train/pos/._8517_8.txt  \n",
            "  inflating: /content/dataset/aclImdb/train/pos/8518_10.txt  \n",
            "  inflating: /content/dataset/__MACOSX/aclImdb/train/pos/._8518_10.txt  \n",
            "  inflating: /content/dataset/aclImdb/train/pos/8519_10.txt  \n",
            "  inflating: /content/dataset/__MACOSX/aclImdb/train/pos/._8519_10.txt  \n",
            "  inflating: /content/dataset/aclImdb/train/pos/851_7.txt  \n",
            "  inflating: /content/dataset/__MACOSX/aclImdb/train/pos/._851_7.txt  \n",
            "  inflating: /content/dataset/aclImdb/train/pos/8520_8.txt  \n",
            "  inflating: /content/dataset/__MACOSX/aclImdb/train/pos/._8520_8.txt  \n",
            "  inflating: /content/dataset/aclImdb/train/pos/8521_10.txt  \n",
            "  inflating: /content/dataset/__MACOSX/aclImdb/train/pos/._8521_10.txt  \n",
            "  inflating: /content/dataset/aclImdb/train/pos/8522_10.txt  \n",
            "  inflating: /content/dataset/__MACOSX/aclImdb/train/pos/._8522_10.txt  \n",
            "  inflating: /content/dataset/aclImdb/train/pos/8523_9.txt  \n",
            "  inflating: /content/dataset/__MACOSX/aclImdb/train/pos/._8523_9.txt  \n",
            "  inflating: /content/dataset/aclImdb/train/pos/8524_10.txt  \n",
            "  inflating: /content/dataset/__MACOSX/aclImdb/train/pos/._8524_10.txt  \n",
            "  inflating: /content/dataset/aclImdb/train/pos/8525_10.txt  \n",
            "  inflating: /content/dataset/__MACOSX/aclImdb/train/pos/._8525_10.txt  \n",
            "  inflating: /content/dataset/aclImdb/train/pos/8526_10.txt  \n",
            "  inflating: /content/dataset/__MACOSX/aclImdb/train/pos/._8526_10.txt  \n",
            "  inflating: /content/dataset/aclImdb/train/pos/8527_8.txt  \n",
            "  inflating: /content/dataset/__MACOSX/aclImdb/train/pos/._8527_8.txt  \n",
            "  inflating: /content/dataset/aclImdb/train/pos/8528_7.txt  \n",
            "  inflating: /content/dataset/__MACOSX/aclImdb/train/pos/._8528_7.txt  \n",
            "  inflating: /content/dataset/aclImdb/train/pos/8529_9.txt  \n",
            "  inflating: /content/dataset/__MACOSX/aclImdb/train/pos/._8529_9.txt  \n",
            "  inflating: /content/dataset/aclImdb/train/pos/852_7.txt  \n",
            "  inflating: /content/dataset/__MACOSX/aclImdb/train/pos/._852_7.txt  \n",
            "  inflating: /content/dataset/aclImdb/train/pos/8530_9.txt  \n",
            "  inflating: /content/dataset/__MACOSX/aclImdb/train/pos/._8530_9.txt  \n",
            "  inflating: /content/dataset/aclImdb/train/pos/8531_7.txt  \n",
            "  inflating: /content/dataset/__MACOSX/aclImdb/train/pos/._8531_7.txt  \n",
            "  inflating: /content/dataset/aclImdb/train/pos/8532_7.txt  \n",
            "  inflating: /content/dataset/__MACOSX/aclImdb/train/pos/._8532_7.txt  \n",
            "  inflating: /content/dataset/aclImdb/train/pos/8533_8.txt  \n",
            "  inflating: /content/dataset/__MACOSX/aclImdb/train/pos/._8533_8.txt  \n",
            "  inflating: /content/dataset/aclImdb/train/pos/8534_10.txt  \n",
            "  inflating: /content/dataset/__MACOSX/aclImdb/train/pos/._8534_10.txt  \n",
            "  inflating: /content/dataset/aclImdb/train/pos/8535_7.txt  \n",
            "  inflating: /content/dataset/__MACOSX/aclImdb/train/pos/._8535_7.txt  \n",
            "  inflating: /content/dataset/aclImdb/train/pos/8536_9.txt  \n",
            "  inflating: /content/dataset/__MACOSX/aclImdb/train/pos/._8536_9.txt  \n",
            "  inflating: /content/dataset/aclImdb/train/pos/8537_10.txt  \n",
            "  inflating: /content/dataset/__MACOSX/aclImdb/train/pos/._8537_10.txt  \n",
            "  inflating: /content/dataset/aclImdb/train/pos/8538_10.txt  \n",
            "  inflating: /content/dataset/__MACOSX/aclImdb/train/pos/._8538_10.txt  \n",
            "  inflating: /content/dataset/aclImdb/train/pos/8539_8.txt  \n",
            "  inflating: /content/dataset/__MACOSX/aclImdb/train/pos/._8539_8.txt  \n",
            "  inflating: /content/dataset/aclImdb/train/pos/853_9.txt  \n",
            "  inflating: /content/dataset/__MACOSX/aclImdb/train/pos/._853_9.txt  \n",
            "  inflating: /content/dataset/aclImdb/train/pos/8540_9.txt  \n",
            "  inflating: /content/dataset/__MACOSX/aclImdb/train/pos/._8540_9.txt  \n",
            "  inflating: /content/dataset/aclImdb/train/pos/8541_10.txt  \n",
            "  inflating: /content/dataset/__MACOSX/aclImdb/train/pos/._8541_10.txt  \n",
            "  inflating: /content/dataset/aclImdb/train/pos/8542_9.txt  \n",
            "  inflating: /content/dataset/__MACOSX/aclImdb/train/pos/._8542_9.txt  \n",
            "  inflating: /content/dataset/aclImdb/train/pos/8543_8.txt  \n",
            "  inflating: /content/dataset/__MACOSX/aclImdb/train/pos/._8543_8.txt  \n",
            "  inflating: /content/dataset/aclImdb/train/pos/8544_9.txt  \n",
            "  inflating: /content/dataset/__MACOSX/aclImdb/train/pos/._8544_9.txt  \n",
            "  inflating: /content/dataset/aclImdb/train/pos/8545_9.txt  \n",
            "  inflating: /content/dataset/__MACOSX/aclImdb/train/pos/._8545_9.txt  \n",
            "  inflating: /content/dataset/aclImdb/train/pos/8546_10.txt  \n",
            "  inflating: /content/dataset/__MACOSX/aclImdb/train/pos/._8546_10.txt  \n",
            "  inflating: /content/dataset/aclImdb/train/pos/8547_10.txt  \n",
            "  inflating: /content/dataset/__MACOSX/aclImdb/train/pos/._8547_10.txt  \n",
            "  inflating: /content/dataset/aclImdb/train/pos/8548_10.txt  \n",
            "  inflating: /content/dataset/__MACOSX/aclImdb/train/pos/._8548_10.txt  \n",
            "  inflating: /content/dataset/aclImdb/train/pos/8549_8.txt  \n",
            "  inflating: /content/dataset/__MACOSX/aclImdb/train/pos/._8549_8.txt  \n",
            "  inflating: /content/dataset/aclImdb/train/pos/854_9.txt  \n",
            "  inflating: /content/dataset/__MACOSX/aclImdb/train/pos/._854_9.txt  \n",
            "  inflating: /content/dataset/aclImdb/train/pos/8550_8.txt  \n",
            "  inflating: /content/dataset/__MACOSX/aclImdb/train/pos/._8550_8.txt  \n",
            "  inflating: /content/dataset/aclImdb/train/pos/8551_8.txt  \n",
            "  inflating: /content/dataset/__MACOSX/aclImdb/train/pos/._8551_8.txt  \n",
            "  inflating: /content/dataset/aclImdb/train/pos/8552_9.txt  \n",
            "  inflating: /content/dataset/__MACOSX/aclImdb/train/pos/._8552_9.txt  \n",
            "  inflating: /content/dataset/aclImdb/train/pos/8553_7.txt  \n",
            "  inflating: /content/dataset/__MACOSX/aclImdb/train/pos/._8553_7.txt  \n",
            "  inflating: /content/dataset/aclImdb/train/pos/8554_7.txt  \n",
            "  inflating: /content/dataset/__MACOSX/aclImdb/train/pos/._8554_7.txt  \n",
            "  inflating: /content/dataset/aclImdb/train/pos/8555_9.txt  \n",
            "  inflating: /content/dataset/__MACOSX/aclImdb/train/pos/._8555_9.txt  \n",
            "  inflating: /content/dataset/aclImdb/train/pos/8556_7.txt  \n",
            "  inflating: /content/dataset/__MACOSX/aclImdb/train/pos/._8556_7.txt  \n",
            "  inflating: /content/dataset/aclImdb/train/pos/8557_7.txt  \n",
            "  inflating: /content/dataset/__MACOSX/aclImdb/train/pos/._8557_7.txt  \n",
            "  inflating: /content/dataset/aclImdb/train/pos/8558_10.txt  \n",
            "  inflating: /content/dataset/__MACOSX/aclImdb/train/pos/._8558_10.txt  \n",
            "  inflating: /content/dataset/aclImdb/train/pos/8559_8.txt  \n",
            "  inflating: /content/dataset/__MACOSX/aclImdb/train/pos/._8559_8.txt  \n",
            "  inflating: /content/dataset/aclImdb/train/pos/855_9.txt  \n",
            "  inflating: /content/dataset/__MACOSX/aclImdb/train/pos/._855_9.txt  \n",
            "  inflating: /content/dataset/aclImdb/train/pos/8560_10.txt  \n",
            "  inflating: /content/dataset/__MACOSX/aclImdb/train/pos/._8560_10.txt  \n",
            "  inflating: /content/dataset/aclImdb/train/pos/8561_10.txt  \n",
            "  inflating: /content/dataset/__MACOSX/aclImdb/train/pos/._8561_10.txt  \n",
            "  inflating: /content/dataset/aclImdb/train/pos/8562_10.txt  \n",
            "  inflating: /content/dataset/__MACOSX/aclImdb/train/pos/._8562_10.txt  \n",
            "  inflating: /content/dataset/aclImdb/train/pos/8563_10.txt  \n",
            "  inflating: /content/dataset/__MACOSX/aclImdb/train/pos/._8563_10.txt  \n",
            "  inflating: /content/dataset/aclImdb/train/pos/8564_7.txt  \n",
            "  inflating: /content/dataset/__MACOSX/aclImdb/train/pos/._8564_7.txt  \n",
            "  inflating: /content/dataset/aclImdb/train/pos/8565_7.txt  \n",
            "  inflating: /content/dataset/__MACOSX/aclImdb/train/pos/._8565_7.txt  \n",
            "  inflating: /content/dataset/aclImdb/train/pos/8566_10.txt  \n",
            "  inflating: /content/dataset/__MACOSX/aclImdb/train/pos/._8566_10.txt  \n",
            "  inflating: /content/dataset/aclImdb/train/pos/8567_10.txt  \n",
            "  inflating: /content/dataset/__MACOSX/aclImdb/train/pos/._8567_10.txt  \n",
            "  inflating: /content/dataset/aclImdb/train/pos/8568_7.txt  \n",
            "  inflating: /content/dataset/__MACOSX/aclImdb/train/pos/._8568_7.txt  \n",
            "  inflating: /content/dataset/aclImdb/train/pos/8569_9.txt  \n",
            "  inflating: /content/dataset/__MACOSX/aclImdb/train/pos/._8569_9.txt  \n",
            "  inflating: /content/dataset/aclImdb/train/pos/856_7.txt  \n",
            "  inflating: /content/dataset/__MACOSX/aclImdb/train/pos/._856_7.txt  \n",
            "  inflating: /content/dataset/aclImdb/train/pos/8570_7.txt  \n",
            "  inflating: /content/dataset/__MACOSX/aclImdb/train/pos/._8570_7.txt  \n",
            "  inflating: /content/dataset/aclImdb/train/pos/8571_7.txt  \n",
            "  inflating: /content/dataset/__MACOSX/aclImdb/train/pos/._8571_7.txt  \n",
            "  inflating: /content/dataset/aclImdb/train/pos/8572_7.txt  \n",
            "  inflating: /content/dataset/__MACOSX/aclImdb/train/pos/._8572_7.txt  \n",
            "  inflating: /content/dataset/aclImdb/train/pos/8573_10.txt  \n",
            "  inflating: /content/dataset/__MACOSX/aclImdb/train/pos/._8573_10.txt  \n",
            "  inflating: /content/dataset/aclImdb/train/pos/8574_9.txt  \n",
            "  inflating: /content/dataset/__MACOSX/aclImdb/train/pos/._8574_9.txt  \n",
            "  inflating: /content/dataset/aclImdb/train/pos/8575_10.txt  \n",
            "  inflating: /content/dataset/__MACOSX/aclImdb/train/pos/._8575_10.txt  \n",
            "  inflating: /content/dataset/aclImdb/train/pos/8576_8.txt  \n",
            "  inflating: /content/dataset/__MACOSX/aclImdb/train/pos/._8576_8.txt  \n",
            "  inflating: /content/dataset/aclImdb/train/pos/8577_8.txt  \n",
            "  inflating: /content/dataset/__MACOSX/aclImdb/train/pos/._8577_8.txt  \n",
            "  inflating: /content/dataset/aclImdb/train/pos/8578_8.txt  \n",
            "  inflating: /content/dataset/__MACOSX/aclImdb/train/pos/._8578_8.txt  \n",
            "  inflating: /content/dataset/aclImdb/train/pos/8579_8.txt  \n",
            "  inflating: /content/dataset/__MACOSX/aclImdb/train/pos/._8579_8.txt  \n",
            "  inflating: /content/dataset/aclImdb/train/pos/857_8.txt  \n",
            "  inflating: /content/dataset/__MACOSX/aclImdb/train/pos/._857_8.txt  \n",
            "  inflating: /content/dataset/aclImdb/train/pos/8580_9.txt  \n",
            "  inflating: /content/dataset/__MACOSX/aclImdb/train/pos/._8580_9.txt  \n",
            "  inflating: /content/dataset/aclImdb/train/pos/8581_10.txt  \n",
            "  inflating: /content/dataset/__MACOSX/aclImdb/train/pos/._8581_10.txt  \n",
            "  inflating: /content/dataset/aclImdb/train/pos/8582_9.txt  \n",
            "  inflating: /content/dataset/__MACOSX/aclImdb/train/pos/._8582_9.txt  \n",
            "  inflating: /content/dataset/aclImdb/train/pos/8583_9.txt  \n",
            "  inflating: /content/dataset/__MACOSX/aclImdb/train/pos/._8583_9.txt  \n",
            "  inflating: /content/dataset/aclImdb/train/pos/8584_8.txt  \n",
            "  inflating: /content/dataset/__MACOSX/aclImdb/train/pos/._8584_8.txt  \n",
            "  inflating: /content/dataset/aclImdb/train/pos/8585_8.txt  \n",
            "  inflating: /content/dataset/__MACOSX/aclImdb/train/pos/._8585_8.txt  \n",
            "  inflating: /content/dataset/aclImdb/train/pos/8586_8.txt  \n",
            "  inflating: /content/dataset/__MACOSX/aclImdb/train/pos/._8586_8.txt  \n",
            "  inflating: /content/dataset/aclImdb/train/pos/8587_7.txt  \n",
            "  inflating: /content/dataset/__MACOSX/aclImdb/train/pos/._8587_7.txt  \n",
            "  inflating: /content/dataset/aclImdb/train/pos/8588_7.txt  \n",
            "  inflating: /content/dataset/__MACOSX/aclImdb/train/pos/._8588_7.txt  \n",
            "  inflating: /content/dataset/aclImdb/train/pos/8589_7.txt  \n",
            "  inflating: /content/dataset/__MACOSX/aclImdb/train/pos/._8589_7.txt  \n",
            "  inflating: /content/dataset/aclImdb/train/pos/858_8.txt  \n",
            "  inflating: /content/dataset/__MACOSX/aclImdb/train/pos/._858_8.txt  \n",
            "  inflating: /content/dataset/aclImdb/train/pos/8590_7.txt  \n",
            "  inflating: /content/dataset/__MACOSX/aclImdb/train/pos/._8590_7.txt  \n",
            "  inflating: /content/dataset/aclImdb/train/pos/8591_7.txt  \n",
            "  inflating: /content/dataset/__MACOSX/aclImdb/train/pos/._8591_7.txt  \n",
            "  inflating: /content/dataset/aclImdb/train/pos/8592_7.txt  \n",
            "  inflating: /content/dataset/__MACOSX/aclImdb/train/pos/._8592_7.txt  \n",
            "  inflating: /content/dataset/aclImdb/train/pos/8593_7.txt  \n",
            "  inflating: /content/dataset/__MACOSX/aclImdb/train/pos/._8593_7.txt  \n",
            "  inflating: /content/dataset/aclImdb/train/pos/8594_7.txt  \n",
            "  inflating: /content/dataset/__MACOSX/aclImdb/train/pos/._8594_7.txt  \n",
            "  inflating: /content/dataset/aclImdb/train/pos/8595_10.txt  \n",
            "  inflating: /content/dataset/__MACOSX/aclImdb/train/pos/._8595_10.txt  \n",
            "  inflating: /content/dataset/aclImdb/train/pos/8596_7.txt  \n",
            "  inflating: /content/dataset/__MACOSX/aclImdb/train/pos/._8596_7.txt  \n",
            "  inflating: /content/dataset/aclImdb/train/pos/8597_9.txt  \n",
            "  inflating: /content/dataset/__MACOSX/aclImdb/train/pos/._8597_9.txt  \n",
            "  inflating: /content/dataset/aclImdb/train/pos/8598_7.txt  \n",
            "  inflating: /content/dataset/__MACOSX/aclImdb/train/pos/._8598_7.txt  \n",
            "  inflating: /content/dataset/aclImdb/train/pos/8599_7.txt  \n",
            "  inflating: /content/dataset/__MACOSX/aclImdb/train/pos/._8599_7.txt  \n",
            "  inflating: /content/dataset/aclImdb/train/pos/859_9.txt  \n",
            "  inflating: /content/dataset/__MACOSX/aclImdb/train/pos/._859_9.txt  \n",
            "  inflating: /content/dataset/aclImdb/train/pos/85_10.txt  \n",
            "  inflating: /content/dataset/__MACOSX/aclImdb/train/pos/._85_10.txt  \n",
            "  inflating: /content/dataset/aclImdb/train/pos/8600_8.txt  \n",
            "  inflating: /content/dataset/__MACOSX/aclImdb/train/pos/._8600_8.txt  \n",
            "  inflating: /content/dataset/aclImdb/train/pos/8601_10.txt  \n",
            "  inflating: /content/dataset/__MACOSX/aclImdb/train/pos/._8601_10.txt  \n",
            "  inflating: /content/dataset/aclImdb/train/pos/8602_10.txt  \n",
            "  inflating: /content/dataset/__MACOSX/aclImdb/train/pos/._8602_10.txt  \n",
            "  inflating: /content/dataset/aclImdb/train/pos/8603_10.txt  \n",
            "  inflating: /content/dataset/__MACOSX/aclImdb/train/pos/._8603_10.txt  \n",
            "  inflating: /content/dataset/aclImdb/train/pos/8604_10.txt  \n",
            "  inflating: /content/dataset/__MACOSX/aclImdb/train/pos/._8604_10.txt  \n",
            "  inflating: /content/dataset/aclImdb/train/pos/8605_10.txt  \n",
            "  inflating: /content/dataset/__MACOSX/aclImdb/train/pos/._8605_10.txt  \n",
            "  inflating: /content/dataset/aclImdb/train/pos/8606_10.txt  \n",
            "  inflating: /content/dataset/__MACOSX/aclImdb/train/pos/._8606_10.txt  \n",
            "  inflating: /content/dataset/aclImdb/train/pos/8607_9.txt  \n",
            "  inflating: /content/dataset/__MACOSX/aclImdb/train/pos/._8607_9.txt  \n",
            "  inflating: /content/dataset/aclImdb/train/pos/8608_9.txt  \n",
            "  inflating: /content/dataset/__MACOSX/aclImdb/train/pos/._8608_9.txt  \n",
            "  inflating: /content/dataset/aclImdb/train/pos/8609_10.txt  \n",
            "  inflating: /content/dataset/__MACOSX/aclImdb/train/pos/._8609_10.txt  \n",
            "  inflating: /content/dataset/aclImdb/train/pos/860_8.txt  \n",
            "  inflating: /content/dataset/__MACOSX/aclImdb/train/pos/._860_8.txt  \n",
            "  inflating: /content/dataset/aclImdb/train/pos/8610_10.txt  \n",
            "  inflating: /content/dataset/__MACOSX/aclImdb/train/pos/._8610_10.txt  \n",
            "  inflating: /content/dataset/aclImdb/train/pos/8611_8.txt  \n",
            "  inflating: /content/dataset/__MACOSX/aclImdb/train/pos/._8611_8.txt  \n",
            "  inflating: /content/dataset/aclImdb/train/pos/8612_7.txt  \n",
            "  inflating: /content/dataset/__MACOSX/aclImdb/train/pos/._8612_7.txt  \n",
            "  inflating: /content/dataset/aclImdb/train/pos/8613_7.txt  \n",
            "  inflating: /content/dataset/__MACOSX/aclImdb/train/pos/._8613_7.txt  \n",
            "  inflating: /content/dataset/aclImdb/train/pos/8614_9.txt  \n",
            "  inflating: /content/dataset/__MACOSX/aclImdb/train/pos/._8614_9.txt  \n",
            "  inflating: /content/dataset/aclImdb/train/pos/8615_10.txt  \n",
            "  inflating: /content/dataset/__MACOSX/aclImdb/train/pos/._8615_10.txt  \n",
            "  inflating: /content/dataset/aclImdb/train/pos/8616_8.txt  \n",
            "  inflating: /content/dataset/__MACOSX/aclImdb/train/pos/._8616_8.txt  \n",
            "  inflating: /content/dataset/aclImdb/train/pos/8617_9.txt  \n",
            "  inflating: /content/dataset/__MACOSX/aclImdb/train/pos/._8617_9.txt  \n",
            "  inflating: /content/dataset/aclImdb/train/pos/8618_8.txt  \n",
            "  inflating: /content/dataset/__MACOSX/aclImdb/train/pos/._8618_8.txt  \n",
            "  inflating: /content/dataset/aclImdb/train/pos/8619_7.txt  \n",
            "  inflating: /content/dataset/__MACOSX/aclImdb/train/pos/._8619_7.txt  \n",
            "  inflating: /content/dataset/aclImdb/train/pos/861_7.txt  \n",
            "  inflating: /content/dataset/__MACOSX/aclImdb/train/pos/._861_7.txt  \n",
            "  inflating: /content/dataset/aclImdb/train/pos/8620_8.txt  \n",
            "  inflating: /content/dataset/__MACOSX/aclImdb/train/pos/._8620_8.txt  \n",
            "  inflating: /content/dataset/aclImdb/train/pos/8621_10.txt  \n",
            "  inflating: /content/dataset/__MACOSX/aclImdb/train/pos/._8621_10.txt  \n",
            "  inflating: /content/dataset/aclImdb/train/pos/8622_8.txt  \n",
            "  inflating: /content/dataset/__MACOSX/aclImdb/train/pos/._8622_8.txt  \n",
            "  inflating: /content/dataset/aclImdb/train/pos/8623_7.txt  \n",
            "  inflating: /content/dataset/__MACOSX/aclImdb/train/pos/._8623_7.txt  \n",
            "  inflating: /content/dataset/aclImdb/train/pos/8624_7.txt  \n",
            "  inflating: /content/dataset/__MACOSX/aclImdb/train/pos/._8624_7.txt  \n",
            "  inflating: /content/dataset/aclImdb/train/pos/8625_7.txt  \n",
            "  inflating: /content/dataset/__MACOSX/aclImdb/train/pos/._8625_7.txt  \n",
            "  inflating: /content/dataset/aclImdb/train/pos/8626_7.txt  \n",
            "  inflating: /content/dataset/__MACOSX/aclImdb/train/pos/._8626_7.txt  \n",
            "  inflating: /content/dataset/aclImdb/train/pos/8627_10.txt  \n",
            "  inflating: /content/dataset/__MACOSX/aclImdb/train/pos/._8627_10.txt  \n",
            "  inflating: /content/dataset/aclImdb/train/pos/8628_10.txt  \n",
            "  inflating: /content/dataset/__MACOSX/aclImdb/train/pos/._8628_10.txt  \n",
            "  inflating: /content/dataset/aclImdb/train/pos/8629_9.txt  \n",
            "  inflating: /content/dataset/__MACOSX/aclImdb/train/pos/._8629_9.txt  \n",
            "  inflating: /content/dataset/aclImdb/train/pos/862_7.txt  \n",
            "  inflating: /content/dataset/__MACOSX/aclImdb/train/pos/._862_7.txt  \n",
            "  inflating: /content/dataset/aclImdb/train/pos/8630_9.txt  \n",
            "  inflating: /content/dataset/__MACOSX/aclImdb/train/pos/._8630_9.txt  \n",
            "  inflating: /content/dataset/aclImdb/train/pos/8631_7.txt  \n",
            "  inflating: /content/dataset/__MACOSX/aclImdb/train/pos/._8631_7.txt  \n",
            "  inflating: /content/dataset/aclImdb/train/pos/8632_9.txt  \n",
            "  inflating: /content/dataset/__MACOSX/aclImdb/train/pos/._8632_9.txt  \n",
            "  inflating: /content/dataset/aclImdb/train/pos/8633_8.txt  \n",
            "  inflating: /content/dataset/__MACOSX/aclImdb/train/pos/._8633_8.txt  \n",
            "  inflating: /content/dataset/aclImdb/train/pos/8634_9.txt  \n",
            "  inflating: /content/dataset/__MACOSX/aclImdb/train/pos/._8634_9.txt  \n",
            "  inflating: /content/dataset/aclImdb/train/pos/8635_7.txt  \n",
            "  inflating: /content/dataset/__MACOSX/aclImdb/train/pos/._8635_7.txt  \n",
            "  inflating: /content/dataset/aclImdb/train/pos/8636_7.txt  \n",
            "  inflating: /content/dataset/__MACOSX/aclImdb/train/pos/._8636_7.txt  \n",
            "  inflating: /content/dataset/aclImdb/train/pos/8637_10.txt  \n",
            "  inflating: /content/dataset/__MACOSX/aclImdb/train/pos/._8637_10.txt  \n",
            "  inflating: /content/dataset/aclImdb/train/pos/8638_7.txt  \n",
            "  inflating: /content/dataset/__MACOSX/aclImdb/train/pos/._8638_7.txt  \n",
            "  inflating: /content/dataset/aclImdb/train/pos/8639_9.txt  \n",
            "  inflating: /content/dataset/__MACOSX/aclImdb/train/pos/._8639_9.txt  \n",
            "  inflating: /content/dataset/aclImdb/train/pos/863_10.txt  \n",
            "  inflating: /content/dataset/__MACOSX/aclImdb/train/pos/._863_10.txt  \n",
            "  inflating: /content/dataset/aclImdb/train/pos/8640_10.txt  \n",
            "  inflating: /content/dataset/__MACOSX/aclImdb/train/pos/._8640_10.txt  \n",
            "  inflating: /content/dataset/aclImdb/train/pos/8641_7.txt  \n",
            "  inflating: /content/dataset/__MACOSX/aclImdb/train/pos/._8641_7.txt  \n",
            "  inflating: /content/dataset/aclImdb/train/pos/8642_8.txt  \n",
            "  inflating: /content/dataset/__MACOSX/aclImdb/train/pos/._8642_8.txt  \n",
            "  inflating: /content/dataset/aclImdb/train/pos/8643_7.txt  \n",
            "  inflating: /content/dataset/__MACOSX/aclImdb/train/pos/._8643_7.txt  \n",
            "  inflating: /content/dataset/aclImdb/train/pos/8644_7.txt  \n",
            "  inflating: /content/dataset/__MACOSX/aclImdb/train/pos/._8644_7.txt  \n",
            "  inflating: /content/dataset/aclImdb/train/pos/8645_8.txt  \n",
            "  inflating: /content/dataset/__MACOSX/aclImdb/train/pos/._8645_8.txt  \n",
            "  inflating: /content/dataset/aclImdb/train/pos/8646_7.txt  \n",
            "  inflating: /content/dataset/__MACOSX/aclImdb/train/pos/._8646_7.txt  \n",
            "  inflating: /content/dataset/aclImdb/train/pos/8647_7.txt  \n",
            "  inflating: /content/dataset/__MACOSX/aclImdb/train/pos/._8647_7.txt  \n",
            "  inflating: /content/dataset/aclImdb/train/pos/8648_9.txt  \n",
            "  inflating: /content/dataset/__MACOSX/aclImdb/train/pos/._8648_9.txt  \n",
            "  inflating: /content/dataset/aclImdb/train/pos/8649_9.txt  \n",
            "  inflating: /content/dataset/__MACOSX/aclImdb/train/pos/._8649_9.txt  \n",
            "  inflating: /content/dataset/aclImdb/train/pos/864_9.txt  \n",
            "  inflating: /content/dataset/__MACOSX/aclImdb/train/pos/._864_9.txt  \n",
            "  inflating: /content/dataset/aclImdb/train/pos/8650_10.txt  \n",
            "  inflating: /content/dataset/__MACOSX/aclImdb/train/pos/._8650_10.txt  \n",
            "  inflating: /content/dataset/aclImdb/train/pos/8651_9.txt  \n",
            "  inflating: /content/dataset/__MACOSX/aclImdb/train/pos/._8651_9.txt  \n",
            "  inflating: /content/dataset/aclImdb/train/pos/8652_8.txt  \n",
            "  inflating: /content/dataset/__MACOSX/aclImdb/train/pos/._8652_8.txt  \n",
            "  inflating: /content/dataset/aclImdb/train/pos/8653_10.txt  \n",
            "  inflating: /content/dataset/__MACOSX/aclImdb/train/pos/._8653_10.txt  \n",
            "  inflating: /content/dataset/aclImdb/train/pos/8654_9.txt  \n",
            "  inflating: /content/dataset/__MACOSX/aclImdb/train/pos/._8654_9.txt  \n",
            "  inflating: /content/dataset/aclImdb/train/pos/8655_9.txt  \n",
            "  inflating: /content/dataset/__MACOSX/aclImdb/train/pos/._8655_9.txt  \n",
            "  inflating: /content/dataset/aclImdb/train/pos/8656_9.txt  \n",
            "  inflating: /content/dataset/__MACOSX/aclImdb/train/pos/._8656_9.txt  \n",
            "  inflating: /content/dataset/aclImdb/train/pos/8657_9.txt  \n",
            "  inflating: /content/dataset/__MACOSX/aclImdb/train/pos/._8657_9.txt  \n",
            "  inflating: /content/dataset/aclImdb/train/pos/8658_8.txt  \n",
            "  inflating: /content/dataset/__MACOSX/aclImdb/train/pos/._8658_8.txt  \n",
            "  inflating: /content/dataset/aclImdb/train/pos/8659_7.txt  \n",
            "  inflating: /content/dataset/__MACOSX/aclImdb/train/pos/._8659_7.txt  \n",
            "  inflating: /content/dataset/aclImdb/train/pos/865_9.txt  \n",
            "  inflating: /content/dataset/__MACOSX/aclImdb/train/pos/._865_9.txt  \n",
            "  inflating: /content/dataset/aclImdb/train/pos/8660_7.txt  \n",
            "  inflating: /content/dataset/__MACOSX/aclImdb/train/pos/._8660_7.txt  \n",
            "  inflating: /content/dataset/aclImdb/train/pos/8661_8.txt  \n",
            "  inflating: /content/dataset/__MACOSX/aclImdb/train/pos/._8661_8.txt  \n",
            "  inflating: /content/dataset/aclImdb/train/pos/8662_8.txt  \n",
            "  inflating: /content/dataset/__MACOSX/aclImdb/train/pos/._8662_8.txt  \n",
            "  inflating: /content/dataset/aclImdb/train/pos/8663_7.txt  \n",
            "  inflating: /content/dataset/__MACOSX/aclImdb/train/pos/._8663_7.txt  \n",
            "  inflating: /content/dataset/aclImdb/train/pos/8664_8.txt  \n",
            "  inflating: /content/dataset/__MACOSX/aclImdb/train/pos/._8664_8.txt  \n",
            "  inflating: /content/dataset/aclImdb/train/pos/8665_8.txt  \n",
            "  inflating: /content/dataset/__MACOSX/aclImdb/train/pos/._8665_8.txt  \n",
            "  inflating: /content/dataset/aclImdb/train/pos/8666_7.txt  \n",
            "  inflating: /content/dataset/__MACOSX/aclImdb/train/pos/._8666_7.txt  \n",
            "  inflating: /content/dataset/aclImdb/train/pos/8667_7.txt  \n",
            "  inflating: /content/dataset/__MACOSX/aclImdb/train/pos/._8667_7.txt  \n",
            "  inflating: /content/dataset/aclImdb/train/pos/8668_9.txt  \n",
            "  inflating: /content/dataset/__MACOSX/aclImdb/train/pos/._8668_9.txt  \n",
            "  inflating: /content/dataset/aclImdb/train/pos/8669_7.txt  \n",
            "  inflating: /content/dataset/__MACOSX/aclImdb/train/pos/._8669_7.txt  \n",
            "  inflating: /content/dataset/aclImdb/train/pos/866_8.txt  \n",
            "  inflating: /content/dataset/__MACOSX/aclImdb/train/pos/._866_8.txt  \n",
            "  inflating: /content/dataset/aclImdb/train/pos/8670_8.txt  \n",
            "  inflating: /content/dataset/__MACOSX/aclImdb/train/pos/._8670_8.txt  \n",
            "  inflating: /content/dataset/aclImdb/train/pos/8671_7.txt  \n",
            "  inflating: /content/dataset/__MACOSX/aclImdb/train/pos/._8671_7.txt  \n",
            "  inflating: /content/dataset/aclImdb/train/pos/8672_8.txt  \n",
            "  inflating: /content/dataset/__MACOSX/aclImdb/train/pos/._8672_8.txt  \n",
            "  inflating: /content/dataset/aclImdb/train/pos/8673_7.txt  \n",
            "  inflating: /content/dataset/__MACOSX/aclImdb/train/pos/._8673_7.txt  \n",
            "  inflating: /content/dataset/aclImdb/train/pos/8674_9.txt  \n",
            "  inflating: /content/dataset/__MACOSX/aclImdb/train/pos/._8674_9.txt  \n",
            "  inflating: /content/dataset/aclImdb/train/pos/8675_8.txt  \n",
            "  inflating: /content/dataset/__MACOSX/aclImdb/train/pos/._8675_8.txt  \n",
            "  inflating: /content/dataset/aclImdb/train/pos/8676_8.txt  \n",
            "  inflating: /content/dataset/__MACOSX/aclImdb/train/pos/._8676_8.txt  \n",
            "  inflating: /content/dataset/aclImdb/train/pos/8677_9.txt  \n",
            "  inflating: /content/dataset/__MACOSX/aclImdb/train/pos/._8677_9.txt  \n",
            "  inflating: /content/dataset/aclImdb/train/pos/8678_9.txt  \n",
            "  inflating: /content/dataset/__MACOSX/aclImdb/train/pos/._8678_9.txt  \n",
            "  inflating: /content/dataset/aclImdb/train/pos/8679_8.txt  \n",
            "  inflating: /content/dataset/__MACOSX/aclImdb/train/pos/._8679_8.txt  \n",
            "  inflating: /content/dataset/aclImdb/train/pos/867_8.txt  \n",
            "  inflating: /content/dataset/__MACOSX/aclImdb/train/pos/._867_8.txt  \n",
            "  inflating: /content/dataset/aclImdb/train/pos/8680_9.txt  \n",
            "  inflating: /content/dataset/__MACOSX/aclImdb/train/pos/._8680_9.txt  \n",
            "  inflating: /content/dataset/aclImdb/train/pos/8681_8.txt  \n",
            "  inflating: /content/dataset/__MACOSX/aclImdb/train/pos/._8681_8.txt  \n",
            "  inflating: /content/dataset/aclImdb/train/pos/8682_7.txt  \n",
            "  inflating: /content/dataset/__MACOSX/aclImdb/train/pos/._8682_7.txt  \n",
            "  inflating: /content/dataset/aclImdb/train/pos/8683_9.txt  \n",
            "  inflating: /content/dataset/__MACOSX/aclImdb/train/pos/._8683_9.txt  \n",
            "  inflating: /content/dataset/aclImdb/train/pos/8684_10.txt  \n",
            "  inflating: /content/dataset/__MACOSX/aclImdb/train/pos/._8684_10.txt  \n",
            "  inflating: /content/dataset/aclImdb/train/pos/8685_9.txt  \n",
            "  inflating: /content/dataset/__MACOSX/aclImdb/train/pos/._8685_9.txt  \n",
            "  inflating: /content/dataset/aclImdb/train/pos/8686_8.txt  \n",
            "  inflating: /content/dataset/__MACOSX/aclImdb/train/pos/._8686_8.txt  \n",
            "  inflating: /content/dataset/aclImdb/train/pos/8687_9.txt  \n",
            "  inflating: /content/dataset/__MACOSX/aclImdb/train/pos/._8687_9.txt  \n",
            "  inflating: /content/dataset/aclImdb/train/pos/8688_8.txt  \n",
            "  inflating: /content/dataset/__MACOSX/aclImdb/train/pos/._8688_8.txt  \n",
            "  inflating: /content/dataset/aclImdb/train/pos/8689_7.txt  \n",
            "  inflating: /content/dataset/__MACOSX/aclImdb/train/pos/._8689_7.txt  \n",
            "  inflating: /content/dataset/aclImdb/train/pos/868_8.txt  \n",
            "  inflating: /content/dataset/__MACOSX/aclImdb/train/pos/._868_8.txt  \n",
            "  inflating: /content/dataset/aclImdb/train/pos/8690_8.txt  \n",
            "  inflating: /content/dataset/__MACOSX/aclImdb/train/pos/._8690_8.txt  \n",
            "  inflating: /content/dataset/aclImdb/train/pos/8691_7.txt  \n",
            "  inflating: /content/dataset/__MACOSX/aclImdb/train/pos/._8691_7.txt  \n",
            "  inflating: /content/dataset/aclImdb/train/pos/8692_10.txt  \n",
            "  inflating: /content/dataset/__MACOSX/aclImdb/train/pos/._8692_10.txt  \n",
            "  inflating: /content/dataset/aclImdb/train/pos/8693_10.txt  \n",
            "  inflating: /content/dataset/__MACOSX/aclImdb/train/pos/._8693_10.txt  \n",
            "  inflating: /content/dataset/aclImdb/train/pos/8694_10.txt  \n",
            "  inflating: /content/dataset/__MACOSX/aclImdb/train/pos/._8694_10.txt  \n",
            "  inflating: /content/dataset/aclImdb/train/pos/8695_9.txt  \n",
            "  inflating: /content/dataset/__MACOSX/aclImdb/train/pos/._8695_9.txt  \n",
            "  inflating: /content/dataset/aclImdb/train/pos/8696_10.txt  \n",
            "  inflating: /content/dataset/__MACOSX/aclImdb/train/pos/._8696_10.txt  \n",
            "  inflating: /content/dataset/aclImdb/train/pos/8697_7.txt  \n",
            "  inflating: /content/dataset/__MACOSX/aclImdb/train/pos/._8697_7.txt  \n",
            "  inflating: /content/dataset/aclImdb/train/pos/8698_10.txt  \n",
            "  inflating: /content/dataset/__MACOSX/aclImdb/train/pos/._8698_10.txt  \n",
            "  inflating: /content/dataset/aclImdb/train/pos/8699_10.txt  \n",
            "  inflating: /content/dataset/__MACOSX/aclImdb/train/pos/._8699_10.txt  \n",
            "  inflating: /content/dataset/aclImdb/train/pos/869_7.txt  \n",
            "  inflating: /content/dataset/__MACOSX/aclImdb/train/pos/._869_7.txt  \n",
            "  inflating: /content/dataset/aclImdb/train/pos/86_10.txt  \n",
            "  inflating: /content/dataset/__MACOSX/aclImdb/train/pos/._86_10.txt  \n",
            "  inflating: /content/dataset/aclImdb/train/pos/8700_7.txt  \n",
            "  inflating: /content/dataset/__MACOSX/aclImdb/train/pos/._8700_7.txt  \n",
            "  inflating: /content/dataset/aclImdb/train/pos/8701_8.txt  \n",
            "  inflating: /content/dataset/__MACOSX/aclImdb/train/pos/._8701_8.txt  \n",
            "  inflating: /content/dataset/aclImdb/train/pos/8702_10.txt  \n",
            "  inflating: /content/dataset/__MACOSX/aclImdb/train/pos/._8702_10.txt  \n",
            "  inflating: /content/dataset/aclImdb/train/pos/8703_10.txt  \n",
            "  inflating: /content/dataset/__MACOSX/aclImdb/train/pos/._8703_10.txt  \n",
            "  inflating: /content/dataset/aclImdb/train/pos/8704_9.txt  \n",
            "  inflating: /content/dataset/__MACOSX/aclImdb/train/pos/._8704_9.txt  \n",
            "  inflating: /content/dataset/aclImdb/train/pos/8705_8.txt  \n",
            "  inflating: /content/dataset/__MACOSX/aclImdb/train/pos/._8705_8.txt  \n",
            "  inflating: /content/dataset/aclImdb/train/pos/8706_8.txt  \n",
            "  inflating: /content/dataset/__MACOSX/aclImdb/train/pos/._8706_8.txt  \n",
            "  inflating: /content/dataset/aclImdb/train/pos/8707_10.txt  \n",
            "  inflating: /content/dataset/__MACOSX/aclImdb/train/pos/._8707_10.txt  \n",
            "  inflating: /content/dataset/aclImdb/train/pos/8708_8.txt  \n",
            "  inflating: /content/dataset/__MACOSX/aclImdb/train/pos/._8708_8.txt  \n",
            "  inflating: /content/dataset/aclImdb/train/pos/8709_8.txt  \n",
            "  inflating: /content/dataset/__MACOSX/aclImdb/train/pos/._8709_8.txt  \n",
            "  inflating: /content/dataset/aclImdb/train/pos/870_10.txt  \n",
            "  inflating: /content/dataset/__MACOSX/aclImdb/train/pos/._870_10.txt  \n",
            "  inflating: /content/dataset/aclImdb/train/pos/8710_7.txt  \n",
            "  inflating: /content/dataset/__MACOSX/aclImdb/train/pos/._8710_7.txt  \n",
            "  inflating: /content/dataset/aclImdb/train/pos/8711_7.txt  \n",
            "  inflating: /content/dataset/__MACOSX/aclImdb/train/pos/._8711_7.txt  \n",
            "  inflating: /content/dataset/aclImdb/train/pos/8712_8.txt  \n",
            "  inflating: /content/dataset/__MACOSX/aclImdb/train/pos/._8712_8.txt  \n",
            "  inflating: /content/dataset/aclImdb/train/pos/8713_10.txt  \n",
            "  inflating: /content/dataset/__MACOSX/aclImdb/train/pos/._8713_10.txt  \n",
            "  inflating: /content/dataset/aclImdb/train/pos/8714_10.txt  \n",
            "  inflating: /content/dataset/__MACOSX/aclImdb/train/pos/._8714_10.txt  \n",
            "  inflating: /content/dataset/aclImdb/train/pos/8715_10.txt  \n",
            "  inflating: /content/dataset/__MACOSX/aclImdb/train/pos/._8715_10.txt  \n",
            "  inflating: /content/dataset/aclImdb/train/pos/8716_10.txt  \n",
            "  inflating: /content/dataset/__MACOSX/aclImdb/train/pos/._8716_10.txt  \n",
            "  inflating: /content/dataset/aclImdb/train/pos/8717_9.txt  \n",
            "  inflating: /content/dataset/__MACOSX/aclImdb/train/pos/._8717_9.txt  \n",
            "  inflating: /content/dataset/aclImdb/train/pos/8718_9.txt  \n",
            "  inflating: /content/dataset/__MACOSX/aclImdb/train/pos/._8718_9.txt  \n",
            "  inflating: /content/dataset/aclImdb/train/pos/8719_10.txt  \n",
            "  inflating: /content/dataset/__MACOSX/aclImdb/train/pos/._8719_10.txt  \n",
            "  inflating: /content/dataset/aclImdb/train/pos/871_9.txt  \n",
            "  inflating: /content/dataset/__MACOSX/aclImdb/train/pos/._871_9.txt  \n",
            "  inflating: /content/dataset/aclImdb/train/pos/8720_9.txt  \n",
            "  inflating: /content/dataset/__MACOSX/aclImdb/train/pos/._8720_9.txt  \n",
            "  inflating: /content/dataset/aclImdb/train/pos/8721_10.txt  \n",
            "  inflating: /content/dataset/__MACOSX/aclImdb/train/pos/._8721_10.txt  \n",
            "  inflating: /content/dataset/aclImdb/train/pos/8722_9.txt  \n",
            "  inflating: /content/dataset/__MACOSX/aclImdb/train/pos/._8722_9.txt  \n",
            "  inflating: /content/dataset/aclImdb/train/pos/8723_8.txt  \n",
            "  inflating: /content/dataset/__MACOSX/aclImdb/train/pos/._8723_8.txt  \n",
            "  inflating: /content/dataset/aclImdb/train/pos/8724_10.txt  \n",
            "  inflating: /content/dataset/__MACOSX/aclImdb/train/pos/._8724_10.txt  \n",
            "  inflating: /content/dataset/aclImdb/train/pos/8725_10.txt  \n",
            "  inflating: /content/dataset/__MACOSX/aclImdb/train/pos/._8725_10.txt  \n",
            "  inflating: /content/dataset/aclImdb/train/pos/8726_9.txt  \n",
            "  inflating: /content/dataset/__MACOSX/aclImdb/train/pos/._8726_9.txt  \n",
            "  inflating: /content/dataset/aclImdb/train/pos/8727_7.txt  \n",
            "  inflating: /content/dataset/__MACOSX/aclImdb/train/pos/._8727_7.txt  \n",
            "  inflating: /content/dataset/aclImdb/train/pos/8728_7.txt  \n",
            "  inflating: /content/dataset/__MACOSX/aclImdb/train/pos/._8728_7.txt  \n",
            "  inflating: /content/dataset/aclImdb/train/pos/8729_10.txt  \n",
            "  inflating: /content/dataset/__MACOSX/aclImdb/train/pos/._8729_10.txt  \n",
            "  inflating: /content/dataset/aclImdb/train/pos/872_9.txt  \n",
            "  inflating: /content/dataset/__MACOSX/aclImdb/train/pos/._872_9.txt  \n",
            "  inflating: /content/dataset/aclImdb/train/pos/8730_8.txt  \n",
            "  inflating: /content/dataset/__MACOSX/aclImdb/train/pos/._8730_8.txt  \n",
            "  inflating: /content/dataset/aclImdb/train/pos/8731_7.txt  \n",
            "  inflating: /content/dataset/__MACOSX/aclImdb/train/pos/._8731_7.txt  \n",
            "  inflating: /content/dataset/aclImdb/train/pos/8732_9.txt  \n",
            "  inflating: /content/dataset/__MACOSX/aclImdb/train/pos/._8732_9.txt  \n",
            "  inflating: /content/dataset/aclImdb/train/pos/8733_10.txt  \n",
            "  inflating: /content/dataset/__MACOSX/aclImdb/train/pos/._8733_10.txt  \n",
            "  inflating: /content/dataset/aclImdb/train/pos/8734_9.txt  \n",
            "  inflating: /content/dataset/__MACOSX/aclImdb/train/pos/._8734_9.txt  \n",
            "  inflating: /content/dataset/aclImdb/train/pos/8735_8.txt  \n",
            "  inflating: /content/dataset/__MACOSX/aclImdb/train/pos/._8735_8.txt  \n",
            "  inflating: /content/dataset/aclImdb/train/pos/8736_10.txt  \n",
            "  inflating: /content/dataset/__MACOSX/aclImdb/train/pos/._8736_10.txt  \n",
            "  inflating: /content/dataset/aclImdb/train/pos/8737_9.txt  \n",
            "  inflating: /content/dataset/__MACOSX/aclImdb/train/pos/._8737_9.txt  \n",
            "  inflating: /content/dataset/aclImdb/train/pos/8738_8.txt  \n",
            "  inflating: /content/dataset/__MACOSX/aclImdb/train/pos/._8738_8.txt  \n",
            "  inflating: /content/dataset/aclImdb/train/pos/8739_9.txt  \n",
            "  inflating: /content/dataset/__MACOSX/aclImdb/train/pos/._8739_9.txt  \n",
            "  inflating: /content/dataset/aclImdb/train/pos/873_8.txt  \n",
            "  inflating: /content/dataset/__MACOSX/aclImdb/train/pos/._873_8.txt  \n",
            "  inflating: /content/dataset/aclImdb/train/pos/8740_8.txt  \n",
            "  inflating: /content/dataset/__MACOSX/aclImdb/train/pos/._8740_8.txt  \n",
            "  inflating: /content/dataset/aclImdb/train/pos/8741_10.txt  \n",
            "  inflating: /content/dataset/__MACOSX/aclImdb/train/pos/._8741_10.txt  \n",
            "  inflating: /content/dataset/aclImdb/train/pos/8742_10.txt  \n",
            "  inflating: /content/dataset/__MACOSX/aclImdb/train/pos/._8742_10.txt  \n",
            "  inflating: /content/dataset/aclImdb/train/pos/8743_7.txt  \n",
            "  inflating: /content/dataset/__MACOSX/aclImdb/train/pos/._8743_7.txt  \n",
            "  inflating: /content/dataset/aclImdb/train/pos/8744_7.txt  \n",
            "  inflating: /content/dataset/__MACOSX/aclImdb/train/pos/._8744_7.txt  \n",
            "  inflating: /content/dataset/aclImdb/train/pos/8745_7.txt  \n",
            "  inflating: /content/dataset/__MACOSX/aclImdb/train/pos/._8745_7.txt  \n",
            "  inflating: /content/dataset/aclImdb/train/pos/8746_10.txt  \n",
            "  inflating: /content/dataset/__MACOSX/aclImdb/train/pos/._8746_10.txt  \n",
            "  inflating: /content/dataset/aclImdb/train/pos/8747_7.txt  \n",
            "  inflating: /content/dataset/__MACOSX/aclImdb/train/pos/._8747_7.txt  \n",
            "  inflating: /content/dataset/aclImdb/train/pos/8748_8.txt  \n",
            "  inflating: /content/dataset/__MACOSX/aclImdb/train/pos/._8748_8.txt  \n",
            "  inflating: /content/dataset/aclImdb/train/pos/8749_7.txt  \n",
            "  inflating: /content/dataset/__MACOSX/aclImdb/train/pos/._8749_7.txt  \n",
            "  inflating: /content/dataset/aclImdb/train/pos/874_9.txt  \n",
            "  inflating: /content/dataset/__MACOSX/aclImdb/train/pos/._874_9.txt  \n",
            "  inflating: /content/dataset/aclImdb/train/pos/8750_7.txt  \n",
            "  inflating: /content/dataset/__MACOSX/aclImdb/train/pos/._8750_7.txt  \n",
            "  inflating: /content/dataset/aclImdb/train/pos/8751_7.txt  \n",
            "  inflating: /content/dataset/__MACOSX/aclImdb/train/pos/._8751_7.txt  \n",
            "  inflating: /content/dataset/aclImdb/train/pos/8752_9.txt  \n",
            "  inflating: /content/dataset/__MACOSX/aclImdb/train/pos/._8752_9.txt  \n",
            "  inflating: /content/dataset/aclImdb/train/pos/8753_8.txt  \n",
            "  inflating: /content/dataset/__MACOSX/aclImdb/train/pos/._8753_8.txt  \n",
            "  inflating: /content/dataset/aclImdb/train/pos/8754_8.txt  \n",
            "  inflating: /content/dataset/__MACOSX/aclImdb/train/pos/._8754_8.txt  \n",
            "  inflating: /content/dataset/aclImdb/train/pos/8755_7.txt  \n",
            "  inflating: /content/dataset/__MACOSX/aclImdb/train/pos/._8755_7.txt  \n",
            "  inflating: /content/dataset/aclImdb/train/pos/8756_9.txt  \n",
            "  inflating: /content/dataset/__MACOSX/aclImdb/train/pos/._8756_9.txt  \n",
            "  inflating: /content/dataset/aclImdb/train/pos/8757_8.txt  \n",
            "  inflating: /content/dataset/__MACOSX/aclImdb/train/pos/._8757_8.txt  \n",
            "  inflating: /content/dataset/aclImdb/train/pos/8758_10.txt  \n",
            "  inflating: /content/dataset/__MACOSX/aclImdb/train/pos/._8758_10.txt  \n",
            "  inflating: /content/dataset/aclImdb/train/pos/8759_8.txt  \n",
            "  inflating: /content/dataset/__MACOSX/aclImdb/train/pos/._8759_8.txt  \n",
            "  inflating: /content/dataset/aclImdb/train/pos/875_10.txt  \n",
            "  inflating: /content/dataset/__MACOSX/aclImdb/train/pos/._875_10.txt  \n",
            "  inflating: /content/dataset/aclImdb/train/pos/8760_7.txt  \n",
            "  inflating: /content/dataset/__MACOSX/aclImdb/train/pos/._8760_7.txt  \n",
            "  inflating: /content/dataset/aclImdb/train/pos/8761_10.txt  \n",
            "  inflating: /content/dataset/__MACOSX/aclImdb/train/pos/._8761_10.txt  \n",
            "  inflating: /content/dataset/aclImdb/train/pos/8762_8.txt  \n",
            "  inflating: /content/dataset/__MACOSX/aclImdb/train/pos/._8762_8.txt  \n",
            "  inflating: /content/dataset/aclImdb/train/pos/8763_9.txt  \n",
            "  inflating: /content/dataset/__MACOSX/aclImdb/train/pos/._8763_9.txt  \n",
            "  inflating: /content/dataset/aclImdb/train/pos/8764_8.txt  \n",
            "  inflating: /content/dataset/__MACOSX/aclImdb/train/pos/._8764_8.txt  \n",
            "  inflating: /content/dataset/aclImdb/train/pos/8765_10.txt  \n",
            "  inflating: /content/dataset/__MACOSX/aclImdb/train/pos/._8765_10.txt  \n",
            "  inflating: /content/dataset/aclImdb/train/pos/8766_8.txt  \n",
            "  inflating: /content/dataset/__MACOSX/aclImdb/train/pos/._8766_8.txt  \n",
            "  inflating: /content/dataset/aclImdb/train/pos/8767_10.txt  \n",
            "  inflating: /content/dataset/__MACOSX/aclImdb/train/pos/._8767_10.txt  \n",
            "  inflating: /content/dataset/aclImdb/train/pos/8768_8.txt  \n",
            "  inflating: /content/dataset/__MACOSX/aclImdb/train/pos/._8768_8.txt  \n",
            "  inflating: /content/dataset/aclImdb/train/pos/8769_7.txt  \n",
            "  inflating: /content/dataset/__MACOSX/aclImdb/train/pos/._8769_7.txt  \n",
            "  inflating: /content/dataset/aclImdb/train/pos/876_7.txt  \n",
            "  inflating: /content/dataset/__MACOSX/aclImdb/train/pos/._876_7.txt  \n",
            "  inflating: /content/dataset/aclImdb/train/pos/8770_7.txt  \n",
            "  inflating: /content/dataset/__MACOSX/aclImdb/train/pos/._8770_7.txt  \n",
            "  inflating: /content/dataset/aclImdb/train/pos/8771_7.txt  \n",
            "  inflating: /content/dataset/__MACOSX/aclImdb/train/pos/._8771_7.txt  \n",
            "  inflating: /content/dataset/aclImdb/train/pos/8772_8.txt  \n",
            "  inflating: /content/dataset/__MACOSX/aclImdb/train/pos/._8772_8.txt  \n",
            "  inflating: /content/dataset/aclImdb/train/pos/8773_8.txt  \n",
            "  inflating: /content/dataset/__MACOSX/aclImdb/train/pos/._8773_8.txt  \n",
            "  inflating: /content/dataset/aclImdb/train/pos/8774_8.txt  \n",
            "  inflating: /content/dataset/__MACOSX/aclImdb/train/pos/._8774_8.txt  \n",
            "  inflating: /content/dataset/aclImdb/train/pos/8775_9.txt  \n",
            "  inflating: /content/dataset/__MACOSX/aclImdb/train/pos/._8775_9.txt  \n",
            "  inflating: /content/dataset/aclImdb/train/pos/8776_10.txt  \n",
            "  inflating: /content/dataset/__MACOSX/aclImdb/train/pos/._8776_10.txt  \n",
            "  inflating: /content/dataset/aclImdb/train/pos/8777_10.txt  \n",
            "  inflating: /content/dataset/__MACOSX/aclImdb/train/pos/._8777_10.txt  \n",
            "  inflating: /content/dataset/aclImdb/train/pos/8778_8.txt  \n",
            "  inflating: /content/dataset/__MACOSX/aclImdb/train/pos/._8778_8.txt  \n",
            "  inflating: /content/dataset/aclImdb/train/pos/8779_8.txt  \n",
            "  inflating: /content/dataset/__MACOSX/aclImdb/train/pos/._8779_8.txt  \n",
            "  inflating: /content/dataset/aclImdb/train/pos/877_8.txt  \n",
            "  inflating: /content/dataset/__MACOSX/aclImdb/train/pos/._877_8.txt  \n",
            "  inflating: /content/dataset/aclImdb/train/pos/8780_10.txt  \n",
            "  inflating: /content/dataset/__MACOSX/aclImdb/train/pos/._8780_10.txt  \n",
            "  inflating: /content/dataset/aclImdb/train/pos/8781_9.txt  \n",
            "  inflating: /content/dataset/__MACOSX/aclImdb/train/pos/._8781_9.txt  \n",
            "  inflating: /content/dataset/aclImdb/train/pos/8782_9.txt  \n",
            "  inflating: /content/dataset/__MACOSX/aclImdb/train/pos/._8782_9.txt  \n",
            "  inflating: /content/dataset/aclImdb/train/pos/8783_9.txt  \n",
            "  inflating: /content/dataset/__MACOSX/aclImdb/train/pos/._8783_9.txt  \n",
            "  inflating: /content/dataset/aclImdb/train/pos/8784_9.txt  \n",
            "  inflating: /content/dataset/__MACOSX/aclImdb/train/pos/._8784_9.txt  \n",
            "  inflating: /content/dataset/aclImdb/train/pos/8785_10.txt  \n",
            "  inflating: /content/dataset/__MACOSX/aclImdb/train/pos/._8785_10.txt  \n",
            "  inflating: /content/dataset/aclImdb/train/pos/8786_8.txt  \n",
            "  inflating: /content/dataset/__MACOSX/aclImdb/train/pos/._8786_8.txt  \n",
            "  inflating: /content/dataset/aclImdb/train/pos/8787_8.txt  \n",
            "  inflating: /content/dataset/__MACOSX/aclImdb/train/pos/._8787_8.txt  \n",
            "  inflating: /content/dataset/aclImdb/train/pos/8788_10.txt  \n",
            "  inflating: /content/dataset/__MACOSX/aclImdb/train/pos/._8788_10.txt  \n",
            "  inflating: /content/dataset/aclImdb/train/pos/8789_10.txt  \n",
            "  inflating: /content/dataset/__MACOSX/aclImdb/train/pos/._8789_10.txt  \n",
            "  inflating: /content/dataset/aclImdb/train/pos/878_7.txt  \n",
            "  inflating: /content/dataset/__MACOSX/aclImdb/train/pos/._878_7.txt  \n",
            "  inflating: /content/dataset/aclImdb/train/pos/8790_8.txt  \n",
            "  inflating: /content/dataset/__MACOSX/aclImdb/train/pos/._8790_8.txt  \n",
            "  inflating: /content/dataset/aclImdb/train/pos/8791_10.txt  \n",
            "  inflating: /content/dataset/__MACOSX/aclImdb/train/pos/._8791_10.txt  \n",
            "  inflating: /content/dataset/aclImdb/train/pos/8792_8.txt  \n",
            "  inflating: /content/dataset/__MACOSX/aclImdb/train/pos/._8792_8.txt  \n",
            "  inflating: /content/dataset/aclImdb/train/pos/8793_10.txt  \n",
            "  inflating: /content/dataset/__MACOSX/aclImdb/train/pos/._8793_10.txt  \n",
            "  inflating: /content/dataset/aclImdb/train/pos/8794_9.txt  \n",
            "  inflating: /content/dataset/__MACOSX/aclImdb/train/pos/._8794_9.txt  \n",
            "  inflating: /content/dataset/aclImdb/train/pos/8795_10.txt  \n",
            "  inflating: /content/dataset/__MACOSX/aclImdb/train/pos/._8795_10.txt  \n",
            "  inflating: /content/dataset/aclImdb/train/pos/8796_8.txt  \n",
            "  inflating: /content/dataset/__MACOSX/aclImdb/train/pos/._8796_8.txt  \n",
            "  inflating: /content/dataset/aclImdb/train/pos/8797_8.txt  \n",
            "  inflating: /content/dataset/__MACOSX/aclImdb/train/pos/._8797_8.txt  \n",
            "  inflating: /content/dataset/aclImdb/train/pos/8798_8.txt  \n",
            "  inflating: /content/dataset/__MACOSX/aclImdb/train/pos/._8798_8.txt  \n",
            "  inflating: /content/dataset/aclImdb/train/pos/8799_8.txt  \n",
            "  inflating: /content/dataset/__MACOSX/aclImdb/train/pos/._8799_8.txt  \n",
            "  inflating: /content/dataset/aclImdb/train/pos/879_8.txt  \n",
            "  inflating: /content/dataset/__MACOSX/aclImdb/train/pos/._879_8.txt  \n",
            "  inflating: /content/dataset/aclImdb/train/pos/87_10.txt  \n",
            "  inflating: /content/dataset/__MACOSX/aclImdb/train/pos/._87_10.txt  \n",
            "  inflating: /content/dataset/aclImdb/train/pos/8800_10.txt  \n",
            "  inflating: /content/dataset/__MACOSX/aclImdb/train/pos/._8800_10.txt  \n",
            "  inflating: /content/dataset/aclImdb/train/pos/8801_9.txt  \n",
            "  inflating: /content/dataset/__MACOSX/aclImdb/train/pos/._8801_9.txt  \n",
            "  inflating: /content/dataset/aclImdb/train/pos/8802_7.txt  \n",
            "  inflating: /content/dataset/__MACOSX/aclImdb/train/pos/._8802_7.txt  \n",
            "  inflating: /content/dataset/aclImdb/train/pos/8803_10.txt  \n",
            "  inflating: /content/dataset/__MACOSX/aclImdb/train/pos/._8803_10.txt  \n",
            "  inflating: /content/dataset/aclImdb/train/pos/8804_10.txt  \n",
            "  inflating: /content/dataset/__MACOSX/aclImdb/train/pos/._8804_10.txt  \n",
            "  inflating: /content/dataset/aclImdb/train/pos/8805_9.txt  \n",
            "  inflating: /content/dataset/__MACOSX/aclImdb/train/pos/._8805_9.txt  \n",
            "  inflating: /content/dataset/aclImdb/train/pos/8806_9.txt  \n",
            "  inflating: /content/dataset/__MACOSX/aclImdb/train/pos/._8806_9.txt  \n",
            "  inflating: /content/dataset/aclImdb/train/pos/8807_9.txt  \n",
            "  inflating: /content/dataset/__MACOSX/aclImdb/train/pos/._8807_9.txt  \n",
            "  inflating: /content/dataset/aclImdb/train/pos/8808_9.txt  \n",
            "  inflating: /content/dataset/__MACOSX/aclImdb/train/pos/._8808_9.txt  \n",
            "  inflating: /content/dataset/aclImdb/train/pos/8809_10.txt  \n",
            "  inflating: /content/dataset/__MACOSX/aclImdb/train/pos/._8809_10.txt  \n",
            "  inflating: /content/dataset/aclImdb/train/pos/880_10.txt  \n",
            "  inflating: /content/dataset/__MACOSX/aclImdb/train/pos/._880_10.txt  \n",
            "  inflating: /content/dataset/aclImdb/train/pos/8810_9.txt  \n",
            "  inflating: /content/dataset/__MACOSX/aclImdb/train/pos/._8810_9.txt  \n",
            "  inflating: /content/dataset/aclImdb/train/pos/8811_7.txt  \n",
            "  inflating: /content/dataset/__MACOSX/aclImdb/train/pos/._8811_7.txt  \n",
            "  inflating: /content/dataset/aclImdb/train/pos/8812_10.txt  \n",
            "  inflating: /content/dataset/__MACOSX/aclImdb/train/pos/._8812_10.txt  \n",
            "  inflating: /content/dataset/aclImdb/train/pos/8813_9.txt  \n",
            "  inflating: /content/dataset/__MACOSX/aclImdb/train/pos/._8813_9.txt  \n",
            "  inflating: /content/dataset/aclImdb/train/pos/8814_10.txt  \n",
            "  inflating: /content/dataset/__MACOSX/aclImdb/train/pos/._8814_10.txt  \n",
            "  inflating: /content/dataset/aclImdb/train/pos/8815_7.txt  \n",
            "  inflating: /content/dataset/__MACOSX/aclImdb/train/pos/._8815_7.txt  \n",
            "  inflating: /content/dataset/aclImdb/train/pos/8816_7.txt  \n",
            "  inflating: /content/dataset/__MACOSX/aclImdb/train/pos/._8816_7.txt  \n",
            "  inflating: /content/dataset/aclImdb/train/pos/8817_8.txt  \n",
            "  inflating: /content/dataset/__MACOSX/aclImdb/train/pos/._8817_8.txt  \n",
            "  inflating: /content/dataset/aclImdb/train/pos/8818_10.txt  \n",
            "  inflating: /content/dataset/__MACOSX/aclImdb/train/pos/._8818_10.txt  \n",
            "  inflating: /content/dataset/aclImdb/train/pos/8819_10.txt  \n",
            "  inflating: /content/dataset/__MACOSX/aclImdb/train/pos/._8819_10.txt  \n",
            "  inflating: /content/dataset/aclImdb/train/pos/881_8.txt  \n",
            "  inflating: /content/dataset/__MACOSX/aclImdb/train/pos/._881_8.txt  \n",
            "  inflating: /content/dataset/aclImdb/train/pos/8820_7.txt  \n",
            "  inflating: /content/dataset/__MACOSX/aclImdb/train/pos/._8820_7.txt  \n",
            "  inflating: /content/dataset/aclImdb/train/pos/8821_9.txt  \n",
            "  inflating: /content/dataset/__MACOSX/aclImdb/train/pos/._8821_9.txt  \n",
            "  inflating: /content/dataset/aclImdb/train/pos/8822_10.txt  \n",
            "  inflating: /content/dataset/__MACOSX/aclImdb/train/pos/._8822_10.txt  \n",
            "  inflating: /content/dataset/aclImdb/train/pos/8823_8.txt  \n",
            "  inflating: /content/dataset/__MACOSX/aclImdb/train/pos/._8823_8.txt  \n",
            "  inflating: /content/dataset/aclImdb/train/pos/8824_8.txt  \n",
            "  inflating: /content/dataset/__MACOSX/aclImdb/train/pos/._8824_8.txt  \n",
            "  inflating: /content/dataset/aclImdb/train/pos/8825_9.txt  \n",
            "  inflating: /content/dataset/__MACOSX/aclImdb/train/pos/._8825_9.txt  \n",
            "  inflating: /content/dataset/aclImdb/train/pos/8826_9.txt  \n",
            "  inflating: /content/dataset/__MACOSX/aclImdb/train/pos/._8826_9.txt  \n",
            "  inflating: /content/dataset/aclImdb/train/pos/8827_8.txt  \n",
            "  inflating: /content/dataset/__MACOSX/aclImdb/train/pos/._8827_8.txt  \n",
            "  inflating: /content/dataset/aclImdb/train/pos/8828_10.txt  \n",
            "  inflating: /content/dataset/__MACOSX/aclImdb/train/pos/._8828_10.txt  \n",
            "  inflating: /content/dataset/aclImdb/train/pos/8829_9.txt  \n",
            "  inflating: /content/dataset/__MACOSX/aclImdb/train/pos/._8829_9.txt  \n",
            "  inflating: /content/dataset/aclImdb/train/pos/882_8.txt  \n",
            "  inflating: /content/dataset/__MACOSX/aclImdb/train/pos/._882_8.txt  \n",
            "  inflating: /content/dataset/aclImdb/train/pos/8830_8.txt  \n",
            "  inflating: /content/dataset/__MACOSX/aclImdb/train/pos/._8830_8.txt  \n",
            "  inflating: /content/dataset/aclImdb/train/pos/8831_8.txt  \n",
            "  inflating: /content/dataset/__MACOSX/aclImdb/train/pos/._8831_8.txt  \n",
            "  inflating: /content/dataset/aclImdb/train/pos/8832_7.txt  \n",
            "  inflating: /content/dataset/__MACOSX/aclImdb/train/pos/._8832_7.txt  \n",
            "  inflating: /content/dataset/aclImdb/train/pos/8833_9.txt  \n",
            "  inflating: /content/dataset/__MACOSX/aclImdb/train/pos/._8833_9.txt  \n",
            "  inflating: /content/dataset/aclImdb/train/pos/8834_9.txt  \n",
            "  inflating: /content/dataset/__MACOSX/aclImdb/train/pos/._8834_9.txt  \n",
            "  inflating: /content/dataset/aclImdb/train/pos/8835_9.txt  \n",
            "  inflating: /content/dataset/__MACOSX/aclImdb/train/pos/._8835_9.txt  \n",
            "  inflating: /content/dataset/aclImdb/train/pos/8836_10.txt  \n",
            "  inflating: /content/dataset/__MACOSX/aclImdb/train/pos/._8836_10.txt  \n",
            "  inflating: /content/dataset/aclImdb/train/pos/8837_8.txt  \n",
            "  inflating: /content/dataset/__MACOSX/aclImdb/train/pos/._8837_8.txt  \n",
            "  inflating: /content/dataset/aclImdb/train/pos/8838_9.txt  \n",
            "  inflating: /content/dataset/__MACOSX/aclImdb/train/pos/._8838_9.txt  \n",
            "  inflating: /content/dataset/aclImdb/train/pos/8839_8.txt  \n",
            "  inflating: /content/dataset/__MACOSX/aclImdb/train/pos/._8839_8.txt  \n",
            "  inflating: /content/dataset/aclImdb/train/pos/883_9.txt  \n",
            "  inflating: /content/dataset/__MACOSX/aclImdb/train/pos/._883_9.txt  \n",
            "  inflating: /content/dataset/aclImdb/train/pos/8840_10.txt  \n",
            "  inflating: /content/dataset/__MACOSX/aclImdb/train/pos/._8840_10.txt  \n",
            "  inflating: /content/dataset/aclImdb/train/pos/8841_8.txt  \n",
            "  inflating: /content/dataset/__MACOSX/aclImdb/train/pos/._8841_8.txt  \n",
            "  inflating: /content/dataset/aclImdb/train/pos/8842_9.txt  \n",
            "  inflating: /content/dataset/__MACOSX/aclImdb/train/pos/._8842_9.txt  \n",
            "  inflating: /content/dataset/aclImdb/train/pos/8843_7.txt  \n",
            "  inflating: /content/dataset/__MACOSX/aclImdb/train/pos/._8843_7.txt  \n",
            "  inflating: /content/dataset/aclImdb/train/pos/8844_10.txt  \n",
            "  inflating: /content/dataset/__MACOSX/aclImdb/train/pos/._8844_10.txt  \n",
            "  inflating: /content/dataset/aclImdb/train/pos/8845_8.txt  \n",
            "  inflating: /content/dataset/__MACOSX/aclImdb/train/pos/._8845_8.txt  \n",
            "  inflating: /content/dataset/aclImdb/train/pos/8846_9.txt  \n",
            "  inflating: /content/dataset/__MACOSX/aclImdb/train/pos/._8846_9.txt  \n",
            "  inflating: /content/dataset/aclImdb/train/pos/8847_9.txt  \n",
            "  inflating: /content/dataset/__MACOSX/aclImdb/train/pos/._8847_9.txt  \n",
            "  inflating: /content/dataset/aclImdb/train/pos/8848_7.txt  \n",
            "  inflating: /content/dataset/__MACOSX/aclImdb/train/pos/._8848_7.txt  \n",
            "  inflating: /content/dataset/aclImdb/train/pos/8849_9.txt  \n",
            "  inflating: /content/dataset/__MACOSX/aclImdb/train/pos/._8849_9.txt  \n",
            "  inflating: /content/dataset/aclImdb/train/pos/884_8.txt  \n",
            "  inflating: /content/dataset/__MACOSX/aclImdb/train/pos/._884_8.txt  \n",
            "  inflating: /content/dataset/aclImdb/train/pos/8850_8.txt  \n",
            "  inflating: /content/dataset/__MACOSX/aclImdb/train/pos/._8850_8.txt  \n",
            "  inflating: /content/dataset/aclImdb/train/pos/8851_7.txt  \n",
            "  inflating: /content/dataset/__MACOSX/aclImdb/train/pos/._8851_7.txt  \n",
            "  inflating: /content/dataset/aclImdb/train/pos/8852_9.txt  \n",
            "  inflating: /content/dataset/__MACOSX/aclImdb/train/pos/._8852_9.txt  \n",
            "  inflating: /content/dataset/aclImdb/train/pos/8853_7.txt  \n",
            "  inflating: /content/dataset/__MACOSX/aclImdb/train/pos/._8853_7.txt  \n",
            "  inflating: /content/dataset/aclImdb/train/pos/8854_10.txt  \n",
            "  inflating: /content/dataset/__MACOSX/aclImdb/train/pos/._8854_10.txt  \n",
            "  inflating: /content/dataset/aclImdb/train/pos/8855_10.txt  \n",
            "  inflating: /content/dataset/__MACOSX/aclImdb/train/pos/._8855_10.txt  \n",
            "  inflating: /content/dataset/aclImdb/train/pos/8856_8.txt  \n",
            "  inflating: /content/dataset/__MACOSX/aclImdb/train/pos/._8856_8.txt  \n",
            "  inflating: /content/dataset/aclImdb/train/pos/8857_10.txt  \n",
            "  inflating: /content/dataset/__MACOSX/aclImdb/train/pos/._8857_10.txt  \n",
            "  inflating: /content/dataset/aclImdb/train/pos/8858_10.txt  \n",
            "  inflating: /content/dataset/__MACOSX/aclImdb/train/pos/._8858_10.txt  \n",
            "  inflating: /content/dataset/aclImdb/train/pos/8859_10.txt  \n",
            "  inflating: /content/dataset/__MACOSX/aclImdb/train/pos/._8859_10.txt  \n",
            "  inflating: /content/dataset/aclImdb/train/pos/885_8.txt  \n",
            "  inflating: /content/dataset/__MACOSX/aclImdb/train/pos/._885_8.txt  \n",
            "  inflating: /content/dataset/aclImdb/train/pos/8860_8.txt  \n",
            "  inflating: /content/dataset/__MACOSX/aclImdb/train/pos/._8860_8.txt  \n",
            "  inflating: /content/dataset/aclImdb/train/pos/8861_9.txt  \n",
            "  inflating: /content/dataset/__MACOSX/aclImdb/train/pos/._8861_9.txt  \n",
            "  inflating: /content/dataset/aclImdb/train/pos/8862_8.txt  \n",
            "  inflating: /content/dataset/__MACOSX/aclImdb/train/pos/._8862_8.txt  \n",
            "  inflating: /content/dataset/aclImdb/train/pos/8863_8.txt  \n",
            "  inflating: /content/dataset/__MACOSX/aclImdb/train/pos/._8863_8.txt  \n",
            "  inflating: /content/dataset/aclImdb/train/pos/8864_10.txt  \n",
            "  inflating: /content/dataset/__MACOSX/aclImdb/train/pos/._8864_10.txt  \n",
            "  inflating: /content/dataset/aclImdb/train/pos/8865_10.txt  \n",
            "  inflating: /content/dataset/__MACOSX/aclImdb/train/pos/._8865_10.txt  \n",
            "  inflating: /content/dataset/aclImdb/train/pos/8866_9.txt  \n",
            "  inflating: /content/dataset/__MACOSX/aclImdb/train/pos/._8866_9.txt  \n",
            "  inflating: /content/dataset/aclImdb/train/pos/8867_10.txt  \n",
            "  inflating: /content/dataset/__MACOSX/aclImdb/train/pos/._8867_10.txt  \n",
            "  inflating: /content/dataset/aclImdb/train/pos/8868_10.txt  \n",
            "  inflating: /content/dataset/__MACOSX/aclImdb/train/pos/._8868_10.txt  \n",
            "  inflating: /content/dataset/aclImdb/train/pos/8869_7.txt  \n",
            "  inflating: /content/dataset/__MACOSX/aclImdb/train/pos/._8869_7.txt  \n",
            "  inflating: /content/dataset/aclImdb/train/pos/886_8.txt  \n",
            "  inflating: /content/dataset/__MACOSX/aclImdb/train/pos/._886_8.txt  \n",
            "  inflating: /content/dataset/aclImdb/train/pos/8870_8.txt  \n",
            "  inflating: /content/dataset/__MACOSX/aclImdb/train/pos/._8870_8.txt  \n",
            "  inflating: /content/dataset/aclImdb/train/pos/8871_10.txt  \n",
            "  inflating: /content/dataset/__MACOSX/aclImdb/train/pos/._8871_10.txt  \n",
            "  inflating: /content/dataset/aclImdb/train/pos/8872_8.txt  \n",
            "  inflating: /content/dataset/__MACOSX/aclImdb/train/pos/._8872_8.txt  \n",
            "  inflating: /content/dataset/aclImdb/train/pos/8873_8.txt  \n",
            "  inflating: /content/dataset/__MACOSX/aclImdb/train/pos/._8873_8.txt  \n",
            "  inflating: /content/dataset/aclImdb/train/pos/8874_8.txt  \n",
            "  inflating: /content/dataset/__MACOSX/aclImdb/train/pos/._8874_8.txt  \n",
            "  inflating: /content/dataset/aclImdb/train/pos/8875_9.txt  \n",
            "  inflating: /content/dataset/__MACOSX/aclImdb/train/pos/._8875_9.txt  \n",
            "  inflating: /content/dataset/aclImdb/train/pos/8876_10.txt  \n",
            "  inflating: /content/dataset/__MACOSX/aclImdb/train/pos/._8876_10.txt  \n",
            "  inflating: /content/dataset/aclImdb/train/pos/8877_9.txt  \n",
            "  inflating: /content/dataset/__MACOSX/aclImdb/train/pos/._8877_9.txt  \n",
            "  inflating: /content/dataset/aclImdb/train/pos/8878_9.txt  \n",
            "  inflating: /content/dataset/__MACOSX/aclImdb/train/pos/._8878_9.txt  \n",
            "  inflating: /content/dataset/aclImdb/train/pos/8879_7.txt  \n",
            "  inflating: /content/dataset/__MACOSX/aclImdb/train/pos/._8879_7.txt  \n",
            "  inflating: /content/dataset/aclImdb/train/pos/887_10.txt  \n",
            "  inflating: /content/dataset/__MACOSX/aclImdb/train/pos/._887_10.txt  \n",
            "  inflating: /content/dataset/aclImdb/train/pos/8880_8.txt  \n",
            "  inflating: /content/dataset/__MACOSX/aclImdb/train/pos/._8880_8.txt  \n",
            "  inflating: /content/dataset/aclImdb/train/pos/8881_8.txt  \n",
            "  inflating: /content/dataset/__MACOSX/aclImdb/train/pos/._8881_8.txt  \n",
            "  inflating: /content/dataset/aclImdb/train/pos/8882_10.txt  \n",
            "  inflating: /content/dataset/__MACOSX/aclImdb/train/pos/._8882_10.txt  \n",
            "  inflating: /content/dataset/aclImdb/train/pos/8883_8.txt  \n",
            "  inflating: /content/dataset/__MACOSX/aclImdb/train/pos/._8883_8.txt  \n",
            "  inflating: /content/dataset/aclImdb/train/pos/8884_9.txt  \n",
            "  inflating: /content/dataset/__MACOSX/aclImdb/train/pos/._8884_9.txt  \n",
            "  inflating: /content/dataset/aclImdb/train/pos/8885_10.txt  \n",
            "  inflating: /content/dataset/__MACOSX/aclImdb/train/pos/._8885_10.txt  \n",
            "  inflating: /content/dataset/aclImdb/train/pos/8886_10.txt  \n",
            "  inflating: /content/dataset/__MACOSX/aclImdb/train/pos/._8886_10.txt  \n",
            "  inflating: /content/dataset/aclImdb/train/pos/8887_9.txt  \n",
            "  inflating: /content/dataset/__MACOSX/aclImdb/train/pos/._8887_9.txt  \n",
            "  inflating: /content/dataset/aclImdb/train/pos/8888_7.txt  \n",
            "  inflating: /content/dataset/__MACOSX/aclImdb/train/pos/._8888_7.txt  \n",
            "  inflating: /content/dataset/aclImdb/train/pos/8889_8.txt  \n",
            "  inflating: /content/dataset/__MACOSX/aclImdb/train/pos/._8889_8.txt  \n",
            "  inflating: /content/dataset/aclImdb/train/pos/888_8.txt  \n",
            "  inflating: /content/dataset/__MACOSX/aclImdb/train/pos/._888_8.txt  \n",
            "  inflating: /content/dataset/aclImdb/train/pos/8890_10.txt  \n",
            "  inflating: /content/dataset/__MACOSX/aclImdb/train/pos/._8890_10.txt  \n",
            "  inflating: /content/dataset/aclImdb/train/pos/8891_10.txt  \n",
            "  inflating: /content/dataset/__MACOSX/aclImdb/train/pos/._8891_10.txt  \n",
            "  inflating: /content/dataset/aclImdb/train/pos/8892_10.txt  \n",
            "  inflating: /content/dataset/__MACOSX/aclImdb/train/pos/._8892_10.txt  \n",
            "  inflating: /content/dataset/aclImdb/train/pos/8893_9.txt  \n",
            "  inflating: /content/dataset/__MACOSX/aclImdb/train/pos/._8893_9.txt  \n",
            "  inflating: /content/dataset/aclImdb/train/pos/8894_10.txt  \n",
            "  inflating: /content/dataset/__MACOSX/aclImdb/train/pos/._8894_10.txt  \n",
            "  inflating: /content/dataset/aclImdb/train/pos/8895_10.txt  \n",
            "  inflating: /content/dataset/__MACOSX/aclImdb/train/pos/._8895_10.txt  \n",
            "  inflating: /content/dataset/aclImdb/train/pos/8896_10.txt  \n",
            "  inflating: /content/dataset/__MACOSX/aclImdb/train/pos/._8896_10.txt  \n",
            "  inflating: /content/dataset/aclImdb/train/pos/8897_10.txt  \n",
            "  inflating: /content/dataset/__MACOSX/aclImdb/train/pos/._8897_10.txt  \n",
            "  inflating: /content/dataset/aclImdb/train/pos/8898_8.txt  \n",
            "  inflating: /content/dataset/__MACOSX/aclImdb/train/pos/._8898_8.txt  \n",
            "  inflating: /content/dataset/aclImdb/train/pos/8899_8.txt  \n",
            "  inflating: /content/dataset/__MACOSX/aclImdb/train/pos/._8899_8.txt  \n",
            "  inflating: /content/dataset/aclImdb/train/pos/889_10.txt  \n",
            "  inflating: /content/dataset/__MACOSX/aclImdb/train/pos/._889_10.txt  \n",
            "  inflating: /content/dataset/aclImdb/train/pos/88_9.txt  \n",
            "  inflating: /content/dataset/__MACOSX/aclImdb/train/pos/._88_9.txt  \n",
            "  inflating: /content/dataset/aclImdb/train/pos/8900_10.txt  \n",
            "  inflating: /content/dataset/__MACOSX/aclImdb/train/pos/._8900_10.txt  \n",
            "  inflating: /content/dataset/aclImdb/train/pos/8901_8.txt  \n",
            "  inflating: /content/dataset/__MACOSX/aclImdb/train/pos/._8901_8.txt  \n",
            "  inflating: /content/dataset/aclImdb/train/pos/8902_7.txt  \n",
            "  inflating: /content/dataset/__MACOSX/aclImdb/train/pos/._8902_7.txt  \n",
            "  inflating: /content/dataset/aclImdb/train/pos/8903_7.txt  \n",
            "  inflating: /content/dataset/__MACOSX/aclImdb/train/pos/._8903_7.txt  \n",
            "  inflating: /content/dataset/aclImdb/train/pos/8904_7.txt  \n",
            "  inflating: /content/dataset/__MACOSX/aclImdb/train/pos/._8904_7.txt  \n",
            "  inflating: /content/dataset/aclImdb/train/pos/8905_10.txt  \n",
            "  inflating: /content/dataset/__MACOSX/aclImdb/train/pos/._8905_10.txt  \n",
            "  inflating: /content/dataset/aclImdb/train/pos/8906_8.txt  \n",
            "  inflating: /content/dataset/__MACOSX/aclImdb/train/pos/._8906_8.txt  \n",
            "  inflating: /content/dataset/aclImdb/train/pos/8907_8.txt  \n",
            "  inflating: /content/dataset/__MACOSX/aclImdb/train/pos/._8907_8.txt  \n",
            "  inflating: /content/dataset/aclImdb/train/pos/8908_10.txt  \n",
            "  inflating: /content/dataset/__MACOSX/aclImdb/train/pos/._8908_10.txt  \n",
            "  inflating: /content/dataset/aclImdb/train/pos/8909_9.txt  \n",
            "  inflating: /content/dataset/__MACOSX/aclImdb/train/pos/._8909_9.txt  \n",
            "  inflating: /content/dataset/aclImdb/train/pos/890_9.txt  \n",
            "  inflating: /content/dataset/__MACOSX/aclImdb/train/pos/._890_9.txt  \n",
            "  inflating: /content/dataset/aclImdb/train/pos/8910_10.txt  \n",
            "  inflating: /content/dataset/__MACOSX/aclImdb/train/pos/._8910_10.txt  \n",
            "  inflating: /content/dataset/aclImdb/train/pos/8911_8.txt  \n",
            "  inflating: /content/dataset/__MACOSX/aclImdb/train/pos/._8911_8.txt  \n",
            "  inflating: /content/dataset/aclImdb/train/pos/8912_10.txt  \n",
            "  inflating: /content/dataset/__MACOSX/aclImdb/train/pos/._8912_10.txt  \n",
            "  inflating: /content/dataset/aclImdb/train/pos/8913_9.txt  \n",
            "  inflating: /content/dataset/__MACOSX/aclImdb/train/pos/._8913_9.txt  \n",
            "  inflating: /content/dataset/aclImdb/train/pos/8914_8.txt  \n",
            "  inflating: /content/dataset/__MACOSX/aclImdb/train/pos/._8914_8.txt  \n",
            "  inflating: /content/dataset/aclImdb/train/pos/8915_10.txt  \n",
            "  inflating: /content/dataset/__MACOSX/aclImdb/train/pos/._8915_10.txt  \n",
            "  inflating: /content/dataset/aclImdb/train/pos/8916_8.txt  \n",
            "  inflating: /content/dataset/__MACOSX/aclImdb/train/pos/._8916_8.txt  \n",
            "  inflating: /content/dataset/aclImdb/train/pos/8917_7.txt  \n",
            "  inflating: /content/dataset/__MACOSX/aclImdb/train/pos/._8917_7.txt  \n",
            "  inflating: /content/dataset/aclImdb/train/pos/8918_10.txt  \n",
            "  inflating: /content/dataset/__MACOSX/aclImdb/train/pos/._8918_10.txt  \n",
            "  inflating: /content/dataset/aclImdb/train/pos/8919_7.txt  \n",
            "  inflating: /content/dataset/__MACOSX/aclImdb/train/pos/._8919_7.txt  \n",
            "  inflating: /content/dataset/aclImdb/train/pos/891_10.txt  \n",
            "  inflating: /content/dataset/__MACOSX/aclImdb/train/pos/._891_10.txt  \n",
            "  inflating: /content/dataset/aclImdb/train/pos/8920_10.txt  \n",
            "  inflating: /content/dataset/__MACOSX/aclImdb/train/pos/._8920_10.txt  \n",
            "  inflating: /content/dataset/aclImdb/train/pos/8921_8.txt  \n",
            "  inflating: /content/dataset/__MACOSX/aclImdb/train/pos/._8921_8.txt  \n",
            "  inflating: /content/dataset/aclImdb/train/pos/8922_7.txt  \n",
            "  inflating: /content/dataset/__MACOSX/aclImdb/train/pos/._8922_7.txt  \n",
            "  inflating: /content/dataset/aclImdb/train/pos/8923_8.txt  \n",
            "  inflating: /content/dataset/__MACOSX/aclImdb/train/pos/._8923_8.txt  \n",
            "  inflating: /content/dataset/aclImdb/train/pos/8924_10.txt  \n",
            "  inflating: /content/dataset/__MACOSX/aclImdb/train/pos/._8924_10.txt  \n",
            "  inflating: /content/dataset/aclImdb/train/pos/8925_7.txt  \n",
            "  inflating: /content/dataset/__MACOSX/aclImdb/train/pos/._8925_7.txt  \n",
            "  inflating: /content/dataset/aclImdb/train/pos/8926_10.txt  \n",
            "  inflating: /content/dataset/__MACOSX/aclImdb/train/pos/._8926_10.txt  \n",
            "  inflating: /content/dataset/aclImdb/train/pos/8927_8.txt  \n",
            "  inflating: /content/dataset/__MACOSX/aclImdb/train/pos/._8927_8.txt  \n",
            "  inflating: /content/dataset/aclImdb/train/pos/8928_10.txt  \n",
            "  inflating: /content/dataset/__MACOSX/aclImdb/train/pos/._8928_10.txt  \n",
            "  inflating: /content/dataset/aclImdb/train/pos/8929_8.txt  \n",
            "  inflating: /content/dataset/__MACOSX/aclImdb/train/pos/._8929_8.txt  \n",
            "  inflating: /content/dataset/aclImdb/train/pos/892_10.txt  \n",
            "  inflating: /content/dataset/__MACOSX/aclImdb/train/pos/._892_10.txt  \n",
            "  inflating: /content/dataset/aclImdb/train/pos/8930_9.txt  \n",
            "  inflating: /content/dataset/__MACOSX/aclImdb/train/pos/._8930_9.txt  \n",
            "  inflating: /content/dataset/aclImdb/train/pos/8931_9.txt  \n",
            "  inflating: /content/dataset/__MACOSX/aclImdb/train/pos/._8931_9.txt  \n",
            "  inflating: /content/dataset/aclImdb/train/pos/8932_9.txt  \n",
            "  inflating: /content/dataset/__MACOSX/aclImdb/train/pos/._8932_9.txt  \n",
            "  inflating: /content/dataset/aclImdb/train/pos/8933_7.txt  \n",
            "  inflating: /content/dataset/__MACOSX/aclImdb/train/pos/._8933_7.txt  \n",
            "  inflating: /content/dataset/aclImdb/train/pos/8934_10.txt  \n",
            "  inflating: /content/dataset/__MACOSX/aclImdb/train/pos/._8934_10.txt  \n",
            "  inflating: /content/dataset/aclImdb/train/pos/8935_8.txt  \n",
            "  inflating: /content/dataset/__MACOSX/aclImdb/train/pos/._8935_8.txt  \n",
            "  inflating: /content/dataset/aclImdb/train/pos/8936_8.txt  \n",
            "  inflating: /content/dataset/__MACOSX/aclImdb/train/pos/._8936_8.txt  \n",
            "  inflating: /content/dataset/aclImdb/train/pos/8937_9.txt  \n",
            "  inflating: /content/dataset/__MACOSX/aclImdb/train/pos/._8937_9.txt  \n",
            "  inflating: /content/dataset/aclImdb/train/pos/8938_9.txt  \n",
            "  inflating: /content/dataset/__MACOSX/aclImdb/train/pos/._8938_9.txt  \n",
            "  inflating: /content/dataset/aclImdb/train/pos/8939_9.txt  \n",
            "  inflating: /content/dataset/__MACOSX/aclImdb/train/pos/._8939_9.txt  \n",
            "  inflating: /content/dataset/aclImdb/train/pos/893_8.txt  \n",
            "  inflating: /content/dataset/__MACOSX/aclImdb/train/pos/._893_8.txt  \n",
            "  inflating: /content/dataset/aclImdb/train/pos/8940_9.txt  \n",
            "  inflating: /content/dataset/__MACOSX/aclImdb/train/pos/._8940_9.txt  \n",
            "  inflating: /content/dataset/aclImdb/train/pos/8941_10.txt  \n",
            "  inflating: /content/dataset/__MACOSX/aclImdb/train/pos/._8941_10.txt  \n",
            "  inflating: /content/dataset/aclImdb/train/pos/8942_8.txt  \n",
            "  inflating: /content/dataset/__MACOSX/aclImdb/train/pos/._8942_8.txt  \n",
            "  inflating: /content/dataset/aclImdb/train/pos/8943_7.txt  \n",
            "  inflating: /content/dataset/__MACOSX/aclImdb/train/pos/._8943_7.txt  \n",
            "  inflating: /content/dataset/aclImdb/train/pos/8944_8.txt  \n",
            "  inflating: /content/dataset/__MACOSX/aclImdb/train/pos/._8944_8.txt  \n",
            "  inflating: /content/dataset/aclImdb/train/pos/8945_10.txt  \n",
            "  inflating: /content/dataset/__MACOSX/aclImdb/train/pos/._8945_10.txt  \n",
            "  inflating: /content/dataset/aclImdb/train/pos/8946_8.txt  \n",
            "  inflating: /content/dataset/__MACOSX/aclImdb/train/pos/._8946_8.txt  \n",
            "  inflating: /content/dataset/aclImdb/train/pos/8947_9.txt  \n",
            "  inflating: /content/dataset/__MACOSX/aclImdb/train/pos/._8947_9.txt  \n",
            "  inflating: /content/dataset/aclImdb/train/pos/8948_7.txt  \n",
            "  inflating: /content/dataset/__MACOSX/aclImdb/train/pos/._8948_7.txt  \n",
            "  inflating: /content/dataset/aclImdb/train/pos/8949_7.txt  \n",
            "  inflating: /content/dataset/__MACOSX/aclImdb/train/pos/._8949_7.txt  \n",
            "  inflating: /content/dataset/aclImdb/train/pos/894_9.txt  \n",
            "  inflating: /content/dataset/__MACOSX/aclImdb/train/pos/._894_9.txt  \n",
            "  inflating: /content/dataset/aclImdb/train/pos/8950_7.txt  \n",
            "  inflating: /content/dataset/__MACOSX/aclImdb/train/pos/._8950_7.txt  \n",
            "  inflating: /content/dataset/aclImdb/train/pos/8951_7.txt  \n",
            "  inflating: /content/dataset/__MACOSX/aclImdb/train/pos/._8951_7.txt  \n",
            "  inflating: /content/dataset/aclImdb/train/pos/8952_7.txt  \n",
            "  inflating: /content/dataset/__MACOSX/aclImdb/train/pos/._8952_7.txt  \n",
            "  inflating: /content/dataset/aclImdb/train/pos/8953_8.txt  \n",
            "  inflating: /content/dataset/__MACOSX/aclImdb/train/pos/._8953_8.txt  \n",
            "  inflating: /content/dataset/aclImdb/train/pos/8954_8.txt  \n",
            "  inflating: /content/dataset/__MACOSX/aclImdb/train/pos/._8954_8.txt  \n",
            "  inflating: /content/dataset/aclImdb/train/pos/8955_8.txt  \n",
            "  inflating: /content/dataset/__MACOSX/aclImdb/train/pos/._8955_8.txt  \n",
            "  inflating: /content/dataset/aclImdb/train/pos/8956_8.txt  \n",
            "  inflating: /content/dataset/__MACOSX/aclImdb/train/pos/._8956_8.txt  \n",
            "  inflating: /content/dataset/aclImdb/train/pos/8957_7.txt  \n",
            "  inflating: /content/dataset/__MACOSX/aclImdb/train/pos/._8957_7.txt  \n",
            "  inflating: /content/dataset/aclImdb/train/pos/8958_10.txt  \n",
            "  inflating: /content/dataset/__MACOSX/aclImdb/train/pos/._8958_10.txt  \n",
            "  inflating: /content/dataset/aclImdb/train/pos/8959_8.txt  \n",
            "  inflating: /content/dataset/__MACOSX/aclImdb/train/pos/._8959_8.txt  \n",
            "  inflating: /content/dataset/aclImdb/train/pos/895_10.txt  \n",
            "  inflating: /content/dataset/__MACOSX/aclImdb/train/pos/._895_10.txt  \n",
            "  inflating: /content/dataset/aclImdb/train/pos/8960_10.txt  \n",
            "  inflating: /content/dataset/__MACOSX/aclImdb/train/pos/._8960_10.txt  \n",
            "  inflating: /content/dataset/aclImdb/train/pos/8961_9.txt  \n",
            "  inflating: /content/dataset/__MACOSX/aclImdb/train/pos/._8961_9.txt  \n",
            "  inflating: /content/dataset/aclImdb/train/pos/8962_9.txt  \n",
            "  inflating: /content/dataset/__MACOSX/aclImdb/train/pos/._8962_9.txt  \n",
            "  inflating: /content/dataset/aclImdb/train/pos/8963_8.txt  \n",
            "  inflating: /content/dataset/__MACOSX/aclImdb/train/pos/._8963_8.txt  \n",
            "  inflating: /content/dataset/aclImdb/train/pos/8964_8.txt  \n",
            "  inflating: /content/dataset/__MACOSX/aclImdb/train/pos/._8964_8.txt  \n",
            "  inflating: /content/dataset/aclImdb/train/pos/8965_8.txt  \n",
            "  inflating: /content/dataset/__MACOSX/aclImdb/train/pos/._8965_8.txt  \n",
            "  inflating: /content/dataset/aclImdb/train/pos/8966_10.txt  \n",
            "  inflating: /content/dataset/__MACOSX/aclImdb/train/pos/._8966_10.txt  \n",
            "  inflating: /content/dataset/aclImdb/train/pos/8967_8.txt  \n",
            "  inflating: /content/dataset/__MACOSX/aclImdb/train/pos/._8967_8.txt  \n",
            "  inflating: /content/dataset/aclImdb/train/pos/8968_8.txt  \n",
            "  inflating: /content/dataset/__MACOSX/aclImdb/train/pos/._8968_8.txt  \n",
            "  inflating: /content/dataset/aclImdb/train/pos/8969_7.txt  \n",
            "  inflating: /content/dataset/__MACOSX/aclImdb/train/pos/._8969_7.txt  \n",
            "  inflating: /content/dataset/aclImdb/train/pos/896_10.txt  \n",
            "  inflating: /content/dataset/__MACOSX/aclImdb/train/pos/._896_10.txt  \n",
            "  inflating: /content/dataset/aclImdb/train/pos/8970_10.txt  \n",
            "  inflating: /content/dataset/__MACOSX/aclImdb/train/pos/._8970_10.txt  \n",
            "  inflating: /content/dataset/aclImdb/train/pos/8971_9.txt  \n",
            "  inflating: /content/dataset/__MACOSX/aclImdb/train/pos/._8971_9.txt  \n",
            "  inflating: /content/dataset/aclImdb/train/pos/8972_10.txt  \n",
            "  inflating: /content/dataset/__MACOSX/aclImdb/train/pos/._8972_10.txt  \n",
            "  inflating: /content/dataset/aclImdb/train/pos/8973_9.txt  \n",
            "  inflating: /content/dataset/__MACOSX/aclImdb/train/pos/._8973_9.txt  \n",
            "  inflating: /content/dataset/aclImdb/train/pos/8974_10.txt  \n",
            "  inflating: /content/dataset/__MACOSX/aclImdb/train/pos/._8974_10.txt  \n",
            "  inflating: /content/dataset/aclImdb/train/pos/8975_10.txt  \n",
            "  inflating: /content/dataset/__MACOSX/aclImdb/train/pos/._8975_10.txt  \n",
            "  inflating: /content/dataset/aclImdb/train/pos/8976_7.txt  \n",
            "  inflating: /content/dataset/__MACOSX/aclImdb/train/pos/._8976_7.txt  \n",
            "  inflating: /content/dataset/aclImdb/train/pos/8977_7.txt  \n",
            "  inflating: /content/dataset/__MACOSX/aclImdb/train/pos/._8977_7.txt  \n",
            "  inflating: /content/dataset/aclImdb/train/pos/8978_10.txt  \n",
            "  inflating: /content/dataset/__MACOSX/aclImdb/train/pos/._8978_10.txt  \n",
            "  inflating: /content/dataset/aclImdb/train/pos/8979_10.txt  \n",
            "  inflating: /content/dataset/__MACOSX/aclImdb/train/pos/._8979_10.txt  \n",
            "  inflating: /content/dataset/aclImdb/train/pos/897_10.txt  \n",
            "  inflating: /content/dataset/__MACOSX/aclImdb/train/pos/._897_10.txt  \n",
            "  inflating: /content/dataset/aclImdb/train/pos/8980_10.txt  \n",
            "  inflating: /content/dataset/__MACOSX/aclImdb/train/pos/._8980_10.txt  \n",
            "  inflating: /content/dataset/aclImdb/train/pos/8981_7.txt  \n",
            "  inflating: /content/dataset/__MACOSX/aclImdb/train/pos/._8981_7.txt  \n",
            "  inflating: /content/dataset/aclImdb/train/pos/8982_8.txt  \n",
            "  inflating: /content/dataset/__MACOSX/aclImdb/train/pos/._8982_8.txt  \n",
            "  inflating: /content/dataset/aclImdb/train/pos/8983_8.txt  \n",
            "  inflating: /content/dataset/__MACOSX/aclImdb/train/pos/._8983_8.txt  \n",
            "  inflating: /content/dataset/aclImdb/train/pos/8984_10.txt  \n",
            "  inflating: /content/dataset/__MACOSX/aclImdb/train/pos/._8984_10.txt  \n",
            "  inflating: /content/dataset/aclImdb/train/pos/8985_9.txt  \n",
            "  inflating: /content/dataset/__MACOSX/aclImdb/train/pos/._8985_9.txt  \n",
            "  inflating: /content/dataset/aclImdb/train/pos/8986_8.txt  \n",
            "  inflating: /content/dataset/__MACOSX/aclImdb/train/pos/._8986_8.txt  \n",
            "  inflating: /content/dataset/aclImdb/train/pos/8987_9.txt  \n",
            "  inflating: /content/dataset/__MACOSX/aclImdb/train/pos/._8987_9.txt  \n",
            "  inflating: /content/dataset/aclImdb/train/pos/8988_10.txt  \n",
            "  inflating: /content/dataset/__MACOSX/aclImdb/train/pos/._8988_10.txt  \n",
            "  inflating: /content/dataset/aclImdb/train/pos/8989_9.txt  \n",
            "  inflating: /content/dataset/__MACOSX/aclImdb/train/pos/._8989_9.txt  \n",
            "  inflating: /content/dataset/aclImdb/train/pos/898_10.txt  \n",
            "  inflating: /content/dataset/__MACOSX/aclImdb/train/pos/._898_10.txt  \n",
            "  inflating: /content/dataset/aclImdb/train/pos/8990_10.txt  \n",
            "  inflating: /content/dataset/__MACOSX/aclImdb/train/pos/._8990_10.txt  \n",
            "  inflating: /content/dataset/aclImdb/train/pos/8991_10.txt  \n",
            "  inflating: /content/dataset/__MACOSX/aclImdb/train/pos/._8991_10.txt  \n",
            "  inflating: /content/dataset/aclImdb/train/pos/8992_9.txt  \n",
            "  inflating: /content/dataset/__MACOSX/aclImdb/train/pos/._8992_9.txt  \n",
            "  inflating: /content/dataset/aclImdb/train/pos/8993_7.txt  \n",
            "  inflating: /content/dataset/__MACOSX/aclImdb/train/pos/._8993_7.txt  \n",
            "  inflating: /content/dataset/aclImdb/train/pos/8994_8.txt  \n",
            "  inflating: /content/dataset/__MACOSX/aclImdb/train/pos/._8994_8.txt  \n",
            "  inflating: /content/dataset/aclImdb/train/pos/8995_9.txt  \n",
            "  inflating: /content/dataset/__MACOSX/aclImdb/train/pos/._8995_9.txt  \n",
            "  inflating: /content/dataset/aclImdb/train/pos/8996_8.txt  \n",
            "  inflating: /content/dataset/__MACOSX/aclImdb/train/pos/._8996_8.txt  \n",
            "  inflating: /content/dataset/aclImdb/train/pos/8997_10.txt  \n",
            "  inflating: /content/dataset/__MACOSX/aclImdb/train/pos/._8997_10.txt  \n",
            "  inflating: /content/dataset/aclImdb/train/pos/8998_10.txt  \n",
            "  inflating: /content/dataset/__MACOSX/aclImdb/train/pos/._8998_10.txt  \n",
            "  inflating: /content/dataset/aclImdb/train/pos/8999_8.txt  \n",
            "  inflating: /content/dataset/__MACOSX/aclImdb/train/pos/._8999_8.txt  \n",
            "  inflating: /content/dataset/aclImdb/train/pos/899_7.txt  \n",
            "  inflating: /content/dataset/__MACOSX/aclImdb/train/pos/._899_7.txt  \n",
            "  inflating: /content/dataset/aclImdb/train/pos/89_7.txt  \n",
            "  inflating: /content/dataset/__MACOSX/aclImdb/train/pos/._89_7.txt  \n",
            "  inflating: /content/dataset/aclImdb/train/pos/8_7.txt  \n",
            "  inflating: /content/dataset/__MACOSX/aclImdb/train/pos/._8_7.txt  \n",
            "  inflating: /content/dataset/aclImdb/train/pos/9000_10.txt  \n",
            "  inflating: /content/dataset/__MACOSX/aclImdb/train/pos/._9000_10.txt  \n",
            "  inflating: /content/dataset/aclImdb/train/pos/9001_8.txt  \n",
            "  inflating: /content/dataset/__MACOSX/aclImdb/train/pos/._9001_8.txt  \n",
            "  inflating: /content/dataset/aclImdb/train/pos/9002_9.txt  \n",
            "  inflating: /content/dataset/__MACOSX/aclImdb/train/pos/._9002_9.txt  \n",
            "  inflating: /content/dataset/aclImdb/train/pos/9003_10.txt  \n",
            "  inflating: /content/dataset/__MACOSX/aclImdb/train/pos/._9003_10.txt  \n",
            "  inflating: /content/dataset/aclImdb/train/pos/9004_7.txt  \n",
            "  inflating: /content/dataset/__MACOSX/aclImdb/train/pos/._9004_7.txt  \n",
            "  inflating: /content/dataset/aclImdb/train/pos/9005_8.txt  \n",
            "  inflating: /content/dataset/__MACOSX/aclImdb/train/pos/._9005_8.txt  \n",
            "  inflating: /content/dataset/aclImdb/train/pos/9006_7.txt  \n",
            "  inflating: /content/dataset/__MACOSX/aclImdb/train/pos/._9006_7.txt  \n",
            "  inflating: /content/dataset/aclImdb/train/pos/9007_10.txt  \n",
            "  inflating: /content/dataset/__MACOSX/aclImdb/train/pos/._9007_10.txt  \n",
            "  inflating: /content/dataset/aclImdb/train/pos/9008_10.txt  \n",
            "  inflating: /content/dataset/__MACOSX/aclImdb/train/pos/._9008_10.txt  \n",
            "  inflating: /content/dataset/aclImdb/train/pos/9009_10.txt  \n",
            "  inflating: /content/dataset/__MACOSX/aclImdb/train/pos/._9009_10.txt  \n",
            "  inflating: /content/dataset/aclImdb/train/pos/900_10.txt  \n",
            "  inflating: /content/dataset/__MACOSX/aclImdb/train/pos/._900_10.txt  \n",
            "  inflating: /content/dataset/aclImdb/train/pos/9010_7.txt  \n",
            "  inflating: /content/dataset/__MACOSX/aclImdb/train/pos/._9010_7.txt  \n",
            "  inflating: /content/dataset/aclImdb/train/pos/9011_9.txt  \n",
            "  inflating: /content/dataset/__MACOSX/aclImdb/train/pos/._9011_9.txt  \n",
            "  inflating: /content/dataset/aclImdb/train/pos/9012_7.txt  \n",
            "  inflating: /content/dataset/__MACOSX/aclImdb/train/pos/._9012_7.txt  \n",
            "  inflating: /content/dataset/aclImdb/train/pos/9013_7.txt  \n",
            "  inflating: /content/dataset/__MACOSX/aclImdb/train/pos/._9013_7.txt  \n",
            "  inflating: /content/dataset/aclImdb/train/pos/9014_10.txt  \n",
            "  inflating: /content/dataset/__MACOSX/aclImdb/train/pos/._9014_10.txt  \n",
            "  inflating: /content/dataset/aclImdb/train/pos/9015_8.txt  \n",
            "  inflating: /content/dataset/__MACOSX/aclImdb/train/pos/._9015_8.txt  \n",
            "  inflating: /content/dataset/aclImdb/train/pos/9016_10.txt  \n",
            "  inflating: /content/dataset/__MACOSX/aclImdb/train/pos/._9016_10.txt  \n",
            "  inflating: /content/dataset/aclImdb/train/pos/9017_8.txt  \n",
            "  inflating: /content/dataset/__MACOSX/aclImdb/train/pos/._9017_8.txt  \n",
            "  inflating: /content/dataset/aclImdb/train/pos/9018_8.txt  \n",
            "  inflating: /content/dataset/__MACOSX/aclImdb/train/pos/._9018_8.txt  \n",
            "  inflating: /content/dataset/aclImdb/train/pos/9019_8.txt  \n",
            "  inflating: /content/dataset/__MACOSX/aclImdb/train/pos/._9019_8.txt  \n",
            "  inflating: /content/dataset/aclImdb/train/pos/901_8.txt  \n",
            "  inflating: /content/dataset/__MACOSX/aclImdb/train/pos/._901_8.txt  \n",
            "  inflating: /content/dataset/aclImdb/train/pos/9020_7.txt  \n",
            "  inflating: /content/dataset/__MACOSX/aclImdb/train/pos/._9020_7.txt  \n",
            "  inflating: /content/dataset/aclImdb/train/pos/9021_10.txt  \n",
            "  inflating: /content/dataset/__MACOSX/aclImdb/train/pos/._9021_10.txt  \n",
            "  inflating: /content/dataset/aclImdb/train/pos/9022_10.txt  \n",
            "  inflating: /content/dataset/__MACOSX/aclImdb/train/pos/._9022_10.txt  \n",
            "  inflating: /content/dataset/aclImdb/train/pos/9023_10.txt  \n",
            "  inflating: /content/dataset/__MACOSX/aclImdb/train/pos/._9023_10.txt  \n",
            "  inflating: /content/dataset/aclImdb/train/pos/9024_10.txt  \n",
            "  inflating: /content/dataset/__MACOSX/aclImdb/train/pos/._9024_10.txt  \n",
            "  inflating: /content/dataset/aclImdb/train/pos/9025_9.txt  \n",
            "  inflating: /content/dataset/__MACOSX/aclImdb/train/pos/._9025_9.txt  \n",
            "  inflating: /content/dataset/aclImdb/train/pos/9026_9.txt  \n",
            "  inflating: /content/dataset/__MACOSX/aclImdb/train/pos/._9026_9.txt  \n",
            "  inflating: /content/dataset/aclImdb/train/pos/9027_7.txt  \n",
            "  inflating: /content/dataset/__MACOSX/aclImdb/train/pos/._9027_7.txt  \n",
            "  inflating: /content/dataset/aclImdb/train/pos/9028_10.txt  \n",
            "  inflating: /content/dataset/__MACOSX/aclImdb/train/pos/._9028_10.txt  \n",
            "  inflating: /content/dataset/aclImdb/train/pos/9029_10.txt  \n",
            "  inflating: /content/dataset/__MACOSX/aclImdb/train/pos/._9029_10.txt  \n",
            "  inflating: /content/dataset/aclImdb/train/pos/902_9.txt  \n",
            "  inflating: /content/dataset/__MACOSX/aclImdb/train/pos/._902_9.txt  \n",
            "  inflating: /content/dataset/aclImdb/train/pos/9030_10.txt  \n",
            "  inflating: /content/dataset/__MACOSX/aclImdb/train/pos/._9030_10.txt  \n",
            "  inflating: /content/dataset/aclImdb/train/pos/9031_10.txt  \n",
            "  inflating: /content/dataset/__MACOSX/aclImdb/train/pos/._9031_10.txt  \n",
            "  inflating: /content/dataset/aclImdb/train/pos/9032_8.txt  \n",
            "  inflating: /content/dataset/__MACOSX/aclImdb/train/pos/._9032_8.txt  \n",
            "  inflating: /content/dataset/aclImdb/train/pos/9033_9.txt  \n",
            "  inflating: /content/dataset/__MACOSX/aclImdb/train/pos/._9033_9.txt  \n",
            "  inflating: /content/dataset/aclImdb/train/pos/9034_10.txt  \n",
            "  inflating: /content/dataset/__MACOSX/aclImdb/train/pos/._9034_10.txt  \n",
            "  inflating: /content/dataset/aclImdb/train/pos/9035_10.txt  \n",
            "  inflating: /content/dataset/__MACOSX/aclImdb/train/pos/._9035_10.txt  \n",
            "  inflating: /content/dataset/aclImdb/train/pos/9036_10.txt  \n",
            "  inflating: /content/dataset/__MACOSX/aclImdb/train/pos/._9036_10.txt  \n",
            "  inflating: /content/dataset/aclImdb/train/pos/9037_8.txt  \n",
            "  inflating: /content/dataset/__MACOSX/aclImdb/train/pos/._9037_8.txt  \n",
            "  inflating: /content/dataset/aclImdb/train/pos/9038_8.txt  \n",
            "  inflating: /content/dataset/__MACOSX/aclImdb/train/pos/._9038_8.txt  \n",
            "  inflating: /content/dataset/aclImdb/train/pos/9039_10.txt  \n",
            "  inflating: /content/dataset/__MACOSX/aclImdb/train/pos/._9039_10.txt  \n",
            "  inflating: /content/dataset/aclImdb/train/pos/903_8.txt  \n",
            "  inflating: /content/dataset/__MACOSX/aclImdb/train/pos/._903_8.txt  \n",
            "  inflating: /content/dataset/aclImdb/train/pos/9040_9.txt  \n",
            "  inflating: /content/dataset/__MACOSX/aclImdb/train/pos/._9040_9.txt  \n",
            "  inflating: /content/dataset/aclImdb/train/pos/9041_8.txt  \n",
            "  inflating: /content/dataset/__MACOSX/aclImdb/train/pos/._9041_8.txt  \n",
            "  inflating: /content/dataset/aclImdb/train/pos/9042_10.txt  \n",
            "  inflating: /content/dataset/__MACOSX/aclImdb/train/pos/._9042_10.txt  \n",
            "  inflating: /content/dataset/aclImdb/train/pos/9043_7.txt  \n",
            "  inflating: /content/dataset/__MACOSX/aclImdb/train/pos/._9043_7.txt  \n",
            "  inflating: /content/dataset/aclImdb/train/pos/9044_9.txt  \n",
            "  inflating: /content/dataset/__MACOSX/aclImdb/train/pos/._9044_9.txt  \n",
            "  inflating: /content/dataset/aclImdb/train/pos/9045_9.txt  \n",
            "  inflating: /content/dataset/__MACOSX/aclImdb/train/pos/._9045_9.txt  \n",
            "  inflating: /content/dataset/aclImdb/train/pos/9046_8.txt  \n",
            "  inflating: /content/dataset/__MACOSX/aclImdb/train/pos/._9046_8.txt  \n",
            "  inflating: /content/dataset/aclImdb/train/pos/9047_10.txt  \n",
            "  inflating: /content/dataset/__MACOSX/aclImdb/train/pos/._9047_10.txt  \n",
            "  inflating: /content/dataset/aclImdb/train/pos/9048_8.txt  \n",
            "  inflating: /content/dataset/__MACOSX/aclImdb/train/pos/._9048_8.txt  \n",
            "  inflating: /content/dataset/aclImdb/train/pos/9049_8.txt  \n",
            "  inflating: /content/dataset/__MACOSX/aclImdb/train/pos/._9049_8.txt  \n",
            "  inflating: /content/dataset/aclImdb/train/pos/904_10.txt  \n",
            "  inflating: /content/dataset/__MACOSX/aclImdb/train/pos/._904_10.txt  \n",
            "  inflating: /content/dataset/aclImdb/train/pos/9050_8.txt  \n",
            "  inflating: /content/dataset/__MACOSX/aclImdb/train/pos/._9050_8.txt  \n",
            "  inflating: /content/dataset/aclImdb/train/pos/9051_10.txt  \n",
            "  inflating: /content/dataset/__MACOSX/aclImdb/train/pos/._9051_10.txt  \n",
            "  inflating: /content/dataset/aclImdb/train/pos/9052_8.txt  \n",
            "  inflating: /content/dataset/__MACOSX/aclImdb/train/pos/._9052_8.txt  \n",
            "  inflating: /content/dataset/aclImdb/train/pos/9053_10.txt  \n",
            "  inflating: /content/dataset/__MACOSX/aclImdb/train/pos/._9053_10.txt  \n",
            "  inflating: /content/dataset/aclImdb/train/pos/9054_9.txt  \n",
            "  inflating: /content/dataset/__MACOSX/aclImdb/train/pos/._9054_9.txt  \n",
            "  inflating: /content/dataset/aclImdb/train/pos/9055_10.txt  \n",
            "  inflating: /content/dataset/__MACOSX/aclImdb/train/pos/._9055_10.txt  \n",
            "  inflating: /content/dataset/aclImdb/train/pos/9056_8.txt  \n",
            "  inflating: /content/dataset/__MACOSX/aclImdb/train/pos/._9056_8.txt  \n",
            "  inflating: /content/dataset/aclImdb/train/pos/9057_7.txt  \n",
            "  inflating: /content/dataset/__MACOSX/aclImdb/train/pos/._9057_7.txt  \n",
            "  inflating: /content/dataset/aclImdb/train/pos/9058_7.txt  \n",
            "  inflating: /content/dataset/__MACOSX/aclImdb/train/pos/._9058_7.txt  \n",
            "  inflating: /content/dataset/aclImdb/train/pos/9059_7.txt  \n",
            "  inflating: /content/dataset/__MACOSX/aclImdb/train/pos/._9059_7.txt  \n",
            "  inflating: /content/dataset/aclImdb/train/pos/905_10.txt  \n",
            "  inflating: /content/dataset/__MACOSX/aclImdb/train/pos/._905_10.txt  \n",
            "  inflating: /content/dataset/aclImdb/train/pos/9060_8.txt  \n",
            "  inflating: /content/dataset/__MACOSX/aclImdb/train/pos/._9060_8.txt  \n",
            "  inflating: /content/dataset/aclImdb/train/pos/9061_7.txt  \n",
            "  inflating: /content/dataset/__MACOSX/aclImdb/train/pos/._9061_7.txt  \n",
            "  inflating: /content/dataset/aclImdb/train/pos/9062_7.txt  \n",
            "  inflating: /content/dataset/__MACOSX/aclImdb/train/pos/._9062_7.txt  \n",
            "  inflating: /content/dataset/aclImdb/train/pos/9063_8.txt  \n",
            "  inflating: /content/dataset/__MACOSX/aclImdb/train/pos/._9063_8.txt  \n",
            "  inflating: /content/dataset/aclImdb/train/pos/9064_7.txt  \n",
            "  inflating: /content/dataset/__MACOSX/aclImdb/train/pos/._9064_7.txt  \n",
            "  inflating: /content/dataset/aclImdb/train/pos/9065_10.txt  \n",
            "  inflating: /content/dataset/__MACOSX/aclImdb/train/pos/._9065_10.txt  \n",
            "  inflating: /content/dataset/aclImdb/train/pos/9066_8.txt  \n",
            "  inflating: /content/dataset/__MACOSX/aclImdb/train/pos/._9066_8.txt  \n",
            "  inflating: /content/dataset/aclImdb/train/pos/9067_8.txt  \n",
            "  inflating: /content/dataset/__MACOSX/aclImdb/train/pos/._9067_8.txt  \n",
            "  inflating: /content/dataset/aclImdb/train/pos/9068_9.txt  \n",
            "  inflating: /content/dataset/__MACOSX/aclImdb/train/pos/._9068_9.txt  \n",
            "  inflating: /content/dataset/aclImdb/train/pos/9069_7.txt  \n",
            "  inflating: /content/dataset/__MACOSX/aclImdb/train/pos/._9069_7.txt  \n",
            "  inflating: /content/dataset/aclImdb/train/pos/906_10.txt  \n",
            "  inflating: /content/dataset/__MACOSX/aclImdb/train/pos/._906_10.txt  \n",
            "  inflating: /content/dataset/aclImdb/train/pos/9070_7.txt  \n",
            "  inflating: /content/dataset/__MACOSX/aclImdb/train/pos/._9070_7.txt  \n",
            "  inflating: /content/dataset/aclImdb/train/pos/9071_8.txt  \n",
            "  inflating: /content/dataset/__MACOSX/aclImdb/train/pos/._9071_8.txt  \n",
            "  inflating: /content/dataset/aclImdb/train/pos/9072_9.txt  \n",
            "  inflating: /content/dataset/__MACOSX/aclImdb/train/pos/._9072_9.txt  \n",
            "  inflating: /content/dataset/aclImdb/train/pos/9073_10.txt  \n",
            "  inflating: /content/dataset/__MACOSX/aclImdb/train/pos/._9073_10.txt  \n",
            "  inflating: /content/dataset/aclImdb/train/pos/9074_8.txt  \n",
            "  inflating: /content/dataset/__MACOSX/aclImdb/train/pos/._9074_8.txt  \n",
            "  inflating: /content/dataset/aclImdb/train/pos/9075_10.txt  \n",
            "  inflating: /content/dataset/__MACOSX/aclImdb/train/pos/._9075_10.txt  \n",
            "  inflating: /content/dataset/aclImdb/train/pos/9076_8.txt  \n",
            "  inflating: /content/dataset/__MACOSX/aclImdb/train/pos/._9076_8.txt  \n",
            "  inflating: /content/dataset/aclImdb/train/pos/9077_9.txt  \n",
            "  inflating: /content/dataset/__MACOSX/aclImdb/train/pos/._9077_9.txt  \n",
            "  inflating: /content/dataset/aclImdb/train/pos/9078_7.txt  \n",
            "  inflating: /content/dataset/__MACOSX/aclImdb/train/pos/._9078_7.txt  \n",
            "  inflating: /content/dataset/aclImdb/train/pos/9079_10.txt  \n",
            "  inflating: /content/dataset/__MACOSX/aclImdb/train/pos/._9079_10.txt  \n",
            "  inflating: /content/dataset/aclImdb/train/pos/907_8.txt  \n",
            "  inflating: /content/dataset/__MACOSX/aclImdb/train/pos/._907_8.txt  \n",
            "  inflating: /content/dataset/aclImdb/train/pos/9080_7.txt  \n",
            "  inflating: /content/dataset/__MACOSX/aclImdb/train/pos/._9080_7.txt  \n",
            "  inflating: /content/dataset/aclImdb/train/pos/9081_8.txt  \n",
            "  inflating: /content/dataset/__MACOSX/aclImdb/train/pos/._9081_8.txt  \n",
            "  inflating: /content/dataset/aclImdb/train/pos/9082_10.txt  \n",
            "  inflating: /content/dataset/__MACOSX/aclImdb/train/pos/._9082_10.txt  \n",
            "  inflating: /content/dataset/aclImdb/train/pos/9083_8.txt  \n",
            "  inflating: /content/dataset/__MACOSX/aclImdb/train/pos/._9083_8.txt  \n",
            "  inflating: /content/dataset/aclImdb/train/pos/9084_7.txt  \n",
            "  inflating: /content/dataset/__MACOSX/aclImdb/train/pos/._9084_7.txt  \n",
            "  inflating: /content/dataset/aclImdb/train/pos/9085_8.txt  \n",
            "  inflating: /content/dataset/__MACOSX/aclImdb/train/pos/._9085_8.txt  \n",
            "  inflating: /content/dataset/aclImdb/train/pos/9086_7.txt  \n",
            "  inflating: /content/dataset/__MACOSX/aclImdb/train/pos/._9086_7.txt  \n",
            "  inflating: /content/dataset/aclImdb/train/pos/9087_7.txt  \n",
            "  inflating: /content/dataset/__MACOSX/aclImdb/train/pos/._9087_7.txt  \n",
            "  inflating: /content/dataset/aclImdb/train/pos/9088_8.txt  \n",
            "  inflating: /content/dataset/__MACOSX/aclImdb/train/pos/._9088_8.txt  \n",
            "  inflating: /content/dataset/aclImdb/train/pos/9089_9.txt  \n",
            "  inflating: /content/dataset/__MACOSX/aclImdb/train/pos/._9089_9.txt  \n",
            "  inflating: /content/dataset/aclImdb/train/pos/908_8.txt  \n",
            "  inflating: /content/dataset/__MACOSX/aclImdb/train/pos/._908_8.txt  \n",
            "  inflating: /content/dataset/aclImdb/train/pos/9090_9.txt  \n",
            "  inflating: /content/dataset/__MACOSX/aclImdb/train/pos/._9090_9.txt  \n",
            "  inflating: /content/dataset/aclImdb/train/pos/9091_10.txt  \n",
            "  inflating: /content/dataset/__MACOSX/aclImdb/train/pos/._9091_10.txt  \n",
            "  inflating: /content/dataset/aclImdb/train/pos/9092_7.txt  \n",
            "  inflating: /content/dataset/__MACOSX/aclImdb/train/pos/._9092_7.txt  \n",
            "  inflating: /content/dataset/aclImdb/train/pos/9093_10.txt  \n",
            "  inflating: /content/dataset/__MACOSX/aclImdb/train/pos/._9093_10.txt  \n",
            "  inflating: /content/dataset/aclImdb/train/pos/9094_10.txt  \n",
            "  inflating: /content/dataset/__MACOSX/aclImdb/train/pos/._9094_10.txt  \n",
            "  inflating: /content/dataset/aclImdb/train/pos/9095_10.txt  \n",
            "  inflating: /content/dataset/__MACOSX/aclImdb/train/pos/._9095_10.txt  \n",
            "  inflating: /content/dataset/aclImdb/train/pos/9096_10.txt  \n",
            "  inflating: /content/dataset/__MACOSX/aclImdb/train/pos/._9096_10.txt  \n",
            "  inflating: /content/dataset/aclImdb/train/pos/9097_10.txt  \n",
            "  inflating: /content/dataset/__MACOSX/aclImdb/train/pos/._9097_10.txt  \n",
            "  inflating: /content/dataset/aclImdb/train/pos/9098_10.txt  \n",
            "  inflating: /content/dataset/__MACOSX/aclImdb/train/pos/._9098_10.txt  \n",
            "  inflating: /content/dataset/aclImdb/train/pos/9099_10.txt  \n",
            "  inflating: /content/dataset/__MACOSX/aclImdb/train/pos/._9099_10.txt  \n",
            "  inflating: /content/dataset/aclImdb/train/pos/909_8.txt  \n",
            "  inflating: /content/dataset/__MACOSX/aclImdb/train/pos/._909_8.txt  \n",
            "  inflating: /content/dataset/aclImdb/train/pos/90_7.txt  \n",
            "  inflating: /content/dataset/__MACOSX/aclImdb/train/pos/._90_7.txt  \n",
            "  inflating: /content/dataset/aclImdb/train/pos/9100_7.txt  \n",
            "  inflating: /content/dataset/__MACOSX/aclImdb/train/pos/._9100_7.txt  \n",
            "  inflating: /content/dataset/aclImdb/train/pos/9101_9.txt  \n",
            "  inflating: /content/dataset/__MACOSX/aclImdb/train/pos/._9101_9.txt  \n",
            "  inflating: /content/dataset/aclImdb/train/pos/9102_8.txt  \n",
            "  inflating: /content/dataset/__MACOSX/aclImdb/train/pos/._9102_8.txt  \n",
            "  inflating: /content/dataset/aclImdb/train/pos/9103_10.txt  \n",
            "  inflating: /content/dataset/__MACOSX/aclImdb/train/pos/._9103_10.txt  \n",
            "  inflating: /content/dataset/aclImdb/train/pos/9104_10.txt  \n",
            "  inflating: /content/dataset/__MACOSX/aclImdb/train/pos/._9104_10.txt  \n",
            "  inflating: /content/dataset/aclImdb/train/pos/9105_9.txt  \n",
            "  inflating: /content/dataset/__MACOSX/aclImdb/train/pos/._9105_9.txt  \n",
            "  inflating: /content/dataset/aclImdb/train/pos/9106_9.txt  \n",
            "  inflating: /content/dataset/__MACOSX/aclImdb/train/pos/._9106_9.txt  \n",
            "  inflating: /content/dataset/aclImdb/train/pos/9107_7.txt  \n",
            "  inflating: /content/dataset/__MACOSX/aclImdb/train/pos/._9107_7.txt  \n",
            "  inflating: /content/dataset/aclImdb/train/pos/9108_10.txt  \n",
            "  inflating: /content/dataset/__MACOSX/aclImdb/train/pos/._9108_10.txt  \n",
            "  inflating: /content/dataset/aclImdb/train/pos/9109_7.txt  \n",
            "  inflating: /content/dataset/__MACOSX/aclImdb/train/pos/._9109_7.txt  \n",
            "  inflating: /content/dataset/aclImdb/train/pos/910_10.txt  \n",
            "  inflating: /content/dataset/__MACOSX/aclImdb/train/pos/._910_10.txt  \n",
            "  inflating: /content/dataset/aclImdb/train/pos/9110_8.txt  \n",
            "  inflating: /content/dataset/__MACOSX/aclImdb/train/pos/._9110_8.txt  \n",
            "  inflating: /content/dataset/aclImdb/train/pos/9111_10.txt  \n",
            "  inflating: /content/dataset/__MACOSX/aclImdb/train/pos/._9111_10.txt  \n",
            "  inflating: /content/dataset/aclImdb/train/pos/9112_9.txt  \n",
            "  inflating: /content/dataset/__MACOSX/aclImdb/train/pos/._9112_9.txt  \n",
            "  inflating: /content/dataset/aclImdb/train/pos/9113_8.txt  \n",
            "  inflating: /content/dataset/__MACOSX/aclImdb/train/pos/._9113_8.txt  \n",
            "  inflating: /content/dataset/aclImdb/train/pos/9114_10.txt  \n",
            "  inflating: /content/dataset/__MACOSX/aclImdb/train/pos/._9114_10.txt  \n",
            "  inflating: /content/dataset/aclImdb/train/pos/9115_10.txt  \n",
            "  inflating: /content/dataset/__MACOSX/aclImdb/train/pos/._9115_10.txt  \n",
            "  inflating: /content/dataset/aclImdb/train/pos/9116_9.txt  \n",
            "  inflating: /content/dataset/__MACOSX/aclImdb/train/pos/._9116_9.txt  \n",
            "  inflating: /content/dataset/aclImdb/train/pos/9117_10.txt  \n",
            "  inflating: /content/dataset/__MACOSX/aclImdb/train/pos/._9117_10.txt  \n",
            "  inflating: /content/dataset/aclImdb/train/pos/9118_10.txt  \n",
            "  inflating: /content/dataset/__MACOSX/aclImdb/train/pos/._9118_10.txt  \n",
            "  inflating: /content/dataset/aclImdb/train/pos/9119_10.txt  \n",
            "  inflating: /content/dataset/__MACOSX/aclImdb/train/pos/._9119_10.txt  \n",
            "  inflating: /content/dataset/aclImdb/train/pos/911_10.txt  \n",
            "  inflating: /content/dataset/__MACOSX/aclImdb/train/pos/._911_10.txt  \n",
            "  inflating: /content/dataset/aclImdb/train/pos/9120_10.txt  \n",
            "  inflating: /content/dataset/__MACOSX/aclImdb/train/pos/._9120_10.txt  \n",
            "  inflating: /content/dataset/aclImdb/train/pos/9121_10.txt  \n",
            "  inflating: /content/dataset/__MACOSX/aclImdb/train/pos/._9121_10.txt  \n",
            "  inflating: /content/dataset/aclImdb/train/pos/9122_7.txt  \n",
            "  inflating: /content/dataset/__MACOSX/aclImdb/train/pos/._9122_7.txt  \n",
            "  inflating: /content/dataset/aclImdb/train/pos/9123_10.txt  \n",
            "  inflating: /content/dataset/__MACOSX/aclImdb/train/pos/._9123_10.txt  \n",
            "  inflating: /content/dataset/aclImdb/train/pos/9124_10.txt  \n",
            "  inflating: /content/dataset/__MACOSX/aclImdb/train/pos/._9124_10.txt  \n",
            "  inflating: /content/dataset/aclImdb/train/pos/9125_10.txt  \n",
            "  inflating: /content/dataset/__MACOSX/aclImdb/train/pos/._9125_10.txt  \n",
            "  inflating: /content/dataset/aclImdb/train/pos/9126_9.txt  \n",
            "  inflating: /content/dataset/__MACOSX/aclImdb/train/pos/._9126_9.txt  \n",
            "  inflating: /content/dataset/aclImdb/train/pos/9127_7.txt  \n",
            "  inflating: /content/dataset/__MACOSX/aclImdb/train/pos/._9127_7.txt  \n",
            "  inflating: /content/dataset/aclImdb/train/pos/9128_9.txt  \n",
            "  inflating: /content/dataset/__MACOSX/aclImdb/train/pos/._9128_9.txt  \n",
            "  inflating: /content/dataset/aclImdb/train/pos/9129_8.txt  \n",
            "  inflating: /content/dataset/__MACOSX/aclImdb/train/pos/._9129_8.txt  \n",
            "  inflating: /content/dataset/aclImdb/train/pos/912_8.txt  \n",
            "  inflating: /content/dataset/__MACOSX/aclImdb/train/pos/._912_8.txt  \n",
            "  inflating: /content/dataset/aclImdb/train/pos/9130_9.txt  \n",
            "  inflating: /content/dataset/__MACOSX/aclImdb/train/pos/._9130_9.txt  \n",
            "  inflating: /content/dataset/aclImdb/train/pos/9131_9.txt  \n",
            "  inflating: /content/dataset/__MACOSX/aclImdb/train/pos/._9131_9.txt  \n",
            "  inflating: /content/dataset/aclImdb/train/pos/9132_10.txt  \n",
            "  inflating: /content/dataset/__MACOSX/aclImdb/train/pos/._9132_10.txt  \n",
            "  inflating: /content/dataset/aclImdb/train/pos/9133_9.txt  \n",
            "  inflating: /content/dataset/__MACOSX/aclImdb/train/pos/._9133_9.txt  \n",
            "  inflating: /content/dataset/aclImdb/train/pos/9134_7.txt  \n",
            "  inflating: /content/dataset/__MACOSX/aclImdb/train/pos/._9134_7.txt  \n",
            "  inflating: /content/dataset/aclImdb/train/pos/9135_9.txt  \n",
            "  inflating: /content/dataset/__MACOSX/aclImdb/train/pos/._9135_9.txt  \n",
            "  inflating: /content/dataset/aclImdb/train/pos/9136_8.txt  \n",
            "  inflating: /content/dataset/__MACOSX/aclImdb/train/pos/._9136_8.txt  \n",
            "  inflating: /content/dataset/aclImdb/train/pos/9137_10.txt  \n",
            "  inflating: /content/dataset/__MACOSX/aclImdb/train/pos/._9137_10.txt  \n",
            "  inflating: /content/dataset/aclImdb/train/pos/9138_10.txt  \n",
            "  inflating: /content/dataset/__MACOSX/aclImdb/train/pos/._9138_10.txt  \n",
            "  inflating: /content/dataset/aclImdb/train/pos/9139_8.txt  \n",
            "  inflating: /content/dataset/__MACOSX/aclImdb/train/pos/._9139_8.txt  \n",
            "  inflating: /content/dataset/aclImdb/train/pos/913_10.txt  \n",
            "  inflating: /content/dataset/__MACOSX/aclImdb/train/pos/._913_10.txt  \n",
            "  inflating: /content/dataset/aclImdb/train/pos/9140_10.txt  \n",
            "  inflating: /content/dataset/__MACOSX/aclImdb/train/pos/._9140_10.txt  \n",
            "  inflating: /content/dataset/aclImdb/train/pos/9141_8.txt  \n",
            "  inflating: /content/dataset/__MACOSX/aclImdb/train/pos/._9141_8.txt  \n",
            "  inflating: /content/dataset/aclImdb/train/pos/9142_10.txt  \n",
            "  inflating: /content/dataset/__MACOSX/aclImdb/train/pos/._9142_10.txt  \n",
            "  inflating: /content/dataset/aclImdb/train/pos/9143_10.txt  \n",
            "  inflating: /content/dataset/__MACOSX/aclImdb/train/pos/._9143_10.txt  \n",
            "  inflating: /content/dataset/aclImdb/train/pos/9144_7.txt  \n",
            "  inflating: /content/dataset/__MACOSX/aclImdb/train/pos/._9144_7.txt  \n",
            "  inflating: /content/dataset/aclImdb/train/pos/9145_10.txt  \n",
            "  inflating: /content/dataset/__MACOSX/aclImdb/train/pos/._9145_10.txt  \n",
            "  inflating: /content/dataset/aclImdb/train/pos/9146_9.txt  \n",
            "  inflating: /content/dataset/__MACOSX/aclImdb/train/pos/._9146_9.txt  \n",
            "  inflating: /content/dataset/aclImdb/train/pos/9147_10.txt  \n",
            "  inflating: /content/dataset/__MACOSX/aclImdb/train/pos/._9147_10.txt  \n",
            "  inflating: /content/dataset/aclImdb/train/pos/9148_7.txt  \n",
            "  inflating: /content/dataset/__MACOSX/aclImdb/train/pos/._9148_7.txt  \n",
            "  inflating: /content/dataset/aclImdb/train/pos/9149_9.txt  \n",
            "  inflating: /content/dataset/__MACOSX/aclImdb/train/pos/._9149_9.txt  \n",
            "  inflating: /content/dataset/aclImdb/train/pos/914_8.txt  \n",
            "  inflating: /content/dataset/__MACOSX/aclImdb/train/pos/._914_8.txt  \n",
            "  inflating: /content/dataset/aclImdb/train/pos/9150_8.txt  \n",
            "  inflating: /content/dataset/__MACOSX/aclImdb/train/pos/._9150_8.txt  \n",
            "  inflating: /content/dataset/aclImdb/train/pos/9151_10.txt  \n",
            "  inflating: /content/dataset/__MACOSX/aclImdb/train/pos/._9151_10.txt  \n",
            "  inflating: /content/dataset/aclImdb/train/pos/9152_8.txt  \n",
            "  inflating: /content/dataset/__MACOSX/aclImdb/train/pos/._9152_8.txt  \n",
            "  inflating: /content/dataset/aclImdb/train/pos/9153_8.txt  \n",
            "  inflating: /content/dataset/__MACOSX/aclImdb/train/pos/._9153_8.txt  \n",
            "  inflating: /content/dataset/aclImdb/train/pos/9154_7.txt  \n",
            "  inflating: /content/dataset/__MACOSX/aclImdb/train/pos/._9154_7.txt  \n",
            "  inflating: /content/dataset/aclImdb/train/pos/9155_10.txt  \n",
            "  inflating: /content/dataset/__MACOSX/aclImdb/train/pos/._9155_10.txt  \n",
            "  inflating: /content/dataset/aclImdb/train/pos/9156_10.txt  \n",
            "  inflating: /content/dataset/__MACOSX/aclImdb/train/pos/._9156_10.txt  \n",
            "  inflating: /content/dataset/aclImdb/train/pos/9157_10.txt  \n",
            "  inflating: /content/dataset/__MACOSX/aclImdb/train/pos/._9157_10.txt  \n",
            "  inflating: /content/dataset/aclImdb/train/pos/9158_10.txt  \n",
            "  inflating: /content/dataset/__MACOSX/aclImdb/train/pos/._9158_10.txt  \n",
            "  inflating: /content/dataset/aclImdb/train/pos/9159_10.txt  \n",
            "  inflating: /content/dataset/__MACOSX/aclImdb/train/pos/._9159_10.txt  \n",
            "  inflating: /content/dataset/aclImdb/train/pos/915_10.txt  \n",
            "  inflating: /content/dataset/__MACOSX/aclImdb/train/pos/._915_10.txt  \n",
            "  inflating: /content/dataset/aclImdb/train/pos/9160_8.txt  \n",
            "  inflating: /content/dataset/__MACOSX/aclImdb/train/pos/._9160_8.txt  \n",
            "  inflating: /content/dataset/aclImdb/train/pos/9161_10.txt  \n",
            "  inflating: /content/dataset/__MACOSX/aclImdb/train/pos/._9161_10.txt  \n",
            "  inflating: /content/dataset/aclImdb/train/pos/9162_10.txt  \n",
            "  inflating: /content/dataset/__MACOSX/aclImdb/train/pos/._9162_10.txt  \n",
            "  inflating: /content/dataset/aclImdb/train/pos/9163_10.txt  \n",
            "  inflating: /content/dataset/__MACOSX/aclImdb/train/pos/._9163_10.txt  \n",
            "  inflating: /content/dataset/aclImdb/train/pos/9164_10.txt  \n",
            "  inflating: /content/dataset/__MACOSX/aclImdb/train/pos/._9164_10.txt  \n",
            "  inflating: /content/dataset/aclImdb/train/pos/9165_10.txt  \n",
            "  inflating: /content/dataset/__MACOSX/aclImdb/train/pos/._9165_10.txt  \n",
            "  inflating: /content/dataset/aclImdb/train/pos/9166_9.txt  \n",
            "  inflating: /content/dataset/__MACOSX/aclImdb/train/pos/._9166_9.txt  \n",
            "  inflating: /content/dataset/aclImdb/train/pos/9167_7.txt  \n",
            "  inflating: /content/dataset/__MACOSX/aclImdb/train/pos/._9167_7.txt  \n",
            "  inflating: /content/dataset/aclImdb/train/pos/9168_7.txt  \n",
            "  inflating: /content/dataset/__MACOSX/aclImdb/train/pos/._9168_7.txt  \n",
            "  inflating: /content/dataset/aclImdb/train/pos/9169_8.txt  \n",
            "  inflating: /content/dataset/__MACOSX/aclImdb/train/pos/._9169_8.txt  \n",
            "  inflating: /content/dataset/aclImdb/train/pos/916_10.txt  \n",
            "  inflating: /content/dataset/__MACOSX/aclImdb/train/pos/._916_10.txt  \n",
            "  inflating: /content/dataset/aclImdb/train/pos/9170_9.txt  \n",
            "  inflating: /content/dataset/__MACOSX/aclImdb/train/pos/._9170_9.txt  \n",
            "  inflating: /content/dataset/aclImdb/train/pos/9171_9.txt  \n",
            "  inflating: /content/dataset/__MACOSX/aclImdb/train/pos/._9171_9.txt  \n",
            "  inflating: /content/dataset/aclImdb/train/pos/9172_10.txt  \n",
            "  inflating: /content/dataset/__MACOSX/aclImdb/train/pos/._9172_10.txt  \n",
            "  inflating: /content/dataset/aclImdb/train/pos/9173_10.txt  \n",
            "  inflating: /content/dataset/__MACOSX/aclImdb/train/pos/._9173_10.txt  \n",
            "  inflating: /content/dataset/aclImdb/train/pos/9174_9.txt  \n",
            "  inflating: /content/dataset/__MACOSX/aclImdb/train/pos/._9174_9.txt  \n",
            "  inflating: /content/dataset/aclImdb/train/pos/9175_10.txt  \n",
            "  inflating: /content/dataset/__MACOSX/aclImdb/train/pos/._9175_10.txt  \n",
            "  inflating: /content/dataset/aclImdb/train/pos/9176_10.txt  \n",
            "  inflating: /content/dataset/__MACOSX/aclImdb/train/pos/._9176_10.txt  \n",
            "  inflating: /content/dataset/aclImdb/train/pos/9177_10.txt  \n",
            "  inflating: /content/dataset/__MACOSX/aclImdb/train/pos/._9177_10.txt  \n",
            "  inflating: /content/dataset/aclImdb/train/pos/9178_10.txt  \n",
            "  inflating: /content/dataset/__MACOSX/aclImdb/train/pos/._9178_10.txt  \n",
            "  inflating: /content/dataset/aclImdb/train/pos/9179_10.txt  \n",
            "  inflating: /content/dataset/__MACOSX/aclImdb/train/pos/._9179_10.txt  \n",
            "  inflating: /content/dataset/aclImdb/train/pos/917_10.txt  \n",
            "  inflating: /content/dataset/__MACOSX/aclImdb/train/pos/._917_10.txt  \n",
            "  inflating: /content/dataset/aclImdb/train/pos/9180_9.txt  \n",
            "  inflating: /content/dataset/__MACOSX/aclImdb/train/pos/._9180_9.txt  \n",
            "  inflating: /content/dataset/aclImdb/train/pos/9181_10.txt  \n",
            "  inflating: /content/dataset/__MACOSX/aclImdb/train/pos/._9181_10.txt  \n",
            "  inflating: /content/dataset/aclImdb/train/pos/9182_10.txt  \n",
            "  inflating: /content/dataset/__MACOSX/aclImdb/train/pos/._9182_10.txt  \n",
            "  inflating: /content/dataset/aclImdb/train/pos/9183_10.txt  \n",
            "  inflating: /content/dataset/__MACOSX/aclImdb/train/pos/._9183_10.txt  \n",
            "  inflating: /content/dataset/aclImdb/train/pos/9184_10.txt  \n",
            "  inflating: /content/dataset/__MACOSX/aclImdb/train/pos/._9184_10.txt  \n",
            "  inflating: /content/dataset/aclImdb/train/pos/9185_9.txt  \n",
            "  inflating: /content/dataset/__MACOSX/aclImdb/train/pos/._9185_9.txt  \n",
            "  inflating: /content/dataset/aclImdb/train/pos/9186_8.txt  \n",
            "  inflating: /content/dataset/__MACOSX/aclImdb/train/pos/._9186_8.txt  \n",
            "  inflating: /content/dataset/aclImdb/train/pos/9187_10.txt  \n",
            "  inflating: /content/dataset/__MACOSX/aclImdb/train/pos/._9187_10.txt  \n",
            "  inflating: /content/dataset/aclImdb/train/pos/9188_10.txt  \n",
            "  inflating: /content/dataset/__MACOSX/aclImdb/train/pos/._9188_10.txt  \n",
            "  inflating: /content/dataset/aclImdb/train/pos/9189_10.txt  \n",
            "  inflating: /content/dataset/__MACOSX/aclImdb/train/pos/._9189_10.txt  \n",
            "  inflating: /content/dataset/aclImdb/train/pos/918_10.txt  \n",
            "  inflating: /content/dataset/__MACOSX/aclImdb/train/pos/._918_10.txt  \n",
            "  inflating: /content/dataset/aclImdb/train/pos/9190_7.txt  \n",
            "  inflating: /content/dataset/__MACOSX/aclImdb/train/pos/._9190_7.txt  \n",
            "  inflating: /content/dataset/aclImdb/train/pos/9191_10.txt  \n",
            "  inflating: /content/dataset/__MACOSX/aclImdb/train/pos/._9191_10.txt  \n",
            "  inflating: /content/dataset/aclImdb/train/pos/9192_7.txt  \n",
            "  inflating: /content/dataset/__MACOSX/aclImdb/train/pos/._9192_7.txt  \n",
            "  inflating: /content/dataset/aclImdb/train/pos/9193_10.txt  \n",
            "  inflating: /content/dataset/__MACOSX/aclImdb/train/pos/._9193_10.txt  \n",
            "  inflating: /content/dataset/aclImdb/train/pos/9194_9.txt  \n",
            "  inflating: /content/dataset/__MACOSX/aclImdb/train/pos/._9194_9.txt  \n",
            "  inflating: /content/dataset/aclImdb/train/pos/9195_10.txt  \n",
            "  inflating: /content/dataset/__MACOSX/aclImdb/train/pos/._9195_10.txt  \n",
            "  inflating: /content/dataset/aclImdb/train/pos/9196_10.txt  \n",
            "  inflating: /content/dataset/__MACOSX/aclImdb/train/pos/._9196_10.txt  \n",
            "  inflating: /content/dataset/aclImdb/train/pos/9197_7.txt  \n",
            "  inflating: /content/dataset/__MACOSX/aclImdb/train/pos/._9197_7.txt  \n",
            "  inflating: /content/dataset/aclImdb/train/pos/9198_8.txt  \n",
            "  inflating: /content/dataset/__MACOSX/aclImdb/train/pos/._9198_8.txt  \n",
            "  inflating: /content/dataset/aclImdb/train/pos/9199_8.txt  \n",
            "  inflating: /content/dataset/__MACOSX/aclImdb/train/pos/._9199_8.txt  \n",
            "  inflating: /content/dataset/aclImdb/train/pos/919_8.txt  \n",
            "  inflating: /content/dataset/__MACOSX/aclImdb/train/pos/._919_8.txt  \n",
            "  inflating: /content/dataset/aclImdb/train/pos/91_8.txt  \n",
            "  inflating: /content/dataset/__MACOSX/aclImdb/train/pos/._91_8.txt  \n",
            "  inflating: /content/dataset/aclImdb/train/pos/9200_8.txt  \n",
            "  inflating: /content/dataset/__MACOSX/aclImdb/train/pos/._9200_8.txt  \n",
            "  inflating: /content/dataset/aclImdb/train/pos/9201_8.txt  \n",
            "  inflating: /content/dataset/__MACOSX/aclImdb/train/pos/._9201_8.txt  \n",
            "  inflating: /content/dataset/aclImdb/train/pos/9202_8.txt  \n",
            "  inflating: /content/dataset/__MACOSX/aclImdb/train/pos/._9202_8.txt  \n",
            "  inflating: /content/dataset/aclImdb/train/pos/9203_9.txt  \n",
            "  inflating: /content/dataset/__MACOSX/aclImdb/train/pos/._9203_9.txt  \n",
            "  inflating: /content/dataset/aclImdb/train/pos/9204_10.txt  \n",
            "  inflating: /content/dataset/__MACOSX/aclImdb/train/pos/._9204_10.txt  \n",
            "  inflating: /content/dataset/aclImdb/train/pos/9205_7.txt  \n",
            "  inflating: /content/dataset/__MACOSX/aclImdb/train/pos/._9205_7.txt  \n",
            "  inflating: /content/dataset/aclImdb/train/pos/9206_8.txt  \n",
            "  inflating: /content/dataset/__MACOSX/aclImdb/train/pos/._9206_8.txt  \n",
            "  inflating: /content/dataset/aclImdb/train/pos/9207_10.txt  \n",
            "  inflating: /content/dataset/__MACOSX/aclImdb/train/pos/._9207_10.txt  \n",
            "  inflating: /content/dataset/aclImdb/train/pos/9208_7.txt  \n",
            "  inflating: /content/dataset/__MACOSX/aclImdb/train/pos/._9208_7.txt  \n",
            "  inflating: /content/dataset/aclImdb/train/pos/9209_7.txt  \n",
            "  inflating: /content/dataset/__MACOSX/aclImdb/train/pos/._9209_7.txt  \n",
            "  inflating: /content/dataset/aclImdb/train/pos/920_10.txt  \n",
            "  inflating: /content/dataset/__MACOSX/aclImdb/train/pos/._920_10.txt  \n",
            "  inflating: /content/dataset/aclImdb/train/pos/9210_10.txt  \n",
            "  inflating: /content/dataset/__MACOSX/aclImdb/train/pos/._9210_10.txt  \n",
            "  inflating: /content/dataset/aclImdb/train/pos/9211_9.txt  \n",
            "  inflating: /content/dataset/__MACOSX/aclImdb/train/pos/._9211_9.txt  \n",
            "  inflating: /content/dataset/aclImdb/train/pos/9212_9.txt  \n",
            "  inflating: /content/dataset/__MACOSX/aclImdb/train/pos/._9212_9.txt  \n",
            "  inflating: /content/dataset/aclImdb/train/pos/9213_7.txt  \n",
            "  inflating: /content/dataset/__MACOSX/aclImdb/train/pos/._9213_7.txt  \n",
            "  inflating: /content/dataset/aclImdb/train/pos/9214_7.txt  \n",
            "  inflating: /content/dataset/__MACOSX/aclImdb/train/pos/._9214_7.txt  \n",
            "  inflating: /content/dataset/aclImdb/train/pos/9215_7.txt  \n",
            "  inflating: /content/dataset/__MACOSX/aclImdb/train/pos/._9215_7.txt  \n",
            "  inflating: /content/dataset/aclImdb/train/pos/9216_10.txt  \n",
            "  inflating: /content/dataset/__MACOSX/aclImdb/train/pos/._9216_10.txt  \n",
            "  inflating: /content/dataset/aclImdb/train/pos/9217_7.txt  \n",
            "  inflating: /content/dataset/__MACOSX/aclImdb/train/pos/._9217_7.txt  \n",
            "  inflating: /content/dataset/aclImdb/train/pos/9218_10.txt  \n",
            "  inflating: /content/dataset/__MACOSX/aclImdb/train/pos/._9218_10.txt  \n",
            "  inflating: /content/dataset/aclImdb/train/pos/9219_10.txt  \n",
            "  inflating: /content/dataset/__MACOSX/aclImdb/train/pos/._9219_10.txt  \n",
            "  inflating: /content/dataset/aclImdb/train/pos/921_7.txt  \n",
            "  inflating: /content/dataset/__MACOSX/aclImdb/train/pos/._921_7.txt  \n",
            "  inflating: /content/dataset/aclImdb/train/pos/9220_8.txt  \n",
            "  inflating: /content/dataset/__MACOSX/aclImdb/train/pos/._9220_8.txt  \n",
            "  inflating: /content/dataset/aclImdb/train/pos/9221_7.txt  \n",
            "  inflating: /content/dataset/__MACOSX/aclImdb/train/pos/._9221_7.txt  \n",
            "  inflating: /content/dataset/aclImdb/train/pos/9222_7.txt  \n",
            "  inflating: /content/dataset/__MACOSX/aclImdb/train/pos/._9222_7.txt  \n",
            "  inflating: /content/dataset/aclImdb/train/pos/9223_9.txt  \n",
            "  inflating: /content/dataset/__MACOSX/aclImdb/train/pos/._9223_9.txt  \n",
            "  inflating: /content/dataset/aclImdb/train/pos/9224_10.txt  \n",
            "  inflating: /content/dataset/__MACOSX/aclImdb/train/pos/._9224_10.txt  \n",
            "  inflating: /content/dataset/aclImdb/train/pos/9225_10.txt  \n",
            "  inflating: /content/dataset/__MACOSX/aclImdb/train/pos/._9225_10.txt  \n",
            "  inflating: /content/dataset/aclImdb/train/pos/9226_8.txt  \n",
            "  inflating: /content/dataset/__MACOSX/aclImdb/train/pos/._9226_8.txt  \n",
            "  inflating: /content/dataset/aclImdb/train/pos/9227_9.txt  \n",
            "  inflating: /content/dataset/__MACOSX/aclImdb/train/pos/._9227_9.txt  \n",
            "  inflating: /content/dataset/aclImdb/train/pos/9228_10.txt  \n",
            "  inflating: /content/dataset/__MACOSX/aclImdb/train/pos/._9228_10.txt  \n",
            "  inflating: /content/dataset/aclImdb/train/pos/9229_7.txt  \n",
            "  inflating: /content/dataset/__MACOSX/aclImdb/train/pos/._9229_7.txt  \n",
            "  inflating: /content/dataset/aclImdb/train/pos/922_8.txt  \n",
            "  inflating: /content/dataset/__MACOSX/aclImdb/train/pos/._922_8.txt  \n",
            "  inflating: /content/dataset/aclImdb/train/pos/9230_8.txt  \n",
            "  inflating: /content/dataset/__MACOSX/aclImdb/train/pos/._9230_8.txt  \n",
            "  inflating: /content/dataset/aclImdb/train/pos/9231_8.txt  \n",
            "  inflating: /content/dataset/__MACOSX/aclImdb/train/pos/._9231_8.txt  \n",
            "  inflating: /content/dataset/aclImdb/train/pos/9232_8.txt  \n",
            "  inflating: /content/dataset/__MACOSX/aclImdb/train/pos/._9232_8.txt  \n",
            "  inflating: /content/dataset/aclImdb/train/pos/9233_8.txt  \n",
            "  inflating: /content/dataset/__MACOSX/aclImdb/train/pos/._9233_8.txt  \n",
            "  inflating: /content/dataset/aclImdb/train/pos/9234_8.txt  \n",
            "  inflating: /content/dataset/__MACOSX/aclImdb/train/pos/._9234_8.txt  \n",
            "  inflating: /content/dataset/aclImdb/train/pos/9235_9.txt  \n",
            "  inflating: /content/dataset/__MACOSX/aclImdb/train/pos/._9235_9.txt  \n",
            "  inflating: /content/dataset/aclImdb/train/pos/9236_10.txt  \n",
            "  inflating: /content/dataset/__MACOSX/aclImdb/train/pos/._9236_10.txt  \n",
            "  inflating: /content/dataset/aclImdb/train/pos/9237_7.txt  \n",
            "  inflating: /content/dataset/__MACOSX/aclImdb/train/pos/._9237_7.txt  \n",
            "  inflating: /content/dataset/aclImdb/train/pos/9238_10.txt  \n",
            "  inflating: /content/dataset/__MACOSX/aclImdb/train/pos/._9238_10.txt  \n",
            "  inflating: /content/dataset/aclImdb/train/pos/9239_8.txt  \n",
            "  inflating: /content/dataset/__MACOSX/aclImdb/train/pos/._9239_8.txt  \n",
            "  inflating: /content/dataset/aclImdb/train/pos/923_9.txt  \n",
            "  inflating: /content/dataset/__MACOSX/aclImdb/train/pos/._923_9.txt  \n",
            "  inflating: /content/dataset/aclImdb/train/pos/9240_10.txt  \n",
            "  inflating: /content/dataset/__MACOSX/aclImdb/train/pos/._9240_10.txt  \n",
            "  inflating: /content/dataset/aclImdb/train/pos/9241_10.txt  \n",
            "  inflating: /content/dataset/__MACOSX/aclImdb/train/pos/._9241_10.txt  \n",
            "  inflating: /content/dataset/aclImdb/train/pos/9242_10.txt  \n",
            "  inflating: /content/dataset/__MACOSX/aclImdb/train/pos/._9242_10.txt  \n",
            "  inflating: /content/dataset/aclImdb/train/pos/9243_8.txt  \n",
            "  inflating: /content/dataset/__MACOSX/aclImdb/train/pos/._9243_8.txt  \n",
            "  inflating: /content/dataset/aclImdb/train/pos/9244_8.txt  \n",
            "  inflating: /content/dataset/__MACOSX/aclImdb/train/pos/._9244_8.txt  \n",
            "  inflating: /content/dataset/aclImdb/train/pos/9245_8.txt  \n",
            "  inflating: /content/dataset/__MACOSX/aclImdb/train/pos/._9245_8.txt  \n",
            "  inflating: /content/dataset/aclImdb/train/pos/9246_8.txt  \n",
            "  inflating: /content/dataset/__MACOSX/aclImdb/train/pos/._9246_8.txt  \n",
            "  inflating: /content/dataset/aclImdb/train/pos/9247_10.txt  \n",
            "  inflating: /content/dataset/__MACOSX/aclImdb/train/pos/._9247_10.txt  \n",
            "  inflating: /content/dataset/aclImdb/train/pos/9248_9.txt  \n",
            "  inflating: /content/dataset/__MACOSX/aclImdb/train/pos/._9248_9.txt  \n",
            "  inflating: /content/dataset/aclImdb/train/pos/9249_9.txt  \n",
            "  inflating: /content/dataset/__MACOSX/aclImdb/train/pos/._9249_9.txt  \n",
            "  inflating: /content/dataset/aclImdb/train/pos/924_7.txt  \n",
            "  inflating: /content/dataset/__MACOSX/aclImdb/train/pos/._924_7.txt  \n",
            "  inflating: /content/dataset/aclImdb/train/pos/9250_8.txt  \n",
            "  inflating: /content/dataset/__MACOSX/aclImdb/train/pos/._9250_8.txt  \n",
            "  inflating: /content/dataset/aclImdb/train/pos/9251_9.txt  \n",
            "  inflating: /content/dataset/__MACOSX/aclImdb/train/pos/._9251_9.txt  \n",
            "  inflating: /content/dataset/aclImdb/train/pos/9252_10.txt  \n",
            "  inflating: /content/dataset/__MACOSX/aclImdb/train/pos/._9252_10.txt  \n",
            "  inflating: /content/dataset/aclImdb/train/pos/9253_10.txt  \n",
            "  inflating: /content/dataset/__MACOSX/aclImdb/train/pos/._9253_10.txt  \n",
            "  inflating: /content/dataset/aclImdb/train/pos/9254_7.txt  \n",
            "  inflating: /content/dataset/__MACOSX/aclImdb/train/pos/._9254_7.txt  \n",
            "  inflating: /content/dataset/aclImdb/train/pos/9255_10.txt  \n",
            "  inflating: /content/dataset/__MACOSX/aclImdb/train/pos/._9255_10.txt  \n",
            "  inflating: /content/dataset/aclImdb/train/pos/9256_10.txt  \n",
            "  inflating: /content/dataset/__MACOSX/aclImdb/train/pos/._9256_10.txt  \n",
            "  inflating: /content/dataset/aclImdb/train/pos/9257_7.txt  \n",
            "  inflating: /content/dataset/__MACOSX/aclImdb/train/pos/._9257_7.txt  \n",
            "  inflating: /content/dataset/aclImdb/train/pos/9258_10.txt  \n",
            "  inflating: /content/dataset/__MACOSX/aclImdb/train/pos/._9258_10.txt  \n",
            "  inflating: /content/dataset/aclImdb/train/pos/9259_10.txt  \n",
            "  inflating: /content/dataset/__MACOSX/aclImdb/train/pos/._9259_10.txt  \n",
            "  inflating: /content/dataset/aclImdb/train/pos/925_10.txt  \n",
            "  inflating: /content/dataset/__MACOSX/aclImdb/train/pos/._925_10.txt  \n",
            "  inflating: /content/dataset/aclImdb/train/pos/9260_7.txt  \n",
            "  inflating: /content/dataset/__MACOSX/aclImdb/train/pos/._9260_7.txt  \n",
            "  inflating: /content/dataset/aclImdb/train/pos/9261_7.txt  \n",
            "  inflating: /content/dataset/__MACOSX/aclImdb/train/pos/._9261_7.txt  \n",
            "  inflating: /content/dataset/aclImdb/train/pos/9262_8.txt  \n",
            "  inflating: /content/dataset/__MACOSX/aclImdb/train/pos/._9262_8.txt  \n",
            "  inflating: /content/dataset/aclImdb/train/pos/9263_8.txt  \n",
            "  inflating: /content/dataset/__MACOSX/aclImdb/train/pos/._9263_8.txt  \n",
            "  inflating: /content/dataset/aclImdb/train/pos/9264_9.txt  \n",
            "  inflating: /content/dataset/__MACOSX/aclImdb/train/pos/._9264_9.txt  \n",
            "  inflating: /content/dataset/aclImdb/train/pos/9265_9.txt  \n",
            "  inflating: /content/dataset/__MACOSX/aclImdb/train/pos/._9265_9.txt  \n",
            "  inflating: /content/dataset/aclImdb/train/pos/9266_9.txt  \n",
            "  inflating: /content/dataset/__MACOSX/aclImdb/train/pos/._9266_9.txt  \n",
            "  inflating: /content/dataset/aclImdb/train/pos/9267_7.txt  \n",
            "  inflating: /content/dataset/__MACOSX/aclImdb/train/pos/._9267_7.txt  \n",
            "  inflating: /content/dataset/aclImdb/train/pos/9268_9.txt  \n",
            "  inflating: /content/dataset/__MACOSX/aclImdb/train/pos/._9268_9.txt  \n",
            "  inflating: /content/dataset/aclImdb/train/pos/9269_7.txt  \n",
            "  inflating: /content/dataset/__MACOSX/aclImdb/train/pos/._9269_7.txt  \n",
            "  inflating: /content/dataset/aclImdb/train/pos/926_7.txt  \n",
            "  inflating: /content/dataset/__MACOSX/aclImdb/train/pos/._926_7.txt  \n",
            "  inflating: /content/dataset/aclImdb/train/pos/9270_9.txt  \n",
            "  inflating: /content/dataset/__MACOSX/aclImdb/train/pos/._9270_9.txt  \n",
            "  inflating: /content/dataset/aclImdb/train/pos/9271_8.txt  \n",
            "  inflating: /content/dataset/__MACOSX/aclImdb/train/pos/._9271_8.txt  \n",
            "  inflating: /content/dataset/aclImdb/train/pos/9272_7.txt  \n",
            "  inflating: /content/dataset/__MACOSX/aclImdb/train/pos/._9272_7.txt  \n",
            "  inflating: /content/dataset/aclImdb/train/pos/9273_7.txt  \n",
            "  inflating: /content/dataset/__MACOSX/aclImdb/train/pos/._9273_7.txt  \n",
            "  inflating: /content/dataset/aclImdb/train/pos/9274_8.txt  \n",
            "  inflating: /content/dataset/__MACOSX/aclImdb/train/pos/._9274_8.txt  \n",
            "  inflating: /content/dataset/aclImdb/train/pos/9275_9.txt  \n",
            "  inflating: /content/dataset/__MACOSX/aclImdb/train/pos/._9275_9.txt  \n",
            "  inflating: /content/dataset/aclImdb/train/pos/9276_10.txt  \n",
            "  inflating: /content/dataset/__MACOSX/aclImdb/train/pos/._9276_10.txt  \n",
            "  inflating: /content/dataset/aclImdb/train/pos/9277_9.txt  \n",
            "  inflating: /content/dataset/__MACOSX/aclImdb/train/pos/._9277_9.txt  \n",
            "  inflating: /content/dataset/aclImdb/train/pos/9278_7.txt  \n",
            "  inflating: /content/dataset/__MACOSX/aclImdb/train/pos/._9278_7.txt  \n",
            "  inflating: /content/dataset/aclImdb/train/pos/9279_7.txt  \n",
            "  inflating: /content/dataset/__MACOSX/aclImdb/train/pos/._9279_7.txt  \n",
            "  inflating: /content/dataset/aclImdb/train/pos/927_10.txt  \n",
            "  inflating: /content/dataset/__MACOSX/aclImdb/train/pos/._927_10.txt  \n",
            "  inflating: /content/dataset/aclImdb/train/pos/9280_9.txt  \n",
            "  inflating: /content/dataset/__MACOSX/aclImdb/train/pos/._9280_9.txt  \n",
            "  inflating: /content/dataset/aclImdb/train/pos/9281_10.txt  \n",
            "  inflating: /content/dataset/__MACOSX/aclImdb/train/pos/._9281_10.txt  \n",
            "  inflating: /content/dataset/aclImdb/train/pos/9282_8.txt  \n",
            "  inflating: /content/dataset/__MACOSX/aclImdb/train/pos/._9282_8.txt  \n",
            "  inflating: /content/dataset/aclImdb/train/pos/9283_8.txt  \n",
            "  inflating: /content/dataset/__MACOSX/aclImdb/train/pos/._9283_8.txt  \n",
            "  inflating: /content/dataset/aclImdb/train/pos/9284_8.txt  \n",
            "  inflating: /content/dataset/__MACOSX/aclImdb/train/pos/._9284_8.txt  \n",
            "  inflating: /content/dataset/aclImdb/train/pos/9285_10.txt  \n",
            "  inflating: /content/dataset/__MACOSX/aclImdb/train/pos/._9285_10.txt  \n",
            "  inflating: /content/dataset/aclImdb/train/pos/9286_9.txt  \n",
            "  inflating: /content/dataset/__MACOSX/aclImdb/train/pos/._9286_9.txt  \n",
            "  inflating: /content/dataset/aclImdb/train/pos/9287_9.txt  \n",
            "  inflating: /content/dataset/__MACOSX/aclImdb/train/pos/._9287_9.txt  \n",
            "  inflating: /content/dataset/aclImdb/train/pos/9288_8.txt  \n",
            "  inflating: /content/dataset/__MACOSX/aclImdb/train/pos/._9288_8.txt  \n",
            "  inflating: /content/dataset/aclImdb/train/pos/9289_7.txt  \n",
            "  inflating: /content/dataset/__MACOSX/aclImdb/train/pos/._9289_7.txt  \n",
            "  inflating: /content/dataset/aclImdb/train/pos/928_10.txt  \n",
            "  inflating: /content/dataset/__MACOSX/aclImdb/train/pos/._928_10.txt  \n",
            "  inflating: /content/dataset/aclImdb/train/pos/9290_9.txt  \n",
            "  inflating: /content/dataset/__MACOSX/aclImdb/train/pos/._9290_9.txt  \n",
            "  inflating: /content/dataset/aclImdb/train/pos/9291_7.txt  \n",
            "  inflating: /content/dataset/__MACOSX/aclImdb/train/pos/._9291_7.txt  \n",
            "  inflating: /content/dataset/aclImdb/train/pos/9292_10.txt  \n",
            "  inflating: /content/dataset/__MACOSX/aclImdb/train/pos/._9292_10.txt  \n",
            "  inflating: /content/dataset/aclImdb/train/pos/9293_7.txt  \n",
            "  inflating: /content/dataset/__MACOSX/aclImdb/train/pos/._9293_7.txt  \n",
            "  inflating: /content/dataset/aclImdb/train/pos/9294_7.txt  \n",
            "  inflating: /content/dataset/__MACOSX/aclImdb/train/pos/._9294_7.txt  \n",
            "  inflating: /content/dataset/aclImdb/train/pos/9295_10.txt  \n",
            "  inflating: /content/dataset/__MACOSX/aclImdb/train/pos/._9295_10.txt  \n",
            "  inflating: /content/dataset/aclImdb/train/pos/9296_10.txt  \n",
            "  inflating: /content/dataset/__MACOSX/aclImdb/train/pos/._9296_10.txt  \n",
            "  inflating: /content/dataset/aclImdb/train/pos/9297_10.txt  \n",
            "  inflating: /content/dataset/__MACOSX/aclImdb/train/pos/._9297_10.txt  \n",
            "  inflating: /content/dataset/aclImdb/train/pos/9298_9.txt  \n",
            "  inflating: /content/dataset/__MACOSX/aclImdb/train/pos/._9298_9.txt  \n",
            "  inflating: /content/dataset/aclImdb/train/pos/9299_8.txt  \n",
            "  inflating: /content/dataset/__MACOSX/aclImdb/train/pos/._9299_8.txt  \n",
            "  inflating: /content/dataset/aclImdb/train/pos/929_10.txt  \n",
            "  inflating: /content/dataset/__MACOSX/aclImdb/train/pos/._929_10.txt  \n",
            "  inflating: /content/dataset/aclImdb/train/pos/92_9.txt  \n",
            "  inflating: /content/dataset/__MACOSX/aclImdb/train/pos/._92_9.txt  \n",
            "  inflating: /content/dataset/aclImdb/train/pos/9300_10.txt  \n",
            "  inflating: /content/dataset/__MACOSX/aclImdb/train/pos/._9300_10.txt  \n",
            "  inflating: /content/dataset/aclImdb/train/pos/9301_10.txt  \n",
            "  inflating: /content/dataset/__MACOSX/aclImdb/train/pos/._9301_10.txt  \n",
            "  inflating: /content/dataset/aclImdb/train/pos/9302_10.txt  \n",
            "  inflating: /content/dataset/__MACOSX/aclImdb/train/pos/._9302_10.txt  \n",
            "  inflating: /content/dataset/aclImdb/train/pos/9303_8.txt  \n",
            "  inflating: /content/dataset/__MACOSX/aclImdb/train/pos/._9303_8.txt  \n",
            "  inflating: /content/dataset/aclImdb/train/pos/9304_9.txt  \n",
            "  inflating: /content/dataset/__MACOSX/aclImdb/train/pos/._9304_9.txt  \n",
            "  inflating: /content/dataset/aclImdb/train/pos/9305_10.txt  \n",
            "  inflating: /content/dataset/__MACOSX/aclImdb/train/pos/._9305_10.txt  \n",
            "  inflating: /content/dataset/aclImdb/train/pos/9306_9.txt  \n",
            "  inflating: /content/dataset/__MACOSX/aclImdb/train/pos/._9306_9.txt  \n",
            "  inflating: /content/dataset/aclImdb/train/pos/9307_10.txt  \n",
            "  inflating: /content/dataset/__MACOSX/aclImdb/train/pos/._9307_10.txt  \n",
            "  inflating: /content/dataset/aclImdb/train/pos/9308_7.txt  \n",
            "  inflating: /content/dataset/__MACOSX/aclImdb/train/pos/._9308_7.txt  \n",
            "  inflating: /content/dataset/aclImdb/train/pos/9309_9.txt  \n",
            "  inflating: /content/dataset/__MACOSX/aclImdb/train/pos/._9309_9.txt  \n",
            "  inflating: /content/dataset/aclImdb/train/pos/930_7.txt  \n",
            "  inflating: /content/dataset/__MACOSX/aclImdb/train/pos/._930_7.txt  \n",
            "  inflating: /content/dataset/aclImdb/train/pos/9310_10.txt  \n",
            "  inflating: /content/dataset/__MACOSX/aclImdb/train/pos/._9310_10.txt  \n",
            "  inflating: /content/dataset/aclImdb/train/pos/9311_10.txt  \n",
            "  inflating: /content/dataset/__MACOSX/aclImdb/train/pos/._9311_10.txt  \n",
            "  inflating: /content/dataset/aclImdb/train/pos/9312_10.txt  \n",
            "  inflating: /content/dataset/__MACOSX/aclImdb/train/pos/._9312_10.txt  \n",
            "  inflating: /content/dataset/aclImdb/train/pos/9313_9.txt  \n",
            "  inflating: /content/dataset/__MACOSX/aclImdb/train/pos/._9313_9.txt  \n",
            "  inflating: /content/dataset/aclImdb/train/pos/9314_10.txt  \n",
            "  inflating: /content/dataset/__MACOSX/aclImdb/train/pos/._9314_10.txt  \n",
            "  inflating: /content/dataset/aclImdb/train/pos/9315_7.txt  \n",
            "  inflating: /content/dataset/__MACOSX/aclImdb/train/pos/._9315_7.txt  \n",
            "  inflating: /content/dataset/aclImdb/train/pos/9316_7.txt  \n",
            "  inflating: /content/dataset/__MACOSX/aclImdb/train/pos/._9316_7.txt  \n",
            "  inflating: /content/dataset/aclImdb/train/pos/9317_8.txt  \n",
            "  inflating: /content/dataset/__MACOSX/aclImdb/train/pos/._9317_8.txt  \n",
            "  inflating: /content/dataset/aclImdb/train/pos/9318_9.txt  \n",
            "  inflating: /content/dataset/__MACOSX/aclImdb/train/pos/._9318_9.txt  \n",
            "  inflating: /content/dataset/aclImdb/train/pos/9319_8.txt  \n",
            "  inflating: /content/dataset/__MACOSX/aclImdb/train/pos/._9319_8.txt  \n",
            "  inflating: /content/dataset/aclImdb/train/pos/931_10.txt  \n",
            "  inflating: /content/dataset/__MACOSX/aclImdb/train/pos/._931_10.txt  \n",
            "  inflating: /content/dataset/aclImdb/train/pos/9320_10.txt  \n",
            "  inflating: /content/dataset/__MACOSX/aclImdb/train/pos/._9320_10.txt  \n",
            "  inflating: /content/dataset/aclImdb/train/pos/9321_8.txt  \n",
            "  inflating: /content/dataset/__MACOSX/aclImdb/train/pos/._9321_8.txt  \n",
            "  inflating: /content/dataset/aclImdb/train/pos/9322_8.txt  \n",
            "  inflating: /content/dataset/__MACOSX/aclImdb/train/pos/._9322_8.txt  \n",
            "  inflating: /content/dataset/aclImdb/train/pos/9323_10.txt  \n",
            "  inflating: /content/dataset/__MACOSX/aclImdb/train/pos/._9323_10.txt  \n",
            "  inflating: /content/dataset/aclImdb/train/pos/9324_7.txt  \n",
            "  inflating: /content/dataset/__MACOSX/aclImdb/train/pos/._9324_7.txt  \n",
            "  inflating: /content/dataset/aclImdb/train/pos/9325_10.txt  \n",
            "  inflating: /content/dataset/__MACOSX/aclImdb/train/pos/._9325_10.txt  \n",
            "  inflating: /content/dataset/aclImdb/train/pos/9326_10.txt  \n",
            "  inflating: /content/dataset/__MACOSX/aclImdb/train/pos/._9326_10.txt  \n",
            "  inflating: /content/dataset/aclImdb/train/pos/9327_8.txt  \n",
            "  inflating: /content/dataset/__MACOSX/aclImdb/train/pos/._9327_8.txt  \n",
            "  inflating: /content/dataset/aclImdb/train/pos/9328_7.txt  \n",
            "  inflating: /content/dataset/__MACOSX/aclImdb/train/pos/._9328_7.txt  \n",
            "  inflating: /content/dataset/aclImdb/train/pos/9329_8.txt  \n",
            "  inflating: /content/dataset/__MACOSX/aclImdb/train/pos/._9329_8.txt  \n",
            "  inflating: /content/dataset/aclImdb/train/pos/932_10.txt  \n",
            "  inflating: /content/dataset/__MACOSX/aclImdb/train/pos/._932_10.txt  \n",
            "  inflating: /content/dataset/aclImdb/train/pos/9330_8.txt  \n",
            "  inflating: /content/dataset/__MACOSX/aclImdb/train/pos/._9330_8.txt  \n",
            "  inflating: /content/dataset/aclImdb/train/pos/9331_9.txt  \n",
            "  inflating: /content/dataset/__MACOSX/aclImdb/train/pos/._9331_9.txt  \n",
            "  inflating: /content/dataset/aclImdb/train/pos/9332_10.txt  \n",
            "  inflating: /content/dataset/__MACOSX/aclImdb/train/pos/._9332_10.txt  \n",
            "  inflating: /content/dataset/aclImdb/train/pos/9333_8.txt  \n",
            "  inflating: /content/dataset/__MACOSX/aclImdb/train/pos/._9333_8.txt  \n",
            "  inflating: /content/dataset/aclImdb/train/pos/9334_9.txt  \n",
            "  inflating: /content/dataset/__MACOSX/aclImdb/train/pos/._9334_9.txt  \n",
            "  inflating: /content/dataset/aclImdb/train/pos/9335_10.txt  \n",
            "  inflating: /content/dataset/__MACOSX/aclImdb/train/pos/._9335_10.txt  \n",
            "  inflating: /content/dataset/aclImdb/train/pos/9336_9.txt  \n",
            "  inflating: /content/dataset/__MACOSX/aclImdb/train/pos/._9336_9.txt  \n",
            "  inflating: /content/dataset/aclImdb/train/pos/9337_10.txt  \n",
            "  inflating: /content/dataset/__MACOSX/aclImdb/train/pos/._9337_10.txt  \n",
            "  inflating: /content/dataset/aclImdb/train/pos/9338_8.txt  \n",
            "  inflating: /content/dataset/__MACOSX/aclImdb/train/pos/._9338_8.txt  \n",
            "  inflating: /content/dataset/aclImdb/train/pos/9339_10.txt  \n",
            "  inflating: /content/dataset/__MACOSX/aclImdb/train/pos/._9339_10.txt  \n",
            "  inflating: /content/dataset/aclImdb/train/pos/933_10.txt  \n",
            "  inflating: /content/dataset/__MACOSX/aclImdb/train/pos/._933_10.txt  \n",
            "  inflating: /content/dataset/aclImdb/train/pos/9340_8.txt  \n",
            "  inflating: /content/dataset/__MACOSX/aclImdb/train/pos/._9340_8.txt  \n",
            "  inflating: /content/dataset/aclImdb/train/pos/9341_7.txt  \n",
            "  inflating: /content/dataset/__MACOSX/aclImdb/train/pos/._9341_7.txt  \n",
            "  inflating: /content/dataset/aclImdb/train/pos/9342_8.txt  \n",
            "  inflating: /content/dataset/__MACOSX/aclImdb/train/pos/._9342_8.txt  \n",
            "  inflating: /content/dataset/aclImdb/train/pos/9343_8.txt  \n",
            "  inflating: /content/dataset/__MACOSX/aclImdb/train/pos/._9343_8.txt  \n",
            "  inflating: /content/dataset/aclImdb/train/pos/9344_8.txt  \n",
            "  inflating: /content/dataset/__MACOSX/aclImdb/train/pos/._9344_8.txt  \n",
            "  inflating: /content/dataset/aclImdb/train/pos/9345_9.txt  \n",
            "  inflating: /content/dataset/__MACOSX/aclImdb/train/pos/._9345_9.txt  \n",
            "  inflating: /content/dataset/aclImdb/train/pos/9346_10.txt  \n",
            "  inflating: /content/dataset/__MACOSX/aclImdb/train/pos/._9346_10.txt  \n",
            "  inflating: /content/dataset/aclImdb/train/pos/9347_7.txt  \n",
            "  inflating: /content/dataset/__MACOSX/aclImdb/train/pos/._9347_7.txt  \n",
            "  inflating: /content/dataset/aclImdb/train/pos/9348_7.txt  \n",
            "  inflating: /content/dataset/__MACOSX/aclImdb/train/pos/._9348_7.txt  \n",
            "  inflating: /content/dataset/aclImdb/train/pos/9349_8.txt  \n",
            "  inflating: /content/dataset/__MACOSX/aclImdb/train/pos/._9349_8.txt  \n",
            "  inflating: /content/dataset/aclImdb/train/pos/934_9.txt  \n",
            "  inflating: /content/dataset/__MACOSX/aclImdb/train/pos/._934_9.txt  \n",
            "  inflating: /content/dataset/aclImdb/train/pos/9350_10.txt  \n",
            "  inflating: /content/dataset/__MACOSX/aclImdb/train/pos/._9350_10.txt  \n",
            "  inflating: /content/dataset/aclImdb/train/pos/9351_8.txt  \n",
            "  inflating: /content/dataset/__MACOSX/aclImdb/train/pos/._9351_8.txt  \n",
            "  inflating: /content/dataset/aclImdb/train/pos/9352_10.txt  \n",
            "  inflating: /content/dataset/__MACOSX/aclImdb/train/pos/._9352_10.txt  \n",
            "  inflating: /content/dataset/aclImdb/train/pos/9353_8.txt  \n",
            "  inflating: /content/dataset/__MACOSX/aclImdb/train/pos/._9353_8.txt  \n",
            "  inflating: /content/dataset/aclImdb/train/pos/9354_9.txt  \n",
            "  inflating: /content/dataset/__MACOSX/aclImdb/train/pos/._9354_9.txt  \n",
            "  inflating: /content/dataset/aclImdb/train/pos/9355_7.txt  \n",
            "  inflating: /content/dataset/__MACOSX/aclImdb/train/pos/._9355_7.txt  \n",
            "  inflating: /content/dataset/aclImdb/train/pos/9356_9.txt  \n",
            "  inflating: /content/dataset/__MACOSX/aclImdb/train/pos/._9356_9.txt  \n",
            "  inflating: /content/dataset/aclImdb/train/pos/9357_7.txt  \n",
            "  inflating: /content/dataset/__MACOSX/aclImdb/train/pos/._9357_7.txt  \n",
            "  inflating: /content/dataset/aclImdb/train/pos/9358_8.txt  \n",
            "  inflating: /content/dataset/__MACOSX/aclImdb/train/pos/._9358_8.txt  \n",
            "  inflating: /content/dataset/aclImdb/train/pos/9359_8.txt  \n",
            "  inflating: /content/dataset/__MACOSX/aclImdb/train/pos/._9359_8.txt  \n",
            "  inflating: /content/dataset/aclImdb/train/pos/935_9.txt  \n",
            "  inflating: /content/dataset/__MACOSX/aclImdb/train/pos/._935_9.txt  \n",
            "  inflating: /content/dataset/aclImdb/train/pos/9360_10.txt  \n",
            "  inflating: /content/dataset/__MACOSX/aclImdb/train/pos/._9360_10.txt  \n",
            "  inflating: /content/dataset/aclImdb/train/pos/9361_9.txt  \n",
            "  inflating: /content/dataset/__MACOSX/aclImdb/train/pos/._9361_9.txt  \n",
            "  inflating: /content/dataset/aclImdb/train/pos/9362_7.txt  \n",
            "  inflating: /content/dataset/__MACOSX/aclImdb/train/pos/._9362_7.txt  \n",
            "  inflating: /content/dataset/aclImdb/train/pos/9363_10.txt  \n",
            "  inflating: /content/dataset/__MACOSX/aclImdb/train/pos/._9363_10.txt  \n",
            "  inflating: /content/dataset/aclImdb/train/pos/9364_9.txt  \n",
            "  inflating: /content/dataset/__MACOSX/aclImdb/train/pos/._9364_9.txt  \n",
            "  inflating: /content/dataset/aclImdb/train/pos/9365_9.txt  \n",
            "  inflating: /content/dataset/__MACOSX/aclImdb/train/pos/._9365_9.txt  \n",
            "  inflating: /content/dataset/aclImdb/train/pos/9366_9.txt  \n",
            "  inflating: /content/dataset/__MACOSX/aclImdb/train/pos/._9366_9.txt  \n",
            "  inflating: /content/dataset/aclImdb/train/pos/9367_9.txt  \n",
            "  inflating: /content/dataset/__MACOSX/aclImdb/train/pos/._9367_9.txt  \n",
            "  inflating: /content/dataset/aclImdb/train/pos/9368_8.txt  \n",
            "  inflating: /content/dataset/__MACOSX/aclImdb/train/pos/._9368_8.txt  \n",
            "  inflating: /content/dataset/aclImdb/train/pos/9369_10.txt  \n",
            "  inflating: /content/dataset/__MACOSX/aclImdb/train/pos/._9369_10.txt  \n",
            "  inflating: /content/dataset/aclImdb/train/pos/936_8.txt  \n",
            "  inflating: /content/dataset/__MACOSX/aclImdb/train/pos/._936_8.txt  \n",
            "  inflating: /content/dataset/aclImdb/train/pos/9370_7.txt  \n",
            "  inflating: /content/dataset/__MACOSX/aclImdb/train/pos/._9370_7.txt  \n",
            "  inflating: /content/dataset/aclImdb/train/pos/9371_7.txt  \n",
            "  inflating: /content/dataset/__MACOSX/aclImdb/train/pos/._9371_7.txt  \n",
            "  inflating: /content/dataset/aclImdb/train/pos/9372_9.txt  \n",
            "  inflating: /content/dataset/__MACOSX/aclImdb/train/pos/._9372_9.txt  \n",
            "  inflating: /content/dataset/aclImdb/train/pos/9373_9.txt  \n",
            "  inflating: /content/dataset/__MACOSX/aclImdb/train/pos/._9373_9.txt  \n",
            "  inflating: /content/dataset/aclImdb/train/pos/9374_9.txt  \n",
            "  inflating: /content/dataset/__MACOSX/aclImdb/train/pos/._9374_9.txt  \n",
            "  inflating: /content/dataset/aclImdb/train/pos/9375_10.txt  \n",
            "  inflating: /content/dataset/__MACOSX/aclImdb/train/pos/._9375_10.txt  \n",
            "  inflating: /content/dataset/aclImdb/train/pos/9376_10.txt  \n",
            "  inflating: /content/dataset/__MACOSX/aclImdb/train/pos/._9376_10.txt  \n",
            "  inflating: /content/dataset/aclImdb/train/pos/9377_7.txt  \n",
            "  inflating: /content/dataset/__MACOSX/aclImdb/train/pos/._9377_7.txt  \n",
            "  inflating: /content/dataset/aclImdb/train/pos/9378_9.txt  \n",
            "  inflating: /content/dataset/__MACOSX/aclImdb/train/pos/._9378_9.txt  \n",
            "  inflating: /content/dataset/aclImdb/train/pos/9379_7.txt  \n",
            "  inflating: /content/dataset/__MACOSX/aclImdb/train/pos/._9379_7.txt  \n",
            "  inflating: /content/dataset/aclImdb/train/pos/937_10.txt  \n",
            "  inflating: /content/dataset/__MACOSX/aclImdb/train/pos/._937_10.txt  \n",
            "  inflating: /content/dataset/aclImdb/train/pos/9380_9.txt  \n",
            "  inflating: /content/dataset/__MACOSX/aclImdb/train/pos/._9380_9.txt  \n",
            "  inflating: /content/dataset/aclImdb/train/pos/9381_8.txt  \n",
            "  inflating: /content/dataset/__MACOSX/aclImdb/train/pos/._9381_8.txt  \n",
            "  inflating: /content/dataset/aclImdb/train/pos/9382_9.txt  \n",
            "  inflating: /content/dataset/__MACOSX/aclImdb/train/pos/._9382_9.txt  \n",
            "  inflating: /content/dataset/aclImdb/train/pos/9383_8.txt  \n",
            "  inflating: /content/dataset/__MACOSX/aclImdb/train/pos/._9383_8.txt  \n",
            "  inflating: /content/dataset/aclImdb/train/pos/9384_8.txt  \n",
            "  inflating: /content/dataset/__MACOSX/aclImdb/train/pos/._9384_8.txt  \n",
            "  inflating: /content/dataset/aclImdb/train/pos/9385_8.txt  \n",
            "  inflating: /content/dataset/__MACOSX/aclImdb/train/pos/._9385_8.txt  \n",
            "  inflating: /content/dataset/aclImdb/train/pos/9386_8.txt  \n",
            "  inflating: /content/dataset/__MACOSX/aclImdb/train/pos/._9386_8.txt  \n",
            "  inflating: /content/dataset/aclImdb/train/pos/9387_9.txt  \n",
            "  inflating: /content/dataset/__MACOSX/aclImdb/train/pos/._9387_9.txt  \n",
            "  inflating: /content/dataset/aclImdb/train/pos/9388_8.txt  \n",
            "  inflating: /content/dataset/__MACOSX/aclImdb/train/pos/._9388_8.txt  \n",
            "  inflating: /content/dataset/aclImdb/train/pos/9389_7.txt  \n",
            "  inflating: /content/dataset/__MACOSX/aclImdb/train/pos/._9389_7.txt  \n",
            "  inflating: /content/dataset/aclImdb/train/pos/938_9.txt  \n",
            "  inflating: /content/dataset/__MACOSX/aclImdb/train/pos/._938_9.txt  \n",
            "  inflating: /content/dataset/aclImdb/train/pos/9390_9.txt  \n",
            "  inflating: /content/dataset/__MACOSX/aclImdb/train/pos/._9390_9.txt  \n",
            "  inflating: /content/dataset/aclImdb/train/pos/9391_8.txt  \n",
            "  inflating: /content/dataset/__MACOSX/aclImdb/train/pos/._9391_8.txt  \n",
            "  inflating: /content/dataset/aclImdb/train/pos/9392_9.txt  \n",
            "  inflating: /content/dataset/__MACOSX/aclImdb/train/pos/._9392_9.txt  \n",
            "  inflating: /content/dataset/aclImdb/train/pos/9393_10.txt  \n",
            "  inflating: /content/dataset/__MACOSX/aclImdb/train/pos/._9393_10.txt  \n",
            "  inflating: /content/dataset/aclImdb/train/pos/9394_10.txt  \n",
            "  inflating: /content/dataset/__MACOSX/aclImdb/train/pos/._9394_10.txt  \n",
            "  inflating: /content/dataset/aclImdb/train/pos/9395_9.txt  \n",
            "  inflating: /content/dataset/__MACOSX/aclImdb/train/pos/._9395_9.txt  \n",
            "  inflating: /content/dataset/aclImdb/train/pos/9396_9.txt  \n",
            "  inflating: /content/dataset/__MACOSX/aclImdb/train/pos/._9396_9.txt  \n",
            "  inflating: /content/dataset/aclImdb/train/pos/9397_9.txt  \n",
            "  inflating: /content/dataset/__MACOSX/aclImdb/train/pos/._9397_9.txt  \n",
            "  inflating: /content/dataset/aclImdb/train/pos/9398_9.txt  \n",
            "  inflating: /content/dataset/__MACOSX/aclImdb/train/pos/._9398_9.txt  \n",
            "  inflating: /content/dataset/aclImdb/train/pos/9399_7.txt  \n",
            "  inflating: /content/dataset/__MACOSX/aclImdb/train/pos/._9399_7.txt  \n",
            "  inflating: /content/dataset/aclImdb/train/pos/939_10.txt  \n",
            "  inflating: /content/dataset/__MACOSX/aclImdb/train/pos/._939_10.txt  \n",
            "  inflating: /content/dataset/aclImdb/train/pos/93_10.txt  \n",
            "  inflating: /content/dataset/__MACOSX/aclImdb/train/pos/._93_10.txt  \n",
            "  inflating: /content/dataset/aclImdb/train/pos/9400_8.txt  \n",
            "  inflating: /content/dataset/__MACOSX/aclImdb/train/pos/._9400_8.txt  \n",
            "  inflating: /content/dataset/aclImdb/train/pos/9401_10.txt  \n",
            "  inflating: /content/dataset/__MACOSX/aclImdb/train/pos/._9401_10.txt  \n",
            "  inflating: /content/dataset/aclImdb/train/pos/9402_7.txt  \n",
            "  inflating: /content/dataset/__MACOSX/aclImdb/train/pos/._9402_7.txt  \n",
            "  inflating: /content/dataset/aclImdb/train/pos/9403_8.txt  \n",
            "  inflating: /content/dataset/__MACOSX/aclImdb/train/pos/._9403_8.txt  \n",
            "  inflating: /content/dataset/aclImdb/train/pos/9404_10.txt  \n",
            "  inflating: /content/dataset/__MACOSX/aclImdb/train/pos/._9404_10.txt  \n",
            "  inflating: /content/dataset/aclImdb/train/pos/9405_10.txt  \n",
            "  inflating: /content/dataset/__MACOSX/aclImdb/train/pos/._9405_10.txt  \n",
            "  inflating: /content/dataset/aclImdb/train/pos/9406_8.txt  \n",
            "  inflating: /content/dataset/__MACOSX/aclImdb/train/pos/._9406_8.txt  \n",
            "  inflating: /content/dataset/aclImdb/train/pos/9407_8.txt  \n",
            "  inflating: /content/dataset/__MACOSX/aclImdb/train/pos/._9407_8.txt  \n",
            "  inflating: /content/dataset/aclImdb/train/pos/9408_10.txt  \n",
            "  inflating: /content/dataset/__MACOSX/aclImdb/train/pos/._9408_10.txt  \n",
            "  inflating: /content/dataset/aclImdb/train/pos/9409_8.txt  \n",
            "  inflating: /content/dataset/__MACOSX/aclImdb/train/pos/._9409_8.txt  \n",
            "  inflating: /content/dataset/aclImdb/train/pos/940_10.txt  \n",
            "  inflating: /content/dataset/__MACOSX/aclImdb/train/pos/._940_10.txt  \n",
            "  inflating: /content/dataset/aclImdb/train/pos/9410_7.txt  \n",
            "  inflating: /content/dataset/__MACOSX/aclImdb/train/pos/._9410_7.txt  \n",
            "  inflating: /content/dataset/aclImdb/train/pos/9411_8.txt  \n",
            "  inflating: /content/dataset/__MACOSX/aclImdb/train/pos/._9411_8.txt  \n",
            "  inflating: /content/dataset/aclImdb/train/pos/9412_10.txt  \n",
            "  inflating: /content/dataset/__MACOSX/aclImdb/train/pos/._9412_10.txt  \n",
            "  inflating: /content/dataset/aclImdb/train/pos/9413_9.txt  \n",
            "  inflating: /content/dataset/__MACOSX/aclImdb/train/pos/._9413_9.txt  \n",
            "  inflating: /content/dataset/aclImdb/train/pos/9414_9.txt  \n",
            "  inflating: /content/dataset/__MACOSX/aclImdb/train/pos/._9414_9.txt  \n",
            "  inflating: /content/dataset/aclImdb/train/pos/9415_8.txt  \n",
            "  inflating: /content/dataset/__MACOSX/aclImdb/train/pos/._9415_8.txt  \n",
            "  inflating: /content/dataset/aclImdb/train/pos/9416_10.txt  \n",
            "  inflating: /content/dataset/__MACOSX/aclImdb/train/pos/._9416_10.txt  \n",
            "  inflating: /content/dataset/aclImdb/train/pos/9417_10.txt  \n",
            "  inflating: /content/dataset/__MACOSX/aclImdb/train/pos/._9417_10.txt  \n",
            "  inflating: /content/dataset/aclImdb/train/pos/9418_10.txt  \n",
            "  inflating: /content/dataset/__MACOSX/aclImdb/train/pos/._9418_10.txt  \n",
            "  inflating: /content/dataset/aclImdb/train/pos/9419_8.txt  \n",
            "  inflating: /content/dataset/__MACOSX/aclImdb/train/pos/._9419_8.txt  \n",
            "  inflating: /content/dataset/aclImdb/train/pos/941_10.txt  \n",
            "  inflating: /content/dataset/__MACOSX/aclImdb/train/pos/._941_10.txt  \n",
            "  inflating: /content/dataset/aclImdb/train/pos/9420_8.txt  \n",
            "  inflating: /content/dataset/__MACOSX/aclImdb/train/pos/._9420_8.txt  \n",
            "  inflating: /content/dataset/aclImdb/train/pos/9421_10.txt  \n",
            "  inflating: /content/dataset/__MACOSX/aclImdb/train/pos/._9421_10.txt  \n",
            "  inflating: /content/dataset/aclImdb/train/pos/9422_9.txt  \n",
            "  inflating: /content/dataset/__MACOSX/aclImdb/train/pos/._9422_9.txt  \n",
            "  inflating: /content/dataset/aclImdb/train/pos/9423_8.txt  \n",
            "  inflating: /content/dataset/__MACOSX/aclImdb/train/pos/._9423_8.txt  \n",
            "  inflating: /content/dataset/aclImdb/train/pos/9424_10.txt  \n",
            "  inflating: /content/dataset/__MACOSX/aclImdb/train/pos/._9424_10.txt  \n",
            "  inflating: /content/dataset/aclImdb/train/pos/9425_10.txt  \n",
            "  inflating: /content/dataset/__MACOSX/aclImdb/train/pos/._9425_10.txt  \n",
            "  inflating: /content/dataset/aclImdb/train/pos/9426_10.txt  \n",
            "  inflating: /content/dataset/__MACOSX/aclImdb/train/pos/._9426_10.txt  \n",
            "  inflating: /content/dataset/aclImdb/train/pos/9427_10.txt  \n",
            "  inflating: /content/dataset/__MACOSX/aclImdb/train/pos/._9427_10.txt  \n",
            "  inflating: /content/dataset/aclImdb/train/pos/9428_10.txt  \n",
            "  inflating: /content/dataset/__MACOSX/aclImdb/train/pos/._9428_10.txt  \n",
            "  inflating: /content/dataset/aclImdb/train/pos/9429_9.txt  \n",
            "  inflating: /content/dataset/__MACOSX/aclImdb/train/pos/._9429_9.txt  \n",
            "  inflating: /content/dataset/aclImdb/train/pos/942_10.txt  \n",
            "  inflating: /content/dataset/__MACOSX/aclImdb/train/pos/._942_10.txt  \n",
            "  inflating: /content/dataset/aclImdb/train/pos/9430_9.txt  \n",
            "  inflating: /content/dataset/__MACOSX/aclImdb/train/pos/._9430_9.txt  \n",
            "  inflating: /content/dataset/aclImdb/train/pos/9431_10.txt  \n",
            "  inflating: /content/dataset/__MACOSX/aclImdb/train/pos/._9431_10.txt  \n",
            "  inflating: /content/dataset/aclImdb/train/pos/9432_9.txt  \n",
            "  inflating: /content/dataset/__MACOSX/aclImdb/train/pos/._9432_9.txt  \n",
            "  inflating: /content/dataset/aclImdb/train/pos/9433_10.txt  \n",
            "  inflating: /content/dataset/__MACOSX/aclImdb/train/pos/._9433_10.txt  \n",
            "  inflating: /content/dataset/aclImdb/train/pos/9434_10.txt  \n",
            "  inflating: /content/dataset/__MACOSX/aclImdb/train/pos/._9434_10.txt  \n",
            "  inflating: /content/dataset/aclImdb/train/pos/9435_7.txt  \n",
            "  inflating: /content/dataset/__MACOSX/aclImdb/train/pos/._9435_7.txt  \n",
            "  inflating: /content/dataset/aclImdb/train/pos/9436_10.txt  \n",
            "  inflating: /content/dataset/__MACOSX/aclImdb/train/pos/._9436_10.txt  \n",
            "  inflating: /content/dataset/aclImdb/train/pos/9437_9.txt  \n",
            "  inflating: /content/dataset/__MACOSX/aclImdb/train/pos/._9437_9.txt  \n",
            "  inflating: /content/dataset/aclImdb/train/pos/9438_10.txt  \n",
            "  inflating: /content/dataset/__MACOSX/aclImdb/train/pos/._9438_10.txt  \n",
            "  inflating: /content/dataset/aclImdb/train/pos/9439_8.txt  \n",
            "  inflating: /content/dataset/__MACOSX/aclImdb/train/pos/._9439_8.txt  \n",
            "  inflating: /content/dataset/aclImdb/train/pos/943_10.txt  \n",
            "  inflating: /content/dataset/__MACOSX/aclImdb/train/pos/._943_10.txt  \n",
            "  inflating: /content/dataset/aclImdb/train/pos/9440_8.txt  \n",
            "  inflating: /content/dataset/__MACOSX/aclImdb/train/pos/._9440_8.txt  \n",
            "  inflating: /content/dataset/aclImdb/train/pos/9441_9.txt  \n",
            "  inflating: /content/dataset/__MACOSX/aclImdb/train/pos/._9441_9.txt  \n",
            "  inflating: /content/dataset/aclImdb/train/pos/9442_10.txt  \n",
            "  inflating: /content/dataset/__MACOSX/aclImdb/train/pos/._9442_10.txt  \n",
            "  inflating: /content/dataset/aclImdb/train/pos/9443_9.txt  \n",
            "  inflating: /content/dataset/__MACOSX/aclImdb/train/pos/._9443_9.txt  \n",
            "  inflating: /content/dataset/aclImdb/train/pos/9444_10.txt  \n",
            "  inflating: /content/dataset/__MACOSX/aclImdb/train/pos/._9444_10.txt  \n",
            "  inflating: /content/dataset/aclImdb/train/pos/9445_10.txt  \n",
            "  inflating: /content/dataset/__MACOSX/aclImdb/train/pos/._9445_10.txt  \n",
            "  inflating: /content/dataset/aclImdb/train/pos/9446_10.txt  \n",
            "  inflating: /content/dataset/__MACOSX/aclImdb/train/pos/._9446_10.txt  \n",
            "  inflating: /content/dataset/aclImdb/train/pos/9447_8.txt  \n",
            "  inflating: /content/dataset/__MACOSX/aclImdb/train/pos/._9447_8.txt  \n",
            "  inflating: /content/dataset/aclImdb/train/pos/9448_7.txt  \n",
            "  inflating: /content/dataset/__MACOSX/aclImdb/train/pos/._9448_7.txt  \n",
            "  inflating: /content/dataset/aclImdb/train/pos/9449_10.txt  \n",
            "  inflating: /content/dataset/__MACOSX/aclImdb/train/pos/._9449_10.txt  \n",
            "  inflating: /content/dataset/aclImdb/train/pos/944_10.txt  \n",
            "  inflating: /content/dataset/__MACOSX/aclImdb/train/pos/._944_10.txt  \n",
            "  inflating: /content/dataset/aclImdb/train/pos/9450_10.txt  \n",
            "  inflating: /content/dataset/__MACOSX/aclImdb/train/pos/._9450_10.txt  \n",
            "  inflating: /content/dataset/aclImdb/train/pos/9451_8.txt  \n",
            "  inflating: /content/dataset/__MACOSX/aclImdb/train/pos/._9451_8.txt  \n",
            "  inflating: /content/dataset/aclImdb/train/pos/9452_9.txt  \n",
            "  inflating: /content/dataset/__MACOSX/aclImdb/train/pos/._9452_9.txt  \n",
            "  inflating: /content/dataset/aclImdb/train/pos/9453_8.txt  \n",
            "  inflating: /content/dataset/__MACOSX/aclImdb/train/pos/._9453_8.txt  \n",
            "  inflating: /content/dataset/aclImdb/train/pos/9454_10.txt  \n",
            "  inflating: /content/dataset/__MACOSX/aclImdb/train/pos/._9454_10.txt  \n",
            "  inflating: /content/dataset/aclImdb/train/pos/9455_9.txt  \n",
            "  inflating: /content/dataset/__MACOSX/aclImdb/train/pos/._9455_9.txt  \n",
            "  inflating: /content/dataset/aclImdb/train/pos/9456_8.txt  \n",
            "  inflating: /content/dataset/__MACOSX/aclImdb/train/pos/._9456_8.txt  \n",
            "  inflating: /content/dataset/aclImdb/train/pos/9457_9.txt  \n",
            "  inflating: /content/dataset/__MACOSX/aclImdb/train/pos/._9457_9.txt  \n",
            "  inflating: /content/dataset/aclImdb/train/pos/9458_10.txt  \n",
            "  inflating: /content/dataset/__MACOSX/aclImdb/train/pos/._9458_10.txt  \n",
            "  inflating: /content/dataset/aclImdb/train/pos/9459_8.txt  \n",
            "  inflating: /content/dataset/__MACOSX/aclImdb/train/pos/._9459_8.txt  \n",
            "  inflating: /content/dataset/aclImdb/train/pos/945_10.txt  \n",
            "  inflating: /content/dataset/__MACOSX/aclImdb/train/pos/._945_10.txt  \n",
            "  inflating: /content/dataset/aclImdb/train/pos/9460_8.txt  \n",
            "  inflating: /content/dataset/__MACOSX/aclImdb/train/pos/._9460_8.txt  \n",
            "  inflating: /content/dataset/aclImdb/train/pos/9461_7.txt  \n",
            "  inflating: /content/dataset/__MACOSX/aclImdb/train/pos/._9461_7.txt  \n",
            "  inflating: /content/dataset/aclImdb/train/pos/9462_9.txt  \n",
            "  inflating: /content/dataset/__MACOSX/aclImdb/train/pos/._9462_9.txt  \n",
            "  inflating: /content/dataset/aclImdb/train/pos/9463_10.txt  \n",
            "  inflating: /content/dataset/__MACOSX/aclImdb/train/pos/._9463_10.txt  \n",
            "  inflating: /content/dataset/aclImdb/train/pos/9464_8.txt  \n",
            "  inflating: /content/dataset/__MACOSX/aclImdb/train/pos/._9464_8.txt  \n",
            "  inflating: /content/dataset/aclImdb/train/pos/9465_7.txt  \n",
            "  inflating: /content/dataset/__MACOSX/aclImdb/train/pos/._9465_7.txt  \n",
            "  inflating: /content/dataset/aclImdb/train/pos/9466_7.txt  \n",
            "  inflating: /content/dataset/__MACOSX/aclImdb/train/pos/._9466_7.txt  \n",
            "  inflating: /content/dataset/aclImdb/train/pos/9467_10.txt  \n",
            "  inflating: /content/dataset/__MACOSX/aclImdb/train/pos/._9467_10.txt  \n",
            "  inflating: /content/dataset/aclImdb/train/pos/9468_7.txt  \n",
            "  inflating: /content/dataset/__MACOSX/aclImdb/train/pos/._9468_7.txt  \n",
            "  inflating: /content/dataset/aclImdb/train/pos/9469_10.txt  \n",
            "  inflating: /content/dataset/__MACOSX/aclImdb/train/pos/._9469_10.txt  \n",
            "  inflating: /content/dataset/aclImdb/train/pos/946_8.txt  \n",
            "  inflating: /content/dataset/__MACOSX/aclImdb/train/pos/._946_8.txt  \n",
            "  inflating: /content/dataset/aclImdb/train/pos/9470_8.txt  \n",
            "  inflating: /content/dataset/__MACOSX/aclImdb/train/pos/._9470_8.txt  \n",
            "  inflating: /content/dataset/aclImdb/train/pos/9471_7.txt  \n",
            "  inflating: /content/dataset/__MACOSX/aclImdb/train/pos/._9471_7.txt  \n",
            "  inflating: /content/dataset/aclImdb/train/pos/9472_8.txt  \n",
            "  inflating: /content/dataset/__MACOSX/aclImdb/train/pos/._9472_8.txt  \n",
            "  inflating: /content/dataset/aclImdb/train/pos/9473_10.txt  \n",
            "  inflating: /content/dataset/__MACOSX/aclImdb/train/pos/._9473_10.txt  \n",
            "  inflating: /content/dataset/aclImdb/train/pos/9474_10.txt  \n",
            "  inflating: /content/dataset/__MACOSX/aclImdb/train/pos/._9474_10.txt  \n",
            "  inflating: /content/dataset/aclImdb/train/pos/9475_9.txt  \n",
            "  inflating: /content/dataset/__MACOSX/aclImdb/train/pos/._9475_9.txt  \n",
            "  inflating: /content/dataset/aclImdb/train/pos/9476_9.txt  \n",
            "  inflating: /content/dataset/__MACOSX/aclImdb/train/pos/._9476_9.txt  \n",
            "  inflating: /content/dataset/aclImdb/train/pos/9477_9.txt  \n",
            "  inflating: /content/dataset/__MACOSX/aclImdb/train/pos/._9477_9.txt  \n",
            "  inflating: /content/dataset/aclImdb/train/pos/9478_8.txt  \n",
            "  inflating: /content/dataset/__MACOSX/aclImdb/train/pos/._9478_8.txt  \n",
            "  inflating: /content/dataset/aclImdb/train/pos/9479_10.txt  \n",
            "  inflating: /content/dataset/__MACOSX/aclImdb/train/pos/._9479_10.txt  \n",
            "  inflating: /content/dataset/aclImdb/train/pos/947_10.txt  \n",
            "  inflating: /content/dataset/__MACOSX/aclImdb/train/pos/._947_10.txt  \n",
            "  inflating: /content/dataset/aclImdb/train/pos/9480_10.txt  \n",
            "  inflating: /content/dataset/__MACOSX/aclImdb/train/pos/._9480_10.txt  \n",
            "  inflating: /content/dataset/aclImdb/train/pos/9481_9.txt  \n",
            "  inflating: /content/dataset/__MACOSX/aclImdb/train/pos/._9481_9.txt  \n",
            "  inflating: /content/dataset/aclImdb/train/pos/9482_7.txt  \n",
            "  inflating: /content/dataset/__MACOSX/aclImdb/train/pos/._9482_7.txt  \n",
            "  inflating: /content/dataset/aclImdb/train/pos/9483_10.txt  \n",
            "  inflating: /content/dataset/__MACOSX/aclImdb/train/pos/._9483_10.txt  \n",
            "  inflating: /content/dataset/aclImdb/train/pos/9484_10.txt  \n",
            "  inflating: /content/dataset/__MACOSX/aclImdb/train/pos/._9484_10.txt  \n",
            "  inflating: /content/dataset/aclImdb/train/pos/9485_10.txt  \n",
            "  inflating: /content/dataset/__MACOSX/aclImdb/train/pos/._9485_10.txt  \n",
            "  inflating: /content/dataset/aclImdb/train/pos/9486_10.txt  \n",
            "  inflating: /content/dataset/__MACOSX/aclImdb/train/pos/._9486_10.txt  \n",
            "  inflating: /content/dataset/aclImdb/train/pos/9487_8.txt  \n",
            "  inflating: /content/dataset/__MACOSX/aclImdb/train/pos/._9487_8.txt  \n",
            "  inflating: /content/dataset/aclImdb/train/pos/9488_10.txt  \n",
            "  inflating: /content/dataset/__MACOSX/aclImdb/train/pos/._9488_10.txt  \n",
            "  inflating: /content/dataset/aclImdb/train/pos/9489_9.txt  \n",
            "  inflating: /content/dataset/__MACOSX/aclImdb/train/pos/._9489_9.txt  \n",
            "  inflating: /content/dataset/aclImdb/train/pos/948_10.txt  \n",
            "  inflating: /content/dataset/__MACOSX/aclImdb/train/pos/._948_10.txt  \n",
            "  inflating: /content/dataset/aclImdb/train/pos/9490_10.txt  \n",
            "  inflating: /content/dataset/__MACOSX/aclImdb/train/pos/._9490_10.txt  \n",
            "  inflating: /content/dataset/aclImdb/train/pos/9491_10.txt  \n",
            "  inflating: /content/dataset/__MACOSX/aclImdb/train/pos/._9491_10.txt  \n",
            "  inflating: /content/dataset/aclImdb/train/pos/9492_7.txt  \n",
            "  inflating: /content/dataset/__MACOSX/aclImdb/train/pos/._9492_7.txt  \n",
            "  inflating: /content/dataset/aclImdb/train/pos/9493_8.txt  \n",
            "  inflating: /content/dataset/__MACOSX/aclImdb/train/pos/._9493_8.txt  \n",
            "  inflating: /content/dataset/aclImdb/train/pos/9494_10.txt  \n",
            "  inflating: /content/dataset/__MACOSX/aclImdb/train/pos/._9494_10.txt  \n",
            "  inflating: /content/dataset/aclImdb/train/pos/9495_8.txt  \n",
            "  inflating: /content/dataset/__MACOSX/aclImdb/train/pos/._9495_8.txt  \n",
            "  inflating: /content/dataset/aclImdb/train/pos/9496_10.txt  \n",
            "  inflating: /content/dataset/__MACOSX/aclImdb/train/pos/._9496_10.txt  \n",
            "  inflating: /content/dataset/aclImdb/train/pos/9497_8.txt  \n",
            "  inflating: /content/dataset/__MACOSX/aclImdb/train/pos/._9497_8.txt  \n",
            "  inflating: /content/dataset/aclImdb/train/pos/9498_8.txt  \n",
            "  inflating: /content/dataset/__MACOSX/aclImdb/train/pos/._9498_8.txt  \n",
            "  inflating: /content/dataset/aclImdb/train/pos/9499_7.txt  \n",
            "  inflating: /content/dataset/__MACOSX/aclImdb/train/pos/._9499_7.txt  \n",
            "  inflating: /content/dataset/aclImdb/train/pos/949_8.txt  \n",
            "  inflating: /content/dataset/__MACOSX/aclImdb/train/pos/._949_8.txt  \n",
            "  inflating: /content/dataset/aclImdb/train/pos/94_10.txt  \n",
            "  inflating: /content/dataset/__MACOSX/aclImdb/train/pos/._94_10.txt  \n",
            "  inflating: /content/dataset/aclImdb/train/pos/9500_7.txt  \n",
            "  inflating: /content/dataset/__MACOSX/aclImdb/train/pos/._9500_7.txt  \n",
            "  inflating: /content/dataset/aclImdb/train/pos/9501_10.txt  \n",
            "  inflating: /content/dataset/__MACOSX/aclImdb/train/pos/._9501_10.txt  \n",
            "  inflating: /content/dataset/aclImdb/train/pos/9502_8.txt  \n",
            "  inflating: /content/dataset/__MACOSX/aclImdb/train/pos/._9502_8.txt  \n",
            "  inflating: /content/dataset/aclImdb/train/pos/9503_7.txt  \n",
            "  inflating: /content/dataset/__MACOSX/aclImdb/train/pos/._9503_7.txt  \n",
            "  inflating: /content/dataset/aclImdb/train/pos/9504_10.txt  \n",
            "  inflating: /content/dataset/__MACOSX/aclImdb/train/pos/._9504_10.txt  \n",
            "  inflating: /content/dataset/aclImdb/train/pos/9505_10.txt  \n",
            "  inflating: /content/dataset/__MACOSX/aclImdb/train/pos/._9505_10.txt  \n",
            "  inflating: /content/dataset/aclImdb/train/pos/9506_8.txt  \n",
            "  inflating: /content/dataset/__MACOSX/aclImdb/train/pos/._9506_8.txt  \n",
            "  inflating: /content/dataset/aclImdb/train/pos/9507_10.txt  \n",
            "  inflating: /content/dataset/__MACOSX/aclImdb/train/pos/._9507_10.txt  \n",
            "  inflating: /content/dataset/aclImdb/train/pos/9508_8.txt  \n",
            "  inflating: /content/dataset/__MACOSX/aclImdb/train/pos/._9508_8.txt  \n",
            "  inflating: /content/dataset/aclImdb/train/pos/9509_9.txt  \n",
            "  inflating: /content/dataset/__MACOSX/aclImdb/train/pos/._9509_9.txt  \n",
            "  inflating: /content/dataset/aclImdb/train/pos/950_9.txt  \n",
            "  inflating: /content/dataset/__MACOSX/aclImdb/train/pos/._950_9.txt  \n",
            "  inflating: /content/dataset/aclImdb/train/pos/9510_8.txt  \n",
            "  inflating: /content/dataset/__MACOSX/aclImdb/train/pos/._9510_8.txt  \n",
            "  inflating: /content/dataset/aclImdb/train/pos/9511_7.txt  \n",
            "  inflating: /content/dataset/__MACOSX/aclImdb/train/pos/._9511_7.txt  \n",
            "  inflating: /content/dataset/aclImdb/train/pos/9512_8.txt  \n",
            "  inflating: /content/dataset/__MACOSX/aclImdb/train/pos/._9512_8.txt  \n",
            "  inflating: /content/dataset/aclImdb/train/pos/9513_10.txt  \n",
            "  inflating: /content/dataset/__MACOSX/aclImdb/train/pos/._9513_10.txt  \n",
            "  inflating: /content/dataset/aclImdb/train/pos/9514_10.txt  \n",
            "  inflating: /content/dataset/__MACOSX/aclImdb/train/pos/._9514_10.txt  \n",
            "  inflating: /content/dataset/aclImdb/train/pos/9515_10.txt  \n",
            "  inflating: /content/dataset/__MACOSX/aclImdb/train/pos/._9515_10.txt  \n",
            "  inflating: /content/dataset/aclImdb/train/pos/9516_8.txt  \n",
            "  inflating: /content/dataset/__MACOSX/aclImdb/train/pos/._9516_8.txt  \n",
            "  inflating: /content/dataset/aclImdb/train/pos/9517_10.txt  \n",
            "  inflating: /content/dataset/__MACOSX/aclImdb/train/pos/._9517_10.txt  \n",
            "  inflating: /content/dataset/aclImdb/train/pos/9518_10.txt  \n",
            "  inflating: /content/dataset/__MACOSX/aclImdb/train/pos/._9518_10.txt  \n",
            "  inflating: /content/dataset/aclImdb/train/pos/9519_10.txt  \n",
            "  inflating: /content/dataset/__MACOSX/aclImdb/train/pos/._9519_10.txt  \n",
            "  inflating: /content/dataset/aclImdb/train/pos/951_10.txt  \n",
            "  inflating: /content/dataset/__MACOSX/aclImdb/train/pos/._951_10.txt  \n",
            "  inflating: /content/dataset/aclImdb/train/pos/9520_10.txt  \n",
            "  inflating: /content/dataset/__MACOSX/aclImdb/train/pos/._9520_10.txt  \n",
            "  inflating: /content/dataset/aclImdb/train/pos/9521_10.txt  \n",
            "  inflating: /content/dataset/__MACOSX/aclImdb/train/pos/._9521_10.txt  \n",
            "  inflating: /content/dataset/aclImdb/train/pos/9522_10.txt  \n",
            "  inflating: /content/dataset/__MACOSX/aclImdb/train/pos/._9522_10.txt  \n",
            "  inflating: /content/dataset/aclImdb/train/pos/9523_10.txt  \n",
            "  inflating: /content/dataset/__MACOSX/aclImdb/train/pos/._9523_10.txt  \n",
            "  inflating: /content/dataset/aclImdb/train/pos/9524_9.txt  \n",
            "  inflating: /content/dataset/__MACOSX/aclImdb/train/pos/._9524_9.txt  \n",
            "  inflating: /content/dataset/aclImdb/train/pos/9525_8.txt  \n",
            "  inflating: /content/dataset/__MACOSX/aclImdb/train/pos/._9525_8.txt  \n",
            "  inflating: /content/dataset/aclImdb/train/pos/9526_10.txt  \n",
            "  inflating: /content/dataset/__MACOSX/aclImdb/train/pos/._9526_10.txt  \n",
            "  inflating: /content/dataset/aclImdb/train/pos/9527_10.txt  \n",
            "  inflating: /content/dataset/__MACOSX/aclImdb/train/pos/._9527_10.txt  \n",
            "  inflating: /content/dataset/aclImdb/train/pos/9528_9.txt  \n",
            "  inflating: /content/dataset/__MACOSX/aclImdb/train/pos/._9528_9.txt  \n",
            "  inflating: /content/dataset/aclImdb/train/pos/9529_9.txt  \n",
            "  inflating: /content/dataset/__MACOSX/aclImdb/train/pos/._9529_9.txt  \n",
            "  inflating: /content/dataset/aclImdb/train/pos/952_10.txt  \n",
            "  inflating: /content/dataset/__MACOSX/aclImdb/train/pos/._952_10.txt  \n",
            "  inflating: /content/dataset/aclImdb/train/pos/9530_9.txt  \n",
            "  inflating: /content/dataset/__MACOSX/aclImdb/train/pos/._9530_9.txt  \n",
            "  inflating: /content/dataset/aclImdb/train/pos/9531_7.txt  \n",
            "  inflating: /content/dataset/__MACOSX/aclImdb/train/pos/._9531_7.txt  \n",
            "  inflating: /content/dataset/aclImdb/train/pos/9532_10.txt  \n",
            "  inflating: /content/dataset/__MACOSX/aclImdb/train/pos/._9532_10.txt  \n",
            "  inflating: /content/dataset/aclImdb/train/pos/9533_9.txt  \n",
            "  inflating: /content/dataset/__MACOSX/aclImdb/train/pos/._9533_9.txt  \n",
            "  inflating: /content/dataset/aclImdb/train/pos/9534_10.txt  \n",
            "  inflating: /content/dataset/__MACOSX/aclImdb/train/pos/._9534_10.txt  \n",
            "  inflating: /content/dataset/aclImdb/train/pos/9535_10.txt  \n",
            "  inflating: /content/dataset/__MACOSX/aclImdb/train/pos/._9535_10.txt  \n",
            "  inflating: /content/dataset/aclImdb/train/pos/9536_7.txt  \n",
            "  inflating: /content/dataset/__MACOSX/aclImdb/train/pos/._9536_7.txt  \n",
            "  inflating: /content/dataset/aclImdb/train/pos/9537_8.txt  \n",
            "  inflating: /content/dataset/__MACOSX/aclImdb/train/pos/._9537_8.txt  \n",
            "  inflating: /content/dataset/aclImdb/train/pos/9538_10.txt  \n",
            "  inflating: /content/dataset/__MACOSX/aclImdb/train/pos/._9538_10.txt  \n",
            "  inflating: /content/dataset/aclImdb/train/pos/9539_7.txt  \n",
            "  inflating: /content/dataset/__MACOSX/aclImdb/train/pos/._9539_7.txt  \n",
            "  inflating: /content/dataset/aclImdb/train/pos/953_10.txt  \n",
            "  inflating: /content/dataset/__MACOSX/aclImdb/train/pos/._953_10.txt  \n",
            "  inflating: /content/dataset/aclImdb/train/pos/9540_8.txt  \n",
            "  inflating: /content/dataset/__MACOSX/aclImdb/train/pos/._9540_8.txt  \n",
            "  inflating: /content/dataset/aclImdb/train/pos/9541_8.txt  \n",
            "  inflating: /content/dataset/__MACOSX/aclImdb/train/pos/._9541_8.txt  \n",
            "  inflating: /content/dataset/aclImdb/train/pos/9542_10.txt  \n",
            "  inflating: /content/dataset/__MACOSX/aclImdb/train/pos/._9542_10.txt  \n",
            "  inflating: /content/dataset/aclImdb/train/pos/9543_7.txt  \n",
            "  inflating: /content/dataset/__MACOSX/aclImdb/train/pos/._9543_7.txt  \n",
            "  inflating: /content/dataset/aclImdb/train/pos/9544_10.txt  \n",
            "  inflating: /content/dataset/__MACOSX/aclImdb/train/pos/._9544_10.txt  \n",
            "  inflating: /content/dataset/aclImdb/train/pos/9545_7.txt  \n",
            "  inflating: /content/dataset/__MACOSX/aclImdb/train/pos/._9545_7.txt  \n",
            "  inflating: /content/dataset/aclImdb/train/pos/9546_8.txt  \n",
            "  inflating: /content/dataset/__MACOSX/aclImdb/train/pos/._9546_8.txt  \n",
            "  inflating: /content/dataset/aclImdb/train/pos/9547_9.txt  \n",
            "  inflating: /content/dataset/__MACOSX/aclImdb/train/pos/._9547_9.txt  \n",
            "  inflating: /content/dataset/aclImdb/train/pos/9548_10.txt  \n",
            "  inflating: /content/dataset/__MACOSX/aclImdb/train/pos/._9548_10.txt  \n",
            "  inflating: /content/dataset/aclImdb/train/pos/9549_8.txt  \n",
            "  inflating: /content/dataset/__MACOSX/aclImdb/train/pos/._9549_8.txt  \n",
            "  inflating: /content/dataset/aclImdb/train/pos/954_10.txt  \n",
            "  inflating: /content/dataset/__MACOSX/aclImdb/train/pos/._954_10.txt  \n",
            "  inflating: /content/dataset/aclImdb/train/pos/9550_7.txt  \n",
            "  inflating: /content/dataset/__MACOSX/aclImdb/train/pos/._9550_7.txt  \n",
            "  inflating: /content/dataset/aclImdb/train/pos/9551_10.txt  \n",
            "  inflating: /content/dataset/__MACOSX/aclImdb/train/pos/._9551_10.txt  \n",
            "  inflating: /content/dataset/aclImdb/train/pos/9552_8.txt  \n",
            "  inflating: /content/dataset/__MACOSX/aclImdb/train/pos/._9552_8.txt  \n",
            "  inflating: /content/dataset/aclImdb/train/pos/9553_9.txt  \n",
            "  inflating: /content/dataset/__MACOSX/aclImdb/train/pos/._9553_9.txt  \n",
            "  inflating: /content/dataset/aclImdb/train/pos/9554_8.txt  \n",
            "  inflating: /content/dataset/__MACOSX/aclImdb/train/pos/._9554_8.txt  \n",
            "  inflating: /content/dataset/aclImdb/train/pos/9555_10.txt  \n",
            "  inflating: /content/dataset/__MACOSX/aclImdb/train/pos/._9555_10.txt  \n",
            "  inflating: /content/dataset/aclImdb/train/pos/9556_10.txt  \n",
            "  inflating: /content/dataset/__MACOSX/aclImdb/train/pos/._9556_10.txt  \n",
            "  inflating: /content/dataset/aclImdb/train/pos/9557_7.txt  \n",
            "  inflating: /content/dataset/__MACOSX/aclImdb/train/pos/._9557_7.txt  \n",
            "  inflating: /content/dataset/aclImdb/train/pos/9558_10.txt  \n",
            "  inflating: /content/dataset/__MACOSX/aclImdb/train/pos/._9558_10.txt  \n",
            "  inflating: /content/dataset/aclImdb/train/pos/9559_8.txt  \n",
            "  inflating: /content/dataset/__MACOSX/aclImdb/train/pos/._9559_8.txt  \n",
            "  inflating: /content/dataset/aclImdb/train/pos/955_7.txt  \n",
            "  inflating: /content/dataset/__MACOSX/aclImdb/train/pos/._955_7.txt  \n",
            "  inflating: /content/dataset/aclImdb/train/pos/9560_9.txt  \n",
            "  inflating: /content/dataset/__MACOSX/aclImdb/train/pos/._9560_9.txt  \n",
            "  inflating: /content/dataset/aclImdb/train/pos/9561_8.txt  \n",
            "  inflating: /content/dataset/__MACOSX/aclImdb/train/pos/._9561_8.txt  \n",
            "  inflating: /content/dataset/aclImdb/train/pos/9562_8.txt  \n",
            "  inflating: /content/dataset/__MACOSX/aclImdb/train/pos/._9562_8.txt  \n",
            "  inflating: /content/dataset/aclImdb/train/pos/9563_9.txt  \n",
            "  inflating: /content/dataset/__MACOSX/aclImdb/train/pos/._9563_9.txt  \n",
            "  inflating: /content/dataset/aclImdb/train/pos/9564_10.txt  \n",
            "  inflating: /content/dataset/__MACOSX/aclImdb/train/pos/._9564_10.txt  \n",
            "  inflating: /content/dataset/aclImdb/train/pos/9565_8.txt  \n",
            "  inflating: /content/dataset/__MACOSX/aclImdb/train/pos/._9565_8.txt  \n",
            "  inflating: /content/dataset/aclImdb/train/pos/9566_7.txt  \n",
            "  inflating: /content/dataset/__MACOSX/aclImdb/train/pos/._9566_7.txt  \n",
            "  inflating: /content/dataset/aclImdb/train/pos/9567_7.txt  \n",
            "  inflating: /content/dataset/__MACOSX/aclImdb/train/pos/._9567_7.txt  \n",
            "  inflating: /content/dataset/aclImdb/train/pos/9568_7.txt  \n",
            "  inflating: /content/dataset/__MACOSX/aclImdb/train/pos/._9568_7.txt  \n",
            "  inflating: /content/dataset/aclImdb/train/pos/9569_9.txt  \n",
            "  inflating: /content/dataset/__MACOSX/aclImdb/train/pos/._9569_9.txt  \n",
            "  inflating: /content/dataset/aclImdb/train/pos/956_9.txt  \n",
            "  inflating: /content/dataset/__MACOSX/aclImdb/train/pos/._956_9.txt  \n",
            "  inflating: /content/dataset/aclImdb/train/pos/9570_8.txt  \n",
            "  inflating: /content/dataset/__MACOSX/aclImdb/train/pos/._9570_8.txt  \n",
            "  inflating: /content/dataset/aclImdb/train/pos/9571_9.txt  \n",
            "  inflating: /content/dataset/__MACOSX/aclImdb/train/pos/._9571_9.txt  \n",
            "  inflating: /content/dataset/aclImdb/train/pos/9572_8.txt  \n",
            "  inflating: /content/dataset/__MACOSX/aclImdb/train/pos/._9572_8.txt  \n",
            "  inflating: /content/dataset/aclImdb/train/pos/9573_8.txt  \n",
            "  inflating: /content/dataset/__MACOSX/aclImdb/train/pos/._9573_8.txt  \n",
            "  inflating: /content/dataset/aclImdb/train/pos/9574_9.txt  \n",
            "  inflating: /content/dataset/__MACOSX/aclImdb/train/pos/._9574_9.txt  \n",
            "  inflating: /content/dataset/aclImdb/train/pos/9575_9.txt  \n",
            "  inflating: /content/dataset/__MACOSX/aclImdb/train/pos/._9575_9.txt  \n",
            "  inflating: /content/dataset/aclImdb/train/pos/9576_9.txt  \n",
            "  inflating: /content/dataset/__MACOSX/aclImdb/train/pos/._9576_9.txt  \n",
            "  inflating: /content/dataset/aclImdb/train/pos/9577_8.txt  \n",
            "  inflating: /content/dataset/__MACOSX/aclImdb/train/pos/._9577_8.txt  \n",
            "  inflating: /content/dataset/aclImdb/train/pos/9578_10.txt  \n",
            "  inflating: /content/dataset/__MACOSX/aclImdb/train/pos/._9578_10.txt  \n",
            "  inflating: /content/dataset/aclImdb/train/pos/9579_8.txt  \n",
            "  inflating: /content/dataset/__MACOSX/aclImdb/train/pos/._9579_8.txt  \n",
            "  inflating: /content/dataset/aclImdb/train/pos/957_10.txt  \n",
            "  inflating: /content/dataset/__MACOSX/aclImdb/train/pos/._957_10.txt  \n",
            "  inflating: /content/dataset/aclImdb/train/pos/9580_7.txt  \n",
            "  inflating: /content/dataset/__MACOSX/aclImdb/train/pos/._9580_7.txt  \n",
            "  inflating: /content/dataset/aclImdb/train/pos/9581_10.txt  \n",
            "  inflating: /content/dataset/__MACOSX/aclImdb/train/pos/._9581_10.txt  \n",
            "  inflating: /content/dataset/aclImdb/train/pos/9582_10.txt  \n",
            "  inflating: /content/dataset/__MACOSX/aclImdb/train/pos/._9582_10.txt  \n",
            "  inflating: /content/dataset/aclImdb/train/pos/9583_8.txt  \n",
            "  inflating: /content/dataset/__MACOSX/aclImdb/train/pos/._9583_8.txt  \n",
            "  inflating: /content/dataset/aclImdb/train/pos/9584_10.txt  \n",
            "  inflating: /content/dataset/__MACOSX/aclImdb/train/pos/._9584_10.txt  \n",
            "  inflating: /content/dataset/aclImdb/train/pos/9585_10.txt  \n",
            "  inflating: /content/dataset/__MACOSX/aclImdb/train/pos/._9585_10.txt  \n",
            "  inflating: /content/dataset/aclImdb/train/pos/9586_10.txt  \n",
            "  inflating: /content/dataset/__MACOSX/aclImdb/train/pos/._9586_10.txt  \n",
            "  inflating: /content/dataset/aclImdb/train/pos/9587_10.txt  \n",
            "  inflating: /content/dataset/__MACOSX/aclImdb/train/pos/._9587_10.txt  \n",
            "  inflating: /content/dataset/aclImdb/train/pos/9588_10.txt  \n",
            "  inflating: /content/dataset/__MACOSX/aclImdb/train/pos/._9588_10.txt  \n",
            "  inflating: /content/dataset/aclImdb/train/pos/9589_10.txt  \n",
            "  inflating: /content/dataset/__MACOSX/aclImdb/train/pos/._9589_10.txt  \n",
            "  inflating: /content/dataset/aclImdb/train/pos/958_9.txt  \n",
            "  inflating: /content/dataset/__MACOSX/aclImdb/train/pos/._958_9.txt  \n",
            "  inflating: /content/dataset/aclImdb/train/pos/9590_10.txt  \n",
            "  inflating: /content/dataset/__MACOSX/aclImdb/train/pos/._9590_10.txt  \n",
            "  inflating: /content/dataset/aclImdb/train/pos/9591_10.txt  \n",
            "  inflating: /content/dataset/__MACOSX/aclImdb/train/pos/._9591_10.txt  \n",
            "  inflating: /content/dataset/aclImdb/train/pos/9592_8.txt  \n",
            "  inflating: /content/dataset/__MACOSX/aclImdb/train/pos/._9592_8.txt  \n",
            "  inflating: /content/dataset/aclImdb/train/pos/9593_10.txt  \n",
            "  inflating: /content/dataset/__MACOSX/aclImdb/train/pos/._9593_10.txt  \n",
            "  inflating: /content/dataset/aclImdb/train/pos/9594_10.txt  \n",
            "  inflating: /content/dataset/__MACOSX/aclImdb/train/pos/._9594_10.txt  \n",
            "  inflating: /content/dataset/aclImdb/train/pos/9595_10.txt  \n",
            "  inflating: /content/dataset/__MACOSX/aclImdb/train/pos/._9595_10.txt  \n",
            "  inflating: /content/dataset/aclImdb/train/pos/9596_10.txt  \n",
            "  inflating: /content/dataset/__MACOSX/aclImdb/train/pos/._9596_10.txt  \n",
            "  inflating: /content/dataset/aclImdb/train/pos/9597_10.txt  \n",
            "  inflating: /content/dataset/__MACOSX/aclImdb/train/pos/._9597_10.txt  \n",
            "  inflating: /content/dataset/aclImdb/train/pos/9598_10.txt  \n",
            "  inflating: /content/dataset/__MACOSX/aclImdb/train/pos/._9598_10.txt  \n",
            "  inflating: /content/dataset/aclImdb/train/pos/9599_9.txt  \n",
            "  inflating: /content/dataset/__MACOSX/aclImdb/train/pos/._9599_9.txt  \n",
            "  inflating: /content/dataset/aclImdb/train/pos/959_7.txt  \n",
            "  inflating: /content/dataset/__MACOSX/aclImdb/train/pos/._959_7.txt  \n",
            "  inflating: /content/dataset/aclImdb/train/pos/95_10.txt  \n",
            "  inflating: /content/dataset/__MACOSX/aclImdb/train/pos/._95_10.txt  \n",
            "  inflating: /content/dataset/aclImdb/train/pos/9600_8.txt  \n",
            "  inflating: /content/dataset/__MACOSX/aclImdb/train/pos/._9600_8.txt  \n",
            "  inflating: /content/dataset/aclImdb/train/pos/9601_10.txt  \n",
            "  inflating: /content/dataset/__MACOSX/aclImdb/train/pos/._9601_10.txt  \n",
            "  inflating: /content/dataset/aclImdb/train/pos/9602_10.txt  \n",
            "  inflating: /content/dataset/__MACOSX/aclImdb/train/pos/._9602_10.txt  \n",
            "  inflating: /content/dataset/aclImdb/train/pos/9603_10.txt  \n",
            "  inflating: /content/dataset/__MACOSX/aclImdb/train/pos/._9603_10.txt  \n",
            "  inflating: /content/dataset/aclImdb/train/pos/9604_10.txt  \n",
            "  inflating: /content/dataset/__MACOSX/aclImdb/train/pos/._9604_10.txt  \n",
            "  inflating: /content/dataset/aclImdb/train/pos/9605_10.txt  \n",
            "  inflating: /content/dataset/__MACOSX/aclImdb/train/pos/._9605_10.txt  \n",
            "  inflating: /content/dataset/aclImdb/train/pos/9606_10.txt  \n",
            "  inflating: /content/dataset/__MACOSX/aclImdb/train/pos/._9606_10.txt  \n",
            "  inflating: /content/dataset/aclImdb/train/pos/9607_9.txt  \n",
            "  inflating: /content/dataset/__MACOSX/aclImdb/train/pos/._9607_9.txt  \n",
            "  inflating: /content/dataset/aclImdb/train/pos/9608_10.txt  \n",
            "  inflating: /content/dataset/__MACOSX/aclImdb/train/pos/._9608_10.txt  \n",
            "  inflating: /content/dataset/aclImdb/train/pos/9609_7.txt  \n",
            "  inflating: /content/dataset/__MACOSX/aclImdb/train/pos/._9609_7.txt  \n",
            "  inflating: /content/dataset/aclImdb/train/pos/960_7.txt  \n",
            "  inflating: /content/dataset/__MACOSX/aclImdb/train/pos/._960_7.txt  \n",
            "  inflating: /content/dataset/aclImdb/train/pos/9610_10.txt  \n",
            "  inflating: /content/dataset/__MACOSX/aclImdb/train/pos/._9610_10.txt  \n",
            "  inflating: /content/dataset/aclImdb/train/pos/9611_8.txt  \n",
            "  inflating: /content/dataset/__MACOSX/aclImdb/train/pos/._9611_8.txt  \n",
            "  inflating: /content/dataset/aclImdb/train/pos/9612_8.txt  \n",
            "  inflating: /content/dataset/__MACOSX/aclImdb/train/pos/._9612_8.txt  \n",
            "  inflating: /content/dataset/aclImdb/train/pos/9613_10.txt  \n",
            "  inflating: /content/dataset/__MACOSX/aclImdb/train/pos/._9613_10.txt  \n",
            "  inflating: /content/dataset/aclImdb/train/pos/9614_10.txt  \n",
            "  inflating: /content/dataset/__MACOSX/aclImdb/train/pos/._9614_10.txt  \n",
            "  inflating: /content/dataset/aclImdb/train/pos/9615_9.txt  \n",
            "  inflating: /content/dataset/__MACOSX/aclImdb/train/pos/._9615_9.txt  \n",
            "  inflating: /content/dataset/aclImdb/train/pos/9616_8.txt  \n",
            "  inflating: /content/dataset/__MACOSX/aclImdb/train/pos/._9616_8.txt  \n",
            "  inflating: /content/dataset/aclImdb/train/pos/9617_10.txt  \n",
            "  inflating: /content/dataset/__MACOSX/aclImdb/train/pos/._9617_10.txt  \n",
            "  inflating: /content/dataset/aclImdb/train/pos/9618_8.txt  \n",
            "  inflating: /content/dataset/__MACOSX/aclImdb/train/pos/._9618_8.txt  \n",
            "  inflating: /content/dataset/aclImdb/train/pos/9619_10.txt  \n",
            "  inflating: /content/dataset/__MACOSX/aclImdb/train/pos/._9619_10.txt  \n",
            "  inflating: /content/dataset/aclImdb/train/pos/961_9.txt  \n",
            "  inflating: /content/dataset/__MACOSX/aclImdb/train/pos/._961_9.txt  \n",
            "  inflating: /content/dataset/aclImdb/train/pos/9620_7.txt  \n",
            "  inflating: /content/dataset/__MACOSX/aclImdb/train/pos/._9620_7.txt  \n",
            "  inflating: /content/dataset/aclImdb/train/pos/9621_8.txt  \n",
            "  inflating: /content/dataset/__MACOSX/aclImdb/train/pos/._9621_8.txt  \n",
            "  inflating: /content/dataset/aclImdb/train/pos/9622_10.txt  \n",
            "  inflating: /content/dataset/__MACOSX/aclImdb/train/pos/._9622_10.txt  \n",
            "  inflating: /content/dataset/aclImdb/train/pos/9623_7.txt  \n",
            "  inflating: /content/dataset/__MACOSX/aclImdb/train/pos/._9623_7.txt  \n",
            "  inflating: /content/dataset/aclImdb/train/pos/9624_10.txt  \n",
            "  inflating: /content/dataset/__MACOSX/aclImdb/train/pos/._9624_10.txt  \n",
            "  inflating: /content/dataset/aclImdb/train/pos/9625_8.txt  \n",
            "  inflating: /content/dataset/__MACOSX/aclImdb/train/pos/._9625_8.txt  \n",
            "  inflating: /content/dataset/aclImdb/train/pos/9626_8.txt  \n",
            "  inflating: /content/dataset/__MACOSX/aclImdb/train/pos/._9626_8.txt  \n",
            "  inflating: /content/dataset/aclImdb/train/pos/9627_10.txt  \n",
            "  inflating: /content/dataset/__MACOSX/aclImdb/train/pos/._9627_10.txt  \n",
            "  inflating: /content/dataset/aclImdb/train/pos/9628_8.txt  \n",
            "  inflating: /content/dataset/__MACOSX/aclImdb/train/pos/._9628_8.txt  \n",
            "  inflating: /content/dataset/aclImdb/train/pos/9629_8.txt  \n",
            "  inflating: /content/dataset/__MACOSX/aclImdb/train/pos/._9629_8.txt  \n",
            "  inflating: /content/dataset/aclImdb/train/pos/962_8.txt  \n",
            "  inflating: /content/dataset/__MACOSX/aclImdb/train/pos/._962_8.txt  \n",
            "  inflating: /content/dataset/aclImdb/train/pos/9630_10.txt  \n",
            "  inflating: /content/dataset/__MACOSX/aclImdb/train/pos/._9630_10.txt  \n",
            "  inflating: /content/dataset/aclImdb/train/pos/9631_10.txt  \n",
            "  inflating: /content/dataset/__MACOSX/aclImdb/train/pos/._9631_10.txt  \n",
            "  inflating: /content/dataset/aclImdb/train/pos/9632_8.txt  \n",
            "  inflating: /content/dataset/__MACOSX/aclImdb/train/pos/._9632_8.txt  \n",
            "  inflating: /content/dataset/aclImdb/train/pos/9633_7.txt  \n",
            "  inflating: /content/dataset/__MACOSX/aclImdb/train/pos/._9633_7.txt  \n",
            "  inflating: /content/dataset/aclImdb/train/pos/9634_8.txt  \n",
            "  inflating: /content/dataset/__MACOSX/aclImdb/train/pos/._9634_8.txt  \n",
            "  inflating: /content/dataset/aclImdb/train/pos/9635_7.txt  \n",
            "  inflating: /content/dataset/__MACOSX/aclImdb/train/pos/._9635_7.txt  \n",
            "  inflating: /content/dataset/aclImdb/train/pos/9636_7.txt  \n",
            "  inflating: /content/dataset/__MACOSX/aclImdb/train/pos/._9636_7.txt  \n",
            "  inflating: /content/dataset/aclImdb/train/pos/9637_8.txt  \n",
            "  inflating: /content/dataset/__MACOSX/aclImdb/train/pos/._9637_8.txt  \n",
            "  inflating: /content/dataset/aclImdb/train/pos/9638_8.txt  \n",
            "  inflating: /content/dataset/__MACOSX/aclImdb/train/pos/._9638_8.txt  \n",
            "  inflating: /content/dataset/aclImdb/train/pos/9639_10.txt  \n",
            "  inflating: /content/dataset/__MACOSX/aclImdb/train/pos/._9639_10.txt  \n",
            "  inflating: /content/dataset/aclImdb/train/pos/963_8.txt  \n",
            "  inflating: /content/dataset/__MACOSX/aclImdb/train/pos/._963_8.txt  \n",
            "  inflating: /content/dataset/aclImdb/train/pos/9640_9.txt  \n",
            "  inflating: /content/dataset/__MACOSX/aclImdb/train/pos/._9640_9.txt  \n",
            "  inflating: /content/dataset/aclImdb/train/pos/9641_9.txt  \n",
            "  inflating: /content/dataset/__MACOSX/aclImdb/train/pos/._9641_9.txt  \n",
            "  inflating: /content/dataset/aclImdb/train/pos/9642_10.txt  \n",
            "  inflating: /content/dataset/__MACOSX/aclImdb/train/pos/._9642_10.txt  \n",
            "  inflating: /content/dataset/aclImdb/train/pos/9643_10.txt  \n",
            "  inflating: /content/dataset/__MACOSX/aclImdb/train/pos/._9643_10.txt  \n",
            "  inflating: /content/dataset/aclImdb/train/pos/9644_10.txt  \n",
            "  inflating: /content/dataset/__MACOSX/aclImdb/train/pos/._9644_10.txt  \n",
            "  inflating: /content/dataset/aclImdb/train/pos/9645_8.txt  \n",
            "  inflating: /content/dataset/__MACOSX/aclImdb/train/pos/._9645_8.txt  \n",
            "  inflating: /content/dataset/aclImdb/train/pos/9646_7.txt  \n",
            "  inflating: /content/dataset/__MACOSX/aclImdb/train/pos/._9646_7.txt  \n",
            "  inflating: /content/dataset/aclImdb/train/pos/9647_10.txt  \n",
            "  inflating: /content/dataset/__MACOSX/aclImdb/train/pos/._9647_10.txt  \n",
            "  inflating: /content/dataset/aclImdb/train/pos/9648_8.txt  \n",
            "  inflating: /content/dataset/__MACOSX/aclImdb/train/pos/._9648_8.txt  \n",
            "  inflating: /content/dataset/aclImdb/train/pos/9649_9.txt  \n",
            "  inflating: /content/dataset/__MACOSX/aclImdb/train/pos/._9649_9.txt  \n",
            "  inflating: /content/dataset/aclImdb/train/pos/964_8.txt  \n",
            "  inflating: /content/dataset/__MACOSX/aclImdb/train/pos/._964_8.txt  \n",
            "  inflating: /content/dataset/aclImdb/train/pos/9650_10.txt  \n",
            "  inflating: /content/dataset/__MACOSX/aclImdb/train/pos/._9650_10.txt  \n",
            "  inflating: /content/dataset/aclImdb/train/pos/9651_9.txt  \n",
            "  inflating: /content/dataset/__MACOSX/aclImdb/train/pos/._9651_9.txt  \n",
            "  inflating: /content/dataset/aclImdb/train/pos/9652_7.txt  \n",
            "  inflating: /content/dataset/__MACOSX/aclImdb/train/pos/._9652_7.txt  \n",
            "  inflating: /content/dataset/aclImdb/train/pos/9653_9.txt  \n",
            "  inflating: /content/dataset/__MACOSX/aclImdb/train/pos/._9653_9.txt  \n",
            "  inflating: /content/dataset/aclImdb/train/pos/9654_10.txt  \n",
            "  inflating: /content/dataset/__MACOSX/aclImdb/train/pos/._9654_10.txt  \n",
            "  inflating: /content/dataset/aclImdb/train/pos/9655_10.txt  \n",
            "  inflating: /content/dataset/__MACOSX/aclImdb/train/pos/._9655_10.txt  \n",
            "  inflating: /content/dataset/aclImdb/train/pos/9656_10.txt  \n",
            "  inflating: /content/dataset/__MACOSX/aclImdb/train/pos/._9656_10.txt  \n",
            "  inflating: /content/dataset/aclImdb/train/pos/9657_10.txt  \n",
            "  inflating: /content/dataset/__MACOSX/aclImdb/train/pos/._9657_10.txt  \n",
            "  inflating: /content/dataset/aclImdb/train/pos/9658_7.txt  \n",
            "  inflating: /content/dataset/__MACOSX/aclImdb/train/pos/._9658_7.txt  \n",
            "  inflating: /content/dataset/aclImdb/train/pos/9659_8.txt  \n",
            "  inflating: /content/dataset/__MACOSX/aclImdb/train/pos/._9659_8.txt  \n",
            "  inflating: /content/dataset/aclImdb/train/pos/965_10.txt  \n",
            "  inflating: /content/dataset/__MACOSX/aclImdb/train/pos/._965_10.txt  \n",
            "  inflating: /content/dataset/aclImdb/train/pos/9660_9.txt  \n",
            "  inflating: /content/dataset/__MACOSX/aclImdb/train/pos/._9660_9.txt  \n",
            "  inflating: /content/dataset/aclImdb/train/pos/9661_8.txt  \n",
            "  inflating: /content/dataset/__MACOSX/aclImdb/train/pos/._9661_8.txt  \n",
            "  inflating: /content/dataset/aclImdb/train/pos/9662_10.txt  \n",
            "  inflating: /content/dataset/__MACOSX/aclImdb/train/pos/._9662_10.txt  \n",
            "  inflating: /content/dataset/aclImdb/train/pos/9663_10.txt  \n",
            "  inflating: /content/dataset/__MACOSX/aclImdb/train/pos/._9663_10.txt  \n",
            "  inflating: /content/dataset/aclImdb/train/pos/9664_10.txt  \n",
            "  inflating: /content/dataset/__MACOSX/aclImdb/train/pos/._9664_10.txt  \n",
            "  inflating: /content/dataset/aclImdb/train/pos/9665_10.txt  \n",
            "  inflating: /content/dataset/__MACOSX/aclImdb/train/pos/._9665_10.txt  \n",
            "  inflating: /content/dataset/aclImdb/train/pos/9666_10.txt  \n",
            "  inflating: /content/dataset/__MACOSX/aclImdb/train/pos/._9666_10.txt  \n",
            "  inflating: /content/dataset/aclImdb/train/pos/9667_9.txt  \n",
            "  inflating: /content/dataset/__MACOSX/aclImdb/train/pos/._9667_9.txt  \n",
            "  inflating: /content/dataset/aclImdb/train/pos/9668_9.txt  \n",
            "  inflating: /content/dataset/__MACOSX/aclImdb/train/pos/._9668_9.txt  \n",
            "  inflating: /content/dataset/aclImdb/train/pos/9669_9.txt  \n",
            "  inflating: /content/dataset/__MACOSX/aclImdb/train/pos/._9669_9.txt  \n",
            "  inflating: /content/dataset/aclImdb/train/pos/966_7.txt  \n",
            "  inflating: /content/dataset/__MACOSX/aclImdb/train/pos/._966_7.txt  \n",
            "  inflating: /content/dataset/aclImdb/train/pos/9670_9.txt  \n",
            "  inflating: /content/dataset/__MACOSX/aclImdb/train/pos/._9670_9.txt  \n",
            "  inflating: /content/dataset/aclImdb/train/pos/9671_10.txt  \n",
            "  inflating: /content/dataset/__MACOSX/aclImdb/train/pos/._9671_10.txt  \n",
            "  inflating: /content/dataset/aclImdb/train/pos/9672_7.txt  \n",
            "  inflating: /content/dataset/__MACOSX/aclImdb/train/pos/._9672_7.txt  \n",
            "  inflating: /content/dataset/aclImdb/train/pos/9673_7.txt  \n",
            "  inflating: /content/dataset/__MACOSX/aclImdb/train/pos/._9673_7.txt  \n",
            "  inflating: /content/dataset/aclImdb/train/pos/9674_9.txt  \n",
            "  inflating: /content/dataset/__MACOSX/aclImdb/train/pos/._9674_9.txt  \n",
            "  inflating: /content/dataset/aclImdb/train/pos/9675_8.txt  \n",
            "  inflating: /content/dataset/__MACOSX/aclImdb/train/pos/._9675_8.txt  \n",
            "  inflating: /content/dataset/aclImdb/train/pos/9676_10.txt  \n",
            "  inflating: /content/dataset/__MACOSX/aclImdb/train/pos/._9676_10.txt  \n",
            "  inflating: /content/dataset/aclImdb/train/pos/9677_9.txt  \n",
            "  inflating: /content/dataset/__MACOSX/aclImdb/train/pos/._9677_9.txt  \n",
            "  inflating: /content/dataset/aclImdb/train/pos/9678_8.txt  \n",
            "  inflating: /content/dataset/__MACOSX/aclImdb/train/pos/._9678_8.txt  \n",
            "  inflating: /content/dataset/aclImdb/train/pos/9679_10.txt  \n",
            "  inflating: /content/dataset/__MACOSX/aclImdb/train/pos/._9679_10.txt  \n",
            "  inflating: /content/dataset/aclImdb/train/pos/967_7.txt  \n",
            "  inflating: /content/dataset/__MACOSX/aclImdb/train/pos/._967_7.txt  \n",
            "  inflating: /content/dataset/aclImdb/train/pos/9680_8.txt  \n",
            "  inflating: /content/dataset/__MACOSX/aclImdb/train/pos/._9680_8.txt  \n",
            "  inflating: /content/dataset/aclImdb/train/pos/9681_9.txt  \n",
            "  inflating: /content/dataset/__MACOSX/aclImdb/train/pos/._9681_9.txt  \n",
            "  inflating: /content/dataset/aclImdb/train/pos/9682_10.txt  \n",
            "  inflating: /content/dataset/__MACOSX/aclImdb/train/pos/._9682_10.txt  \n",
            "  inflating: /content/dataset/aclImdb/train/pos/9683_9.txt  \n",
            "  inflating: /content/dataset/__MACOSX/aclImdb/train/pos/._9683_9.txt  \n",
            "  inflating: /content/dataset/aclImdb/train/pos/9684_10.txt  \n",
            "  inflating: /content/dataset/__MACOSX/aclImdb/train/pos/._9684_10.txt  \n",
            "  inflating: /content/dataset/aclImdb/train/pos/9685_10.txt  \n",
            "  inflating: /content/dataset/__MACOSX/aclImdb/train/pos/._9685_10.txt  \n",
            "  inflating: /content/dataset/aclImdb/train/pos/9686_7.txt  \n",
            "  inflating: /content/dataset/__MACOSX/aclImdb/train/pos/._9686_7.txt  \n",
            "  inflating: /content/dataset/aclImdb/train/pos/9687_9.txt  \n",
            "  inflating: /content/dataset/__MACOSX/aclImdb/train/pos/._9687_9.txt  \n",
            "  inflating: /content/dataset/aclImdb/train/pos/9688_9.txt  \n",
            "  inflating: /content/dataset/__MACOSX/aclImdb/train/pos/._9688_9.txt  \n",
            "  inflating: /content/dataset/aclImdb/train/pos/9689_9.txt  \n",
            "  inflating: /content/dataset/__MACOSX/aclImdb/train/pos/._9689_9.txt  \n",
            "  inflating: /content/dataset/aclImdb/train/pos/968_10.txt  \n",
            "  inflating: /content/dataset/__MACOSX/aclImdb/train/pos/._968_10.txt  \n",
            "  inflating: /content/dataset/aclImdb/train/pos/9690_10.txt  \n",
            "  inflating: /content/dataset/__MACOSX/aclImdb/train/pos/._9690_10.txt  \n",
            "  inflating: /content/dataset/aclImdb/train/pos/9691_10.txt  \n",
            "  inflating: /content/dataset/__MACOSX/aclImdb/train/pos/._9691_10.txt  \n",
            "  inflating: /content/dataset/aclImdb/train/pos/9692_10.txt  \n",
            "  inflating: /content/dataset/__MACOSX/aclImdb/train/pos/._9692_10.txt  \n",
            "  inflating: /content/dataset/aclImdb/train/pos/9693_8.txt  \n",
            "  inflating: /content/dataset/__MACOSX/aclImdb/train/pos/._9693_8.txt  \n",
            "  inflating: /content/dataset/aclImdb/train/pos/9694_9.txt  \n",
            "  inflating: /content/dataset/__MACOSX/aclImdb/train/pos/._9694_9.txt  \n",
            "  inflating: /content/dataset/aclImdb/train/pos/9695_10.txt  \n",
            "  inflating: /content/dataset/__MACOSX/aclImdb/train/pos/._9695_10.txt  \n",
            "  inflating: /content/dataset/aclImdb/train/pos/9696_8.txt  \n",
            "  inflating: /content/dataset/__MACOSX/aclImdb/train/pos/._9696_8.txt  \n",
            "  inflating: /content/dataset/aclImdb/train/pos/9697_8.txt  \n",
            "  inflating: /content/dataset/__MACOSX/aclImdb/train/pos/._9697_8.txt  \n",
            "  inflating: /content/dataset/aclImdb/train/pos/9698_10.txt  \n",
            "  inflating: /content/dataset/__MACOSX/aclImdb/train/pos/._9698_10.txt  \n",
            "  inflating: /content/dataset/aclImdb/train/pos/9699_10.txt  \n",
            "  inflating: /content/dataset/__MACOSX/aclImdb/train/pos/._9699_10.txt  \n",
            "  inflating: /content/dataset/aclImdb/train/pos/969_7.txt  \n",
            "  inflating: /content/dataset/__MACOSX/aclImdb/train/pos/._969_7.txt  \n",
            "  inflating: /content/dataset/aclImdb/train/pos/96_10.txt  \n",
            "  inflating: /content/dataset/__MACOSX/aclImdb/train/pos/._96_10.txt  \n",
            "  inflating: /content/dataset/aclImdb/train/pos/9700_10.txt  \n",
            "  inflating: /content/dataset/__MACOSX/aclImdb/train/pos/._9700_10.txt  \n",
            "  inflating: /content/dataset/aclImdb/train/pos/9701_10.txt  \n",
            "  inflating: /content/dataset/__MACOSX/aclImdb/train/pos/._9701_10.txt  \n",
            "  inflating: /content/dataset/aclImdb/train/pos/9702_10.txt  \n",
            "  inflating: /content/dataset/__MACOSX/aclImdb/train/pos/._9702_10.txt  \n",
            "  inflating: /content/dataset/aclImdb/train/pos/9703_9.txt  \n",
            "  inflating: /content/dataset/__MACOSX/aclImdb/train/pos/._9703_9.txt  \n",
            "  inflating: /content/dataset/aclImdb/train/pos/9704_10.txt  \n",
            "  inflating: /content/dataset/__MACOSX/aclImdb/train/pos/._9704_10.txt  \n",
            "  inflating: /content/dataset/aclImdb/train/pos/9705_10.txt  \n",
            "  inflating: /content/dataset/__MACOSX/aclImdb/train/pos/._9705_10.txt  \n",
            "  inflating: /content/dataset/aclImdb/train/pos/9706_10.txt  \n",
            "  inflating: /content/dataset/__MACOSX/aclImdb/train/pos/._9706_10.txt  \n",
            "  inflating: /content/dataset/aclImdb/train/pos/9707_10.txt  \n",
            "  inflating: /content/dataset/__MACOSX/aclImdb/train/pos/._9707_10.txt  \n",
            "  inflating: /content/dataset/aclImdb/train/pos/9708_10.txt  \n",
            "  inflating: /content/dataset/__MACOSX/aclImdb/train/pos/._9708_10.txt  \n",
            "  inflating: /content/dataset/aclImdb/train/pos/9709_10.txt  \n",
            "  inflating: /content/dataset/__MACOSX/aclImdb/train/pos/._9709_10.txt  \n",
            "  inflating: /content/dataset/aclImdb/train/pos/970_10.txt  \n",
            "  inflating: /content/dataset/__MACOSX/aclImdb/train/pos/._970_10.txt  \n",
            "  inflating: /content/dataset/aclImdb/train/pos/9710_10.txt  \n",
            "  inflating: /content/dataset/__MACOSX/aclImdb/train/pos/._9710_10.txt  \n",
            "  inflating: /content/dataset/aclImdb/train/pos/9711_9.txt  \n",
            "  inflating: /content/dataset/__MACOSX/aclImdb/train/pos/._9711_9.txt  \n",
            "  inflating: /content/dataset/aclImdb/train/pos/9712_10.txt  \n",
            "  inflating: /content/dataset/__MACOSX/aclImdb/train/pos/._9712_10.txt  \n",
            "  inflating: /content/dataset/aclImdb/train/pos/9713_10.txt  \n",
            "  inflating: /content/dataset/__MACOSX/aclImdb/train/pos/._9713_10.txt  \n",
            "  inflating: /content/dataset/aclImdb/train/pos/9714_10.txt  \n",
            "  inflating: /content/dataset/__MACOSX/aclImdb/train/pos/._9714_10.txt  \n",
            "  inflating: /content/dataset/aclImdb/train/pos/9715_7.txt  \n",
            "  inflating: /content/dataset/__MACOSX/aclImdb/train/pos/._9715_7.txt  \n",
            "  inflating: /content/dataset/aclImdb/train/pos/9716_10.txt  \n",
            "  inflating: /content/dataset/__MACOSX/aclImdb/train/pos/._9716_10.txt  \n",
            "  inflating: /content/dataset/aclImdb/train/pos/9717_8.txt  \n",
            "  inflating: /content/dataset/__MACOSX/aclImdb/train/pos/._9717_8.txt  \n",
            "  inflating: /content/dataset/aclImdb/train/pos/9718_7.txt  \n",
            "  inflating: /content/dataset/__MACOSX/aclImdb/train/pos/._9718_7.txt  \n",
            "  inflating: /content/dataset/aclImdb/train/pos/9719_7.txt  \n",
            "  inflating: /content/dataset/__MACOSX/aclImdb/train/pos/._9719_7.txt  \n",
            "  inflating: /content/dataset/aclImdb/train/pos/971_8.txt  \n",
            "  inflating: /content/dataset/__MACOSX/aclImdb/train/pos/._971_8.txt  \n",
            "  inflating: /content/dataset/aclImdb/train/pos/9720_8.txt  \n",
            "  inflating: /content/dataset/__MACOSX/aclImdb/train/pos/._9720_8.txt  \n",
            "  inflating: /content/dataset/aclImdb/train/pos/9721_7.txt  \n",
            "  inflating: /content/dataset/__MACOSX/aclImdb/train/pos/._9721_7.txt  \n",
            "  inflating: /content/dataset/aclImdb/train/pos/9722_7.txt  \n",
            "  inflating: /content/dataset/__MACOSX/aclImdb/train/pos/._9722_7.txt  \n",
            "  inflating: /content/dataset/aclImdb/train/pos/9723_9.txt  \n",
            "  inflating: /content/dataset/__MACOSX/aclImdb/train/pos/._9723_9.txt  \n",
            "  inflating: /content/dataset/aclImdb/train/pos/9724_7.txt  \n",
            "  inflating: /content/dataset/__MACOSX/aclImdb/train/pos/._9724_7.txt  \n",
            "  inflating: /content/dataset/aclImdb/train/pos/9725_7.txt  \n",
            "  inflating: /content/dataset/__MACOSX/aclImdb/train/pos/._9725_7.txt  \n",
            "  inflating: /content/dataset/aclImdb/train/pos/9726_7.txt  \n",
            "  inflating: /content/dataset/__MACOSX/aclImdb/train/pos/._9726_7.txt  \n",
            "  inflating: /content/dataset/aclImdb/train/pos/9727_7.txt  \n",
            "  inflating: /content/dataset/__MACOSX/aclImdb/train/pos/._9727_7.txt  \n",
            "  inflating: /content/dataset/aclImdb/train/pos/9728_7.txt  \n",
            "  inflating: /content/dataset/__MACOSX/aclImdb/train/pos/._9728_7.txt  \n",
            "  inflating: /content/dataset/aclImdb/train/pos/9729_9.txt  \n",
            "  inflating: /content/dataset/__MACOSX/aclImdb/train/pos/._9729_9.txt  \n",
            "  inflating: /content/dataset/aclImdb/train/pos/972_9.txt  \n",
            "  inflating: /content/dataset/__MACOSX/aclImdb/train/pos/._972_9.txt  \n",
            "  inflating: /content/dataset/aclImdb/train/pos/9730_8.txt  \n",
            "  inflating: /content/dataset/__MACOSX/aclImdb/train/pos/._9730_8.txt  \n",
            "  inflating: /content/dataset/aclImdb/train/pos/9731_8.txt  \n",
            "  inflating: /content/dataset/__MACOSX/aclImdb/train/pos/._9731_8.txt  \n",
            "  inflating: /content/dataset/aclImdb/train/pos/9732_10.txt  \n",
            "  inflating: /content/dataset/__MACOSX/aclImdb/train/pos/._9732_10.txt  \n",
            "  inflating: /content/dataset/aclImdb/train/pos/9733_8.txt  \n",
            "  inflating: /content/dataset/__MACOSX/aclImdb/train/pos/._9733_8.txt  \n",
            "  inflating: /content/dataset/aclImdb/train/pos/9734_7.txt  \n",
            "  inflating: /content/dataset/__MACOSX/aclImdb/train/pos/._9734_7.txt  \n",
            "  inflating: /content/dataset/aclImdb/train/pos/9735_8.txt  \n",
            "  inflating: /content/dataset/__MACOSX/aclImdb/train/pos/._9735_8.txt  \n",
            "  inflating: /content/dataset/aclImdb/train/pos/9736_8.txt  \n",
            "  inflating: /content/dataset/__MACOSX/aclImdb/train/pos/._9736_8.txt  \n",
            "  inflating: /content/dataset/aclImdb/train/pos/9737_9.txt  \n",
            "  inflating: /content/dataset/__MACOSX/aclImdb/train/pos/._9737_9.txt  \n",
            "  inflating: /content/dataset/aclImdb/train/pos/9738_8.txt  \n",
            "  inflating: /content/dataset/__MACOSX/aclImdb/train/pos/._9738_8.txt  \n",
            "  inflating: /content/dataset/aclImdb/train/pos/9739_7.txt  \n",
            "  inflating: /content/dataset/__MACOSX/aclImdb/train/pos/._9739_7.txt  \n",
            "  inflating: /content/dataset/aclImdb/train/pos/973_9.txt  \n",
            "  inflating: /content/dataset/__MACOSX/aclImdb/train/pos/._973_9.txt  \n",
            "  inflating: /content/dataset/aclImdb/train/pos/9740_7.txt  \n",
            "  inflating: /content/dataset/__MACOSX/aclImdb/train/pos/._9740_7.txt  \n",
            "  inflating: /content/dataset/aclImdb/train/pos/9741_8.txt  \n",
            "  inflating: /content/dataset/__MACOSX/aclImdb/train/pos/._9741_8.txt  \n",
            "  inflating: /content/dataset/aclImdb/train/pos/9742_10.txt  \n",
            "  inflating: /content/dataset/__MACOSX/aclImdb/train/pos/._9742_10.txt  \n",
            "  inflating: /content/dataset/aclImdb/train/pos/9743_8.txt  \n",
            "  inflating: /content/dataset/__MACOSX/aclImdb/train/pos/._9743_8.txt  \n",
            "  inflating: /content/dataset/aclImdb/train/pos/9744_7.txt  \n",
            "  inflating: /content/dataset/__MACOSX/aclImdb/train/pos/._9744_7.txt  \n",
            "  inflating: /content/dataset/aclImdb/train/pos/9745_7.txt  \n",
            "  inflating: /content/dataset/__MACOSX/aclImdb/train/pos/._9745_7.txt  \n",
            "  inflating: /content/dataset/aclImdb/train/pos/9746_9.txt  \n",
            "  inflating: /content/dataset/__MACOSX/aclImdb/train/pos/._9746_9.txt  \n",
            "  inflating: /content/dataset/aclImdb/train/pos/9747_10.txt  \n",
            "  inflating: /content/dataset/__MACOSX/aclImdb/train/pos/._9747_10.txt  \n",
            "  inflating: /content/dataset/aclImdb/train/pos/9748_10.txt  \n",
            "  inflating: /content/dataset/__MACOSX/aclImdb/train/pos/._9748_10.txt  \n",
            "  inflating: /content/dataset/aclImdb/train/pos/9749_9.txt  \n",
            "  inflating: /content/dataset/__MACOSX/aclImdb/train/pos/._9749_9.txt  \n",
            "  inflating: /content/dataset/aclImdb/train/pos/974_10.txt  \n",
            "  inflating: /content/dataset/__MACOSX/aclImdb/train/pos/._974_10.txt  \n",
            "  inflating: /content/dataset/aclImdb/train/pos/9750_10.txt  \n",
            "  inflating: /content/dataset/__MACOSX/aclImdb/train/pos/._9750_10.txt  \n",
            "  inflating: /content/dataset/aclImdb/train/pos/9751_7.txt  \n",
            "  inflating: /content/dataset/__MACOSX/aclImdb/train/pos/._9751_7.txt  \n",
            "  inflating: /content/dataset/aclImdb/train/pos/9752_10.txt  \n",
            "  inflating: /content/dataset/__MACOSX/aclImdb/train/pos/._9752_10.txt  \n",
            "  inflating: /content/dataset/aclImdb/train/pos/9753_10.txt  \n",
            "  inflating: /content/dataset/__MACOSX/aclImdb/train/pos/._9753_10.txt  \n",
            "  inflating: /content/dataset/aclImdb/train/pos/9754_10.txt  \n",
            "  inflating: /content/dataset/__MACOSX/aclImdb/train/pos/._9754_10.txt  \n",
            "  inflating: /content/dataset/aclImdb/train/pos/9755_7.txt  \n",
            "  inflating: /content/dataset/__MACOSX/aclImdb/train/pos/._9755_7.txt  \n",
            "  inflating: /content/dataset/aclImdb/train/pos/9756_10.txt  \n",
            "  inflating: /content/dataset/__MACOSX/aclImdb/train/pos/._9756_10.txt  \n",
            "  inflating: /content/dataset/aclImdb/train/pos/9757_8.txt  \n",
            "  inflating: /content/dataset/__MACOSX/aclImdb/train/pos/._9757_8.txt  \n",
            "  inflating: /content/dataset/aclImdb/train/pos/9758_10.txt  \n",
            "  inflating: /content/dataset/__MACOSX/aclImdb/train/pos/._9758_10.txt  \n",
            "  inflating: /content/dataset/aclImdb/train/pos/9759_10.txt  \n",
            "  inflating: /content/dataset/__MACOSX/aclImdb/train/pos/._9759_10.txt  \n",
            "  inflating: /content/dataset/aclImdb/train/pos/975_9.txt  \n",
            "  inflating: /content/dataset/__MACOSX/aclImdb/train/pos/._975_9.txt  \n",
            "  inflating: /content/dataset/aclImdb/train/pos/9760_8.txt  \n",
            "  inflating: /content/dataset/__MACOSX/aclImdb/train/pos/._9760_8.txt  \n",
            "  inflating: /content/dataset/aclImdb/train/pos/9761_10.txt  \n",
            "  inflating: /content/dataset/__MACOSX/aclImdb/train/pos/._9761_10.txt  \n",
            "  inflating: /content/dataset/aclImdb/train/pos/9762_8.txt  \n",
            "  inflating: /content/dataset/__MACOSX/aclImdb/train/pos/._9762_8.txt  \n",
            "  inflating: /content/dataset/aclImdb/train/pos/9763_8.txt  \n",
            "  inflating: /content/dataset/__MACOSX/aclImdb/train/pos/._9763_8.txt  \n",
            "  inflating: /content/dataset/aclImdb/train/pos/9764_9.txt  \n",
            "  inflating: /content/dataset/__MACOSX/aclImdb/train/pos/._9764_9.txt  \n",
            "  inflating: /content/dataset/aclImdb/train/pos/9765_10.txt  \n",
            "  inflating: /content/dataset/__MACOSX/aclImdb/train/pos/._9765_10.txt  \n",
            "  inflating: /content/dataset/aclImdb/train/pos/9766_9.txt  \n",
            "  inflating: /content/dataset/__MACOSX/aclImdb/train/pos/._9766_9.txt  \n",
            "  inflating: /content/dataset/aclImdb/train/pos/9767_7.txt  \n",
            "  inflating: /content/dataset/__MACOSX/aclImdb/train/pos/._9767_7.txt  \n",
            "  inflating: /content/dataset/aclImdb/train/pos/9768_10.txt  \n",
            "  inflating: /content/dataset/__MACOSX/aclImdb/train/pos/._9768_10.txt  \n",
            "  inflating: /content/dataset/aclImdb/train/pos/9769_8.txt  \n",
            "  inflating: /content/dataset/__MACOSX/aclImdb/train/pos/._9769_8.txt  \n",
            "  inflating: /content/dataset/aclImdb/train/pos/976_8.txt  \n",
            "  inflating: /content/dataset/__MACOSX/aclImdb/train/pos/._976_8.txt  \n",
            "  inflating: /content/dataset/aclImdb/train/pos/9770_10.txt  \n",
            "  inflating: /content/dataset/__MACOSX/aclImdb/train/pos/._9770_10.txt  \n",
            "  inflating: /content/dataset/aclImdb/train/pos/9771_10.txt  \n",
            "  inflating: /content/dataset/__MACOSX/aclImdb/train/pos/._9771_10.txt  \n",
            "  inflating: /content/dataset/aclImdb/train/pos/9772_10.txt  \n",
            "  inflating: /content/dataset/__MACOSX/aclImdb/train/pos/._9772_10.txt  \n",
            "  inflating: /content/dataset/aclImdb/train/pos/9773_7.txt  \n",
            "  inflating: /content/dataset/__MACOSX/aclImdb/train/pos/._9773_7.txt  \n",
            "  inflating: /content/dataset/aclImdb/train/pos/9774_8.txt  \n",
            "  inflating: /content/dataset/__MACOSX/aclImdb/train/pos/._9774_8.txt  \n",
            "  inflating: /content/dataset/aclImdb/train/pos/9775_8.txt  \n",
            "  inflating: /content/dataset/__MACOSX/aclImdb/train/pos/._9775_8.txt  \n",
            "  inflating: /content/dataset/aclImdb/train/pos/9776_8.txt  \n",
            "  inflating: /content/dataset/__MACOSX/aclImdb/train/pos/._9776_8.txt  \n",
            "  inflating: /content/dataset/aclImdb/train/pos/9777_8.txt  \n",
            "  inflating: /content/dataset/__MACOSX/aclImdb/train/pos/._9777_8.txt  \n",
            "  inflating: /content/dataset/aclImdb/train/pos/9778_8.txt  \n",
            "  inflating: /content/dataset/__MACOSX/aclImdb/train/pos/._9778_8.txt  \n",
            "  inflating: /content/dataset/aclImdb/train/pos/9779_9.txt  \n",
            "  inflating: /content/dataset/__MACOSX/aclImdb/train/pos/._9779_9.txt  \n",
            "  inflating: /content/dataset/aclImdb/train/pos/977_8.txt  \n",
            "  inflating: /content/dataset/__MACOSX/aclImdb/train/pos/._977_8.txt  \n",
            "  inflating: /content/dataset/aclImdb/train/pos/9780_10.txt  \n",
            "  inflating: /content/dataset/__MACOSX/aclImdb/train/pos/._9780_10.txt  \n",
            "  inflating: /content/dataset/aclImdb/train/pos/9781_8.txt  \n",
            "  inflating: /content/dataset/__MACOSX/aclImdb/train/pos/._9781_8.txt  \n",
            "  inflating: /content/dataset/aclImdb/train/pos/9782_10.txt  \n",
            "  inflating: /content/dataset/__MACOSX/aclImdb/train/pos/._9782_10.txt  \n",
            "  inflating: /content/dataset/aclImdb/train/pos/9783_9.txt  \n",
            "  inflating: /content/dataset/__MACOSX/aclImdb/train/pos/._9783_9.txt  \n",
            "  inflating: /content/dataset/aclImdb/train/pos/9784_8.txt  \n",
            "  inflating: /content/dataset/__MACOSX/aclImdb/train/pos/._9784_8.txt  \n",
            "  inflating: /content/dataset/aclImdb/train/pos/9785_7.txt  \n",
            "  inflating: /content/dataset/__MACOSX/aclImdb/train/pos/._9785_7.txt  \n",
            "  inflating: /content/dataset/aclImdb/train/pos/9786_8.txt  \n",
            "  inflating: /content/dataset/__MACOSX/aclImdb/train/pos/._9786_8.txt  \n",
            "  inflating: /content/dataset/aclImdb/train/pos/9787_7.txt  \n",
            "  inflating: /content/dataset/__MACOSX/aclImdb/train/pos/._9787_7.txt  \n",
            "  inflating: /content/dataset/aclImdb/train/pos/9788_9.txt  \n",
            "  inflating: /content/dataset/__MACOSX/aclImdb/train/pos/._9788_9.txt  \n",
            "  inflating: /content/dataset/aclImdb/train/pos/9789_10.txt  \n",
            "  inflating: /content/dataset/__MACOSX/aclImdb/train/pos/._9789_10.txt  \n",
            "  inflating: /content/dataset/aclImdb/train/pos/978_9.txt  \n",
            "  inflating: /content/dataset/__MACOSX/aclImdb/train/pos/._978_9.txt  \n",
            "  inflating: /content/dataset/aclImdb/train/pos/9790_9.txt  \n",
            "  inflating: /content/dataset/__MACOSX/aclImdb/train/pos/._9790_9.txt  \n",
            "  inflating: /content/dataset/aclImdb/train/pos/9791_9.txt  \n",
            "  inflating: /content/dataset/__MACOSX/aclImdb/train/pos/._9791_9.txt  \n",
            "  inflating: /content/dataset/aclImdb/train/pos/9792_8.txt  \n",
            "  inflating: /content/dataset/__MACOSX/aclImdb/train/pos/._9792_8.txt  \n",
            "  inflating: /content/dataset/aclImdb/train/pos/9793_7.txt  \n",
            "  inflating: /content/dataset/__MACOSX/aclImdb/train/pos/._9793_7.txt  \n",
            "  inflating: /content/dataset/aclImdb/train/pos/9794_7.txt  \n",
            "  inflating: /content/dataset/__MACOSX/aclImdb/train/pos/._9794_7.txt  \n",
            "  inflating: /content/dataset/aclImdb/train/pos/9795_7.txt  \n",
            "  inflating: /content/dataset/__MACOSX/aclImdb/train/pos/._9795_7.txt  \n",
            "  inflating: /content/dataset/aclImdb/train/pos/9796_9.txt  \n",
            "  inflating: /content/dataset/__MACOSX/aclImdb/train/pos/._9796_9.txt  \n",
            "  inflating: /content/dataset/aclImdb/train/pos/9797_7.txt  \n",
            "  inflating: /content/dataset/__MACOSX/aclImdb/train/pos/._9797_7.txt  \n",
            "  inflating: /content/dataset/aclImdb/train/pos/9798_7.txt  \n",
            "  inflating: /content/dataset/__MACOSX/aclImdb/train/pos/._9798_7.txt  \n",
            "  inflating: /content/dataset/aclImdb/train/pos/9799_7.txt  \n",
            "  inflating: /content/dataset/__MACOSX/aclImdb/train/pos/._9799_7.txt  \n",
            "  inflating: /content/dataset/aclImdb/train/pos/979_8.txt  \n",
            "  inflating: /content/dataset/__MACOSX/aclImdb/train/pos/._979_8.txt  \n",
            "  inflating: /content/dataset/aclImdb/train/pos/97_9.txt  \n",
            "  inflating: /content/dataset/__MACOSX/aclImdb/train/pos/._97_9.txt  \n",
            "  inflating: /content/dataset/aclImdb/train/pos/9800_9.txt  \n",
            "  inflating: /content/dataset/__MACOSX/aclImdb/train/pos/._9800_9.txt  \n",
            "  inflating: /content/dataset/aclImdb/train/pos/9801_10.txt  \n",
            "  inflating: /content/dataset/__MACOSX/aclImdb/train/pos/._9801_10.txt  \n",
            "  inflating: /content/dataset/aclImdb/train/pos/9802_10.txt  \n",
            "  inflating: /content/dataset/__MACOSX/aclImdb/train/pos/._9802_10.txt  \n",
            "  inflating: /content/dataset/aclImdb/train/pos/9803_7.txt  \n",
            "  inflating: /content/dataset/__MACOSX/aclImdb/train/pos/._9803_7.txt  \n",
            "  inflating: /content/dataset/aclImdb/train/pos/9804_10.txt  \n",
            "  inflating: /content/dataset/__MACOSX/aclImdb/train/pos/._9804_10.txt  \n",
            "  inflating: /content/dataset/aclImdb/train/pos/9805_10.txt  \n",
            "  inflating: /content/dataset/__MACOSX/aclImdb/train/pos/._9805_10.txt  \n",
            "  inflating: /content/dataset/aclImdb/train/pos/9806_8.txt  \n",
            "  inflating: /content/dataset/__MACOSX/aclImdb/train/pos/._9806_8.txt  \n",
            "  inflating: /content/dataset/aclImdb/train/pos/9807_10.txt  \n",
            "  inflating: /content/dataset/__MACOSX/aclImdb/train/pos/._9807_10.txt  \n",
            "  inflating: /content/dataset/aclImdb/train/pos/9808_9.txt  \n",
            "  inflating: /content/dataset/__MACOSX/aclImdb/train/pos/._9808_9.txt  \n",
            "  inflating: /content/dataset/aclImdb/train/pos/9809_7.txt  \n",
            "  inflating: /content/dataset/__MACOSX/aclImdb/train/pos/._9809_7.txt  \n",
            "  inflating: /content/dataset/aclImdb/train/pos/980_7.txt  \n",
            "  inflating: /content/dataset/__MACOSX/aclImdb/train/pos/._980_7.txt  \n",
            "  inflating: /content/dataset/aclImdb/train/pos/9810_7.txt  \n",
            "  inflating: /content/dataset/__MACOSX/aclImdb/train/pos/._9810_7.txt  \n",
            "  inflating: /content/dataset/aclImdb/train/pos/9811_7.txt  \n",
            "  inflating: /content/dataset/__MACOSX/aclImdb/train/pos/._9811_7.txt  \n",
            "  inflating: /content/dataset/aclImdb/train/pos/9812_7.txt  \n",
            "  inflating: /content/dataset/__MACOSX/aclImdb/train/pos/._9812_7.txt  \n",
            "  inflating: /content/dataset/aclImdb/train/pos/9813_8.txt  \n",
            "  inflating: /content/dataset/__MACOSX/aclImdb/train/pos/._9813_8.txt  \n",
            "  inflating: /content/dataset/aclImdb/train/pos/9814_10.txt  \n",
            "  inflating: /content/dataset/__MACOSX/aclImdb/train/pos/._9814_10.txt  \n",
            "  inflating: /content/dataset/aclImdb/train/pos/9815_7.txt  \n",
            "  inflating: /content/dataset/__MACOSX/aclImdb/train/pos/._9815_7.txt  \n",
            "  inflating: /content/dataset/aclImdb/train/pos/9816_10.txt  \n",
            "  inflating: /content/dataset/__MACOSX/aclImdb/train/pos/._9816_10.txt  \n",
            "  inflating: /content/dataset/aclImdb/train/pos/9817_8.txt  \n",
            "  inflating: /content/dataset/__MACOSX/aclImdb/train/pos/._9817_8.txt  \n",
            "  inflating: /content/dataset/aclImdb/train/pos/9818_7.txt  \n",
            "  inflating: /content/dataset/__MACOSX/aclImdb/train/pos/._9818_7.txt  \n",
            "  inflating: /content/dataset/aclImdb/train/pos/9819_10.txt  \n",
            "  inflating: /content/dataset/__MACOSX/aclImdb/train/pos/._9819_10.txt  \n",
            "  inflating: /content/dataset/aclImdb/train/pos/981_7.txt  \n",
            "  inflating: /content/dataset/__MACOSX/aclImdb/train/pos/._981_7.txt  \n",
            "  inflating: /content/dataset/aclImdb/train/pos/9820_10.txt  \n",
            "  inflating: /content/dataset/__MACOSX/aclImdb/train/pos/._9820_10.txt  \n",
            "  inflating: /content/dataset/aclImdb/train/pos/9821_8.txt  \n",
            "  inflating: /content/dataset/__MACOSX/aclImdb/train/pos/._9821_8.txt  \n",
            "  inflating: /content/dataset/aclImdb/train/pos/9822_10.txt  \n",
            "  inflating: /content/dataset/__MACOSX/aclImdb/train/pos/._9822_10.txt  \n",
            "  inflating: /content/dataset/aclImdb/train/pos/9823_7.txt  \n",
            "  inflating: /content/dataset/__MACOSX/aclImdb/train/pos/._9823_7.txt  \n",
            "  inflating: /content/dataset/aclImdb/train/pos/9824_10.txt  \n",
            "  inflating: /content/dataset/__MACOSX/aclImdb/train/pos/._9824_10.txt  \n",
            "  inflating: /content/dataset/aclImdb/train/pos/9825_10.txt  \n",
            "  inflating: /content/dataset/__MACOSX/aclImdb/train/pos/._9825_10.txt  \n",
            "  inflating: /content/dataset/aclImdb/train/pos/9826_10.txt  \n",
            "  inflating: /content/dataset/__MACOSX/aclImdb/train/pos/._9826_10.txt  \n",
            "  inflating: /content/dataset/aclImdb/train/pos/9827_10.txt  \n",
            "  inflating: /content/dataset/__MACOSX/aclImdb/train/pos/._9827_10.txt  \n",
            "  inflating: /content/dataset/aclImdb/train/pos/9828_10.txt  \n",
            "  inflating: /content/dataset/__MACOSX/aclImdb/train/pos/._9828_10.txt  \n",
            "  inflating: /content/dataset/aclImdb/train/pos/9829_7.txt  \n",
            "  inflating: /content/dataset/__MACOSX/aclImdb/train/pos/._9829_7.txt  \n",
            "  inflating: /content/dataset/aclImdb/train/pos/982_8.txt  \n",
            "  inflating: /content/dataset/__MACOSX/aclImdb/train/pos/._982_8.txt  \n",
            "  inflating: /content/dataset/aclImdb/train/pos/9830_7.txt  \n",
            "  inflating: /content/dataset/__MACOSX/aclImdb/train/pos/._9830_7.txt  \n",
            "  inflating: /content/dataset/aclImdb/train/pos/9831_8.txt  \n",
            "  inflating: /content/dataset/__MACOSX/aclImdb/train/pos/._9831_8.txt  \n",
            "  inflating: /content/dataset/aclImdb/train/pos/9832_10.txt  \n",
            "  inflating: /content/dataset/__MACOSX/aclImdb/train/pos/._9832_10.txt  \n",
            "  inflating: /content/dataset/aclImdb/train/pos/9833_8.txt  \n",
            "  inflating: /content/dataset/__MACOSX/aclImdb/train/pos/._9833_8.txt  \n",
            "  inflating: /content/dataset/aclImdb/train/pos/9834_10.txt  \n",
            "  inflating: /content/dataset/__MACOSX/aclImdb/train/pos/._9834_10.txt  \n",
            "  inflating: /content/dataset/aclImdb/train/pos/9835_9.txt  \n",
            "  inflating: /content/dataset/__MACOSX/aclImdb/train/pos/._9835_9.txt  \n",
            "  inflating: /content/dataset/aclImdb/train/pos/9836_9.txt  \n",
            "  inflating: /content/dataset/__MACOSX/aclImdb/train/pos/._9836_9.txt  \n",
            "  inflating: /content/dataset/aclImdb/train/pos/9837_7.txt  \n",
            "  inflating: /content/dataset/__MACOSX/aclImdb/train/pos/._9837_7.txt  \n",
            "  inflating: /content/dataset/aclImdb/train/pos/9838_7.txt  \n",
            "  inflating: /content/dataset/__MACOSX/aclImdb/train/pos/._9838_7.txt  \n",
            "  inflating: /content/dataset/aclImdb/train/pos/9839_7.txt  \n",
            "  inflating: /content/dataset/__MACOSX/aclImdb/train/pos/._9839_7.txt  \n",
            "  inflating: /content/dataset/aclImdb/train/pos/983_7.txt  \n",
            "  inflating: /content/dataset/__MACOSX/aclImdb/train/pos/._983_7.txt  \n",
            "  inflating: /content/dataset/aclImdb/train/pos/9840_10.txt  \n",
            "  inflating: /content/dataset/__MACOSX/aclImdb/train/pos/._9840_10.txt  \n",
            "  inflating: /content/dataset/aclImdb/train/pos/9841_7.txt  \n",
            "  inflating: /content/dataset/__MACOSX/aclImdb/train/pos/._9841_7.txt  \n",
            "  inflating: /content/dataset/aclImdb/train/pos/9842_7.txt  \n",
            "  inflating: /content/dataset/__MACOSX/aclImdb/train/pos/._9842_7.txt  \n",
            "  inflating: /content/dataset/aclImdb/train/pos/9843_7.txt  \n",
            "  inflating: /content/dataset/__MACOSX/aclImdb/train/pos/._9843_7.txt  \n",
            "  inflating: /content/dataset/aclImdb/train/pos/9844_8.txt  \n",
            "  inflating: /content/dataset/__MACOSX/aclImdb/train/pos/._9844_8.txt  \n",
            "  inflating: /content/dataset/aclImdb/train/pos/9845_8.txt  \n",
            "  inflating: /content/dataset/__MACOSX/aclImdb/train/pos/._9845_8.txt  \n",
            "  inflating: /content/dataset/aclImdb/train/pos/9846_7.txt  \n",
            "  inflating: /content/dataset/__MACOSX/aclImdb/train/pos/._9846_7.txt  \n",
            "  inflating: /content/dataset/aclImdb/train/pos/9847_7.txt  \n",
            "  inflating: /content/dataset/__MACOSX/aclImdb/train/pos/._9847_7.txt  \n",
            "  inflating: /content/dataset/aclImdb/train/pos/9848_7.txt  \n",
            "  inflating: /content/dataset/__MACOSX/aclImdb/train/pos/._9848_7.txt  \n",
            "  inflating: /content/dataset/aclImdb/train/pos/9849_9.txt  \n",
            "  inflating: /content/dataset/__MACOSX/aclImdb/train/pos/._9849_9.txt  \n",
            "  inflating: /content/dataset/aclImdb/train/pos/984_7.txt  \n",
            "  inflating: /content/dataset/__MACOSX/aclImdb/train/pos/._984_7.txt  \n",
            "  inflating: /content/dataset/aclImdb/train/pos/9850_7.txt  \n",
            "  inflating: /content/dataset/__MACOSX/aclImdb/train/pos/._9850_7.txt  \n",
            "  inflating: /content/dataset/aclImdb/train/pos/9851_7.txt  \n",
            "  inflating: /content/dataset/__MACOSX/aclImdb/train/pos/._9851_7.txt  \n",
            "  inflating: /content/dataset/aclImdb/train/pos/9852_7.txt  \n",
            "  inflating: /content/dataset/__MACOSX/aclImdb/train/pos/._9852_7.txt  \n",
            "  inflating: /content/dataset/aclImdb/train/pos/9853_8.txt  \n",
            "  inflating: /content/dataset/__MACOSX/aclImdb/train/pos/._9853_8.txt  \n",
            "  inflating: /content/dataset/aclImdb/train/pos/9854_7.txt  \n",
            "  inflating: /content/dataset/__MACOSX/aclImdb/train/pos/._9854_7.txt  \n",
            "  inflating: /content/dataset/aclImdb/train/pos/9855_7.txt  \n",
            "  inflating: /content/dataset/__MACOSX/aclImdb/train/pos/._9855_7.txt  \n",
            "  inflating: /content/dataset/aclImdb/train/pos/9856_8.txt  \n",
            "  inflating: /content/dataset/__MACOSX/aclImdb/train/pos/._9856_8.txt  \n",
            "  inflating: /content/dataset/aclImdb/train/pos/9857_7.txt  \n",
            "  inflating: /content/dataset/__MACOSX/aclImdb/train/pos/._9857_7.txt  \n",
            "  inflating: /content/dataset/aclImdb/train/pos/9858_7.txt  \n",
            "  inflating: /content/dataset/__MACOSX/aclImdb/train/pos/._9858_7.txt  \n",
            "  inflating: /content/dataset/aclImdb/train/pos/9859_10.txt  \n",
            "  inflating: /content/dataset/__MACOSX/aclImdb/train/pos/._9859_10.txt  \n",
            "  inflating: /content/dataset/aclImdb/train/pos/985_7.txt  \n",
            "  inflating: /content/dataset/__MACOSX/aclImdb/train/pos/._985_7.txt  \n",
            "  inflating: /content/dataset/aclImdb/train/pos/9860_7.txt  \n",
            "  inflating: /content/dataset/__MACOSX/aclImdb/train/pos/._9860_7.txt  \n",
            "  inflating: /content/dataset/aclImdb/train/pos/9861_10.txt  \n",
            "  inflating: /content/dataset/__MACOSX/aclImdb/train/pos/._9861_10.txt  \n",
            "  inflating: /content/dataset/aclImdb/train/pos/9862_9.txt  \n",
            "  inflating: /content/dataset/__MACOSX/aclImdb/train/pos/._9862_9.txt  \n",
            "  inflating: /content/dataset/aclImdb/train/pos/9863_10.txt  \n",
            "  inflating: /content/dataset/__MACOSX/aclImdb/train/pos/._9863_10.txt  \n",
            "  inflating: /content/dataset/aclImdb/train/pos/9864_8.txt  \n",
            "  inflating: /content/dataset/__MACOSX/aclImdb/train/pos/._9864_8.txt  \n",
            "  inflating: /content/dataset/aclImdb/train/pos/9865_8.txt  \n",
            "  inflating: /content/dataset/__MACOSX/aclImdb/train/pos/._9865_8.txt  \n",
            "  inflating: /content/dataset/aclImdb/train/pos/9866_7.txt  \n",
            "  inflating: /content/dataset/__MACOSX/aclImdb/train/pos/._9866_7.txt  \n",
            "  inflating: /content/dataset/aclImdb/train/pos/9867_10.txt  \n",
            "  inflating: /content/dataset/__MACOSX/aclImdb/train/pos/._9867_10.txt  \n",
            "  inflating: /content/dataset/aclImdb/train/pos/9868_9.txt  \n",
            "  inflating: /content/dataset/__MACOSX/aclImdb/train/pos/._9868_9.txt  \n",
            "  inflating: /content/dataset/aclImdb/train/pos/9869_10.txt  \n",
            "  inflating: /content/dataset/__MACOSX/aclImdb/train/pos/._9869_10.txt  \n",
            "  inflating: /content/dataset/aclImdb/train/pos/986_10.txt  \n",
            "  inflating: /content/dataset/__MACOSX/aclImdb/train/pos/._986_10.txt  \n",
            "  inflating: /content/dataset/aclImdb/train/pos/9870_9.txt  \n",
            "  inflating: /content/dataset/__MACOSX/aclImdb/train/pos/._9870_9.txt  \n",
            "  inflating: /content/dataset/aclImdb/train/pos/9871_7.txt  \n",
            "  inflating: /content/dataset/__MACOSX/aclImdb/train/pos/._9871_7.txt  \n",
            "  inflating: /content/dataset/aclImdb/train/pos/9872_10.txt  \n",
            "  inflating: /content/dataset/__MACOSX/aclImdb/train/pos/._9872_10.txt  \n",
            "  inflating: /content/dataset/aclImdb/train/pos/9873_7.txt  \n",
            "  inflating: /content/dataset/__MACOSX/aclImdb/train/pos/._9873_7.txt  \n",
            "  inflating: /content/dataset/aclImdb/train/pos/9874_8.txt  \n",
            "  inflating: /content/dataset/__MACOSX/aclImdb/train/pos/._9874_8.txt  \n",
            "  inflating: /content/dataset/aclImdb/train/pos/9875_7.txt  \n",
            "  inflating: /content/dataset/__MACOSX/aclImdb/train/pos/._9875_7.txt  \n",
            "  inflating: /content/dataset/aclImdb/train/pos/9876_8.txt  \n",
            "  inflating: /content/dataset/__MACOSX/aclImdb/train/pos/._9876_8.txt  \n",
            "  inflating: /content/dataset/aclImdb/train/pos/9877_8.txt  \n",
            "  inflating: /content/dataset/__MACOSX/aclImdb/train/pos/._9877_8.txt  \n",
            "  inflating: /content/dataset/aclImdb/train/pos/9878_7.txt  \n",
            "  inflating: /content/dataset/__MACOSX/aclImdb/train/pos/._9878_7.txt  \n",
            "  inflating: /content/dataset/aclImdb/train/pos/9879_8.txt  \n",
            "  inflating: /content/dataset/__MACOSX/aclImdb/train/pos/._9879_8.txt  \n",
            "  inflating: /content/dataset/aclImdb/train/pos/987_8.txt  \n",
            "  inflating: /content/dataset/__MACOSX/aclImdb/train/pos/._987_8.txt  \n",
            "  inflating: /content/dataset/aclImdb/train/pos/9880_10.txt  \n",
            "  inflating: /content/dataset/__MACOSX/aclImdb/train/pos/._9880_10.txt  \n",
            "  inflating: /content/dataset/aclImdb/train/pos/9881_8.txt  \n",
            "  inflating: /content/dataset/__MACOSX/aclImdb/train/pos/._9881_8.txt  \n",
            "  inflating: /content/dataset/aclImdb/train/pos/9882_8.txt  \n",
            "  inflating: /content/dataset/__MACOSX/aclImdb/train/pos/._9882_8.txt  \n",
            "  inflating: /content/dataset/aclImdb/train/pos/9883_8.txt  \n",
            "  inflating: /content/dataset/__MACOSX/aclImdb/train/pos/._9883_8.txt  \n",
            "  inflating: /content/dataset/aclImdb/train/pos/9884_10.txt  \n",
            "  inflating: /content/dataset/__MACOSX/aclImdb/train/pos/._9884_10.txt  \n",
            "  inflating: /content/dataset/aclImdb/train/pos/9885_10.txt  \n",
            "  inflating: /content/dataset/__MACOSX/aclImdb/train/pos/._9885_10.txt  \n",
            "  inflating: /content/dataset/aclImdb/train/pos/9886_10.txt  \n",
            "  inflating: /content/dataset/__MACOSX/aclImdb/train/pos/._9886_10.txt  \n",
            "  inflating: /content/dataset/aclImdb/train/pos/9887_9.txt  \n",
            "  inflating: /content/dataset/__MACOSX/aclImdb/train/pos/._9887_9.txt  \n",
            "  inflating: /content/dataset/aclImdb/train/pos/9888_10.txt  \n",
            "  inflating: /content/dataset/__MACOSX/aclImdb/train/pos/._9888_10.txt  \n",
            "  inflating: /content/dataset/aclImdb/train/pos/9889_9.txt  \n",
            "  inflating: /content/dataset/__MACOSX/aclImdb/train/pos/._9889_9.txt  \n",
            "  inflating: /content/dataset/aclImdb/train/pos/988_8.txt  \n",
            "  inflating: /content/dataset/__MACOSX/aclImdb/train/pos/._988_8.txt  \n",
            "  inflating: /content/dataset/aclImdb/train/pos/9890_8.txt  \n",
            "  inflating: /content/dataset/__MACOSX/aclImdb/train/pos/._9890_8.txt  \n",
            "  inflating: /content/dataset/aclImdb/train/pos/9891_10.txt  \n",
            "  inflating: /content/dataset/__MACOSX/aclImdb/train/pos/._9891_10.txt  \n",
            "  inflating: /content/dataset/aclImdb/train/pos/9892_8.txt  \n",
            "  inflating: /content/dataset/__MACOSX/aclImdb/train/pos/._9892_8.txt  \n",
            "  inflating: /content/dataset/aclImdb/train/pos/9893_7.txt  \n",
            "  inflating: /content/dataset/__MACOSX/aclImdb/train/pos/._9893_7.txt  \n",
            "  inflating: /content/dataset/aclImdb/train/pos/9894_8.txt  \n",
            "  inflating: /content/dataset/__MACOSX/aclImdb/train/pos/._9894_8.txt  \n",
            "  inflating: /content/dataset/aclImdb/train/pos/9895_8.txt  \n",
            "  inflating: /content/dataset/__MACOSX/aclImdb/train/pos/._9895_8.txt  \n",
            "  inflating: /content/dataset/aclImdb/train/pos/9896_8.txt  \n",
            "  inflating: /content/dataset/__MACOSX/aclImdb/train/pos/._9896_8.txt  \n",
            "  inflating: /content/dataset/aclImdb/train/pos/9897_10.txt  \n",
            "  inflating: /content/dataset/__MACOSX/aclImdb/train/pos/._9897_10.txt  \n",
            "  inflating: /content/dataset/aclImdb/train/pos/9898_10.txt  \n",
            "  inflating: /content/dataset/__MACOSX/aclImdb/train/pos/._9898_10.txt  \n",
            "  inflating: /content/dataset/aclImdb/train/pos/9899_7.txt  \n",
            "  inflating: /content/dataset/__MACOSX/aclImdb/train/pos/._9899_7.txt  \n",
            "  inflating: /content/dataset/aclImdb/train/pos/989_9.txt  \n",
            "  inflating: /content/dataset/__MACOSX/aclImdb/train/pos/._989_9.txt  \n",
            "  inflating: /content/dataset/aclImdb/train/pos/98_10.txt  \n",
            "  inflating: /content/dataset/__MACOSX/aclImdb/train/pos/._98_10.txt  \n",
            "  inflating: /content/dataset/aclImdb/train/pos/9900_10.txt  \n",
            "  inflating: /content/dataset/__MACOSX/aclImdb/train/pos/._9900_10.txt  \n",
            "  inflating: /content/dataset/aclImdb/train/pos/9901_8.txt  \n",
            "  inflating: /content/dataset/__MACOSX/aclImdb/train/pos/._9901_8.txt  \n",
            "  inflating: /content/dataset/aclImdb/train/pos/9902_7.txt  \n",
            "  inflating: /content/dataset/__MACOSX/aclImdb/train/pos/._9902_7.txt  \n",
            "  inflating: /content/dataset/aclImdb/train/pos/9903_9.txt  \n",
            "  inflating: /content/dataset/__MACOSX/aclImdb/train/pos/._9903_9.txt  \n",
            "  inflating: /content/dataset/aclImdb/train/pos/9904_8.txt  \n",
            "  inflating: /content/dataset/__MACOSX/aclImdb/train/pos/._9904_8.txt  \n",
            "  inflating: /content/dataset/aclImdb/train/pos/9905_10.txt  \n",
            "  inflating: /content/dataset/__MACOSX/aclImdb/train/pos/._9905_10.txt  \n",
            "  inflating: /content/dataset/aclImdb/train/pos/9906_10.txt  \n",
            "  inflating: /content/dataset/__MACOSX/aclImdb/train/pos/._9906_10.txt  \n",
            "  inflating: /content/dataset/aclImdb/train/pos/9907_7.txt  \n",
            "  inflating: /content/dataset/__MACOSX/aclImdb/train/pos/._9907_7.txt  \n",
            "  inflating: /content/dataset/aclImdb/train/pos/9908_8.txt  \n",
            "  inflating: /content/dataset/__MACOSX/aclImdb/train/pos/._9908_8.txt  \n",
            "  inflating: /content/dataset/aclImdb/train/pos/9909_7.txt  \n",
            "  inflating: /content/dataset/__MACOSX/aclImdb/train/pos/._9909_7.txt  \n",
            "  inflating: /content/dataset/aclImdb/train/pos/990_9.txt  \n",
            "  inflating: /content/dataset/__MACOSX/aclImdb/train/pos/._990_9.txt  \n",
            "  inflating: /content/dataset/aclImdb/train/pos/9910_10.txt  \n",
            "  inflating: /content/dataset/__MACOSX/aclImdb/train/pos/._9910_10.txt  \n",
            "  inflating: /content/dataset/aclImdb/train/pos/9911_10.txt  \n",
            "  inflating: /content/dataset/__MACOSX/aclImdb/train/pos/._9911_10.txt  \n",
            "  inflating: /content/dataset/aclImdb/train/pos/9912_10.txt  \n",
            "  inflating: /content/dataset/__MACOSX/aclImdb/train/pos/._9912_10.txt  \n",
            "  inflating: /content/dataset/aclImdb/train/pos/9913_10.txt  \n",
            "  inflating: /content/dataset/__MACOSX/aclImdb/train/pos/._9913_10.txt  \n",
            "  inflating: /content/dataset/aclImdb/train/pos/9914_7.txt  \n",
            "  inflating: /content/dataset/__MACOSX/aclImdb/train/pos/._9914_7.txt  \n",
            "  inflating: /content/dataset/aclImdb/train/pos/9915_8.txt  \n",
            "  inflating: /content/dataset/__MACOSX/aclImdb/train/pos/._9915_8.txt  \n",
            "  inflating: /content/dataset/aclImdb/train/pos/9916_7.txt  \n",
            "  inflating: /content/dataset/__MACOSX/aclImdb/train/pos/._9916_7.txt  \n",
            "  inflating: /content/dataset/aclImdb/train/pos/9917_10.txt  \n",
            "  inflating: /content/dataset/__MACOSX/aclImdb/train/pos/._9917_10.txt  \n",
            "  inflating: /content/dataset/aclImdb/train/pos/9918_10.txt  \n",
            "  inflating: /content/dataset/__MACOSX/aclImdb/train/pos/._9918_10.txt  \n",
            "  inflating: /content/dataset/aclImdb/train/pos/9919_9.txt  \n",
            "  inflating: /content/dataset/__MACOSX/aclImdb/train/pos/._9919_9.txt  \n",
            "  inflating: /content/dataset/aclImdb/train/pos/991_7.txt  \n",
            "  inflating: /content/dataset/__MACOSX/aclImdb/train/pos/._991_7.txt  \n",
            "  inflating: /content/dataset/aclImdb/train/pos/9920_7.txt  \n",
            "  inflating: /content/dataset/__MACOSX/aclImdb/train/pos/._9920_7.txt  \n",
            "  inflating: /content/dataset/aclImdb/train/pos/9921_8.txt  \n",
            "  inflating: /content/dataset/__MACOSX/aclImdb/train/pos/._9921_8.txt  \n",
            "  inflating: /content/dataset/aclImdb/train/pos/9922_10.txt  \n",
            "  inflating: /content/dataset/__MACOSX/aclImdb/train/pos/._9922_10.txt  \n",
            "  inflating: /content/dataset/aclImdb/train/pos/9923_7.txt  \n",
            "  inflating: /content/dataset/__MACOSX/aclImdb/train/pos/._9923_7.txt  \n",
            "  inflating: /content/dataset/aclImdb/train/pos/9924_9.txt  \n",
            "  inflating: /content/dataset/__MACOSX/aclImdb/train/pos/._9924_9.txt  \n",
            "  inflating: /content/dataset/aclImdb/train/pos/9925_7.txt  \n",
            "  inflating: /content/dataset/__MACOSX/aclImdb/train/pos/._9925_7.txt  \n",
            "  inflating: /content/dataset/aclImdb/train/pos/9926_7.txt  \n",
            "  inflating: /content/dataset/__MACOSX/aclImdb/train/pos/._9926_7.txt  \n",
            "  inflating: /content/dataset/aclImdb/train/pos/9927_9.txt  \n",
            "  inflating: /content/dataset/__MACOSX/aclImdb/train/pos/._9927_9.txt  \n",
            "  inflating: /content/dataset/aclImdb/train/pos/9928_7.txt  \n",
            "  inflating: /content/dataset/__MACOSX/aclImdb/train/pos/._9928_7.txt  \n",
            "  inflating: /content/dataset/aclImdb/train/pos/9929_7.txt  \n",
            "  inflating: /content/dataset/__MACOSX/aclImdb/train/pos/._9929_7.txt  \n",
            "  inflating: /content/dataset/aclImdb/train/pos/992_7.txt  \n",
            "  inflating: /content/dataset/__MACOSX/aclImdb/train/pos/._992_7.txt  \n",
            "  inflating: /content/dataset/aclImdb/train/pos/9930_8.txt  \n",
            "  inflating: /content/dataset/__MACOSX/aclImdb/train/pos/._9930_8.txt  \n",
            "  inflating: /content/dataset/aclImdb/train/pos/9931_9.txt  \n",
            "  inflating: /content/dataset/__MACOSX/aclImdb/train/pos/._9931_9.txt  \n",
            "  inflating: /content/dataset/aclImdb/train/pos/9932_8.txt  \n",
            "  inflating: /content/dataset/__MACOSX/aclImdb/train/pos/._9932_8.txt  \n",
            "  inflating: /content/dataset/aclImdb/train/pos/9933_8.txt  \n",
            "  inflating: /content/dataset/__MACOSX/aclImdb/train/pos/._9933_8.txt  \n",
            "  inflating: /content/dataset/aclImdb/train/pos/9934_8.txt  \n",
            "  inflating: /content/dataset/__MACOSX/aclImdb/train/pos/._9934_8.txt  \n",
            "  inflating: /content/dataset/aclImdb/train/pos/9935_7.txt  \n",
            "  inflating: /content/dataset/__MACOSX/aclImdb/train/pos/._9935_7.txt  \n",
            "  inflating: /content/dataset/aclImdb/train/pos/9936_10.txt  \n",
            "  inflating: /content/dataset/__MACOSX/aclImdb/train/pos/._9936_10.txt  \n",
            "  inflating: /content/dataset/aclImdb/train/pos/9937_10.txt  \n",
            "  inflating: /content/dataset/__MACOSX/aclImdb/train/pos/._9937_10.txt  \n",
            "  inflating: /content/dataset/aclImdb/train/pos/9938_9.txt  \n",
            "  inflating: /content/dataset/__MACOSX/aclImdb/train/pos/._9938_9.txt  \n",
            "  inflating: /content/dataset/aclImdb/train/pos/9939_10.txt  \n",
            "  inflating: /content/dataset/__MACOSX/aclImdb/train/pos/._9939_10.txt  \n",
            "  inflating: /content/dataset/aclImdb/train/pos/993_8.txt  \n",
            "  inflating: /content/dataset/__MACOSX/aclImdb/train/pos/._993_8.txt  \n",
            "  inflating: /content/dataset/aclImdb/train/pos/9940_9.txt  \n",
            "  inflating: /content/dataset/__MACOSX/aclImdb/train/pos/._9940_9.txt  \n",
            "  inflating: /content/dataset/aclImdb/train/pos/9941_7.txt  \n",
            "  inflating: /content/dataset/__MACOSX/aclImdb/train/pos/._9941_7.txt  \n",
            "  inflating: /content/dataset/aclImdb/train/pos/9942_7.txt  \n",
            "  inflating: /content/dataset/__MACOSX/aclImdb/train/pos/._9942_7.txt  \n",
            "  inflating: /content/dataset/aclImdb/train/pos/9943_7.txt  \n",
            "  inflating: /content/dataset/__MACOSX/aclImdb/train/pos/._9943_7.txt  \n",
            "  inflating: /content/dataset/aclImdb/train/pos/9944_9.txt  \n",
            "  inflating: /content/dataset/__MACOSX/aclImdb/train/pos/._9944_9.txt  \n",
            "  inflating: /content/dataset/aclImdb/train/pos/9945_8.txt  \n",
            "  inflating: /content/dataset/__MACOSX/aclImdb/train/pos/._9945_8.txt  \n",
            "  inflating: /content/dataset/aclImdb/train/pos/9946_9.txt  \n",
            "  inflating: /content/dataset/__MACOSX/aclImdb/train/pos/._9946_9.txt  \n",
            "  inflating: /content/dataset/aclImdb/train/pos/9947_10.txt  \n",
            "  inflating: /content/dataset/__MACOSX/aclImdb/train/pos/._9947_10.txt  \n",
            "  inflating: /content/dataset/aclImdb/train/pos/9948_8.txt  \n",
            "  inflating: /content/dataset/__MACOSX/aclImdb/train/pos/._9948_8.txt  \n",
            "  inflating: /content/dataset/aclImdb/train/pos/9949_9.txt  \n",
            "  inflating: /content/dataset/__MACOSX/aclImdb/train/pos/._9949_9.txt  \n",
            "  inflating: /content/dataset/aclImdb/train/pos/994_7.txt  \n",
            "  inflating: /content/dataset/__MACOSX/aclImdb/train/pos/._994_7.txt  \n",
            "  inflating: /content/dataset/aclImdb/train/pos/9950_8.txt  \n",
            "  inflating: /content/dataset/__MACOSX/aclImdb/train/pos/._9950_8.txt  \n",
            "  inflating: /content/dataset/aclImdb/train/pos/9951_7.txt  \n",
            "  inflating: /content/dataset/__MACOSX/aclImdb/train/pos/._9951_7.txt  \n",
            "  inflating: /content/dataset/aclImdb/train/pos/9952_8.txt  \n",
            "  inflating: /content/dataset/__MACOSX/aclImdb/train/pos/._9952_8.txt  \n",
            "  inflating: /content/dataset/aclImdb/train/pos/9953_10.txt  \n",
            "  inflating: /content/dataset/__MACOSX/aclImdb/train/pos/._9953_10.txt  \n",
            "  inflating: /content/dataset/aclImdb/train/pos/9954_8.txt  \n",
            "  inflating: /content/dataset/__MACOSX/aclImdb/train/pos/._9954_8.txt  \n",
            "  inflating: /content/dataset/aclImdb/train/pos/9955_9.txt  \n",
            "  inflating: /content/dataset/__MACOSX/aclImdb/train/pos/._9955_9.txt  \n",
            "  inflating: /content/dataset/aclImdb/train/pos/9956_9.txt  \n",
            "  inflating: /content/dataset/__MACOSX/aclImdb/train/pos/._9956_9.txt  \n",
            "  inflating: /content/dataset/aclImdb/train/pos/9957_7.txt  \n",
            "  inflating: /content/dataset/__MACOSX/aclImdb/train/pos/._9957_7.txt  \n",
            "  inflating: /content/dataset/aclImdb/train/pos/9958_7.txt  \n",
            "  inflating: /content/dataset/__MACOSX/aclImdb/train/pos/._9958_7.txt  \n",
            "  inflating: /content/dataset/aclImdb/train/pos/9959_7.txt  \n",
            "  inflating: /content/dataset/__MACOSX/aclImdb/train/pos/._9959_7.txt  \n",
            "  inflating: /content/dataset/aclImdb/train/pos/995_9.txt  \n",
            "  inflating: /content/dataset/__MACOSX/aclImdb/train/pos/._995_9.txt  \n",
            "  inflating: /content/dataset/aclImdb/train/pos/9960_7.txt  \n",
            "  inflating: /content/dataset/__MACOSX/aclImdb/train/pos/._9960_7.txt  \n",
            "  inflating: /content/dataset/aclImdb/train/pos/9961_9.txt  \n",
            "  inflating: /content/dataset/__MACOSX/aclImdb/train/pos/._9961_9.txt  \n",
            "  inflating: /content/dataset/aclImdb/train/pos/9962_9.txt  \n",
            "  inflating: /content/dataset/__MACOSX/aclImdb/train/pos/._9962_9.txt  \n",
            "  inflating: /content/dataset/aclImdb/train/pos/9963_10.txt  \n",
            "  inflating: /content/dataset/__MACOSX/aclImdb/train/pos/._9963_10.txt  \n",
            "  inflating: /content/dataset/aclImdb/train/pos/9964_10.txt  \n",
            "  inflating: /content/dataset/__MACOSX/aclImdb/train/pos/._9964_10.txt  \n",
            "  inflating: /content/dataset/aclImdb/train/pos/9965_10.txt  \n",
            "  inflating: /content/dataset/__MACOSX/aclImdb/train/pos/._9965_10.txt  \n",
            "  inflating: /content/dataset/aclImdb/train/pos/9966_10.txt  \n",
            "  inflating: /content/dataset/__MACOSX/aclImdb/train/pos/._9966_10.txt  \n",
            "  inflating: /content/dataset/aclImdb/train/pos/9967_10.txt  \n",
            "  inflating: /content/dataset/__MACOSX/aclImdb/train/pos/._9967_10.txt  \n",
            "  inflating: /content/dataset/aclImdb/train/pos/9968_9.txt  \n",
            "  inflating: /content/dataset/__MACOSX/aclImdb/train/pos/._9968_9.txt  \n",
            "  inflating: /content/dataset/aclImdb/train/pos/9969_10.txt  \n",
            "  inflating: /content/dataset/__MACOSX/aclImdb/train/pos/._9969_10.txt  \n",
            "  inflating: /content/dataset/aclImdb/train/pos/996_9.txt  \n",
            "  inflating: /content/dataset/__MACOSX/aclImdb/train/pos/._996_9.txt  \n",
            "  inflating: /content/dataset/aclImdb/train/pos/9970_10.txt  \n",
            "  inflating: /content/dataset/__MACOSX/aclImdb/train/pos/._9970_10.txt  \n",
            "  inflating: /content/dataset/aclImdb/train/pos/9971_10.txt  \n",
            "  inflating: /content/dataset/__MACOSX/aclImdb/train/pos/._9971_10.txt  \n",
            "  inflating: /content/dataset/aclImdb/train/pos/9972_10.txt  \n",
            "  inflating: /content/dataset/__MACOSX/aclImdb/train/pos/._9972_10.txt  \n",
            "  inflating: /content/dataset/aclImdb/train/pos/9973_8.txt  \n",
            "  inflating: /content/dataset/__MACOSX/aclImdb/train/pos/._9973_8.txt  \n",
            "  inflating: /content/dataset/aclImdb/train/pos/9974_8.txt  \n",
            "  inflating: /content/dataset/__MACOSX/aclImdb/train/pos/._9974_8.txt  \n",
            "  inflating: /content/dataset/aclImdb/train/pos/9975_10.txt  \n",
            "  inflating: /content/dataset/__MACOSX/aclImdb/train/pos/._9975_10.txt  \n",
            "  inflating: /content/dataset/aclImdb/train/pos/9976_7.txt  \n",
            "  inflating: /content/dataset/__MACOSX/aclImdb/train/pos/._9976_7.txt  \n",
            "  inflating: /content/dataset/aclImdb/train/pos/9977_7.txt  \n",
            "  inflating: /content/dataset/__MACOSX/aclImdb/train/pos/._9977_7.txt  \n",
            "  inflating: /content/dataset/aclImdb/train/pos/9978_8.txt  \n",
            "  inflating: /content/dataset/__MACOSX/aclImdb/train/pos/._9978_8.txt  \n",
            "  inflating: /content/dataset/aclImdb/train/pos/9979_7.txt  \n",
            "  inflating: /content/dataset/__MACOSX/aclImdb/train/pos/._9979_7.txt  \n",
            "  inflating: /content/dataset/aclImdb/train/pos/997_7.txt  \n",
            "  inflating: /content/dataset/__MACOSX/aclImdb/train/pos/._997_7.txt  \n",
            "  inflating: /content/dataset/aclImdb/train/pos/9980_8.txt  \n",
            "  inflating: /content/dataset/__MACOSX/aclImdb/train/pos/._9980_8.txt  \n",
            "  inflating: /content/dataset/aclImdb/train/pos/9981_7.txt  \n",
            "  inflating: /content/dataset/__MACOSX/aclImdb/train/pos/._9981_7.txt  \n",
            "  inflating: /content/dataset/aclImdb/train/pos/9982_9.txt  \n",
            "  inflating: /content/dataset/__MACOSX/aclImdb/train/pos/._9982_9.txt  \n",
            "  inflating: /content/dataset/aclImdb/train/pos/9983_7.txt  \n",
            "  inflating: /content/dataset/__MACOSX/aclImdb/train/pos/._9983_7.txt  \n",
            "  inflating: /content/dataset/aclImdb/train/pos/9984_9.txt  \n",
            "  inflating: /content/dataset/__MACOSX/aclImdb/train/pos/._9984_9.txt  \n",
            "  inflating: /content/dataset/aclImdb/train/pos/9985_9.txt  \n",
            "  inflating: /content/dataset/__MACOSX/aclImdb/train/pos/._9985_9.txt  \n",
            "  inflating: /content/dataset/aclImdb/train/pos/9986_9.txt  \n",
            "  inflating: /content/dataset/__MACOSX/aclImdb/train/pos/._9986_9.txt  \n",
            "  inflating: /content/dataset/aclImdb/train/pos/9987_9.txt  \n",
            "  inflating: /content/dataset/__MACOSX/aclImdb/train/pos/._9987_9.txt  \n",
            "  inflating: /content/dataset/aclImdb/train/pos/9988_8.txt  \n",
            "  inflating: /content/dataset/__MACOSX/aclImdb/train/pos/._9988_8.txt  \n",
            "  inflating: /content/dataset/aclImdb/train/pos/9989_9.txt  \n",
            "  inflating: /content/dataset/__MACOSX/aclImdb/train/pos/._9989_9.txt  \n",
            "  inflating: /content/dataset/aclImdb/train/pos/998_7.txt  \n",
            "  inflating: /content/dataset/__MACOSX/aclImdb/train/pos/._998_7.txt  \n",
            "  inflating: /content/dataset/aclImdb/train/pos/9990_8.txt  \n",
            "  inflating: /content/dataset/__MACOSX/aclImdb/train/pos/._9990_8.txt  \n",
            "  inflating: /content/dataset/aclImdb/train/pos/9991_10.txt  \n",
            "  inflating: /content/dataset/__MACOSX/aclImdb/train/pos/._9991_10.txt  \n",
            "  inflating: /content/dataset/aclImdb/train/pos/9992_10.txt  \n",
            "  inflating: /content/dataset/__MACOSX/aclImdb/train/pos/._9992_10.txt  \n",
            "  inflating: /content/dataset/aclImdb/train/pos/9993_10.txt  \n",
            "  inflating: /content/dataset/__MACOSX/aclImdb/train/pos/._9993_10.txt  \n",
            "  inflating: /content/dataset/aclImdb/train/pos/9994_10.txt  \n",
            "  inflating: /content/dataset/__MACOSX/aclImdb/train/pos/._9994_10.txt  \n",
            "  inflating: /content/dataset/aclImdb/train/pos/9995_10.txt  \n",
            "  inflating: /content/dataset/__MACOSX/aclImdb/train/pos/._9995_10.txt  \n",
            "  inflating: /content/dataset/aclImdb/train/pos/9996_9.txt  \n",
            "  inflating: /content/dataset/__MACOSX/aclImdb/train/pos/._9996_9.txt  \n",
            "  inflating: /content/dataset/aclImdb/train/pos/9997_7.txt  \n",
            "  inflating: /content/dataset/__MACOSX/aclImdb/train/pos/._9997_7.txt  \n",
            "  inflating: /content/dataset/aclImdb/train/pos/9998_9.txt  \n",
            "  inflating: /content/dataset/__MACOSX/aclImdb/train/pos/._9998_9.txt  \n",
            "  inflating: /content/dataset/aclImdb/train/pos/9999_8.txt  \n",
            "  inflating: /content/dataset/__MACOSX/aclImdb/train/pos/._9999_8.txt  \n",
            "  inflating: /content/dataset/aclImdb/train/pos/999_10.txt  \n",
            "  inflating: /content/dataset/__MACOSX/aclImdb/train/pos/._999_10.txt  \n",
            "  inflating: /content/dataset/aclImdb/train/pos/99_8.txt  \n",
            "  inflating: /content/dataset/__MACOSX/aclImdb/train/pos/._99_8.txt  \n",
            "  inflating: /content/dataset/aclImdb/train/pos/9_7.txt  \n",
            "  inflating: /content/dataset/__MACOSX/aclImdb/train/pos/._9_7.txt  \n",
            "  inflating: /content/dataset/__MACOSX/aclImdb/train/._pos  \n",
            "  inflating: /content/dataset/aclImdb/train/urls_neg.txt  \n",
            "  inflating: /content/dataset/__MACOSX/aclImdb/train/._urls_neg.txt  \n",
            "  inflating: /content/dataset/aclImdb/train/urls_pos.txt  \n",
            "  inflating: /content/dataset/__MACOSX/aclImdb/train/._urls_pos.txt  \n",
            "  inflating: /content/dataset/__MACOSX/aclImdb/._train  \n",
            "  inflating: /content/dataset/__MACOSX/._aclImdb  \n"
          ]
        }
      ],
      "source": [
        "!mkdir '/content/dataset'\n",
        "!unzip '/content/0tIo' -d '/content/dataset'"
      ]
    },
    {
      "cell_type": "code",
      "execution_count": null,
      "metadata": {
        "id": "ACKGbg0Aca77"
      },
      "outputs": [],
      "source": [
        "import os"
      ]
    },
    {
      "cell_type": "code",
      "execution_count": null,
      "metadata": {
        "id": "6N-bq0Xuca52"
      },
      "outputs": [],
      "source": [
        "imdb_dir = '/content/dataset/aclImdb'\n",
        "train_dir = os.path.join(imdb_dir, 'train')\n",
        "\n",
        "labels = []\n",
        "texts = []\n",
        "for label_type in ['neg', 'pos']:\n",
        "  dir_name = os.path.join(train_dir, label_type)\n",
        "\n",
        "  for fname in os.listdir(dir_name):\n",
        "    if fname[-4:] == '.txt':\n",
        "      f = open(os.path.join(dir_name, fname), encoding = 'utf8')\n",
        "      texts.append(f.read())\n",
        "      f.close()\n",
        "\n",
        "      if label_type == 'neg':\n",
        "        labels.append(0)\n",
        "      else:\n",
        "        labels.append(1) "
      ]
    },
    {
      "cell_type": "code",
      "execution_count": null,
      "metadata": {
        "id": "sZVholCHca3H",
        "colab": {
          "base_uri": "https://localhost:8080/",
          "height": 182
        },
        "outputId": "6459ad8c-a0b1-4374-d1f5-9b1d3f218cc1"
      },
      "outputs": [
        {
          "output_type": "execute_result",
          "data": {
            "text/plain": [
              "\"<START> this film was just brilliant casting location scenery story direction everyone's really suited the part they played and you could just imagine being there robert redford's is an amazing actor and now the same being director norman's father came from the same scottish island as myself so i loved the fact there was a real connection with this film the witty remarks throughout the film were great it was just brilliant so much that i bought the film as soon as it was released for retail and would recommend it to everyone to watch and the fly fishing was amazing really cried at the end it was so sad and you know what they say if you cry at a film it must have been good and this definitely was also congratulations to the two little boy's that played the part's of norman and paul they were just brilliant children are often left out of the praising list i think because the stars that play them all grown up are such a big profile for the whole film but these children are amazing and should be praised for what they have done don't you think the whole story was so lovely because it was true and was someone's life after all that was shared with us all\""
            ],
            "application/vnd.google.colaboratory.intrinsic+json": {
              "type": "string"
            }
          },
          "metadata": {},
          "execution_count": 98
        }
      ],
      "source": [
        "texts[0]"
      ]
    },
    {
      "cell_type": "code",
      "execution_count": null,
      "metadata": {
        "id": "YmTibhn2ca0i",
        "colab": {
          "base_uri": "https://localhost:8080/"
        },
        "outputId": "f000702e-d442-4d30-fc05-565870a72e7f"
      },
      "outputs": [
        {
          "output_type": "execute_result",
          "data": {
            "text/plain": [
              "0"
            ]
          },
          "metadata": {},
          "execution_count": 99
        }
      ],
      "source": [
        "labels[0]"
      ]
    },
    {
      "cell_type": "markdown",
      "metadata": {
        "id": "2_tzFe1ZcmTS"
      },
      "source": [
        "### 데이터 토큰화"
      ]
    },
    {
      "cell_type": "code",
      "execution_count": null,
      "metadata": {
        "id": "1f0W0ZrXcaww"
      },
      "outputs": [],
      "source": [
        "from tensorflow.keras.preprocessing.text import Tokenizer\n",
        "from tensorflow.keras.preprocessing.sequence import pad_sequences"
      ]
    },
    {
      "cell_type": "code",
      "execution_count": null,
      "metadata": {
        "id": "equ03Kp1coOs"
      },
      "outputs": [],
      "source": [
        "max_len = 100\n",
        "training_samples = 200\n",
        "validation_samples =10000\n",
        "max_words = 10000"
      ]
    },
    {
      "cell_type": "code",
      "execution_count": null,
      "metadata": {
        "id": "KtmsLkELcoMR",
        "colab": {
          "base_uri": "https://localhost:8080/"
        },
        "outputId": "80483da7-4df3-4101-ca5a-2a9792f079c0"
      },
      "outputs": [
        {
          "output_type": "stream",
          "name": "stdout",
          "text": [
            "88582\n"
          ]
        }
      ],
      "source": [
        "tokenizer = Tokenizer(num_words= max_words)\n",
        "tokenizer.fit_on_texts(texts)\n",
        "sequences = tokenizer.texts_to_sequences(texts)\n",
        "\n",
        "word_index = tokenizer.word_index\n",
        "print(len(word_index))"
      ]
    },
    {
      "cell_type": "code",
      "execution_count": null,
      "metadata": {
        "id": "UgXNbVYzcoJy",
        "colab": {
          "base_uri": "https://localhost:8080/"
        },
        "outputId": "0e1ebbb6-7fdb-4848-f5a2-c54ac81d9f82"
      },
      "outputs": [
        {
          "output_type": "stream",
          "name": "stdout",
          "text": [
            "(50000, 100)\n",
            "(25000,)\n"
          ]
        }
      ],
      "source": [
        "data = pad_sequences(sequences, maxlen = max_len)\n",
        "labels = np.asarray(labels)\n",
        "\n",
        "print(data.shape)\n",
        "print(labels.shape)"
      ]
    },
    {
      "cell_type": "code",
      "execution_count": null,
      "metadata": {
        "id": "OdJl4JKC315b",
        "colab": {
          "base_uri": "https://localhost:8080/"
        },
        "outputId": "0ceb2a83-ad67-442c-fa20-2e019d658765"
      },
      "outputs": [
        {
          "output_type": "execute_result",
          "data": {
            "text/plain": [
              "(25000, 100)"
            ]
          },
          "metadata": {},
          "execution_count": 104
        }
      ],
      "source": [
        "data=data[:25000]\n",
        "data.shape"
      ]
    },
    {
      "cell_type": "code",
      "execution_count": null,
      "metadata": {
        "id": "SyLStC6bc5tp"
      },
      "outputs": [],
      "source": [
        "indices = np.arange(data.shape[0])\n",
        "np.random.shuffle(indices)\n",
        "data = data[indices]\n",
        "labels = labels[indices]"
      ]
    },
    {
      "cell_type": "code",
      "execution_count": null,
      "metadata": {
        "id": "0jDTfOyLc5qn"
      },
      "outputs": [],
      "source": [
        "x_train = data[:training_samples]\n",
        "y_train = labels[:training_samples]\n",
        "x_val = data[training_samples: training_samples + validation_samples]\n",
        "y_val = labels[training_samples: training_samples + validation_samples]"
      ]
    },
    {
      "cell_type": "code",
      "execution_count": null,
      "metadata": {
        "id": "uSIi1amMc8NY",
        "colab": {
          "base_uri": "https://localhost:8080/"
        },
        "outputId": "94a5a884-7971-4cd5-cf8e-f79bc22cac77"
      },
      "outputs": [
        {
          "output_type": "stream",
          "name": "stdout",
          "text": [
            "(200, 100)\n",
            "(200,)\n",
            "(10000, 100)\n",
            "(10000,)\n"
          ]
        }
      ],
      "source": [
        "print(x_train.shape)\n",
        "print(y_train.shape)\n",
        "print(x_val.shape)\n",
        "print(y_val.shape)"
      ]
    },
    {
      "cell_type": "markdown",
      "metadata": {
        "id": "8aqYOxwrY3k3"
      },
      "source": [
        "### GloVe 단어 임베딩 내려받기\n",
        "\n",
        "- https://nlp.stanford.edu/projects/glove\n",
        "\n",
        "- http://nlp.stanford.edu/data/glove.6B.zip\n",
        "\n",
        "- 시간 소요 (5~7m)"
      ]
    },
    {
      "cell_type": "code",
      "execution_count": null,
      "metadata": {
        "id": "F3ArVw4MYl4l",
        "colab": {
          "base_uri": "https://localhost:8080/"
        },
        "outputId": "9d9a8a09-33dc-47a2-d8ca-bec52adfd790"
      },
      "outputs": [
        {
          "output_type": "stream",
          "name": "stdout",
          "text": [
            "--2022-12-22 12:05:39--  http://nlp.stanford.edu/data/glove.6B.zip\n",
            "Resolving nlp.stanford.edu (nlp.stanford.edu)... 171.64.67.140\n",
            "Connecting to nlp.stanford.edu (nlp.stanford.edu)|171.64.67.140|:80... connected.\n",
            "HTTP request sent, awaiting response... 302 Found\n",
            "Location: https://nlp.stanford.edu/data/glove.6B.zip [following]\n",
            "--2022-12-22 12:05:39--  https://nlp.stanford.edu/data/glove.6B.zip\n",
            "Connecting to nlp.stanford.edu (nlp.stanford.edu)|171.64.67.140|:443... connected.\n",
            "HTTP request sent, awaiting response... 301 Moved Permanently\n",
            "Location: https://downloads.cs.stanford.edu/nlp/data/glove.6B.zip [following]\n",
            "--2022-12-22 12:05:39--  https://downloads.cs.stanford.edu/nlp/data/glove.6B.zip\n",
            "Resolving downloads.cs.stanford.edu (downloads.cs.stanford.edu)... 171.64.64.22\n",
            "Connecting to downloads.cs.stanford.edu (downloads.cs.stanford.edu)|171.64.64.22|:443... connected.\n",
            "HTTP request sent, awaiting response... 200 OK\n",
            "Length: 862182613 (822M) [application/zip]\n",
            "Saving to: ‘glove.6B.zip’\n",
            "\n",
            "glove.6B.zip        100%[===================>] 822.24M  4.88MB/s    in 2m 39s  \n",
            "\n",
            "2022-12-22 12:08:18 (5.17 MB/s) - ‘glove.6B.zip’ saved [862182613/862182613]\n",
            "\n"
          ]
        }
      ],
      "source": [
        "!wget --no-check-certificate http://nlp.stanford.edu/data/glove.6B.zip"
      ]
    },
    {
      "cell_type": "code",
      "execution_count": null,
      "metadata": {
        "id": "zf35WdRSZCg8",
        "colab": {
          "base_uri": "https://localhost:8080/"
        },
        "outputId": "482f0875-1924-41dd-e51c-5d3c323e7b18"
      },
      "outputs": [
        {
          "output_type": "stream",
          "name": "stdout",
          "text": [
            "Archive:  /content/glove.6B.zip\n",
            "  inflating: /content/dataset/glove/glove.6B.50d.txt  \n",
            "  inflating: /content/dataset/glove/glove.6B.100d.txt  \n",
            "  inflating: /content/dataset/glove/glove.6B.200d.txt  \n",
            "  inflating: /content/dataset/glove/glove.6B.300d.txt  \n"
          ]
        }
      ],
      "source": [
        "!mkdir '/content/dataset/glove'\n",
        "!unzip '/content/glove.6B.zip' -d '/content/dataset/glove'"
      ]
    },
    {
      "cell_type": "markdown",
      "metadata": {
        "id": "Nx8PhOPTZKH-"
      },
      "source": [
        "### 임베딩 전처리\n",
        "- GloVe 파싱"
      ]
    },
    {
      "cell_type": "code",
      "execution_count": null,
      "metadata": {
        "id": "CCiWpI40ZKn8",
        "colab": {
          "base_uri": "https://localhost:8080/"
        },
        "outputId": "4b75015a-3ddc-4ee5-b041-b40d65a9c4a5"
      },
      "outputs": [
        {
          "output_type": "stream",
          "name": "stdout",
          "text": [
            "400000\n"
          ]
        }
      ],
      "source": [
        "glove_dir = '/content/dataset/glove'\n",
        "\n",
        "embeddings_index ={}\n",
        "\n",
        "f = open(os.path.join(glove_dir, 'glove.6B.100d.txt'), encoding = 'utf8')\n",
        "for line in f:\n",
        "  values = line.split()\n",
        "  word = values[0]\n",
        "  coefs = np.asarray(values[1:], dtype= 'float32')\n",
        "  embeddings_index[word] = coefs\n",
        "f.close()\n",
        "\n",
        "print(len(embeddings_index))"
      ]
    },
    {
      "cell_type": "code",
      "execution_count": null,
      "metadata": {
        "id": "GeyFszr_ZNOJ"
      },
      "outputs": [],
      "source": [
        "embedding_dim = 100\n",
        "embedding_mat = np.zeros((max_words, embedding_dim))\n",
        "\n",
        "for word, i in word_index.items():\n",
        "  if i < max_words:\n",
        "    embedding_vector  = embeddings_index.get(word)\n",
        "    if embedding_vector is not None:\n",
        "      embedding_mat[i] = embedding_vector"
      ]
    },
    {
      "cell_type": "code",
      "execution_count": null,
      "metadata": {
        "id": "-21oMNykZNML",
        "colab": {
          "base_uri": "https://localhost:8080/"
        },
        "outputId": "bd6c094f-81c2-4650-c49c-89748183aad0"
      },
      "outputs": [
        {
          "output_type": "execute_result",
          "data": {
            "text/plain": [
              "array([[ 0.        ,  0.        ,  0.        , ...,  0.        ,\n",
              "         0.        ,  0.        ],\n",
              "       [-0.038194  , -0.24487001,  0.72812003, ..., -0.1459    ,\n",
              "         0.82779998,  0.27061999],\n",
              "       [-0.071953  ,  0.23127   ,  0.023731  , ..., -0.71894997,\n",
              "         0.86894   ,  0.19539   ],\n",
              "       ...,\n",
              "       [-0.035775  , -0.01795   ,  0.68514001, ..., -0.35767999,\n",
              "         0.64025003, -0.78184998],\n",
              "       [-0.21664999, -0.55523998, -1.05649996, ...,  1.08140004,\n",
              "        -0.088361  , -0.80185002],\n",
              "       [-0.096525  ,  0.076099  ,  0.78811997, ..., -0.36801001,\n",
              "        -0.38233   ,  0.22837   ]])"
            ]
          },
          "metadata": {},
          "execution_count": 112
        }
      ],
      "source": [
        "embedding_mat"
      ]
    },
    {
      "cell_type": "markdown",
      "metadata": {
        "id": "XaCx6z-4epWd"
      },
      "source": [
        "### 모델 정의"
      ]
    },
    {
      "cell_type": "code",
      "execution_count": null,
      "metadata": {
        "id": "3HVcGPGyZNKN"
      },
      "outputs": [],
      "source": [
        "from tensorflow.keras.models import Sequential\n",
        "from tensorflow.keras.layers import Embedding, Flatten, Dense"
      ]
    },
    {
      "cell_type": "code",
      "execution_count": null,
      "metadata": {
        "id": "BrZQ6vsBZNIE",
        "colab": {
          "base_uri": "https://localhost:8080/"
        },
        "outputId": "a303f4df-4dfb-4f25-aef7-3463cd97c0cf"
      },
      "outputs": [
        {
          "output_type": "stream",
          "name": "stdout",
          "text": [
            "Model: \"sequential_3\"\n",
            "_________________________________________________________________\n",
            " Layer (type)                Output Shape              Param #   \n",
            "=================================================================\n",
            " embedding_6 (Embedding)     (None, 100, 100)          1000000   \n",
            "                                                                 \n",
            " flatten_2 (Flatten)         (None, 10000)             0         \n",
            "                                                                 \n",
            " dense_2 (Dense)             (None, 32)                320032    \n",
            "                                                                 \n",
            " dense_3 (Dense)             (None, 1)                 33        \n",
            "                                                                 \n",
            "=================================================================\n",
            "Total params: 1,320,065\n",
            "Trainable params: 1,320,065\n",
            "Non-trainable params: 0\n",
            "_________________________________________________________________\n"
          ]
        }
      ],
      "source": [
        "model = Sequential()\n",
        "\n",
        "model.add(Embedding(max_words, embedding_dim, input_length = max_len))\n",
        "model.add(Flatten())\n",
        "model.add(Dense(32, activation = 'relu'))\n",
        "model.add(Dense(1, activation = 'sigmoid'))\n",
        "model.summary()"
      ]
    },
    {
      "cell_type": "code",
      "execution_count": null,
      "metadata": {
        "id": "HR65rJz_ZNGD"
      },
      "outputs": [],
      "source": [
        "model.layers[0].set_weights([embedding_mat])\n",
        "model.layers[0].trainble = False"
      ]
    },
    {
      "cell_type": "code",
      "execution_count": null,
      "metadata": {
        "id": "lPS8S1QnZNEG"
      },
      "outputs": [],
      "source": [
        "model.compile(optimizer = 'rmsprop',\n",
        "              loss = 'binary_crossentropy',\n",
        "              metrics = ['acc'])"
      ]
    },
    {
      "cell_type": "code",
      "execution_count": null,
      "metadata": {
        "id": "Y3AD4ErhewTW",
        "colab": {
          "base_uri": "https://localhost:8080/"
        },
        "outputId": "31f654dc-e79d-437d-b784-b30d1858a22b"
      },
      "outputs": [
        {
          "output_type": "stream",
          "name": "stdout",
          "text": [
            "Epoch 1/10\n",
            "7/7 [==============================] - 2s 177ms/step - loss: 1.9934 - acc: 0.5350 - val_loss: 0.7320 - val_acc: 0.4994\n",
            "Epoch 2/10\n",
            "7/7 [==============================] - 1s 227ms/step - loss: 0.4931 - acc: 0.7950 - val_loss: 0.7201 - val_acc: 0.5019\n",
            "Epoch 3/10\n",
            "7/7 [==============================] - 1s 144ms/step - loss: 0.3658 - acc: 0.8600 - val_loss: 0.8501 - val_acc: 0.4988\n",
            "Epoch 4/10\n",
            "7/7 [==============================] - 1s 227ms/step - loss: 0.3405 - acc: 0.8400 - val_loss: 0.9230 - val_acc: 0.5007\n",
            "Epoch 5/10\n",
            "7/7 [==============================] - 1s 226ms/step - loss: 0.1911 - acc: 0.9700 - val_loss: 0.9658 - val_acc: 0.5012\n",
            "Epoch 6/10\n",
            "7/7 [==============================] - 1s 226ms/step - loss: 0.0993 - acc: 1.0000 - val_loss: 0.8841 - val_acc: 0.4930\n",
            "Epoch 7/10\n",
            "7/7 [==============================] - 1s 228ms/step - loss: 0.0989 - acc: 0.9950 - val_loss: 0.8179 - val_acc: 0.5033\n",
            "Epoch 8/10\n",
            "7/7 [==============================] - 1s 227ms/step - loss: 0.0379 - acc: 1.0000 - val_loss: 1.2828 - val_acc: 0.4997\n",
            "Epoch 9/10\n",
            "7/7 [==============================] - 1s 226ms/step - loss: 0.2446 - acc: 0.8750 - val_loss: 1.0993 - val_acc: 0.5001\n",
            "Epoch 10/10\n",
            "7/7 [==============================] - 1s 226ms/step - loss: 0.0293 - acc: 1.0000 - val_loss: 0.9762 - val_acc: 0.4985\n"
          ]
        }
      ],
      "source": [
        "history = model.fit(x_train,y_train,\n",
        "                    epochs = 10,\n",
        "                    batch_size = 32,\n",
        "                    validation_data = (x_val, y_val))"
      ]
    },
    {
      "cell_type": "code",
      "execution_count": null,
      "metadata": {
        "id": "CNgY-6Wgexg8"
      },
      "outputs": [],
      "source": [
        "model.save_weights('pre_trained_glove_model.h5')"
      ]
    },
    {
      "cell_type": "markdown",
      "metadata": {
        "id": "k3KUBmL5e1WJ"
      },
      "source": [
        "### 시각화"
      ]
    },
    {
      "cell_type": "code",
      "execution_count": null,
      "metadata": {
        "id": "_DaQNh1oe2OZ",
        "colab": {
          "base_uri": "https://localhost:8080/",
          "height": 513
        },
        "outputId": "88e13032-c3ac-443f-8b7b-5bd39e7cef76"
      },
      "outputs": [
        {
          "output_type": "display_data",
          "data": {
            "text/plain": [
              "<Figure size 432x288 with 1 Axes>"
            ],
            "image/png": "[encoded data removed]"
          },
          "metadata": {
            "needs_background": "light"
          }
        },
        {
          "output_type": "display_data",
          "data": {
            "text/plain": [
              "<Figure size 432x288 with 1 Axes>"
            ],
            "image/png": "[encoded data removed]"
          },
          "metadata": {
            "needs_background": "light"
          }
        }
      ],
      "source": [
        "loss = history.history['loss']\n",
        "val_loss = history.history['val_loss']\n",
        "acc = history.history['acc']\n",
        "val_acc = history.history['val_acc']\n",
        "\n",
        "epochs = range(1, len(loss) +1)\n",
        "\n",
        "plt.plot(epochs, loss, 'b--', label = 'Training Loss')\n",
        "plt.plot(epochs, val_loss, 'r:', label = 'Validation Loss')\n",
        "plt.legend()\n",
        "plt.grid()\n",
        "\n",
        "plt.figure()\n",
        "plt.plot(epochs, acc, 'b--', label = 'Training Accuracy')\n",
        "plt.plot(epochs, val_acc, 'r:', label = 'Validation Accuracy')\n",
        "plt.legend()\n",
        "plt.grid()\n",
        "\n",
        "plt.show()"
      ]
    },
    {
      "cell_type": "markdown",
      "metadata": {
        "id": "aqaaNV1-e8Ua"
      },
      "source": [
        "## 사전 훈련된 단어 임베딩을 사용하지 않고 같은 모델 훈련"
      ]
    },
    {
      "cell_type": "code",
      "execution_count": null,
      "metadata": {
        "id": "ilw7D5mze5bA",
        "colab": {
          "base_uri": "https://localhost:8080/"
        },
        "outputId": "829cd041-eaea-467b-c986-fd06584f6785"
      },
      "outputs": [
        {
          "output_type": "stream",
          "name": "stdout",
          "text": [
            "Model: \"sequential_5\"\n",
            "_________________________________________________________________\n",
            " Layer (type)                Output Shape              Param #   \n",
            "=================================================================\n",
            " embedding_8 (Embedding)     (None, 100, 100)          1000000   \n",
            "                                                                 \n",
            " flatten_4 (Flatten)         (None, 10000)             0         \n",
            "                                                                 \n",
            " dense_6 (Dense)             (None, 32)                320032    \n",
            "                                                                 \n",
            " dense_7 (Dense)             (None, 1)                 33        \n",
            "                                                                 \n",
            "=================================================================\n",
            "Total params: 1,320,065\n",
            "Trainable params: 1,320,065\n",
            "Non-trainable params: 0\n",
            "_________________________________________________________________\n"
          ]
        }
      ],
      "source": [
        "model_2 = Sequential()\n",
        "\n",
        "model_2.add(Embedding(max_words, embedding_dim, input_length = max_len))\n",
        "model_2.add(Flatten())\n",
        "model_2.add(Dense(32, activation = 'relu'))\n",
        "model_2.add(Dense(1, activation = 'sigmoid'))\n",
        "model_2.summary()"
      ]
    },
    {
      "cell_type": "code",
      "execution_count": null,
      "metadata": {
        "id": "oPRFRj-4fBmF",
        "colab": {
          "base_uri": "https://localhost:8080/"
        },
        "outputId": "02cbcb5f-2e2b-41a6-ad82-7a29777ce212"
      },
      "outputs": [
        {
          "output_type": "stream",
          "name": "stdout",
          "text": [
            "Epoch 1/10\n",
            "7/7 [==============================] - 2s 198ms/step - loss: 0.6919 - acc: 0.5500 - val_loss: 0.6950 - val_acc: 0.4886\n",
            "Epoch 2/10\n",
            "7/7 [==============================] - 3s 446ms/step - loss: 0.4912 - acc: 0.9850 - val_loss: 0.6997 - val_acc: 0.4905\n",
            "Epoch 3/10\n",
            "7/7 [==============================] - 1s 166ms/step - loss: 0.2722 - acc: 0.9900 - val_loss: 0.7196 - val_acc: 0.4884\n",
            "Epoch 4/10\n",
            "7/7 [==============================] - 1s 230ms/step - loss: 0.1135 - acc: 0.9950 - val_loss: 0.7178 - val_acc: 0.4910\n",
            "Epoch 5/10\n",
            "7/7 [==============================] - 1s 233ms/step - loss: 0.0516 - acc: 1.0000 - val_loss: 0.7420 - val_acc: 0.4922\n",
            "Epoch 6/10\n",
            "7/7 [==============================] - 1s 229ms/step - loss: 0.0277 - acc: 1.0000 - val_loss: 0.7387 - val_acc: 0.4881\n",
            "Epoch 7/10\n",
            "7/7 [==============================] - 1s 157ms/step - loss: 0.0148 - acc: 1.0000 - val_loss: 0.7498 - val_acc: 0.4868\n",
            "Epoch 8/10\n",
            "7/7 [==============================] - 1s 230ms/step - loss: 0.0089 - acc: 1.0000 - val_loss: 0.7583 - val_acc: 0.4889\n",
            "Epoch 9/10\n",
            "7/7 [==============================] - 1s 229ms/step - loss: 0.0054 - acc: 1.0000 - val_loss: 0.7657 - val_acc: 0.4907\n",
            "Epoch 10/10\n",
            "7/7 [==============================] - 1s 232ms/step - loss: 0.0033 - acc: 1.0000 - val_loss: 0.7716 - val_acc: 0.4877\n"
          ]
        }
      ],
      "source": [
        "model_2.compile(optimizer = 'rmsprop',\n",
        "              loss = 'binary_crossentropy',\n",
        "              metrics = ['acc'])\n",
        "history2 = model_2.fit(x_train,y_train,\n",
        "                    epochs = 10,\n",
        "                    batch_size = 32,\n",
        "                    validation_data = (x_val, y_val))"
      ]
    },
    {
      "cell_type": "code",
      "execution_count": null,
      "metadata": {
        "id": "Fovih46TfDT3",
        "colab": {
          "base_uri": "https://localhost:8080/",
          "height": 515
        },
        "outputId": "3312ee37-b38d-41df-ed7a-c95ace4a77a4"
      },
      "outputs": [
        {
          "output_type": "display_data",
          "data": {
            "text/plain": [
              "<Figure size 432x288 with 1 Axes>"
            ],
            "image/png": "[encoded data removed]"
          },
          "metadata": {
            "needs_background": "light"
          }
        },
        {
          "output_type": "display_data",
          "data": {
            "text/plain": [
              "<Figure size 432x288 with 1 Axes>"
            ],
            "image/png": "[encoded data removed]"
          },
          "metadata": {
            "needs_background": "light"
          }
        }
      ],
      "source": [
        "loss = history2.history['loss']\n",
        "val_loss = history2.history['val_loss']\n",
        "acc = history2.history['acc']\n",
        "val_acc = history2.history['val_acc']\n",
        "\n",
        "epochs = range(1, len(loss) +1)\n",
        "\n",
        "plt.plot(epochs, loss, 'b--', label = 'Training Loss')\n",
        "plt.plot(epochs, val_loss, 'r:', label = 'Validation Loss')\n",
        "plt.legend()\n",
        "plt.grid()\n",
        "\n",
        "plt.figure()\n",
        "plt.plot(epochs, acc, 'b--', label = 'Training Accuracy')\n",
        "plt.plot(epochs, val_acc, 'r:', label = 'Validation Accuracy')\n",
        "plt.legend()\n",
        "plt.grid()\n",
        "\n",
        "plt.show()"
      ]
    },
    {
      "cell_type": "markdown",
      "metadata": {
        "id": "VdexZ7i1fUo6"
      },
      "source": [
        "### 테스트 데이터 토큰화"
      ]
    },
    {
      "cell_type": "code",
      "execution_count": null,
      "metadata": {
        "id": "TA94HvyBfHXP"
      },
      "outputs": [],
      "source": [
        "test_dir = os.path.join(imdb_dir, 'test')\n",
        "\n",
        "\n",
        "labels = []\n",
        "texts = []\n",
        "for label_type in ['neg', 'pos']:\n",
        "  dir_name = os.path.join(test_dir, label_type)\n",
        "\n",
        "  for fname in os.listdir(dir_name):\n",
        "    if fname[-4:] == '.txt':\n",
        "      f = open(os.path.join(dir_name, fname), encoding = 'utf8')\n",
        "      texts.append(f.read())\n",
        "      f.close()\n",
        "\n",
        "      if label_type == 'neg':\n",
        "        labels.append(0)\n",
        "      else:\n",
        "        labels.append(1) \n",
        "\n",
        "sequences = tokenizer.texts_to_sequences(texts)\n",
        "x_test = pad_sequences(sequences, maxlen = max_len)\n",
        "y_test = np.asarray(labels)"
      ]
    },
    {
      "cell_type": "code",
      "execution_count": null,
      "metadata": {
        "id": "UTXbOOmPfWFV",
        "colab": {
          "base_uri": "https://localhost:8080/"
        },
        "outputId": "0d651e9a-0575-4d3a-abec-936b9e271ac0"
      },
      "outputs": [
        {
          "output_type": "stream",
          "name": "stdout",
          "text": [
            "(25000, 100)\n",
            "(25000,)\n"
          ]
        }
      ],
      "source": [
        "print(x_test.shape)\n",
        "print(y_test.shape)"
      ]
    },
    {
      "cell_type": "code",
      "execution_count": null,
      "metadata": {
        "id": "70aRVdQufXQB",
        "colab": {
          "base_uri": "https://localhost:8080/"
        },
        "outputId": "db0f4871-ab89-4ea7-a5e8-01d0cfa05fe1"
      },
      "outputs": [
        {
          "output_type": "stream",
          "name": "stdout",
          "text": [
            "782/782 [==============================] - 4s 5ms/step - loss: 1.0108 - acc: 0.4898\n"
          ]
        },
        {
          "output_type": "execute_result",
          "data": {
            "text/plain": [
              "[1.010753870010376, 0.48984000086784363]"
            ]
          },
          "metadata": {},
          "execution_count": 129
        }
      ],
      "source": [
        "model.load_weights('pre_trained_glove_model.h5')\n",
        "model.evaluate(x_test, y_test)"
      ]
    },
    {
      "cell_type": "code",
      "source": [],
      "metadata": {
        "id": "Y-JcCZewyIDG"
      },
      "execution_count": null,
      "outputs": []
    }
  ],
  "metadata": {
    "colab": {
      "provenance": [],
      "include_colab_link": true
    },
    "gpuClass": "standard",
    "kernelspec": {
      "display_name": "Python 3",
      "name": "python3"
    }
  },
  "nbformat": 4,
  "nbformat_minor": 0
}