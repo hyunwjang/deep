{
  "nbformat": 4,
  "nbformat_minor": 0,
  "metadata": {
    "colab": {
      "provenance": [],
      "toc_visible": true,
      "include_colab_link": true
    },
    "kernelspec": {
      "name": "python3",
      "display_name": "Python 3"
    }
  },
  "cells": [
    {
      "cell_type": "markdown",
      "metadata": {
        "id": "view-in-github",
        "colab_type": "text"
      },
      "source": [
        "<a href=\"https://colab.research.google.com/github/hyunwjang/deep/blob/main/_4_%EC%BC%80%EB%9D%BC%EC%8A%A4_%EB%8B%A4%EC%96%91%ED%95%9C_%ED%95%99%EC%8A%B5_%EA%B8%B0%EC%88%A0_ipynb%EC%9D%98_%EC%82%AC%EB%B3%B8.ipynb\" target=\"_parent\"><img src=\"https://colab.research.google.com/assets/colab-badge.svg\" alt=\"Open In Colab\"/></a>"
      ]
    },
    {
      "cell_type": "markdown",
      "metadata": {
        "id": "yOVeX9Ar4Auz"
      },
      "source": [
        "# 케라스 다양한 학습 기술\n",
        "\n",
        "- 과대적합, 과소적합을 막기 위한 방법들\n",
        "  - 모델의 크기 축소\n",
        "  \n",
        "  - 초기화\n",
        "\n",
        "  - 옵티마이저\n",
        "\n",
        "  - 배치 정규화\n",
        "\n",
        "  - 규제화"
      ]
    },
    {
      "cell_type": "markdown",
      "metadata": {
        "id": "IhPZ4w90viFx"
      },
      "source": [
        "### 모델의 크기 축소\n",
        "- 가장 단순한 방법\n",
        "\n",
        "- 모델의 크기를 줄인다는 것은 **학습 파라미터의 수를 줄이는 것**"
      ]
    },
    {
      "cell_type": "markdown",
      "metadata": {
        "id": "kxtmEK1Owrax"
      },
      "source": [
        "#### 데이터 준비\n",
        "- 설명을 위한 코드"
      ]
    },
    {
      "cell_type": "code",
      "metadata": {
        "id": "_iL6C1I3wuaA"
      },
      "source": [
        "from tensorflow.keras.datasets import imdb\n",
        "import numpy as np\n",
        "\n",
        "(train_data, train_labels), (test_data, test_labels) = imdb.load_data(num_words = 10000)\n",
        "\n",
        "def vectorize_seq(seqs, dim= 10000):\n",
        "  results = np.zeros((len(seqs), dim))\n",
        "  for i , seq in enumerate(seqs):\n",
        "    results[i, seq] = 1.\n",
        "\n",
        "  return results\n",
        "\n",
        "x_train = vectorize_seq(train_data)\n",
        "x_test = vectorize_seq(test_data)\n",
        "\n",
        "y_train = np.asarray(train_labels).astype('float32')\n",
        "y_test = np.asarray(test_labels).astype('float32')"
      ],
      "execution_count": null,
      "outputs": []
    },
    {
      "cell_type": "markdown",
      "metadata": {
        "id": "BZjjWyfyw6p2"
      },
      "source": [
        "#### 2가지의 모델 설정"
      ]
    },
    {
      "cell_type": "code",
      "metadata": {
        "id": "rrocxnqHvsmX"
      },
      "source": [
        "import tensorflow as tf\n",
        "from tensorflow.keras.models import Sequential\n",
        "from tensorflow.keras.layers import Dense"
      ],
      "execution_count": null,
      "outputs": []
    },
    {
      "cell_type": "code",
      "metadata": {
        "id": "EF3hYeDNvsjm"
      },
      "source": [
        "model_1 =Sequential([Dense(16, activation = 'relu', input_shape = (10000,), name = 'input'),\n",
        "                     Dense(16, activation = 'relu', name = 'hidden'),\n",
        "                     Dense(1, activation = 'sigmoid', name = 'output')])\n"
      ],
      "execution_count": null,
      "outputs": []
    },
    {
      "cell_type": "code",
      "metadata": {
        "id": "amk5tmejvsgx",
        "colab": {
          "base_uri": "https://localhost:8080/"
        },
        "outputId": "629bb3d7-2c6b-460f-9318-93067926882e"
      },
      "source": [
        "model_1.summary()"
      ],
      "execution_count": null,
      "outputs": [
        {
          "output_type": "stream",
          "name": "stdout",
          "text": [
            "Model: \"sequential\"\n",
            "_________________________________________________________________\n",
            " Layer (type)                Output Shape              Param #   \n",
            "=================================================================\n",
            " input (Dense)               (None, 16)                160016    \n",
            "                                                                 \n",
            " hidden (Dense)              (None, 16)                272       \n",
            "                                                                 \n",
            " output (Dense)              (None, 1)                 17        \n",
            "                                                                 \n",
            "=================================================================\n",
            "Total params: 160,305\n",
            "Trainable params: 160,305\n",
            "Non-trainable params: 0\n",
            "_________________________________________________________________\n"
          ]
        }
      ]
    },
    {
      "cell_type": "code",
      "metadata": {
        "id": "xzcjFU1lvsco"
      },
      "source": [
        "model_2 =Sequential([Dense(7, activation = 'relu', input_shape = (10000,), name = 'input2'),\n",
        "                     Dense(7, activation = 'relu', name = 'hidden2'),\n",
        "                     Dense(1, activation = 'sigmoid', name = 'output2')])\n"
      ],
      "execution_count": null,
      "outputs": []
    },
    {
      "cell_type": "code",
      "metadata": {
        "id": "NVJKoQj-vsZY",
        "colab": {
          "base_uri": "https://localhost:8080/"
        },
        "outputId": "3d077ee5-2072-4a61-e708-9c88629731c9"
      },
      "source": [
        "model_2.summary()"
      ],
      "execution_count": null,
      "outputs": [
        {
          "output_type": "stream",
          "name": "stdout",
          "text": [
            "Model: \"sequential_1\"\n",
            "_________________________________________________________________\n",
            " Layer (type)                Output Shape              Param #   \n",
            "=================================================================\n",
            " input2 (Dense)              (None, 7)                 70007     \n",
            "                                                                 \n",
            " hidden2 (Dense)             (None, 7)                 56        \n",
            "                                                                 \n",
            " output2 (Dense)             (None, 1)                 8         \n",
            "                                                                 \n",
            "=================================================================\n",
            "Total params: 70,071\n",
            "Trainable params: 70,071\n",
            "Non-trainable params: 0\n",
            "_________________________________________________________________\n"
          ]
        }
      ]
    },
    {
      "cell_type": "code",
      "metadata": {
        "id": "3Uvw3YxhwUVc"
      },
      "source": [
        "model_1.compile(optimizer = 'rmsprop',\n",
        "                loss = 'binary_crossentropy',\n",
        "                metrics = ['acc'])\n",
        "model_2.compile(optimizer = 'rmsprop',\n",
        "                loss = 'binary_crossentropy',\n",
        "                metrics = ['acc'])"
      ],
      "execution_count": null,
      "outputs": []
    },
    {
      "cell_type": "markdown",
      "metadata": {
        "id": "Sm8jFl6RxLyg"
      },
      "source": [
        "\n",
        "#### 2개의 모델 학습"
      ]
    },
    {
      "cell_type": "code",
      "metadata": {
        "id": "9agfXfSGwUSr",
        "colab": {
          "base_uri": "https://localhost:8080/"
        },
        "outputId": "6d0542b0-f863-4d44-864f-c22d4a02ec6b"
      },
      "source": [
        "model_1_hist = model_1.fit(x_train,y_train, epochs = 20, batch_size = 512, validation_data = (x_test,y_test))"
      ],
      "execution_count": null,
      "outputs": [
        {
          "output_type": "stream",
          "name": "stdout",
          "text": [
            "Epoch 1/20\n",
            "49/49 [==============================] - 3s 52ms/step - loss: 0.4385 - acc: 0.8157 - val_loss: 0.3558 - val_acc: 0.8592\n",
            "Epoch 2/20\n",
            "49/49 [==============================] - 2s 40ms/step - loss: 0.2509 - acc: 0.9114 - val_loss: 0.2825 - val_acc: 0.8897\n",
            "Epoch 3/20\n",
            "49/49 [==============================] - 2s 40ms/step - loss: 0.1933 - acc: 0.9293 - val_loss: 0.3644 - val_acc: 0.8525\n",
            "Epoch 4/20\n",
            "49/49 [==============================] - 2s 40ms/step - loss: 0.1640 - acc: 0.9408 - val_loss: 0.2997 - val_acc: 0.8823\n",
            "Epoch 5/20\n",
            "49/49 [==============================] - 2s 40ms/step - loss: 0.1404 - acc: 0.9505 - val_loss: 0.3278 - val_acc: 0.8759\n",
            "Epoch 6/20\n",
            "49/49 [==============================] - 2s 39ms/step - loss: 0.1215 - acc: 0.9586 - val_loss: 0.3418 - val_acc: 0.8742\n",
            "Epoch 7/20\n",
            "49/49 [==============================] - 2s 40ms/step - loss: 0.1082 - acc: 0.9622 - val_loss: 0.3787 - val_acc: 0.8680\n",
            "Epoch 8/20\n",
            "49/49 [==============================] - 2s 48ms/step - loss: 0.0964 - acc: 0.9668 - val_loss: 0.4085 - val_acc: 0.8647\n",
            "Epoch 9/20\n",
            "49/49 [==============================] - 2s 40ms/step - loss: 0.0840 - acc: 0.9727 - val_loss: 0.4340 - val_acc: 0.8629\n",
            "Epoch 10/20\n",
            "49/49 [==============================] - 2s 43ms/step - loss: 0.0739 - acc: 0.9756 - val_loss: 0.4731 - val_acc: 0.8610\n",
            "Epoch 11/20\n",
            "49/49 [==============================] - 2s 39ms/step - loss: 0.0669 - acc: 0.9776 - val_loss: 0.4845 - val_acc: 0.8611\n",
            "Epoch 12/20\n",
            "49/49 [==============================] - 2s 39ms/step - loss: 0.0576 - acc: 0.9819 - val_loss: 0.5286 - val_acc: 0.8536\n",
            "Epoch 13/20\n",
            "49/49 [==============================] - 2s 40ms/step - loss: 0.0482 - acc: 0.9856 - val_loss: 0.5497 - val_acc: 0.8565\n",
            "Epoch 14/20\n",
            "49/49 [==============================] - 2s 39ms/step - loss: 0.0416 - acc: 0.9872 - val_loss: 0.5935 - val_acc: 0.8534\n",
            "Epoch 15/20\n",
            "49/49 [==============================] - 2s 40ms/step - loss: 0.0362 - acc: 0.9893 - val_loss: 0.6913 - val_acc: 0.8417\n",
            "Epoch 16/20\n",
            "49/49 [==============================] - 2s 41ms/step - loss: 0.0307 - acc: 0.9914 - val_loss: 0.6630 - val_acc: 0.8518\n",
            "Epoch 17/20\n",
            "49/49 [==============================] - 2s 43ms/step - loss: 0.0264 - acc: 0.9930 - val_loss: 0.7528 - val_acc: 0.8470\n",
            "Epoch 18/20\n",
            "49/49 [==============================] - 2s 41ms/step - loss: 0.0233 - acc: 0.9940 - val_loss: 0.7458 - val_acc: 0.8477\n",
            "Epoch 19/20\n",
            "49/49 [==============================] - 2s 41ms/step - loss: 0.0173 - acc: 0.9955 - val_loss: 0.7862 - val_acc: 0.8489\n",
            "Epoch 20/20\n",
            "49/49 [==============================] - 3s 70ms/step - loss: 0.0165 - acc: 0.9955 - val_loss: 0.8415 - val_acc: 0.8460\n"
          ]
        }
      ]
    },
    {
      "cell_type": "code",
      "metadata": {
        "id": "kvj6-Zu5wUPw",
        "colab": {
          "base_uri": "https://localhost:8080/"
        },
        "outputId": "e142364e-1702-4438-aae0-80b3e7a6cfe3"
      },
      "source": [
        "model_2_hist = model_2.fit(x_train,y_train, epochs = 20, batch_size = 512, validation_data = (x_test,y_test))"
      ],
      "execution_count": null,
      "outputs": [
        {
          "output_type": "stream",
          "name": "stdout",
          "text": [
            "Epoch 1/20\n",
            "49/49 [==============================] - 4s 73ms/step - loss: 0.5232 - acc: 0.8040 - val_loss: 0.4133 - val_acc: 0.8676\n",
            "Epoch 2/20\n",
            "49/49 [==============================] - 2s 48ms/step - loss: 0.3278 - acc: 0.8985 - val_loss: 0.3223 - val_acc: 0.8859\n",
            "Epoch 3/20\n",
            "49/49 [==============================] - 2s 44ms/step - loss: 0.2475 - acc: 0.9186 - val_loss: 0.2876 - val_acc: 0.8910\n",
            "Epoch 4/20\n",
            "49/49 [==============================] - 3s 51ms/step - loss: 0.2047 - acc: 0.9312 - val_loss: 0.2785 - val_acc: 0.8914\n",
            "Epoch 5/20\n",
            "49/49 [==============================] - 3s 56ms/step - loss: 0.1770 - acc: 0.9401 - val_loss: 0.2826 - val_acc: 0.8866\n",
            "Epoch 6/20\n",
            "49/49 [==============================] - 2s 44ms/step - loss: 0.1563 - acc: 0.9476 - val_loss: 0.2889 - val_acc: 0.8858\n",
            "Epoch 7/20\n",
            "49/49 [==============================] - 2s 45ms/step - loss: 0.1393 - acc: 0.9534 - val_loss: 0.2997 - val_acc: 0.8826\n",
            "Epoch 8/20\n",
            "49/49 [==============================] - 2s 44ms/step - loss: 0.1250 - acc: 0.9595 - val_loss: 0.3185 - val_acc: 0.8784\n",
            "Epoch 9/20\n",
            "49/49 [==============================] - 2s 44ms/step - loss: 0.1130 - acc: 0.9637 - val_loss: 0.3274 - val_acc: 0.8772\n",
            "Epoch 10/20\n",
            "49/49 [==============================] - 2s 44ms/step - loss: 0.1030 - acc: 0.9679 - val_loss: 0.3463 - val_acc: 0.8744\n",
            "Epoch 11/20\n",
            "49/49 [==============================] - 2s 43ms/step - loss: 0.0934 - acc: 0.9710 - val_loss: 0.3706 - val_acc: 0.8706\n",
            "Epoch 12/20\n",
            "49/49 [==============================] - 2s 44ms/step - loss: 0.0846 - acc: 0.9748 - val_loss: 0.3852 - val_acc: 0.8687\n",
            "Epoch 13/20\n",
            "49/49 [==============================] - 2s 44ms/step - loss: 0.0765 - acc: 0.9774 - val_loss: 0.4017 - val_acc: 0.8671\n",
            "Epoch 14/20\n",
            "49/49 [==============================] - 2s 44ms/step - loss: 0.0693 - acc: 0.9809 - val_loss: 0.4275 - val_acc: 0.8635\n",
            "Epoch 15/20\n",
            "49/49 [==============================] - 2s 43ms/step - loss: 0.0629 - acc: 0.9826 - val_loss: 0.4457 - val_acc: 0.8641\n",
            "Epoch 16/20\n",
            "49/49 [==============================] - 2s 44ms/step - loss: 0.0567 - acc: 0.9847 - val_loss: 0.4710 - val_acc: 0.8630\n",
            "Epoch 17/20\n",
            "49/49 [==============================] - 2s 44ms/step - loss: 0.0512 - acc: 0.9871 - val_loss: 0.4920 - val_acc: 0.8585\n",
            "Epoch 18/20\n",
            "49/49 [==============================] - 2s 44ms/step - loss: 0.0463 - acc: 0.9885 - val_loss: 0.5129 - val_acc: 0.8599\n",
            "Epoch 19/20\n",
            "49/49 [==============================] - 2s 43ms/step - loss: 0.0409 - acc: 0.9903 - val_loss: 0.5529 - val_acc: 0.8540\n",
            "Epoch 20/20\n",
            "49/49 [==============================] - 2s 43ms/step - loss: 0.0365 - acc: 0.9915 - val_loss: 0.5661 - val_acc: 0.8555\n"
          ]
        }
      ]
    },
    {
      "cell_type": "markdown",
      "metadata": {
        "id": "AasztxUFxlLp"
      },
      "source": [
        "#### 비교"
      ]
    },
    {
      "cell_type": "code",
      "metadata": {
        "id": "W-6Wsh9GwULZ"
      },
      "source": [
        "epochs = range(1,21)\n",
        "model_1_val_loss = model_1_hist.history['val_loss']\n",
        "model_2_val_loss = model_2_hist.history['val_loss']"
      ],
      "execution_count": null,
      "outputs": []
    },
    {
      "cell_type": "code",
      "metadata": {
        "id": "jbtSXzhBwUHl"
      },
      "source": [
        "import matplotlib.pyplot as plt"
      ],
      "execution_count": null,
      "outputs": []
    },
    {
      "cell_type": "markdown",
      "metadata": {
        "id": "Cv89efVDyRFF"
      },
      "source": [
        "model_2 (더 작은 모델)이 '조금 더 나중에' 과대적합 발생"
      ]
    },
    {
      "cell_type": "code",
      "metadata": {
        "id": "E3mNd2HLxxwk",
        "colab": {
          "base_uri": "https://localhost:8080/",
          "height": 279
        },
        "outputId": "393dea53-9486-4044-fbab-fe3dab6b7477"
      },
      "source": [
        "plt.plot(epochs, model_1_val_loss, 'r+', label = 'model 1')\n",
        "plt.plot(epochs, model_2_val_loss, 'bo', label = 'model 1')\n",
        "plt.xlabel('Epochs')\n",
        "plt.ylabel('Validation loss')\n",
        "plt.legend()\n",
        "plt.grid()\n",
        "plt.show()"
      ],
      "execution_count": null,
      "outputs": [
        {
          "output_type": "display_data",
          "data": {
            "text/plain": [
              "<Figure size 432x288 with 1 Axes>"
            ],
            "image/png": "[encoded data removed]"
          },
          "metadata": {
            "needs_background": "light"
          }
        }
      ]
    },
    {
      "cell_type": "markdown",
      "metadata": {
        "id": "_wprAXPZyY5L"
      },
      "source": [
        "### 모델의 크기 축소 (2)\n"
      ]
    },
    {
      "cell_type": "markdown",
      "metadata": {
        "id": "hbgdN2fJyewH"
      },
      "source": [
        "#### 모델 구성"
      ]
    },
    {
      "cell_type": "code",
      "metadata": {
        "id": "oxboLrD0xxsJ",
        "colab": {
          "base_uri": "https://localhost:8080/"
        },
        "outputId": "8051fd5b-def7-490b-f965-25a82c23e636"
      },
      "source": [
        "model_3 =Sequential([Dense(1024, activation = 'relu', input_shape = (10000,), name = 'input3'),\n",
        "                     Dense(1024, activation = 'relu', name = 'hidden3'),\n",
        "                     Dense(1, activation = 'sigmoid', name = 'output3')])\n",
        "\n",
        "model_3.compile(optimizer = 'rmsprop',\n",
        "                loss = 'binary_crossentropy',\n",
        "                metrics = ['acc'])\n",
        "\n",
        "model_3.summary()"
      ],
      "execution_count": null,
      "outputs": [
        {
          "output_type": "stream",
          "name": "stdout",
          "text": [
            "Model: \"sequential_3\"\n",
            "_________________________________________________________________\n",
            " Layer (type)                Output Shape              Param #   \n",
            "=================================================================\n",
            " input3 (Dense)              (None, 1024)              10241024  \n",
            "                                                                 \n",
            " hidden3 (Dense)             (None, 1024)              1049600   \n",
            "                                                                 \n",
            " output3 (Dense)             (None, 1)                 1025      \n",
            "                                                                 \n",
            "=================================================================\n",
            "Total params: 11,291,649\n",
            "Trainable params: 11,291,649\n",
            "Non-trainable params: 0\n",
            "_________________________________________________________________\n"
          ]
        }
      ]
    },
    {
      "cell_type": "markdown",
      "metadata": {
        "id": "3cxKVbloyvpR"
      },
      "source": [
        "#### 모델 학습\n",
        "- 시간 소요"
      ]
    },
    {
      "cell_type": "code",
      "metadata": {
        "id": "C43sbIsCyu7A",
        "colab": {
          "base_uri": "https://localhost:8080/"
        },
        "outputId": "d7fbe47d-99f4-47a3-fced-77fb73039ed2"
      },
      "source": [
        "model_3_hist = model_3.fit(x_train,y_train, epochs = 20, batch_size = 512, validation_data = (x_test,y_test))"
      ],
      "execution_count": null,
      "outputs": [
        {
          "output_type": "stream",
          "name": "stdout",
          "text": [
            "Epoch 1/20\n",
            "49/49 [==============================] - 34s 674ms/step - loss: 0.5122 - acc: 0.8164 - val_loss: 0.4546 - val_acc: 0.8103\n",
            "Epoch 2/20\n",
            "49/49 [==============================] - 32s 665ms/step - loss: 0.2212 - acc: 0.9116 - val_loss: 0.2756 - val_acc: 0.8885\n",
            "Epoch 3/20\n",
            "49/49 [==============================] - 33s 685ms/step - loss: 0.1187 - acc: 0.9570 - val_loss: 0.5887 - val_acc: 0.8176\n",
            "Epoch 4/20\n",
            "49/49 [==============================] - 32s 661ms/step - loss: 0.0816 - acc: 0.9816 - val_loss: 0.4273 - val_acc: 0.8864\n",
            "Epoch 5/20\n",
            "49/49 [==============================] - 32s 663ms/step - loss: 0.0024 - acc: 0.9995 - val_loss: 0.6689 - val_acc: 0.8778\n",
            "Epoch 6/20\n",
            "49/49 [==============================] - 34s 690ms/step - loss: 0.1680 - acc: 0.9867 - val_loss: 0.5497 - val_acc: 0.8844\n",
            "Epoch 7/20\n",
            "49/49 [==============================] - 32s 663ms/step - loss: 2.0651e-04 - acc: 1.0000 - val_loss: 0.7162 - val_acc: 0.8848\n",
            "Epoch 8/20\n",
            "49/49 [==============================] - 32s 666ms/step - loss: 2.4719e-05 - acc: 1.0000 - val_loss: 0.8392 - val_acc: 0.8842\n",
            "Epoch 9/20\n",
            "49/49 [==============================] - 32s 664ms/step - loss: 3.1973e-06 - acc: 1.0000 - val_loss: 1.0061 - val_acc: 0.8827\n",
            "Epoch 10/20\n",
            "49/49 [==============================] - 33s 685ms/step - loss: 4.7397e-07 - acc: 1.0000 - val_loss: 1.1212 - val_acc: 0.8837\n",
            "Epoch 11/20\n",
            "49/49 [==============================] - 32s 664ms/step - loss: 8.6386e-08 - acc: 1.0000 - val_loss: 1.2340 - val_acc: 0.8836\n",
            "Epoch 12/20\n",
            "49/49 [==============================] - 32s 665ms/step - loss: 2.5789e-08 - acc: 1.0000 - val_loss: 1.3055 - val_acc: 0.8837\n",
            "Epoch 13/20\n",
            "49/49 [==============================] - 32s 666ms/step - loss: 1.3373e-08 - acc: 1.0000 - val_loss: 1.3448 - val_acc: 0.8836\n",
            "Epoch 14/20\n",
            "49/49 [==============================] - 36s 738ms/step - loss: 8.9778e-09 - acc: 1.0000 - val_loss: 1.3699 - val_acc: 0.8835\n",
            "Epoch 15/20\n",
            "49/49 [==============================] - 33s 675ms/step - loss: 6.8073e-09 - acc: 1.0000 - val_loss: 1.3887 - val_acc: 0.8837\n",
            "Epoch 16/20\n",
            "49/49 [==============================] - 33s 674ms/step - loss: 5.5119e-09 - acc: 1.0000 - val_loss: 1.4034 - val_acc: 0.8836\n",
            "Epoch 17/20\n",
            "49/49 [==============================] - 33s 671ms/step - loss: 4.6238e-09 - acc: 1.0000 - val_loss: 1.4165 - val_acc: 0.8837\n",
            "Epoch 18/20\n",
            "49/49 [==============================] - 33s 672ms/step - loss: 4.0067e-09 - acc: 1.0000 - val_loss: 1.4266 - val_acc: 0.8835\n",
            "Epoch 19/20\n",
            "49/49 [==============================] - 33s 668ms/step - loss: 3.5191e-09 - acc: 1.0000 - val_loss: 1.4362 - val_acc: 0.8838\n",
            "Epoch 20/20\n",
            "49/49 [==============================] - 33s 674ms/step - loss: 3.1494e-09 - acc: 1.0000 - val_loss: 1.4446 - val_acc: 0.8838\n"
          ]
        }
      ]
    },
    {
      "cell_type": "markdown",
      "metadata": {
        "id": "xeiG_rHIzX6F"
      },
      "source": [
        "#### 시각화"
      ]
    },
    {
      "cell_type": "code",
      "metadata": {
        "id": "UNFhd4hnyu3p"
      },
      "source": [
        "model_3_val_loss = model_3_hist.history['val_loss']"
      ],
      "execution_count": null,
      "outputs": []
    },
    {
      "cell_type": "code",
      "metadata": {
        "id": "w7q9Q2FIyu0y",
        "colab": {
          "base_uri": "https://localhost:8080/",
          "height": 279
        },
        "outputId": "9522b607-81d6-4051-8317-bf3d26b04e7a"
      },
      "source": [
        "plt.plot(epochs, model_1_val_loss, 'r+',label = 'model 1')\n",
        "plt.plot(epochs, model_2_val_loss, 'bo',label = 'model 2')\n",
        "plt.plot(epochs, model_3_val_loss, 'g--',label = 'model 3')\n",
        "\n",
        "\n",
        "plt.xlabel('Epochs')\n",
        "plt.ylabel('Validation Loss')\n",
        "plt.legend()\n",
        "plt.grid()\n",
        "\n",
        "plt.show()"
      ],
      "execution_count": null,
      "outputs": [
        {
          "output_type": "display_data",
          "data": {
            "text/plain": [
              "<Figure size 432x288 with 1 Axes>"
            ],
            "image/png": "[encoded data removed]"
          },
          "metadata": {
            "needs_background": "light"
          }
        }
      ]
    },
    {
      "cell_type": "markdown",
      "metadata": {
        "id": "mMu_Mpi40Re6"
      },
      "source": [
        "* 볼륨이 큰 신경망일수록 빠르게 훈련데이터 모델링 가능(학습 손실이 낮아짐)\n",
        "* 과대 적합에는 더욱 민감해짐\n",
        "* 이는 학습-검증 데이터의 손실을 보면 알 수 있음"
      ]
    },
    {
      "cell_type": "code",
      "metadata": {
        "id": "Ro9vewyOyuv0",
        "colab": {
          "base_uri": "https://localhost:8080/",
          "height": 279
        },
        "outputId": "40278682-d600-4a14-9ca0-f23e3e8be1a0"
      },
      "source": [
        "model_1_train_loss = model_1_hist.history['loss']\n",
        "model_2_train_loss = model_2_hist.history['loss']\n",
        "model_3_train_loss = model_3_hist.history['loss']\n",
        "\n",
        "plt.plot(epochs, model_1_train_loss, 'r+',label = 'model 1')\n",
        "plt.plot(epochs, model_2_train_loss, 'bo',label = 'model 2')\n",
        "plt.plot(epochs, model_3_train_loss, 'g--',label = 'model 3')\n",
        "\n",
        "\n",
        "plt.xlabel('Epochs')\n",
        "plt.ylabel('Training Loss')\n",
        "plt.legend()\n",
        "plt.grid()\n",
        "\n",
        "plt.show()"
      ],
      "execution_count": null,
      "outputs": [
        {
          "output_type": "display_data",
          "data": {
            "text/plain": [
              "<Figure size 432x288 with 1 Axes>"
            ],
            "image/png": "[encoded data removed]"
          },
          "metadata": {
            "needs_background": "light"
          }
        }
      ]
    },
    {
      "cell_type": "markdown",
      "metadata": {
        "id": "yN4NPzGxzWP1"
      },
      "source": [
        "### 가중치 초기화\n"
      ]
    },
    {
      "cell_type": "markdown",
      "metadata": {
        "id": "KLRQayA6KcX8"
      },
      "source": [
        "#### 초기화 전략\n",
        "\n",
        "- Glorot Initialization (Xavier)\n",
        "  - 활성화 함수  \n",
        "    - 없음\n",
        "    - tanh\n",
        "    - sigmoid\n",
        "    - softmax\n",
        "\n",
        "- He Initialization \n",
        "  - 활성화 함수  \n",
        "    - ReLU\n",
        "    - LeakyReLU\n",
        "    - ELU 등\n",
        "\n",
        "    "
      ]
    },
    {
      "cell_type": "code",
      "metadata": {
        "id": "NJy2-2lXLa0i"
      },
      "source": [
        "from tensorflow.keras.layers import Dense, LeakyReLU, Activation\n",
        "from tensorflow.keras.models import Sequential\n"
      ],
      "execution_count": null,
      "outputs": []
    },
    {
      "cell_type": "code",
      "metadata": {
        "id": "A9vpl6Gj4C3D",
        "colab": {
          "base_uri": "https://localhost:8080/"
        },
        "outputId": "4e97de34-bc06-4468-feca-e5d7b71e1709"
      },
      "source": [
        "model = Sequential([Dense(30, kernel_initializer = 'he_normal', input_shape=[10,10]),\n",
        "                   LeakyReLU(alpha = 0.20),\n",
        "                   Dense(1, kernel_initializer = 'he_normal'),\n",
        "                   Activation('softmax')])\n",
        "\n",
        "model.summary()"
      ],
      "execution_count": null,
      "outputs": [
        {
          "output_type": "stream",
          "name": "stdout",
          "text": [
            "Model: \"sequential_4\"\n",
            "_________________________________________________________________\n",
            " Layer (type)                Output Shape              Param #   \n",
            "=================================================================\n",
            " dense_4 (Dense)             (None, 10, 30)            330       \n",
            "                                                                 \n",
            " leaky_re_lu (LeakyReLU)     (None, 10, 30)            0         \n",
            "                                                                 \n",
            " dense_5 (Dense)             (None, 10, 1)             31        \n",
            "                                                                 \n",
            " activation_1 (Activation)   (None, 10, 1)             0         \n",
            "                                                                 \n",
            "=================================================================\n",
            "Total params: 361\n",
            "Trainable params: 361\n",
            "Non-trainable params: 0\n",
            "_________________________________________________________________\n"
          ]
        }
      ]
    },
    {
      "cell_type": "markdown",
      "metadata": {
        "id": "MJ-qfqIszX2r"
      },
      "source": [
        "### 고속 옵티마이저"
      ]
    },
    {
      "cell_type": "markdown",
      "metadata": {
        "id": "RRNxoDg2ePqe"
      },
      "source": [
        "#### 모멘텀 최적화\n",
        "\n",
        "$\n",
        "\\qquad v \\ \\leftarrow \\ \\alpha \\ v - \\gamma \\ \\frac{\\partial L}{\\partial W} \\\\\n",
        "\\qquad W \\ \\leftarrow \\ W \\ + \\ v\n",
        "$\n",
        "\n",
        "  - $\\alpha\\ $ : 관성계수 \n",
        "\n",
        "  - $v$ :  속도\n",
        "\n",
        "  - $\\gamma\\ $ : 학습률\n",
        "\n",
        "  - $\\frac{\\partial L}{\\partial W}\\ $ : 손실함수에 대한 미분"
      ]
    },
    {
      "cell_type": "code",
      "metadata": {
        "id": "Sf0b9AlvzaQk"
      },
      "source": [
        "import tensorflow as tf\n",
        "from tensorflow.keras.optimizers import SGD"
      ],
      "execution_count": null,
      "outputs": []
    },
    {
      "cell_type": "code",
      "metadata": {
        "id": "t6yxEpN1edGO"
      },
      "source": [
        "optimizer = SGD(learning_rate = 0.001, momentum=0.9)"
      ],
      "execution_count": null,
      "outputs": []
    },
    {
      "cell_type": "markdown",
      "metadata": {
        "id": "BTYgA4r8ePLk"
      },
      "source": [
        "#### 네스테로프 (Nesterov)\n",
        "\n",
        "- 모멘텀의 방향으로 조금 앞선 곳에서 손실함수의 그라디언트를 구함\n",
        "\n",
        "- 시간이 지날수록 조금 더 빨리 최솟값에 도달\n",
        "\n",
        "$\n",
        "\\qquad m \\ \\leftarrow \\  \\beta m - \\eta \\bigtriangledown_\\theta J(\\theta + \\beta m) \\\\\n",
        "\\qquad \\theta \\ \\leftarrow \\ \\theta \\ + m\n",
        "$\n",
        "\n",
        "\n",
        "  - $h\\ $ : 기존 기울기를 제곱하여 더한 값\n",
        "\n",
        "  - $\\eta\\ $ : 학습률\n",
        "\n",
        "  - $\\bigtriangledown_\\theta J(\\theta) \\ $ : $\\theta$에 대한 미분(그라디언트)\n",
        "\n",
        "  <img src=\"https://t1.daumcdn.net/cfile/tistory/99D91C455C76428D11\">\n",
        "\n",
        "  <sub>출처: CS231n</sub>"
      ]
    },
    {
      "cell_type": "code",
      "metadata": {
        "id": "EzNkLS48eoW_"
      },
      "source": [
        "optimizer = SGD(learning_rate = 0.001, momentum=0.9, nesterov = True)"
      ],
      "execution_count": null,
      "outputs": []
    },
    {
      "cell_type": "markdown",
      "metadata": {
        "id": "UcY8kkknewpB"
      },
      "source": [
        "#### AdaGrad\n",
        "\n",
        "- 보통 간단한 모델에는 효과 좋을 수는 있으나, 심층 신경망 모델에서는 사용 X\n",
        "\n",
        "$\n",
        "\\qquad h \\ \\leftarrow \\  h + \\frac{\\partial L}{\\partial W} \\odot \\frac{\\partial L}{\\partial W} \\\\\n",
        "\\qquad W \\ \\leftarrow \\ W \\ + \\gamma \\frac{1}{\\sqrt h} \\ \\frac{\\partial L}{\\partial W}\n",
        "$\n",
        "\n",
        "  - $h\\ $ : 기존 기울기를 제곱하여 더한 값\n",
        "\n",
        "  - $\\gamma\\ $ : 학습률\n",
        "\n",
        "  - $\\frac{\\partial L}{\\partial W}\\ $ : $W$에 대한 미분\n"
      ]
    },
    {
      "cell_type": "code",
      "metadata": {
        "id": "PU_alkIreycK"
      },
      "source": [
        "from tensorflow.keras.optimizers import Adagrad"
      ],
      "execution_count": null,
      "outputs": []
    },
    {
      "cell_type": "code",
      "metadata": {
        "id": "_PB1OADzfOET"
      },
      "source": [
        "optimizer = Adagrad(learning_rate = 0.001)"
      ],
      "execution_count": null,
      "outputs": []
    },
    {
      "cell_type": "markdown",
      "metadata": {
        "id": "Js5uwi6lfYO_"
      },
      "source": [
        "#### RMSProp\n",
        "\n",
        "\n",
        "$\n",
        "\\qquad s \\ \\leftarrow \\ \\beta \\ s + (1 - \\beta) \\bigtriangledown_{\\theta} J(\\theta) \\otimes \\bigtriangledown_{\\theta} J(\\theta) \\\\\n",
        "\\qquad \\theta \\ \\leftarrow \\ \\theta \\ - \\eta  \\ \\bigtriangledown_{\\theta} J(\\theta) \\oslash \\sqrt{s + \\epsilon}\n",
        "$\n",
        "\n",
        "  - $s \\ $ : 그래디언트의 제곱을 감쇠율을 곱한 후 더함\n",
        "\n",
        "  - $\\eta\\ $ : 학습률\n",
        "\n",
        "  - $\\bigtriangledown_{\\theta} J(\\theta) \\ $ : 손실함수의 미분값\n",
        "\n",
        "\n",
        "  "
      ]
    },
    {
      "cell_type": "code",
      "metadata": {
        "id": "WEDCQVzofc2U"
      },
      "source": [
        "from tensorflow.keras.optimizers import RMSprop"
      ],
      "execution_count": null,
      "outputs": []
    },
    {
      "cell_type": "code",
      "metadata": {
        "id": "44v7Nu8Gfg8H"
      },
      "source": [
        "optimizer = RMSprop(learning_rate = 0.001, rho =0.9)"
      ],
      "execution_count": null,
      "outputs": []
    },
    {
      "cell_type": "markdown",
      "metadata": {
        "id": "Y8UhxclQfl2h"
      },
      "source": [
        "#### Adam\n",
        "\n",
        "$\n",
        "\\qquad m \\ \\leftarrow \\  \\beta_1 \\ m - (1 - \\beta_1)\\ \\frac{\\partial L}{\\partial W}  \\\\\n",
        "\\qquad s \\ \\leftarrow \\ \\beta_2 \\ s + (1 - \\beta_2) \\frac{\\partial L}{\\partial W} \\odot \\frac{\\partial L}{\\partial W} \\\\\n",
        "\\qquad \\hat{m} \\ \\leftarrow \\frac{m}{1 - \\beta_1^t} \\\\\n",
        "\\qquad \\hat{s} \\ \\leftarrow \\frac{s}{1 - \\beta_2^t} \\\\\n",
        "\\qquad W \\ \\leftarrow \\ W \\ + \\gamma \\ \\hat{m}\\  \\oslash \\sqrt{\\hat{s} + \\epsilon}\n",
        "$\n",
        "\n",
        "  - $\\beta\\ $ : 지수 평균의 업데이트 계수\n",
        "\n",
        "  - $\\gamma\\ $ : 학습률\n",
        "\n",
        "  - $\\beta_1 \\approx 0.9\\ ,\\ \\ \\beta_2 \\approx 0.999$\n",
        "\n",
        "  - $\\frac{\\partial L}{\\partial W}\\ $ : $W$에 대한 미분"
      ]
    },
    {
      "cell_type": "code",
      "metadata": {
        "id": "5uPmICAYfg5q"
      },
      "source": [
        "from tensorflow.keras.optimizers import Adam"
      ],
      "execution_count": null,
      "outputs": []
    },
    {
      "cell_type": "code",
      "metadata": {
        "id": "Dq8C4XTYfg2e"
      },
      "source": [
        "optimizer = Adam(learning_rate = 0.001, beta_1 = 0.9, beta_2 = 0.999)"
      ],
      "execution_count": null,
      "outputs": []
    },
    {
      "cell_type": "markdown",
      "metadata": {
        "id": "kJBvCWbezZYk"
      },
      "source": [
        "### 배치 정규화\n",
        "- 모델에 주입되는 샘플들을 균일하게 만드는 방법\n",
        "\n",
        "- 학습 후 새로운 데이터에 잘 일반화 할 수 있도록 도와줌\n",
        "\n",
        "- 데이터 전처리 단계에서 진행해도 되지만 정규화가 되어서 layer에 들어갔다는 보장이 없음\n",
        "\n",
        "- 주로 **Dense** 또는 **Conv2D** Layer 후, **활성화 함수**이전에 놓임\n"
      ]
    },
    {
      "cell_type": "code",
      "metadata": {
        "id": "rxU6fA0A4HrM"
      },
      "source": [
        "from tensorflow.keras.layers import BatchNormalization, Dense, Activation\n",
        "from tensorflow.keras.utils import plot_model"
      ],
      "execution_count": null,
      "outputs": []
    },
    {
      "cell_type": "code",
      "metadata": {
        "id": "0igMU8uIzZAF",
        "colab": {
          "base_uri": "https://localhost:8080/",
          "height": 717
        },
        "outputId": "c4c5928a-650e-4f9b-eed2-dba57d3ff19c"
      },
      "source": [
        "model = Sequential()\n",
        "model.add(Dense(32, input_shape = (28*28,),kernel_initializer = 'he_normal'))\n",
        "model.add(BatchNormalization())\n",
        "model.add(Activation('relu'))\n",
        "\n",
        "model.summary()\n",
        "\n",
        "plot_model(model, show_shapes = True)"
      ],
      "execution_count": null,
      "outputs": [
        {
          "output_type": "stream",
          "name": "stdout",
          "text": [
            "Model: \"sequential_2\"\n",
            "_________________________________________________________________\n",
            " Layer (type)                Output Shape              Param #   \n",
            "=================================================================\n",
            " dense (Dense)               (None, 32)                25120     \n",
            "                                                                 \n",
            " batch_normalization (BatchN  (None, 32)               128       \n",
            " ormalization)                                                   \n",
            "                                                                 \n",
            " activation (Activation)     (None, 32)                0         \n",
            "                                                                 \n",
            "=================================================================\n",
            "Total params: 25,248\n",
            "Trainable params: 25,184\n",
            "Non-trainable params: 64\n",
            "_________________________________________________________________\n"
          ]
        },
        {
          "output_type": "execute_result",
          "data": {
            "image/png": "[encoded data removed]",
            "text/plain": [
              "<IPython.core.display.Image object>"
            ]
          },
          "metadata": {},
          "execution_count": 10
        }
      ]
    },
    {
      "cell_type": "markdown",
      "metadata": {
        "id": "EQzTjO9pzeOF"
      },
      "source": [
        "### 규제화\n",
        "- 복잡한 네트워크 일수록 네트워크의 복잡도에 제한을 두어  \n",
        "  가중치가 작은 값을 가지도록 함\n",
        "\n",
        "- 가중치의 분포가 더 균일하게 됨\n",
        "\n",
        "- 네트워크 손실함수에 큰 가중치에 연관된 비용을 추가\n",
        "  - L1 규제 : 가중치의 절댓값에 비례하는 비용이 추가\n",
        "  - L2 규제 : 가중치의 제곱에 비례하는 비용이 추가(흔히 가중치 감쇠라고도 불림)\n",
        "  - 위 2규제가 합쳐진 경우도 존재"
      ]
    },
    {
      "cell_type": "markdown",
      "metadata": {
        "id": "IlNRw0Os6nva"
      },
      "source": [
        "데이터는 **모델의 크기** 파트에서 사용된 imdb dataset"
      ]
    },
    {
      "cell_type": "code",
      "metadata": {
        "id": "8i1DeU7jzghS"
      },
      "source": [
        "from tensorflow.keras.regularizers import l1, l2, l1_l2"
      ],
      "execution_count": null,
      "outputs": []
    },
    {
      "cell_type": "markdown",
      "metadata": {
        "id": "lprLPcG45OTJ"
      },
      "source": [
        "\n",
        "    #### 모델 구성"
      ]
    },
    {
      "cell_type": "code",
      "metadata": {
        "id": "oaGfymuG5K-d",
        "colab": {
          "base_uri": "https://localhost:8080/",
          "height": 699
        },
        "outputId": "f0e6d334-182e-4621-c37c-834c9d01965a"
      },
      "source": [
        "l2_model = Sequential([Dense(8, kernel_regularizer = l2(0.001), activation = 'relu', input_shape=(10000, )),\n",
        "                       Dense(8, kernel_regularizer = l2(0.001), activation = 'relu'),\n",
        "                       Dense(1, activation = 'sigmoid')])\n",
        "l2_model.compile(optimizer = 'rmsprop',\n",
        "                loss = 'binary_crossentropy',\n",
        "                metrics = ['acc'])\n",
        "\n",
        "l2_model.summary()\n",
        "plot_model(l2_model, show_shapes = True)\n",
        "                    "
      ],
      "execution_count": null,
      "outputs": [
        {
          "output_type": "stream",
          "name": "stdout",
          "text": [
            "Model: \"sequential_3\"\n",
            "_________________________________________________________________\n",
            " Layer (type)                Output Shape              Param #   \n",
            "=================================================================\n",
            " dense_1 (Dense)             (None, 8)                 80008     \n",
            "                                                                 \n",
            " dense_2 (Dense)             (None, 8)                 72        \n",
            "                                                                 \n",
            " dense_3 (Dense)             (None, 1)                 9         \n",
            "                                                                 \n",
            "=================================================================\n",
            "Total params: 80,089\n",
            "Trainable params: 80,089\n",
            "Non-trainable params: 0\n",
            "_________________________________________________________________\n"
          ]
        },
        {
          "output_type": "execute_result",
          "data": {
            "image/png": "[encoded data removed]",
            "text/plain": [
              "<IPython.core.display.Image object>"
            ]
          },
          "metadata": {},
          "execution_count": 12
        }
      ]
    },
    {
      "cell_type": "markdown",
      "metadata": {
        "id": "sxREnpS7573M"
      },
      "source": [
        "#### 모델 학습"
      ]
    },
    {
      "cell_type": "code",
      "metadata": {
        "id": "LyAwuDMG5p2v",
        "colab": {
          "base_uri": "https://localhost:8080/"
        },
        "outputId": "e8c4a69c-9a6a-4711-e2cf-d92f1e39c209"
      },
      "source": [
        "from traitlets.traitlets import validate\n",
        "l2_model_hist = l2_model.fit(x_train, y_train, \n",
        "                             epochs =20,\n",
        "                             batch_size = 512,\n",
        "                             validation_data = (x_test,y_test))"
      ],
      "execution_count": null,
      "outputs": [
        {
          "output_type": "stream",
          "name": "stdout",
          "text": [
            "Epoch 1/20\n",
            "49/49 [==============================] - 3s 53ms/step - loss: 0.5832 - acc: 0.7430 - val_loss: 0.4960 - val_acc: 0.8686\n",
            "Epoch 2/20\n",
            "49/49 [==============================] - 2s 44ms/step - loss: 0.3957 - acc: 0.8926 - val_loss: 0.3646 - val_acc: 0.8858\n",
            "Epoch 3/20\n",
            "49/49 [==============================] - 2s 40ms/step - loss: 0.2992 - acc: 0.9146 - val_loss: 0.3351 - val_acc: 0.8830\n",
            "Epoch 4/20\n",
            "49/49 [==============================] - 2s 43ms/step - loss: 0.2585 - acc: 0.9244 - val_loss: 0.3284 - val_acc: 0.8832\n",
            "Epoch 5/20\n",
            "49/49 [==============================] - 2s 45ms/step - loss: 0.2382 - acc: 0.9308 - val_loss: 0.3201 - val_acc: 0.8879\n",
            "Epoch 6/20\n",
            "49/49 [==============================] - 2s 40ms/step - loss: 0.2250 - acc: 0.9366 - val_loss: 0.3250 - val_acc: 0.8856\n",
            "Epoch 7/20\n",
            "49/49 [==============================] - 2s 42ms/step - loss: 0.2161 - acc: 0.9399 - val_loss: 0.3360 - val_acc: 0.8823\n",
            "Epoch 8/20\n",
            "49/49 [==============================] - 2s 40ms/step - loss: 0.2083 - acc: 0.9438 - val_loss: 0.3414 - val_acc: 0.8811\n",
            "Epoch 9/20\n",
            "49/49 [==============================] - 2s 41ms/step - loss: 0.2013 - acc: 0.9469 - val_loss: 0.3744 - val_acc: 0.8698\n",
            "Epoch 10/20\n",
            "49/49 [==============================] - 2s 42ms/step - loss: 0.1967 - acc: 0.9484 - val_loss: 0.3518 - val_acc: 0.8792\n",
            "Epoch 11/20\n",
            "49/49 [==============================] - 2s 40ms/step - loss: 0.1897 - acc: 0.9522 - val_loss: 0.3588 - val_acc: 0.8778\n",
            "Epoch 12/20\n",
            "49/49 [==============================] - 2s 46ms/step - loss: 0.1857 - acc: 0.9545 - val_loss: 0.3758 - val_acc: 0.8721\n",
            "Epoch 13/20\n",
            "49/49 [==============================] - 3s 55ms/step - loss: 0.1816 - acc: 0.9562 - val_loss: 0.3901 - val_acc: 0.8686\n",
            "Epoch 14/20\n",
            "49/49 [==============================] - 2s 40ms/step - loss: 0.1768 - acc: 0.9572 - val_loss: 0.3925 - val_acc: 0.8694\n",
            "Epoch 15/20\n",
            "49/49 [==============================] - 2s 43ms/step - loss: 0.1752 - acc: 0.9578 - val_loss: 0.4085 - val_acc: 0.8650\n",
            "Epoch 16/20\n",
            "49/49 [==============================] - 2s 42ms/step - loss: 0.1724 - acc: 0.9592 - val_loss: 0.3861 - val_acc: 0.8726\n",
            "Epoch 17/20\n",
            "49/49 [==============================] - 2s 42ms/step - loss: 0.1654 - acc: 0.9633 - val_loss: 0.3975 - val_acc: 0.8698\n",
            "Epoch 18/20\n",
            "49/49 [==============================] - 2s 44ms/step - loss: 0.1624 - acc: 0.9640 - val_loss: 0.3960 - val_acc: 0.8718\n",
            "Epoch 19/20\n",
            "49/49 [==============================] - 2s 42ms/step - loss: 0.1606 - acc: 0.9634 - val_loss: 0.4170 - val_acc: 0.8664\n",
            "Epoch 20/20\n",
            "49/49 [==============================] - 2s 41ms/step - loss: 0.1568 - acc: 0.9656 - val_loss: 0.4043 - val_acc: 0.8708\n"
          ]
        }
      ]
    },
    {
      "cell_type": "code",
      "source": [
        "l2_model_val_loss = l2_model_hist.history['val_loss']\n",
        "\n",
        "epochs = range(1, 21)\n",
        "plt.plot(epochs, model_1_val_loss, 'r+', label ='Model 1')\n",
        "plt.plot(epochs, l2_model_val_loss, 'bo', label ='Model L2-regularized')\n",
        "plt.xlabel('Epochs')\n",
        "plt.ylabel('validation Loss')\n",
        "plt.legend()\n",
        "plt.grid()\n",
        "plt.show()\n"
      ],
      "metadata": {
        "colab": {
          "base_uri": "https://localhost:8080/",
          "height": 279
        },
        "id": "_laEoH3saj-o",
        "outputId": "c3ece5db-9d28-4c9f-f9f0-4addbe5fd3e7"
      },
      "execution_count": null,
      "outputs": [
        {
          "output_type": "display_data",
          "data": {
            "text/plain": [
              "<Figure size 432x288 with 1 Axes>"
            ],
            "image/png": "[encoded data removed]"
          },
          "metadata": {
            "needs_background": "light"
          }
        }
      ]
    },
    {
      "cell_type": "markdown",
      "metadata": {
        "id": "9ncu8EfhBMSp"
      },
      "source": [
        "#### 시각화\n",
        "- Model 1은 **모델의 크기 축소**파트에서의 모델"
      ]
    },
    {
      "cell_type": "code",
      "metadata": {
        "id": "9bT9d1Ov5-g3",
        "colab": {
          "base_uri": "https://localhost:8080/",
          "height": 699
        },
        "outputId": "46af95f9-d8df-44da-d152-ce39002457ff"
      },
      "source": [
        "l1_model = Sequential([Dense(8, kernel_regularizer = l1(0.0001), activation = 'relu', input_shape=(10000, )),\n",
        "                       Dense(8, kernel_regularizer = l1(0.0001), activation = 'relu'),\n",
        "                       Dense(1, activation = 'sigmoid')])\n",
        "l1_model.compile(optimizer = 'rmsprop',\n",
        "                loss = 'binary_crossentropy',\n",
        "                metrics = ['acc'])\n",
        "\n",
        "l1_model.summary()\n",
        "plot_model(l1_model, show_shapes = True)\n",
        "                    "
      ],
      "execution_count": null,
      "outputs": [
        {
          "output_type": "stream",
          "name": "stdout",
          "text": [
            "Model: \"sequential_4\"\n",
            "_________________________________________________________________\n",
            " Layer (type)                Output Shape              Param #   \n",
            "=================================================================\n",
            " dense_4 (Dense)             (None, 8)                 80008     \n",
            "                                                                 \n",
            " dense_5 (Dense)             (None, 8)                 72        \n",
            "                                                                 \n",
            " dense_6 (Dense)             (None, 1)                 9         \n",
            "                                                                 \n",
            "=================================================================\n",
            "Total params: 80,089\n",
            "Trainable params: 80,089\n",
            "Non-trainable params: 0\n",
            "_________________________________________________________________\n"
          ]
        },
        {
          "output_type": "execute_result",
          "data": {
            "image/png": "[encoded data removed]",
            "text/plain": [
              "<IPython.core.display.Image object>"
            ]
          },
          "metadata": {},
          "execution_count": 21
        }
      ]
    },
    {
      "cell_type": "markdown",
      "metadata": {
        "id": "mSAicW_U7PBQ"
      },
      "source": [
        "#### L1과 비교"
      ]
    },
    {
      "cell_type": "code",
      "metadata": {
        "id": "-aoBg6k16Ucv",
        "colab": {
          "base_uri": "https://localhost:8080/"
        },
        "outputId": "b9dca8ee-4cb8-44dd-8067-c75a61141c61"
      },
      "source": [
        "l1_model_hist = l1_model.fit(x_train, y_train, \n",
        "                             epochs =20,\n",
        "                             batch_size = 512,\n",
        "                             validation_data = (x_test,y_test))"
      ],
      "execution_count": null,
      "outputs": [
        {
          "output_type": "stream",
          "name": "stdout",
          "text": [
            "Epoch 1/20\n",
            "49/49 [==============================] - 4s 56ms/step - loss: 0.5614 - acc: 0.8180 - val_loss: 0.4542 - val_acc: 0.8645\n",
            "Epoch 2/20\n",
            "49/49 [==============================] - 2s 43ms/step - loss: 0.3863 - acc: 0.8925 - val_loss: 0.3925 - val_acc: 0.8678\n",
            "Epoch 3/20\n",
            "49/49 [==============================] - 2s 43ms/step - loss: 0.3296 - acc: 0.9050 - val_loss: 0.3489 - val_acc: 0.8878\n",
            "Epoch 4/20\n",
            "49/49 [==============================] - 2s 41ms/step - loss: 0.3051 - acc: 0.9110 - val_loss: 0.3419 - val_acc: 0.8880\n",
            "Epoch 5/20\n",
            "49/49 [==============================] - 2s 42ms/step - loss: 0.2903 - acc: 0.9163 - val_loss: 0.3438 - val_acc: 0.8864\n",
            "Epoch 6/20\n",
            "49/49 [==============================] - 2s 42ms/step - loss: 0.2794 - acc: 0.9214 - val_loss: 0.3581 - val_acc: 0.8801\n",
            "Epoch 7/20\n",
            "49/49 [==============================] - 2s 43ms/step - loss: 0.2735 - acc: 0.9235 - val_loss: 0.3574 - val_acc: 0.8808\n",
            "Epoch 8/20\n",
            "49/49 [==============================] - 2s 42ms/step - loss: 0.2685 - acc: 0.9265 - val_loss: 0.3518 - val_acc: 0.8850\n",
            "Epoch 9/20\n",
            "49/49 [==============================] - 2s 49ms/step - loss: 0.2620 - acc: 0.9294 - val_loss: 0.3658 - val_acc: 0.8818\n",
            "Epoch 10/20\n",
            "49/49 [==============================] - 3s 56ms/step - loss: 0.2577 - acc: 0.9309 - val_loss: 0.3707 - val_acc: 0.8779\n",
            "Epoch 11/20\n",
            "49/49 [==============================] - 2s 44ms/step - loss: 0.2544 - acc: 0.9317 - val_loss: 0.3644 - val_acc: 0.8823\n",
            "Epoch 12/20\n",
            "49/49 [==============================] - 2s 44ms/step - loss: 0.2496 - acc: 0.9342 - val_loss: 0.3677 - val_acc: 0.8823\n",
            "Epoch 13/20\n",
            "49/49 [==============================] - 2s 44ms/step - loss: 0.2446 - acc: 0.9374 - val_loss: 0.3848 - val_acc: 0.8751\n",
            "Epoch 14/20\n",
            "49/49 [==============================] - 2s 44ms/step - loss: 0.2428 - acc: 0.9370 - val_loss: 0.3755 - val_acc: 0.8807\n",
            "Epoch 15/20\n",
            "49/49 [==============================] - 2s 44ms/step - loss: 0.2363 - acc: 0.9405 - val_loss: 0.4296 - val_acc: 0.8635\n",
            "Epoch 16/20\n",
            "49/49 [==============================] - 2s 45ms/step - loss: 0.2337 - acc: 0.9414 - val_loss: 0.4216 - val_acc: 0.8662\n",
            "Epoch 17/20\n",
            "49/49 [==============================] - 2s 45ms/step - loss: 0.2299 - acc: 0.9432 - val_loss: 0.3840 - val_acc: 0.8774\n",
            "Epoch 18/20\n",
            "49/49 [==============================] - 2s 44ms/step - loss: 0.2250 - acc: 0.9450 - val_loss: 0.3992 - val_acc: 0.8729\n",
            "Epoch 19/20\n",
            "49/49 [==============================] - 2s 44ms/step - loss: 0.2205 - acc: 0.9464 - val_loss: 0.4092 - val_acc: 0.8732\n",
            "Epoch 20/20\n",
            "49/49 [==============================] - 2s 45ms/step - loss: 0.2162 - acc: 0.9490 - val_loss: 0.4034 - val_acc: 0.8734\n"
          ]
        }
      ]
    },
    {
      "cell_type": "code",
      "metadata": {
        "id": "8CXp6Sae7vX_",
        "colab": {
          "base_uri": "https://localhost:8080/",
          "height": 279
        },
        "outputId": "eda56710-ff49-4eb9-d7e7-8cb92b457503"
      },
      "source": [
        "l1_model_val_loss = l1_model_hist.history['val_loss']\n",
        "\n",
        "epochs = range(1, 21)\n",
        "plt.plot(epochs, model_1_val_loss, 'r+', label ='Model 1')\n",
        "plt.plot(epochs, l2_model_val_loss, 'bo', label ='Model L2-regularized')\n",
        "plt.plot(epochs, l1_model_val_loss, 'g--', label ='Model L1-regularized')\n",
        "plt.xlabel('Epochs')\n",
        "plt.ylabel('validation Loss')\n",
        "plt.legend()\n",
        "plt.grid()\n",
        "plt.show()\n"
      ],
      "execution_count": null,
      "outputs": [
        {
          "output_type": "display_data",
          "data": {
            "text/plain": [
              "<Figure size 432x288 with 1 Axes>"
            ],
            "image/png": "[encoded data removed]"
          },
          "metadata": {
            "needs_background": "light"
          }
        }
      ]
    },
    {
      "cell_type": "markdown",
      "metadata": {
        "id": "Dt-_9PJa8ZPz"
      },
      "source": [
        "#### L1, L2와 비교"
      ]
    },
    {
      "cell_type": "code",
      "metadata": {
        "id": "om9_yG0N8p63",
        "colab": {
          "base_uri": "https://localhost:8080/"
        },
        "outputId": "36407180-9ec9-415b-f3a0-1baaac50c4f7"
      },
      "source": [
        "l1_l2_model = Sequential([Dense(8, kernel_regularizer = l1_l2(l1=0.0001,l2= 0.0001), activation = 'relu', input_shape=(10000, )),\n",
        "                         Dense(8, kernel_regularizer = l1_l2(l1=0.0001,l2= 0.0001), activation = 'relu'),\n",
        "                         Dense(1, activation = 'sigmoid')])\n",
        "l1_l2_model.compile(optimizer = 'rmsprop',\n",
        "                loss = 'binary_crossentropy',\n",
        "                metrics = ['acc'])\n",
        "\n",
        "l1_l2_model.summary()\n",
        "plot_model(l1_l2_model, show_shapes = True)\n",
        "                    \n",
        "\n",
        "l1_l2_model_hist = l1_l2_model.fit(x_train, y_train, \n",
        "                             epochs =20,\n",
        "                             batch_size = 512,\n",
        "                             validation_data = (x_test,y_test))"
      ],
      "execution_count": null,
      "outputs": [
        {
          "output_type": "stream",
          "name": "stdout",
          "text": [
            "Model: \"sequential_5\"\n",
            "_________________________________________________________________\n",
            " Layer (type)                Output Shape              Param #   \n",
            "=================================================================\n",
            " dense_7 (Dense)             (None, 8)                 80008     \n",
            "                                                                 \n",
            " dense_8 (Dense)             (None, 8)                 72        \n",
            "                                                                 \n",
            " dense_9 (Dense)             (None, 1)                 9         \n",
            "                                                                 \n",
            "=================================================================\n",
            "Total params: 80,089\n",
            "Trainable params: 80,089\n",
            "Non-trainable params: 0\n",
            "_________________________________________________________________\n",
            "Epoch 1/20\n",
            "49/49 [==============================] - 8s 159ms/step - loss: 0.5541 - acc: 0.8145 - val_loss: 0.4491 - val_acc: 0.8607\n",
            "Epoch 2/20\n",
            "49/49 [==============================] - 2s 50ms/step - loss: 0.3814 - acc: 0.8894 - val_loss: 0.3718 - val_acc: 0.8851\n",
            "Epoch 3/20\n",
            "49/49 [==============================] - 2s 50ms/step - loss: 0.3308 - acc: 0.9028 - val_loss: 0.3514 - val_acc: 0.8870\n",
            "Epoch 4/20\n",
            "49/49 [==============================] - 3s 56ms/step - loss: 0.3050 - acc: 0.9117 - val_loss: 0.3431 - val_acc: 0.8887\n",
            "Epoch 5/20\n",
            "49/49 [==============================] - 9s 195ms/step - loss: 0.2923 - acc: 0.9148 - val_loss: 0.3431 - val_acc: 0.8880\n",
            "Epoch 6/20\n",
            "49/49 [==============================] - 3s 52ms/step - loss: 0.2814 - acc: 0.9203 - val_loss: 0.3445 - val_acc: 0.8877\n",
            "Epoch 7/20\n",
            "49/49 [==============================] - 2s 42ms/step - loss: 0.2753 - acc: 0.9238 - val_loss: 0.3655 - val_acc: 0.8812\n",
            "Epoch 8/20\n",
            "49/49 [==============================] - 2s 41ms/step - loss: 0.2700 - acc: 0.9246 - val_loss: 0.3653 - val_acc: 0.8791\n",
            "Epoch 9/20\n",
            "49/49 [==============================] - 2s 41ms/step - loss: 0.2642 - acc: 0.9287 - val_loss: 0.3558 - val_acc: 0.8842\n",
            "Epoch 10/20\n",
            "49/49 [==============================] - 2s 41ms/step - loss: 0.2596 - acc: 0.9294 - val_loss: 0.3688 - val_acc: 0.8784\n",
            "Epoch 11/20\n",
            "49/49 [==============================] - 2s 42ms/step - loss: 0.2560 - acc: 0.9318 - val_loss: 0.3674 - val_acc: 0.8818\n",
            "Epoch 12/20\n",
            "49/49 [==============================] - 2s 41ms/step - loss: 0.2525 - acc: 0.9342 - val_loss: 0.3705 - val_acc: 0.8809\n",
            "Epoch 13/20\n",
            "49/49 [==============================] - 2s 41ms/step - loss: 0.2477 - acc: 0.9344 - val_loss: 0.4033 - val_acc: 0.8677\n",
            "Epoch 14/20\n",
            "49/49 [==============================] - 2s 42ms/step - loss: 0.2442 - acc: 0.9370 - val_loss: 0.3770 - val_acc: 0.8793\n",
            "Epoch 15/20\n",
            "49/49 [==============================] - 2s 41ms/step - loss: 0.2438 - acc: 0.9366 - val_loss: 0.3870 - val_acc: 0.8767\n",
            "Epoch 16/20\n",
            "49/49 [==============================] - 2s 41ms/step - loss: 0.2395 - acc: 0.9388 - val_loss: 0.3872 - val_acc: 0.8765\n",
            "Epoch 17/20\n",
            "49/49 [==============================] - 2s 43ms/step - loss: 0.2365 - acc: 0.9396 - val_loss: 0.3905 - val_acc: 0.8763\n",
            "Epoch 18/20\n",
            "49/49 [==============================] - 2s 41ms/step - loss: 0.2319 - acc: 0.9426 - val_loss: 0.4010 - val_acc: 0.8729\n",
            "Epoch 19/20\n",
            "49/49 [==============================] - 2s 41ms/step - loss: 0.2317 - acc: 0.9420 - val_loss: 0.3941 - val_acc: 0.8766\n",
            "Epoch 20/20\n",
            "49/49 [==============================] - 2s 41ms/step - loss: 0.2278 - acc: 0.9427 - val_loss: 0.4180 - val_acc: 0.8698\n"
          ]
        }
      ]
    },
    {
      "cell_type": "code",
      "metadata": {
        "id": "HZvfp1oa8zqR",
        "colab": {
          "base_uri": "https://localhost:8080/",
          "height": 279
        },
        "outputId": "2d892964-7993-435f-8195-f200b2049613"
      },
      "source": [
        "l1_l2_model_val_loss = l1_l2_model_hist.history['val_loss']\n",
        "\n",
        "epochs = range(1, 21)\n",
        "plt.plot(epochs, model_1_val_loss, 'r+', label ='Model 1')\n",
        "plt.plot(epochs, l2_model_val_loss, 'bo', label ='Model L2-regularized')\n",
        "plt.plot(epochs, l1_model_val_loss, 'g--', label ='Model L1-regularized')\n",
        "plt.plot(epochs, l1_l2_model_val_loss, 'ko', label ='Model L1_l2-regularized')\n",
        "plt.xlabel('Epochs')\n",
        "plt.ylabel('validation Loss')\n",
        "plt.legend()\n",
        "plt.grid()\n",
        "plt.show()\n"
      ],
      "execution_count": null,
      "outputs": [
        {
          "output_type": "display_data",
          "data": {
            "text/plain": [
              "<Figure size 432x288 with 1 Axes>"
            ],
            "image/png": "[encoded data removed]"
          },
          "metadata": {
            "needs_background": "light"
          }
        }
      ]
    },
    {
      "cell_type": "markdown",
      "metadata": {
        "id": "adXSd24794wD"
      },
      "source": [
        "4가지 모델 비교\n",
        "- Original\n",
        "\n",
        "- L1\n",
        "\n",
        "- L2\n",
        "\n",
        "- L1_L2"
      ]
    },
    {
      "cell_type": "markdown",
      "metadata": {
        "id": "2HZJQ1Uc-Pwe"
      },
      "source": [
        "### 드롭아웃(Dropout)\n",
        "- 신경망을 위해 사용되는 규제 기법 중 가장 효과적이고 널리 사용되는 방법\n",
        "\n",
        "- 신경망의 레이어에 드롭아웃을 적용하면 훈련하는 동안 무작위로 층의 일부 특성(노드)를 제외\n",
        "  - 예를 들어, [1.0, 3.2, 0.6, 0.8, 1.1] 라는 벡터에 대해 드롭아웃을 적용하면 **무작위로 0으로 바뀜**  \n",
        "    $\\rightarrow$ [0, 3.2, 0.6, 0.8, 0]\n",
        "\n",
        "  - 보통 0.2 ~ 0.5 사이의 비율로 지정됨\n",
        "\n",
        "- 테스트 단계에서는 그 어떤 노드도 드롭아웃 되지 않는다.\n",
        "  - 대신 해당 레이어의 출력 노드를 드롭아웃 비율에 맞게 줄여줌"
      ]
    },
    {
      "cell_type": "code",
      "metadata": {
        "id": "m8vp3zV8_8va"
      },
      "source": [
        "from tensorflow.keras.layers import Dropout"
      ],
      "execution_count": null,
      "outputs": []
    },
    {
      "cell_type": "markdown",
      "metadata": {
        "id": "2Lv4SuKy_6C0"
      },
      "source": [
        "#### 모델 구성"
      ]
    },
    {
      "cell_type": "code",
      "metadata": {
        "id": "qb6_EQte-Jxu",
        "colab": {
          "base_uri": "https://localhost:8080/"
        },
        "outputId": "c93a0429-4daa-424c-f2ff-a0ab21ba9cc6"
      },
      "source": [
        "dropput_model = Sequential([Dense(8, activation = 'relu', input_shape=(10000, )),\n",
        "                            Dropout(0.5),\n",
        "                         Dense(8, activation = 'relu'),\n",
        "                         Dropout(0.5),\n",
        "                         Dense(1, activation = 'sigmoid')])\n",
        "dropput_model.compile(optimizer = 'rmsprop',\n",
        "                loss = 'binary_crossentropy',\n",
        "                metrics = ['acc'])\n",
        "\n",
        "dropput_model.summary()\n",
        "plot_model(dropput_model, show_shapes = True)\n",
        "                    \n",
        "\n",
        "dropput_model_hist = dropput_model.fit(x_train, y_train, \n",
        "                             epochs =20,\n",
        "                             batch_size = 512,\n",
        "                             validation_data = (x_test,y_test))"
      ],
      "execution_count": null,
      "outputs": [
        {
          "output_type": "stream",
          "name": "stdout",
          "text": [
            "Model: \"sequential_6\"\n",
            "_________________________________________________________________\n",
            " Layer (type)                Output Shape              Param #   \n",
            "=================================================================\n",
            " dense_10 (Dense)            (None, 8)                 80008     \n",
            "                                                                 \n",
            " dropout (Dropout)           (None, 8)                 0         \n",
            "                                                                 \n",
            " dense_11 (Dense)            (None, 8)                 72        \n",
            "                                                                 \n",
            " dropout_1 (Dropout)         (None, 8)                 0         \n",
            "                                                                 \n",
            " dense_12 (Dense)            (None, 1)                 9         \n",
            "                                                                 \n",
            "=================================================================\n",
            "Total params: 80,089\n",
            "Trainable params: 80,089\n",
            "Non-trainable params: 0\n",
            "_________________________________________________________________\n",
            "Epoch 1/20\n",
            "49/49 [==============================] - 3s 49ms/step - loss: 0.6413 - acc: 0.6389 - val_loss: 0.5669 - val_acc: 0.7601\n",
            "Epoch 2/20\n",
            "49/49 [==============================] - 2s 40ms/step - loss: 0.5652 - acc: 0.7694 - val_loss: 0.5042 - val_acc: 0.8392\n",
            "Epoch 3/20\n",
            "49/49 [==============================] - 2s 41ms/step - loss: 0.5225 - acc: 0.8112 - val_loss: 0.4778 - val_acc: 0.8779\n",
            "Epoch 4/20\n",
            "49/49 [==============================] - 2s 41ms/step - loss: 0.4872 - acc: 0.8310 - val_loss: 0.4408 - val_acc: 0.8726\n",
            "Epoch 5/20\n",
            "49/49 [==============================] - 2s 40ms/step - loss: 0.4644 - acc: 0.8395 - val_loss: 0.4224 - val_acc: 0.8766\n",
            "Epoch 6/20\n",
            "49/49 [==============================] - 2s 40ms/step - loss: 0.4398 - acc: 0.8501 - val_loss: 0.4089 - val_acc: 0.8781\n",
            "Epoch 7/20\n",
            "49/49 [==============================] - 2s 42ms/step - loss: 0.4198 - acc: 0.8554 - val_loss: 0.3995 - val_acc: 0.8772\n",
            "Epoch 8/20\n",
            "49/49 [==============================] - 2s 41ms/step - loss: 0.4037 - acc: 0.8580 - val_loss: 0.3951 - val_acc: 0.8750\n",
            "Epoch 9/20\n",
            "49/49 [==============================] - 2s 41ms/step - loss: 0.3901 - acc: 0.8602 - val_loss: 0.4055 - val_acc: 0.8731\n",
            "Epoch 10/20\n",
            "49/49 [==============================] - 2s 51ms/step - loss: 0.3775 - acc: 0.8626 - val_loss: 0.3867 - val_acc: 0.8689\n",
            "Epoch 11/20\n",
            "49/49 [==============================] - 2s 44ms/step - loss: 0.3657 - acc: 0.8672 - val_loss: 0.4184 - val_acc: 0.8694\n",
            "Epoch 12/20\n",
            "49/49 [==============================] - 2s 42ms/step - loss: 0.3553 - acc: 0.8722 - val_loss: 0.4071 - val_acc: 0.8695\n",
            "Epoch 13/20\n",
            "49/49 [==============================] - 2s 42ms/step - loss: 0.3472 - acc: 0.8743 - val_loss: 0.4112 - val_acc: 0.8665\n",
            "Epoch 14/20\n",
            "49/49 [==============================] - 2s 42ms/step - loss: 0.3364 - acc: 0.8789 - val_loss: 0.4293 - val_acc: 0.8654\n",
            "Epoch 15/20\n",
            "49/49 [==============================] - 2s 42ms/step - loss: 0.3377 - acc: 0.8746 - val_loss: 0.4430 - val_acc: 0.8650\n",
            "Epoch 16/20\n",
            "49/49 [==============================] - 2s 39ms/step - loss: 0.3304 - acc: 0.8798 - val_loss: 0.4318 - val_acc: 0.8638\n",
            "Epoch 17/20\n",
            "49/49 [==============================] - 2s 39ms/step - loss: 0.3245 - acc: 0.8810 - val_loss: 0.4500 - val_acc: 0.8625\n",
            "Epoch 18/20\n",
            "49/49 [==============================] - 2s 40ms/step - loss: 0.3089 - acc: 0.8888 - val_loss: 0.4718 - val_acc: 0.8649\n",
            "Epoch 19/20\n",
            "49/49 [==============================] - 2s 40ms/step - loss: 0.2916 - acc: 0.8933 - val_loss: 0.4546 - val_acc: 0.8675\n",
            "Epoch 20/20\n",
            "49/49 [==============================] - 2s 40ms/step - loss: 0.2897 - acc: 0.8974 - val_loss: 0.4702 - val_acc: 0.8653\n"
          ]
        }
      ]
    },
    {
      "cell_type": "markdown",
      "metadata": {
        "id": "5aJVz33uArZo"
      },
      "source": [
        "#### 모델 학습"
      ]
    },
    {
      "cell_type": "code",
      "metadata": {
        "id": "3EKriwnYAhsO"
      },
      "source": [],
      "execution_count": null,
      "outputs": []
    },
    {
      "cell_type": "markdown",
      "metadata": {
        "id": "H1mtPk84GQhi"
      },
      "source": [
        "#### 시각화"
      ]
    },
    {
      "cell_type": "code",
      "metadata": {
        "id": "UCYzvVV5A0it",
        "colab": {
          "base_uri": "https://localhost:8080/",
          "height": 279
        },
        "outputId": "75fbd340-bdba-437b-dc13-d2f52f17b856"
      },
      "source": [
        "dropout_model_val_loss = dropput_model_hist.history['val_loss']\n",
        "\n",
        "epochs = range(1, 21)\n",
        "plt.plot(epochs, model_1_val_loss, 'ro', label ='Model 1')\n",
        "plt.plot(epochs, l2_model_val_loss, 'bo', label ='Model L2-regularized')\n",
        "plt.plot(epochs, l1_model_val_loss, 'g--', label ='Model L1-regularized')\n",
        "plt.plot(epochs, l1_l2_model_val_loss, 'k--', label ='Model L1_L2-regularized')\n",
        "plt.plot(epochs, dropout_model_val_loss, 'r--', label ='Dropout-regularized')\n",
        "plt.xlabel('Epochs')\n",
        "plt.ylabel('validation Loss')\n",
        "plt.legend()\n",
        "plt.grid()\n",
        "plt.show()\n"
      ],
      "execution_count": null,
      "outputs": [
        {
          "output_type": "display_data",
          "data": {
            "text/plain": [
              "<Figure size 432x288 with 1 Axes>"
            ],
            "image/png": "[encoded data removed]"
          },
          "metadata": {
            "needs_background": "light"
          }
        }
      ]
    },
    {
      "cell_type": "code",
      "source": [],
      "metadata": {
        "id": "3F6DCuKiiKyG"
      },
      "execution_count": null,
      "outputs": []
    }
  ]
}
