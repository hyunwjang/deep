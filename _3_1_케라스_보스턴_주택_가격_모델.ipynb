{
  "nbformat": 4,
  "nbformat_minor": 0,
  "metadata": {
    "colab": {
      "provenance": [],
      "include_colab_link": true
    },
    "kernelspec": {
      "name": "python3",
      "display_name": "Python 3"
    }
  },
  "cells": [
    {
      "cell_type": "markdown",
      "metadata": {
        "id": "view-in-github",
        "colab_type": "text"
      },
      "source": [
        "<a href=\"https://colab.research.google.com/github/hyunwjang/deep/blob/main/_3_1_%EC%BC%80%EB%9D%BC%EC%8A%A4_%EB%B3%B4%EC%8A%A4%ED%84%B4_%EC%A3%BC%ED%83%9D_%EA%B0%80%EA%B2%A9_%EB%AA%A8%EB%8D%B8.ipynb\" target=\"_parent\"><img src=\"https://colab.research.google.com/assets/colab-badge.svg\" alt=\"Open In Colab\"/></a>"
      ]
    },
    {
      "cell_type": "markdown",
      "metadata": {
        "id": "gj-RA7rQLSC4"
      },
      "source": [
        "# 케라스 보스턴 주택 가격 모델"
      ]
    },
    {
      "cell_type": "markdown",
      "metadata": {
        "id": "P1rSC60ILf0U"
      },
      "source": [
        "### modules import"
      ]
    },
    {
      "cell_type": "code",
      "metadata": {
        "id": "bmYcVLNsmFR_"
      },
      "source": [
        "import tensorflow as tf\n",
        "from tensorflow.keras.datasets.boston_housing import load_data\n",
        "from tensorflow.keras.layers import Dense\n",
        "from tensorflow.keras.models import Sequential\n",
        "from tensorflow.keras.optimizers import Adam\n",
        "\n",
        "from tensorflow.keras.utils import plot_model\n",
        "\n",
        "from sklearn.model_selection import train_test_split\n",
        "\n",
        "import numpy as np\n",
        "\n",
        "import matplotlib.pyplot as plt"
      ],
      "execution_count": null,
      "outputs": []
    },
    {
      "cell_type": "markdown",
      "metadata": {
        "id": "qbRqQY1aMMTU"
      },
      "source": [
        "### 데이터 로드\n",
        "- 데이터의 수가 상당히 적기 때문에 테스트 데이터의 비율을 20%로 지정\n",
        "\n",
        "- 13개의 특성을 가짐\n",
        "\n",
        "- 각각의 특성이 모두 다른 스케일, 즉 단위가 모두 다름\n",
        "  - 범죄율: 0~1 사이의 값\n",
        "  - 방의 개수 3~9 사이의 값\n",
        "\n",
        "- 정답 레이블은 주택 가격의 중간가격($1000 단위)"
      ]
    },
    {
      "cell_type": "code",
      "metadata": {
        "id": "AWHBrPVTMGyu",
        "colab": {
          "base_uri": "https://localhost:8080/"
        },
        "outputId": "5e841c5f-6f4a-4896-941a-a419abdd08ae"
      },
      "source": [
        "tf.random.set_seed(111)\n",
        "\n",
        "(x_train_full, y_train_full), (x_test, y_test) = load_data(path = 'bosthousing.npz', test_split = 0.2, seed = 111)"
      ],
      "execution_count": null,
      "outputs": [
        {
          "output_type": "stream",
          "name": "stdout",
          "text": [
            "Downloading data from https://storage.googleapis.com/tensorflow/tf-keras-datasets/boston_housing.npz\n",
            "57026/57026 [==============================] - 0s 0us/step\n"
          ]
        }
      ]
    },
    {
      "cell_type": "markdown",
      "metadata": {
        "id": "tCTcnMT6Mgx9"
      },
      "source": [
        "### 데이터 확인"
      ]
    },
    {
      "cell_type": "code",
      "metadata": {
        "id": "MdisxCBbMbRh",
        "colab": {
          "base_uri": "https://localhost:8080/"
        },
        "outputId": "9aabe8cb-4abd-4914-d30e-99c667ae0aad"
      },
      "source": [
        "print(\"학습 데이터 :{} \\t 레이블: {}\".format(x_train_full.shape, y_train_full.shape))\n",
        "print(\"테스트 데이터 :{} \\t 레이블: {}\".format(x_test.shape, y_test.shape))\n"
      ],
      "execution_count": null,
      "outputs": [
        {
          "output_type": "stream",
          "name": "stdout",
          "text": [
            "학습 데이터 :(404, 13) \t 레이블: (404,)\n",
            "테스트 데이터 :(102, 13) \t 레이블: (102,)\n"
          ]
        }
      ]
    },
    {
      "cell_type": "code",
      "metadata": {
        "id": "vjEoDJ6fM4I-",
        "colab": {
          "base_uri": "https://localhost:8080/"
        },
        "outputId": "e9be970a-e888-4a6b-c35e-204dfa6dff42"
      },
      "source": [
        "print(x_train_full[0])"
      ],
      "execution_count": null,
      "outputs": [
        {
          "output_type": "stream",
          "name": "stdout",
          "text": [
            "[2.8750e-02 2.8000e+01 1.5040e+01 0.0000e+00 4.6400e-01 6.2110e+00\n",
            " 2.8900e+01 3.6659e+00 4.0000e+00 2.7000e+02 1.8200e+01 3.9633e+02\n",
            " 6.2100e+00]\n"
          ]
        }
      ]
    },
    {
      "cell_type": "code",
      "metadata": {
        "id": "U-V0pQdbNSso",
        "colab": {
          "base_uri": "https://localhost:8080/"
        },
        "outputId": "14e29ef0-f78b-4fb4-8b9a-3faea28b91a2"
      },
      "source": [
        "print(y_train_full[0])"
      ],
      "execution_count": null,
      "outputs": [
        {
          "output_type": "stream",
          "name": "stdout",
          "text": [
            "25.0\n"
          ]
        }
      ]
    },
    {
      "cell_type": "markdown",
      "metadata": {
        "id": "I_ZK_dJdOlCu"
      },
      "source": [
        "### 데이터 전처리\n",
        "- Standardization\n",
        "\n",
        "- 특성의 단위가 모두 다르기 때문에 **동일한 범위로 조정**"
      ]
    },
    {
      "cell_type": "code",
      "metadata": {
        "id": "DjRcDM_CNV--"
      },
      "source": [
        "mean = np.mean(x_train_full, axis= 0)\n",
        "std = np.std(x_train_full , axis = 0)\n",
        "\n",
        "x_train_preprocessed = (x_train_full -mean) /std\n",
        "x_test = (x_test - mean)/ std\n",
        "\n",
        "x_train , x_val, y_train,y_val = train_test_split(x_train_preprocessed, y_train_full,\n",
        "                                                    test_size = 0.3,\n",
        "                                                    random_state = 111)\n"
      ],
      "execution_count": null,
      "outputs": []
    },
    {
      "cell_type": "code",
      "metadata": {
        "id": "M1fl37t9PR0G",
        "colab": {
          "base_uri": "https://localhost:8080/"
        },
        "outputId": "d53b70ec-7362-4613-b431-480a678d48f2"
      },
      "source": [
        "print(\"학습 데이터 :{} \\t 레이블: {}\".format(x_train_full.shape, y_train_full.shape))\n",
        "print(\"학습 데이터 :{} \\t 레이블: {}\".format(x_train.shape, y_train.shape))\n",
        "print(\"검증 데이터 :{} \\t 레이블: {}\".format(x_val.shape, y_val.shape))\n",
        "print(\"테스트 데이터 :{} \\t 레이블: {}\".format(x_test.shape, y_test.shape))\n"
      ],
      "execution_count": null,
      "outputs": [
        {
          "output_type": "stream",
          "name": "stdout",
          "text": [
            "학습 데이터 :(404, 13) \t 레이블: (404,)\n",
            "학습 데이터 :(282, 13) \t 레이블: (282,)\n",
            "검증 데이터 :(122, 13) \t 레이블: (122,)\n",
            "테스트 데이터 :(102, 13) \t 레이블: (102,)\n"
          ]
        }
      ]
    },
    {
      "cell_type": "markdown",
      "metadata": {
        "id": "zTcwvMqdPynu"
      },
      "source": [
        "### 모델 구성\n",
        "- 학습 데이터가 매우 적은 경우에 모델의 깊이를 깊게 할수록  \n",
        "  과대적합(Overfitting)이 일어날 확률이 높음"
      ]
    },
    {
      "cell_type": "code",
      "metadata": {
        "id": "1P7pAnqUPcCf"
      },
      "source": [
        "model = Sequential([Dense(100, activation = 'relu', input_shape = (13,), name = 'dense1'),\n",
        "                    Dense(64, activation = 'relu',name = 'dense2'),\n",
        "                    Dense(32, activation = 'relu', name = 'dense3'),\n",
        "                    Dense(1, name = 'output')])"
      ],
      "execution_count": null,
      "outputs": []
    },
    {
      "cell_type": "code",
      "metadata": {
        "id": "dRi6Vd8WQYyj",
        "colab": {
          "base_uri": "https://localhost:8080/"
        },
        "outputId": "455c97c9-f78f-4fca-9177-11b21c7f84eb"
      },
      "source": [
        "model.summary()"
      ],
      "execution_count": null,
      "outputs": [
        {
          "output_type": "stream",
          "name": "stdout",
          "text": [
            "Model: \"sequential\"\n",
            "_________________________________________________________________\n",
            " Layer (type)                Output Shape              Param #   \n",
            "=================================================================\n",
            " dense1 (Dense)              (None, 100)               1400      \n",
            "                                                                 \n",
            " dense2 (Dense)              (None, 64)                6464      \n",
            "                                                                 \n",
            " dense3 (Dense)              (None, 32)                2080      \n",
            "                                                                 \n",
            " output (Dense)              (None, 1)                 33        \n",
            "                                                                 \n",
            "=================================================================\n",
            "Total params: 9,977\n",
            "Trainable params: 9,977\n",
            "Non-trainable params: 0\n",
            "_________________________________________________________________\n"
          ]
        }
      ]
    },
    {
      "cell_type": "code",
      "metadata": {
        "id": "M-dFvQRGQalM",
        "colab": {
          "base_uri": "https://localhost:8080/",
          "height": 466
        },
        "outputId": "320dee50-57de-4321-fa06-d376c0fed26e"
      },
      "source": [
        "plot_model(model)"
      ],
      "execution_count": null,
      "outputs": [
        {
          "output_type": "execute_result",
          "data": {
            "image/png": "[encoded data removed]",
            "text/plain": [
              "<IPython.core.display.Image object>"
            ]
          },
          "metadata": {},
          "execution_count": 16
        }
      ]
    },
    {
      "cell_type": "markdown",
      "metadata": {
        "id": "0m05yRQmQmFA"
      },
      "source": [
        "### 모델 컴파일(compile)\n",
        "\n",
        "- 회귀 문제에서는 주로 평균제곱오차(MSE, Mean Squared Error)를 손실함수로,  \n",
        "  평균절대오차(MAE, Mean Absolute Error)를 평가지표로 많이 사용!"
      ]
    },
    {
      "cell_type": "code",
      "metadata": {
        "id": "_Z2IMfH3QkGv"
      },
      "source": [
        "model.compile(loss = 'mse',\n",
        "              optimizer = Adam(learning_rate = 1e-2),\n",
        "              metrics = ['mae'])"
      ],
      "execution_count": null,
      "outputs": []
    },
    {
      "cell_type": "markdown",
      "metadata": {
        "id": "6YhN4fzmRQpY"
      },
      "source": [
        "### 모델 학습"
      ]
    },
    {
      "cell_type": "code",
      "metadata": {
        "id": "jGA9gPIERPxF",
        "colab": {
          "base_uri": "https://localhost:8080/"
        },
        "outputId": "ce79de3a-6027-4267-dfc3-e1bb451d1c2b"
      },
      "source": [
        "history = model.fit(x_train,y_train, epochs = 300,\n",
        "                    validation_data = (x_val, y_val))"
      ],
      "execution_count": null,
      "outputs": [
        {
          "output_type": "stream",
          "name": "stdout",
          "text": [
            "Epoch 1/300\n",
            "9/9 [==============================] - 0s 29ms/step - loss: 0.5954 - mae: 0.5657 - val_loss: 10.5115 - val_mae: 2.4649\n",
            "Epoch 2/300\n",
            "9/9 [==============================] - 0s 6ms/step - loss: 0.6279 - mae: 0.6098 - val_loss: 10.9091 - val_mae: 2.3572\n",
            "Epoch 3/300\n",
            "9/9 [==============================] - 0s 6ms/step - loss: 0.7280 - mae: 0.6302 - val_loss: 11.8063 - val_mae: 2.5198\n",
            "Epoch 4/300\n",
            "9/9 [==============================] - 0s 7ms/step - loss: 1.1118 - mae: 0.7688 - val_loss: 11.8004 - val_mae: 2.4703\n",
            "Epoch 5/300\n",
            "9/9 [==============================] - 0s 7ms/step - loss: 1.3739 - mae: 0.8889 - val_loss: 10.3230 - val_mae: 2.3844\n",
            "Epoch 6/300\n",
            "9/9 [==============================] - 0s 7ms/step - loss: 1.7939 - mae: 1.0335 - val_loss: 13.0948 - val_mae: 2.7055\n",
            "Epoch 7/300\n",
            "9/9 [==============================] - 0s 6ms/step - loss: 1.6104 - mae: 0.9368 - val_loss: 11.6943 - val_mae: 2.5529\n",
            "Epoch 8/300\n",
            "9/9 [==============================] - 0s 6ms/step - loss: 1.2462 - mae: 0.8168 - val_loss: 13.1125 - val_mae: 2.5584\n",
            "Epoch 9/300\n",
            "9/9 [==============================] - 0s 8ms/step - loss: 1.1970 - mae: 0.7660 - val_loss: 11.8635 - val_mae: 2.5399\n",
            "Epoch 10/300\n",
            "9/9 [==============================] - 0s 5ms/step - loss: 0.9264 - mae: 0.7250 - val_loss: 9.7070 - val_mae: 2.4361\n",
            "Epoch 11/300\n",
            "9/9 [==============================] - 0s 9ms/step - loss: 1.1477 - mae: 0.8160 - val_loss: 10.3123 - val_mae: 2.3806\n",
            "Epoch 12/300\n",
            "9/9 [==============================] - 0s 6ms/step - loss: 1.0730 - mae: 0.8075 - val_loss: 13.1041 - val_mae: 2.6131\n",
            "Epoch 13/300\n",
            "9/9 [==============================] - 0s 9ms/step - loss: 1.2319 - mae: 0.7796 - val_loss: 7.9670 - val_mae: 2.1482\n",
            "Epoch 14/300\n",
            "9/9 [==============================] - 0s 6ms/step - loss: 1.1552 - mae: 0.7806 - val_loss: 11.4672 - val_mae: 2.5801\n",
            "Epoch 15/300\n",
            "9/9 [==============================] - 0s 8ms/step - loss: 1.4373 - mae: 0.9302 - val_loss: 10.2910 - val_mae: 2.4282\n",
            "Epoch 16/300\n",
            "9/9 [==============================] - 0s 6ms/step - loss: 1.7020 - mae: 1.0475 - val_loss: 13.0875 - val_mae: 2.5845\n",
            "Epoch 17/300\n",
            "9/9 [==============================] - 0s 6ms/step - loss: 1.3105 - mae: 0.8815 - val_loss: 9.0840 - val_mae: 2.2272\n",
            "Epoch 18/300\n",
            "9/9 [==============================] - 0s 7ms/step - loss: 0.9341 - mae: 0.7277 - val_loss: 10.0145 - val_mae: 2.3697\n",
            "Epoch 19/300\n",
            "9/9 [==============================] - 0s 6ms/step - loss: 0.7504 - mae: 0.6530 - val_loss: 11.3588 - val_mae: 2.3873\n",
            "Epoch 20/300\n",
            "9/9 [==============================] - 0s 6ms/step - loss: 0.6887 - mae: 0.6299 - val_loss: 11.1024 - val_mae: 2.4984\n",
            "Epoch 21/300\n",
            "9/9 [==============================] - 0s 6ms/step - loss: 0.6477 - mae: 0.6233 - val_loss: 10.1687 - val_mae: 2.3476\n",
            "Epoch 22/300\n",
            "9/9 [==============================] - 0s 6ms/step - loss: 0.6088 - mae: 0.5745 - val_loss: 10.3456 - val_mae: 2.3896\n",
            "Epoch 23/300\n",
            "9/9 [==============================] - 0s 6ms/step - loss: 0.6897 - mae: 0.5963 - val_loss: 10.3431 - val_mae: 2.4018\n",
            "Epoch 24/300\n",
            "9/9 [==============================] - 0s 9ms/step - loss: 0.7475 - mae: 0.6636 - val_loss: 10.7206 - val_mae: 2.5142\n",
            "Epoch 25/300\n",
            "9/9 [==============================] - 0s 6ms/step - loss: 0.8116 - mae: 0.6544 - val_loss: 9.0277 - val_mae: 2.2428\n",
            "Epoch 26/300\n",
            "9/9 [==============================] - 0s 9ms/step - loss: 0.7474 - mae: 0.6279 - val_loss: 10.1371 - val_mae: 2.3917\n",
            "Epoch 27/300\n",
            "9/9 [==============================] - 0s 8ms/step - loss: 0.6573 - mae: 0.5720 - val_loss: 10.6193 - val_mae: 2.4186\n",
            "Epoch 28/300\n",
            "9/9 [==============================] - 0s 7ms/step - loss: 0.5873 - mae: 0.5435 - val_loss: 10.7889 - val_mae: 2.4093\n",
            "Epoch 29/300\n",
            "9/9 [==============================] - 0s 5ms/step - loss: 0.5705 - mae: 0.5642 - val_loss: 10.6563 - val_mae: 2.4630\n",
            "Epoch 30/300\n",
            "9/9 [==============================] - 0s 5ms/step - loss: 0.6644 - mae: 0.6018 - val_loss: 10.1759 - val_mae: 2.3243\n",
            "Epoch 31/300\n",
            "9/9 [==============================] - 0s 6ms/step - loss: 0.5318 - mae: 0.5134 - val_loss: 11.1124 - val_mae: 2.4428\n",
            "Epoch 32/300\n",
            "9/9 [==============================] - 0s 6ms/step - loss: 0.8631 - mae: 0.7368 - val_loss: 10.5080 - val_mae: 2.3844\n",
            "Epoch 33/300\n",
            "9/9 [==============================] - 0s 6ms/step - loss: 0.7344 - mae: 0.6524 - val_loss: 11.4844 - val_mae: 2.4763\n",
            "Epoch 34/300\n",
            "9/9 [==============================] - 0s 5ms/step - loss: 0.5133 - mae: 0.5160 - val_loss: 10.0522 - val_mae: 2.3158\n",
            "Epoch 35/300\n",
            "9/9 [==============================] - 0s 6ms/step - loss: 0.4190 - mae: 0.4715 - val_loss: 10.9212 - val_mae: 2.3831\n",
            "Epoch 36/300\n",
            "9/9 [==============================] - 0s 8ms/step - loss: 0.5112 - mae: 0.5287 - val_loss: 10.5052 - val_mae: 2.3565\n",
            "Epoch 37/300\n",
            "9/9 [==============================] - 0s 6ms/step - loss: 0.4504 - mae: 0.4917 - val_loss: 10.2504 - val_mae: 2.3904\n",
            "Epoch 38/300\n",
            "9/9 [==============================] - 0s 7ms/step - loss: 0.5273 - mae: 0.5369 - val_loss: 10.8004 - val_mae: 2.4574\n",
            "Epoch 39/300\n",
            "9/9 [==============================] - 0s 6ms/step - loss: 0.4839 - mae: 0.5099 - val_loss: 9.4546 - val_mae: 2.3398\n",
            "Epoch 40/300\n",
            "9/9 [==============================] - 0s 6ms/step - loss: 0.5697 - mae: 0.5557 - val_loss: 11.8394 - val_mae: 2.4650\n",
            "Epoch 41/300\n",
            "9/9 [==============================] - 0s 6ms/step - loss: 0.4668 - mae: 0.5059 - val_loss: 10.5700 - val_mae: 2.3730\n",
            "Epoch 42/300\n",
            "9/9 [==============================] - 0s 9ms/step - loss: 0.5288 - mae: 0.5377 - val_loss: 10.4693 - val_mae: 2.4165\n",
            "Epoch 43/300\n",
            "9/9 [==============================] - 0s 9ms/step - loss: 0.3895 - mae: 0.4692 - val_loss: 9.8950 - val_mae: 2.3254\n",
            "Epoch 44/300\n",
            "9/9 [==============================] - 0s 6ms/step - loss: 0.4229 - mae: 0.4701 - val_loss: 10.4912 - val_mae: 2.3671\n",
            "Epoch 45/300\n",
            "9/9 [==============================] - 0s 6ms/step - loss: 0.4592 - mae: 0.5020 - val_loss: 10.1033 - val_mae: 2.3617\n",
            "Epoch 46/300\n",
            "9/9 [==============================] - 0s 5ms/step - loss: 0.5145 - mae: 0.5319 - val_loss: 10.5588 - val_mae: 2.3972\n",
            "Epoch 47/300\n",
            "9/9 [==============================] - 0s 8ms/step - loss: 0.8411 - mae: 0.7041 - val_loss: 11.4028 - val_mae: 2.5518\n",
            "Epoch 48/300\n",
            "9/9 [==============================] - 0s 7ms/step - loss: 0.9904 - mae: 0.7721 - val_loss: 10.4179 - val_mae: 2.3982\n",
            "Epoch 49/300\n",
            "9/9 [==============================] - 0s 6ms/step - loss: 0.7958 - mae: 0.6677 - val_loss: 10.9477 - val_mae: 2.5577\n",
            "Epoch 50/300\n",
            "9/9 [==============================] - 0s 8ms/step - loss: 1.1776 - mae: 0.8575 - val_loss: 11.2744 - val_mae: 2.4664\n",
            "Epoch 51/300\n",
            "9/9 [==============================] - 0s 6ms/step - loss: 1.0129 - mae: 0.7913 - val_loss: 9.4436 - val_mae: 2.3453\n",
            "Epoch 52/300\n",
            "9/9 [==============================] - 0s 7ms/step - loss: 1.1424 - mae: 0.7925 - val_loss: 10.8355 - val_mae: 2.4026\n",
            "Epoch 53/300\n",
            "9/9 [==============================] - 0s 7ms/step - loss: 0.8945 - mae: 0.7207 - val_loss: 10.1213 - val_mae: 2.3830\n",
            "Epoch 54/300\n",
            "9/9 [==============================] - 0s 6ms/step - loss: 1.0828 - mae: 0.7760 - val_loss: 10.3265 - val_mae: 2.3645\n",
            "Epoch 55/300\n",
            "9/9 [==============================] - 0s 8ms/step - loss: 0.7604 - mae: 0.6556 - val_loss: 11.5988 - val_mae: 2.5065\n",
            "Epoch 56/300\n",
            "9/9 [==============================] - 0s 6ms/step - loss: 1.1031 - mae: 0.8201 - val_loss: 10.5832 - val_mae: 2.4716\n",
            "Epoch 57/300\n",
            "9/9 [==============================] - 0s 7ms/step - loss: 1.1938 - mae: 0.8540 - val_loss: 11.1787 - val_mae: 2.4777\n",
            "Epoch 58/300\n",
            "9/9 [==============================] - 0s 6ms/step - loss: 1.6243 - mae: 0.9128 - val_loss: 9.4937 - val_mae: 2.2288\n",
            "Epoch 59/300\n",
            "9/9 [==============================] - 0s 6ms/step - loss: 1.4873 - mae: 0.9355 - val_loss: 12.4057 - val_mae: 2.5920\n",
            "Epoch 60/300\n",
            "9/9 [==============================] - 0s 6ms/step - loss: 0.9453 - mae: 0.7056 - val_loss: 8.2607 - val_mae: 2.1725\n",
            "Epoch 61/300\n",
            "9/9 [==============================] - 0s 6ms/step - loss: 1.3421 - mae: 0.8028 - val_loss: 10.9774 - val_mae: 2.4917\n",
            "Epoch 62/300\n",
            "9/9 [==============================] - 0s 20ms/step - loss: 0.8651 - mae: 0.7096 - val_loss: 9.4967 - val_mae: 2.3256\n",
            "Epoch 63/300\n",
            "9/9 [==============================] - 0s 24ms/step - loss: 1.0053 - mae: 0.7572 - val_loss: 11.5350 - val_mae: 2.4960\n",
            "Epoch 64/300\n",
            "9/9 [==============================] - 0s 23ms/step - loss: 1.0124 - mae: 0.7638 - val_loss: 10.6054 - val_mae: 2.4050\n",
            "Epoch 65/300\n",
            "9/9 [==============================] - 0s 28ms/step - loss: 1.0663 - mae: 0.7977 - val_loss: 12.7100 - val_mae: 2.5881\n",
            "Epoch 66/300\n",
            "9/9 [==============================] - 0s 11ms/step - loss: 1.4048 - mae: 0.9381 - val_loss: 15.9174 - val_mae: 2.9089\n",
            "Epoch 67/300\n",
            "9/9 [==============================] - 0s 16ms/step - loss: 2.2351 - mae: 1.2268 - val_loss: 10.6584 - val_mae: 2.4807\n",
            "Epoch 68/300\n",
            "9/9 [==============================] - 0s 8ms/step - loss: 1.7630 - mae: 1.0517 - val_loss: 11.8979 - val_mae: 2.6896\n",
            "Epoch 69/300\n",
            "9/9 [==============================] - 0s 6ms/step - loss: 1.3591 - mae: 0.9139 - val_loss: 10.3296 - val_mae: 2.2786\n",
            "Epoch 70/300\n",
            "9/9 [==============================] - 0s 5ms/step - loss: 0.8608 - mae: 0.6786 - val_loss: 10.7990 - val_mae: 2.4003\n",
            "Epoch 71/300\n",
            "9/9 [==============================] - 0s 6ms/step - loss: 0.8924 - mae: 0.6745 - val_loss: 12.5858 - val_mae: 2.5438\n",
            "Epoch 72/300\n",
            "9/9 [==============================] - 0s 8ms/step - loss: 1.0138 - mae: 0.8109 - val_loss: 11.9697 - val_mae: 2.5541\n",
            "Epoch 73/300\n",
            "9/9 [==============================] - 0s 6ms/step - loss: 0.7308 - mae: 0.6426 - val_loss: 10.9790 - val_mae: 2.3887\n",
            "Epoch 74/300\n",
            "9/9 [==============================] - 0s 6ms/step - loss: 0.6326 - mae: 0.5954 - val_loss: 9.7426 - val_mae: 2.3080\n",
            "Epoch 75/300\n",
            "9/9 [==============================] - 0s 6ms/step - loss: 0.4398 - mae: 0.5051 - val_loss: 11.1564 - val_mae: 2.4248\n",
            "Epoch 76/300\n",
            "9/9 [==============================] - 0s 8ms/step - loss: 0.4269 - mae: 0.4892 - val_loss: 10.2430 - val_mae: 2.4258\n",
            "Epoch 77/300\n",
            "9/9 [==============================] - 0s 7ms/step - loss: 0.6765 - mae: 0.6363 - val_loss: 10.6574 - val_mae: 2.4485\n",
            "Epoch 78/300\n",
            "9/9 [==============================] - 0s 9ms/step - loss: 0.6274 - mae: 0.5960 - val_loss: 10.8279 - val_mae: 2.3717\n",
            "Epoch 79/300\n",
            "9/9 [==============================] - 0s 6ms/step - loss: 0.3524 - mae: 0.4375 - val_loss: 10.5129 - val_mae: 2.3629\n",
            "Epoch 80/300\n",
            "9/9 [==============================] - 0s 6ms/step - loss: 0.3388 - mae: 0.4292 - val_loss: 10.8714 - val_mae: 2.4015\n",
            "Epoch 81/300\n",
            "9/9 [==============================] - 0s 5ms/step - loss: 0.4314 - mae: 0.4867 - val_loss: 11.8073 - val_mae: 2.4589\n",
            "Epoch 82/300\n",
            "9/9 [==============================] - 0s 6ms/step - loss: 0.5200 - mae: 0.5205 - val_loss: 10.8135 - val_mae: 2.3875\n",
            "Epoch 83/300\n",
            "9/9 [==============================] - 0s 6ms/step - loss: 0.4923 - mae: 0.5262 - val_loss: 11.1736 - val_mae: 2.5170\n",
            "Epoch 84/300\n",
            "9/9 [==============================] - 0s 6ms/step - loss: 0.6606 - mae: 0.6348 - val_loss: 11.1463 - val_mae: 2.4877\n",
            "Epoch 85/300\n",
            "9/9 [==============================] - 0s 6ms/step - loss: 0.7452 - mae: 0.6589 - val_loss: 9.8721 - val_mae: 2.3769\n",
            "Epoch 86/300\n",
            "9/9 [==============================] - 0s 6ms/step - loss: 0.7783 - mae: 0.6268 - val_loss: 13.2717 - val_mae: 2.5810\n",
            "Epoch 87/300\n",
            "9/9 [==============================] - 0s 7ms/step - loss: 1.0024 - mae: 0.7558 - val_loss: 9.9483 - val_mae: 2.3691\n",
            "Epoch 88/300\n",
            "9/9 [==============================] - 0s 8ms/step - loss: 1.0057 - mae: 0.7194 - val_loss: 11.1399 - val_mae: 2.4407\n",
            "Epoch 89/300\n",
            "9/9 [==============================] - 0s 6ms/step - loss: 0.9257 - mae: 0.7123 - val_loss: 9.7472 - val_mae: 2.3976\n",
            "Epoch 90/300\n",
            "9/9 [==============================] - 0s 8ms/step - loss: 1.0528 - mae: 0.7253 - val_loss: 11.2950 - val_mae: 2.4636\n",
            "Epoch 91/300\n",
            "9/9 [==============================] - 0s 11ms/step - loss: 1.0578 - mae: 0.7598 - val_loss: 11.3860 - val_mae: 2.4702\n",
            "Epoch 92/300\n",
            "9/9 [==============================] - 0s 20ms/step - loss: 0.7516 - mae: 0.6434 - val_loss: 9.5873 - val_mae: 2.3146\n",
            "Epoch 93/300\n",
            "9/9 [==============================] - 0s 26ms/step - loss: 0.6437 - mae: 0.6017 - val_loss: 11.0349 - val_mae: 2.4751\n",
            "Epoch 94/300\n",
            "9/9 [==============================] - 0s 6ms/step - loss: 0.5988 - mae: 0.5727 - val_loss: 10.1981 - val_mae: 2.3753\n",
            "Epoch 95/300\n",
            "9/9 [==============================] - 0s 6ms/step - loss: 0.3913 - mae: 0.4466 - val_loss: 10.1209 - val_mae: 2.3774\n",
            "Epoch 96/300\n",
            "9/9 [==============================] - 0s 7ms/step - loss: 0.3705 - mae: 0.4207 - val_loss: 9.9633 - val_mae: 2.3964\n",
            "Epoch 97/300\n",
            "9/9 [==============================] - 0s 6ms/step - loss: 0.3785 - mae: 0.4534 - val_loss: 9.7232 - val_mae: 2.3354\n",
            "Epoch 98/300\n",
            "9/9 [==============================] - 0s 10ms/step - loss: 0.3682 - mae: 0.4650 - val_loss: 10.0636 - val_mae: 2.3707\n",
            "Epoch 99/300\n",
            "9/9 [==============================] - 0s 15ms/step - loss: 0.3539 - mae: 0.4197 - val_loss: 10.6009 - val_mae: 2.3736\n",
            "Epoch 100/300\n",
            "9/9 [==============================] - 0s 18ms/step - loss: 0.3425 - mae: 0.4403 - val_loss: 10.6180 - val_mae: 2.4432\n",
            "Epoch 101/300\n",
            "9/9 [==============================] - 0s 8ms/step - loss: 0.4295 - mae: 0.4908 - val_loss: 11.4857 - val_mae: 2.4366\n",
            "Epoch 102/300\n",
            "9/9 [==============================] - 0s 6ms/step - loss: 0.5246 - mae: 0.5322 - val_loss: 10.5562 - val_mae: 2.4620\n",
            "Epoch 103/300\n",
            "9/9 [==============================] - 0s 7ms/step - loss: 0.5760 - mae: 0.5630 - val_loss: 10.9763 - val_mae: 2.4523\n",
            "Epoch 104/300\n",
            "9/9 [==============================] - 0s 7ms/step - loss: 0.6385 - mae: 0.5771 - val_loss: 10.8450 - val_mae: 2.4754\n",
            "Epoch 105/300\n",
            "9/9 [==============================] - 0s 5ms/step - loss: 0.5429 - mae: 0.5482 - val_loss: 11.4967 - val_mae: 2.5277\n",
            "Epoch 106/300\n",
            "9/9 [==============================] - 0s 6ms/step - loss: 0.5016 - mae: 0.5251 - val_loss: 10.1982 - val_mae: 2.3676\n",
            "Epoch 107/300\n",
            "9/9 [==============================] - 0s 8ms/step - loss: 0.3378 - mae: 0.4447 - val_loss: 11.6826 - val_mae: 2.4677\n",
            "Epoch 108/300\n",
            "9/9 [==============================] - 0s 11ms/step - loss: 0.2999 - mae: 0.3990 - val_loss: 9.8785 - val_mae: 2.3708\n",
            "Epoch 109/300\n",
            "9/9 [==============================] - 0s 8ms/step - loss: 0.3244 - mae: 0.4072 - val_loss: 12.3593 - val_mae: 2.5415\n",
            "Epoch 110/300\n",
            "9/9 [==============================] - 0s 6ms/step - loss: 0.4054 - mae: 0.4818 - val_loss: 9.6248 - val_mae: 2.3660\n",
            "Epoch 111/300\n",
            "9/9 [==============================] - 0s 8ms/step - loss: 0.3885 - mae: 0.4492 - val_loss: 11.7628 - val_mae: 2.5338\n",
            "Epoch 112/300\n",
            "9/9 [==============================] - 0s 13ms/step - loss: 0.6211 - mae: 0.5917 - val_loss: 10.3133 - val_mae: 2.3955\n",
            "Epoch 113/300\n",
            "9/9 [==============================] - 0s 26ms/step - loss: 0.7783 - mae: 0.6457 - val_loss: 11.8581 - val_mae: 2.5563\n",
            "Epoch 114/300\n",
            "9/9 [==============================] - 0s 8ms/step - loss: 1.1277 - mae: 0.8057 - val_loss: 9.9328 - val_mae: 2.3737\n",
            "Epoch 115/300\n",
            "9/9 [==============================] - 0s 8ms/step - loss: 1.1573 - mae: 0.8079 - val_loss: 10.7846 - val_mae: 2.4728\n",
            "Epoch 116/300\n",
            "9/9 [==============================] - 0s 8ms/step - loss: 1.0768 - mae: 0.8119 - val_loss: 10.9377 - val_mae: 2.4672\n",
            "Epoch 117/300\n",
            "9/9 [==============================] - 0s 16ms/step - loss: 0.9052 - mae: 0.7344 - val_loss: 11.3553 - val_mae: 2.4926\n",
            "Epoch 118/300\n",
            "9/9 [==============================] - 0s 10ms/step - loss: 1.4262 - mae: 0.9386 - val_loss: 11.8084 - val_mae: 2.5639\n",
            "Epoch 119/300\n",
            "9/9 [==============================] - 0s 5ms/step - loss: 2.2509 - mae: 1.1553 - val_loss: 11.9537 - val_mae: 2.7199\n",
            "Epoch 120/300\n",
            "9/9 [==============================] - 0s 6ms/step - loss: 2.5073 - mae: 1.1872 - val_loss: 11.3726 - val_mae: 2.6031\n",
            "Epoch 121/300\n",
            "9/9 [==============================] - 0s 6ms/step - loss: 1.1576 - mae: 0.7826 - val_loss: 10.3442 - val_mae: 2.3991\n",
            "Epoch 122/300\n",
            "9/9 [==============================] - 0s 10ms/step - loss: 1.0621 - mae: 0.8006 - val_loss: 13.2355 - val_mae: 2.6011\n",
            "Epoch 123/300\n",
            "9/9 [==============================] - 0s 8ms/step - loss: 0.9677 - mae: 0.7503 - val_loss: 11.1863 - val_mae: 2.4037\n",
            "Epoch 124/300\n",
            "9/9 [==============================] - 0s 7ms/step - loss: 0.5808 - mae: 0.5699 - val_loss: 11.1867 - val_mae: 2.3968\n",
            "Epoch 125/300\n",
            "9/9 [==============================] - 0s 10ms/step - loss: 0.9438 - mae: 0.7374 - val_loss: 11.5537 - val_mae: 2.5146\n",
            "Epoch 126/300\n",
            "9/9 [==============================] - 0s 12ms/step - loss: 0.8235 - mae: 0.6877 - val_loss: 11.2620 - val_mae: 2.5378\n",
            "Epoch 127/300\n",
            "9/9 [==============================] - 0s 13ms/step - loss: 0.8958 - mae: 0.7275 - val_loss: 10.9683 - val_mae: 2.4986\n",
            "Epoch 128/300\n",
            "9/9 [==============================] - 0s 10ms/step - loss: 0.6239 - mae: 0.6186 - val_loss: 10.6555 - val_mae: 2.3985\n",
            "Epoch 129/300\n",
            "9/9 [==============================] - 0s 11ms/step - loss: 0.5884 - mae: 0.5772 - val_loss: 9.3089 - val_mae: 2.4018\n",
            "Epoch 130/300\n",
            "9/9 [==============================] - 0s 10ms/step - loss: 0.5635 - mae: 0.5765 - val_loss: 10.3775 - val_mae: 2.3900\n",
            "Epoch 131/300\n",
            "9/9 [==============================] - 0s 14ms/step - loss: 0.4524 - mae: 0.5137 - val_loss: 11.6179 - val_mae: 2.5337\n",
            "Epoch 132/300\n",
            "9/9 [==============================] - 0s 12ms/step - loss: 0.5400 - mae: 0.5505 - val_loss: 11.5795 - val_mae: 2.4516\n",
            "Epoch 133/300\n",
            "9/9 [==============================] - 0s 16ms/step - loss: 0.6316 - mae: 0.6134 - val_loss: 11.6327 - val_mae: 2.5767\n",
            "Epoch 134/300\n",
            "9/9 [==============================] - 0s 30ms/step - loss: 0.5839 - mae: 0.5798 - val_loss: 10.1773 - val_mae: 2.3658\n",
            "Epoch 135/300\n",
            "9/9 [==============================] - 0s 23ms/step - loss: 0.6124 - mae: 0.5988 - val_loss: 12.3501 - val_mae: 2.5931\n",
            "Epoch 136/300\n",
            "9/9 [==============================] - 0s 16ms/step - loss: 0.6109 - mae: 0.5857 - val_loss: 10.1203 - val_mae: 2.3125\n",
            "Epoch 137/300\n",
            "9/9 [==============================] - 0s 10ms/step - loss: 0.4751 - mae: 0.5128 - val_loss: 11.4946 - val_mae: 2.5221\n",
            "Epoch 138/300\n",
            "9/9 [==============================] - 0s 10ms/step - loss: 0.6886 - mae: 0.6220 - val_loss: 11.3702 - val_mae: 2.5063\n",
            "Epoch 139/300\n",
            "9/9 [==============================] - 0s 14ms/step - loss: 0.6174 - mae: 0.5811 - val_loss: 12.2339 - val_mae: 2.6435\n",
            "Epoch 140/300\n",
            "9/9 [==============================] - 0s 19ms/step - loss: 0.6760 - mae: 0.6346 - val_loss: 10.8974 - val_mae: 2.4215\n",
            "Epoch 141/300\n",
            "9/9 [==============================] - 0s 15ms/step - loss: 0.3938 - mae: 0.4891 - val_loss: 11.8979 - val_mae: 2.5426\n",
            "Epoch 142/300\n",
            "9/9 [==============================] - 0s 18ms/step - loss: 0.4257 - mae: 0.4891 - val_loss: 10.2103 - val_mae: 2.3524\n",
            "Epoch 143/300\n",
            "9/9 [==============================] - 0s 11ms/step - loss: 0.5252 - mae: 0.5539 - val_loss: 11.3358 - val_mae: 2.4845\n",
            "Epoch 144/300\n",
            "9/9 [==============================] - 0s 6ms/step - loss: 0.4839 - mae: 0.5311 - val_loss: 12.1496 - val_mae: 2.4933\n",
            "Epoch 145/300\n",
            "9/9 [==============================] - 0s 6ms/step - loss: 0.7565 - mae: 0.6460 - val_loss: 9.4758 - val_mae: 2.3222\n",
            "Epoch 146/300\n",
            "9/9 [==============================] - 0s 13ms/step - loss: 1.2774 - mae: 0.8320 - val_loss: 11.2856 - val_mae: 2.5795\n",
            "Epoch 147/300\n",
            "9/9 [==============================] - 0s 14ms/step - loss: 1.0015 - mae: 0.7956 - val_loss: 10.2768 - val_mae: 2.4721\n",
            "Epoch 148/300\n",
            "9/9 [==============================] - 0s 22ms/step - loss: 1.2832 - mae: 0.8281 - val_loss: 10.2006 - val_mae: 2.4476\n",
            "Epoch 149/300\n",
            "9/9 [==============================] - 0s 11ms/step - loss: 1.0323 - mae: 0.7729 - val_loss: 10.3631 - val_mae: 2.4365\n",
            "Epoch 150/300\n",
            "9/9 [==============================] - 0s 9ms/step - loss: 1.0859 - mae: 0.7449 - val_loss: 10.3194 - val_mae: 2.3652\n",
            "Epoch 151/300\n",
            "9/9 [==============================] - 0s 7ms/step - loss: 0.9245 - mae: 0.7190 - val_loss: 11.9105 - val_mae: 2.5761\n",
            "Epoch 152/300\n",
            "9/9 [==============================] - 0s 8ms/step - loss: 0.7629 - mae: 0.6758 - val_loss: 11.9363 - val_mae: 2.5590\n",
            "Epoch 153/300\n",
            "9/9 [==============================] - 0s 8ms/step - loss: 0.8989 - mae: 0.7352 - val_loss: 12.9286 - val_mae: 2.6101\n",
            "Epoch 154/300\n",
            "9/9 [==============================] - 0s 8ms/step - loss: 1.1465 - mae: 0.8131 - val_loss: 11.4960 - val_mae: 2.5002\n",
            "Epoch 155/300\n",
            "9/9 [==============================] - 0s 6ms/step - loss: 1.3097 - mae: 0.8899 - val_loss: 10.2265 - val_mae: 2.4377\n",
            "Epoch 156/300\n",
            "9/9 [==============================] - 0s 6ms/step - loss: 1.0829 - mae: 0.7784 - val_loss: 11.9615 - val_mae: 2.6662\n",
            "Epoch 157/300\n",
            "9/9 [==============================] - 0s 6ms/step - loss: 0.9424 - mae: 0.7728 - val_loss: 10.8484 - val_mae: 2.3883\n",
            "Epoch 158/300\n",
            "9/9 [==============================] - 0s 6ms/step - loss: 0.7337 - mae: 0.6323 - val_loss: 13.0599 - val_mae: 2.6482\n",
            "Epoch 159/300\n",
            "9/9 [==============================] - 0s 6ms/step - loss: 0.6489 - mae: 0.5998 - val_loss: 8.9617 - val_mae: 2.2392\n",
            "Epoch 160/300\n",
            "9/9 [==============================] - 0s 6ms/step - loss: 0.5314 - mae: 0.5406 - val_loss: 10.3880 - val_mae: 2.4372\n",
            "Epoch 161/300\n",
            "9/9 [==============================] - 0s 7ms/step - loss: 0.5187 - mae: 0.5424 - val_loss: 10.3145 - val_mae: 2.4262\n",
            "Epoch 162/300\n",
            "9/9 [==============================] - 0s 6ms/step - loss: 0.4497 - mae: 0.5015 - val_loss: 10.6504 - val_mae: 2.4478\n",
            "Epoch 163/300\n",
            "9/9 [==============================] - 0s 7ms/step - loss: 0.5369 - mae: 0.5567 - val_loss: 11.7722 - val_mae: 2.4897\n",
            "Epoch 164/300\n",
            "9/9 [==============================] - 0s 6ms/step - loss: 0.4424 - mae: 0.5059 - val_loss: 12.0453 - val_mae: 2.5277\n",
            "Epoch 165/300\n",
            "9/9 [==============================] - 0s 8ms/step - loss: 0.5842 - mae: 0.5416 - val_loss: 10.5741 - val_mae: 2.3781\n",
            "Epoch 166/300\n",
            "9/9 [==============================] - 0s 6ms/step - loss: 0.5768 - mae: 0.5675 - val_loss: 9.9343 - val_mae: 2.3420\n",
            "Epoch 167/300\n",
            "9/9 [==============================] - 0s 7ms/step - loss: 0.5631 - mae: 0.5210 - val_loss: 10.0491 - val_mae: 2.3696\n",
            "Epoch 168/300\n",
            "9/9 [==============================] - 0s 6ms/step - loss: 0.3757 - mae: 0.4622 - val_loss: 10.4332 - val_mae: 2.4297\n",
            "Epoch 169/300\n",
            "9/9 [==============================] - 0s 8ms/step - loss: 0.3401 - mae: 0.4194 - val_loss: 10.6047 - val_mae: 2.3651\n",
            "Epoch 170/300\n",
            "9/9 [==============================] - 0s 6ms/step - loss: 0.2396 - mae: 0.3499 - val_loss: 10.4524 - val_mae: 2.4058\n",
            "Epoch 171/300\n",
            "9/9 [==============================] - 0s 8ms/step - loss: 0.4247 - mae: 0.4806 - val_loss: 10.4327 - val_mae: 2.4028\n",
            "Epoch 172/300\n",
            "9/9 [==============================] - 0s 8ms/step - loss: 0.6073 - mae: 0.5810 - val_loss: 11.3841 - val_mae: 2.4933\n",
            "Epoch 173/300\n",
            "9/9 [==============================] - 0s 6ms/step - loss: 0.5539 - mae: 0.5452 - val_loss: 10.4836 - val_mae: 2.3338\n",
            "Epoch 174/300\n",
            "9/9 [==============================] - 0s 6ms/step - loss: 0.4197 - mae: 0.4985 - val_loss: 9.5747 - val_mae: 2.3325\n",
            "Epoch 175/300\n",
            "9/9 [==============================] - 0s 6ms/step - loss: 0.3896 - mae: 0.4673 - val_loss: 10.5609 - val_mae: 2.4666\n",
            "Epoch 176/300\n",
            "9/9 [==============================] - 0s 7ms/step - loss: 0.3303 - mae: 0.4317 - val_loss: 10.5213 - val_mae: 2.4179\n",
            "Epoch 177/300\n",
            "9/9 [==============================] - 0s 7ms/step - loss: 0.2664 - mae: 0.3782 - val_loss: 11.3905 - val_mae: 2.4724\n",
            "Epoch 178/300\n",
            "9/9 [==============================] - 0s 6ms/step - loss: 0.2616 - mae: 0.3929 - val_loss: 10.2958 - val_mae: 2.3947\n",
            "Epoch 179/300\n",
            "9/9 [==============================] - 0s 6ms/step - loss: 0.3450 - mae: 0.4500 - val_loss: 11.7129 - val_mae: 2.5107\n",
            "Epoch 180/300\n",
            "9/9 [==============================] - 0s 7ms/step - loss: 0.4286 - mae: 0.4417 - val_loss: 10.5886 - val_mae: 2.4370\n",
            "Epoch 181/300\n",
            "9/9 [==============================] - 0s 8ms/step - loss: 0.3168 - mae: 0.4075 - val_loss: 11.3750 - val_mae: 2.4730\n",
            "Epoch 182/300\n",
            "9/9 [==============================] - 0s 6ms/step - loss: 0.2252 - mae: 0.3212 - val_loss: 10.9187 - val_mae: 2.3935\n",
            "Epoch 183/300\n",
            "9/9 [==============================] - 0s 6ms/step - loss: 0.2094 - mae: 0.3148 - val_loss: 11.3250 - val_mae: 2.4540\n",
            "Epoch 184/300\n",
            "9/9 [==============================] - 0s 8ms/step - loss: 0.1806 - mae: 0.2959 - val_loss: 10.2146 - val_mae: 2.3431\n",
            "Epoch 185/300\n",
            "9/9 [==============================] - 0s 8ms/step - loss: 0.1717 - mae: 0.2947 - val_loss: 11.3869 - val_mae: 2.4765\n",
            "Epoch 186/300\n",
            "9/9 [==============================] - 0s 6ms/step - loss: 0.1805 - mae: 0.2996 - val_loss: 10.7664 - val_mae: 2.3865\n",
            "Epoch 187/300\n",
            "9/9 [==============================] - 0s 6ms/step - loss: 0.1930 - mae: 0.3139 - val_loss: 10.9328 - val_mae: 2.4555\n",
            "Epoch 188/300\n",
            "9/9 [==============================] - 0s 6ms/step - loss: 0.2262 - mae: 0.3646 - val_loss: 10.6146 - val_mae: 2.4190\n",
            "Epoch 189/300\n",
            "9/9 [==============================] - 0s 6ms/step - loss: 0.2144 - mae: 0.3415 - val_loss: 11.0507 - val_mae: 2.4366\n",
            "Epoch 190/300\n",
            "9/9 [==============================] - 0s 6ms/step - loss: 0.2796 - mae: 0.3828 - val_loss: 11.2409 - val_mae: 2.4282\n",
            "Epoch 191/300\n",
            "9/9 [==============================] - 0s 6ms/step - loss: 0.3100 - mae: 0.4128 - val_loss: 10.7041 - val_mae: 2.5066\n",
            "Epoch 192/300\n",
            "9/9 [==============================] - 0s 6ms/step - loss: 0.3198 - mae: 0.4414 - val_loss: 10.7811 - val_mae: 2.4793\n",
            "Epoch 193/300\n",
            "9/9 [==============================] - 0s 9ms/step - loss: 0.3071 - mae: 0.4339 - val_loss: 11.2775 - val_mae: 2.4732\n",
            "Epoch 194/300\n",
            "9/9 [==============================] - 0s 6ms/step - loss: 0.3373 - mae: 0.4179 - val_loss: 10.1941 - val_mae: 2.3908\n",
            "Epoch 195/300\n",
            "9/9 [==============================] - 0s 6ms/step - loss: 0.2846 - mae: 0.3843 - val_loss: 11.1665 - val_mae: 2.5445\n",
            "Epoch 196/300\n",
            "9/9 [==============================] - 0s 6ms/step - loss: 0.3278 - mae: 0.4246 - val_loss: 10.6328 - val_mae: 2.4778\n",
            "Epoch 197/300\n",
            "9/9 [==============================] - 0s 8ms/step - loss: 0.4165 - mae: 0.4785 - val_loss: 10.9019 - val_mae: 2.4475\n",
            "Epoch 198/300\n",
            "9/9 [==============================] - 0s 6ms/step - loss: 0.4923 - mae: 0.4869 - val_loss: 10.1954 - val_mae: 2.4435\n",
            "Epoch 199/300\n",
            "9/9 [==============================] - 0s 6ms/step - loss: 0.4613 - mae: 0.4561 - val_loss: 11.3920 - val_mae: 2.4474\n",
            "Epoch 200/300\n",
            "9/9 [==============================] - 0s 6ms/step - loss: 0.3177 - mae: 0.4093 - val_loss: 10.8751 - val_mae: 2.4827\n",
            "Epoch 201/300\n",
            "9/9 [==============================] - 0s 7ms/step - loss: 0.2592 - mae: 0.3797 - val_loss: 11.0759 - val_mae: 2.4964\n",
            "Epoch 202/300\n",
            "9/9 [==============================] - 0s 7ms/step - loss: 0.2406 - mae: 0.3472 - val_loss: 11.4175 - val_mae: 2.5045\n",
            "Epoch 203/300\n",
            "9/9 [==============================] - 0s 8ms/step - loss: 0.2504 - mae: 0.3648 - val_loss: 11.7768 - val_mae: 2.4924\n",
            "Epoch 204/300\n",
            "9/9 [==============================] - 0s 8ms/step - loss: 0.2494 - mae: 0.3786 - val_loss: 11.8070 - val_mae: 2.4774\n",
            "Epoch 205/300\n",
            "9/9 [==============================] - 0s 6ms/step - loss: 0.2594 - mae: 0.3902 - val_loss: 11.4906 - val_mae: 2.4670\n",
            "Epoch 206/300\n",
            "9/9 [==============================] - 0s 6ms/step - loss: 0.2295 - mae: 0.3683 - val_loss: 11.4101 - val_mae: 2.5065\n",
            "Epoch 207/300\n",
            "9/9 [==============================] - 0s 6ms/step - loss: 0.1905 - mae: 0.3224 - val_loss: 11.4754 - val_mae: 2.4998\n",
            "Epoch 208/300\n",
            "9/9 [==============================] - 0s 7ms/step - loss: 0.1773 - mae: 0.3091 - val_loss: 11.8965 - val_mae: 2.4983\n",
            "Epoch 209/300\n",
            "9/9 [==============================] - 0s 8ms/step - loss: 0.2590 - mae: 0.3916 - val_loss: 11.6667 - val_mae: 2.4668\n",
            "Epoch 210/300\n",
            "9/9 [==============================] - 0s 8ms/step - loss: 0.2150 - mae: 0.3361 - val_loss: 11.3065 - val_mae: 2.4851\n",
            "Epoch 211/300\n",
            "9/9 [==============================] - 0s 8ms/step - loss: 0.1848 - mae: 0.3083 - val_loss: 11.1739 - val_mae: 2.4625\n",
            "Epoch 212/300\n",
            "9/9 [==============================] - 0s 8ms/step - loss: 0.1774 - mae: 0.2766 - val_loss: 11.3776 - val_mae: 2.5150\n",
            "Epoch 213/300\n",
            "9/9 [==============================] - 0s 6ms/step - loss: 0.1712 - mae: 0.3071 - val_loss: 11.3051 - val_mae: 2.4901\n",
            "Epoch 214/300\n",
            "9/9 [==============================] - 0s 6ms/step - loss: 0.1668 - mae: 0.2904 - val_loss: 11.5735 - val_mae: 2.4796\n",
            "Epoch 215/300\n",
            "9/9 [==============================] - 0s 6ms/step - loss: 0.1630 - mae: 0.2923 - val_loss: 11.2914 - val_mae: 2.4913\n",
            "Epoch 216/300\n",
            "9/9 [==============================] - 0s 6ms/step - loss: 0.2491 - mae: 0.3669 - val_loss: 12.2921 - val_mae: 2.5852\n",
            "Epoch 217/300\n",
            "9/9 [==============================] - 0s 9ms/step - loss: 0.4649 - mae: 0.4941 - val_loss: 10.4147 - val_mae: 2.4590\n",
            "Epoch 218/300\n",
            "9/9 [==============================] - 0s 6ms/step - loss: 0.5825 - mae: 0.5826 - val_loss: 11.4826 - val_mae: 2.5472\n",
            "Epoch 219/300\n",
            "9/9 [==============================] - 0s 6ms/step - loss: 0.5075 - mae: 0.5208 - val_loss: 12.2019 - val_mae: 2.5928\n",
            "Epoch 220/300\n",
            "9/9 [==============================] - 0s 8ms/step - loss: 0.4983 - mae: 0.5127 - val_loss: 9.9611 - val_mae: 2.3965\n",
            "Epoch 221/300\n",
            "9/9 [==============================] - 0s 8ms/step - loss: 1.1295 - mae: 0.7668 - val_loss: 13.3751 - val_mae: 2.7864\n",
            "Epoch 222/300\n",
            "9/9 [==============================] - 0s 6ms/step - loss: 1.5457 - mae: 0.8165 - val_loss: 10.4186 - val_mae: 2.4532\n",
            "Epoch 223/300\n",
            "9/9 [==============================] - 0s 7ms/step - loss: 1.4025 - mae: 0.8313 - val_loss: 10.1711 - val_mae: 2.4763\n",
            "Epoch 224/300\n",
            "9/9 [==============================] - 0s 6ms/step - loss: 1.4354 - mae: 0.9066 - val_loss: 12.6327 - val_mae: 2.7022\n",
            "Epoch 225/300\n",
            "9/9 [==============================] - 0s 6ms/step - loss: 1.8491 - mae: 1.0524 - val_loss: 8.1400 - val_mae: 2.1798\n",
            "Epoch 226/300\n",
            "9/9 [==============================] - 0s 6ms/step - loss: 1.5296 - mae: 0.8423 - val_loss: 9.7736 - val_mae: 2.4820\n",
            "Epoch 227/300\n",
            "9/9 [==============================] - 0s 6ms/step - loss: 2.5332 - mae: 1.1995 - val_loss: 9.0359 - val_mae: 2.2764\n",
            "Epoch 228/300\n",
            "9/9 [==============================] - 0s 6ms/step - loss: 3.8520 - mae: 1.4598 - val_loss: 14.0027 - val_mae: 2.9029\n",
            "Epoch 229/300\n",
            "9/9 [==============================] - 0s 6ms/step - loss: 2.5560 - mae: 1.2509 - val_loss: 10.2519 - val_mae: 2.4373\n",
            "Epoch 230/300\n",
            "9/9 [==============================] - 0s 6ms/step - loss: 1.6627 - mae: 0.9626 - val_loss: 11.3033 - val_mae: 2.4680\n",
            "Epoch 231/300\n",
            "9/9 [==============================] - 0s 7ms/step - loss: 1.2471 - mae: 0.8328 - val_loss: 9.4955 - val_mae: 2.4072\n",
            "Epoch 232/300\n",
            "9/9 [==============================] - 0s 8ms/step - loss: 0.8788 - mae: 0.7011 - val_loss: 11.7883 - val_mae: 2.5785\n",
            "Epoch 233/300\n",
            "9/9 [==============================] - 0s 6ms/step - loss: 0.8077 - mae: 0.6479 - val_loss: 9.7743 - val_mae: 2.3211\n",
            "Epoch 234/300\n",
            "9/9 [==============================] - 0s 7ms/step - loss: 0.9509 - mae: 0.6726 - val_loss: 12.6021 - val_mae: 2.6134\n",
            "Epoch 235/300\n",
            "9/9 [==============================] - 0s 6ms/step - loss: 0.8755 - mae: 0.6656 - val_loss: 10.6928 - val_mae: 2.4532\n",
            "Epoch 236/300\n",
            "9/9 [==============================] - 0s 7ms/step - loss: 0.7966 - mae: 0.6177 - val_loss: 10.8113 - val_mae: 2.5432\n",
            "Epoch 237/300\n",
            "9/9 [==============================] - 0s 7ms/step - loss: 0.9414 - mae: 0.7432 - val_loss: 10.4499 - val_mae: 2.3789\n",
            "Epoch 238/300\n",
            "9/9 [==============================] - 0s 6ms/step - loss: 1.2942 - mae: 0.8806 - val_loss: 9.0556 - val_mae: 2.3041\n",
            "Epoch 239/300\n",
            "9/9 [==============================] - 0s 7ms/step - loss: 0.8307 - mae: 0.7220 - val_loss: 9.3399 - val_mae: 2.4033\n",
            "Epoch 240/300\n",
            "9/9 [==============================] - 0s 6ms/step - loss: 0.8264 - mae: 0.6892 - val_loss: 10.8020 - val_mae: 2.4648\n",
            "Epoch 241/300\n",
            "9/9 [==============================] - 0s 6ms/step - loss: 0.7227 - mae: 0.6036 - val_loss: 9.6160 - val_mae: 2.3624\n",
            "Epoch 242/300\n",
            "9/9 [==============================] - 0s 7ms/step - loss: 0.5760 - mae: 0.5372 - val_loss: 9.9458 - val_mae: 2.3700\n",
            "Epoch 243/300\n",
            "9/9 [==============================] - 0s 6ms/step - loss: 0.3495 - mae: 0.4442 - val_loss: 10.5530 - val_mae: 2.4505\n",
            "Epoch 244/300\n",
            "9/9 [==============================] - 0s 6ms/step - loss: 0.5005 - mae: 0.5093 - val_loss: 10.5080 - val_mae: 2.4693\n",
            "Epoch 245/300\n",
            "9/9 [==============================] - 0s 6ms/step - loss: 0.5070 - mae: 0.5477 - val_loss: 9.6930 - val_mae: 2.3801\n",
            "Epoch 246/300\n",
            "9/9 [==============================] - 0s 8ms/step - loss: 0.3975 - mae: 0.4953 - val_loss: 9.3326 - val_mae: 2.3448\n",
            "Epoch 247/300\n",
            "9/9 [==============================] - 0s 8ms/step - loss: 0.3491 - mae: 0.4517 - val_loss: 9.5614 - val_mae: 2.3345\n",
            "Epoch 248/300\n",
            "9/9 [==============================] - 0s 6ms/step - loss: 0.3389 - mae: 0.4283 - val_loss: 9.4985 - val_mae: 2.3919\n",
            "Epoch 249/300\n",
            "9/9 [==============================] - 0s 6ms/step - loss: 0.2379 - mae: 0.3394 - val_loss: 9.5726 - val_mae: 2.3552\n",
            "Epoch 250/300\n",
            "9/9 [==============================] - 0s 6ms/step - loss: 0.2057 - mae: 0.3256 - val_loss: 10.4230 - val_mae: 2.4188\n",
            "Epoch 251/300\n",
            "9/9 [==============================] - 0s 6ms/step - loss: 0.2260 - mae: 0.3319 - val_loss: 9.0168 - val_mae: 2.2880\n",
            "Epoch 252/300\n",
            "9/9 [==============================] - 0s 7ms/step - loss: 0.2659 - mae: 0.3593 - val_loss: 9.5703 - val_mae: 2.3757\n",
            "Epoch 253/300\n",
            "9/9 [==============================] - 0s 6ms/step - loss: 0.1562 - mae: 0.2762 - val_loss: 9.1637 - val_mae: 2.2954\n",
            "Epoch 254/300\n",
            "9/9 [==============================] - 0s 12ms/step - loss: 0.1624 - mae: 0.2751 - val_loss: 10.0016 - val_mae: 2.3716\n",
            "Epoch 255/300\n",
            "9/9 [==============================] - 0s 22ms/step - loss: 0.1659 - mae: 0.2780 - val_loss: 9.8222 - val_mae: 2.3656\n",
            "Epoch 256/300\n",
            "9/9 [==============================] - 0s 12ms/step - loss: 0.1528 - mae: 0.2867 - val_loss: 9.8163 - val_mae: 2.3997\n",
            "Epoch 257/300\n",
            "9/9 [==============================] - 0s 6ms/step - loss: 0.1797 - mae: 0.3041 - val_loss: 10.0727 - val_mae: 2.4081\n",
            "Epoch 258/300\n",
            "9/9 [==============================] - 0s 7ms/step - loss: 0.1531 - mae: 0.2645 - val_loss: 9.7477 - val_mae: 2.3602\n",
            "Epoch 259/300\n",
            "9/9 [==============================] - 0s 6ms/step - loss: 0.1674 - mae: 0.2854 - val_loss: 10.1896 - val_mae: 2.3905\n",
            "Epoch 260/300\n",
            "9/9 [==============================] - 0s 8ms/step - loss: 0.2076 - mae: 0.3287 - val_loss: 9.4249 - val_mae: 2.3211\n",
            "Epoch 261/300\n",
            "9/9 [==============================] - 0s 8ms/step - loss: 0.1676 - mae: 0.2949 - val_loss: 10.4041 - val_mae: 2.4333\n",
            "Epoch 262/300\n",
            "9/9 [==============================] - 0s 7ms/step - loss: 0.1380 - mae: 0.2608 - val_loss: 9.2107 - val_mae: 2.3536\n",
            "Epoch 263/300\n",
            "9/9 [==============================] - 0s 6ms/step - loss: 0.1569 - mae: 0.2811 - val_loss: 10.5804 - val_mae: 2.4584\n",
            "Epoch 264/300\n",
            "9/9 [==============================] - 0s 6ms/step - loss: 0.1980 - mae: 0.3369 - val_loss: 9.1997 - val_mae: 2.3199\n",
            "Epoch 265/300\n",
            "9/9 [==============================] - 0s 9ms/step - loss: 0.2810 - mae: 0.3978 - val_loss: 11.1289 - val_mae: 2.5726\n",
            "Epoch 266/300\n",
            "9/9 [==============================] - 0s 7ms/step - loss: 0.2795 - mae: 0.4081 - val_loss: 9.8607 - val_mae: 2.3817\n",
            "Epoch 267/300\n",
            "9/9 [==============================] - 0s 8ms/step - loss: 0.2484 - mae: 0.3687 - val_loss: 10.9926 - val_mae: 2.5115\n",
            "Epoch 268/300\n",
            "9/9 [==============================] - 0s 6ms/step - loss: 0.2475 - mae: 0.3762 - val_loss: 9.9928 - val_mae: 2.4289\n",
            "Epoch 269/300\n",
            "9/9 [==============================] - 0s 6ms/step - loss: 0.1968 - mae: 0.3497 - val_loss: 10.0001 - val_mae: 2.3927\n",
            "Epoch 270/300\n",
            "9/9 [==============================] - 0s 6ms/step - loss: 0.1624 - mae: 0.2860 - val_loss: 10.7896 - val_mae: 2.4541\n",
            "Epoch 271/300\n",
            "9/9 [==============================] - 0s 7ms/step - loss: 0.1531 - mae: 0.2950 - val_loss: 10.3886 - val_mae: 2.4536\n",
            "Epoch 272/300\n",
            "9/9 [==============================] - 0s 8ms/step - loss: 0.1865 - mae: 0.3318 - val_loss: 11.2261 - val_mae: 2.5097\n",
            "Epoch 273/300\n",
            "9/9 [==============================] - 0s 9ms/step - loss: 0.2021 - mae: 0.3398 - val_loss: 9.7124 - val_mae: 2.3944\n",
            "Epoch 274/300\n",
            "9/9 [==============================] - 0s 8ms/step - loss: 0.2312 - mae: 0.3438 - val_loss: 10.2878 - val_mae: 2.4468\n",
            "Epoch 275/300\n",
            "9/9 [==============================] - 0s 7ms/step - loss: 0.3304 - mae: 0.4256 - val_loss: 9.7713 - val_mae: 2.4346\n",
            "Epoch 276/300\n",
            "9/9 [==============================] - 0s 7ms/step - loss: 0.3303 - mae: 0.4187 - val_loss: 10.3409 - val_mae: 2.4189\n",
            "Epoch 277/300\n",
            "9/9 [==============================] - 0s 22ms/step - loss: 0.3640 - mae: 0.4546 - val_loss: 9.2359 - val_mae: 2.4111\n",
            "Epoch 278/300\n",
            "9/9 [==============================] - 0s 17ms/step - loss: 0.4328 - mae: 0.4627 - val_loss: 12.7569 - val_mae: 2.6023\n",
            "Epoch 279/300\n",
            "9/9 [==============================] - 0s 19ms/step - loss: 0.5324 - mae: 0.5043 - val_loss: 8.6775 - val_mae: 2.2577\n",
            "Epoch 280/300\n",
            "9/9 [==============================] - 0s 21ms/step - loss: 0.8448 - mae: 0.6282 - val_loss: 12.6334 - val_mae: 2.6319\n",
            "Epoch 281/300\n",
            "9/9 [==============================] - 0s 17ms/step - loss: 0.8985 - mae: 0.6830 - val_loss: 10.5615 - val_mae: 2.4361\n",
            "Epoch 282/300\n",
            "9/9 [==============================] - 0s 8ms/step - loss: 0.7298 - mae: 0.6176 - val_loss: 10.7542 - val_mae: 2.5747\n",
            "Epoch 283/300\n",
            "9/9 [==============================] - 0s 10ms/step - loss: 0.7201 - mae: 0.6415 - val_loss: 11.9032 - val_mae: 2.5484\n",
            "Epoch 284/300\n",
            "9/9 [==============================] - 0s 7ms/step - loss: 0.6017 - mae: 0.5883 - val_loss: 10.4818 - val_mae: 2.4706\n",
            "Epoch 285/300\n",
            "9/9 [==============================] - 0s 6ms/step - loss: 0.5845 - mae: 0.5983 - val_loss: 10.1525 - val_mae: 2.4862\n",
            "Epoch 286/300\n",
            "9/9 [==============================] - 0s 10ms/step - loss: 0.3671 - mae: 0.4503 - val_loss: 9.6100 - val_mae: 2.4339\n",
            "Epoch 287/300\n",
            "9/9 [==============================] - 0s 10ms/step - loss: 0.2706 - mae: 0.3790 - val_loss: 10.6147 - val_mae: 2.4947\n",
            "Epoch 288/300\n",
            "9/9 [==============================] - 0s 25ms/step - loss: 0.2132 - mae: 0.3500 - val_loss: 10.2931 - val_mae: 2.4184\n",
            "Epoch 289/300\n",
            "9/9 [==============================] - 0s 9ms/step - loss: 0.2706 - mae: 0.3637 - val_loss: 12.1705 - val_mae: 2.6114\n",
            "Epoch 290/300\n",
            "9/9 [==============================] - 0s 7ms/step - loss: 0.3207 - mae: 0.4148 - val_loss: 9.5568 - val_mae: 2.3367\n",
            "Epoch 291/300\n",
            "9/9 [==============================] - 0s 6ms/step - loss: 0.2726 - mae: 0.3930 - val_loss: 11.5290 - val_mae: 2.5285\n",
            "Epoch 292/300\n",
            "9/9 [==============================] - 0s 7ms/step - loss: 0.3244 - mae: 0.4119 - val_loss: 9.9736 - val_mae: 2.3963\n",
            "Epoch 293/300\n",
            "9/9 [==============================] - 0s 6ms/step - loss: 0.2212 - mae: 0.3646 - val_loss: 11.3616 - val_mae: 2.5651\n",
            "Epoch 294/300\n",
            "9/9 [==============================] - 0s 6ms/step - loss: 0.2196 - mae: 0.3540 - val_loss: 9.5793 - val_mae: 2.3668\n",
            "Epoch 295/300\n",
            "9/9 [==============================] - 0s 9ms/step - loss: 0.2079 - mae: 0.3345 - val_loss: 11.9326 - val_mae: 2.5729\n",
            "Epoch 296/300\n",
            "9/9 [==============================] - 0s 8ms/step - loss: 0.3347 - mae: 0.4621 - val_loss: 10.2637 - val_mae: 2.4802\n",
            "Epoch 297/300\n",
            "9/9 [==============================] - 0s 8ms/step - loss: 0.4961 - mae: 0.5310 - val_loss: 11.6494 - val_mae: 2.6200\n",
            "Epoch 298/300\n",
            "9/9 [==============================] - 0s 18ms/step - loss: 0.5316 - mae: 0.5591 - val_loss: 11.7463 - val_mae: 2.5366\n",
            "Epoch 299/300\n",
            "9/9 [==============================] - 0s 13ms/step - loss: 0.5472 - mae: 0.5686 - val_loss: 13.0853 - val_mae: 2.6533\n",
            "Epoch 300/300\n",
            "9/9 [==============================] - 0s 8ms/step - loss: 0.4367 - mae: 0.5172 - val_loss: 10.2649 - val_mae: 2.3979\n"
          ]
        }
      ]
    },
    {
      "cell_type": "markdown",
      "metadata": {
        "id": "1erMMEoeR0rB"
      },
      "source": [
        "### 모델 평가 \n",
        "- `evaluate()`"
      ]
    },
    {
      "cell_type": "code",
      "metadata": {
        "id": "Jo0n0SaZRbD1",
        "colab": {
          "base_uri": "https://localhost:8080/"
        },
        "outputId": "d73fa3ad-2277-424d-daa8-e3dc7c40a530"
      },
      "source": [
        "model.evaluate(x_test,y_test)"
      ],
      "execution_count": null,
      "outputs": [
        {
          "output_type": "stream",
          "name": "stdout",
          "text": [
            "4/4 [==============================] - 0s 5ms/step - loss: 14.6082 - mae: 2.6567\n"
          ]
        },
        {
          "output_type": "execute_result",
          "data": {
            "text/plain": [
              "[14.60815715789795, 2.6567139625549316]"
            ]
          },
          "metadata": {},
          "execution_count": 23
        }
      ]
    },
    {
      "cell_type": "code",
      "metadata": {
        "id": "dl98Ql_8nvf3",
        "colab": {
          "base_uri": "https://localhost:8080/"
        },
        "outputId": "861a6259-dc99-4f46-93f8-f45c2ca6cc86"
      },
      "source": [
        "print(history.history.keys())"
      ],
      "execution_count": null,
      "outputs": [
        {
          "output_type": "stream",
          "name": "stdout",
          "text": [
            "dict_keys(['loss', 'mae', 'val_loss', 'val_mae'])\n"
          ]
        }
      ]
    },
    {
      "cell_type": "code",
      "metadata": {
        "id": "NOgcoBclnsJ7",
        "colab": {
          "base_uri": "https://localhost:8080/",
          "height": 404
        },
        "outputId": "fdf71459-5539-4c73-f1db-a542a04495d7"
      },
      "source": [
        "history_dict = history.history\n",
        "\n",
        "loss = history_dict['loss']\n",
        "val_loss = history_dict['val_loss']\n",
        "\n",
        "\n",
        "epochs = range(1, len(loss) +1)\n",
        "fig = plt.figure(figsize = (12,6))\n",
        "\n",
        "ax1 = fig.add_subplot(1,2,1)\n",
        "ax1.plot(epochs, loss, color = 'blue', label = 'train_loss')\n",
        "ax1.plot(epochs, val_loss, color = 'red', label = 'val_loss')\n",
        "ax1.set_title('Train and Validation Loss')\n",
        "ax1.set_xlabel('Epochs')\n",
        "ax1.set_ylabel('loss')\n",
        "ax1.grid()\n",
        "ax1.legend()\n",
        "\n",
        "mae = history_dict['mae']\n",
        "val_mae = history_dict['val_mae']\n",
        "\n",
        "\n",
        "ax2 = fig.add_subplot(1,2,2)\n",
        "ax2.plot(epochs, mae, color = 'blue', label = 'train_mae')\n",
        "ax2.plot(epochs, val_mae, color = 'red', label = 'val_mae')\n",
        "ax2.set_title('Train and Validation MAE')\n",
        "ax2.set_xlabel('Epochs')\n",
        "ax2.set_ylabel('MAE')\n",
        "ax2.grid()\n",
        "ax2.legend()\n",
        "\n",
        "plt.show()"
      ],
      "execution_count": null,
      "outputs": [
        {
          "output_type": "display_data",
          "data": {
            "text/plain": [
              "<Figure size 864x432 with 2 Axes>"
            ],
            "image/png": "[encoded data removed]"
          },
          "metadata": {
            "needs_background": "light"
          }
        }
      ]
    },
    {
      "cell_type": "markdown",
      "metadata": {
        "id": "VtICFsIvVpF2"
      },
      "source": [
        "### K-Fold 교차 검증\n",
        "\n",
        "- 데이터셋의 크기가 매우 작은 경우에  \n",
        "  [훈련, 검증, 테스트] 데이터로 나누게 되면 과소적합이 일어날 확률이 높음\n",
        "\n",
        "- 이를 해결하기 위해 K-Fold 교차 검증 실행\n",
        "  <br>\n",
        "\n",
        "  <img src=\"https://scikit-learn.org/stable/_images/grid_search_cross_validation.png\" width=\"600\">\n",
        "\n",
        "  <sub>출처: https://scikit-learn.org/stable/modules/cross_validation.html</sub>"
      ]
    },
    {
      "cell_type": "markdown",
      "metadata": {
        "id": "giNUN6mwWSDO"
      },
      "source": [
        "### 모델 재구성"
      ]
    },
    {
      "cell_type": "code",
      "metadata": {
        "id": "PIFRNBlYWzBc"
      },
      "source": [
        "from sklearn.model_selection import KFold\n",
        "from tensorflow.keras.layers import Input\n",
        "from tensorflow.keras.models import Model"
      ],
      "execution_count": null,
      "outputs": []
    },
    {
      "cell_type": "code",
      "metadata": {
        "id": "60EvVZ9qR5v6"
      },
      "source": [
        "tf.random.set_seed(111)\n",
        "\n",
        "(x_train_full, y_train_full), (x_test, y_test) = load_data(path = 'bosthousing.npz', test_split = 0.2, seed = 111)\n",
        "\n",
        "\n",
        "mean = np.mean(x_train_full, axis= 0)\n",
        "std = np.std(x_train_full , axis = 0)\n",
        "\n",
        "x_train_preprocessed = (x_train_full -mean) /std\n",
        "x_test = (x_test - mean)/ std\n"
      ],
      "execution_count": null,
      "outputs": []
    },
    {
      "cell_type": "code",
      "metadata": {
        "id": "7HiJbnWrWkXY"
      },
      "source": [
        "k = 3\n",
        "\n",
        "kfold = KFold(n_splits=k, random_state = 111,shuffle=True)"
      ],
      "execution_count": null,
      "outputs": []
    },
    {
      "cell_type": "code",
      "metadata": {
        "id": "xS3uTP6oXDzr"
      },
      "source": [
        "def build_model():\n",
        "  input = Input(shape=(13, ), name = 'input')\n",
        "  hidden1 = Dense(100, activation = 'relu',name = 'dense1')(input)\n",
        "  hidden2 = Dense(64, activation = 'relu',name = 'dense2')(hidden1)\n",
        "  hidden3 = Dense(32, activation = 'relu', name = 'dense3')(hidden2)\n",
        "  output = Dense(1, name = 'output')(hidden3)\n",
        "\n",
        "  model = Model(inputs = [input], outputs = output)\n",
        "\n",
        "  model.compile(loss = 'mse',\n",
        "                optimizer = 'adam',\n",
        "                metrics=['mae'])\n",
        "  return model"
      ],
      "execution_count": null,
      "outputs": []
    },
    {
      "cell_type": "code",
      "metadata": {
        "id": "2iMCmLyLYI2l"
      },
      "source": [
        "mae_list = []"
      ],
      "execution_count": null,
      "outputs": []
    },
    {
      "cell_type": "code",
      "metadata": {
        "id": "OE_0YHP-YUHU"
      },
      "source": [
        "for train_idx, val_idx in kfold.split(x_train):\n",
        "  x_train_fold, x_val_fold = x_train[train_idx], x_train[val_idx]\n",
        "  y_train_fold, y_val_fold = y_train_full[train_idx],y_train_full[val_idx]\n",
        "\n",
        "  model = build_model()\n",
        "\n",
        "  model.fit(x_train_fold, y_train_fold, epochs = 300,\n",
        "            validation_data = (x_val_fold, y_val_fold))\n",
        "  \n",
        "  _, test_mae =model.evaluate(x_test,y_test)\n",
        "\n",
        "  mae_list.append(test_mae)\n"
      ],
      "execution_count": null,
      "outputs": []
    },
    {
      "cell_type": "code",
      "metadata": {
        "id": "NJB6bWP_Y80O",
        "colab": {
          "base_uri": "https://localhost:8080/"
        },
        "outputId": "5f88fa1c-a8cc-4b4b-9c8a-7b452adf50ad"
      },
      "source": [
        "print(mae_list)"
      ],
      "execution_count": null,
      "outputs": [
        {
          "output_type": "stream",
          "name": "stdout",
          "text": [
            "[9.178657531738281, 8.82573413848877, 8.685356140136719]\n"
          ]
        }
      ]
    },
    {
      "cell_type": "code",
      "metadata": {
        "id": "qjwxuiq4cITg",
        "colab": {
          "base_uri": "https://localhost:8080/"
        },
        "outputId": "9b68262e-c3fe-477d-c5d1-835221316def"
      },
      "source": [
        "print(np.mean(mae_list))"
      ],
      "execution_count": null,
      "outputs": [
        {
          "output_type": "stream",
          "name": "stdout",
          "text": [
            "8.89658260345459\n"
          ]
        }
      ]
    },
    {
      "cell_type": "code",
      "source": [],
      "metadata": {
        "id": "1YME62xjzVKn"
      },
      "execution_count": null,
      "outputs": []
    }
  ]
}