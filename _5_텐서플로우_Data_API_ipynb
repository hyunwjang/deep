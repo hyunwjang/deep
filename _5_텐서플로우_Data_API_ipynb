{
  "nbformat": 4,
  "nbformat_minor": 0,
  "metadata": {
    "colab": {
      "provenance": [],
      "include_colab_link": true
    },
    "kernelspec": {
      "name": "python3",
      "display_name": "Python 3"
    },
    "widgets": {
      "application/vnd.jupyter.widget-state+json": {
        "8230b278b08041f39f93bf26b5793798": {
          "model_module": "@jupyter-widgets/controls",
          "model_name": "HBoxModel",
          "model_module_version": "1.5.0",
          "state": {
            "_dom_classes": [],
            "_model_module": "@jupyter-widgets/controls",
            "_model_module_version": "1.5.0",
            "_model_name": "HBoxModel",
            "_view_count": null,
            "_view_module": "@jupyter-widgets/controls",
            "_view_module_version": "1.5.0",
            "_view_name": "HBoxView",
            "box_style": "",
            "children": [
              "IPY_MODEL_f3bc6de9df2d46dca19d5a5084ae75c7",
              "IPY_MODEL_31cd5eddd3bb4c8fa6e44943ddf34691",
              "IPY_MODEL_30294bf9e5f44c539ddc38b1fcd49b67"
            ],
            "layout": "IPY_MODEL_6299cb3b90004abfa406a4fa1a93789f"
          }
        },
        "f3bc6de9df2d46dca19d5a5084ae75c7": {
          "model_module": "@jupyter-widgets/controls",
          "model_name": "HTMLModel",
          "model_module_version": "1.5.0",
          "state": {
            "_dom_classes": [],
            "_model_module": "@jupyter-widgets/controls",
            "_model_module_version": "1.5.0",
            "_model_name": "HTMLModel",
            "_view_count": null,
            "_view_module": "@jupyter-widgets/controls",
            "_view_module_version": "1.5.0",
            "_view_name": "HTMLView",
            "description": "",
            "description_tooltip": null,
            "layout": "IPY_MODEL_3566ead139664998ae05725c0d1ed6af",
            "placeholder": "​",
            "style": "IPY_MODEL_7ddf50c17af445d581e5dc0180b09d9f",
            "value": "Dl Completed...: 100%"
          }
        },
        "31cd5eddd3bb4c8fa6e44943ddf34691": {
          "model_module": "@jupyter-widgets/controls",
          "model_name": "FloatProgressModel",
          "model_module_version": "1.5.0",
          "state": {
            "_dom_classes": [],
            "_model_module": "@jupyter-widgets/controls",
            "_model_module_version": "1.5.0",
            "_model_name": "FloatProgressModel",
            "_view_count": null,
            "_view_module": "@jupyter-widgets/controls",
            "_view_module_version": "1.5.0",
            "_view_name": "ProgressView",
            "bar_style": "success",
            "description": "",
            "description_tooltip": null,
            "layout": "IPY_MODEL_9621e46827324c2e8a2ae05e5b2b766b",
            "max": 4,
            "min": 0,
            "orientation": "horizontal",
            "style": "IPY_MODEL_c99648334efe4b9d9d8e13bfc6084966",
            "value": 4
          }
        },
        "30294bf9e5f44c539ddc38b1fcd49b67": {
          "model_module": "@jupyter-widgets/controls",
          "model_name": "HTMLModel",
          "model_module_version": "1.5.0",
          "state": {
            "_dom_classes": [],
            "_model_module": "@jupyter-widgets/controls",
            "_model_module_version": "1.5.0",
            "_model_name": "HTMLModel",
            "_view_count": null,
            "_view_module": "@jupyter-widgets/controls",
            "_view_module_version": "1.5.0",
            "_view_name": "HTMLView",
            "description": "",
            "description_tooltip": null,
            "layout": "IPY_MODEL_6b818c1de3ab47f49223d84ea76c62f3",
            "placeholder": "​",
            "style": "IPY_MODEL_0136fbc943524f2896b8c7c3af590285",
            "value": " 4/4 [00:00&lt;00:00,  6.09 file/s]"
          }
        },
        "6299cb3b90004abfa406a4fa1a93789f": {
          "model_module": "@jupyter-widgets/base",
          "model_name": "LayoutModel",
          "model_module_version": "1.2.0",
          "state": {
            "_model_module": "@jupyter-widgets/base",
            "_model_module_version": "1.2.0",
            "_model_name": "LayoutModel",
            "_view_count": null,
            "_view_module": "@jupyter-widgets/base",
            "_view_module_version": "1.2.0",
            "_view_name": "LayoutView",
            "align_content": null,
            "align_items": null,
            "align_self": null,
            "border": null,
            "bottom": null,
            "display": null,
            "flex": null,
            "flex_flow": null,
            "grid_area": null,
            "grid_auto_columns": null,
            "grid_auto_flow": null,
            "grid_auto_rows": null,
            "grid_column": null,
            "grid_gap": null,
            "grid_row": null,
            "grid_template_areas": null,
            "grid_template_columns": null,
            "grid_template_rows": null,
            "height": null,
            "justify_content": null,
            "justify_items": null,
            "left": null,
            "margin": null,
            "max_height": null,
            "max_width": null,
            "min_height": null,
            "min_width": null,
            "object_fit": null,
            "object_position": null,
            "order": null,
            "overflow": null,
            "overflow_x": null,
            "overflow_y": null,
            "padding": null,
            "right": null,
            "top": null,
            "visibility": null,
            "width": null
          }
        },
        "3566ead139664998ae05725c0d1ed6af": {
          "model_module": "@jupyter-widgets/base",
          "model_name": "LayoutModel",
          "model_module_version": "1.2.0",
          "state": {
            "_model_module": "@jupyter-widgets/base",
            "_model_module_version": "1.2.0",
            "_model_name": "LayoutModel",
            "_view_count": null,
            "_view_module": "@jupyter-widgets/base",
            "_view_module_version": "1.2.0",
            "_view_name": "LayoutView",
            "align_content": null,
            "align_items": null,
            "align_self": null,
            "border": null,
            "bottom": null,
            "display": null,
            "flex": null,
            "flex_flow": null,
            "grid_area": null,
            "grid_auto_columns": null,
            "grid_auto_flow": null,
            "grid_auto_rows": null,
            "grid_column": null,
            "grid_gap": null,
            "grid_row": null,
            "grid_template_areas": null,
            "grid_template_columns": null,
            "grid_template_rows": null,
            "height": null,
            "justify_content": null,
            "justify_items": null,
            "left": null,
            "margin": null,
            "max_height": null,
            "max_width": null,
            "min_height": null,
            "min_width": null,
            "object_fit": null,
            "object_position": null,
            "order": null,
            "overflow": null,
            "overflow_x": null,
            "overflow_y": null,
            "padding": null,
            "right": null,
            "top": null,
            "visibility": null,
            "width": null
          }
        },
        "7ddf50c17af445d581e5dc0180b09d9f": {
          "model_module": "@jupyter-widgets/controls",
          "model_name": "DescriptionStyleModel",
          "model_module_version": "1.5.0",
          "state": {
            "_model_module": "@jupyter-widgets/controls",
            "_model_module_version": "1.5.0",
            "_model_name": "DescriptionStyleModel",
            "_view_count": null,
            "_view_module": "@jupyter-widgets/base",
            "_view_module_version": "1.2.0",
            "_view_name": "StyleView",
            "description_width": ""
          }
        },
        "9621e46827324c2e8a2ae05e5b2b766b": {
          "model_module": "@jupyter-widgets/base",
          "model_name": "LayoutModel",
          "model_module_version": "1.2.0",
          "state": {
            "_model_module": "@jupyter-widgets/base",
            "_model_module_version": "1.2.0",
            "_model_name": "LayoutModel",
            "_view_count": null,
            "_view_module": "@jupyter-widgets/base",
            "_view_module_version": "1.2.0",
            "_view_name": "LayoutView",
            "align_content": null,
            "align_items": null,
            "align_self": null,
            "border": null,
            "bottom": null,
            "display": null,
            "flex": null,
            "flex_flow": null,
            "grid_area": null,
            "grid_auto_columns": null,
            "grid_auto_flow": null,
            "grid_auto_rows": null,
            "grid_column": null,
            "grid_gap": null,
            "grid_row": null,
            "grid_template_areas": null,
            "grid_template_columns": null,
            "grid_template_rows": null,
            "height": null,
            "justify_content": null,
            "justify_items": null,
            "left": null,
            "margin": null,
            "max_height": null,
            "max_width": null,
            "min_height": null,
            "min_width": null,
            "object_fit": null,
            "object_position": null,
            "order": null,
            "overflow": null,
            "overflow_x": null,
            "overflow_y": null,
            "padding": null,
            "right": null,
            "top": null,
            "visibility": null,
            "width": null
          }
        },
        "c99648334efe4b9d9d8e13bfc6084966": {
          "model_module": "@jupyter-widgets/controls",
          "model_name": "ProgressStyleModel",
          "model_module_version": "1.5.0",
          "state": {
            "_model_module": "@jupyter-widgets/controls",
            "_model_module_version": "1.5.0",
            "_model_name": "ProgressStyleModel",
            "_view_count": null,
            "_view_module": "@jupyter-widgets/base",
            "_view_module_version": "1.2.0",
            "_view_name": "StyleView",
            "bar_color": null,
            "description_width": ""
          }
        },
        "6b818c1de3ab47f49223d84ea76c62f3": {
          "model_module": "@jupyter-widgets/base",
          "model_name": "LayoutModel",
          "model_module_version": "1.2.0",
          "state": {
            "_model_module": "@jupyter-widgets/base",
            "_model_module_version": "1.2.0",
            "_model_name": "LayoutModel",
            "_view_count": null,
            "_view_module": "@jupyter-widgets/base",
            "_view_module_version": "1.2.0",
            "_view_name": "LayoutView",
            "align_content": null,
            "align_items": null,
            "align_self": null,
            "border": null,
            "bottom": null,
            "display": null,
            "flex": null,
            "flex_flow": null,
            "grid_area": null,
            "grid_auto_columns": null,
            "grid_auto_flow": null,
            "grid_auto_rows": null,
            "grid_column": null,
            "grid_gap": null,
            "grid_row": null,
            "grid_template_areas": null,
            "grid_template_columns": null,
            "grid_template_rows": null,
            "height": null,
            "justify_content": null,
            "justify_items": null,
            "left": null,
            "margin": null,
            "max_height": null,
            "max_width": null,
            "min_height": null,
            "min_width": null,
            "object_fit": null,
            "object_position": null,
            "order": null,
            "overflow": null,
            "overflow_x": null,
            "overflow_y": null,
            "padding": null,
            "right": null,
            "top": null,
            "visibility": null,
            "width": null
          }
        },
        "0136fbc943524f2896b8c7c3af590285": {
          "model_module": "@jupyter-widgets/controls",
          "model_name": "DescriptionStyleModel",
          "model_module_version": "1.5.0",
          "state": {
            "_model_module": "@jupyter-widgets/controls",
            "_model_module_version": "1.5.0",
            "_model_name": "DescriptionStyleModel",
            "_view_count": null,
            "_view_module": "@jupyter-widgets/base",
            "_view_module_version": "1.2.0",
            "_view_name": "StyleView",
            "description_width": ""
          }
        },
        "b3e291d2bee7446db22e5d516d4e179f": {
          "model_module": "@jupyter-widgets/controls",
          "model_name": "HBoxModel",
          "model_module_version": "1.5.0",
          "state": {
            "_dom_classes": [],
            "_model_module": "@jupyter-widgets/controls",
            "_model_module_version": "1.5.0",
            "_model_name": "HBoxModel",
            "_view_count": null,
            "_view_module": "@jupyter-widgets/controls",
            "_view_module_version": "1.5.0",
            "_view_name": "HBoxView",
            "box_style": "",
            "children": [
              "IPY_MODEL_07d4c4f9fcf841328a44e30856a85848",
              "IPY_MODEL_9d3efc0badbe417787b76404deff6f47",
              "IPY_MODEL_e7fa32d8889d4c06bda6e7bf4d2452de"
            ],
            "layout": "IPY_MODEL_c4b9209a2b004b49bcb9b6275f0de7a9"
          }
        },
        "07d4c4f9fcf841328a44e30856a85848": {
          "model_module": "@jupyter-widgets/controls",
          "model_name": "HTMLModel",
          "model_module_version": "1.5.0",
          "state": {
            "_dom_classes": [],
            "_model_module": "@jupyter-widgets/controls",
            "_model_module_version": "1.5.0",
            "_model_name": "HTMLModel",
            "_view_count": null,
            "_view_module": "@jupyter-widgets/controls",
            "_view_module_version": "1.5.0",
            "_view_name": "HTMLView",
            "description": "",
            "description_tooltip": null,
            "layout": "IPY_MODEL_7461d468957d4955bbd3c75e12552334",
            "placeholder": "​",
            "style": "IPY_MODEL_40f25bfc04c446429da5896fbfd16ff7",
            "value": "Dl Completed...: 100%"
          }
        },
        "9d3efc0badbe417787b76404deff6f47": {
          "model_module": "@jupyter-widgets/controls",
          "model_name": "FloatProgressModel",
          "model_module_version": "1.5.0",
          "state": {
            "_dom_classes": [],
            "_model_module": "@jupyter-widgets/controls",
            "_model_module_version": "1.5.0",
            "_model_name": "FloatProgressModel",
            "_view_count": null,
            "_view_module": "@jupyter-widgets/controls",
            "_view_module_version": "1.5.0",
            "_view_name": "ProgressView",
            "bar_style": "success",
            "description": "",
            "description_tooltip": null,
            "layout": "IPY_MODEL_9a9f05c6ed7043178b83ebd943d3bb8a",
            "max": 1,
            "min": 0,
            "orientation": "horizontal",
            "style": "IPY_MODEL_c036f0b6857647f69c17fd2193c611b1",
            "value": 1
          }
        },
        "e7fa32d8889d4c06bda6e7bf4d2452de": {
          "model_module": "@jupyter-widgets/controls",
          "model_name": "HTMLModel",
          "model_module_version": "1.5.0",
          "state": {
            "_dom_classes": [],
            "_model_module": "@jupyter-widgets/controls",
            "_model_module_version": "1.5.0",
            "_model_name": "HTMLModel",
            "_view_count": null,
            "_view_module": "@jupyter-widgets/controls",
            "_view_module_version": "1.5.0",
            "_view_name": "HTMLView",
            "description": "",
            "description_tooltip": null,
            "layout": "IPY_MODEL_b858825c089c4647bb695612325c7f32",
            "placeholder": "​",
            "style": "IPY_MODEL_007d24d5750345d29a2a32a09ba50b55",
            "value": " 1/1 [00:07&lt;00:00,  7.32s/ url]"
          }
        },
        "c4b9209a2b004b49bcb9b6275f0de7a9": {
          "model_module": "@jupyter-widgets/base",
          "model_name": "LayoutModel",
          "model_module_version": "1.2.0",
          "state": {
            "_model_module": "@jupyter-widgets/base",
            "_model_module_version": "1.2.0",
            "_model_name": "LayoutModel",
            "_view_count": null,
            "_view_module": "@jupyter-widgets/base",
            "_view_module_version": "1.2.0",
            "_view_name": "LayoutView",
            "align_content": null,
            "align_items": null,
            "align_self": null,
            "border": null,
            "bottom": null,
            "display": null,
            "flex": null,
            "flex_flow": null,
            "grid_area": null,
            "grid_auto_columns": null,
            "grid_auto_flow": null,
            "grid_auto_rows": null,
            "grid_column": null,
            "grid_gap": null,
            "grid_row": null,
            "grid_template_areas": null,
            "grid_template_columns": null,
            "grid_template_rows": null,
            "height": null,
            "justify_content": null,
            "justify_items": null,
            "left": null,
            "margin": null,
            "max_height": null,
            "max_width": null,
            "min_height": null,
            "min_width": null,
            "object_fit": null,
            "object_position": null,
            "order": null,
            "overflow": null,
            "overflow_x": null,
            "overflow_y": null,
            "padding": null,
            "right": null,
            "top": null,
            "visibility": null,
            "width": null
          }
        },
        "7461d468957d4955bbd3c75e12552334": {
          "model_module": "@jupyter-widgets/base",
          "model_name": "LayoutModel",
          "model_module_version": "1.2.0",
          "state": {
            "_model_module": "@jupyter-widgets/base",
            "_model_module_version": "1.2.0",
            "_model_name": "LayoutModel",
            "_view_count": null,
            "_view_module": "@jupyter-widgets/base",
            "_view_module_version": "1.2.0",
            "_view_name": "LayoutView",
            "align_content": null,
            "align_items": null,
            "align_self": null,
            "border": null,
            "bottom": null,
            "display": null,
            "flex": null,
            "flex_flow": null,
            "grid_area": null,
            "grid_auto_columns": null,
            "grid_auto_flow": null,
            "grid_auto_rows": null,
            "grid_column": null,
            "grid_gap": null,
            "grid_row": null,
            "grid_template_areas": null,
            "grid_template_columns": null,
            "grid_template_rows": null,
            "height": null,
            "justify_content": null,
            "justify_items": null,
            "left": null,
            "margin": null,
            "max_height": null,
            "max_width": null,
            "min_height": null,
            "min_width": null,
            "object_fit": null,
            "object_position": null,
            "order": null,
            "overflow": null,
            "overflow_x": null,
            "overflow_y": null,
            "padding": null,
            "right": null,
            "top": null,
            "visibility": null,
            "width": null
          }
        },
        "40f25bfc04c446429da5896fbfd16ff7": {
          "model_module": "@jupyter-widgets/controls",
          "model_name": "DescriptionStyleModel",
          "model_module_version": "1.5.0",
          "state": {
            "_model_module": "@jupyter-widgets/controls",
            "_model_module_version": "1.5.0",
            "_model_name": "DescriptionStyleModel",
            "_view_count": null,
            "_view_module": "@jupyter-widgets/base",
            "_view_module_version": "1.2.0",
            "_view_name": "StyleView",
            "description_width": ""
          }
        },
        "9a9f05c6ed7043178b83ebd943d3bb8a": {
          "model_module": "@jupyter-widgets/base",
          "model_name": "LayoutModel",
          "model_module_version": "1.2.0",
          "state": {
            "_model_module": "@jupyter-widgets/base",
            "_model_module_version": "1.2.0",
            "_model_name": "LayoutModel",
            "_view_count": null,
            "_view_module": "@jupyter-widgets/base",
            "_view_module_version": "1.2.0",
            "_view_name": "LayoutView",
            "align_content": null,
            "align_items": null,
            "align_self": null,
            "border": null,
            "bottom": null,
            "display": null,
            "flex": null,
            "flex_flow": null,
            "grid_area": null,
            "grid_auto_columns": null,
            "grid_auto_flow": null,
            "grid_auto_rows": null,
            "grid_column": null,
            "grid_gap": null,
            "grid_row": null,
            "grid_template_areas": null,
            "grid_template_columns": null,
            "grid_template_rows": null,
            "height": null,
            "justify_content": null,
            "justify_items": null,
            "left": null,
            "margin": null,
            "max_height": null,
            "max_width": null,
            "min_height": null,
            "min_width": null,
            "object_fit": null,
            "object_position": null,
            "order": null,
            "overflow": null,
            "overflow_x": null,
            "overflow_y": null,
            "padding": null,
            "right": null,
            "top": null,
            "visibility": null,
            "width": "20px"
          }
        },
        "c036f0b6857647f69c17fd2193c611b1": {
          "model_module": "@jupyter-widgets/controls",
          "model_name": "ProgressStyleModel",
          "model_module_version": "1.5.0",
          "state": {
            "_model_module": "@jupyter-widgets/controls",
            "_model_module_version": "1.5.0",
            "_model_name": "ProgressStyleModel",
            "_view_count": null,
            "_view_module": "@jupyter-widgets/base",
            "_view_module_version": "1.2.0",
            "_view_name": "StyleView",
            "bar_color": null,
            "description_width": ""
          }
        },
        "b858825c089c4647bb695612325c7f32": {
          "model_module": "@jupyter-widgets/base",
          "model_name": "LayoutModel",
          "model_module_version": "1.2.0",
          "state": {
            "_model_module": "@jupyter-widgets/base",
            "_model_module_version": "1.2.0",
            "_model_name": "LayoutModel",
            "_view_count": null,
            "_view_module": "@jupyter-widgets/base",
            "_view_module_version": "1.2.0",
            "_view_name": "LayoutView",
            "align_content": null,
            "align_items": null,
            "align_self": null,
            "border": null,
            "bottom": null,
            "display": null,
            "flex": null,
            "flex_flow": null,
            "grid_area": null,
            "grid_auto_columns": null,
            "grid_auto_flow": null,
            "grid_auto_rows": null,
            "grid_column": null,
            "grid_gap": null,
            "grid_row": null,
            "grid_template_areas": null,
            "grid_template_columns": null,
            "grid_template_rows": null,
            "height": null,
            "justify_content": null,
            "justify_items": null,
            "left": null,
            "margin": null,
            "max_height": null,
            "max_width": null,
            "min_height": null,
            "min_width": null,
            "object_fit": null,
            "object_position": null,
            "order": null,
            "overflow": null,
            "overflow_x": null,
            "overflow_y": null,
            "padding": null,
            "right": null,
            "top": null,
            "visibility": null,
            "width": null
          }
        },
        "007d24d5750345d29a2a32a09ba50b55": {
          "model_module": "@jupyter-widgets/controls",
          "model_name": "DescriptionStyleModel",
          "model_module_version": "1.5.0",
          "state": {
            "_model_module": "@jupyter-widgets/controls",
            "_model_module_version": "1.5.0",
            "_model_name": "DescriptionStyleModel",
            "_view_count": null,
            "_view_module": "@jupyter-widgets/base",
            "_view_module_version": "1.2.0",
            "_view_name": "StyleView",
            "description_width": ""
          }
        },
        "405c52ab2a3b475b853100429a47b324": {
          "model_module": "@jupyter-widgets/controls",
          "model_name": "HBoxModel",
          "model_module_version": "1.5.0",
          "state": {
            "_dom_classes": [],
            "_model_module": "@jupyter-widgets/controls",
            "_model_module_version": "1.5.0",
            "_model_name": "HBoxModel",
            "_view_count": null,
            "_view_module": "@jupyter-widgets/controls",
            "_view_module_version": "1.5.0",
            "_view_name": "HBoxView",
            "box_style": "",
            "children": [
              "IPY_MODEL_5c3abd4681c242358919d50ccb51f309",
              "IPY_MODEL_4dee15eb0e6447f6a20d5b2cccdbd246",
              "IPY_MODEL_e389e75a9c804d2ab02cc2fea9895474"
            ],
            "layout": "IPY_MODEL_2828ea538b6748029a59918f2a837987"
          }
        },
        "5c3abd4681c242358919d50ccb51f309": {
          "model_module": "@jupyter-widgets/controls",
          "model_name": "HTMLModel",
          "model_module_version": "1.5.0",
          "state": {
            "_dom_classes": [],
            "_model_module": "@jupyter-widgets/controls",
            "_model_module_version": "1.5.0",
            "_model_name": "HTMLModel",
            "_view_count": null,
            "_view_module": "@jupyter-widgets/controls",
            "_view_module_version": "1.5.0",
            "_view_name": "HTMLView",
            "description": "",
            "description_tooltip": null,
            "layout": "IPY_MODEL_d9ac010dacf2466dbd6febd19c5f3afe",
            "placeholder": "​",
            "style": "IPY_MODEL_c30a5d2d9e09483e89ce2d72187772cb",
            "value": "Dl Size...: 100%"
          }
        },
        "4dee15eb0e6447f6a20d5b2cccdbd246": {
          "model_module": "@jupyter-widgets/controls",
          "model_name": "FloatProgressModel",
          "model_module_version": "1.5.0",
          "state": {
            "_dom_classes": [],
            "_model_module": "@jupyter-widgets/controls",
            "_model_module_version": "1.5.0",
            "_model_name": "FloatProgressModel",
            "_view_count": null,
            "_view_module": "@jupyter-widgets/controls",
            "_view_module_version": "1.5.0",
            "_view_name": "ProgressView",
            "bar_style": "success",
            "description": "",
            "description_tooltip": null,
            "layout": "IPY_MODEL_5b25208996ce43719fd134be47ca2613",
            "max": 1,
            "min": 0,
            "orientation": "horizontal",
            "style": "IPY_MODEL_358d9f06bc314bc98f53da9a68a17644",
            "value": 1
          }
        },
        "e389e75a9c804d2ab02cc2fea9895474": {
          "model_module": "@jupyter-widgets/controls",
          "model_name": "HTMLModel",
          "model_module_version": "1.5.0",
          "state": {
            "_dom_classes": [],
            "_model_module": "@jupyter-widgets/controls",
            "_model_module_version": "1.5.0",
            "_model_name": "HTMLModel",
            "_view_count": null,
            "_view_module": "@jupyter-widgets/controls",
            "_view_module_version": "1.5.0",
            "_view_name": "HTMLView",
            "description": "",
            "description_tooltip": null,
            "layout": "IPY_MODEL_c315f51d6b5040949924dc145ead47e3",
            "placeholder": "​",
            "style": "IPY_MODEL_c84d6ab8bfda4213ade6bafbaabb25d0",
            "value": " 80/80 [00:07&lt;00:00, 32.29 MiB/s]"
          }
        },
        "2828ea538b6748029a59918f2a837987": {
          "model_module": "@jupyter-widgets/base",
          "model_name": "LayoutModel",
          "model_module_version": "1.2.0",
          "state": {
            "_model_module": "@jupyter-widgets/base",
            "_model_module_version": "1.2.0",
            "_model_name": "LayoutModel",
            "_view_count": null,
            "_view_module": "@jupyter-widgets/base",
            "_view_module_version": "1.2.0",
            "_view_name": "LayoutView",
            "align_content": null,
            "align_items": null,
            "align_self": null,
            "border": null,
            "bottom": null,
            "display": null,
            "flex": null,
            "flex_flow": null,
            "grid_area": null,
            "grid_auto_columns": null,
            "grid_auto_flow": null,
            "grid_auto_rows": null,
            "grid_column": null,
            "grid_gap": null,
            "grid_row": null,
            "grid_template_areas": null,
            "grid_template_columns": null,
            "grid_template_rows": null,
            "height": null,
            "justify_content": null,
            "justify_items": null,
            "left": null,
            "margin": null,
            "max_height": null,
            "max_width": null,
            "min_height": null,
            "min_width": null,
            "object_fit": null,
            "object_position": null,
            "order": null,
            "overflow": null,
            "overflow_x": null,
            "overflow_y": null,
            "padding": null,
            "right": null,
            "top": null,
            "visibility": null,
            "width": null
          }
        },
        "d9ac010dacf2466dbd6febd19c5f3afe": {
          "model_module": "@jupyter-widgets/base",
          "model_name": "LayoutModel",
          "model_module_version": "1.2.0",
          "state": {
            "_model_module": "@jupyter-widgets/base",
            "_model_module_version": "1.2.0",
            "_model_name": "LayoutModel",
            "_view_count": null,
            "_view_module": "@jupyter-widgets/base",
            "_view_module_version": "1.2.0",
            "_view_name": "LayoutView",
            "align_content": null,
            "align_items": null,
            "align_self": null,
            "border": null,
            "bottom": null,
            "display": null,
            "flex": null,
            "flex_flow": null,
            "grid_area": null,
            "grid_auto_columns": null,
            "grid_auto_flow": null,
            "grid_auto_rows": null,
            "grid_column": null,
            "grid_gap": null,
            "grid_row": null,
            "grid_template_areas": null,
            "grid_template_columns": null,
            "grid_template_rows": null,
            "height": null,
            "justify_content": null,
            "justify_items": null,
            "left": null,
            "margin": null,
            "max_height": null,
            "max_width": null,
            "min_height": null,
            "min_width": null,
            "object_fit": null,
            "object_position": null,
            "order": null,
            "overflow": null,
            "overflow_x": null,
            "overflow_y": null,
            "padding": null,
            "right": null,
            "top": null,
            "visibility": null,
            "width": null
          }
        },
        "c30a5d2d9e09483e89ce2d72187772cb": {
          "model_module": "@jupyter-widgets/controls",
          "model_name": "DescriptionStyleModel",
          "model_module_version": "1.5.0",
          "state": {
            "_model_module": "@jupyter-widgets/controls",
            "_model_module_version": "1.5.0",
            "_model_name": "DescriptionStyleModel",
            "_view_count": null,
            "_view_module": "@jupyter-widgets/base",
            "_view_module_version": "1.2.0",
            "_view_name": "StyleView",
            "description_width": ""
          }
        },
        "5b25208996ce43719fd134be47ca2613": {
          "model_module": "@jupyter-widgets/base",
          "model_name": "LayoutModel",
          "model_module_version": "1.2.0",
          "state": {
            "_model_module": "@jupyter-widgets/base",
            "_model_module_version": "1.2.0",
            "_model_name": "LayoutModel",
            "_view_count": null,
            "_view_module": "@jupyter-widgets/base",
            "_view_module_version": "1.2.0",
            "_view_name": "LayoutView",
            "align_content": null,
            "align_items": null,
            "align_self": null,
            "border": null,
            "bottom": null,
            "display": null,
            "flex": null,
            "flex_flow": null,
            "grid_area": null,
            "grid_auto_columns": null,
            "grid_auto_flow": null,
            "grid_auto_rows": null,
            "grid_column": null,
            "grid_gap": null,
            "grid_row": null,
            "grid_template_areas": null,
            "grid_template_columns": null,
            "grid_template_rows": null,
            "height": null,
            "justify_content": null,
            "justify_items": null,
            "left": null,
            "margin": null,
            "max_height": null,
            "max_width": null,
            "min_height": null,
            "min_width": null,
            "object_fit": null,
            "object_position": null,
            "order": null,
            "overflow": null,
            "overflow_x": null,
            "overflow_y": null,
            "padding": null,
            "right": null,
            "top": null,
            "visibility": null,
            "width": "20px"
          }
        },
        "358d9f06bc314bc98f53da9a68a17644": {
          "model_module": "@jupyter-widgets/controls",
          "model_name": "ProgressStyleModel",
          "model_module_version": "1.5.0",
          "state": {
            "_model_module": "@jupyter-widgets/controls",
            "_model_module_version": "1.5.0",
            "_model_name": "ProgressStyleModel",
            "_view_count": null,
            "_view_module": "@jupyter-widgets/base",
            "_view_module_version": "1.2.0",
            "_view_name": "StyleView",
            "bar_color": null,
            "description_width": ""
          }
        },
        "c315f51d6b5040949924dc145ead47e3": {
          "model_module": "@jupyter-widgets/base",
          "model_name": "LayoutModel",
          "model_module_version": "1.2.0",
          "state": {
            "_model_module": "@jupyter-widgets/base",
            "_model_module_version": "1.2.0",
            "_model_name": "LayoutModel",
            "_view_count": null,
            "_view_module": "@jupyter-widgets/base",
            "_view_module_version": "1.2.0",
            "_view_name": "LayoutView",
            "align_content": null,
            "align_items": null,
            "align_self": null,
            "border": null,
            "bottom": null,
            "display": null,
            "flex": null,
            "flex_flow": null,
            "grid_area": null,
            "grid_auto_columns": null,
            "grid_auto_flow": null,
            "grid_auto_rows": null,
            "grid_column": null,
            "grid_gap": null,
            "grid_row": null,
            "grid_template_areas": null,
            "grid_template_columns": null,
            "grid_template_rows": null,
            "height": null,
            "justify_content": null,
            "justify_items": null,
            "left": null,
            "margin": null,
            "max_height": null,
            "max_width": null,
            "min_height": null,
            "min_width": null,
            "object_fit": null,
            "object_position": null,
            "order": null,
            "overflow": null,
            "overflow_x": null,
            "overflow_y": null,
            "padding": null,
            "right": null,
            "top": null,
            "visibility": null,
            "width": null
          }
        },
        "c84d6ab8bfda4213ade6bafbaabb25d0": {
          "model_module": "@jupyter-widgets/controls",
          "model_name": "DescriptionStyleModel",
          "model_module_version": "1.5.0",
          "state": {
            "_model_module": "@jupyter-widgets/controls",
            "_model_module_version": "1.5.0",
            "_model_name": "DescriptionStyleModel",
            "_view_count": null,
            "_view_module": "@jupyter-widgets/base",
            "_view_module_version": "1.2.0",
            "_view_name": "StyleView",
            "description_width": ""
          }
        },
        "d215bf43a7064a09ac63e95b194fbc28": {
          "model_module": "@jupyter-widgets/controls",
          "model_name": "HBoxModel",
          "model_module_version": "1.5.0",
          "state": {
            "_dom_classes": [],
            "_model_module": "@jupyter-widgets/controls",
            "_model_module_version": "1.5.0",
            "_model_name": "HBoxModel",
            "_view_count": null,
            "_view_module": "@jupyter-widgets/controls",
            "_view_module_version": "1.5.0",
            "_view_name": "HBoxView",
            "box_style": "",
            "children": [
              "IPY_MODEL_b652335f552d4cd48f35803f1a923b95",
              "IPY_MODEL_4e39f8fb0e6c4e44b86729359655e103",
              "IPY_MODEL_cec30018a2c84fdaab97dd504459e9ff"
            ],
            "layout": "IPY_MODEL_aa839ba408024eadb06cd5e890f0895c"
          }
        },
        "b652335f552d4cd48f35803f1a923b95": {
          "model_module": "@jupyter-widgets/controls",
          "model_name": "HTMLModel",
          "model_module_version": "1.5.0",
          "state": {
            "_dom_classes": [],
            "_model_module": "@jupyter-widgets/controls",
            "_model_module_version": "1.5.0",
            "_model_name": "HTMLModel",
            "_view_count": null,
            "_view_module": "@jupyter-widgets/controls",
            "_view_module_version": "1.5.0",
            "_view_name": "HTMLView",
            "description": "",
            "description_tooltip": null,
            "layout": "IPY_MODEL_4b3ea9fe4cf8470281d21b78cae10572",
            "placeholder": "​",
            "style": "IPY_MODEL_0197c0bb144d47a4a4131869e5d1cb5c",
            "value": "Generating splits...: 100%"
          }
        },
        "4e39f8fb0e6c4e44b86729359655e103": {
          "model_module": "@jupyter-widgets/controls",
          "model_name": "FloatProgressModel",
          "model_module_version": "1.5.0",
          "state": {
            "_dom_classes": [],
            "_model_module": "@jupyter-widgets/controls",
            "_model_module_version": "1.5.0",
            "_model_name": "FloatProgressModel",
            "_view_count": null,
            "_view_module": "@jupyter-widgets/controls",
            "_view_module_version": "1.5.0",
            "_view_name": "ProgressView",
            "bar_style": "",
            "description": "",
            "description_tooltip": null,
            "layout": "IPY_MODEL_c2c2792f81ae40159afe50bebb82fe8c",
            "max": 3,
            "min": 0,
            "orientation": "horizontal",
            "style": "IPY_MODEL_ee1c31fc424b42a4a683edffd3377cdc",
            "value": 3
          }
        },
        "cec30018a2c84fdaab97dd504459e9ff": {
          "model_module": "@jupyter-widgets/controls",
          "model_name": "HTMLModel",
          "model_module_version": "1.5.0",
          "state": {
            "_dom_classes": [],
            "_model_module": "@jupyter-widgets/controls",
            "_model_module_version": "1.5.0",
            "_model_name": "HTMLModel",
            "_view_count": null,
            "_view_module": "@jupyter-widgets/controls",
            "_view_module_version": "1.5.0",
            "_view_name": "HTMLView",
            "description": "",
            "description_tooltip": null,
            "layout": "IPY_MODEL_df42537682fe47ffbc57f268d0d7d31a",
            "placeholder": "​",
            "style": "IPY_MODEL_f5a6ff5d41494d3cbf030036143a5447",
            "value": " 3/3 [00:50&lt;00:00, 17.47s/ splits]"
          }
        },
        "aa839ba408024eadb06cd5e890f0895c": {
          "model_module": "@jupyter-widgets/base",
          "model_name": "LayoutModel",
          "model_module_version": "1.2.0",
          "state": {
            "_model_module": "@jupyter-widgets/base",
            "_model_module_version": "1.2.0",
            "_model_name": "LayoutModel",
            "_view_count": null,
            "_view_module": "@jupyter-widgets/base",
            "_view_module_version": "1.2.0",
            "_view_name": "LayoutView",
            "align_content": null,
            "align_items": null,
            "align_self": null,
            "border": null,
            "bottom": null,
            "display": null,
            "flex": null,
            "flex_flow": null,
            "grid_area": null,
            "grid_auto_columns": null,
            "grid_auto_flow": null,
            "grid_auto_rows": null,
            "grid_column": null,
            "grid_gap": null,
            "grid_row": null,
            "grid_template_areas": null,
            "grid_template_columns": null,
            "grid_template_rows": null,
            "height": null,
            "justify_content": null,
            "justify_items": null,
            "left": null,
            "margin": null,
            "max_height": null,
            "max_width": null,
            "min_height": null,
            "min_width": null,
            "object_fit": null,
            "object_position": null,
            "order": null,
            "overflow": null,
            "overflow_x": null,
            "overflow_y": null,
            "padding": null,
            "right": null,
            "top": null,
            "visibility": "hidden",
            "width": null
          }
        },
        "4b3ea9fe4cf8470281d21b78cae10572": {
          "model_module": "@jupyter-widgets/base",
          "model_name": "LayoutModel",
          "model_module_version": "1.2.0",
          "state": {
            "_model_module": "@jupyter-widgets/base",
            "_model_module_version": "1.2.0",
            "_model_name": "LayoutModel",
            "_view_count": null,
            "_view_module": "@jupyter-widgets/base",
            "_view_module_version": "1.2.0",
            "_view_name": "LayoutView",
            "align_content": null,
            "align_items": null,
            "align_self": null,
            "border": null,
            "bottom": null,
            "display": null,
            "flex": null,
            "flex_flow": null,
            "grid_area": null,
            "grid_auto_columns": null,
            "grid_auto_flow": null,
            "grid_auto_rows": null,
            "grid_column": null,
            "grid_gap": null,
            "grid_row": null,
            "grid_template_areas": null,
            "grid_template_columns": null,
            "grid_template_rows": null,
            "height": null,
            "justify_content": null,
            "justify_items": null,
            "left": null,
            "margin": null,
            "max_height": null,
            "max_width": null,
            "min_height": null,
            "min_width": null,
            "object_fit": null,
            "object_position": null,
            "order": null,
            "overflow": null,
            "overflow_x": null,
            "overflow_y": null,
            "padding": null,
            "right": null,
            "top": null,
            "visibility": null,
            "width": null
          }
        },
        "0197c0bb144d47a4a4131869e5d1cb5c": {
          "model_module": "@jupyter-widgets/controls",
          "model_name": "DescriptionStyleModel",
          "model_module_version": "1.5.0",
          "state": {
            "_model_module": "@jupyter-widgets/controls",
            "_model_module_version": "1.5.0",
            "_model_name": "DescriptionStyleModel",
            "_view_count": null,
            "_view_module": "@jupyter-widgets/base",
            "_view_module_version": "1.2.0",
            "_view_name": "StyleView",
            "description_width": ""
          }
        },
        "c2c2792f81ae40159afe50bebb82fe8c": {
          "model_module": "@jupyter-widgets/base",
          "model_name": "LayoutModel",
          "model_module_version": "1.2.0",
          "state": {
            "_model_module": "@jupyter-widgets/base",
            "_model_module_version": "1.2.0",
            "_model_name": "LayoutModel",
            "_view_count": null,
            "_view_module": "@jupyter-widgets/base",
            "_view_module_version": "1.2.0",
            "_view_name": "LayoutView",
            "align_content": null,
            "align_items": null,
            "align_self": null,
            "border": null,
            "bottom": null,
            "display": null,
            "flex": null,
            "flex_flow": null,
            "grid_area": null,
            "grid_auto_columns": null,
            "grid_auto_flow": null,
            "grid_auto_rows": null,
            "grid_column": null,
            "grid_gap": null,
            "grid_row": null,
            "grid_template_areas": null,
            "grid_template_columns": null,
            "grid_template_rows": null,
            "height": null,
            "justify_content": null,
            "justify_items": null,
            "left": null,
            "margin": null,
            "max_height": null,
            "max_width": null,
            "min_height": null,
            "min_width": null,
            "object_fit": null,
            "object_position": null,
            "order": null,
            "overflow": null,
            "overflow_x": null,
            "overflow_y": null,
            "padding": null,
            "right": null,
            "top": null,
            "visibility": null,
            "width": null
          }
        },
        "ee1c31fc424b42a4a683edffd3377cdc": {
          "model_module": "@jupyter-widgets/controls",
          "model_name": "ProgressStyleModel",
          "model_module_version": "1.5.0",
          "state": {
            "_model_module": "@jupyter-widgets/controls",
            "_model_module_version": "1.5.0",
            "_model_name": "ProgressStyleModel",
            "_view_count": null,
            "_view_module": "@jupyter-widgets/base",
            "_view_module_version": "1.2.0",
            "_view_name": "StyleView",
            "bar_color": null,
            "description_width": ""
          }
        },
        "df42537682fe47ffbc57f268d0d7d31a": {
          "model_module": "@jupyter-widgets/base",
          "model_name": "LayoutModel",
          "model_module_version": "1.2.0",
          "state": {
            "_model_module": "@jupyter-widgets/base",
            "_model_module_version": "1.2.0",
            "_model_name": "LayoutModel",
            "_view_count": null,
            "_view_module": "@jupyter-widgets/base",
            "_view_module_version": "1.2.0",
            "_view_name": "LayoutView",
            "align_content": null,
            "align_items": null,
            "align_self": null,
            "border": null,
            "bottom": null,
            "display": null,
            "flex": null,
            "flex_flow": null,
            "grid_area": null,
            "grid_auto_columns": null,
            "grid_auto_flow": null,
            "grid_auto_rows": null,
            "grid_column": null,
            "grid_gap": null,
            "grid_row": null,
            "grid_template_areas": null,
            "grid_template_columns": null,
            "grid_template_rows": null,
            "height": null,
            "justify_content": null,
            "justify_items": null,
            "left": null,
            "margin": null,
            "max_height": null,
            "max_width": null,
            "min_height": null,
            "min_width": null,
            "object_fit": null,
            "object_position": null,
            "order": null,
            "overflow": null,
            "overflow_x": null,
            "overflow_y": null,
            "padding": null,
            "right": null,
            "top": null,
            "visibility": null,
            "width": null
          }
        },
        "f5a6ff5d41494d3cbf030036143a5447": {
          "model_module": "@jupyter-widgets/controls",
          "model_name": "DescriptionStyleModel",
          "model_module_version": "1.5.0",
          "state": {
            "_model_module": "@jupyter-widgets/controls",
            "_model_module_version": "1.5.0",
            "_model_name": "DescriptionStyleModel",
            "_view_count": null,
            "_view_module": "@jupyter-widgets/base",
            "_view_module_version": "1.2.0",
            "_view_name": "StyleView",
            "description_width": ""
          }
        },
        "d7371517cfa443cc9bd11e0a9a2996c5": {
          "model_module": "@jupyter-widgets/controls",
          "model_name": "HBoxModel",
          "model_module_version": "1.5.0",
          "state": {
            "_dom_classes": [],
            "_model_module": "@jupyter-widgets/controls",
            "_model_module_version": "1.5.0",
            "_model_name": "HBoxModel",
            "_view_count": null,
            "_view_module": "@jupyter-widgets/controls",
            "_view_module_version": "1.5.0",
            "_view_name": "HBoxView",
            "box_style": "",
            "children": [
              "IPY_MODEL_343471392b834e91a465b1ebcbf33ec0",
              "IPY_MODEL_805576c59a7b4ac7b28082273511a2ac",
              "IPY_MODEL_0cb72968a24546229222d359a039fed1"
            ],
            "layout": "IPY_MODEL_bf172598201546a0859e6795e113f686"
          }
        },
        "343471392b834e91a465b1ebcbf33ec0": {
          "model_module": "@jupyter-widgets/controls",
          "model_name": "HTMLModel",
          "model_module_version": "1.5.0",
          "state": {
            "_dom_classes": [],
            "_model_module": "@jupyter-widgets/controls",
            "_model_module_version": "1.5.0",
            "_model_name": "HTMLModel",
            "_view_count": null,
            "_view_module": "@jupyter-widgets/controls",
            "_view_module_version": "1.5.0",
            "_view_name": "HTMLView",
            "description": "",
            "description_tooltip": null,
            "layout": "IPY_MODEL_eee7806ff38b44498b2d18a148daef25",
            "placeholder": "​",
            "style": "IPY_MODEL_a5eb517897274d298e6e91695932b920",
            "value": "Generating train examples...:  99%"
          }
        },
        "805576c59a7b4ac7b28082273511a2ac": {
          "model_module": "@jupyter-widgets/controls",
          "model_name": "FloatProgressModel",
          "model_module_version": "1.5.0",
          "state": {
            "_dom_classes": [],
            "_model_module": "@jupyter-widgets/controls",
            "_model_module_version": "1.5.0",
            "_model_name": "FloatProgressModel",
            "_view_count": null,
            "_view_module": "@jupyter-widgets/controls",
            "_view_module_version": "1.5.0",
            "_view_name": "ProgressView",
            "bar_style": "",
            "description": "",
            "description_tooltip": null,
            "layout": "IPY_MODEL_21a960c1c121420380c61e2cb7339fa8",
            "max": 25000,
            "min": 0,
            "orientation": "horizontal",
            "style": "IPY_MODEL_0677309d6e214c15acafd6db78737bdc",
            "value": 25000
          }
        },
        "0cb72968a24546229222d359a039fed1": {
          "model_module": "@jupyter-widgets/controls",
          "model_name": "HTMLModel",
          "model_module_version": "1.5.0",
          "state": {
            "_dom_classes": [],
            "_model_module": "@jupyter-widgets/controls",
            "_model_module_version": "1.5.0",
            "_model_name": "HTMLModel",
            "_view_count": null,
            "_view_module": "@jupyter-widgets/controls",
            "_view_module_version": "1.5.0",
            "_view_name": "HTMLView",
            "description": "",
            "description_tooltip": null,
            "layout": "IPY_MODEL_70c8dc0ffde942c8aa536633122f5e52",
            "placeholder": "​",
            "style": "IPY_MODEL_33d017d1e4f44504bc246e1174e78d13",
            "value": " 24780/25000 [00:10&lt;00:00, 3503.26 examples/s]"
          }
        },
        "bf172598201546a0859e6795e113f686": {
          "model_module": "@jupyter-widgets/base",
          "model_name": "LayoutModel",
          "model_module_version": "1.2.0",
          "state": {
            "_model_module": "@jupyter-widgets/base",
            "_model_module_version": "1.2.0",
            "_model_name": "LayoutModel",
            "_view_count": null,
            "_view_module": "@jupyter-widgets/base",
            "_view_module_version": "1.2.0",
            "_view_name": "LayoutView",
            "align_content": null,
            "align_items": null,
            "align_self": null,
            "border": null,
            "bottom": null,
            "display": null,
            "flex": null,
            "flex_flow": null,
            "grid_area": null,
            "grid_auto_columns": null,
            "grid_auto_flow": null,
            "grid_auto_rows": null,
            "grid_column": null,
            "grid_gap": null,
            "grid_row": null,
            "grid_template_areas": null,
            "grid_template_columns": null,
            "grid_template_rows": null,
            "height": null,
            "justify_content": null,
            "justify_items": null,
            "left": null,
            "margin": null,
            "max_height": null,
            "max_width": null,
            "min_height": null,
            "min_width": null,
            "object_fit": null,
            "object_position": null,
            "order": null,
            "overflow": null,
            "overflow_x": null,
            "overflow_y": null,
            "padding": null,
            "right": null,
            "top": null,
            "visibility": "hidden",
            "width": null
          }
        },
        "eee7806ff38b44498b2d18a148daef25": {
          "model_module": "@jupyter-widgets/base",
          "model_name": "LayoutModel",
          "model_module_version": "1.2.0",
          "state": {
            "_model_module": "@jupyter-widgets/base",
            "_model_module_version": "1.2.0",
            "_model_name": "LayoutModel",
            "_view_count": null,
            "_view_module": "@jupyter-widgets/base",
            "_view_module_version": "1.2.0",
            "_view_name": "LayoutView",
            "align_content": null,
            "align_items": null,
            "align_self": null,
            "border": null,
            "bottom": null,
            "display": null,
            "flex": null,
            "flex_flow": null,
            "grid_area": null,
            "grid_auto_columns": null,
            "grid_auto_flow": null,
            "grid_auto_rows": null,
            "grid_column": null,
            "grid_gap": null,
            "grid_row": null,
            "grid_template_areas": null,
            "grid_template_columns": null,
            "grid_template_rows": null,
            "height": null,
            "justify_content": null,
            "justify_items": null,
            "left": null,
            "margin": null,
            "max_height": null,
            "max_width": null,
            "min_height": null,
            "min_width": null,
            "object_fit": null,
            "object_position": null,
            "order": null,
            "overflow": null,
            "overflow_x": null,
            "overflow_y": null,
            "padding": null,
            "right": null,
            "top": null,
            "visibility": null,
            "width": null
          }
        },
        "a5eb517897274d298e6e91695932b920": {
          "model_module": "@jupyter-widgets/controls",
          "model_name": "DescriptionStyleModel",
          "model_module_version": "1.5.0",
          "state": {
            "_model_module": "@jupyter-widgets/controls",
            "_model_module_version": "1.5.0",
            "_model_name": "DescriptionStyleModel",
            "_view_count": null,
            "_view_module": "@jupyter-widgets/base",
            "_view_module_version": "1.2.0",
            "_view_name": "StyleView",
            "description_width": ""
          }
        },
        "21a960c1c121420380c61e2cb7339fa8": {
          "model_module": "@jupyter-widgets/base",
          "model_name": "LayoutModel",
          "model_module_version": "1.2.0",
          "state": {
            "_model_module": "@jupyter-widgets/base",
            "_model_module_version": "1.2.0",
            "_model_name": "LayoutModel",
            "_view_count": null,
            "_view_module": "@jupyter-widgets/base",
            "_view_module_version": "1.2.0",
            "_view_name": "LayoutView",
            "align_content": null,
            "align_items": null,
            "align_self": null,
            "border": null,
            "bottom": null,
            "display": null,
            "flex": null,
            "flex_flow": null,
            "grid_area": null,
            "grid_auto_columns": null,
            "grid_auto_flow": null,
            "grid_auto_rows": null,
            "grid_column": null,
            "grid_gap": null,
            "grid_row": null,
            "grid_template_areas": null,
            "grid_template_columns": null,
            "grid_template_rows": null,
            "height": null,
            "justify_content": null,
            "justify_items": null,
            "left": null,
            "margin": null,
            "max_height": null,
            "max_width": null,
            "min_height": null,
            "min_width": null,
            "object_fit": null,
            "object_position": null,
            "order": null,
            "overflow": null,
            "overflow_x": null,
            "overflow_y": null,
            "padding": null,
            "right": null,
            "top": null,
            "visibility": null,
            "width": null
          }
        },
        "0677309d6e214c15acafd6db78737bdc": {
          "model_module": "@jupyter-widgets/controls",
          "model_name": "ProgressStyleModel",
          "model_module_version": "1.5.0",
          "state": {
            "_model_module": "@jupyter-widgets/controls",
            "_model_module_version": "1.5.0",
            "_model_name": "ProgressStyleModel",
            "_view_count": null,
            "_view_module": "@jupyter-widgets/base",
            "_view_module_version": "1.2.0",
            "_view_name": "StyleView",
            "bar_color": null,
            "description_width": ""
          }
        },
        "70c8dc0ffde942c8aa536633122f5e52": {
          "model_module": "@jupyter-widgets/base",
          "model_name": "LayoutModel",
          "model_module_version": "1.2.0",
          "state": {
            "_model_module": "@jupyter-widgets/base",
            "_model_module_version": "1.2.0",
            "_model_name": "LayoutModel",
            "_view_count": null,
            "_view_module": "@jupyter-widgets/base",
            "_view_module_version": "1.2.0",
            "_view_name": "LayoutView",
            "align_content": null,
            "align_items": null,
            "align_self": null,
            "border": null,
            "bottom": null,
            "display": null,
            "flex": null,
            "flex_flow": null,
            "grid_area": null,
            "grid_auto_columns": null,
            "grid_auto_flow": null,
            "grid_auto_rows": null,
            "grid_column": null,
            "grid_gap": null,
            "grid_row": null,
            "grid_template_areas": null,
            "grid_template_columns": null,
            "grid_template_rows": null,
            "height": null,
            "justify_content": null,
            "justify_items": null,
            "left": null,
            "margin": null,
            "max_height": null,
            "max_width": null,
            "min_height": null,
            "min_width": null,
            "object_fit": null,
            "object_position": null,
            "order": null,
            "overflow": null,
            "overflow_x": null,
            "overflow_y": null,
            "padding": null,
            "right": null,
            "top": null,
            "visibility": null,
            "width": null
          }
        },
        "33d017d1e4f44504bc246e1174e78d13": {
          "model_module": "@jupyter-widgets/controls",
          "model_name": "DescriptionStyleModel",
          "model_module_version": "1.5.0",
          "state": {
            "_model_module": "@jupyter-widgets/controls",
            "_model_module_version": "1.5.0",
            "_model_name": "DescriptionStyleModel",
            "_view_count": null,
            "_view_module": "@jupyter-widgets/base",
            "_view_module_version": "1.2.0",
            "_view_name": "StyleView",
            "description_width": ""
          }
        },
        "1dc77aef14bb4696abe7fa5611f2e4f7": {
          "model_module": "@jupyter-widgets/controls",
          "model_name": "HBoxModel",
          "model_module_version": "1.5.0",
          "state": {
            "_dom_classes": [],
            "_model_module": "@jupyter-widgets/controls",
            "_model_module_version": "1.5.0",
            "_model_name": "HBoxModel",
            "_view_count": null,
            "_view_module": "@jupyter-widgets/controls",
            "_view_module_version": "1.5.0",
            "_view_name": "HBoxView",
            "box_style": "",
            "children": [
              "IPY_MODEL_4100f2c6ec12479c828f50df2e03e811",
              "IPY_MODEL_c0b38850a5584654bbb361c325d07ab9",
              "IPY_MODEL_dede6c2dc89345cc8e2b5b2bebea6f36"
            ],
            "layout": "IPY_MODEL_3f04fcf4ad3640f58fd5ef890829035d"
          }
        },
        "4100f2c6ec12479c828f50df2e03e811": {
          "model_module": "@jupyter-widgets/controls",
          "model_name": "HTMLModel",
          "model_module_version": "1.5.0",
          "state": {
            "_dom_classes": [],
            "_model_module": "@jupyter-widgets/controls",
            "_model_module_version": "1.5.0",
            "_model_name": "HTMLModel",
            "_view_count": null,
            "_view_module": "@jupyter-widgets/controls",
            "_view_module_version": "1.5.0",
            "_view_name": "HTMLView",
            "description": "",
            "description_tooltip": null,
            "layout": "IPY_MODEL_d2a8e210af314bae8d15fb3f7beccbca",
            "placeholder": "​",
            "style": "IPY_MODEL_755df0837a684b5cbca0b612fb3228e9",
            "value": "Shuffling ~/tensorflow_datasets/imdb_reviews/plain_text/1.0.0.incompleteV2ZIOA/imdb_reviews-train.tfrecord*...:  66%"
          }
        },
        "c0b38850a5584654bbb361c325d07ab9": {
          "model_module": "@jupyter-widgets/controls",
          "model_name": "FloatProgressModel",
          "model_module_version": "1.5.0",
          "state": {
            "_dom_classes": [],
            "_model_module": "@jupyter-widgets/controls",
            "_model_module_version": "1.5.0",
            "_model_name": "FloatProgressModel",
            "_view_count": null,
            "_view_module": "@jupyter-widgets/controls",
            "_view_module_version": "1.5.0",
            "_view_name": "ProgressView",
            "bar_style": "",
            "description": "",
            "description_tooltip": null,
            "layout": "IPY_MODEL_fbbfbb832ca24a1cbe4f8f541225d0cb",
            "max": 25000,
            "min": 0,
            "orientation": "horizontal",
            "style": "IPY_MODEL_d60cdbd4255f4a8580941a253071f2c3",
            "value": 25000
          }
        },
        "dede6c2dc89345cc8e2b5b2bebea6f36": {
          "model_module": "@jupyter-widgets/controls",
          "model_name": "HTMLModel",
          "model_module_version": "1.5.0",
          "state": {
            "_dom_classes": [],
            "_model_module": "@jupyter-widgets/controls",
            "_model_module_version": "1.5.0",
            "_model_name": "HTMLModel",
            "_view_count": null,
            "_view_module": "@jupyter-widgets/controls",
            "_view_module_version": "1.5.0",
            "_view_name": "HTMLView",
            "description": "",
            "description_tooltip": null,
            "layout": "IPY_MODEL_9076f9f4b679443eaed6bc620179159e",
            "placeholder": "​",
            "style": "IPY_MODEL_cce7a831bc7744de9b8360336729d8ed",
            "value": " 16425/25000 [00:00&lt;00:00, 96263.85 examples/s]"
          }
        },
        "3f04fcf4ad3640f58fd5ef890829035d": {
          "model_module": "@jupyter-widgets/base",
          "model_name": "LayoutModel",
          "model_module_version": "1.2.0",
          "state": {
            "_model_module": "@jupyter-widgets/base",
            "_model_module_version": "1.2.0",
            "_model_name": "LayoutModel",
            "_view_count": null,
            "_view_module": "@jupyter-widgets/base",
            "_view_module_version": "1.2.0",
            "_view_name": "LayoutView",
            "align_content": null,
            "align_items": null,
            "align_self": null,
            "border": null,
            "bottom": null,
            "display": null,
            "flex": null,
            "flex_flow": null,
            "grid_area": null,
            "grid_auto_columns": null,
            "grid_auto_flow": null,
            "grid_auto_rows": null,
            "grid_column": null,
            "grid_gap": null,
            "grid_row": null,
            "grid_template_areas": null,
            "grid_template_columns": null,
            "grid_template_rows": null,
            "height": null,
            "justify_content": null,
            "justify_items": null,
            "left": null,
            "margin": null,
            "max_height": null,
            "max_width": null,
            "min_height": null,
            "min_width": null,
            "object_fit": null,
            "object_position": null,
            "order": null,
            "overflow": null,
            "overflow_x": null,
            "overflow_y": null,
            "padding": null,
            "right": null,
            "top": null,
            "visibility": "hidden",
            "width": null
          }
        },
        "d2a8e210af314bae8d15fb3f7beccbca": {
          "model_module": "@jupyter-widgets/base",
          "model_name": "LayoutModel",
          "model_module_version": "1.2.0",
          "state": {
            "_model_module": "@jupyter-widgets/base",
            "_model_module_version": "1.2.0",
            "_model_name": "LayoutModel",
            "_view_count": null,
            "_view_module": "@jupyter-widgets/base",
            "_view_module_version": "1.2.0",
            "_view_name": "LayoutView",
            "align_content": null,
            "align_items": null,
            "align_self": null,
            "border": null,
            "bottom": null,
            "display": null,
            "flex": null,
            "flex_flow": null,
            "grid_area": null,
            "grid_auto_columns": null,
            "grid_auto_flow": null,
            "grid_auto_rows": null,
            "grid_column": null,
            "grid_gap": null,
            "grid_row": null,
            "grid_template_areas": null,
            "grid_template_columns": null,
            "grid_template_rows": null,
            "height": null,
            "justify_content": null,
            "justify_items": null,
            "left": null,
            "margin": null,
            "max_height": null,
            "max_width": null,
            "min_height": null,
            "min_width": null,
            "object_fit": null,
            "object_position": null,
            "order": null,
            "overflow": null,
            "overflow_x": null,
            "overflow_y": null,
            "padding": null,
            "right": null,
            "top": null,
            "visibility": null,
            "width": null
          }
        },
        "755df0837a684b5cbca0b612fb3228e9": {
          "model_module": "@jupyter-widgets/controls",
          "model_name": "DescriptionStyleModel",
          "model_module_version": "1.5.0",
          "state": {
            "_model_module": "@jupyter-widgets/controls",
            "_model_module_version": "1.5.0",
            "_model_name": "DescriptionStyleModel",
            "_view_count": null,
            "_view_module": "@jupyter-widgets/base",
            "_view_module_version": "1.2.0",
            "_view_name": "StyleView",
            "description_width": ""
          }
        },
        "fbbfbb832ca24a1cbe4f8f541225d0cb": {
          "model_module": "@jupyter-widgets/base",
          "model_name": "LayoutModel",
          "model_module_version": "1.2.0",
          "state": {
            "_model_module": "@jupyter-widgets/base",
            "_model_module_version": "1.2.0",
            "_model_name": "LayoutModel",
            "_view_count": null,
            "_view_module": "@jupyter-widgets/base",
            "_view_module_version": "1.2.0",
            "_view_name": "LayoutView",
            "align_content": null,
            "align_items": null,
            "align_self": null,
            "border": null,
            "bottom": null,
            "display": null,
            "flex": null,
            "flex_flow": null,
            "grid_area": null,
            "grid_auto_columns": null,
            "grid_auto_flow": null,
            "grid_auto_rows": null,
            "grid_column": null,
            "grid_gap": null,
            "grid_row": null,
            "grid_template_areas": null,
            "grid_template_columns": null,
            "grid_template_rows": null,
            "height": null,
            "justify_content": null,
            "justify_items": null,
            "left": null,
            "margin": null,
            "max_height": null,
            "max_width": null,
            "min_height": null,
            "min_width": null,
            "object_fit": null,
            "object_position": null,
            "order": null,
            "overflow": null,
            "overflow_x": null,
            "overflow_y": null,
            "padding": null,
            "right": null,
            "top": null,
            "visibility": null,
            "width": null
          }
        },
        "d60cdbd4255f4a8580941a253071f2c3": {
          "model_module": "@jupyter-widgets/controls",
          "model_name": "ProgressStyleModel",
          "model_module_version": "1.5.0",
          "state": {
            "_model_module": "@jupyter-widgets/controls",
            "_model_module_version": "1.5.0",
            "_model_name": "ProgressStyleModel",
            "_view_count": null,
            "_view_module": "@jupyter-widgets/base",
            "_view_module_version": "1.2.0",
            "_view_name": "StyleView",
            "bar_color": null,
            "description_width": ""
          }
        },
        "9076f9f4b679443eaed6bc620179159e": {
          "model_module": "@jupyter-widgets/base",
          "model_name": "LayoutModel",
          "model_module_version": "1.2.0",
          "state": {
            "_model_module": "@jupyter-widgets/base",
            "_model_module_version": "1.2.0",
            "_model_name": "LayoutModel",
            "_view_count": null,
            "_view_module": "@jupyter-widgets/base",
            "_view_module_version": "1.2.0",
            "_view_name": "LayoutView",
            "align_content": null,
            "align_items": null,
            "align_self": null,
            "border": null,
            "bottom": null,
            "display": null,
            "flex": null,
            "flex_flow": null,
            "grid_area": null,
            "grid_auto_columns": null,
            "grid_auto_flow": null,
            "grid_auto_rows": null,
            "grid_column": null,
            "grid_gap": null,
            "grid_row": null,
            "grid_template_areas": null,
            "grid_template_columns": null,
            "grid_template_rows": null,
            "height": null,
            "justify_content": null,
            "justify_items": null,
            "left": null,
            "margin": null,
            "max_height": null,
            "max_width": null,
            "min_height": null,
            "min_width": null,
            "object_fit": null,
            "object_position": null,
            "order": null,
            "overflow": null,
            "overflow_x": null,
            "overflow_y": null,
            "padding": null,
            "right": null,
            "top": null,
            "visibility": null,
            "width": null
          }
        },
        "cce7a831bc7744de9b8360336729d8ed": {
          "model_module": "@jupyter-widgets/controls",
          "model_name": "DescriptionStyleModel",
          "model_module_version": "1.5.0",
          "state": {
            "_model_module": "@jupyter-widgets/controls",
            "_model_module_version": "1.5.0",
            "_model_name": "DescriptionStyleModel",
            "_view_count": null,
            "_view_module": "@jupyter-widgets/base",
            "_view_module_version": "1.2.0",
            "_view_name": "StyleView",
            "description_width": ""
          }
        },
        "6f3a2dcc0f8747e19c279adbc977624a": {
          "model_module": "@jupyter-widgets/controls",
          "model_name": "HBoxModel",
          "model_module_version": "1.5.0",
          "state": {
            "_dom_classes": [],
            "_model_module": "@jupyter-widgets/controls",
            "_model_module_version": "1.5.0",
            "_model_name": "HBoxModel",
            "_view_count": null,
            "_view_module": "@jupyter-widgets/controls",
            "_view_module_version": "1.5.0",
            "_view_name": "HBoxView",
            "box_style": "",
            "children": [
              "IPY_MODEL_c9d63aa4fd0c44ff9b4b91cc878387e0",
              "IPY_MODEL_1dd9f41813574c88a214ac75c8abc697",
              "IPY_MODEL_759039410da447cbafac2082ce36383d"
            ],
            "layout": "IPY_MODEL_6ad1f0ac56224daaa64aa6ef12eb76ee"
          }
        },
        "c9d63aa4fd0c44ff9b4b91cc878387e0": {
          "model_module": "@jupyter-widgets/controls",
          "model_name": "HTMLModel",
          "model_module_version": "1.5.0",
          "state": {
            "_dom_classes": [],
            "_model_module": "@jupyter-widgets/controls",
            "_model_module_version": "1.5.0",
            "_model_name": "HTMLModel",
            "_view_count": null,
            "_view_module": "@jupyter-widgets/controls",
            "_view_module_version": "1.5.0",
            "_view_name": "HTMLView",
            "description": "",
            "description_tooltip": null,
            "layout": "IPY_MODEL_6921659d1f5640ad82273da62a4f14ea",
            "placeholder": "​",
            "style": "IPY_MODEL_f752802673a34c399c1e5720d3a84d27",
            "value": "Generating test examples...: 100%"
          }
        },
        "1dd9f41813574c88a214ac75c8abc697": {
          "model_module": "@jupyter-widgets/controls",
          "model_name": "FloatProgressModel",
          "model_module_version": "1.5.0",
          "state": {
            "_dom_classes": [],
            "_model_module": "@jupyter-widgets/controls",
            "_model_module_version": "1.5.0",
            "_model_name": "FloatProgressModel",
            "_view_count": null,
            "_view_module": "@jupyter-widgets/controls",
            "_view_module_version": "1.5.0",
            "_view_name": "ProgressView",
            "bar_style": "",
            "description": "",
            "description_tooltip": null,
            "layout": "IPY_MODEL_4d0f3d5867a14861b8625c83b70b54ce",
            "max": 25000,
            "min": 0,
            "orientation": "horizontal",
            "style": "IPY_MODEL_c3b249c7d04949efa315360953eac6ba",
            "value": 25000
          }
        },
        "759039410da447cbafac2082ce36383d": {
          "model_module": "@jupyter-widgets/controls",
          "model_name": "HTMLModel",
          "model_module_version": "1.5.0",
          "state": {
            "_dom_classes": [],
            "_model_module": "@jupyter-widgets/controls",
            "_model_module_version": "1.5.0",
            "_model_name": "HTMLModel",
            "_view_count": null,
            "_view_module": "@jupyter-widgets/controls",
            "_view_module_version": "1.5.0",
            "_view_name": "HTMLView",
            "description": "",
            "description_tooltip": null,
            "layout": "IPY_MODEL_00f2fc510a304fb194158e01c1a2301c",
            "placeholder": "​",
            "style": "IPY_MODEL_eeb68fa919204df3a8aa08136b834b00",
            "value": " 24945/25000 [00:08&lt;00:00, 2170.03 examples/s]"
          }
        },
        "6ad1f0ac56224daaa64aa6ef12eb76ee": {
          "model_module": "@jupyter-widgets/base",
          "model_name": "LayoutModel",
          "model_module_version": "1.2.0",
          "state": {
            "_model_module": "@jupyter-widgets/base",
            "_model_module_version": "1.2.0",
            "_model_name": "LayoutModel",
            "_view_count": null,
            "_view_module": "@jupyter-widgets/base",
            "_view_module_version": "1.2.0",
            "_view_name": "LayoutView",
            "align_content": null,
            "align_items": null,
            "align_self": null,
            "border": null,
            "bottom": null,
            "display": null,
            "flex": null,
            "flex_flow": null,
            "grid_area": null,
            "grid_auto_columns": null,
            "grid_auto_flow": null,
            "grid_auto_rows": null,
            "grid_column": null,
            "grid_gap": null,
            "grid_row": null,
            "grid_template_areas": null,
            "grid_template_columns": null,
            "grid_template_rows": null,
            "height": null,
            "justify_content": null,
            "justify_items": null,
            "left": null,
            "margin": null,
            "max_height": null,
            "max_width": null,
            "min_height": null,
            "min_width": null,
            "object_fit": null,
            "object_position": null,
            "order": null,
            "overflow": null,
            "overflow_x": null,
            "overflow_y": null,
            "padding": null,
            "right": null,
            "top": null,
            "visibility": "hidden",
            "width": null
          }
        },
        "6921659d1f5640ad82273da62a4f14ea": {
          "model_module": "@jupyter-widgets/base",
          "model_name": "LayoutModel",
          "model_module_version": "1.2.0",
          "state": {
            "_model_module": "@jupyter-widgets/base",
            "_model_module_version": "1.2.0",
            "_model_name": "LayoutModel",
            "_view_count": null,
            "_view_module": "@jupyter-widgets/base",
            "_view_module_version": "1.2.0",
            "_view_name": "LayoutView",
            "align_content": null,
            "align_items": null,
            "align_self": null,
            "border": null,
            "bottom": null,
            "display": null,
            "flex": null,
            "flex_flow": null,
            "grid_area": null,
            "grid_auto_columns": null,
            "grid_auto_flow": null,
            "grid_auto_rows": null,
            "grid_column": null,
            "grid_gap": null,
            "grid_row": null,
            "grid_template_areas": null,
            "grid_template_columns": null,
            "grid_template_rows": null,
            "height": null,
            "justify_content": null,
            "justify_items": null,
            "left": null,
            "margin": null,
            "max_height": null,
            "max_width": null,
            "min_height": null,
            "min_width": null,
            "object_fit": null,
            "object_position": null,
            "order": null,
            "overflow": null,
            "overflow_x": null,
            "overflow_y": null,
            "padding": null,
            "right": null,
            "top": null,
            "visibility": null,
            "width": null
          }
        },
        "f752802673a34c399c1e5720d3a84d27": {
          "model_module": "@jupyter-widgets/controls",
          "model_name": "DescriptionStyleModel",
          "model_module_version": "1.5.0",
          "state": {
            "_model_module": "@jupyter-widgets/controls",
            "_model_module_version": "1.5.0",
            "_model_name": "DescriptionStyleModel",
            "_view_count": null,
            "_view_module": "@jupyter-widgets/base",
            "_view_module_version": "1.2.0",
            "_view_name": "StyleView",
            "description_width": ""
          }
        },
        "4d0f3d5867a14861b8625c83b70b54ce": {
          "model_module": "@jupyter-widgets/base",
          "model_name": "LayoutModel",
          "model_module_version": "1.2.0",
          "state": {
            "_model_module": "@jupyter-widgets/base",
            "_model_module_version": "1.2.0",
            "_model_name": "LayoutModel",
            "_view_count": null,
            "_view_module": "@jupyter-widgets/base",
            "_view_module_version": "1.2.0",
            "_view_name": "LayoutView",
            "align_content": null,
            "align_items": null,
            "align_self": null,
            "border": null,
            "bottom": null,
            "display": null,
            "flex": null,
            "flex_flow": null,
            "grid_area": null,
            "grid_auto_columns": null,
            "grid_auto_flow": null,
            "grid_auto_rows": null,
            "grid_column": null,
            "grid_gap": null,
            "grid_row": null,
            "grid_template_areas": null,
            "grid_template_columns": null,
            "grid_template_rows": null,
            "height": null,
            "justify_content": null,
            "justify_items": null,
            "left": null,
            "margin": null,
            "max_height": null,
            "max_width": null,
            "min_height": null,
            "min_width": null,
            "object_fit": null,
            "object_position": null,
            "order": null,
            "overflow": null,
            "overflow_x": null,
            "overflow_y": null,
            "padding": null,
            "right": null,
            "top": null,
            "visibility": null,
            "width": null
          }
        },
        "c3b249c7d04949efa315360953eac6ba": {
          "model_module": "@jupyter-widgets/controls",
          "model_name": "ProgressStyleModel",
          "model_module_version": "1.5.0",
          "state": {
            "_model_module": "@jupyter-widgets/controls",
            "_model_module_version": "1.5.0",
            "_model_name": "ProgressStyleModel",
            "_view_count": null,
            "_view_module": "@jupyter-widgets/base",
            "_view_module_version": "1.2.0",
            "_view_name": "StyleView",
            "bar_color": null,
            "description_width": ""
          }
        },
        "00f2fc510a304fb194158e01c1a2301c": {
          "model_module": "@jupyter-widgets/base",
          "model_name": "LayoutModel",
          "model_module_version": "1.2.0",
          "state": {
            "_model_module": "@jupyter-widgets/base",
            "_model_module_version": "1.2.0",
            "_model_name": "LayoutModel",
            "_view_count": null,
            "_view_module": "@jupyter-widgets/base",
            "_view_module_version": "1.2.0",
            "_view_name": "LayoutView",
            "align_content": null,
            "align_items": null,
            "align_self": null,
            "border": null,
            "bottom": null,
            "display": null,
            "flex": null,
            "flex_flow": null,
            "grid_area": null,
            "grid_auto_columns": null,
            "grid_auto_flow": null,
            "grid_auto_rows": null,
            "grid_column": null,
            "grid_gap": null,
            "grid_row": null,
            "grid_template_areas": null,
            "grid_template_columns": null,
            "grid_template_rows": null,
            "height": null,
            "justify_content": null,
            "justify_items": null,
            "left": null,
            "margin": null,
            "max_height": null,
            "max_width": null,
            "min_height": null,
            "min_width": null,
            "object_fit": null,
            "object_position": null,
            "order": null,
            "overflow": null,
            "overflow_x": null,
            "overflow_y": null,
            "padding": null,
            "right": null,
            "top": null,
            "visibility": null,
            "width": null
          }
        },
        "eeb68fa919204df3a8aa08136b834b00": {
          "model_module": "@jupyter-widgets/controls",
          "model_name": "DescriptionStyleModel",
          "model_module_version": "1.5.0",
          "state": {
            "_model_module": "@jupyter-widgets/controls",
            "_model_module_version": "1.5.0",
            "_model_name": "DescriptionStyleModel",
            "_view_count": null,
            "_view_module": "@jupyter-widgets/base",
            "_view_module_version": "1.2.0",
            "_view_name": "StyleView",
            "description_width": ""
          }
        },
        "0a5ae30b58664d4987c0fe93f1e5080a": {
          "model_module": "@jupyter-widgets/controls",
          "model_name": "HBoxModel",
          "model_module_version": "1.5.0",
          "state": {
            "_dom_classes": [],
            "_model_module": "@jupyter-widgets/controls",
            "_model_module_version": "1.5.0",
            "_model_name": "HBoxModel",
            "_view_count": null,
            "_view_module": "@jupyter-widgets/controls",
            "_view_module_version": "1.5.0",
            "_view_name": "HBoxView",
            "box_style": "",
            "children": [
              "IPY_MODEL_338b20711e064946978cc8418b2af0ec",
              "IPY_MODEL_4d1cd3b5196f4b94afea7aa354d01341",
              "IPY_MODEL_114417447f3245229f16a4f8c05f97ea"
            ],
            "layout": "IPY_MODEL_2b497e2e05714e0b886a579b0e30002d"
          }
        },
        "338b20711e064946978cc8418b2af0ec": {
          "model_module": "@jupyter-widgets/controls",
          "model_name": "HTMLModel",
          "model_module_version": "1.5.0",
          "state": {
            "_dom_classes": [],
            "_model_module": "@jupyter-widgets/controls",
            "_model_module_version": "1.5.0",
            "_model_name": "HTMLModel",
            "_view_count": null,
            "_view_module": "@jupyter-widgets/controls",
            "_view_module_version": "1.5.0",
            "_view_name": "HTMLView",
            "description": "",
            "description_tooltip": null,
            "layout": "IPY_MODEL_7b529118bdd04dde834106ce8032686c",
            "placeholder": "​",
            "style": "IPY_MODEL_2d05114ba58e4b4792bdbda47b00d10d",
            "value": "Shuffling ~/tensorflow_datasets/imdb_reviews/plain_text/1.0.0.incompleteV2ZIOA/imdb_reviews-test.tfrecord*...:  76%"
          }
        },
        "4d1cd3b5196f4b94afea7aa354d01341": {
          "model_module": "@jupyter-widgets/controls",
          "model_name": "FloatProgressModel",
          "model_module_version": "1.5.0",
          "state": {
            "_dom_classes": [],
            "_model_module": "@jupyter-widgets/controls",
            "_model_module_version": "1.5.0",
            "_model_name": "FloatProgressModel",
            "_view_count": null,
            "_view_module": "@jupyter-widgets/controls",
            "_view_module_version": "1.5.0",
            "_view_name": "ProgressView",
            "bar_style": "",
            "description": "",
            "description_tooltip": null,
            "layout": "IPY_MODEL_0e33fca3e83f45f5ad14471267cc4a0a",
            "max": 25000,
            "min": 0,
            "orientation": "horizontal",
            "style": "IPY_MODEL_f88fcf9391d14986a0912482e723970d",
            "value": 25000
          }
        },
        "114417447f3245229f16a4f8c05f97ea": {
          "model_module": "@jupyter-widgets/controls",
          "model_name": "HTMLModel",
          "model_module_version": "1.5.0",
          "state": {
            "_dom_classes": [],
            "_model_module": "@jupyter-widgets/controls",
            "_model_module_version": "1.5.0",
            "_model_name": "HTMLModel",
            "_view_count": null,
            "_view_module": "@jupyter-widgets/controls",
            "_view_module_version": "1.5.0",
            "_view_name": "HTMLView",
            "description": "",
            "description_tooltip": null,
            "layout": "IPY_MODEL_9f117d2df3ee4ad4af78d013d60f315f",
            "placeholder": "​",
            "style": "IPY_MODEL_d4de64ed19294e98abe1dc2827956213",
            "value": " 18923/25000 [00:00&lt;00:00, 108491.56 examples/s]"
          }
        },
        "2b497e2e05714e0b886a579b0e30002d": {
          "model_module": "@jupyter-widgets/base",
          "model_name": "LayoutModel",
          "model_module_version": "1.2.0",
          "state": {
            "_model_module": "@jupyter-widgets/base",
            "_model_module_version": "1.2.0",
            "_model_name": "LayoutModel",
            "_view_count": null,
            "_view_module": "@jupyter-widgets/base",
            "_view_module_version": "1.2.0",
            "_view_name": "LayoutView",
            "align_content": null,
            "align_items": null,
            "align_self": null,
            "border": null,
            "bottom": null,
            "display": null,
            "flex": null,
            "flex_flow": null,
            "grid_area": null,
            "grid_auto_columns": null,
            "grid_auto_flow": null,
            "grid_auto_rows": null,
            "grid_column": null,
            "grid_gap": null,
            "grid_row": null,
            "grid_template_areas": null,
            "grid_template_columns": null,
            "grid_template_rows": null,
            "height": null,
            "justify_content": null,
            "justify_items": null,
            "left": null,
            "margin": null,
            "max_height": null,
            "max_width": null,
            "min_height": null,
            "min_width": null,
            "object_fit": null,
            "object_position": null,
            "order": null,
            "overflow": null,
            "overflow_x": null,
            "overflow_y": null,
            "padding": null,
            "right": null,
            "top": null,
            "visibility": "hidden",
            "width": null
          }
        },
        "7b529118bdd04dde834106ce8032686c": {
          "model_module": "@jupyter-widgets/base",
          "model_name": "LayoutModel",
          "model_module_version": "1.2.0",
          "state": {
            "_model_module": "@jupyter-widgets/base",
            "_model_module_version": "1.2.0",
            "_model_name": "LayoutModel",
            "_view_count": null,
            "_view_module": "@jupyter-widgets/base",
            "_view_module_version": "1.2.0",
            "_view_name": "LayoutView",
            "align_content": null,
            "align_items": null,
            "align_self": null,
            "border": null,
            "bottom": null,
            "display": null,
            "flex": null,
            "flex_flow": null,
            "grid_area": null,
            "grid_auto_columns": null,
            "grid_auto_flow": null,
            "grid_auto_rows": null,
            "grid_column": null,
            "grid_gap": null,
            "grid_row": null,
            "grid_template_areas": null,
            "grid_template_columns": null,
            "grid_template_rows": null,
            "height": null,
            "justify_content": null,
            "justify_items": null,
            "left": null,
            "margin": null,
            "max_height": null,
            "max_width": null,
            "min_height": null,
            "min_width": null,
            "object_fit": null,
            "object_position": null,
            "order": null,
            "overflow": null,
            "overflow_x": null,
            "overflow_y": null,
            "padding": null,
            "right": null,
            "top": null,
            "visibility": null,
            "width": null
          }
        },
        "2d05114ba58e4b4792bdbda47b00d10d": {
          "model_module": "@jupyter-widgets/controls",
          "model_name": "DescriptionStyleModel",
          "model_module_version": "1.5.0",
          "state": {
            "_model_module": "@jupyter-widgets/controls",
            "_model_module_version": "1.5.0",
            "_model_name": "DescriptionStyleModel",
            "_view_count": null,
            "_view_module": "@jupyter-widgets/base",
            "_view_module_version": "1.2.0",
            "_view_name": "StyleView",
            "description_width": ""
          }
        },
        "0e33fca3e83f45f5ad14471267cc4a0a": {
          "model_module": "@jupyter-widgets/base",
          "model_name": "LayoutModel",
          "model_module_version": "1.2.0",
          "state": {
            "_model_module": "@jupyter-widgets/base",
            "_model_module_version": "1.2.0",
            "_model_name": "LayoutModel",
            "_view_count": null,
            "_view_module": "@jupyter-widgets/base",
            "_view_module_version": "1.2.0",
            "_view_name": "LayoutView",
            "align_content": null,
            "align_items": null,
            "align_self": null,
            "border": null,
            "bottom": null,
            "display": null,
            "flex": null,
            "flex_flow": null,
            "grid_area": null,
            "grid_auto_columns": null,
            "grid_auto_flow": null,
            "grid_auto_rows": null,
            "grid_column": null,
            "grid_gap": null,
            "grid_row": null,
            "grid_template_areas": null,
            "grid_template_columns": null,
            "grid_template_rows": null,
            "height": null,
            "justify_content": null,
            "justify_items": null,
            "left": null,
            "margin": null,
            "max_height": null,
            "max_width": null,
            "min_height": null,
            "min_width": null,
            "object_fit": null,
            "object_position": null,
            "order": null,
            "overflow": null,
            "overflow_x": null,
            "overflow_y": null,
            "padding": null,
            "right": null,
            "top": null,
            "visibility": null,
            "width": null
          }
        },
        "f88fcf9391d14986a0912482e723970d": {
          "model_module": "@jupyter-widgets/controls",
          "model_name": "ProgressStyleModel",
          "model_module_version": "1.5.0",
          "state": {
            "_model_module": "@jupyter-widgets/controls",
            "_model_module_version": "1.5.0",
            "_model_name": "ProgressStyleModel",
            "_view_count": null,
            "_view_module": "@jupyter-widgets/base",
            "_view_module_version": "1.2.0",
            "_view_name": "StyleView",
            "bar_color": null,
            "description_width": ""
          }
        },
        "9f117d2df3ee4ad4af78d013d60f315f": {
          "model_module": "@jupyter-widgets/base",
          "model_name": "LayoutModel",
          "model_module_version": "1.2.0",
          "state": {
            "_model_module": "@jupyter-widgets/base",
            "_model_module_version": "1.2.0",
            "_model_name": "LayoutModel",
            "_view_count": null,
            "_view_module": "@jupyter-widgets/base",
            "_view_module_version": "1.2.0",
            "_view_name": "LayoutView",
            "align_content": null,
            "align_items": null,
            "align_self": null,
            "border": null,
            "bottom": null,
            "display": null,
            "flex": null,
            "flex_flow": null,
            "grid_area": null,
            "grid_auto_columns": null,
            "grid_auto_flow": null,
            "grid_auto_rows": null,
            "grid_column": null,
            "grid_gap": null,
            "grid_row": null,
            "grid_template_areas": null,
            "grid_template_columns": null,
            "grid_template_rows": null,
            "height": null,
            "justify_content": null,
            "justify_items": null,
            "left": null,
            "margin": null,
            "max_height": null,
            "max_width": null,
            "min_height": null,
            "min_width": null,
            "object_fit": null,
            "object_position": null,
            "order": null,
            "overflow": null,
            "overflow_x": null,
            "overflow_y": null,
            "padding": null,
            "right": null,
            "top": null,
            "visibility": null,
            "width": null
          }
        },
        "d4de64ed19294e98abe1dc2827956213": {
          "model_module": "@jupyter-widgets/controls",
          "model_name": "DescriptionStyleModel",
          "model_module_version": "1.5.0",
          "state": {
            "_model_module": "@jupyter-widgets/controls",
            "_model_module_version": "1.5.0",
            "_model_name": "DescriptionStyleModel",
            "_view_count": null,
            "_view_module": "@jupyter-widgets/base",
            "_view_module_version": "1.2.0",
            "_view_name": "StyleView",
            "description_width": ""
          }
        },
        "acff2ed3c7d8480d83f447cffb5fb668": {
          "model_module": "@jupyter-widgets/controls",
          "model_name": "HBoxModel",
          "model_module_version": "1.5.0",
          "state": {
            "_dom_classes": [],
            "_model_module": "@jupyter-widgets/controls",
            "_model_module_version": "1.5.0",
            "_model_name": "HBoxModel",
            "_view_count": null,
            "_view_module": "@jupyter-widgets/controls",
            "_view_module_version": "1.5.0",
            "_view_name": "HBoxView",
            "box_style": "",
            "children": [
              "IPY_MODEL_193634598a294a6e8666f8e4df82e3b2",
              "IPY_MODEL_8415dadc9124423a9a0b7614ff80700d",
              "IPY_MODEL_db36b80db7494da784b8645d129ebaf1"
            ],
            "layout": "IPY_MODEL_496fc2335aba4eff9c309ed60c6bdbd8"
          }
        },
        "193634598a294a6e8666f8e4df82e3b2": {
          "model_module": "@jupyter-widgets/controls",
          "model_name": "HTMLModel",
          "model_module_version": "1.5.0",
          "state": {
            "_dom_classes": [],
            "_model_module": "@jupyter-widgets/controls",
            "_model_module_version": "1.5.0",
            "_model_name": "HTMLModel",
            "_view_count": null,
            "_view_module": "@jupyter-widgets/controls",
            "_view_module_version": "1.5.0",
            "_view_name": "HTMLView",
            "description": "",
            "description_tooltip": null,
            "layout": "IPY_MODEL_1046c7d886b64048b7a762a2bb0165e8",
            "placeholder": "​",
            "style": "IPY_MODEL_a022e12d3ddc49e9be57156c7e1260ca",
            "value": "Generating unsupervised examples...: 100%"
          }
        },
        "8415dadc9124423a9a0b7614ff80700d": {
          "model_module": "@jupyter-widgets/controls",
          "model_name": "FloatProgressModel",
          "model_module_version": "1.5.0",
          "state": {
            "_dom_classes": [],
            "_model_module": "@jupyter-widgets/controls",
            "_model_module_version": "1.5.0",
            "_model_name": "FloatProgressModel",
            "_view_count": null,
            "_view_module": "@jupyter-widgets/controls",
            "_view_module_version": "1.5.0",
            "_view_name": "ProgressView",
            "bar_style": "",
            "description": "",
            "description_tooltip": null,
            "layout": "IPY_MODEL_2394d454e2a04f9f9a881ebc5eadd59c",
            "max": 50000,
            "min": 0,
            "orientation": "horizontal",
            "style": "IPY_MODEL_75f6eb8ccbae477f9361738022bce605",
            "value": 50000
          }
        },
        "db36b80db7494da784b8645d129ebaf1": {
          "model_module": "@jupyter-widgets/controls",
          "model_name": "HTMLModel",
          "model_module_version": "1.5.0",
          "state": {
            "_dom_classes": [],
            "_model_module": "@jupyter-widgets/controls",
            "_model_module_version": "1.5.0",
            "_model_name": "HTMLModel",
            "_view_count": null,
            "_view_module": "@jupyter-widgets/controls",
            "_view_module_version": "1.5.0",
            "_view_name": "HTMLView",
            "description": "",
            "description_tooltip": null,
            "layout": "IPY_MODEL_af028a16a9874d90a3289d18fc9a6e60",
            "placeholder": "​",
            "style": "IPY_MODEL_eed1ca7aaa924bdfa00deaa436c29396",
            "value": " 49818/50000 [00:19&lt;00:00, 3511.66 examples/s]"
          }
        },
        "496fc2335aba4eff9c309ed60c6bdbd8": {
          "model_module": "@jupyter-widgets/base",
          "model_name": "LayoutModel",
          "model_module_version": "1.2.0",
          "state": {
            "_model_module": "@jupyter-widgets/base",
            "_model_module_version": "1.2.0",
            "_model_name": "LayoutModel",
            "_view_count": null,
            "_view_module": "@jupyter-widgets/base",
            "_view_module_version": "1.2.0",
            "_view_name": "LayoutView",
            "align_content": null,
            "align_items": null,
            "align_self": null,
            "border": null,
            "bottom": null,
            "display": null,
            "flex": null,
            "flex_flow": null,
            "grid_area": null,
            "grid_auto_columns": null,
            "grid_auto_flow": null,
            "grid_auto_rows": null,
            "grid_column": null,
            "grid_gap": null,
            "grid_row": null,
            "grid_template_areas": null,
            "grid_template_columns": null,
            "grid_template_rows": null,
            "height": null,
            "justify_content": null,
            "justify_items": null,
            "left": null,
            "margin": null,
            "max_height": null,
            "max_width": null,
            "min_height": null,
            "min_width": null,
            "object_fit": null,
            "object_position": null,
            "order": null,
            "overflow": null,
            "overflow_x": null,
            "overflow_y": null,
            "padding": null,
            "right": null,
            "top": null,
            "visibility": "hidden",
            "width": null
          }
        },
        "1046c7d886b64048b7a762a2bb0165e8": {
          "model_module": "@jupyter-widgets/base",
          "model_name": "LayoutModel",
          "model_module_version": "1.2.0",
          "state": {
            "_model_module": "@jupyter-widgets/base",
            "_model_module_version": "1.2.0",
            "_model_name": "LayoutModel",
            "_view_count": null,
            "_view_module": "@jupyter-widgets/base",
            "_view_module_version": "1.2.0",
            "_view_name": "LayoutView",
            "align_content": null,
            "align_items": null,
            "align_self": null,
            "border": null,
            "bottom": null,
            "display": null,
            "flex": null,
            "flex_flow": null,
            "grid_area": null,
            "grid_auto_columns": null,
            "grid_auto_flow": null,
            "grid_auto_rows": null,
            "grid_column": null,
            "grid_gap": null,
            "grid_row": null,
            "grid_template_areas": null,
            "grid_template_columns": null,
            "grid_template_rows": null,
            "height": null,
            "justify_content": null,
            "justify_items": null,
            "left": null,
            "margin": null,
            "max_height": null,
            "max_width": null,
            "min_height": null,
            "min_width": null,
            "object_fit": null,
            "object_position": null,
            "order": null,
            "overflow": null,
            "overflow_x": null,
            "overflow_y": null,
            "padding": null,
            "right": null,
            "top": null,
            "visibility": null,
            "width": null
          }
        },
        "a022e12d3ddc49e9be57156c7e1260ca": {
          "model_module": "@jupyter-widgets/controls",
          "model_name": "DescriptionStyleModel",
          "model_module_version": "1.5.0",
          "state": {
            "_model_module": "@jupyter-widgets/controls",
            "_model_module_version": "1.5.0",
            "_model_name": "DescriptionStyleModel",
            "_view_count": null,
            "_view_module": "@jupyter-widgets/base",
            "_view_module_version": "1.2.0",
            "_view_name": "StyleView",
            "description_width": ""
          }
        },
        "2394d454e2a04f9f9a881ebc5eadd59c": {
          "model_module": "@jupyter-widgets/base",
          "model_name": "LayoutModel",
          "model_module_version": "1.2.0",
          "state": {
            "_model_module": "@jupyter-widgets/base",
            "_model_module_version": "1.2.0",
            "_model_name": "LayoutModel",
            "_view_count": null,
            "_view_module": "@jupyter-widgets/base",
            "_view_module_version": "1.2.0",
            "_view_name": "LayoutView",
            "align_content": null,
            "align_items": null,
            "align_self": null,
            "border": null,
            "bottom": null,
            "display": null,
            "flex": null,
            "flex_flow": null,
            "grid_area": null,
            "grid_auto_columns": null,
            "grid_auto_flow": null,
            "grid_auto_rows": null,
            "grid_column": null,
            "grid_gap": null,
            "grid_row": null,
            "grid_template_areas": null,
            "grid_template_columns": null,
            "grid_template_rows": null,
            "height": null,
            "justify_content": null,
            "justify_items": null,
            "left": null,
            "margin": null,
            "max_height": null,
            "max_width": null,
            "min_height": null,
            "min_width": null,
            "object_fit": null,
            "object_position": null,
            "order": null,
            "overflow": null,
            "overflow_x": null,
            "overflow_y": null,
            "padding": null,
            "right": null,
            "top": null,
            "visibility": null,
            "width": null
          }
        },
        "75f6eb8ccbae477f9361738022bce605": {
          "model_module": "@jupyter-widgets/controls",
          "model_name": "ProgressStyleModel",
          "model_module_version": "1.5.0",
          "state": {
            "_model_module": "@jupyter-widgets/controls",
            "_model_module_version": "1.5.0",
            "_model_name": "ProgressStyleModel",
            "_view_count": null,
            "_view_module": "@jupyter-widgets/base",
            "_view_module_version": "1.2.0",
            "_view_name": "StyleView",
            "bar_color": null,
            "description_width": ""
          }
        },
        "af028a16a9874d90a3289d18fc9a6e60": {
          "model_module": "@jupyter-widgets/base",
          "model_name": "LayoutModel",
          "model_module_version": "1.2.0",
          "state": {
            "_model_module": "@jupyter-widgets/base",
            "_model_module_version": "1.2.0",
            "_model_name": "LayoutModel",
            "_view_count": null,
            "_view_module": "@jupyter-widgets/base",
            "_view_module_version": "1.2.0",
            "_view_name": "LayoutView",
            "align_content": null,
            "align_items": null,
            "align_self": null,
            "border": null,
            "bottom": null,
            "display": null,
            "flex": null,
            "flex_flow": null,
            "grid_area": null,
            "grid_auto_columns": null,
            "grid_auto_flow": null,
            "grid_auto_rows": null,
            "grid_column": null,
            "grid_gap": null,
            "grid_row": null,
            "grid_template_areas": null,
            "grid_template_columns": null,
            "grid_template_rows": null,
            "height": null,
            "justify_content": null,
            "justify_items": null,
            "left": null,
            "margin": null,
            "max_height": null,
            "max_width": null,
            "min_height": null,
            "min_width": null,
            "object_fit": null,
            "object_position": null,
            "order": null,
            "overflow": null,
            "overflow_x": null,
            "overflow_y": null,
            "padding": null,
            "right": null,
            "top": null,
            "visibility": null,
            "width": null
          }
        },
        "eed1ca7aaa924bdfa00deaa436c29396": {
          "model_module": "@jupyter-widgets/controls",
          "model_name": "DescriptionStyleModel",
          "model_module_version": "1.5.0",
          "state": {
            "_model_module": "@jupyter-widgets/controls",
            "_model_module_version": "1.5.0",
            "_model_name": "DescriptionStyleModel",
            "_view_count": null,
            "_view_module": "@jupyter-widgets/base",
            "_view_module_version": "1.2.0",
            "_view_name": "StyleView",
            "description_width": ""
          }
        },
        "94c2da21f7cc436eb8c53a1a7ad09334": {
          "model_module": "@jupyter-widgets/controls",
          "model_name": "HBoxModel",
          "model_module_version": "1.5.0",
          "state": {
            "_dom_classes": [],
            "_model_module": "@jupyter-widgets/controls",
            "_model_module_version": "1.5.0",
            "_model_name": "HBoxModel",
            "_view_count": null,
            "_view_module": "@jupyter-widgets/controls",
            "_view_module_version": "1.5.0",
            "_view_name": "HBoxView",
            "box_style": "",
            "children": [
              "IPY_MODEL_223b261e100b44bb855f6303d1f0b5e1",
              "IPY_MODEL_a4f9c461d965420e84704882afebbd3d",
              "IPY_MODEL_cc697e64ea564fbcafa1b8871bb2bcf0"
            ],
            "layout": "IPY_MODEL_9043a8df1d834c5fbdfafcabe33b1356"
          }
        },
        "223b261e100b44bb855f6303d1f0b5e1": {
          "model_module": "@jupyter-widgets/controls",
          "model_name": "HTMLModel",
          "model_module_version": "1.5.0",
          "state": {
            "_dom_classes": [],
            "_model_module": "@jupyter-widgets/controls",
            "_model_module_version": "1.5.0",
            "_model_name": "HTMLModel",
            "_view_count": null,
            "_view_module": "@jupyter-widgets/controls",
            "_view_module_version": "1.5.0",
            "_view_name": "HTMLView",
            "description": "",
            "description_tooltip": null,
            "layout": "IPY_MODEL_a11e4584cbce467899a1e0ccd64255b7",
            "placeholder": "​",
            "style": "IPY_MODEL_43a01655b89a4276950c206dfbeeed09",
            "value": "Shuffling ~/tensorflow_datasets/imdb_reviews/plain_text/1.0.0.incompleteV2ZIOA/imdb_reviews-unsupervised.tfrecord*...:  72%"
          }
        },
        "a4f9c461d965420e84704882afebbd3d": {
          "model_module": "@jupyter-widgets/controls",
          "model_name": "FloatProgressModel",
          "model_module_version": "1.5.0",
          "state": {
            "_dom_classes": [],
            "_model_module": "@jupyter-widgets/controls",
            "_model_module_version": "1.5.0",
            "_model_name": "FloatProgressModel",
            "_view_count": null,
            "_view_module": "@jupyter-widgets/controls",
            "_view_module_version": "1.5.0",
            "_view_name": "ProgressView",
            "bar_style": "",
            "description": "",
            "description_tooltip": null,
            "layout": "IPY_MODEL_4d858dbeda7942daa359489914ee615c",
            "max": 50000,
            "min": 0,
            "orientation": "horizontal",
            "style": "IPY_MODEL_f26bfe564fe74e449f155df42c8c3609",
            "value": 50000
          }
        },
        "cc697e64ea564fbcafa1b8871bb2bcf0": {
          "model_module": "@jupyter-widgets/controls",
          "model_name": "HTMLModel",
          "model_module_version": "1.5.0",
          "state": {
            "_dom_classes": [],
            "_model_module": "@jupyter-widgets/controls",
            "_model_module_version": "1.5.0",
            "_model_name": "HTMLModel",
            "_view_count": null,
            "_view_module": "@jupyter-widgets/controls",
            "_view_module_version": "1.5.0",
            "_view_name": "HTMLView",
            "description": "",
            "description_tooltip": null,
            "layout": "IPY_MODEL_1b5e3fb5530a4fb88cf6c041d3fd5434",
            "placeholder": "​",
            "style": "IPY_MODEL_534b4c429c6e4e43967ff9da2c57f3b7",
            "value": " 36006/50000 [00:00&lt;00:00, 127316.79 examples/s]"
          }
        },
        "9043a8df1d834c5fbdfafcabe33b1356": {
          "model_module": "@jupyter-widgets/base",
          "model_name": "LayoutModel",
          "model_module_version": "1.2.0",
          "state": {
            "_model_module": "@jupyter-widgets/base",
            "_model_module_version": "1.2.0",
            "_model_name": "LayoutModel",
            "_view_count": null,
            "_view_module": "@jupyter-widgets/base",
            "_view_module_version": "1.2.0",
            "_view_name": "LayoutView",
            "align_content": null,
            "align_items": null,
            "align_self": null,
            "border": null,
            "bottom": null,
            "display": null,
            "flex": null,
            "flex_flow": null,
            "grid_area": null,
            "grid_auto_columns": null,
            "grid_auto_flow": null,
            "grid_auto_rows": null,
            "grid_column": null,
            "grid_gap": null,
            "grid_row": null,
            "grid_template_areas": null,
            "grid_template_columns": null,
            "grid_template_rows": null,
            "height": null,
            "justify_content": null,
            "justify_items": null,
            "left": null,
            "margin": null,
            "max_height": null,
            "max_width": null,
            "min_height": null,
            "min_width": null,
            "object_fit": null,
            "object_position": null,
            "order": null,
            "overflow": null,
            "overflow_x": null,
            "overflow_y": null,
            "padding": null,
            "right": null,
            "top": null,
            "visibility": "hidden",
            "width": null
          }
        },
        "a11e4584cbce467899a1e0ccd64255b7": {
          "model_module": "@jupyter-widgets/base",
          "model_name": "LayoutModel",
          "model_module_version": "1.2.0",
          "state": {
            "_model_module": "@jupyter-widgets/base",
            "_model_module_version": "1.2.0",
            "_model_name": "LayoutModel",
            "_view_count": null,
            "_view_module": "@jupyter-widgets/base",
            "_view_module_version": "1.2.0",
            "_view_name": "LayoutView",
            "align_content": null,
            "align_items": null,
            "align_self": null,
            "border": null,
            "bottom": null,
            "display": null,
            "flex": null,
            "flex_flow": null,
            "grid_area": null,
            "grid_auto_columns": null,
            "grid_auto_flow": null,
            "grid_auto_rows": null,
            "grid_column": null,
            "grid_gap": null,
            "grid_row": null,
            "grid_template_areas": null,
            "grid_template_columns": null,
            "grid_template_rows": null,
            "height": null,
            "justify_content": null,
            "justify_items": null,
            "left": null,
            "margin": null,
            "max_height": null,
            "max_width": null,
            "min_height": null,
            "min_width": null,
            "object_fit": null,
            "object_position": null,
            "order": null,
            "overflow": null,
            "overflow_x": null,
            "overflow_y": null,
            "padding": null,
            "right": null,
            "top": null,
            "visibility": null,
            "width": null
          }
        },
        "43a01655b89a4276950c206dfbeeed09": {
          "model_module": "@jupyter-widgets/controls",
          "model_name": "DescriptionStyleModel",
          "model_module_version": "1.5.0",
          "state": {
            "_model_module": "@jupyter-widgets/controls",
            "_model_module_version": "1.5.0",
            "_model_name": "DescriptionStyleModel",
            "_view_count": null,
            "_view_module": "@jupyter-widgets/base",
            "_view_module_version": "1.2.0",
            "_view_name": "StyleView",
            "description_width": ""
          }
        },
        "4d858dbeda7942daa359489914ee615c": {
          "model_module": "@jupyter-widgets/base",
          "model_name": "LayoutModel",
          "model_module_version": "1.2.0",
          "state": {
            "_model_module": "@jupyter-widgets/base",
            "_model_module_version": "1.2.0",
            "_model_name": "LayoutModel",
            "_view_count": null,
            "_view_module": "@jupyter-widgets/base",
            "_view_module_version": "1.2.0",
            "_view_name": "LayoutView",
            "align_content": null,
            "align_items": null,
            "align_self": null,
            "border": null,
            "bottom": null,
            "display": null,
            "flex": null,
            "flex_flow": null,
            "grid_area": null,
            "grid_auto_columns": null,
            "grid_auto_flow": null,
            "grid_auto_rows": null,
            "grid_column": null,
            "grid_gap": null,
            "grid_row": null,
            "grid_template_areas": null,
            "grid_template_columns": null,
            "grid_template_rows": null,
            "height": null,
            "justify_content": null,
            "justify_items": null,
            "left": null,
            "margin": null,
            "max_height": null,
            "max_width": null,
            "min_height": null,
            "min_width": null,
            "object_fit": null,
            "object_position": null,
            "order": null,
            "overflow": null,
            "overflow_x": null,
            "overflow_y": null,
            "padding": null,
            "right": null,
            "top": null,
            "visibility": null,
            "width": null
          }
        },
        "f26bfe564fe74e449f155df42c8c3609": {
          "model_module": "@jupyter-widgets/controls",
          "model_name": "ProgressStyleModel",
          "model_module_version": "1.5.0",
          "state": {
            "_model_module": "@jupyter-widgets/controls",
            "_model_module_version": "1.5.0",
            "_model_name": "ProgressStyleModel",
            "_view_count": null,
            "_view_module": "@jupyter-widgets/base",
            "_view_module_version": "1.2.0",
            "_view_name": "StyleView",
            "bar_color": null,
            "description_width": ""
          }
        },
        "1b5e3fb5530a4fb88cf6c041d3fd5434": {
          "model_module": "@jupyter-widgets/base",
          "model_name": "LayoutModel",
          "model_module_version": "1.2.0",
          "state": {
            "_model_module": "@jupyter-widgets/base",
            "_model_module_version": "1.2.0",
            "_model_name": "LayoutModel",
            "_view_count": null,
            "_view_module": "@jupyter-widgets/base",
            "_view_module_version": "1.2.0",
            "_view_name": "LayoutView",
            "align_content": null,
            "align_items": null,
            "align_self": null,
            "border": null,
            "bottom": null,
            "display": null,
            "flex": null,
            "flex_flow": null,
            "grid_area": null,
            "grid_auto_columns": null,
            "grid_auto_flow": null,
            "grid_auto_rows": null,
            "grid_column": null,
            "grid_gap": null,
            "grid_row": null,
            "grid_template_areas": null,
            "grid_template_columns": null,
            "grid_template_rows": null,
            "height": null,
            "justify_content": null,
            "justify_items": null,
            "left": null,
            "margin": null,
            "max_height": null,
            "max_width": null,
            "min_height": null,
            "min_width": null,
            "object_fit": null,
            "object_position": null,
            "order": null,
            "overflow": null,
            "overflow_x": null,
            "overflow_y": null,
            "padding": null,
            "right": null,
            "top": null,
            "visibility": null,
            "width": null
          }
        },
        "534b4c429c6e4e43967ff9da2c57f3b7": {
          "model_module": "@jupyter-widgets/controls",
          "model_name": "DescriptionStyleModel",
          "model_module_version": "1.5.0",
          "state": {
            "_model_module": "@jupyter-widgets/controls",
            "_model_module_version": "1.5.0",
            "_model_name": "DescriptionStyleModel",
            "_view_count": null,
            "_view_module": "@jupyter-widgets/base",
            "_view_module_version": "1.2.0",
            "_view_name": "StyleView",
            "description_width": ""
          }
        }
      }
    }
  },
  "cells": [
    {
      "cell_type": "markdown",
      "metadata": {
        "id": "view-in-github",
        "colab_type": "text"
      },
      "source": [
        "<a href=\"https://colab.research.google.com/github/hyunwjang/deep/blob/main/_5_%ED%85%90%EC%84%9C%ED%94%8C%EB%A1%9C%EC%9A%B0_Data_API_ipynb\" target=\"_parent\"><img src=\"https://colab.research.google.com/assets/colab-badge.svg\" alt=\"Open In Colab\"/></a>"
      ]
    },
    {
      "cell_type": "markdown",
      "metadata": {
        "id": "pvT4Kena44U-"
      },
      "source": [
        "# Data API\n",
        "\n",
        "- `tf.data`: https://www.tensorflow.org/api_docs/python/tf/data\n",
        "- `tf.data.datasets`\n",
        "\n"
      ]
    },
    {
      "cell_type": "markdown",
      "metadata": {
        "id": "qMJ7xx8N882t"
      },
      "source": [
        "## tf.data.datasets"
      ]
    },
    {
      "cell_type": "code",
      "metadata": {
        "id": "uA_5y-rv5K0x"
      },
      "source": [
        "import tensorflow as tf\n",
        "import tensorflow_datasets as tfds"
      ],
      "execution_count": null,
      "outputs": []
    },
    {
      "cell_type": "code",
      "metadata": {
        "id": "_77BigY5g3hd",
        "colab": {
          "base_uri": "https://localhost:8080/"
        },
        "outputId": "1dc663d0-354a-41b7-ee60-82e63294b2e9"
      },
      "source": [
        "builders  = tfds.list_builders()\n",
        "print(builders)"
      ],
      "execution_count": null,
      "outputs": [
        {
          "output_type": "stream",
          "name": "stdout",
          "text": [
            "['abstract_reasoning', 'accentdb', 'aeslc', 'aflw2k3d', 'ag_news_subset', 'ai2_arc', 'ai2_arc_with_ir', 'amazon_us_reviews', 'anli', 'answer_equivalence', 'arc', 'asqa', 'asset', 'assin2', 'bair_robot_pushing_small', 'bccd', 'beans', 'bee_dataset', 'beir', 'big_patent', 'bigearthnet', 'billsum', 'binarized_mnist', 'binary_alpha_digits', 'ble_wind_field', 'blimp', 'booksum', 'bool_q', 'c4', 'caltech101', 'caltech_birds2010', 'caltech_birds2011', 'cardiotox', 'cars196', 'cassava', 'cats_vs_dogs', 'celeb_a', 'celeb_a_hq', 'cfq', 'cherry_blossoms', 'chexpert', 'cifar10', 'cifar100', 'cifar10_1', 'cifar10_corrupted', 'citrus_leaves', 'cityscapes', 'civil_comments', 'clevr', 'clic', 'clinc_oos', 'cmaterdb', 'cnn_dailymail', 'coco', 'coco_captions', 'coil100', 'colorectal_histology', 'colorectal_histology_large', 'common_voice', 'coqa', 'cos_e', 'cosmos_qa', 'covid19', 'covid19sum', 'crema_d', 'criteo', 'cs_restaurants', 'curated_breast_imaging_ddsm', 'cycle_gan', 'd4rl_adroit_door', 'd4rl_adroit_hammer', 'd4rl_adroit_pen', 'd4rl_adroit_relocate', 'd4rl_antmaze', 'd4rl_mujoco_ant', 'd4rl_mujoco_halfcheetah', 'd4rl_mujoco_hopper', 'd4rl_mujoco_walker2d', 'dart', 'davis', 'deep1b', 'deep_weeds', 'definite_pronoun_resolution', 'dementiabank', 'diabetic_retinopathy_detection', 'diamonds', 'div2k', 'dmlab', 'doc_nli', 'dolphin_number_word', 'domainnet', 'downsampled_imagenet', 'drop', 'dsprites', 'dtd', 'duke_ultrasound', 'e2e_cleaned', 'efron_morris75', 'emnist', 'eraser_multi_rc', 'esnli', 'eurosat', 'fashion_mnist', 'flic', 'flores', 'food101', 'forest_fires', 'fuss', 'gap', 'geirhos_conflict_stimuli', 'gem', 'genomics_ood', 'german_credit_numeric', 'gigaword', 'glove100_angular', 'glue', 'goemotions', 'gov_report', 'gpt3', 'gref', 'groove', 'grounded_scan', 'gsm8k', 'gtzan', 'gtzan_music_speech', 'hellaswag', 'higgs', 'hillstrom', 'horses_or_humans', 'howell', 'i_naturalist2017', 'i_naturalist2018', 'imagenet2012', 'imagenet2012_corrupted', 'imagenet2012_fewshot', 'imagenet2012_multilabel', 'imagenet2012_real', 'imagenet2012_subset', 'imagenet_a', 'imagenet_lt', 'imagenet_r', 'imagenet_resized', 'imagenet_sketch', 'imagenet_v2', 'imagenette', 'imagewang', 'imdb_reviews', 'irc_disentanglement', 'iris', 'istella', 'kddcup99', 'kitti', 'kmnist', 'lambada', 'lfw', 'librispeech', 'librispeech_lm', 'libritts', 'ljspeech', 'lm1b', 'locomotion', 'lost_and_found', 'lsun', 'lvis', 'malaria', 'math_dataset', 'math_qa', 'mctaco', 'media_sum', 'mlqa', 'mnist', 'mnist_corrupted', 'movie_lens', 'movie_rationales', 'movielens', 'moving_mnist', 'mrqa', 'mslr_web', 'mt_opt', 'multi_news', 'multi_nli', 'multi_nli_mismatch', 'natural_questions', 'natural_questions_open', 'newsroom', 'nsynth', 'nyu_depth_v2', 'ogbg_molpcba', 'omniglot', 'open_images_challenge2019_detection', 'open_images_v4', 'openbookqa', 'opinion_abstracts', 'opinosis', 'opus', 'oxford_flowers102', 'oxford_iiit_pet', 'para_crawl', 'pass', 'patch_camelyon', 'paws_wiki', 'paws_x_wiki', 'penguins', 'pet_finder', 'pg19', 'piqa', 'places365_small', 'plant_leaves', 'plant_village', 'plantae_k', 'protein_net', 'qa4mre', 'qasc', 'quac', 'quality', 'quickdraw_bitmap', 'race', 'radon', 'reddit', 'reddit_disentanglement', 'reddit_tifu', 'ref_coco', 'resisc45', 'rlu_atari', 'rlu_atari_checkpoints', 'rlu_atari_checkpoints_ordered', 'rlu_control_suite', 'rlu_dmlab_explore_object_rewards_few', 'rlu_dmlab_explore_object_rewards_many', 'rlu_dmlab_rooms_select_nonmatching_object', 'rlu_dmlab_rooms_watermaze', 'rlu_dmlab_seekavoid_arena01', 'rlu_locomotion', 'rlu_rwrl', 'robomimic_ph', 'robonet', 'robosuite_panda_pick_place_can', 'rock_paper_scissors', 'rock_you', 's3o4d', 'salient_span_wikipedia', 'samsum', 'savee', 'scan', 'scene_parse150', 'schema_guided_dialogue', 'sci_tail', 'scicite', 'scientific_papers', 'scrolls', 'sentiment140', 'shapes3d', 'sift1m', 'simpte', 'siscore', 'smallnorb', 'smartwatch_gestures', 'snli', 'so2sat', 'speech_commands', 'spoken_digit', 'squad', 'squad_question_generation', 'stanford_dogs', 'stanford_online_products', 'star_cfq', 'starcraft_video', 'stl10', 'story_cloze', 'summscreen', 'sun397', 'super_glue', 'svhn_cropped', 'symmetric_solids', 'tao', 'ted_hrlr_translate', 'ted_multi_translate', 'tedlium', 'tf_flowers', 'the300w_lp', 'tiny_shakespeare', 'titanic', 'trec', 'trivia_qa', 'tydi_qa', 'uc_merced', 'ucf101', 'unified_qa', 'vctk', 'visual_domain_decathlon', 'voc', 'voxceleb', 'voxforge', 'waymo_open_dataset', 'web_graph', 'web_nlg', 'web_questions', 'wider_face', 'wiki40b', 'wiki_auto', 'wiki_bio', 'wiki_dialog', 'wiki_table_questions', 'wiki_table_text', 'wikiann', 'wikihow', 'wikipedia', 'wikipedia_toxicity_subtypes', 'wine_quality', 'winogrande', 'wit', 'wit_kaggle', 'wmt13_translate', 'wmt14_translate', 'wmt15_translate', 'wmt16_translate', 'wmt17_translate', 'wmt18_translate', 'wmt19_translate', 'wmt_t2t_translate', 'wmt_translate', 'wordnet', 'wsc273', 'xnli', 'xquad', 'xsum', 'xtreme_pawsx', 'xtreme_s', 'xtreme_xnli', 'yelp_polarity_reviews', 'yes_no', 'youtube_vis', 'huggingface:acronym_identification', 'huggingface:ade_corpus_v2', 'huggingface:adv_glue', 'huggingface:adversarial_qa', 'huggingface:aeslc', 'huggingface:afrikaans_ner_corpus', 'huggingface:ag_news', 'huggingface:ai2_arc', 'huggingface:air_dialogue', 'huggingface:ajgt_twitter_ar', 'huggingface:allegro_reviews', 'huggingface:allocine', 'huggingface:alt', 'huggingface:amazon_polarity', 'huggingface:amazon_reviews_multi', 'huggingface:amazon_us_reviews', 'huggingface:ambig_qa', 'huggingface:americas_nli', 'huggingface:ami', 'huggingface:amttl', 'huggingface:anli', 'huggingface:app_reviews', 'huggingface:aqua_rat', 'huggingface:aquamuse', 'huggingface:ar_cov19', 'huggingface:ar_res_reviews', 'huggingface:ar_sarcasm', 'huggingface:arabic_billion_words', 'huggingface:arabic_pos_dialect', 'huggingface:arabic_speech_corpus', 'huggingface:arcd', 'huggingface:arsentd_lev', 'huggingface:art', 'huggingface:arxiv_dataset', 'huggingface:ascent_kb', 'huggingface:aslg_pc12', 'huggingface:asnq', 'huggingface:asset', 'huggingface:assin', 'huggingface:assin2', 'huggingface:atomic', 'huggingface:autshumato', 'huggingface:babi_qa', 'huggingface:banking77', 'huggingface:bbaw_egyptian', 'huggingface:bbc_hindi_nli', 'huggingface:bc2gm_corpus', 'huggingface:beans', 'huggingface:best2009', 'huggingface:bianet', 'huggingface:bible_para', 'huggingface:big_patent', 'huggingface:bigbench', 'huggingface:billsum', 'huggingface:bing_coronavirus_query_set', 'huggingface:biomrc', 'huggingface:biosses', 'huggingface:biwi_kinect_head_pose', 'huggingface:blbooks', 'huggingface:blbooksgenre', 'huggingface:blended_skill_talk', 'huggingface:blimp', 'huggingface:blog_authorship_corpus', 'huggingface:bn_hate_speech', 'huggingface:bnl_newspapers', 'huggingface:bookcorpus', 'huggingface:bookcorpusopen', 'huggingface:boolq', 'huggingface:bprec', 'huggingface:break_data', 'huggingface:brwac', 'huggingface:bsd_ja_en', 'huggingface:bswac', 'huggingface:c3', 'huggingface:c4', 'huggingface:cail2018', 'huggingface:caner', 'huggingface:capes', 'huggingface:casino', 'huggingface:catalonia_independence', 'huggingface:cats_vs_dogs', 'huggingface:cawac', 'huggingface:cbt', 'huggingface:cc100', 'huggingface:cc_news', 'huggingface:ccaligned_multilingual', 'huggingface:cdsc', 'huggingface:cdt', 'huggingface:cedr', 'huggingface:cfq', 'huggingface:chr_en', 'huggingface:cifar10', 'huggingface:cifar100', 'huggingface:circa', 'huggingface:civil_comments', 'huggingface:clickbait_news_bg', 'huggingface:climate_fever', 'huggingface:clinc_oos', 'huggingface:clue', 'huggingface:cmrc2018', 'huggingface:cmu_hinglish_dog', 'huggingface:cnn_dailymail', 'huggingface:coached_conv_pref', 'huggingface:coarse_discourse', 'huggingface:codah', 'huggingface:code_search_net', 'huggingface:code_x_glue_cc_clone_detection_big_clone_bench', 'huggingface:code_x_glue_cc_clone_detection_poj104', 'huggingface:code_x_glue_cc_cloze_testing_all', 'huggingface:code_x_glue_cc_cloze_testing_maxmin', 'huggingface:code_x_glue_cc_code_completion_line', 'huggingface:code_x_glue_cc_code_completion_token', 'huggingface:code_x_glue_cc_code_refinement', 'huggingface:code_x_glue_cc_code_to_code_trans', 'huggingface:code_x_glue_cc_defect_detection', 'huggingface:code_x_glue_ct_code_to_text', 'huggingface:code_x_glue_tc_nl_code_search_adv', 'huggingface:code_x_glue_tc_text_to_code', 'huggingface:code_x_glue_tt_text_to_text', 'huggingface:com_qa', 'huggingface:common_gen', 'huggingface:common_language', 'huggingface:common_voice', 'huggingface:commonsense_qa', 'huggingface:competition_math', 'huggingface:compguesswhat', 'huggingface:conceptnet5', 'huggingface:conceptual_12m', 'huggingface:conceptual_captions', 'huggingface:conll2000', 'huggingface:conll2002', 'huggingface:conll2003', 'huggingface:conll2012_ontonotesv5', 'huggingface:conllpp', 'huggingface:consumer-finance-complaints', 'huggingface:conv_ai', 'huggingface:conv_ai_2', 'huggingface:conv_ai_3', 'huggingface:conv_questions', 'huggingface:coqa', 'huggingface:cord19', 'huggingface:cornell_movie_dialog', 'huggingface:cos_e', 'huggingface:cosmos_qa', 'huggingface:counter', 'huggingface:covid_qa_castorini', 'huggingface:covid_qa_deepset', 'huggingface:covid_qa_ucsd', 'huggingface:covid_tweets_japanese', 'huggingface:covost2', 'huggingface:cppe-5', 'huggingface:craigslist_bargains', 'huggingface:crawl_domain', 'huggingface:crd3', 'huggingface:crime_and_punish', 'huggingface:crows_pairs', 'huggingface:cryptonite', 'huggingface:cs_restaurants', 'huggingface:cuad', 'huggingface:curiosity_dialogs', 'huggingface:daily_dialog', 'huggingface:dane', 'huggingface:danish_political_comments', 'huggingface:dart', 'huggingface:datacommons_factcheck', 'huggingface:dbpedia_14', 'huggingface:dbrd', 'huggingface:deal_or_no_dialog', 'huggingface:definite_pronoun_resolution', 'huggingface:dengue_filipino', 'huggingface:dialog_re', 'huggingface:diplomacy_detection', 'huggingface:disaster_response_messages', 'huggingface:discofuse', 'huggingface:discovery', 'huggingface:disfl_qa', 'huggingface:doc2dial', 'huggingface:docred', 'huggingface:doqa', 'huggingface:dream', 'huggingface:drop', 'huggingface:duorc', 'huggingface:dutch_social', 'huggingface:dyk', 'huggingface:e2e_nlg', 'huggingface:e2e_nlg_cleaned', 'huggingface:ecb', 'huggingface:ecthr_cases', 'huggingface:eduge', 'huggingface:ehealth_kd', 'huggingface:eitb_parcc', 'huggingface:electricity_load_diagrams', 'huggingface:eli5', 'huggingface:eli5_category', 'huggingface:elkarhizketak', 'huggingface:emea', 'huggingface:emo', 'huggingface:emotion', 'huggingface:emotone_ar', 'huggingface:empathetic_dialogues', 'huggingface:enriched_web_nlg', 'huggingface:enwik8', 'huggingface:eraser_multi_rc', 'huggingface:esnli', 'huggingface:eth_py150_open', 'huggingface:ethos', 'huggingface:ett', 'huggingface:eu_regulatory_ir', 'huggingface:eurlex', 'huggingface:euronews', 'huggingface:europa_eac_tm', 'huggingface:europa_ecdc_tm', 'huggingface:europarl_bilingual', 'huggingface:event2Mind', 'huggingface:evidence_infer_treatment', 'huggingface:exams', 'huggingface:factckbr', 'huggingface:fake_news_english', 'huggingface:fake_news_filipino', 'huggingface:farsi_news', 'huggingface:fashion_mnist', 'huggingface:fever', 'huggingface:few_rel', 'huggingface:financial_phrasebank', 'huggingface:finer', 'huggingface:flores', 'huggingface:flue', 'huggingface:food101', 'huggingface:fquad', 'huggingface:freebase_qa', 'huggingface:gap', 'huggingface:gem', 'huggingface:generated_reviews_enth', 'huggingface:generics_kb', 'huggingface:german_legal_entity_recognition', 'huggingface:germaner', 'huggingface:germeval_14', 'huggingface:giga_fren', 'huggingface:gigaword', 'huggingface:glucose', 'huggingface:glue', 'huggingface:gnad10', 'huggingface:go_emotions', 'huggingface:gooaq', 'huggingface:google_wellformed_query', 'huggingface:grail_qa', 'huggingface:great_code', 'huggingface:greek_legal_code', 'huggingface:gsm8k', 'huggingface:guardian_authorship', 'huggingface:gutenberg_time', 'huggingface:hans', 'huggingface:hansards', 'huggingface:hard', 'huggingface:harem', 'huggingface:has_part', 'huggingface:hate_offensive', 'huggingface:hate_speech18', 'huggingface:hate_speech_filipino', 'huggingface:hate_speech_offensive', 'huggingface:hate_speech_pl', 'huggingface:hate_speech_portuguese', 'huggingface:hatexplain', 'huggingface:hausa_voa_ner', 'huggingface:hausa_voa_topics', 'huggingface:hda_nli_hindi', 'huggingface:head_qa', 'huggingface:health_fact', 'huggingface:hebrew_projectbenyehuda', 'huggingface:hebrew_sentiment', 'huggingface:hebrew_this_world', 'huggingface:hellaswag', 'huggingface:hendrycks_test', 'huggingface:hind_encorp', 'huggingface:hindi_discourse', 'huggingface:hippocorpus', 'huggingface:hkcancor', 'huggingface:hlgd', 'huggingface:hope_edi', 'huggingface:hotpot_qa', 'huggingface:hover', 'huggingface:hrenwac_para', 'huggingface:hrwac', 'huggingface:humicroedit', 'huggingface:hybrid_qa', 'huggingface:hyperpartisan_news_detection', 'huggingface:iapp_wiki_qa_squad', 'huggingface:id_clickbait', 'huggingface:id_liputan6', 'huggingface:id_nergrit_corpus', 'huggingface:id_newspapers_2018', 'huggingface:id_panl_bppt', 'huggingface:id_puisi', 'huggingface:igbo_english_machine_translation', 'huggingface:igbo_monolingual', 'huggingface:igbo_ner', 'huggingface:ilist', 'huggingface:imagenet-1k', 'huggingface:imagenet_sketch', 'huggingface:imdb', 'huggingface:imdb_urdu_reviews', 'huggingface:imppres', 'huggingface:indic_glue', 'huggingface:indonli', 'huggingface:indonlu', 'huggingface:inquisitive_qg', 'huggingface:interpress_news_category_tr', 'huggingface:interpress_news_category_tr_lite', 'huggingface:irc_disentangle', 'huggingface:isixhosa_ner_corpus', 'huggingface:isizulu_ner_corpus', 'huggingface:iwslt2017', 'huggingface:jeopardy', 'huggingface:jfleg', 'huggingface:jigsaw_toxicity_pred', 'huggingface:jigsaw_unintended_bias', 'huggingface:jnlpba', 'huggingface:journalists_questions', 'huggingface:kan_hope', 'huggingface:kannada_news', 'huggingface:kd_conv', 'huggingface:kde4', 'huggingface:kelm', 'huggingface:kilt_tasks', 'huggingface:kilt_wikipedia', 'huggingface:kinnews_kirnews', 'huggingface:klue', 'huggingface:kor_3i4k', 'huggingface:kor_hate', 'huggingface:kor_ner', 'huggingface:kor_nli', 'huggingface:kor_nlu', 'huggingface:kor_qpair', 'huggingface:kor_sae', 'huggingface:kor_sarcasm', 'huggingface:labr', 'huggingface:lama', 'huggingface:lambada', 'huggingface:large_spanish_corpus', 'huggingface:laroseda', 'huggingface:lc_quad', 'huggingface:lccc', 'huggingface:lener_br', 'huggingface:lex_glue', 'huggingface:liar', 'huggingface:librispeech_asr', 'huggingface:librispeech_lm', 'huggingface:limit', 'huggingface:lince', 'huggingface:linnaeus', 'huggingface:liveqa', 'huggingface:lj_speech', 'huggingface:lm1b', 'huggingface:lst20', 'huggingface:m_lama', 'huggingface:mac_morpho', 'huggingface:makhzan', 'huggingface:masakhaner', 'huggingface:math_dataset', 'huggingface:math_qa', 'huggingface:matinf', 'huggingface:mbpp', 'huggingface:mc4', 'huggingface:mc_taco', 'huggingface:md_gender_bias', 'huggingface:mdd', 'huggingface:med_hop', 'huggingface:medal', 'huggingface:medical_dialog', 'huggingface:medical_questions_pairs', 'huggingface:medmcqa', 'huggingface:menyo20k_mt', 'huggingface:meta_woz', 'huggingface:metashift', 'huggingface:metooma', 'huggingface:metrec', 'huggingface:miam', 'huggingface:mkb', 'huggingface:mkqa', 'huggingface:mlqa', 'huggingface:mlsum', 'huggingface:mnist', 'huggingface:mocha', 'huggingface:monash_tsf', 'huggingface:moroco', 'huggingface:movie_rationales', 'huggingface:mrqa', 'huggingface:ms_marco', 'huggingface:ms_terms', 'huggingface:msr_genomics_kbcomp', 'huggingface:msr_sqa', 'huggingface:msr_text_compression', 'huggingface:msr_zhen_translation_parity', 'huggingface:msra_ner', 'huggingface:mt_eng_vietnamese', 'huggingface:muchocine', 'huggingface:multi_booked', 'huggingface:multi_eurlex', 'huggingface:multi_news', 'huggingface:multi_nli', 'huggingface:multi_nli_mismatch', 'huggingface:multi_para_crawl', 'huggingface:multi_re_qa', 'huggingface:multi_woz_v22', 'huggingface:multi_x_science_sum', 'huggingface:multidoc2dial', 'huggingface:multilingual_librispeech', 'huggingface:mutual_friends', 'huggingface:mwsc', 'huggingface:myanmar_news', 'huggingface:narrativeqa', 'huggingface:narrativeqa_manual', 'huggingface:natural_questions', 'huggingface:ncbi_disease', 'huggingface:nchlt', 'huggingface:ncslgr', 'huggingface:nell', 'huggingface:neural_code_search', 'huggingface:news_commentary', 'huggingface:newsgroup', 'huggingface:newsph', 'huggingface:newsph_nli', 'huggingface:newspop', 'huggingface:newsqa', 'huggingface:newsroom', 'huggingface:nkjp-ner', 'huggingface:nli_tr', 'huggingface:nlu_evaluation_data', 'huggingface:norec', 'huggingface:norne', 'huggingface:norwegian_ner', 'huggingface:nq_open', 'huggingface:nsmc', 'huggingface:numer_sense', 'huggingface:numeric_fused_head', 'huggingface:oclar', 'huggingface:offcombr', 'huggingface:offenseval2020_tr', 'huggingface:offenseval_dravidian', 'huggingface:ofis_publik', 'huggingface:ohsumed', 'huggingface:ollie', 'huggingface:omp', 'huggingface:onestop_english', 'huggingface:onestop_qa', 'huggingface:open_subtitles', 'huggingface:openai_humaneval', 'huggingface:openbookqa', 'huggingface:openslr', 'huggingface:openwebtext', 'huggingface:opinosis', 'huggingface:opus100', 'huggingface:opus_books', 'huggingface:opus_dgt', 'huggingface:opus_dogc', 'huggingface:opus_elhuyar', 'huggingface:opus_euconst', 'huggingface:opus_finlex', 'huggingface:opus_fiskmo', 'huggingface:opus_gnome', 'huggingface:opus_infopankki', 'huggingface:opus_memat', 'huggingface:opus_montenegrinsubs', 'huggingface:opus_openoffice', 'huggingface:opus_paracrawl', 'huggingface:opus_rf', 'huggingface:opus_tedtalks', 'huggingface:opus_ubuntu', 'huggingface:opus_wikipedia', 'huggingface:opus_xhosanavy', 'huggingface:orange_sum', 'huggingface:oscar', 'huggingface:para_crawl', 'huggingface:para_pat', 'huggingface:parsinlu_reading_comprehension', 'huggingface:pass', 'huggingface:paws', 'huggingface:paws-x', 'huggingface:pec', 'huggingface:peer_read', 'huggingface:peoples_daily_ner', 'huggingface:per_sent', 'huggingface:persian_ner', 'huggingface:pg19', 'huggingface:php', 'huggingface:piaf', 'huggingface:pib', 'huggingface:piqa', 'huggingface:pn_summary', 'huggingface:poem_sentiment', 'huggingface:polemo2', 'huggingface:poleval2019_cyberbullying', 'huggingface:poleval2019_mt', 'huggingface:polsum', 'huggingface:polyglot_ner', 'huggingface:prachathai67k', 'huggingface:pragmeval', 'huggingface:proto_qa', 'huggingface:psc', 'huggingface:ptb_text_only', 'huggingface:pubmed', 'huggingface:pubmed_qa', 'huggingface:py_ast', 'huggingface:qa4mre', 'huggingface:qa_srl', 'huggingface:qa_zre', 'huggingface:qangaroo', 'huggingface:qanta', 'huggingface:qasc', 'huggingface:qasper', 'huggingface:qed', 'huggingface:qed_amara', 'huggingface:quac', 'huggingface:quail', 'huggingface:quarel', 'huggingface:quartz', 'huggingface:quickdraw', 'huggingface:quora', 'huggingface:quoref', 'huggingface:race', 'huggingface:re_dial', 'huggingface:reasoning_bg', 'huggingface:recipe_nlg', 'huggingface:reclor', 'huggingface:red_caps', 'huggingface:reddit', 'huggingface:reddit_tifu', 'huggingface:refresd', 'huggingface:reuters21578', 'huggingface:riddle_sense', 'huggingface:ro_sent', 'huggingface:ro_sts', 'huggingface:ro_sts_parallel', 'huggingface:roman_urdu', 'huggingface:roman_urdu_hate_speech', 'huggingface:ronec', 'huggingface:ropes', 'huggingface:rotten_tomatoes', 'huggingface:russian_super_glue', 'huggingface:rvl_cdip', 'huggingface:s2orc', 'huggingface:samsum', 'huggingface:sanskrit_classic', 'huggingface:saudinewsnet', 'huggingface:sberquad', 'huggingface:sbu_captions', 'huggingface:scan', 'huggingface:scb_mt_enth_2020', 'huggingface:scene_parse_150', 'huggingface:schema_guided_dstc8', 'huggingface:scicite', 'huggingface:scielo', 'huggingface:scientific_papers', 'huggingface:scifact', 'huggingface:sciq', 'huggingface:scitail', 'huggingface:scitldr', 'huggingface:search_qa', 'huggingface:sede', 'huggingface:selqa', 'huggingface:sem_eval_2010_task_8', 'huggingface:sem_eval_2014_task_1', 'huggingface:sem_eval_2018_task_1', 'huggingface:sem_eval_2020_task_11', 'huggingface:sent_comp', 'huggingface:senti_lex', 'huggingface:senti_ws', 'huggingface:sentiment140', 'huggingface:sepedi_ner', 'huggingface:sesotho_ner_corpus', 'huggingface:setimes', 'huggingface:setswana_ner_corpus', 'huggingface:sharc', 'huggingface:sharc_modified', 'huggingface:sick', 'huggingface:silicone', 'huggingface:simple_questions_v2', 'huggingface:siswati_ner_corpus', 'huggingface:smartdata', 'huggingface:sms_spam', 'huggingface:snips_built_in_intents', 'huggingface:snli', 'huggingface:snow_simplified_japanese_corpus', 'huggingface:so_stacksample', 'huggingface:social_bias_frames', 'huggingface:social_i_qa', 'huggingface:sofc_materials_articles', 'huggingface:sogou_news', 'huggingface:spanish_billion_words', 'huggingface:spc', 'huggingface:species_800', 'huggingface:speech_commands', 'huggingface:spider', 'huggingface:squad', 'huggingface:squad_adversarial', 'huggingface:squad_es', 'huggingface:squad_it', 'huggingface:squad_kor_v1', 'huggingface:squad_kor_v2', 'huggingface:squad_v1_pt', 'huggingface:squad_v2', 'huggingface:squadshifts', 'huggingface:srwac', 'huggingface:sst', 'huggingface:stereoset', 'huggingface:story_cloze', 'huggingface:stsb_mt_sv', 'huggingface:stsb_multi_mt', 'huggingface:style_change_detection', 'huggingface:subjqa', 'huggingface:super_glue', 'huggingface:superb', 'huggingface:svhn', 'huggingface:swag', 'huggingface:swahili', 'huggingface:swahili_news', 'huggingface:swda', 'huggingface:swedish_medical_ner', 'huggingface:swedish_ner_corpus', 'huggingface:swedish_reviews', 'huggingface:swiss_judgment_prediction', 'huggingface:tab_fact', 'huggingface:tamilmixsentiment', 'huggingface:tanzil', 'huggingface:tapaco', 'huggingface:tashkeela', 'huggingface:taskmaster1', 'huggingface:taskmaster2', 'huggingface:taskmaster3', 'huggingface:tatoeba', 'huggingface:ted_hrlr', 'huggingface:ted_iwlst2013', 'huggingface:ted_multi', 'huggingface:ted_talks_iwslt', 'huggingface:telugu_books', 'huggingface:telugu_news', 'huggingface:tep_en_fa_para', 'huggingface:text2log', 'huggingface:textvqa', 'huggingface:thai_toxicity_tweet', 'huggingface:thainer', 'huggingface:thaiqa_squad', 'huggingface:thaisum', 'huggingface:the_pile', 'huggingface:the_pile_books3', 'huggingface:the_pile_openwebtext2', 'huggingface:the_pile_stack_exchange', 'huggingface:tilde_model', 'huggingface:time_dial', 'huggingface:times_of_india_news_headlines', 'huggingface:timit_asr', 'huggingface:tiny_shakespeare', 'huggingface:tlc', 'huggingface:tmu_gfm_dataset', 'huggingface:tne', 'huggingface:told-br', 'huggingface:totto', 'huggingface:trec', 'huggingface:trivia_qa', 'huggingface:truthful_qa', 'huggingface:tsac', 'huggingface:ttc4900', 'huggingface:tunizi', 'huggingface:tuple_ie', 'huggingface:turk', 'huggingface:turkic_xwmt', 'huggingface:turkish_movie_sentiment', 'huggingface:turkish_ner', 'huggingface:turkish_product_reviews', 'huggingface:turkish_shrinked_ner', 'huggingface:turku_ner_corpus', 'huggingface:tweet_eval', 'huggingface:tweet_qa', 'huggingface:tweets_ar_en_parallel', 'huggingface:tweets_hate_speech_detection', 'huggingface:twi_text_c3', 'huggingface:twi_wordsim353', 'huggingface:tydiqa', 'huggingface:ubuntu_dialogs_corpus', 'huggingface:udhr', 'huggingface:um005', 'huggingface:un_ga', 'huggingface:un_multi', 'huggingface:un_pc', 'huggingface:universal_dependencies', 'huggingface:universal_morphologies', 'huggingface:urdu_fake_news', 'huggingface:urdu_sentiment_corpus', 'huggingface:vctk', 'huggingface:visual_genome', 'huggingface:vivos', 'huggingface:web_nlg', 'huggingface:web_of_science', 'huggingface:web_questions', 'huggingface:weibo_ner', 'huggingface:wi_locness', 'huggingface:wider_face', 'huggingface:wiki40b', 'huggingface:wiki_asp', 'huggingface:wiki_atomic_edits', 'huggingface:wiki_auto', 'huggingface:wiki_bio', 'huggingface:wiki_dpr', 'huggingface:wiki_hop', 'huggingface:wiki_lingua', 'huggingface:wiki_movies', 'huggingface:wiki_qa', 'huggingface:wiki_qa_ar', 'huggingface:wiki_snippets', 'huggingface:wiki_source', 'huggingface:wiki_split', 'huggingface:wiki_summary', 'huggingface:wikiann', 'huggingface:wikicorpus', 'huggingface:wikihow', 'huggingface:wikipedia', 'huggingface:wikisql', 'huggingface:wikitablequestions', 'huggingface:wikitext', 'huggingface:wikitext_tl39', 'huggingface:wili_2018', 'huggingface:wino_bias', 'huggingface:winograd_wsc', 'huggingface:winogrande', 'huggingface:wiqa', 'huggingface:wisesight1000', 'huggingface:wisesight_sentiment', 'huggingface:wmt14', 'huggingface:wmt15', 'huggingface:wmt16', 'huggingface:wmt17', 'huggingface:wmt18', 'huggingface:wmt19', 'huggingface:wmt20_mlqe_task1', 'huggingface:wmt20_mlqe_task2', 'huggingface:wmt20_mlqe_task3', 'huggingface:wmt_t2t', 'huggingface:wnut_17', 'huggingface:wongnai_reviews', 'huggingface:woz_dialogue', 'huggingface:wrbsc', 'huggingface:x_stance', 'huggingface:xcopa', 'huggingface:xcsr', 'huggingface:xed_en_fi', 'huggingface:xglue', 'huggingface:xnli', 'huggingface:xor_tydi_qa', 'huggingface:xquad', 'huggingface:xquad_r', 'huggingface:xsum', 'huggingface:xsum_factuality', 'huggingface:xtreme', 'huggingface:yahoo_answers_qa', 'huggingface:yahoo_answers_topics', 'huggingface:yelp_polarity', 'huggingface:yelp_review_full', 'huggingface:yoruba_bbc_topics', 'huggingface:yoruba_gv_ner', 'huggingface:yoruba_text_c3', 'huggingface:yoruba_wordsim353', 'huggingface:youtube_caption_corrections', 'huggingface:zest', 'kubric:kubric_frames', 'kubric:movi_a', 'kubric:movi_b', 'kubric:movi_c', 'kubric:movi_d', 'kubric:movi_e', 'kubric:movi_f', 'kubric:multi_shapenet_frames', 'kubric:nerf_synthetic_frames', 'kubric:nerf_synthetic_scenes', 'kubric:shapenet_pretraining', 'robotics:mt_opt_rlds', 'robotics:mt_opt_sd']\n"
          ]
        }
      ]
    },
    {
      "cell_type": "code",
      "metadata": {
        "id": "wmRzwmofg3ef",
        "colab": {
          "base_uri": "https://localhost:8080/",
          "height": 86,
          "referenced_widgets": [
            "8230b278b08041f39f93bf26b5793798",
            "f3bc6de9df2d46dca19d5a5084ae75c7",
            "31cd5eddd3bb4c8fa6e44943ddf34691",
            "30294bf9e5f44c539ddc38b1fcd49b67",
            "6299cb3b90004abfa406a4fa1a93789f",
            "3566ead139664998ae05725c0d1ed6af",
            "7ddf50c17af445d581e5dc0180b09d9f",
            "9621e46827324c2e8a2ae05e5b2b766b",
            "c99648334efe4b9d9d8e13bfc6084966",
            "6b818c1de3ab47f49223d84ea76c62f3",
            "0136fbc943524f2896b8c7c3af590285"
          ]
        },
        "outputId": "dfb9b4cd-e553-41ea-ec77-9c77ac5d41e2"
      },
      "source": [
        "data, info = tfds.load('mnist', with_info = True)\n",
        "train_data, tetst_data = data['train'], data['test']"
      ],
      "execution_count": null,
      "outputs": [
        {
          "output_type": "stream",
          "name": "stdout",
          "text": [
            "Downloading and preparing dataset 11.06 MiB (download: 11.06 MiB, generated: 21.00 MiB, total: 32.06 MiB) to ~/tensorflow_datasets/mnist/3.0.1...\n"
          ]
        },
        {
          "output_type": "display_data",
          "data": {
            "text/plain": [
              "Dl Completed...:   0%|          | 0/4 [00:00<?, ? file/s]"
            ],
            "application/vnd.jupyter.widget-view+json": {
              "version_major": 2,
              "version_minor": 0,
              "model_id": "8230b278b08041f39f93bf26b5793798"
            }
          },
          "metadata": {}
        },
        {
          "output_type": "stream",
          "name": "stdout",
          "text": [
            "Dataset mnist downloaded and prepared to ~/tensorflow_datasets/mnist/3.0.1. Subsequent calls will reuse this data.\n"
          ]
        }
      ]
    },
    {
      "cell_type": "code",
      "metadata": {
        "id": "PgvmOxeYg3bi",
        "colab": {
          "base_uri": "https://localhost:8080/"
        },
        "outputId": "0d59c5dd-c09a-4f75-f0ab-b091bd6c692e"
      },
      "source": [
        "print(info) #데이터셋의 정보확인"
      ],
      "execution_count": null,
      "outputs": [
        {
          "output_type": "stream",
          "name": "stdout",
          "text": [
            "tfds.core.DatasetInfo(\n",
            "    name='mnist',\n",
            "    full_name='mnist/3.0.1',\n",
            "    description=\"\"\"\n",
            "    The MNIST database of handwritten digits.\n",
            "    \"\"\",\n",
            "    homepage='http://yann.lecun.com/exdb/mnist/',\n",
            "    data_path='~/tensorflow_datasets/mnist/3.0.1',\n",
            "    file_format=tfrecord,\n",
            "    download_size=11.06 MiB,\n",
            "    dataset_size=21.00 MiB,\n",
            "    features=FeaturesDict({\n",
            "        'image': Image(shape=(28, 28, 1), dtype=tf.uint8),\n",
            "        'label': ClassLabel(shape=(), dtype=tf.int64, num_classes=10),\n",
            "    }),\n",
            "    supervised_keys=('image', 'label'),\n",
            "    disable_shuffling=False,\n",
            "    splits={\n",
            "        'test': <SplitInfo num_examples=10000, num_shards=1>,\n",
            "        'train': <SplitInfo num_examples=60000, num_shards=1>,\n",
            "    },\n",
            "    citation=\"\"\"@article{lecun2010mnist,\n",
            "      title={MNIST handwritten digit database},\n",
            "      author={LeCun, Yann and Cortes, Corinna and Burges, CJ},\n",
            "      journal={ATT Labs [Online]. Available: http://yann.lecun.com/exdb/mnist},\n",
            "      volume={2},\n",
            "      year={2010}\n",
            "    }\"\"\",\n",
            ")\n"
          ]
        }
      ]
    },
    {
      "cell_type": "markdown",
      "metadata": {
        "id": "adN6woERhQrO"
      },
      "source": [
        "## tf.data\n",
        "\n",
        "- 생성\n",
        "  - `from_tensor_slices()`: 개별 또는 다중 넘파이를 받고, 배치를 지원\n",
        "\n",
        "  - `from_tensors()`: 배치를 지원하지 않음\n",
        "\n",
        "  - `from_generator()`: 생성자 함수에서 입력을 취함\n",
        "\n",
        "- 변환\n",
        "\n",
        "  - `batch()`: 순차적으로 지정한 배치사이즈로 데이터셋을 분할\n",
        "\n",
        "  - `repeat()`: 데이터를 복제\n",
        "\n",
        "  - `shuffle()`: 데이터를 무작위로 섞음\n",
        "\n",
        "  - `map()`: 데이터에 함수를 적용\n",
        "\n",
        "  - `filter()`: 데이터를 거르고자 할 때 사용\n",
        "- 반복\n",
        "  - `next_batch = iterator.get_next()` 사용"
      ]
    },
    {
      "cell_type": "markdown",
      "metadata": {
        "id": "51d2wkdMhTBn"
      },
      "source": [
        "### from_tensor_slices"
      ]
    },
    {
      "cell_type": "code",
      "metadata": {
        "id": "HWzGguIUg3Yi"
      },
      "source": [
        "import numpy as np"
      ],
      "execution_count": null,
      "outputs": []
    },
    {
      "cell_type": "code",
      "metadata": {
        "id": "aaO5aOqsg3Vf"
      },
      "source": [
        "num_items  =20\n",
        "num_list = np.arange(num_items)\n"
      ],
      "execution_count": null,
      "outputs": []
    },
    {
      "cell_type": "code",
      "source": [
        "num_list"
      ],
      "metadata": {
        "colab": {
          "base_uri": "https://localhost:8080/"
        },
        "id": "_HQm_VQc4Uia",
        "outputId": "c0f3170a-e8be-43c0-8a81-7739d93316ab"
      },
      "execution_count": null,
      "outputs": [
        {
          "output_type": "execute_result",
          "data": {
            "text/plain": [
              "array([ 0,  1,  2,  3,  4,  5,  6,  7,  8,  9, 10, 11, 12, 13, 14, 15, 16,\n",
              "       17, 18, 19])"
            ]
          },
          "metadata": {},
          "execution_count": 7
        }
      ]
    },
    {
      "cell_type": "code",
      "metadata": {
        "id": "rFKz4nK2g3Sd"
      },
      "source": [
        "num_list_dataset = tf.data.Dataset.from_tensor_slices(num_list)"
      ],
      "execution_count": null,
      "outputs": []
    },
    {
      "cell_type": "code",
      "metadata": {
        "id": "gzqeoFS6g3Pg",
        "colab": {
          "base_uri": "https://localhost:8080/"
        },
        "outputId": "503d314e-c9e3-4296-9766-61f660f5ba8e"
      },
      "source": [
        "num_list_dataset"
      ],
      "execution_count": null,
      "outputs": [
        {
          "output_type": "execute_result",
          "data": {
            "text/plain": [
              "<TensorSliceDataset element_spec=TensorSpec(shape=(), dtype=tf.int64, name=None)>"
            ]
          },
          "metadata": {},
          "execution_count": 9
        }
      ]
    },
    {
      "cell_type": "markdown",
      "metadata": {
        "id": "8oSVGyqAsJz3"
      },
      "source": [
        "### from_generator()\n",
        "- 해당 클래스 메서드를 사용하면 생성자에서 데이터셋 생성 가능\n",
        "- output_types, output_shapes 인수로 출력 자료형과 크기를 지정해주어야 함"
      ]
    },
    {
      "cell_type": "code",
      "source": [
        "import itertools\n",
        "itertools.count(2,3)"
      ],
      "metadata": {
        "colab": {
          "base_uri": "https://localhost:8080/"
        },
        "id": "TlFyuKMh40IS",
        "outputId": "f91f909c-9446-45bb-e5a3-090b6dda4d76"
      },
      "execution_count": null,
      "outputs": [
        {
          "output_type": "execute_result",
          "data": {
            "text/plain": [
              "count(2, 3)"
            ]
          },
          "metadata": {},
          "execution_count": 10
        }
      ]
    },
    {
      "cell_type": "code",
      "metadata": {
        "id": "5LEG6TzOsOAB",
        "colab": {
          "base_uri": "https://localhost:8080/"
        },
        "outputId": "9c3b7a24-542f-441a-9064-a2195e96f2dd"
      },
      "source": [
        "import itertools\n",
        "\n",
        "\n",
        "def gen():\n",
        "\n",
        "  for i in itertools.count(1):\n",
        "    yield(i, [1]*i)\n",
        "\n",
        "\n",
        "dataset = tf.data.Dataset.from_generator(\n",
        "    gen, \n",
        "    (tf.int64, tf.int64),\n",
        "    (tf.TensorShape([]), tf.TensorShape([None]))\n",
        ")\n",
        "\n",
        "list(dataset.take(3).as_numpy_iterator())"
      ],
      "execution_count": null,
      "outputs": [
        {
          "output_type": "execute_result",
          "data": {
            "text/plain": [
              "[(1, array([1])), (2, array([1, 1])), (3, array([1, 1, 1]))]"
            ]
          },
          "metadata": {},
          "execution_count": 11
        }
      ]
    },
    {
      "cell_type": "code",
      "metadata": {
        "id": "P8X1Mn56sODk"
      },
      "source": [
        "# for itmem in dataset:\n",
        "#   print(item)"
      ],
      "execution_count": null,
      "outputs": []
    },
    {
      "cell_type": "code",
      "source": [
        "def gen(stop):\n",
        "  for i in itertools.count(1):\n",
        "    if i< stop:\n",
        "      yield (i,[1]*i)\n",
        "\n",
        "dataset = tf.data.Dataset.from_generator(\n",
        "    gen,args =[10], \n",
        "    output_types = (tf.int64, tf.int64),\n",
        "    output_shapes = (tf.TensorShape([]), tf.TensorShape([None]))\n",
        ")\n",
        "\n",
        "list(dataset.take(9).as_numpy_iterator())"
      ],
      "metadata": {
        "colab": {
          "base_uri": "https://localhost:8080/"
        },
        "id": "S7EvR2g_xuQ_",
        "outputId": "47757a20-ed15-4426-ca36-ef5c654d0d1c"
      },
      "execution_count": null,
      "outputs": [
        {
          "output_type": "execute_result",
          "data": {
            "text/plain": [
              "[(1, array([1])),\n",
              " (2, array([1, 1])),\n",
              " (3, array([1, 1, 1])),\n",
              " (4, array([1, 1, 1, 1])),\n",
              " (5, array([1, 1, 1, 1, 1])),\n",
              " (6, array([1, 1, 1, 1, 1, 1])),\n",
              " (7, array([1, 1, 1, 1, 1, 1, 1])),\n",
              " (8, array([1, 1, 1, 1, 1, 1, 1, 1])),\n",
              " (9, array([1, 1, 1, 1, 1, 1, 1, 1, 1]))]"
            ]
          },
          "metadata": {},
          "execution_count": 13
        }
      ]
    },
    {
      "cell_type": "markdown",
      "metadata": {
        "id": "IQUCMAdilyA1"
      },
      "source": [
        "### batch, repeat\n",
        "- `batch()`: 배치 사이즈 크기\n",
        "- `repeat()`: 반복 횟수"
      ]
    },
    {
      "cell_type": "code",
      "metadata": {
        "id": "qJunKghtl0Mk"
      },
      "source": [
        "dataset = num_list_dataset.repeat(3).batch(7)"
      ],
      "execution_count": null,
      "outputs": []
    },
    {
      "cell_type": "code",
      "metadata": {
        "id": "EwNlE6d2l0Qy",
        "colab": {
          "base_uri": "https://localhost:8080/"
        },
        "outputId": "94e19731-471d-4b37-d331-300bb3619f46"
      },
      "source": [
        "for item in dataset:\n",
        "  print(item)"
      ],
      "execution_count": null,
      "outputs": [
        {
          "output_type": "stream",
          "name": "stdout",
          "text": [
            "tf.Tensor([0 1 2 3 4 5 6], shape=(7,), dtype=int64)\n",
            "tf.Tensor([ 7  8  9 10 11 12 13], shape=(7,), dtype=int64)\n",
            "tf.Tensor([14 15 16 17 18 19  0], shape=(7,), dtype=int64)\n",
            "tf.Tensor([1 2 3 4 5 6 7], shape=(7,), dtype=int64)\n",
            "tf.Tensor([ 8  9 10 11 12 13 14], shape=(7,), dtype=int64)\n",
            "tf.Tensor([15 16 17 18 19  0  1], shape=(7,), dtype=int64)\n",
            "tf.Tensor([2 3 4 5 6 7 8], shape=(7,), dtype=int64)\n",
            "tf.Tensor([ 9 10 11 12 13 14 15], shape=(7,), dtype=int64)\n",
            "tf.Tensor([16 17 18 19], shape=(4,), dtype=int64)\n"
          ]
        }
      ]
    },
    {
      "cell_type": "code",
      "metadata": {
        "id": "cul1bFvImVxN"
      },
      "source": [
        "dataset = num_list_dataset.repeat(3).batch(7,drop_remainder = True)"
      ],
      "execution_count": null,
      "outputs": []
    },
    {
      "cell_type": "code",
      "metadata": {
        "id": "IHZ8JHIBmt_f",
        "colab": {
          "base_uri": "https://localhost:8080/"
        },
        "outputId": "0ee8c690-6f32-4af8-f6ef-2005fb3282c6"
      },
      "source": [
        "for item in dataset:\n",
        "  print(item)"
      ],
      "execution_count": null,
      "outputs": [
        {
          "output_type": "stream",
          "name": "stdout",
          "text": [
            "tf.Tensor([0 1 2 3 4 5 6], shape=(7,), dtype=int64)\n",
            "tf.Tensor([ 7  8  9 10 11 12 13], shape=(7,), dtype=int64)\n",
            "tf.Tensor([14 15 16 17 18 19  0], shape=(7,), dtype=int64)\n",
            "tf.Tensor([1 2 3 4 5 6 7], shape=(7,), dtype=int64)\n",
            "tf.Tensor([ 8  9 10 11 12 13 14], shape=(7,), dtype=int64)\n",
            "tf.Tensor([15 16 17 18 19  0  1], shape=(7,), dtype=int64)\n",
            "tf.Tensor([2 3 4 5 6 7 8], shape=(7,), dtype=int64)\n",
            "tf.Tensor([ 9 10 11 12 13 14 15], shape=(7,), dtype=int64)\n"
          ]
        }
      ]
    },
    {
      "cell_type": "markdown",
      "metadata": {
        "id": "xCAFfO6hmDDS"
      },
      "source": [
        "### map, filter\n",
        "- 전처리 단계에서 시행하여 원하지 않는 데이터를 거를 수 있음\n",
        "\n",
        "- `tf.Tensor` 자료형을 다룸"
      ]
    },
    {
      "cell_type": "code",
      "metadata": {
        "id": "lw37RX7KvN-K"
      },
      "source": [
        "from tensorflow.data import Dataset"
      ],
      "execution_count": null,
      "outputs": []
    },
    {
      "cell_type": "code",
      "metadata": {
        "id": "ubOuEgxal0Hv",
        "colab": {
          "base_uri": "https://localhost:8080/"
        },
        "outputId": "f25a4cf6-195d-40a6-e8f4-75df578ced6e"
      },
      "source": [
        "dataset = Dataset.range(1,6)\n",
        "dataset = dataset.map(lambda x : x*2)\n",
        "list(dataset.as_numpy_iterator())"
      ],
      "execution_count": null,
      "outputs": [
        {
          "output_type": "execute_result",
          "data": {
            "text/plain": [
              "[2, 4, 6, 8, 10]"
            ]
          },
          "metadata": {},
          "execution_count": 19
        }
      ]
    },
    {
      "cell_type": "code",
      "metadata": {
        "id": "jwxn37JRuzjV",
        "colab": {
          "base_uri": "https://localhost:8080/"
        },
        "outputId": "efb9951f-164f-4141-fd55-4ac8a3538468"
      },
      "source": [
        "dataset = Dataset.range(5)\n",
        "\n",
        "result = dataset.map(lambda x: x+1)\n",
        "\n",
        "result"
      ],
      "execution_count": null,
      "outputs": [
        {
          "output_type": "execute_result",
          "data": {
            "text/plain": [
              "<MapDataset element_spec=TensorSpec(shape=(), dtype=tf.int64, name=None)>"
            ]
          },
          "metadata": {},
          "execution_count": 20
        }
      ]
    },
    {
      "cell_type": "code",
      "metadata": {
        "id": "FcwzArdpuzad",
        "colab": {
          "base_uri": "https://localhost:8080/"
        },
        "outputId": "f5fe937e-beb9-4ac5-db00-56d8e2c89167"
      },
      "source": [
        "elements = [(1, 'one'),(2,'two'),(3,'three')]\n",
        "dataset = Dataset.from_generator(lambda : elements,(tf.int32,tf.string))\n",
        "\n",
        "result = dataset.map(lambda x_int, y_str : x_int)\n",
        "list(result.as_numpy_iterator())"
      ],
      "execution_count": null,
      "outputs": [
        {
          "output_type": "execute_result",
          "data": {
            "text/plain": [
              "[1, 2, 3]"
            ]
          },
          "metadata": {},
          "execution_count": 21
        }
      ]
    },
    {
      "cell_type": "code",
      "metadata": {
        "id": "Tleeqc_GuzUX",
        "colab": {
          "base_uri": "https://localhost:8080/"
        },
        "outputId": "0bde8009-248c-4a12-8261-3a2785b6e529"
      },
      "source": [
        "dataset = dataset.range(3)\n",
        "\n",
        "def g(x):\n",
        "  return tf.constant(10.5),tf.constant(['one','two','three'])\n",
        "\n",
        "result = dataset.map(g)\n",
        "result.element_spec"
      ],
      "execution_count": null,
      "outputs": [
        {
          "output_type": "execute_result",
          "data": {
            "text/plain": [
              "(TensorSpec(shape=(), dtype=tf.float32, name=None),\n",
              " TensorSpec(shape=(3,), dtype=tf.string, name=None))"
            ]
          },
          "metadata": {},
          "execution_count": 22
        }
      ]
    },
    {
      "cell_type": "code",
      "metadata": {
        "id": "0aRvH0yR0H1H",
        "colab": {
          "base_uri": "https://localhost:8080/"
        },
        "outputId": "7baa1e70-441c-448f-a060-10199309fb15"
      },
      "source": [
        "def h(x):\n",
        "  return 10.5, ['one','two','three'], np.array([1.0, 2.0], dtype = np.float64)\n",
        "\n",
        "result = dataset.map(h)\n",
        "result.element_spec"
      ],
      "execution_count": null,
      "outputs": [
        {
          "output_type": "execute_result",
          "data": {
            "text/plain": [
              "(TensorSpec(shape=(), dtype=tf.float32, name=None),\n",
              " TensorSpec(shape=(3,), dtype=tf.string, name=None),\n",
              " TensorSpec(shape=(2,), dtype=tf.float64, name=None))"
            ]
          },
          "metadata": {},
          "execution_count": 23
        }
      ]
    },
    {
      "cell_type": "code",
      "metadata": {
        "id": "YxvOUl4u0HxH",
        "colab": {
          "base_uri": "https://localhost:8080/"
        },
        "outputId": "b80f360e-95bf-4487-acb2-5e4488238c14"
      },
      "source": [
        "def i (x):\n",
        "  return(10.5,[12, 11]),\"one\",\"Two\"\n",
        "\n",
        "result = dataset.map(i)\n",
        "result.element_spec"
      ],
      "execution_count": null,
      "outputs": [
        {
          "output_type": "execute_result",
          "data": {
            "text/plain": [
              "((TensorSpec(shape=(), dtype=tf.float32, name=None),\n",
              "  TensorSpec(shape=(2,), dtype=tf.int32, name=None)),\n",
              " TensorSpec(shape=(), dtype=tf.string, name=None),\n",
              " TensorSpec(shape=(), dtype=tf.string, name=None))"
            ]
          },
          "metadata": {},
          "execution_count": 24
        }
      ]
    },
    {
      "cell_type": "code",
      "metadata": {
        "id": "LeKdClAA0Vjy",
        "colab": {
          "base_uri": "https://localhost:8080/"
        },
        "outputId": "0bc4ee1d-f9c9-4375-87c7-aa74dc8d4f84"
      },
      "source": [
        "dataset = Dataset.from_tensor_slices([1,2,3,4,5,6,7,8,9,10])\n",
        "dataset = dataset.filter(lambda x : x < 5)\n",
        "list(dataset.as_numpy_iterator())"
      ],
      "execution_count": null,
      "outputs": [
        {
          "output_type": "execute_result",
          "data": {
            "text/plain": [
              "[1, 2, 3, 4]"
            ]
          },
          "metadata": {},
          "execution_count": 25
        }
      ]
    },
    {
      "cell_type": "code",
      "metadata": {
        "id": "mnMR0g6Y0X8g",
        "colab": {
          "base_uri": "https://localhost:8080/"
        },
        "outputId": "311377ab-757f-44a1-8c33-7dec4670fbc6"
      },
      "source": [
        "def filter_fn(x):\n",
        "  return tf.math.equal(x,1)\n",
        "\n",
        "dataset = dataset.filter(filter_fn)\n",
        "list(dataset.as_numpy_iterator())"
      ],
      "execution_count": null,
      "outputs": [
        {
          "output_type": "execute_result",
          "data": {
            "text/plain": [
              "[1]"
            ]
          },
          "metadata": {},
          "execution_count": 26
        }
      ]
    },
    {
      "cell_type": "markdown",
      "metadata": {
        "id": "MZlHtx9HiBnw"
      },
      "source": [
        "### shuffle, take"
      ]
    },
    {
      "cell_type": "code",
      "metadata": {
        "id": "yVjGXd0Zg3MV",
        "colab": {
          "base_uri": "https://localhost:8080/",
          "height": 118,
          "referenced_widgets": [
            "b3e291d2bee7446db22e5d516d4e179f",
            "07d4c4f9fcf841328a44e30856a85848",
            "9d3efc0badbe417787b76404deff6f47",
            "e7fa32d8889d4c06bda6e7bf4d2452de",
            "c4b9209a2b004b49bcb9b6275f0de7a9",
            "7461d468957d4955bbd3c75e12552334",
            "40f25bfc04c446429da5896fbfd16ff7",
            "9a9f05c6ed7043178b83ebd943d3bb8a",
            "c036f0b6857647f69c17fd2193c611b1",
            "b858825c089c4647bb695612325c7f32",
            "007d24d5750345d29a2a32a09ba50b55",
            "405c52ab2a3b475b853100429a47b324",
            "5c3abd4681c242358919d50ccb51f309",
            "4dee15eb0e6447f6a20d5b2cccdbd246",
            "e389e75a9c804d2ab02cc2fea9895474",
            "2828ea538b6748029a59918f2a837987",
            "d9ac010dacf2466dbd6febd19c5f3afe",
            "c30a5d2d9e09483e89ce2d72187772cb",
            "5b25208996ce43719fd134be47ca2613",
            "358d9f06bc314bc98f53da9a68a17644",
            "c315f51d6b5040949924dc145ead47e3",
            "c84d6ab8bfda4213ade6bafbaabb25d0",
            "d215bf43a7064a09ac63e95b194fbc28",
            "b652335f552d4cd48f35803f1a923b95",
            "4e39f8fb0e6c4e44b86729359655e103",
            "cec30018a2c84fdaab97dd504459e9ff",
            "aa839ba408024eadb06cd5e890f0895c",
            "4b3ea9fe4cf8470281d21b78cae10572",
            "0197c0bb144d47a4a4131869e5d1cb5c",
            "c2c2792f81ae40159afe50bebb82fe8c",
            "ee1c31fc424b42a4a683edffd3377cdc",
            "df42537682fe47ffbc57f268d0d7d31a",
            "f5a6ff5d41494d3cbf030036143a5447",
            "d7371517cfa443cc9bd11e0a9a2996c5",
            "343471392b834e91a465b1ebcbf33ec0",
            "805576c59a7b4ac7b28082273511a2ac",
            "0cb72968a24546229222d359a039fed1",
            "bf172598201546a0859e6795e113f686",
            "eee7806ff38b44498b2d18a148daef25",
            "a5eb517897274d298e6e91695932b920",
            "21a960c1c121420380c61e2cb7339fa8",
            "0677309d6e214c15acafd6db78737bdc",
            "70c8dc0ffde942c8aa536633122f5e52",
            "33d017d1e4f44504bc246e1174e78d13",
            "1dc77aef14bb4696abe7fa5611f2e4f7",
            "4100f2c6ec12479c828f50df2e03e811",
            "c0b38850a5584654bbb361c325d07ab9",
            "dede6c2dc89345cc8e2b5b2bebea6f36",
            "3f04fcf4ad3640f58fd5ef890829035d",
            "d2a8e210af314bae8d15fb3f7beccbca",
            "755df0837a684b5cbca0b612fb3228e9",
            "fbbfbb832ca24a1cbe4f8f541225d0cb",
            "d60cdbd4255f4a8580941a253071f2c3",
            "9076f9f4b679443eaed6bc620179159e",
            "cce7a831bc7744de9b8360336729d8ed",
            "6f3a2dcc0f8747e19c279adbc977624a",
            "c9d63aa4fd0c44ff9b4b91cc878387e0",
            "1dd9f41813574c88a214ac75c8abc697",
            "759039410da447cbafac2082ce36383d",
            "6ad1f0ac56224daaa64aa6ef12eb76ee",
            "6921659d1f5640ad82273da62a4f14ea",
            "f752802673a34c399c1e5720d3a84d27",
            "4d0f3d5867a14861b8625c83b70b54ce",
            "c3b249c7d04949efa315360953eac6ba",
            "00f2fc510a304fb194158e01c1a2301c",
            "eeb68fa919204df3a8aa08136b834b00",
            "0a5ae30b58664d4987c0fe93f1e5080a",
            "338b20711e064946978cc8418b2af0ec",
            "4d1cd3b5196f4b94afea7aa354d01341",
            "114417447f3245229f16a4f8c05f97ea",
            "2b497e2e05714e0b886a579b0e30002d",
            "7b529118bdd04dde834106ce8032686c",
            "2d05114ba58e4b4792bdbda47b00d10d",
            "0e33fca3e83f45f5ad14471267cc4a0a",
            "f88fcf9391d14986a0912482e723970d",
            "9f117d2df3ee4ad4af78d013d60f315f",
            "d4de64ed19294e98abe1dc2827956213",
            "acff2ed3c7d8480d83f447cffb5fb668",
            "193634598a294a6e8666f8e4df82e3b2",
            "8415dadc9124423a9a0b7614ff80700d",
            "db36b80db7494da784b8645d129ebaf1",
            "496fc2335aba4eff9c309ed60c6bdbd8",
            "1046c7d886b64048b7a762a2bb0165e8",
            "a022e12d3ddc49e9be57156c7e1260ca",
            "2394d454e2a04f9f9a881ebc5eadd59c",
            "75f6eb8ccbae477f9361738022bce605",
            "af028a16a9874d90a3289d18fc9a6e60",
            "eed1ca7aaa924bdfa00deaa436c29396",
            "94c2da21f7cc436eb8c53a1a7ad09334",
            "223b261e100b44bb855f6303d1f0b5e1",
            "a4f9c461d965420e84704882afebbd3d",
            "cc697e64ea564fbcafa1b8871bb2bcf0",
            "9043a8df1d834c5fbdfafcabe33b1356",
            "a11e4584cbce467899a1e0ccd64255b7",
            "43a01655b89a4276950c206dfbeeed09",
            "4d858dbeda7942daa359489914ee615c",
            "f26bfe564fe74e449f155df42c8c3609",
            "1b5e3fb5530a4fb88cf6c041d3fd5434",
            "534b4c429c6e4e43967ff9da2c57f3b7"
          ]
        },
        "outputId": "dae52453-2754-48da-b746-c4a17853026f"
      },
      "source": [
        "dataset, info = tfds.load('imdb_reviews', with_info = True, as_supervised = True)"
      ],
      "execution_count": null,
      "outputs": [
        {
          "output_type": "stream",
          "name": "stdout",
          "text": [
            "Downloading and preparing dataset 80.23 MiB (download: 80.23 MiB, generated: Unknown size, total: 80.23 MiB) to ~/tensorflow_datasets/imdb_reviews/plain_text/1.0.0...\n"
          ]
        },
        {
          "output_type": "display_data",
          "data": {
            "text/plain": [
              "Dl Completed...: 0 url [00:00, ? url/s]"
            ],
            "application/vnd.jupyter.widget-view+json": {
              "version_major": 2,
              "version_minor": 0,
              "model_id": "b3e291d2bee7446db22e5d516d4e179f"
            }
          },
          "metadata": {}
        },
        {
          "output_type": "display_data",
          "data": {
            "text/plain": [
              "Dl Size...: 0 MiB [00:00, ? MiB/s]"
            ],
            "application/vnd.jupyter.widget-view+json": {
              "version_major": 2,
              "version_minor": 0,
              "model_id": "405c52ab2a3b475b853100429a47b324"
            }
          },
          "metadata": {}
        },
        {
          "output_type": "display_data",
          "data": {
            "text/plain": [
              "Generating splits...:   0%|          | 0/3 [00:00<?, ? splits/s]"
            ],
            "application/vnd.jupyter.widget-view+json": {
              "version_major": 2,
              "version_minor": 0,
              "model_id": "d215bf43a7064a09ac63e95b194fbc28"
            }
          },
          "metadata": {}
        },
        {
          "output_type": "display_data",
          "data": {
            "text/plain": [
              "Generating train examples...:   0%|          | 0/25000 [00:00<?, ? examples/s]"
            ],
            "application/vnd.jupyter.widget-view+json": {
              "version_major": 2,
              "version_minor": 0,
              "model_id": "d7371517cfa443cc9bd11e0a9a2996c5"
            }
          },
          "metadata": {}
        },
        {
          "output_type": "display_data",
          "data": {
            "text/plain": [
              "Shuffling ~/tensorflow_datasets/imdb_reviews/plain_text/1.0.0.incompleteV2ZIOA/imdb_reviews-train.tfrecord*...…"
            ],
            "application/vnd.jupyter.widget-view+json": {
              "version_major": 2,
              "version_minor": 0,
              "model_id": "1dc77aef14bb4696abe7fa5611f2e4f7"
            }
          },
          "metadata": {}
        },
        {
          "output_type": "display_data",
          "data": {
            "text/plain": [
              "Generating test examples...:   0%|          | 0/25000 [00:00<?, ? examples/s]"
            ],
            "application/vnd.jupyter.widget-view+json": {
              "version_major": 2,
              "version_minor": 0,
              "model_id": "6f3a2dcc0f8747e19c279adbc977624a"
            }
          },
          "metadata": {}
        },
        {
          "output_type": "display_data",
          "data": {
            "text/plain": [
              "Shuffling ~/tensorflow_datasets/imdb_reviews/plain_text/1.0.0.incompleteV2ZIOA/imdb_reviews-test.tfrecord*...:…"
            ],
            "application/vnd.jupyter.widget-view+json": {
              "version_major": 2,
              "version_minor": 0,
              "model_id": "0a5ae30b58664d4987c0fe93f1e5080a"
            }
          },
          "metadata": {}
        },
        {
          "output_type": "display_data",
          "data": {
            "text/plain": [
              "Generating unsupervised examples...:   0%|          | 0/50000 [00:00<?, ? examples/s]"
            ],
            "application/vnd.jupyter.widget-view+json": {
              "version_major": 2,
              "version_minor": 0,
              "model_id": "acff2ed3c7d8480d83f447cffb5fb668"
            }
          },
          "metadata": {}
        },
        {
          "output_type": "display_data",
          "data": {
            "text/plain": [
              "Shuffling ~/tensorflow_datasets/imdb_reviews/plain_text/1.0.0.incompleteV2ZIOA/imdb_reviews-unsupervised.tfrec…"
            ],
            "application/vnd.jupyter.widget-view+json": {
              "version_major": 2,
              "version_minor": 0,
              "model_id": "94c2da21f7cc436eb8c53a1a7ad09334"
            }
          },
          "metadata": {}
        },
        {
          "output_type": "stream",
          "name": "stdout",
          "text": [
            "Dataset imdb_reviews downloaded and prepared to ~/tensorflow_datasets/imdb_reviews/plain_text/1.0.0. Subsequent calls will reuse this data.\n"
          ]
        }
      ]
    },
    {
      "cell_type": "code",
      "metadata": {
        "id": "aIYeC8XMg3JR",
        "colab": {
          "base_uri": "https://localhost:8080/"
        },
        "outputId": "f358a7c4-0c6e-40b4-ad8a-665c22c608bb"
      },
      "source": [
        "train_dataset = dataset['train']\n",
        "train_dataset = train_dataset.batch(5).shuffle(5).take(2)\n",
        "\n",
        "for data in train_dataset:\n",
        "  print(data)"
      ],
      "execution_count": null,
      "outputs": [
        {
          "output_type": "stream",
          "name": "stdout",
          "text": [
            "(<tf.Tensor: shape=(5,), dtype=string, numpy=\n",
            "array([b'During a sleepless night, I was switching through the channels & found this embarrassment of a movie. What were they thinking?<br /><br />If this is life after \"Remote Control\" for Kari (Wuhrer) Salin, no wonder she\\'s gone nowhere.<br /><br />And why did David Keith take this role? It\\'s pathetic!<br /><br />Anyway, I turned on the movie near the end, so I didn\\'t get much of the plot. But this must\\'ve been the best part. This nerdy college kid brings home this dominatrix-ish girl...this scene is straight out of the comic books -- or the cheap porn movies. She calls the mother anal retentive and kisses the father \"Oh, I didn\\'t expect tongue!\" Great lines!<br /><br />After this, I had to see how it ended..<br /><br />Well, of course, this bitch from hell has a helluva past, so the SWAT team is upstairs. And yes...they surround her! And YES YES! The kid blows her brains out!!!! AHAHHAHAHAHA!!<br /><br />This is must-see TV. <br /><br />',\n",
            "       b'Cute film about three lively sisters from Switzerland (often seen running about in matching outfits) who want to get their parents back together (seems mom is still carrying the torch for dad) - so they sail off to New York to stop the dad from marrying a blonde gold-digger he calls \"Precious\". Dad hasn\\'t seen his daughters in ten years, they (oddly enough) don\\'t seem to mind and think he\\'s wonderful, and meanwhile Precious seems to lead a life mainly run by her overbearing mother (Alice Brady), a woman who just wants to see to it her daughter marries a rich man. The sisters get the idea of pushing Precious into the path of a drunken Hungarian count, tricking the two gold-digging women into thinking he is one of the richest men in Europe. But a case of mistaken identity makes the girls think the count is good-looking Ray Milland, who goes along with the scheme \\'cause he has a crush on sister Kay.<br /><br />This film is enjoyable, light fare. Barbara Read as Kay comes across as sweet and pretty, Ray Milland looks oh so young and handsome here (though, unfortunately, is given little to do), Alice Brady is quite good as the scheming mother - but it is Deanna Durbin, a real charmer and cute as a button playing youngest sister Penny, who pretty much steals the show. With absolutely beautiful vocals, she sings several songs throughout the film, though I actually would have liked to have seen them feature her even more in this. The plot in this film is a bit silly, but nevertheless, I found the film to be entertaining and fun.',\n",
            "       b\"This 1984 version of the Dickens' classic `A Christmas Carol,' directed by Clive Donner, stars George C. Scott as Ebenezer Scrooge. By this time around, the challenge for the filmmaker was to take such familiar material and make it seem fresh and new again; and, happily to say, with this film Donner not only met the challenge but surpassed any expectations anyone might have had for it. He tells the story with precision and an eye to detail, and extracts performances from his actors that are nothing less than superlative, especially Scott. One could argue that the definitive portrayal of Scrooge-- one of the best known characters in literary fiction, ever-- was created by Alastair Sim in the 1951 film; but I think with his performance here, Scott has now achieved that distinction. There is such a purity and honesty in his Scrooge that it becomes difficult to even consider anyone else in the role once you've seen Scott do it; simply put, he IS Scrooge. And what a tribute it is to such a gifted actor; to be able to take such a well known figure and make it so uniquely his own is quite miraculous. It is truly a joy to see an actor ply his trade so well, to be able to make a character so real, from every word he utters down to the finest expression of his face, and to make it all ring so true. It's a study in perfection.<br /><br />The other members of the cast are splendid as well, but then again they have to be in order to maintain the integrity of Scott's performance; and they do. Frank Finlay is the Ghost of Jacob Marley; a notable turn, though not as memorable, perhaps, as the one by Alec Guinness (as Marley) in the film, `Scrooge.' Angela Pleasence is a welcome visage as the Spirit of Christmas Past; Edward Woodward, grand and boisterous, and altogether convincing as the Spirit of Christmas Present; and Michael Carter, grim and menacing as the Spirit of Christmas Yet To Come.<br /><br />David Warner hits just the right mark with his Bob Cratchit, bringing a sincerity to the role that measures up well to the standard of quality set by Scott's Scrooge, and Susannah York fares just as well as Mrs. Cratchit. The real gem to be found here, though, is the performance of young Anthony Walters as Tiny Tim; it's heartfelt without ever becoming maudlin, and simply one of the best interpretations-- and the most real-- ever presented on film.<br /><br />The excellent supporting cast includes Roger Rees (Fred Holywell, and also the narrator of the film), Caroline Langrishe (Janet Holywell), Lucy Gutteridge (Belle), Michael Gough (Mr. Poole) and Joanne Whalley (Fan). A flawless presentation, this version of `A Christmas Carol' sets the standard against which all others must be gauged; no matter how many versions you may have seen, watching this one is like seeing it for the first time ever. And forever after, whenever you think of Scrooge, the image your mind will conjure up will be that of George C. Scott. A thoroughly entertaining and satisfying experience, this film demands a place in the annual schedule of the holiday festivities of every home. I rate this one 10/10.\",\n",
            "       b'Put the blame on executive producer Wes Craven and financiers the Weinsteins for this big-budget debacle: a thrash-metal updating of \"Dracula\", with a condescending verbal jab at Bram Stoker (who probably wouldn\\'t want his name on this thing anyway) and nothing much for the rest of us except slasher-styled jolts and gore. Christopher Plummer looks winded as Van Helsing in the modern-day--not just a descendant of Van Helsing but the real thing; he keeps himself going with leeches obtained from Count Dracula\\'s corpse, which is exhumed from its coffin after being stolen from Van Helsing\\'s vault and flown to New Orleans. This is just what New Orleans needs in the 21st Century! The film, well-produced but without a single original idea (except for multi-racial victims), is both repulsive and lazy, and after about an hour starts repeating itself. * from ****',\n",
            "       b'Hilarious, evocative, confusing, brilliant film. Reminds me of Bunuel\\'s L\\'Age D\\'Or or Jodorowsky\\'s Holy Mountain-- lots of strange characters mucking about and looking for..... what is it? I laughed almost the whole way through, all the while keeping a peripheral eye on the bewildered and occasionally horrified reactions of the audience that surrounded me in the theatre. Entertaining through and through, from the beginning to the guts and poisoned entrails all the way to the end, if it was an end. I only wish i could remember every detail. It haunts me sometimes.<br /><br />Honestly, though, i have only the most positive recollections of this film. As it doesn\\'t seem to be available to take home and watch, i suppose i\\'ll have to wait a few more years until Crispin Glover comes my way again with his Big Slide Show (and subsequent \"What is it?\" screening)... I saw this film in Atlanta almost directly after being involved in a rather devastating car crash, so i was slightly dazed at the time, which was perhaps a very good state of mind to watch the prophetic talking arthropods and the retards in the superhero costumes and godlike Glover in his appropriate burly-Q setting, scantily clad girlies rising out of the floor like a magnificent DADAist wet dream.<br /><br />Is it a statement on Life As We Know It? Of course everyone EXPECTS art to be just that. I rather think that the truth is more evident in the absences and in the negative space. What you don\\'t tell us is what we must deduce, but is far more valid than the lies that other people feed us day in and day out. Rather one \"WHAT IS IT?\" than 5000 movies like \"Titanic\" or \"Sleepless in Seattle\" (shudder, gag, groan).<br /><br />Thank you, Mr. Glover (additionally a fun man to watch on screen or at his Big Slide Show-- smart, funny, quirky, and outrageously hot). Make more films, write more books, keep the nightmare alive.'],\n",
            "      dtype=object)>, <tf.Tensor: shape=(5,), dtype=int64, numpy=array([0, 1, 1, 0, 1])>)\n",
            "(<tf.Tensor: shape=(5,), dtype=string, numpy=\n",
            "array([b\"Well, i rented this movie and found out it realllllllly sucks. It is about that family with the stepmother and the same stupid fights in the family,then the cool son comes with his stupid camera and he likes to take a photo to damaged building and weird things and weird movie ,and then he asks his father to take him to a side trip and simply agrees, etc etc etc..... They go to that town which no one know it exists (blah blah blah) And the most annoying thing is that the movie ends and yet you don't understand what is THAT MOVIE!!!!I have seen many mystery movies but that was the worst, Honestly it doesn't have a description at all and i wish i didn't see it.\",\n",
            "       b'I actually had quite high hopes going into this movie, so I took what was given with a grain of salt and hoped for the best. About 1/3 of the way through the film I simply had to give up, quite simply the movie is a mish-mash of stuff happening for no apparent reason and it\\'s all disconnected. I love movies that make you think, but this movie was just a bunch of ideas thrown together and never really connected.<br /><br />Don\\'t think it\\'s David Lynch-esquire as some would have you believe, it is nowhere near that realm other than some trippy visuals. Saying it\\'s artsy to disguise the fact there\\'s no apparent plot or story is just a manner or justifying why you wasted the 1.5 hours in the film. The acting was good, but that cannot save lack of story. I do agree with the one comment posted previously... \"it\\'s like being in some other person\\'s head... while they\\'re on drugs,\" in other words nothing makes sense.',\n",
            "       b\"I liked the initial premise to this film which is what led me to hunt it out but the problem I quickly found is that one pretty much knows what's going to happen within the first 20-30 minutes ( the doubles will come from behind the mirror and take over everybody).<br /><br />There is no real twist (which is fine) , but the final reveal doesn't make a great deal of sense either (how can she be racked with uncertainty and fear for the whole film, if she's an evil id from beyond the mirror?).<br /><br />Admittedly the scenes 'beyond the mirror' were chilling when they first appeared and the blonde's murder is also effectively creepy, but ultimately alas this seems to be a film in search of a story or a more engaging script, piling atmosphere upon atmosphere and over the top scary sound design for 80-90 minutes does not really cut it, in fact it gets quite dull.\",\n",
            "       b\"My main problem with the film is that it goes on too long. Other then that, it's pretty good. Paul Muni plays a poor Chinese farmer who is about to get married through an arranged marriage. Luise Rainer is a servant girl who gets married to Muni. They live with Muni's father on a farm and they are doing pretty bad. When he finally gets some money to buy some more land, a drought hits and nothing is growing. Everybody stars to head north by Muni stays behind at first. When they leave and arrive at town they find that their are no jobs and they are worse off than before. They even think about selling their youngest daughter as a slave for some money but decide against it. When a bunch of people start looting the town, the military show up and start executing people . Paul Muni does a good job and Luise Rainer won a second oscar for this movie.\",\n",
            "       b\"This movie never made it to theaters in our area, so when it became available on DVD I was one of the first to rent it. For once, I should listened to the critics and passed on this one.<br /><br />Despite the excellent line up of actors the movie was very disappointing. I can see now why it went straight to video. <br /><br />I had thought that with Bloom, Ledger, and Rush it could have some value. All have done wonderful work in the past. <br /><br />The movie was slow moving and never pulled me in. I failed to develop much empathy for the characters and had to fight the urge to fast-forward just to get to the end. <br /><br />I do not recommend this film even if you are thinking of renting it for only for 'eye candy' purposes. It won't satisfy even that.\"],\n",
            "      dtype=object)>, <tf.Tensor: shape=(5,), dtype=int64, numpy=array([0, 0, 0, 1, 0])>)\n"
          ]
        }
      ]
    },
    {
      "cell_type": "markdown",
      "metadata": {
        "id": "4OqOaYk6k7wy"
      },
      "source": [
        "### get_next()"
      ]
    },
    {
      "cell_type": "code",
      "metadata": {
        "id": "m57rjJsskp8t",
        "colab": {
          "base_uri": "https://localhost:8080/"
        },
        "outputId": "be7e5d40-8722-479c-f765-5e74a84f6815"
      },
      "source": [
        "dataset = Dataset.range(2)\n",
        "for element in dataset:\n",
        "  print(element)"
      ],
      "execution_count": null,
      "outputs": [
        {
          "output_type": "stream",
          "name": "stdout",
          "text": [
            "tf.Tensor(0, shape=(), dtype=int64)\n",
            "tf.Tensor(1, shape=(), dtype=int64)\n"
          ]
        }
      ]
    },
    {
      "cell_type": "code",
      "metadata": {
        "id": "vitlC-JCkp4U",
        "colab": {
          "base_uri": "https://localhost:8080/"
        },
        "outputId": "f5a05ca7-8dae-4459-81c4-33c0ec32d81e"
      },
      "source": [
        "dataset =  Dataset.range(2)\n",
        "iterator = iter(dataset)\n",
        "print(dataset)\n",
        "print(iterator.get_next())\n",
        "print(iterator.get_next())"
      ],
      "execution_count": null,
      "outputs": [
        {
          "output_type": "stream",
          "name": "stdout",
          "text": [
            "<RangeDataset element_spec=TensorSpec(shape=(), dtype=tf.int64, name=None)>\n",
            "tf.Tensor(0, shape=(), dtype=int64)\n",
            "tf.Tensor(1, shape=(), dtype=int64)\n"
          ]
        }
      ]
    },
    {
      "cell_type": "code",
      "metadata": {
        "id": "6o4XRcpLg3Fm",
        "colab": {
          "base_uri": "https://localhost:8080/"
        },
        "outputId": "c3f61b67-564f-4c05-eb36-792dc2d19ac3"
      },
      "source": [
        "a = np.random.randint(0,10, size=(2,3))\n",
        "print(a)\n",
        "dataset = Dataset.from_tensor_slices(a)\n",
        "iterator = iter(dataset)\n",
        "\n",
        "\n",
        "print(iterator.get_next())"
      ],
      "execution_count": null,
      "outputs": [
        {
          "output_type": "stream",
          "name": "stdout",
          "text": [
            "[[4 8 1]\n",
            " [4 7 8]]\n",
            "tf.Tensor([4 8 1], shape=(3,), dtype=int64)\n"
          ]
        }
      ]
    },
    {
      "cell_type": "markdown",
      "metadata": {
        "id": "oAK97VN4JObZ"
      },
      "source": [
        "## tf.dataset을 이용한 Fashion-MNIST 분류"
      ]
    },
    {
      "cell_type": "markdown",
      "metadata": {
        "id": "8FyGWr9h5s9m"
      },
      "source": [
        "### modules import"
      ]
    },
    {
      "cell_type": "code",
      "metadata": {
        "id": "wtumZQhkobI5"
      },
      "source": [
        "import matplotlib.pyplot as plt\n",
        "\n",
        "import tensorflow as tf\n",
        "from tensorflow.keras.layers import Dense, Input, Flatten, Dropout, Activation , BatchNormalization\n",
        "from tensorflow.keras.models import Model\n",
        "from tensorflow.keras.datasets.fashion_mnist import load_data"
      ],
      "execution_count": null,
      "outputs": []
    },
    {
      "cell_type": "markdown",
      "metadata": {
        "id": "VOTtgNwc3R6f"
      },
      "source": [
        "### 데이터 로드"
      ]
    },
    {
      "cell_type": "code",
      "metadata": {
        "id": "8434sHHjob1L"
      },
      "source": [
        "(x_train,y_train), (x_test, y_test) = load_data()"
      ],
      "execution_count": null,
      "outputs": []
    },
    {
      "cell_type": "code",
      "metadata": {
        "id": "bfxxi0TJ3kwq",
        "colab": {
          "base_uri": "https://localhost:8080/"
        },
        "outputId": "a1d1b5f9-2473-4f9f-cbb5-ee78e5768592"
      },
      "source": [
        "print(x_train.shape)\n",
        "print(y_train.shape)\n",
        "print(x_test.shape)\n",
        "print(y_test.shape)"
      ],
      "execution_count": null,
      "outputs": [
        {
          "output_type": "stream",
          "name": "stdout",
          "text": [
            "(60000, 28, 28)\n",
            "(60000,)\n",
            "(10000, 28, 28)\n",
            "(10000,)\n"
          ]
        }
      ]
    },
    {
      "cell_type": "markdown",
      "metadata": {
        "id": "PPR9OD1w3mBQ"
      },
      "source": [
        "### 데이터 전처리"
      ]
    },
    {
      "cell_type": "code",
      "metadata": {
        "id": "U3W43mhxob4P"
      },
      "source": [
        "x_train = x_train /255.\n",
        "x_test = x_test/255."
      ],
      "execution_count": null,
      "outputs": []
    },
    {
      "cell_type": "markdown",
      "metadata": {
        "id": "nm8NM-QX32sf"
      },
      "source": [
        "### tf.data 이용"
      ]
    },
    {
      "cell_type": "code",
      "metadata": {
        "id": "VC9howR-obaW"
      },
      "source": [
        "train_ds = Dataset.from_tensor_slices((x_train,y_train))\n",
        "train_ds = train_ds.shuffle(1000)\n",
        "train_ds = train_ds.batch(32)\n",
        "\n",
        "\n",
        "test_ds = Dataset.from_tensor_slices((x_test, y_test))\n",
        "test_ds = test_ds.batch(32)"
      ],
      "execution_count": null,
      "outputs": []
    },
    {
      "cell_type": "code",
      "metadata": {
        "id": "FkbVvnrU5Idc"
      },
      "source": [
        "class_names = ['T-shirt/top', 'Trouser', 'Pullover', 'Dress','Coat',\n",
        "               'Sandal', 'Shirt','Sneaker', 'Bag', 'Ankle boot']\n",
        "\n",
        "              "
      ],
      "execution_count": null,
      "outputs": []
    },
    {
      "cell_type": "markdown",
      "metadata": {
        "id": "aXJEB1qg4eB0"
      },
      "source": [
        "### 데이터 확인"
      ]
    },
    {
      "cell_type": "code",
      "metadata": {
        "id": "COlETHf2obVD",
        "colab": {
          "base_uri": "https://localhost:8080/",
          "height": 545
        },
        "outputId": "1081fe6a-4fda-47f3-8b6c-3296403db6a7"
      },
      "source": [
        "for image, label in train_ds.take(2):\n",
        "  plt.title(\"{}\".format(class_names[label[0]]))\n",
        "  plt.imshow(image[0,:,:],cmap ='gray')\n",
        "  plt.show()\n",
        "\n"
      ],
      "execution_count": null,
      "outputs": [
        {
          "output_type": "display_data",
          "data": {
            "text/plain": [
              "<Figure size 432x288 with 1 Axes>"
            ],
            "image/png": "[encoded data removed]"
          },
          "metadata": {
            "needs_background": "light"
          }
        },
        {
          "output_type": "display_data",
          "data": {
            "text/plain": [
              "<Figure size 432x288 with 1 Axes>"
            ],
            "image/png": "[encoded data removed]"
          },
          "metadata": {
            "needs_background": "light"
          }
        }
      ]
    },
    {
      "cell_type": "markdown",
      "metadata": {
        "id": "-2PTjY1D5g4L"
      },
      "source": [
        "### 모델 생성\n",
        "- 임의의 모델"
      ]
    },
    {
      "cell_type": "code",
      "metadata": {
        "id": "g29WUBIKobRN"
      },
      "source": [
        "def build_model():\n",
        "  input = Input(shape=(28,28), name='input')\n",
        "  flatten = Flatten(input_shape = [28,28], name = 'flatten')(input)\n",
        "  hidden1 = Dense(256, kernel_initializer = 'he_normal',name = 'hidden1' )(flatten)\n",
        "  hidden1 = BatchNormalization()(hidden1)\n",
        "  hidden1 = Activation('relu')(hidden1)\n",
        "  dropout1 = Dropout(0.5)(hidden1)\n",
        "\n",
        "  hidden2 = Dense(100, kernel_initializer = 'he_normal',name = 'hidden2' )(dropout1)\n",
        "  hidden2 = BatchNormalization()(hidden2)\n",
        "  hidden2 = Activation('relu')(hidden2)\n",
        "  dropout2 = Dropout(0.5)(hidden2)\n",
        "\n",
        "  hidden3 = Dense(100, kernel_initializer = 'he_normal',name = 'hidden3' )(dropout2)\n",
        "  hidden3 = BatchNormalization()(hidden3)\n",
        "  hidden3 = Activation('relu')(hidden3)\n",
        "  dropout3 = Dropout(0.5)(hidden3)\n",
        "\n",
        "  hidden4 = Dense(50, kernel_initializer = 'he_normal',name = 'hidden4' )(dropout3)\n",
        "  hidden4 = BatchNormalization()(hidden4)\n",
        "  hidden4 = Activation('relu')(hidden4)\n",
        "  dropout4 = Dropout(0.5)(hidden4)\n",
        "\n",
        "\n",
        "  output = Dense(10, activation = 'softmax', name = 'output')(dropout4)\n",
        "\n",
        "  model = Model(inputs = [input], outputs = output)\n",
        "\n",
        "  return model"
      ],
      "execution_count": null,
      "outputs": []
    },
    {
      "cell_type": "code",
      "source": [
        "model = build_model()"
      ],
      "metadata": {
        "id": "HDgRnuRs2yjX"
      },
      "execution_count": null,
      "outputs": []
    },
    {
      "cell_type": "code",
      "metadata": {
        "id": "q7YYIDZq8iRN",
        "colab": {
          "base_uri": "https://localhost:8080/"
        },
        "outputId": "3f85d7b0-15e2-492d-9757-a228f07329f6"
      },
      "source": [
        "model.summary()"
      ],
      "execution_count": null,
      "outputs": [
        {
          "output_type": "stream",
          "name": "stdout",
          "text": [
            "Model: \"model_5\"\n",
            "_________________________________________________________________\n",
            " Layer (type)                Output Shape              Param #   \n",
            "=================================================================\n",
            " input (InputLayer)          [(None, 28, 28)]          0         \n",
            "                                                                 \n",
            " flatten (Flatten)           (None, 784)               0         \n",
            "                                                                 \n",
            " hidden1 (Dense)             (None, 256)               200960    \n",
            "                                                                 \n",
            " batch_normalization_20 (Bat  (None, 256)              1024      \n",
            " chNormalization)                                                \n",
            "                                                                 \n",
            " activation_20 (Activation)  (None, 256)               0         \n",
            "                                                                 \n",
            " dropout_20 (Dropout)        (None, 256)               0         \n",
            "                                                                 \n",
            " hidden2 (Dense)             (None, 100)               25700     \n",
            "                                                                 \n",
            " batch_normalization_21 (Bat  (None, 100)              400       \n",
            " chNormalization)                                                \n",
            "                                                                 \n",
            " activation_21 (Activation)  (None, 100)               0         \n",
            "                                                                 \n",
            " dropout_21 (Dropout)        (None, 100)               0         \n",
            "                                                                 \n",
            " hidden3 (Dense)             (None, 100)               10100     \n",
            "                                                                 \n",
            " batch_normalization_22 (Bat  (None, 100)              400       \n",
            " chNormalization)                                                \n",
            "                                                                 \n",
            " activation_22 (Activation)  (None, 100)               0         \n",
            "                                                                 \n",
            " dropout_22 (Dropout)        (None, 100)               0         \n",
            "                                                                 \n",
            " hidden4 (Dense)             (None, 50)                5050      \n",
            "                                                                 \n",
            " batch_normalization_23 (Bat  (None, 50)               200       \n",
            " chNormalization)                                                \n",
            "                                                                 \n",
            " activation_23 (Activation)  (None, 50)                0         \n",
            "                                                                 \n",
            " dropout_23 (Dropout)        (None, 50)                0         \n",
            "                                                                 \n",
            " output (Dense)              (None, 10)                510       \n",
            "                                                                 \n",
            "=================================================================\n",
            "Total params: 244,344\n",
            "Trainable params: 243,332\n",
            "Non-trainable params: 1,012\n",
            "_________________________________________________________________\n"
          ]
        }
      ]
    },
    {
      "cell_type": "markdown",
      "metadata": {
        "id": "8noHcg8C6xMM"
      },
      "source": [
        "### 모델 컴파일\n",
        "- 평가(metrics)방식의 다른 방법\n",
        "  - `tf.keras.metrics.Mean`\n",
        "  - `tf.keras.metrics.SparseCategoricalAccuracy`\n",
        "\n",
        "- 위 두 방식을 사용하여 loss값을 좀 더 smooth하게 만들기(평균을 내는 방식)"
      ]
    },
    {
      "cell_type": "code",
      "metadata": {
        "id": "gpjwC1pa7pvI"
      },
      "source": [
        "loss_object = tf.keras.losses.SparseCategoricalCrossentropy()\n",
        "optimizer = tf.keras.optimizers.Adam()"
      ],
      "execution_count": null,
      "outputs": []
    },
    {
      "cell_type": "code",
      "metadata": {
        "id": "DSA2H53-6967"
      },
      "source": [
        "train_loss = tf.keras.metrics.Mean(name ='train_loss')\n",
        "train_accuracy = tf.keras.metrics.SparseCategoricalAccuracy(name = 'train_accuracy')\n",
        "\n",
        "test_loss = tf.keras.metrics.Mean(name = 'test_loss')\n",
        "test_accuracy = tf.keras.metrics.SparseCategoricalAccuracy(name = 'test_accuracy')"
      ],
      "execution_count": null,
      "outputs": []
    },
    {
      "cell_type": "markdown",
      "metadata": {
        "id": "1uC7KjrU6WqL"
      },
      "source": [
        "### 모델 학습"
      ]
    },
    {
      "cell_type": "markdown",
      "metadata": {
        "id": "ZTF2mvFYRoj_"
      },
      "source": [
        "@tf.function 으로 인해 학습이 시작되면 그래프를 생성하여 속도가 빠름\n"
      ]
    },
    {
      "cell_type": "code",
      "metadata": {
        "id": "rRw0DDmqobEv"
      },
      "source": [
        "@tf.function\n",
        "def train_step(images, labels):\n",
        "  with tf.GradientTape() as tape:\n",
        "    predictions = model(images)\n",
        "    loss = loss_object(labels, predictions)\n",
        "\n",
        "  gradients = tape.gradient(loss, model.trainable_variables)\n",
        "  optimizer.apply_gradients(zip(gradients, model.trainable_variables))\n",
        "\n",
        "  train_loss(loss)\n",
        "  train_accuracy(labels, predictions)"
      ],
      "execution_count": null,
      "outputs": []
    },
    {
      "cell_type": "code",
      "metadata": {
        "id": "rKoMJ7iJobB_"
      },
      "source": [
        "@tf.function\n",
        "def test_step(images, labels):\n",
        "  predictions = model(images)\n",
        "  t_loss = loss_object(labels, predictions)\n",
        "\n",
        "  test_loss(t_loss)\n",
        "  test_accuracy(labels, predictions)\n",
        "  "
      ],
      "execution_count": null,
      "outputs": []
    },
    {
      "cell_type": "code",
      "metadata": {
        "id": "sYkJhFWIoa_m",
        "colab": {
          "base_uri": "https://localhost:8080/"
        },
        "outputId": "94938a14-190a-409c-d65a-0ceb85bf262e"
      },
      "source": [
        "epochs = 20\n",
        "\n",
        "for epoch in range(epochs):\n",
        "  for images, labels in train_ds:\n",
        "    train_step(images, labels)\n",
        "\n",
        "  for test_images, test_labels in test_ds:\n",
        "    test_step(test_images, test_labels)\n",
        "\n",
        "  template = \"Epochs {:3d}\\tLoss:{:.4f}\\tAccuracy:{:4f}\\tTest Loss:{:4f}\\tTest Accuracy:{:4f}\\t\"\n",
        "  print(template.format(epoch +1,\n",
        "                        train_loss.result(),\n",
        "                        train_accuracy.result()*100,\n",
        "                        test_loss.result(),\n",
        "                        test_accuracy.result()*100\n",
        "                        ))\n"
      ],
      "execution_count": null,
      "outputs": [
        {
          "output_type": "stream",
          "name": "stdout",
          "text": [
            "Epochs   1\tLoss:0.4945\tAccuracy:82.023331\tTest Loss:0.446030\tTest Accuracy:83.450005\t\n",
            "Epochs   2\tLoss:0.4340\tAccuracy:84.101662\tTest Loss:0.415859\tTest Accuracy:84.619995\t\n",
            "Epochs   3\tLoss:0.4013\tAccuracy:85.231110\tTest Loss:0.401388\tTest Accuracy:85.159996\t\n",
            "Epochs   4\tLoss:0.3795\tAccuracy:86.015831\tTest Loss:0.400528\tTest Accuracy:85.114998\t\n",
            "Epochs   5\tLoss:0.3622\tAccuracy:86.622665\tTest Loss:0.387834\tTest Accuracy:85.711998\t\n",
            "Epochs   6\tLoss:0.3480\tAccuracy:87.111107\tTest Loss:0.380612\tTest Accuracy:86.046669\t\n",
            "Epochs   7\tLoss:0.3364\tAccuracy:87.523094\tTest Loss:0.374238\tTest Accuracy:86.320000\t\n",
            "Epochs   8\tLoss:0.3260\tAccuracy:87.884583\tTest Loss:0.369413\tTest Accuracy:86.557503\t\n",
            "Epochs   9\tLoss:0.3167\tAccuracy:88.213333\tTest Loss:0.363975\tTest Accuracy:86.801109\t\n",
            "Epochs  10\tLoss:0.3084\tAccuracy:88.504669\tTest Loss:0.360964\tTest Accuracy:86.959000\t\n",
            "Epochs  11\tLoss:0.3008\tAccuracy:88.773178\tTest Loss:0.359110\tTest Accuracy:87.092728\t\n",
            "Epochs  12\tLoss:0.2939\tAccuracy:89.015556\tTest Loss:0.358452\tTest Accuracy:87.189171\t\n",
            "Epochs  13\tLoss:0.2874\tAccuracy:89.254745\tTest Loss:0.356343\tTest Accuracy:87.302307\t\n",
            "Epochs  14\tLoss:0.2815\tAccuracy:89.467857\tTest Loss:0.354852\tTest Accuracy:87.410004\t\n",
            "Epochs  15\tLoss:0.2760\tAccuracy:89.663445\tTest Loss:0.356160\tTest Accuracy:87.426003\t\n",
            "Epochs  16\tLoss:0.2707\tAccuracy:89.856148\tTest Loss:0.355906\tTest Accuracy:87.502495\t\n",
            "Epochs  17\tLoss:0.2657\tAccuracy:90.030785\tTest Loss:0.357352\tTest Accuracy:87.480583\t\n",
            "Epochs  18\tLoss:0.2611\tAccuracy:90.193977\tTest Loss:0.357094\tTest Accuracy:87.538887\t\n",
            "Epochs  19\tLoss:0.2567\tAccuracy:90.356140\tTest Loss:0.357493\tTest Accuracy:87.582626\t\n",
            "Epochs  20\tLoss:0.2522\tAccuracy:90.517166\tTest Loss:0.359937\tTest Accuracy:87.630997\t\n"
          ]
        }
      ]
    },
    {
      "cell_type": "markdown",
      "metadata": {
        "id": "ZEUXDyCMKWRo"
      },
      "source": [
        "### 모델 학습 : 2번째 방법 (Keras)"
      ]
    },
    {
      "cell_type": "code",
      "metadata": {
        "id": "TRlqurJ_Mz6v"
      },
      "source": [
        "from sklearn.model_selection import train_test_split"
      ],
      "execution_count": null,
      "outputs": []
    },
    {
      "cell_type": "code",
      "metadata": {
        "id": "XGLv1B6-KiWK",
        "colab": {
          "base_uri": "https://localhost:8080/"
        },
        "outputId": "b5b44933-0ad7-4d1f-daf3-fb1a3815429f"
      },
      "source": [
        "(x_train_full, y_train_full), (x_test, y_test) = load_data()\n",
        "\n",
        "x_train, x_val, y_train, y_val= train_test_split(x_train_full, y_train_full,\n",
        "                                                 test_size = 0.3,\n",
        "                                                 random_state = 777)\n",
        "\n",
        "x_train = x_train/255.\n",
        "x_val = x_val/255.\n",
        "x_test = x_test/255.\n",
        "\n",
        "\n",
        "\n",
        "print(x_train.shape)\n",
        "print(y_train.shape)\n",
        "print(x_val.shape)\n",
        "print(y_val.shape)\n",
        "print(x_test.shape)\n",
        "print(y_test.shape)\n",
        "model = build_model()\n",
        "model.compile(optimizer = 'sgd', \n",
        "              loss = 'sparse_categorical_crossentropy',\n",
        "              metrics = ['accuracy'])\n",
        "model.summary()"
      ],
      "execution_count": null,
      "outputs": [
        {
          "output_type": "stream",
          "name": "stdout",
          "text": [
            "(42000, 28, 28)\n",
            "(42000,)\n",
            "(18000, 28, 28)\n",
            "(18000,)\n",
            "(10000, 28, 28)\n",
            "(10000,)\n",
            "Model: \"model_6\"\n",
            "_________________________________________________________________\n",
            " Layer (type)                Output Shape              Param #   \n",
            "=================================================================\n",
            " input (InputLayer)          [(None, 28, 28)]          0         \n",
            "                                                                 \n",
            " flatten (Flatten)           (None, 784)               0         \n",
            "                                                                 \n",
            " hidden1 (Dense)             (None, 256)               200960    \n",
            "                                                                 \n",
            " batch_normalization_24 (Bat  (None, 256)              1024      \n",
            " chNormalization)                                                \n",
            "                                                                 \n",
            " activation_24 (Activation)  (None, 256)               0         \n",
            "                                                                 \n",
            " dropout_24 (Dropout)        (None, 256)               0         \n",
            "                                                                 \n",
            " hidden2 (Dense)             (None, 100)               25700     \n",
            "                                                                 \n",
            " batch_normalization_25 (Bat  (None, 100)              400       \n",
            " chNormalization)                                                \n",
            "                                                                 \n",
            " activation_25 (Activation)  (None, 100)               0         \n",
            "                                                                 \n",
            " dropout_25 (Dropout)        (None, 100)               0         \n",
            "                                                                 \n",
            " hidden3 (Dense)             (None, 100)               10100     \n",
            "                                                                 \n",
            " batch_normalization_26 (Bat  (None, 100)              400       \n",
            " chNormalization)                                                \n",
            "                                                                 \n",
            " activation_26 (Activation)  (None, 100)               0         \n",
            "                                                                 \n",
            " dropout_26 (Dropout)        (None, 100)               0         \n",
            "                                                                 \n",
            " hidden4 (Dense)             (None, 50)                5050      \n",
            "                                                                 \n",
            " batch_normalization_27 (Bat  (None, 50)               200       \n",
            " chNormalization)                                                \n",
            "                                                                 \n",
            " activation_27 (Activation)  (None, 50)                0         \n",
            "                                                                 \n",
            " dropout_27 (Dropout)        (None, 50)                0         \n",
            "                                                                 \n",
            " output (Dense)              (None, 10)                510       \n",
            "                                                                 \n",
            "=================================================================\n",
            "Total params: 244,344\n",
            "Trainable params: 243,332\n",
            "Non-trainable params: 1,012\n",
            "_________________________________________________________________\n"
          ]
        }
      ]
    },
    {
      "cell_type": "markdown",
      "metadata": {
        "id": "xBBuYErFFj0b"
      },
      "source": [
        "5~6분 소요"
      ]
    },
    {
      "cell_type": "code",
      "metadata": {
        "id": "32TtgSsWLT-0"
      },
      "source": [
        "from tensorflow.keras.callbacks import EarlyStopping"
      ],
      "execution_count": null,
      "outputs": []
    },
    {
      "cell_type": "code",
      "metadata": {
        "id": "TYEmlqkGKZbH",
        "colab": {
          "base_uri": "https://localhost:8080/"
        },
        "outputId": "bd6d684d-7dc2-4e6f-94c6-78cafb9accd9"
      },
      "source": [
        "early_stooping_cb = EarlyStopping(patience = 3, monitor = 'val_loss',\n",
        "                                  restore_best_weights = True)\n",
        "\n",
        "history = model.fit(x_train, y_train,\n",
        "                    batch_size =256,\n",
        "                    epochs = 200,\n",
        "                    shuffle =True,\n",
        "                    validation_data =(x_val, y_val),\n",
        "                    callbacks = [early_stooping_cb])"
      ],
      "execution_count": null,
      "outputs": [
        {
          "output_type": "stream",
          "name": "stdout",
          "text": [
            "Epoch 1/200\n",
            "165/165 [==============================] - 5s 20ms/step - loss: 2.5788 - accuracy: 0.1379 - val_loss: 2.0062 - val_accuracy: 0.4406\n",
            "Epoch 2/200\n",
            "165/165 [==============================] - 3s 18ms/step - loss: 2.2253 - accuracy: 0.2106 - val_loss: 1.7623 - val_accuracy: 0.5259\n",
            "Epoch 3/200\n",
            "165/165 [==============================] - 3s 18ms/step - loss: 2.0247 - accuracy: 0.2739 - val_loss: 1.5988 - val_accuracy: 0.5917\n",
            "Epoch 4/200\n",
            "165/165 [==============================] - 3s 18ms/step - loss: 1.8846 - accuracy: 0.3261 - val_loss: 1.4679 - val_accuracy: 0.6323\n",
            "Epoch 5/200\n",
            "165/165 [==============================] - 4s 25ms/step - loss: 1.7581 - accuracy: 0.3771 - val_loss: 1.3542 - val_accuracy: 0.6527\n",
            "Epoch 6/200\n",
            "165/165 [==============================] - 5s 32ms/step - loss: 1.6653 - accuracy: 0.4074 - val_loss: 1.2427 - val_accuracy: 0.6739\n",
            "Epoch 7/200\n",
            "165/165 [==============================] - 3s 18ms/step - loss: 1.5779 - accuracy: 0.4387 - val_loss: 1.1489 - val_accuracy: 0.6857\n",
            "Epoch 8/200\n",
            "165/165 [==============================] - 3s 18ms/step - loss: 1.4991 - accuracy: 0.4657 - val_loss: 1.0682 - val_accuracy: 0.7019\n",
            "Epoch 9/200\n",
            "165/165 [==============================] - 3s 18ms/step - loss: 1.4299 - accuracy: 0.4908 - val_loss: 0.9972 - val_accuracy: 0.7128\n",
            "Epoch 10/200\n",
            "165/165 [==============================] - 3s 18ms/step - loss: 1.3696 - accuracy: 0.5082 - val_loss: 0.9477 - val_accuracy: 0.7194\n",
            "Epoch 11/200\n",
            "165/165 [==============================] - 3s 18ms/step - loss: 1.3143 - accuracy: 0.5229 - val_loss: 0.8965 - val_accuracy: 0.7268\n",
            "Epoch 12/200\n",
            "165/165 [==============================] - 3s 18ms/step - loss: 1.2664 - accuracy: 0.5416 - val_loss: 0.8595 - val_accuracy: 0.7320\n",
            "Epoch 13/200\n",
            "165/165 [==============================] - 3s 18ms/step - loss: 1.2304 - accuracy: 0.5505 - val_loss: 0.8270 - val_accuracy: 0.7358\n",
            "Epoch 14/200\n",
            "165/165 [==============================] - 3s 18ms/step - loss: 1.1981 - accuracy: 0.5612 - val_loss: 0.8005 - val_accuracy: 0.7406\n",
            "Epoch 15/200\n",
            "165/165 [==============================] - 3s 19ms/step - loss: 1.1650 - accuracy: 0.5685 - val_loss: 0.7827 - val_accuracy: 0.7423\n",
            "Epoch 16/200\n",
            "165/165 [==============================] - 3s 20ms/step - loss: 1.1291 - accuracy: 0.5802 - val_loss: 0.7622 - val_accuracy: 0.7457\n",
            "Epoch 17/200\n",
            "165/165 [==============================] - 3s 18ms/step - loss: 1.1188 - accuracy: 0.5853 - val_loss: 0.7466 - val_accuracy: 0.7443\n",
            "Epoch 18/200\n",
            "165/165 [==============================] - 3s 18ms/step - loss: 1.0892 - accuracy: 0.5935 - val_loss: 0.7319 - val_accuracy: 0.7476\n",
            "Epoch 19/200\n",
            "165/165 [==============================] - 3s 20ms/step - loss: 1.0697 - accuracy: 0.6006 - val_loss: 0.7210 - val_accuracy: 0.7510\n",
            "Epoch 20/200\n",
            "165/165 [==============================] - 3s 18ms/step - loss: 1.0489 - accuracy: 0.6061 - val_loss: 0.7079 - val_accuracy: 0.7564\n",
            "Epoch 21/200\n",
            "165/165 [==============================] - 3s 20ms/step - loss: 1.0339 - accuracy: 0.6147 - val_loss: 0.6998 - val_accuracy: 0.7552\n",
            "Epoch 22/200\n",
            "165/165 [==============================] - 3s 19ms/step - loss: 1.0241 - accuracy: 0.6184 - val_loss: 0.6932 - val_accuracy: 0.7591\n",
            "Epoch 23/200\n",
            "165/165 [==============================] - 3s 19ms/step - loss: 1.0179 - accuracy: 0.6211 - val_loss: 0.6821 - val_accuracy: 0.7617\n",
            "Epoch 24/200\n",
            "165/165 [==============================] - 3s 19ms/step - loss: 0.9976 - accuracy: 0.6258 - val_loss: 0.6759 - val_accuracy: 0.7633\n",
            "Epoch 25/200\n",
            "165/165 [==============================] - 3s 19ms/step - loss: 0.9833 - accuracy: 0.6324 - val_loss: 0.6679 - val_accuracy: 0.7648\n",
            "Epoch 26/200\n",
            "165/165 [==============================] - 3s 20ms/step - loss: 0.9694 - accuracy: 0.6382 - val_loss: 0.6612 - val_accuracy: 0.7633\n",
            "Epoch 27/200\n",
            "165/165 [==============================] - 3s 20ms/step - loss: 0.9694 - accuracy: 0.6376 - val_loss: 0.6553 - val_accuracy: 0.7667\n",
            "Epoch 28/200\n",
            "165/165 [==============================] - 3s 18ms/step - loss: 0.9575 - accuracy: 0.6415 - val_loss: 0.6491 - val_accuracy: 0.7690\n",
            "Epoch 29/200\n",
            "165/165 [==============================] - 3s 18ms/step - loss: 0.9470 - accuracy: 0.6458 - val_loss: 0.6422 - val_accuracy: 0.7710\n",
            "Epoch 30/200\n",
            "165/165 [==============================] - 3s 18ms/step - loss: 0.9404 - accuracy: 0.6461 - val_loss: 0.6364 - val_accuracy: 0.7712\n",
            "Epoch 31/200\n",
            "165/165 [==============================] - 3s 18ms/step - loss: 0.9240 - accuracy: 0.6526 - val_loss: 0.6330 - val_accuracy: 0.7733\n",
            "Epoch 32/200\n",
            "165/165 [==============================] - 3s 18ms/step - loss: 0.9262 - accuracy: 0.6536 - val_loss: 0.6281 - val_accuracy: 0.7733\n",
            "Epoch 33/200\n",
            "165/165 [==============================] - 3s 18ms/step - loss: 0.9092 - accuracy: 0.6610 - val_loss: 0.6231 - val_accuracy: 0.7747\n",
            "Epoch 34/200\n",
            "165/165 [==============================] - 3s 18ms/step - loss: 0.8991 - accuracy: 0.6637 - val_loss: 0.6168 - val_accuracy: 0.7761\n",
            "Epoch 35/200\n",
            "165/165 [==============================] - 3s 18ms/step - loss: 0.8979 - accuracy: 0.6652 - val_loss: 0.6152 - val_accuracy: 0.7773\n",
            "Epoch 36/200\n",
            "165/165 [==============================] - 3s 18ms/step - loss: 0.8946 - accuracy: 0.6680 - val_loss: 0.6108 - val_accuracy: 0.7764\n",
            "Epoch 37/200\n",
            "165/165 [==============================] - 3s 20ms/step - loss: 0.8800 - accuracy: 0.6729 - val_loss: 0.6065 - val_accuracy: 0.7798\n",
            "Epoch 38/200\n",
            "165/165 [==============================] - 5s 28ms/step - loss: 0.8765 - accuracy: 0.6726 - val_loss: 0.6016 - val_accuracy: 0.7795\n",
            "Epoch 39/200\n",
            "165/165 [==============================] - 3s 18ms/step - loss: 0.8698 - accuracy: 0.6770 - val_loss: 0.5973 - val_accuracy: 0.7827\n",
            "Epoch 40/200\n",
            "165/165 [==============================] - 3s 18ms/step - loss: 0.8697 - accuracy: 0.6764 - val_loss: 0.5943 - val_accuracy: 0.7824\n",
            "Epoch 41/200\n",
            "165/165 [==============================] - 3s 20ms/step - loss: 0.8665 - accuracy: 0.6802 - val_loss: 0.5907 - val_accuracy: 0.7827\n",
            "Epoch 42/200\n",
            "165/165 [==============================] - 3s 19ms/step - loss: 0.8557 - accuracy: 0.6835 - val_loss: 0.5886 - val_accuracy: 0.7829\n",
            "Epoch 43/200\n",
            "165/165 [==============================] - 3s 20ms/step - loss: 0.8494 - accuracy: 0.6877 - val_loss: 0.5863 - val_accuracy: 0.7860\n",
            "Epoch 44/200\n",
            "165/165 [==============================] - 3s 18ms/step - loss: 0.8384 - accuracy: 0.6872 - val_loss: 0.5820 - val_accuracy: 0.7869\n",
            "Epoch 45/200\n",
            "165/165 [==============================] - 3s 18ms/step - loss: 0.8416 - accuracy: 0.6885 - val_loss: 0.5793 - val_accuracy: 0.7879\n",
            "Epoch 46/200\n",
            "165/165 [==============================] - 3s 19ms/step - loss: 0.8344 - accuracy: 0.6905 - val_loss: 0.5765 - val_accuracy: 0.7879\n",
            "Epoch 47/200\n",
            "165/165 [==============================] - 3s 20ms/step - loss: 0.8258 - accuracy: 0.6948 - val_loss: 0.5725 - val_accuracy: 0.7894\n",
            "Epoch 48/200\n",
            "165/165 [==============================] - 3s 20ms/step - loss: 0.8210 - accuracy: 0.6953 - val_loss: 0.5697 - val_accuracy: 0.7904\n",
            "Epoch 49/200\n",
            "165/165 [==============================] - 3s 19ms/step - loss: 0.8270 - accuracy: 0.6941 - val_loss: 0.5678 - val_accuracy: 0.7916\n",
            "Epoch 50/200\n",
            "165/165 [==============================] - 3s 19ms/step - loss: 0.8139 - accuracy: 0.6996 - val_loss: 0.5661 - val_accuracy: 0.7930\n",
            "Epoch 51/200\n",
            "165/165 [==============================] - 3s 19ms/step - loss: 0.8206 - accuracy: 0.7015 - val_loss: 0.5628 - val_accuracy: 0.7926\n",
            "Epoch 52/200\n",
            "165/165 [==============================] - 3s 18ms/step - loss: 0.8079 - accuracy: 0.7034 - val_loss: 0.5607 - val_accuracy: 0.7935\n",
            "Epoch 53/200\n",
            "165/165 [==============================] - 3s 18ms/step - loss: 0.8062 - accuracy: 0.7043 - val_loss: 0.5574 - val_accuracy: 0.7938\n",
            "Epoch 54/200\n",
            "165/165 [==============================] - 3s 18ms/step - loss: 0.8022 - accuracy: 0.7075 - val_loss: 0.5557 - val_accuracy: 0.7953\n",
            "Epoch 55/200\n",
            "165/165 [==============================] - 3s 18ms/step - loss: 0.7992 - accuracy: 0.7069 - val_loss: 0.5561 - val_accuracy: 0.7956\n",
            "Epoch 56/200\n",
            "165/165 [==============================] - 3s 20ms/step - loss: 0.7950 - accuracy: 0.7114 - val_loss: 0.5525 - val_accuracy: 0.7967\n",
            "Epoch 57/200\n",
            "165/165 [==============================] - 3s 18ms/step - loss: 0.7874 - accuracy: 0.7111 - val_loss: 0.5520 - val_accuracy: 0.7979\n",
            "Epoch 58/200\n",
            "165/165 [==============================] - 3s 20ms/step - loss: 0.7896 - accuracy: 0.7115 - val_loss: 0.5485 - val_accuracy: 0.7987\n",
            "Epoch 59/200\n",
            "165/165 [==============================] - 3s 19ms/step - loss: 0.7898 - accuracy: 0.7128 - val_loss: 0.5447 - val_accuracy: 0.7987\n",
            "Epoch 60/200\n",
            "165/165 [==============================] - 3s 20ms/step - loss: 0.7789 - accuracy: 0.7134 - val_loss: 0.5464 - val_accuracy: 0.7988\n",
            "Epoch 61/200\n",
            "165/165 [==============================] - 3s 19ms/step - loss: 0.7757 - accuracy: 0.7176 - val_loss: 0.5418 - val_accuracy: 0.7998\n",
            "Epoch 62/200\n",
            "165/165 [==============================] - 3s 19ms/step - loss: 0.7772 - accuracy: 0.7168 - val_loss: 0.5403 - val_accuracy: 0.8003\n",
            "Epoch 63/200\n",
            "165/165 [==============================] - 3s 19ms/step - loss: 0.7721 - accuracy: 0.7174 - val_loss: 0.5380 - val_accuracy: 0.8010\n",
            "Epoch 64/200\n",
            "165/165 [==============================] - 3s 18ms/step - loss: 0.7638 - accuracy: 0.7220 - val_loss: 0.5362 - val_accuracy: 0.8020\n",
            "Epoch 65/200\n",
            "165/165 [==============================] - 3s 18ms/step - loss: 0.7676 - accuracy: 0.7231 - val_loss: 0.5350 - val_accuracy: 0.8022\n",
            "Epoch 66/200\n",
            "165/165 [==============================] - 3s 19ms/step - loss: 0.7617 - accuracy: 0.7242 - val_loss: 0.5362 - val_accuracy: 0.8013\n",
            "Epoch 67/200\n",
            "165/165 [==============================] - 3s 18ms/step - loss: 0.7623 - accuracy: 0.7249 - val_loss: 0.5322 - val_accuracy: 0.8032\n",
            "Epoch 68/200\n",
            "165/165 [==============================] - 3s 18ms/step - loss: 0.7588 - accuracy: 0.7245 - val_loss: 0.5309 - val_accuracy: 0.8034\n",
            "Epoch 69/200\n",
            "165/165 [==============================] - 3s 18ms/step - loss: 0.7560 - accuracy: 0.7270 - val_loss: 0.5284 - val_accuracy: 0.8024\n",
            "Epoch 70/200\n",
            "165/165 [==============================] - 3s 18ms/step - loss: 0.7574 - accuracy: 0.7267 - val_loss: 0.5280 - val_accuracy: 0.8018\n",
            "Epoch 71/200\n",
            "165/165 [==============================] - 3s 20ms/step - loss: 0.7482 - accuracy: 0.7307 - val_loss: 0.5263 - val_accuracy: 0.8045\n",
            "Epoch 72/200\n",
            "165/165 [==============================] - 3s 18ms/step - loss: 0.7493 - accuracy: 0.7307 - val_loss: 0.5247 - val_accuracy: 0.8054\n",
            "Epoch 73/200\n",
            "165/165 [==============================] - 3s 18ms/step - loss: 0.7452 - accuracy: 0.7297 - val_loss: 0.5213 - val_accuracy: 0.8066\n",
            "Epoch 74/200\n",
            "165/165 [==============================] - 3s 20ms/step - loss: 0.7427 - accuracy: 0.7350 - val_loss: 0.5206 - val_accuracy: 0.8068\n",
            "Epoch 75/200\n",
            "165/165 [==============================] - 3s 20ms/step - loss: 0.7390 - accuracy: 0.7356 - val_loss: 0.5208 - val_accuracy: 0.8061\n",
            "Epoch 76/200\n",
            "165/165 [==============================] - 3s 18ms/step - loss: 0.7423 - accuracy: 0.7335 - val_loss: 0.5190 - val_accuracy: 0.8092\n",
            "Epoch 77/200\n",
            "165/165 [==============================] - 3s 20ms/step - loss: 0.7284 - accuracy: 0.7384 - val_loss: 0.5175 - val_accuracy: 0.8071\n",
            "Epoch 78/200\n",
            "165/165 [==============================] - 3s 18ms/step - loss: 0.7334 - accuracy: 0.7371 - val_loss: 0.5160 - val_accuracy: 0.8090\n",
            "Epoch 79/200\n",
            "165/165 [==============================] - 3s 18ms/step - loss: 0.7353 - accuracy: 0.7367 - val_loss: 0.5149 - val_accuracy: 0.8104\n",
            "Epoch 80/200\n",
            "165/165 [==============================] - 3s 18ms/step - loss: 0.7270 - accuracy: 0.7381 - val_loss: 0.5120 - val_accuracy: 0.8109\n",
            "Epoch 81/200\n",
            "165/165 [==============================] - 3s 20ms/step - loss: 0.7288 - accuracy: 0.7414 - val_loss: 0.5135 - val_accuracy: 0.8102\n",
            "Epoch 82/200\n",
            "165/165 [==============================] - 3s 18ms/step - loss: 0.7194 - accuracy: 0.7403 - val_loss: 0.5115 - val_accuracy: 0.8103\n",
            "Epoch 83/200\n",
            "165/165 [==============================] - 3s 18ms/step - loss: 0.7297 - accuracy: 0.7404 - val_loss: 0.5096 - val_accuracy: 0.8127\n",
            "Epoch 84/200\n",
            "165/165 [==============================] - 3s 18ms/step - loss: 0.7201 - accuracy: 0.7436 - val_loss: 0.5083 - val_accuracy: 0.8103\n",
            "Epoch 85/200\n",
            "165/165 [==============================] - 3s 19ms/step - loss: 0.7203 - accuracy: 0.7427 - val_loss: 0.5067 - val_accuracy: 0.8134\n",
            "Epoch 86/200\n",
            "165/165 [==============================] - 3s 18ms/step - loss: 0.7128 - accuracy: 0.7463 - val_loss: 0.5065 - val_accuracy: 0.8133\n",
            "Epoch 87/200\n",
            "165/165 [==============================] - 3s 20ms/step - loss: 0.7111 - accuracy: 0.7443 - val_loss: 0.5050 - val_accuracy: 0.8134\n",
            "Epoch 88/200\n",
            "165/165 [==============================] - 3s 20ms/step - loss: 0.7202 - accuracy: 0.7459 - val_loss: 0.5033 - val_accuracy: 0.8153\n",
            "Epoch 89/200\n",
            "165/165 [==============================] - 3s 20ms/step - loss: 0.7105 - accuracy: 0.7462 - val_loss: 0.5042 - val_accuracy: 0.8151\n",
            "Epoch 90/200\n",
            "165/165 [==============================] - 3s 18ms/step - loss: 0.7092 - accuracy: 0.7480 - val_loss: 0.5019 - val_accuracy: 0.8157\n",
            "Epoch 91/200\n",
            "165/165 [==============================] - 3s 18ms/step - loss: 0.7089 - accuracy: 0.7487 - val_loss: 0.5025 - val_accuracy: 0.8147\n",
            "Epoch 92/200\n",
            "165/165 [==============================] - 3s 18ms/step - loss: 0.7036 - accuracy: 0.7513 - val_loss: 0.5003 - val_accuracy: 0.8143\n",
            "Epoch 93/200\n",
            "165/165 [==============================] - 3s 20ms/step - loss: 0.7051 - accuracy: 0.7501 - val_loss: 0.4981 - val_accuracy: 0.8167\n",
            "Epoch 94/200\n",
            "165/165 [==============================] - 3s 18ms/step - loss: 0.7029 - accuracy: 0.7521 - val_loss: 0.4987 - val_accuracy: 0.8174\n",
            "Epoch 95/200\n",
            "165/165 [==============================] - 3s 18ms/step - loss: 0.6993 - accuracy: 0.7490 - val_loss: 0.4958 - val_accuracy: 0.8169\n",
            "Epoch 96/200\n",
            "165/165 [==============================] - 3s 18ms/step - loss: 0.7016 - accuracy: 0.7529 - val_loss: 0.4963 - val_accuracy: 0.8144\n",
            "Epoch 97/200\n",
            "165/165 [==============================] - 3s 20ms/step - loss: 0.6943 - accuracy: 0.7535 - val_loss: 0.4957 - val_accuracy: 0.8174\n",
            "Epoch 98/200\n",
            "165/165 [==============================] - 3s 19ms/step - loss: 0.6940 - accuracy: 0.7528 - val_loss: 0.4940 - val_accuracy: 0.8189\n",
            "Epoch 99/200\n",
            "165/165 [==============================] - 3s 18ms/step - loss: 0.7011 - accuracy: 0.7526 - val_loss: 0.4917 - val_accuracy: 0.8196\n",
            "Epoch 100/200\n",
            "165/165 [==============================] - 3s 18ms/step - loss: 0.6930 - accuracy: 0.7560 - val_loss: 0.4910 - val_accuracy: 0.8213\n",
            "Epoch 101/200\n",
            "165/165 [==============================] - 3s 20ms/step - loss: 0.6918 - accuracy: 0.7577 - val_loss: 0.4936 - val_accuracy: 0.8183\n",
            "Epoch 102/200\n",
            "165/165 [==============================] - 3s 18ms/step - loss: 0.6850 - accuracy: 0.7573 - val_loss: 0.4876 - val_accuracy: 0.8214\n",
            "Epoch 103/200\n",
            "165/165 [==============================] - 3s 18ms/step - loss: 0.6846 - accuracy: 0.7594 - val_loss: 0.4879 - val_accuracy: 0.8227\n",
            "Epoch 104/200\n",
            "165/165 [==============================] - 3s 18ms/step - loss: 0.6842 - accuracy: 0.7593 - val_loss: 0.4880 - val_accuracy: 0.8210\n",
            "Epoch 105/200\n",
            "165/165 [==============================] - 3s 18ms/step - loss: 0.6869 - accuracy: 0.7578 - val_loss: 0.4876 - val_accuracy: 0.8224\n"
          ]
        }
      ]
    },
    {
      "cell_type": "code",
      "metadata": {
        "id": "RaeHz1VFKZVM",
        "colab": {
          "base_uri": "https://localhost:8080/"
        },
        "outputId": "2ccb2ddd-d7a3-41e8-eb04-3c1d2c37326a"
      },
      "source": [
        "history.history.keys()"
      ],
      "execution_count": null,
      "outputs": [
        {
          "output_type": "execute_result",
          "data": {
            "text/plain": [
              "dict_keys(['loss', 'accuracy', 'val_loss', 'val_accuracy'])"
            ]
          },
          "metadata": {},
          "execution_count": 90
        }
      ]
    },
    {
      "cell_type": "markdown",
      "metadata": {
        "id": "5pJ6MDW9CcwX"
      },
      "source": [
        "\n",
        "### 모델 평가"
      ]
    },
    {
      "cell_type": "code",
      "metadata": {
        "id": "e4MxgLKOCeL9",
        "colab": {
          "base_uri": "https://localhost:8080/"
        },
        "outputId": "96cf1297-2e9c-4b06-d8ff-02990007d26b"
      },
      "source": [
        "model.evaluate(x_test,y_test, batch_size = 100)"
      ],
      "execution_count": null,
      "outputs": [
        {
          "output_type": "stream",
          "name": "stdout",
          "text": [
            "100/100 [==============================] - 1s 7ms/step - loss: 0.5156 - accuracy: 0.8036\n"
          ]
        },
        {
          "output_type": "execute_result",
          "data": {
            "text/plain": [
              "[0.5156012773513794, 0.803600013256073]"
            ]
          },
          "metadata": {},
          "execution_count": 91
        }
      ]
    },
    {
      "cell_type": "markdown",
      "metadata": {
        "id": "8McnnarjV2Tf"
      },
      "source": [
        "### 결과 확인"
      ]
    },
    {
      "cell_type": "code",
      "metadata": {
        "id": "7zHvs2FICeHD",
        "colab": {
          "base_uri": "https://localhost:8080/"
        },
        "outputId": "0e9f3fe4-0392-4790-ae50-6bc16687638b"
      },
      "source": [
        "test_img= x_test[0,:,:]\n",
        "print(test_img.shape)"
      ],
      "execution_count": null,
      "outputs": [
        {
          "output_type": "stream",
          "name": "stdout",
          "text": [
            "(28, 28)\n"
          ]
        }
      ]
    },
    {
      "cell_type": "code",
      "metadata": {
        "id": "L9TlZb73CeEj",
        "colab": {
          "base_uri": "https://localhost:8080/",
          "height": 281
        },
        "outputId": "33f4d39d-5590-4881-ccc9-da6f1311d2fa"
      },
      "source": [
        "plt.title(class_names[y_test[0]])\n",
        "plt.imshow(test_img, cmap = 'gray')\n",
        "plt.show()"
      ],
      "execution_count": null,
      "outputs": [
        {
          "output_type": "display_data",
          "data": {
            "text/plain": [
              "<Figure size 432x288 with 1 Axes>"
            ],
            "image/png": "[encoded data removed]"
          },
          "metadata": {
            "needs_background": "light"
          }
        }
      ]
    },
    {
      "cell_type": "code",
      "metadata": {
        "id": "tLU39hstWLfh",
        "colab": {
          "base_uri": "https://localhost:8080/"
        },
        "outputId": "08f94f8c-b708-419e-d563-7643212d20a0"
      },
      "source": [
        "pred = model.predict(test_img.reshape(1,28,28))"
      ],
      "execution_count": null,
      "outputs": [
        {
          "output_type": "stream",
          "name": "stdout",
          "text": [
            "1/1 [==============================] - 0s 340ms/step\n"
          ]
        }
      ]
    },
    {
      "cell_type": "code",
      "metadata": {
        "id": "VvN3dvdZWXRd",
        "colab": {
          "base_uri": "https://localhost:8080/"
        },
        "outputId": "83d9ad02-9cbd-4fda-d4de-2048bdd9fb0d"
      },
      "source": [
        "pred.shape"
      ],
      "execution_count": null,
      "outputs": [
        {
          "output_type": "execute_result",
          "data": {
            "text/plain": [
              "(1, 10)"
            ]
          },
          "metadata": {},
          "execution_count": 97
        }
      ]
    },
    {
      "cell_type": "code",
      "metadata": {
        "id": "gXCeb-f2WYm1",
        "colab": {
          "base_uri": "https://localhost:8080/"
        },
        "outputId": "bd03396d-ca1e-4c51-8d27-547d14380365"
      },
      "source": [
        "pred"
      ],
      "execution_count": null,
      "outputs": [
        {
          "output_type": "execute_result",
          "data": {
            "text/plain": [
              "array([[1.8342151e-04, 3.9713335e-04, 1.7917102e-04, 1.8589626e-04,\n",
              "        1.6696086e-04, 8.2782224e-02, 1.2344874e-04, 2.9690990e-01,\n",
              "        2.2625453e-03, 6.1680925e-01]], dtype=float32)"
            ]
          },
          "metadata": {},
          "execution_count": 98
        }
      ]
    },
    {
      "cell_type": "code",
      "metadata": {
        "id": "E_7gFZNAWZip",
        "colab": {
          "base_uri": "https://localhost:8080/",
          "height": 35
        },
        "outputId": "a537e9d8-719e-4212-d177-38adc6c2e8fd"
      },
      "source": [
        "class_names[np.argmax(pred)]"
      ],
      "execution_count": null,
      "outputs": [
        {
          "output_type": "execute_result",
          "data": {
            "text/plain": [
              "'Ankle boot'"
            ],
            "application/vnd.google.colaboratory.intrinsic+json": {
              "type": "string"
            }
          },
          "metadata": {},
          "execution_count": 99
        }
      ]
    },
    {
      "cell_type": "markdown",
      "metadata": {
        "id": "MJL5wVZiWqtw"
      },
      "source": [
        "### Test Batch Dataset"
      ]
    },
    {
      "cell_type": "code",
      "metadata": {
        "id": "joaO3OqrWxIp",
        "colab": {
          "base_uri": "https://localhost:8080/"
        },
        "outputId": "46dfcfba-b65a-4daf-c517-f4a5623c5dc6"
      },
      "source": [
        "test_batch = x_test[:32,:,:]\n",
        "test_batch_y = y_test[:32]\n",
        "print(test_batch.shape)"
      ],
      "execution_count": null,
      "outputs": [
        {
          "output_type": "stream",
          "name": "stdout",
          "text": [
            "(32, 28, 28)\n"
          ]
        }
      ]
    },
    {
      "cell_type": "code",
      "metadata": {
        "id": "OxqBhlqXWmXl",
        "colab": {
          "base_uri": "https://localhost:8080/"
        },
        "outputId": "f3bba67b-2e71-41cf-a6a0-699723e973a4"
      },
      "source": [
        "preds = model.predict(test_batch)\n",
        "preds.shape"
      ],
      "execution_count": null,
      "outputs": [
        {
          "output_type": "stream",
          "name": "stdout",
          "text": [
            "1/1 [==============================] - 0s 34ms/step\n"
          ]
        },
        {
          "output_type": "execute_result",
          "data": {
            "text/plain": [
              "(32, 10)"
            ]
          },
          "metadata": {},
          "execution_count": 105
        }
      ]
    },
    {
      "cell_type": "code",
      "metadata": {
        "id": "5Pgwy4yXW2dt"
      },
      "source": [
        "\n",
        "preds_arg = np.argmax(preds, -1)"
      ],
      "execution_count": null,
      "outputs": []
    },
    {
      "cell_type": "code",
      "metadata": {
        "id": "53xdFvATW85m",
        "colab": {
          "base_uri": "https://localhost:8080/",
          "height": 607
        },
        "outputId": "0611f2c4-7790-4ca1-b5d3-29772ee55cdc"
      },
      "source": [
        "num_rows = 8\n",
        "num_cols = 4\n",
        "num_images = num_rows *num_cols\n",
        "\n",
        "plt.figure(figsize = (16,10))\n",
        "\n",
        "for idx in range(1,33,1):\n",
        "  plt.subplot(num_rows, num_cols, idx)\n",
        "  plt.title(\"predicted :{}, True :{}\".format(class_names[preds_arg[idx-1]],\n",
        "                                             class_names[test_batch_y[idx-1]]))\n",
        "  plt.imshow(test_batch[idx-1],cmap = 'gray')\n",
        "plt.show()"
      ],
      "execution_count": null,
      "outputs": [
        {
          "output_type": "display_data",
          "data": {
            "text/plain": [
              "<Figure size 1152x720 with 32 Axes>"
            ],
            "image/png": "[encoded data removed]"
          },
          "metadata": {
            "needs_background": "light"
          }
        }
      ]
    },
    {
      "cell_type": "code",
      "source": [],
      "metadata": {
        "id": "HFKgKbOdF71E"
      },
      "execution_count": null,
      "outputs": []
    }
  ]
}