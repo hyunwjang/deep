{
  "nbformat": 4,
  "nbformat_minor": 0,
  "metadata": {
    "colab": {
      "provenance": [],
      "collapsed_sections": [
        "oZXJIdDai7sV",
        "VioYGD8Ms4zH",
        "_P_JxBFntQOP",
        "qjgupW2puHXA",
        "JGZhIiYeuSCD",
        "dLZLATDBuTtj",
        "j3afhQOUlqG9",
        "tZOCK6EQl1QI",
        "uo8uhFyBl2k-",
        "vAPnX6ACmenz",
        "gFiE5SpPmh_x",
        "NiZ6uiUPyXHN",
        "ar_N0gTrZtk9",
        "_e8ZgkRZak5V",
        "2gvgVvkEbRsq",
        "5ZzsxLa-b9fq",
        "pvVl7a-wc8fx",
        "CBWO8NqAdzRZ",
        "KqWPWvHWelCp",
        "te5tAar7fUIK",
        "a52Hf5A8gBY1",
        "Lz4dAZvvgbQp",
        "aJNAI-aYnDuc",
        "ADJZHPLJqTZa",
        "wirZzwYJrNll",
        "pl4Eu32qnUES",
        "j3E0hYiHoBO0",
        "0qUbPGdmpHpQ"
      ],
      "include_colab_link": true
    },
    "kernelspec": {
      "name": "python3",
      "display_name": "Python 3"
    },
    "accelerator": "GPU",
    "gpuClass": "standard"
  },
  "cells": [
    {
      "cell_type": "markdown",
      "metadata": {
        "id": "view-in-github",
        "colab_type": "text"
      },
      "source": [
        "<a href=\"https://colab.research.google.com/github/hyunwjang/deep/blob/main/_8_%EC%BC%80%EB%9D%BC%EC%8A%A4_%EC%88%9C%ED%99%98_%EC%8B%A0%EA%B2%BD%EB%A7%9D_ipynb%EC%9D%98_%EC%82%AC%EB%B3%B8.ipynb\" target=\"_parent\"><img src=\"https://colab.research.google.com/assets/colab-badge.svg\" alt=\"Open In Colab\"/></a>"
      ]
    },
    {
      "cell_type": "markdown",
      "metadata": {
        "id": "XP9Qr2-36gAf"
      },
      "source": [
        "# 순환 신경망(Recurrent Neural Network, RNN)\n",
        "\n",
        "- 루프(loop)를 가진 신경망의 한 종류\n",
        "\n",
        "- 시퀀스의 원소를 순회하면서 지금까지 처리한 정보를 상태(state)에 저장\n",
        "\n",
        "<img src=\"https://miro.medium.com/max/627/1*go8PHsPNbbV6qRiwpUQ5BQ.png\">\n",
        "\n",
        "<sub>출처: https://towardsdatascience.com/understanding-rnn-and-lstm-f7cdf6dfc14e</sub>"
      ]
    },
    {
      "cell_type": "markdown",
      "metadata": {
        "id": "lp3_sVIjHk0F"
      },
      "source": [
        "## 순환 신경망 레이어 (RNN Layer)\n",
        "\n",
        "- 입력: `(timesteps, input_features)`\n",
        "\n",
        "- 출력: `(timesteps, output_features)`"
      ]
    },
    {
      "cell_type": "code",
      "metadata": {
        "id": "n08yr0aAIbFD"
      },
      "source": [
        "import numpy as np"
      ],
      "execution_count": null,
      "outputs": []
    },
    {
      "cell_type": "code",
      "metadata": {
        "id": "ZKIInEEZIcBj"
      },
      "source": [
        "timesteps = 100\n",
        "input_features = 32\n",
        "output_features = 64\n",
        "\n",
        "inputs = np.random.random((timesteps, input_features))\n",
        "\n",
        "state_t = np.zeros((output_features,))\n",
        "\n",
        "W = np.random.random((output_features, input_features))\n",
        "U = np.random.random((output_features, output_features))\n",
        "b = np.random.random((output_features,))\n",
        "\n",
        "sucessive_outputs = []\n",
        "\n",
        "for input_t in inputs:\n",
        "  output_t = np.tanh(np.dot(W, input_t) + np.dot(U, state_t) + b)\n",
        "  sucessive_outputs.append(output_t)\n",
        "  state_t = output_t\n",
        "\n",
        "final_output_sequence = np.stack(sucessive_outputs, axis = 0)"
      ],
      "execution_count": null,
      "outputs": []
    },
    {
      "cell_type": "markdown",
      "metadata": {
        "id": "bEZ8dQEEKxlQ"
      },
      "source": [
        "## 케라스의 순환층\n",
        "- `SimpleRNN` layer\n",
        "\n",
        "- 입력: `(batch_size, timesteps, input_features)`\n",
        "\n",
        "- 출력\n",
        "  - `return_sequences`로 결정할 수 있음\n",
        "  \n",
        "  - 3D 텐서\n",
        "    - 타임스텝의 출력을 모은 전체 시퀀스를 반환\n",
        "\n",
        "    - `(batch_size, timesteps, output_features)`\n",
        "\n",
        "  - 2D 텐서\n",
        "    - 입력 시퀀스에 대한 마지막 출력만 반환\n",
        "\n",
        "    - `(batch_size, output_features)`\n"
      ]
    },
    {
      "cell_type": "code",
      "metadata": {
        "id": "lZ1YCi1iKMC8"
      },
      "source": [
        "from tensorflow.keras.layers import SimpleRNN, Embedding\n",
        "from tensorflow.keras.models import Sequential"
      ],
      "execution_count": null,
      "outputs": []
    },
    {
      "cell_type": "code",
      "metadata": {
        "id": "GQ9LbTgoKxIl",
        "colab": {
          "base_uri": "https://localhost:8080/"
        },
        "outputId": "732e1736-1349-4a57-e550-08cdd8291661"
      },
      "source": [
        "model = Sequential()\n",
        "model.add(Embedding(10000, 32))\n",
        "model.add(SimpleRNN(32))\n",
        "model.summary()"
      ],
      "execution_count": null,
      "outputs": [
        {
          "output_type": "stream",
          "name": "stdout",
          "text": [
            "Model: \"sequential\"\n",
            "_________________________________________________________________\n",
            " Layer (type)                Output Shape              Param #   \n",
            "=================================================================\n",
            " embedding (Embedding)       (None, None, 32)          320000    \n",
            "                                                                 \n",
            " simple_rnn (SimpleRNN)      (None, 32)                2080      \n",
            "                                                                 \n",
            "=================================================================\n",
            "Total params: 322,080\n",
            "Trainable params: 322,080\n",
            "Non-trainable params: 0\n",
            "_________________________________________________________________\n"
          ]
        }
      ]
    },
    {
      "cell_type": "code",
      "metadata": {
        "id": "KDxE5Jv0Kc7O",
        "colab": {
          "base_uri": "https://localhost:8080/"
        },
        "outputId": "e471dba6-0683-4682-c18e-abd8bd012a0c"
      },
      "source": [
        "model = Sequential()\n",
        "model.add(Embedding(10000, 32))\n",
        "model.add(SimpleRNN(32, return_sequences=True))\n",
        "model.summary()"
      ],
      "execution_count": null,
      "outputs": [
        {
          "output_type": "stream",
          "name": "stdout",
          "text": [
            "Model: \"sequential_1\"\n",
            "_________________________________________________________________\n",
            " Layer (type)                Output Shape              Param #   \n",
            "=================================================================\n",
            " embedding_1 (Embedding)     (None, None, 32)          320000    \n",
            "                                                                 \n",
            " simple_rnn_1 (SimpleRNN)    (None, None, 32)          2080      \n",
            "                                                                 \n",
            "=================================================================\n",
            "Total params: 322,080\n",
            "Trainable params: 322,080\n",
            "Non-trainable params: 0\n",
            "_________________________________________________________________\n"
          ]
        }
      ]
    },
    {
      "cell_type": "markdown",
      "metadata": {
        "id": "E-MDIz1zcIyP"
      },
      "source": [
        "- 네트워크의 표현력을 증가시키기 위해 여러 개의 순환층을 차례대로 쌓는 것이 유용할 때가 있음\n",
        "\n",
        "  - 이런 설정에서는 중간층들이 전체 출력 시퀀스를 반환하도록 설정"
      ]
    },
    {
      "cell_type": "code",
      "metadata": {
        "id": "E1tUaIe2L7GZ",
        "colab": {
          "base_uri": "https://localhost:8080/"
        },
        "outputId": "eb089543-4cf3-4b85-ce0e-d92f3a67a632"
      },
      "source": [
        "model = Sequential()\n",
        "model.add(Embedding(10000, 32))\n",
        "model.add(SimpleRNN(32, return_sequences=True))\n",
        "model.add(SimpleRNN(32, return_sequences=True))\n",
        "model.add(SimpleRNN(32, return_sequences=True))\n",
        "model.add(SimpleRNN(32))\n",
        "model.summary()"
      ],
      "execution_count": null,
      "outputs": [
        {
          "output_type": "stream",
          "name": "stdout",
          "text": [
            "Model: \"sequential_2\"\n",
            "_________________________________________________________________\n",
            " Layer (type)                Output Shape              Param #   \n",
            "=================================================================\n",
            " embedding_2 (Embedding)     (None, None, 32)          320000    \n",
            "                                                                 \n",
            " simple_rnn_2 (SimpleRNN)    (None, None, 32)          2080      \n",
            "                                                                 \n",
            " simple_rnn_3 (SimpleRNN)    (None, None, 32)          2080      \n",
            "                                                                 \n",
            " simple_rnn_4 (SimpleRNN)    (None, None, 32)          2080      \n",
            "                                                                 \n",
            " simple_rnn_5 (SimpleRNN)    (None, 32)                2080      \n",
            "                                                                 \n",
            "=================================================================\n",
            "Total params: 328,320\n",
            "Trainable params: 328,320\n",
            "Non-trainable params: 0\n",
            "_________________________________________________________________\n"
          ]
        }
      ]
    },
    {
      "cell_type": "markdown",
      "metadata": {
        "id": "j0CNAzN_deXE"
      },
      "source": [
        "## IMDB 데이터 적용"
      ]
    },
    {
      "cell_type": "markdown",
      "metadata": {
        "id": "W1SbNYRdmVTY"
      },
      "source": [
        "### 데이터 로드"
      ]
    },
    {
      "cell_type": "code",
      "metadata": {
        "id": "-27Tkihbcei2"
      },
      "source": [
        "from tensorflow.keras.datasets import imdb\n",
        "from tensorflow.keras.preprocessing import sequence"
      ],
      "execution_count": null,
      "outputs": []
    },
    {
      "cell_type": "code",
      "metadata": {
        "id": "KL-_piPIdms6",
        "colab": {
          "base_uri": "https://localhost:8080/"
        },
        "outputId": "bac88b33-d0b9-47ba-f5a5-7567e77e29c7"
      },
      "source": [
        "num_words = 10000\n",
        "max_len = 500\n",
        "batch_size = 32\n",
        "\n",
        "(input_train, y_train), (input_test, y_test) = imdb.load_data(num_words = num_words)\n",
        "print(len(input_train))\n",
        "print(len(input_test))\n",
        "\n",
        "input_train = sequence.pad_sequences(input_train, maxlen = max_len)\n",
        "input_test = sequence.pad_sequences(input_test, maxlen = max_len)\n",
        "print(input_train.shape)\n",
        "print(input_test.shape)\n"
      ],
      "execution_count": null,
      "outputs": [
        {
          "output_type": "stream",
          "name": "stdout",
          "text": [
            "25000\n",
            "25000\n",
            "(25000, 500)\n",
            "(25000, 500)\n"
          ]
        }
      ]
    },
    {
      "cell_type": "markdown",
      "metadata": {
        "id": "uf2EVnzceS4R"
      },
      "source": [
        "### 모델 구성"
      ]
    },
    {
      "cell_type": "code",
      "metadata": {
        "id": "d7dfeDC5eMdj"
      },
      "source": [
        "from tensorflow.keras.layers import Dense"
      ],
      "execution_count": null,
      "outputs": []
    },
    {
      "cell_type": "code",
      "metadata": {
        "id": "KnAUijOReWGu",
        "colab": {
          "base_uri": "https://localhost:8080/"
        },
        "outputId": "f3a528a8-fc59-4f1c-9458-e6e65d5a38e0"
      },
      "source": [
        "model = Sequential()\n",
        "\n",
        "model.add(Embedding(num_words, 32))\n",
        "model.add(SimpleRNN(32))\n",
        "model.add(Dense(1, activation = 'sigmoid'))\n",
        "\n",
        "model.compile(optimizer = 'rmsprop',\n",
        "              loss = 'binary_crossentropy',\n",
        "              metrics = ['acc'])\n",
        "model.summary()"
      ],
      "execution_count": null,
      "outputs": [
        {
          "output_type": "stream",
          "name": "stdout",
          "text": [
            "Model: \"sequential_4\"\n",
            "_________________________________________________________________\n",
            " Layer (type)                Output Shape              Param #   \n",
            "=================================================================\n",
            " embedding_3 (Embedding)     (None, None, 32)          320000    \n",
            "                                                                 \n",
            " simple_rnn_6 (SimpleRNN)    (None, 32)                2080      \n",
            "                                                                 \n",
            " dense (Dense)               (None, 1)                 33        \n",
            "                                                                 \n",
            "=================================================================\n",
            "Total params: 322,113\n",
            "Trainable params: 322,113\n",
            "Non-trainable params: 0\n",
            "_________________________________________________________________\n"
          ]
        }
      ]
    },
    {
      "cell_type": "markdown",
      "metadata": {
        "id": "pU_9-Hu7mcMa"
      },
      "source": [
        "### 모델 학습"
      ]
    },
    {
      "cell_type": "code",
      "metadata": {
        "id": "XdPtzPwNeonA",
        "colab": {
          "base_uri": "https://localhost:8080/"
        },
        "outputId": "d4c6423b-e1d3-4387-977e-6fd8c4724cb2"
      },
      "source": [
        "history = model.fit(input_train, y_train,\n",
        "                    epochs = 10,\n",
        "                    batch_size = 128,\n",
        "                    validation_split = 0.2)"
      ],
      "execution_count": null,
      "outputs": [
        {
          "output_type": "stream",
          "name": "stdout",
          "text": [
            "Epoch 1/10\n",
            "157/157 [==============================] - 66s 422ms/step - loss: 0.3704 - acc: 0.8497 - val_loss: 0.5689 - val_acc: 0.7744\n",
            "Epoch 2/10\n",
            "157/157 [==============================] - 65s 411ms/step - loss: 0.2801 - acc: 0.8910 - val_loss: 0.3508 - val_acc: 0.8636\n",
            "Epoch 3/10\n",
            "157/157 [==============================] - 72s 457ms/step - loss: 0.2332 - acc: 0.9110 - val_loss: 0.4083 - val_acc: 0.8364\n",
            "Epoch 4/10\n",
            "157/157 [==============================] - 74s 469ms/step - loss: 0.1993 - acc: 0.9261 - val_loss: 0.3597 - val_acc: 0.8580\n",
            "Epoch 5/10\n",
            "157/157 [==============================] - 74s 469ms/step - loss: 0.1611 - acc: 0.9409 - val_loss: 0.3745 - val_acc: 0.8650\n",
            "Epoch 6/10\n",
            "157/157 [==============================] - 69s 438ms/step - loss: 0.1317 - acc: 0.9539 - val_loss: 0.4117 - val_acc: 0.8412\n",
            "Epoch 7/10\n",
            "157/157 [==============================] - 65s 411ms/step - loss: 0.1119 - acc: 0.9599 - val_loss: 0.4369 - val_acc: 0.8366\n",
            "Epoch 8/10\n",
            "157/157 [==============================] - 65s 413ms/step - loss: 0.0922 - acc: 0.9707 - val_loss: 0.4645 - val_acc: 0.8488\n",
            "Epoch 9/10\n",
            "157/157 [==============================] - 66s 422ms/step - loss: 0.0545 - acc: 0.9819 - val_loss: 0.5056 - val_acc: 0.8366\n",
            "Epoch 10/10\n",
            "157/157 [==============================] - 65s 412ms/step - loss: 0.0440 - acc: 0.9865 - val_loss: 0.5852 - val_acc: 0.8048\n"
          ]
        }
      ]
    },
    {
      "cell_type": "markdown",
      "metadata": {
        "id": "afIyKdLsmj6N"
      },
      "source": [
        "### 시각화"
      ]
    },
    {
      "cell_type": "code",
      "metadata": {
        "id": "sendhEujeu8S"
      },
      "source": [
        "import matplotlib.pyplot as plt"
      ],
      "execution_count": null,
      "outputs": []
    },
    {
      "cell_type": "code",
      "metadata": {
        "id": "3rjMFpiBe4Fa",
        "colab": {
          "base_uri": "https://localhost:8080/",
          "height": 513
        },
        "outputId": "2df5f01b-a800-4b0c-b55a-14e718cf260f"
      },
      "source": [
        "loss = history.history['loss']\n",
        "val_loss = history.history['val_loss']\n",
        "acc = history.history['acc']\n",
        "val_acc = history.history['val_acc']\n",
        "\n",
        "epochs = range(1, len(loss) + 1)\n",
        "\n",
        "plt.plot(epochs, loss, 'b--', label = 'training loss')\n",
        "plt.plot(epochs, val_loss, 'r:', label = 'validation loss')\n",
        "plt.grid()\n",
        "plt.legend()\n",
        "\n",
        "plt.figure()\n",
        "plt.plot(epochs, acc, 'b--', label = 'training accuracy')\n",
        "plt.plot(epochs, val_acc, 'r:', label = 'validation accuracy')\n",
        "plt.grid()\n",
        "plt.legend()\n",
        "\n",
        "plt.show()"
      ],
      "execution_count": null,
      "outputs": [
        {
          "output_type": "display_data",
          "data": {
            "text/plain": [
              "<Figure size 432x288 with 1 Axes>"
            ],
            "image/png": "[encoded data removed]"
          },
          "metadata": {
            "needs_background": "light"
          }
        },
        {
          "output_type": "display_data",
          "data": {
            "text/plain": [
              "<Figure size 432x288 with 1 Axes>"
            ],
            "image/png": "[encoded data removed]"
          },
          "metadata": {
            "needs_background": "light"
          }
        }
      ]
    },
    {
      "cell_type": "code",
      "metadata": {
        "id": "YLO526Sgf-U_",
        "colab": {
          "base_uri": "https://localhost:8080/"
        },
        "outputId": "73efab33-d4d0-4e76-b746-9511ecf47be5"
      },
      "source": [
        "model.evaluate(input_test, y_test)"
      ],
      "execution_count": null,
      "outputs": [
        {
          "output_type": "stream",
          "name": "stdout",
          "text": [
            "782/782 [==============================] - 29s 37ms/step - loss: 0.6089 - acc: 0.8054\n"
          ]
        },
        {
          "output_type": "execute_result",
          "data": {
            "text/plain": [
              "[0.6089110374450684, 0.8053600192070007]"
            ]
          },
          "metadata": {},
          "execution_count": 20
        }
      ]
    },
    {
      "cell_type": "markdown",
      "metadata": {
        "id": "ytqqPh0ZgSja"
      },
      "source": [
        "- 전체 시퀀스가 아니라 순서대로 500개의 단어만 입력했기 때문에 성능이 낮게 나옴\n",
        "\n",
        "- SimpleRNN은 긴 시퀀스를 처리하는데 적합하지 않음"
      ]
    },
    {
      "cell_type": "markdown",
      "metadata": {
        "id": "VTmZ_XiZguM5"
      },
      "source": [
        "# LSTM과 GRU 레이어\n",
        "\n",
        "- SimpleRNN은 실전에 사용하기엔 너무 단순\n",
        "\n",
        "- SimpleRNN은 이론적으로 시간 $t$ 에서 이전의 모든 타임스텝의 정보를 유지할 수 있지만, 실제로는 긴 시간에 걸친 의존성은 학습할 수 없음\n",
        "\n",
        "- 그래디언트 소실 문제(vanishing gradient problem)\n",
        "  - 이를 방지하기 위해 LSTM, GRU 같은 레이어 등장\n",
        "\n"
      ]
    },
    {
      "cell_type": "markdown",
      "metadata": {
        "id": "oZXJIdDai7sV"
      },
      "source": [
        "## LSTM(Long Short-Term Memory)\n",
        "- 장단기 메모리 알고리즘\n",
        "\n",
        "- 나중을 위해 정보를 저장함으로써 오래된 시그널이 점차 소실되는 것을 막아줌\n",
        "\n",
        "  <img src=\"https://colah.github.io/posts/2015-08-Understanding-LSTMs/img/LSTM3-chain.png\">\n",
        "\n",
        "  <sub>출처: https://colah.github.io/posts/2015-08-Understanding-LSTMs/</sub>"
      ]
    },
    {
      "cell_type": "markdown",
      "metadata": {
        "id": "TvnFLeqSsOSh"
      },
      "source": [
        "## 예제로 보는 순환 신경망: Reuters \n",
        "\n",
        "- IMDB와 유사한 데이터셋(텍스트 데이터)\n",
        "\n",
        "- 46개의 상호 배타적인 토픽으로 이루어진 데이터셋 \n",
        "  - 다중 분류 문제\n"
      ]
    },
    {
      "cell_type": "markdown",
      "metadata": {
        "id": "ONPaMDFEsftq"
      },
      "source": [
        "### 데이터셋 로드"
      ]
    },
    {
      "cell_type": "code",
      "metadata": {
        "id": "sFyvFVizsUVD"
      },
      "source": [
        "from tensorflow.keras.datasets import reuters"
      ],
      "execution_count": null,
      "outputs": []
    },
    {
      "cell_type": "code",
      "metadata": {
        "id": "C234q3AVsUSp",
        "colab": {
          "base_uri": "https://localhost:8080/"
        },
        "outputId": "7c4b1fe8-7b6e-4d35-f7ec-12006f5ea4a8"
      },
      "source": [
        "num_words = 10000\n",
        "\n",
        "(x_train, y_train),(x_test, y_test) = reuters.load_data(num_words = num_words)\n",
        "\n",
        "print(x_train.shape)\n",
        "print(y_train.shape)\n",
        "print(x_test.shape)\n",
        "print(y_test.shape)"
      ],
      "execution_count": null,
      "outputs": [
        {
          "output_type": "stream",
          "name": "stdout",
          "text": [
            "Downloading data from https://storage.googleapis.com/tensorflow/tf-keras-datasets/reuters.npz\n",
            "2110848/2110848 [==============================] - 0s 0us/step\n",
            "(8982,)\n",
            "(8982,)\n",
            "(2246,)\n",
            "(2246,)\n"
          ]
        }
      ]
    },
    {
      "cell_type": "markdown",
      "metadata": {
        "id": "VioYGD8Ms4zH"
      },
      "source": [
        "### 데이터 전처리 및 확인"
      ]
    },
    {
      "cell_type": "code",
      "metadata": {
        "id": "2Sb0OxNlsUQT"
      },
      "source": [
        "from tensorflow.keras.preprocessing.sequence import pad_sequences"
      ],
      "execution_count": null,
      "outputs": []
    },
    {
      "cell_type": "code",
      "metadata": {
        "id": "rNUkve6-sUN6"
      },
      "source": [
        "max_len = 500"
      ],
      "execution_count": null,
      "outputs": []
    },
    {
      "cell_type": "code",
      "metadata": {
        "id": "jBxQZtOJsULl",
        "colab": {
          "base_uri": "https://localhost:8080/"
        },
        "outputId": "d809f84b-b62f-4dad-fb58-272dc982a14d"
      },
      "source": [
        "pad_x_train = pad_sequences(x_train, maxlen = max_len)\n",
        "pad_x_test = pad_sequences(x_test, maxlen = max_len)\n",
        "\n",
        "print(len(pad_x_train[0]))"
      ],
      "execution_count": null,
      "outputs": [
        {
          "output_type": "stream",
          "name": "stdout",
          "text": [
            "500\n"
          ]
        }
      ]
    },
    {
      "cell_type": "code",
      "metadata": {
        "id": "a6hwQtn_sUJN",
        "colab": {
          "base_uri": "https://localhost:8080/"
        },
        "outputId": "7662b0b9-88ee-4d83-b22d-458192ebb82b"
      },
      "source": [
        "len(pad_x_train)"
      ],
      "execution_count": null,
      "outputs": [
        {
          "output_type": "execute_result",
          "data": {
            "text/plain": [
              "8982"
            ]
          },
          "metadata": {},
          "execution_count": 16
        }
      ]
    },
    {
      "cell_type": "markdown",
      "metadata": {
        "id": "_P_JxBFntQOP"
      },
      "source": [
        "### 모델 구성\n",
        "- LSTM 레이어도 SimpleRNN과 같이 `return_sequences` 인자 사용가능"
      ]
    },
    {
      "cell_type": "code",
      "metadata": {
        "id": "1vG3ZGSksUG5"
      },
      "source": [
        "from tensorflow.keras.models import Sequential\n",
        "from tensorflow.keras.layers import LSTM , Dense, Embedding"
      ],
      "execution_count": null,
      "outputs": []
    },
    {
      "cell_type": "code",
      "metadata": {
        "id": "K_uMdxmysUEg",
        "colab": {
          "base_uri": "https://localhost:8080/"
        },
        "outputId": "5879a4ab-3317-48ad-b21f-6dedbd6c0a10"
      },
      "source": [
        "model = Sequential()\n",
        "model.add(Embedding(input_dim = num_words, output_dim = 64))\n",
        "model.add(LSTM(64, return_sequences = True))\n",
        "model.add(LSTM(32))\n",
        "model.add(Dense(46, activation = 'softmax'))\n",
        "\n",
        "model.compile(optimizer = 'adam',\n",
        "              loss = 'sparse_categorical_crossentropy',\n",
        "              metrics = ['acc'])\n",
        "model.summary()"
      ],
      "execution_count": null,
      "outputs": [
        {
          "output_type": "stream",
          "name": "stdout",
          "text": [
            "Model: \"sequential_2\"\n",
            "_________________________________________________________________\n",
            " Layer (type)                Output Shape              Param #   \n",
            "=================================================================\n",
            " embedding_2 (Embedding)     (None, None, 64)          640000    \n",
            "                                                                 \n",
            " lstm_4 (LSTM)               (None, None, 64)          33024     \n",
            "                                                                 \n",
            " lstm_5 (LSTM)               (None, 32)                12416     \n",
            "                                                                 \n",
            " dense_2 (Dense)             (None, 46)                1518      \n",
            "                                                                 \n",
            "=================================================================\n",
            "Total params: 686,958\n",
            "Trainable params: 686,958\n",
            "Non-trainable params: 0\n",
            "_________________________________________________________________\n"
          ]
        }
      ]
    },
    {
      "cell_type": "markdown",
      "metadata": {
        "id": "qjgupW2puHXA"
      },
      "source": [
        "### 모델 학습"
      ]
    },
    {
      "cell_type": "code",
      "metadata": {
        "id": "T22YsRQ8sUBg",
        "colab": {
          "base_uri": "https://localhost:8080/"
        },
        "outputId": "7c3178f4-c42f-4000-9b52-f122881d9505"
      },
      "source": [
        "history = model.fit(pad_x_train, y_train,\n",
        "                    batch_size=32, epochs = 20,\n",
        "                    validation_split =0.2)"
      ],
      "execution_count": null,
      "outputs": [
        {
          "output_type": "stream",
          "name": "stdout",
          "text": [
            "Epoch 1/20\n",
            "225/225 [==============================] - 17s 39ms/step - loss: 2.5523 - acc: 0.3521 - val_loss: 2.4121 - val_acc: 0.3450\n",
            "Epoch 2/20\n",
            "225/225 [==============================] - 8s 35ms/step - loss: 2.3962 - acc: 0.3598 - val_loss: 2.2227 - val_acc: 0.4708\n",
            "Epoch 3/20\n",
            "225/225 [==============================] - 8s 35ms/step - loss: 2.0524 - acc: 0.4842 - val_loss: 1.9386 - val_acc: 0.4919\n",
            "Epoch 4/20\n",
            "225/225 [==============================] - 8s 35ms/step - loss: 1.8229 - acc: 0.5372 - val_loss: 1.7502 - val_acc: 0.5598\n",
            "Epoch 5/20\n",
            "225/225 [==============================] - 8s 35ms/step - loss: 1.6706 - acc: 0.5705 - val_loss: 1.7150 - val_acc: 0.5648\n",
            "Epoch 6/20\n",
            "225/225 [==============================] - 8s 35ms/step - loss: 1.5949 - acc: 0.5932 - val_loss: 1.6627 - val_acc: 0.5748\n",
            "Epoch 7/20\n",
            "225/225 [==============================] - 8s 35ms/step - loss: 1.5661 - acc: 0.5955 - val_loss: 1.6831 - val_acc: 0.5721\n",
            "Epoch 8/20\n",
            "225/225 [==============================] - 8s 37ms/step - loss: 1.5232 - acc: 0.6167 - val_loss: 1.6439 - val_acc: 0.5860\n",
            "Epoch 9/20\n",
            "225/225 [==============================] - 8s 35ms/step - loss: 1.4662 - acc: 0.6319 - val_loss: 1.6105 - val_acc: 0.6021\n",
            "Epoch 10/20\n",
            "225/225 [==============================] - 8s 35ms/step - loss: 1.3934 - acc: 0.6457 - val_loss: 1.5762 - val_acc: 0.6149\n",
            "Epoch 11/20\n",
            "225/225 [==============================] - 8s 35ms/step - loss: 1.3336 - acc: 0.6583 - val_loss: 1.5942 - val_acc: 0.6004\n",
            "Epoch 12/20\n",
            "225/225 [==============================] - 8s 35ms/step - loss: 1.2689 - acc: 0.6775 - val_loss: 1.5582 - val_acc: 0.6199\n",
            "Epoch 13/20\n",
            "225/225 [==============================] - 8s 35ms/step - loss: 1.2070 - acc: 0.6914 - val_loss: 1.5724 - val_acc: 0.6121\n",
            "Epoch 14/20\n",
            "225/225 [==============================] - 8s 35ms/step - loss: 1.1366 - acc: 0.7127 - val_loss: 1.5385 - val_acc: 0.6305\n",
            "Epoch 15/20\n",
            "225/225 [==============================] - 8s 35ms/step - loss: 1.0697 - acc: 0.7340 - val_loss: 1.5533 - val_acc: 0.6344\n",
            "Epoch 16/20\n",
            "225/225 [==============================] - 9s 40ms/step - loss: 1.1044 - acc: 0.7162 - val_loss: 1.5760 - val_acc: 0.6283\n",
            "Epoch 17/20\n",
            "225/225 [==============================] - 8s 36ms/step - loss: 0.9757 - acc: 0.7553 - val_loss: 1.5376 - val_acc: 0.6483\n",
            "Epoch 18/20\n",
            "225/225 [==============================] - 8s 36ms/step - loss: 0.8948 - acc: 0.7790 - val_loss: 1.5449 - val_acc: 0.6466\n",
            "Epoch 19/20\n",
            "225/225 [==============================] - 8s 37ms/step - loss: 0.8422 - acc: 0.7904 - val_loss: 1.5725 - val_acc: 0.6533\n",
            "Epoch 20/20\n",
            "225/225 [==============================] - 8s 35ms/step - loss: 0.9211 - acc: 0.7694 - val_loss: 1.5999 - val_acc: 0.6522\n"
          ]
        }
      ]
    },
    {
      "cell_type": "markdown",
      "metadata": {
        "id": "JGZhIiYeuSCD"
      },
      "source": [
        "### 시각화"
      ]
    },
    {
      "cell_type": "code",
      "metadata": {
        "id": "INJu0-itsT_T",
        "colab": {
          "base_uri": "https://localhost:8080/",
          "height": 513
        },
        "outputId": "a9b71276-d130-41c0-c276-b5c3f20c26c2"
      },
      "source": [
        "loss = history.history['loss']\n",
        "val_loss = history.history['val_loss']\n",
        "acc = history.history['acc']\n",
        "val_acc = history.history['val_acc']\n",
        "\n",
        "epochs = range(1, len(loss) + 1)\n",
        "\n",
        "plt.plot(epochs, loss, 'b--', label = 'training loss')\n",
        "plt.plot(epochs, val_loss, 'r:', label = 'validation loss')\n",
        "plt.grid()\n",
        "plt.legend()\n",
        "\n",
        "plt.figure()\n",
        "plt.plot(epochs, acc, 'b--', label = 'training accuracy')\n",
        "plt.plot(epochs, val_acc, 'r:', label = 'validation accuracy')\n",
        "plt.grid()\n",
        "plt.legend()\n",
        "\n",
        "plt.show()"
      ],
      "execution_count": null,
      "outputs": [
        {
          "output_type": "display_data",
          "data": {
            "text/plain": [
              "<Figure size 432x288 with 1 Axes>"
            ],
            "image/png": "[encoded data removed]"
          },
          "metadata": {
            "needs_background": "light"
          }
        },
        {
          "output_type": "display_data",
          "data": {
            "text/plain": [
              "<Figure size 432x288 with 1 Axes>"
            ],
            "image/png": "[encoded data removed]"
          },
          "metadata": {
            "needs_background": "light"
          }
        }
      ]
    },
    {
      "cell_type": "markdown",
      "metadata": {
        "id": "dLZLATDBuTtj"
      },
      "source": [
        "### 모델 평가\n"
      ]
    },
    {
      "cell_type": "code",
      "metadata": {
        "id": "SVxVV-kmsT6D",
        "colab": {
          "base_uri": "https://localhost:8080/"
        },
        "outputId": "094bb626-9880-414e-ac2c-5bdcb7fd7338"
      },
      "source": [
        "model.evaluate(pad_x_test, y_test)"
      ],
      "execution_count": null,
      "outputs": [
        {
          "output_type": "stream",
          "name": "stdout",
          "text": [
            "71/71 [==============================] - 1s 17ms/step - loss: 1.6613 - acc: 0.6362\n"
          ]
        },
        {
          "output_type": "execute_result",
          "data": {
            "text/plain": [
              "[1.6613171100616455, 0.6362422108650208]"
            ]
          },
          "metadata": {},
          "execution_count": 25
        }
      ]
    },
    {
      "cell_type": "markdown",
      "metadata": {
        "id": "j3afhQOUlqG9"
      },
      "source": [
        "## IMDB 데이터셋 with LSTM"
      ]
    },
    {
      "cell_type": "markdown",
      "metadata": {
        "id": "tZOCK6EQl1QI"
      },
      "source": [
        "### 데이터 로드"
      ]
    },
    {
      "cell_type": "code",
      "metadata": {
        "id": "00ZS9v3YmT_H"
      },
      "source": [
        "from tensorflow.keras.datasets import imdb\n",
        "from tensorflow.keras.preprocessing.sequence import pad_sequences"
      ],
      "execution_count": null,
      "outputs": []
    },
    {
      "cell_type": "code",
      "metadata": {
        "id": "UW-VG35_gwmt",
        "colab": {
          "base_uri": "https://localhost:8080/"
        },
        "outputId": "8ae2c117-84e2-4b77-f234-496d2e61e40f"
      },
      "source": [
        "num_words = 10000\n",
        "max_len = 500\n",
        "batch_size = 32\n",
        "\n",
        "(pad_x_train, y_train), (pad_x_test, y_test) = imdb.load_data(num_words = num_words)\n",
        "print(len(pad_x_train))\n",
        "print(len(pad_x_test))\n",
        "\n",
        "pad_x_train = sequence.pad_sequences(pad_x_train, maxlen = max_len)\n",
        "pad_x_test = sequence.pad_sequences(pad_x_test, maxlen = max_len)\n",
        "print(pad_x_train.shape)\n",
        "print(pad_x_test.shape)\n"
      ],
      "execution_count": null,
      "outputs": [
        {
          "output_type": "stream",
          "name": "stdout",
          "text": [
            "25000\n",
            "25000\n",
            "(25000, 500)\n",
            "(25000, 500)\n"
          ]
        }
      ]
    },
    {
      "cell_type": "markdown",
      "metadata": {
        "id": "uo8uhFyBl2k-"
      },
      "source": [
        "### 모델 구성"
      ]
    },
    {
      "cell_type": "code",
      "metadata": {
        "id": "tFkAN2Dzl3GC"
      },
      "source": [
        "from tensorflow.keras.models import Sequential\n",
        "from tensorflow.keras.layers import Dense, LSTM, Embedding"
      ],
      "execution_count": null,
      "outputs": []
    },
    {
      "cell_type": "code",
      "metadata": {
        "id": "TPr9Ec-El50W",
        "colab": {
          "base_uri": "https://localhost:8080/"
        },
        "outputId": "7fd31acc-b1e0-40df-9400-25fe438e9c92"
      },
      "source": [
        "model = Sequential()\n",
        "\n",
        "model.add(Embedding(num_words , 32))\n",
        "model.add(LSTM(32))\n",
        "model.add(Dense(1, activation = 'sigmoid'))\n",
        "\n",
        "model.compile(optimizer ='rmsprop',\n",
        "              loss = 'binary_crossentropy',\n",
        "              metrics = ['acc'])\n",
        "model.summary()"
      ],
      "execution_count": null,
      "outputs": [
        {
          "output_type": "stream",
          "name": "stdout",
          "text": [
            "Model: \"sequential_5\"\n",
            "_________________________________________________________________\n",
            " Layer (type)                Output Shape              Param #   \n",
            "=================================================================\n",
            " embedding_5 (Embedding)     (None, None, 32)          320000    \n",
            "                                                                 \n",
            " lstm_8 (LSTM)               (None, 32)                8320      \n",
            "                                                                 \n",
            " dense_5 (Dense)             (None, 1)                 33        \n",
            "                                                                 \n",
            "=================================================================\n",
            "Total params: 328,353\n",
            "Trainable params: 328,353\n",
            "Non-trainable params: 0\n",
            "_________________________________________________________________\n"
          ]
        }
      ]
    },
    {
      "cell_type": "markdown",
      "metadata": {
        "id": "vAPnX6ACmenz"
      },
      "source": [
        "### 모델 학습"
      ]
    },
    {
      "cell_type": "code",
      "metadata": {
        "id": "FGWhqX5GmNeR",
        "colab": {
          "base_uri": "https://localhost:8080/"
        },
        "outputId": "5c75c253-8491-40ee-a122-7b638d422c13"
      },
      "source": [
        "history = model.fit(pad_x_train, y_test\n",
        "                    ,epochs = 10,\n",
        "                    batch_size = 128,\n",
        "                    validation_split = 0.2)"
      ],
      "execution_count": null,
      "outputs": [
        {
          "output_type": "stream",
          "name": "stdout",
          "text": [
            "Epoch 1/10\n",
            "157/157 [==============================] - 4s 24ms/step - loss: 0.2190 - acc: 0.9178 - val_loss: 1.4552 - val_acc: 0.5050\n",
            "Epoch 2/10\n",
            "157/157 [==============================] - 3s 22ms/step - loss: 0.1835 - acc: 0.9341 - val_loss: 1.6705 - val_acc: 0.5118\n",
            "Epoch 3/10\n",
            "157/157 [==============================] - 3s 22ms/step - loss: 0.1509 - acc: 0.9463 - val_loss: 1.7691 - val_acc: 0.5098\n",
            "Epoch 4/10\n",
            "157/157 [==============================] - 3s 22ms/step - loss: 0.1261 - acc: 0.9557 - val_loss: 1.9363 - val_acc: 0.5016\n",
            "Epoch 5/10\n",
            "157/157 [==============================] - 4s 27ms/step - loss: 0.1020 - acc: 0.9651 - val_loss: 2.1514 - val_acc: 0.4994\n",
            "Epoch 6/10\n",
            "157/157 [==============================] - 3s 22ms/step - loss: 0.0859 - acc: 0.9739 - val_loss: 2.2436 - val_acc: 0.5062\n",
            "Epoch 7/10\n",
            "157/157 [==============================] - 3s 22ms/step - loss: 0.0688 - acc: 0.9787 - val_loss: 2.2436 - val_acc: 0.5036\n",
            "Epoch 8/10\n",
            "157/157 [==============================] - 4s 24ms/step - loss: 0.0572 - acc: 0.9829 - val_loss: 2.5099 - val_acc: 0.5078\n",
            "Epoch 9/10\n",
            "157/157 [==============================] - 5s 30ms/step - loss: 0.0485 - acc: 0.9856 - val_loss: 2.5129 - val_acc: 0.5008\n",
            "Epoch 10/10\n",
            "157/157 [==============================] - 7s 43ms/step - loss: 0.0409 - acc: 0.9886 - val_loss: 2.7930 - val_acc: 0.4962\n"
          ]
        }
      ]
    },
    {
      "cell_type": "markdown",
      "metadata": {
        "id": "gFiE5SpPmh_x"
      },
      "source": [
        "### 시각화"
      ]
    },
    {
      "cell_type": "code",
      "metadata": {
        "id": "jwQ6ZYHTyXHS",
        "colab": {
          "base_uri": "https://localhost:8080/",
          "height": 513
        },
        "outputId": "94e67ba0-871e-4914-99ed-381308d03f52"
      },
      "source": [
        "loss = history.history['loss']\n",
        "val_loss = history.history['val_loss']\n",
        "acc = history.history['acc']\n",
        "val_acc = history.history['val_acc']\n",
        "\n",
        "epochs = range(1, len(loss) + 1)\n",
        "\n",
        "plt.plot(epochs, loss, 'b--', label = 'training loss')\n",
        "plt.plot(epochs, val_loss, 'r:', label = 'validation loss')\n",
        "plt.grid()\n",
        "plt.legend()\n",
        "\n",
        "plt.figure()\n",
        "plt.plot(epochs, acc, 'b--', label = 'training accuracy')\n",
        "plt.plot(epochs, val_acc, 'r:', label = 'validation accuracy')\n",
        "plt.grid()\n",
        "plt.legend()\n",
        "\n",
        "plt.show()"
      ],
      "execution_count": null,
      "outputs": [
        {
          "output_type": "display_data",
          "data": {
            "text/plain": [
              "<Figure size 432x288 with 1 Axes>"
            ],
            "image/png": "[encoded data removed]"
          },
          "metadata": {
            "needs_background": "light"
          }
        },
        {
          "output_type": "display_data",
          "data": {
            "text/plain": [
              "<Figure size 432x288 with 1 Axes>"
            ],
            "image/png": "[encoded data removed]"
          },
          "metadata": {
            "needs_background": "light"
          }
        }
      ]
    },
    {
      "cell_type": "markdown",
      "metadata": {
        "id": "NiZ6uiUPyXHN"
      },
      "source": [
        "### 모델 평가"
      ]
    },
    {
      "cell_type": "code",
      "metadata": {
        "id": "DZjW6iOV3k-J",
        "colab": {
          "base_uri": "https://localhost:8080/"
        },
        "outputId": "f113544a-475b-4edf-d80d-fd8203b2ee88"
      },
      "source": [
        "model.evaluate(pad_x_test, y_test)"
      ],
      "execution_count": null,
      "outputs": [
        {
          "output_type": "stream",
          "name": "stdout",
          "text": [
            "782/782 [==============================] - 7s 9ms/step - loss: 2.7644 - acc: 0.5008\n"
          ]
        },
        {
          "output_type": "execute_result",
          "data": {
            "text/plain": [
              "[2.764370918273926, 0.5008400082588196]"
            ]
          },
          "metadata": {},
          "execution_count": 44
        }
      ]
    },
    {
      "cell_type": "markdown",
      "metadata": {
        "id": "FekNEQuJVicJ"
      },
      "source": [
        "# Cosine 함수를 이용한 순환 신경망"
      ]
    },
    {
      "cell_type": "code",
      "metadata": {
        "id": "JfUyJSoHVpUh"
      },
      "source": [
        "import numpy as np"
      ],
      "execution_count": null,
      "outputs": []
    },
    {
      "cell_type": "code",
      "metadata": {
        "id": "JgE5D6rCVpQO"
      },
      "source": [
        "np.random.seed(111)\n",
        "\n",
        "time = np.arange(30*12+1)\n",
        "month_time = (time %30) / 30\n",
        "time_series = 20 *np.where(month_time < 0.5,\n",
        "                           np.cos(2 * np.pi * month_time),\n",
        "                           np.cos(2 * np.pi * month_time) +np.random.random(361))"
      ],
      "execution_count": null,
      "outputs": []
    },
    {
      "cell_type": "code",
      "metadata": {
        "id": "p-_g8LYTVpLx",
        "colab": {
          "base_uri": "https://localhost:8080/",
          "height": 497
        },
        "outputId": "ef7691d6-d73f-4009-dbf7-7efe5938fc41"
      },
      "source": [
        "plt.figure(figsize =( 15,8))\n",
        "plt.xlabel('Time')\n",
        "plt.ylabel('Value')\n",
        "plt.plot(np.arange(0, 30*11+1),\n",
        "         time_series[:30*11+1],\n",
        "         color = 'blue',alpha = 0.6, label = 'Train Data')\n",
        "plt.plot(np.arange(30*11, 30*12+1),\n",
        "         time_series[30*11:],\n",
        "         color = 'orange',label = 'Test Data')\n",
        "plt.show()"
      ],
      "execution_count": null,
      "outputs": [
        {
          "output_type": "display_data",
          "data": {
            "text/plain": [
              "<Figure size 1080x576 with 1 Axes>"
            ],
            "image/png": "[encoded data removed]"
          },
          "metadata": {
            "needs_background": "light"
          }
        }
      ]
    },
    {
      "cell_type": "markdown",
      "metadata": {
        "id": "ar_N0gTrZtk9"
      },
      "source": [
        "### 데이터 전처리"
      ]
    },
    {
      "cell_type": "code",
      "metadata": {
        "id": "z-0JrfZoVpFj"
      },
      "source": [
        "def make_data(time_series, n):\n",
        "  x_train_full, y_train_full =list(), list()\n",
        "\n",
        "  for i in range(len(time_series)):\n",
        "    x = time_series[i:(i+n)]\n",
        "    if (i+n)< len(time_series):\n",
        "      x_train_full.append(x)\n",
        "      y_train_full.append(time_series[i+n])\n",
        "    else:\n",
        "      break\n",
        "  x_train_full, y_train_full = np.array(x_train_full), np.array(y_train_full)\n",
        "\n",
        "  return x_train_full, y_train_full\n"
      ],
      "execution_count": null,
      "outputs": []
    },
    {
      "cell_type": "code",
      "metadata": {
        "id": "qkdd7YkAbnVG"
      },
      "source": [
        "n = 10\n",
        "x_train_full, y_train_full = make_data(time_series,  n)\n"
      ],
      "execution_count": null,
      "outputs": []
    },
    {
      "cell_type": "code",
      "metadata": {
        "id": "rwcXpeF9VpBQ",
        "colab": {
          "base_uri": "https://localhost:8080/"
        },
        "outputId": "e3942de6-08fe-468d-983d-e234ea5b63a2"
      },
      "source": [
        "print(x_train_full.shape)\n",
        "print(y_train_full.shape)"
      ],
      "execution_count": null,
      "outputs": [
        {
          "output_type": "stream",
          "name": "stdout",
          "text": [
            "(351, 10)\n",
            "(351,)\n"
          ]
        }
      ]
    },
    {
      "cell_type": "code",
      "metadata": {
        "id": "4-KvUJs1Vo9d"
      },
      "source": [
        "x_train_full = x_train_full.reshape(-1, n,1)\n",
        "y_train_full = y_train_full.reshape(-1,1)"
      ],
      "execution_count": null,
      "outputs": []
    },
    {
      "cell_type": "code",
      "metadata": {
        "id": "G_kes8afVo54",
        "colab": {
          "base_uri": "https://localhost:8080/"
        },
        "outputId": "1ff40cda-15d3-46ac-d5b5-2cfe65f4767c"
      },
      "source": [
        "print(x_train_full.shape)\n",
        "print(y_train_full.shape)"
      ],
      "execution_count": null,
      "outputs": [
        {
          "output_type": "stream",
          "name": "stdout",
          "text": [
            "(351, 10, 1)\n",
            "(351, 1)\n"
          ]
        }
      ]
    },
    {
      "cell_type": "markdown",
      "metadata": {
        "id": "_e8ZgkRZak5V"
      },
      "source": [
        "## 테스트 데이터셋 생성"
      ]
    },
    {
      "cell_type": "code",
      "metadata": {
        "id": "WUHKyXaPVo2G"
      },
      "source": [
        "x_train = x_train_full[:30*11]\n",
        "y_train = y_train_full[:30*11]\n",
        "\n",
        "x_test = x_train_full[30*11:]\n",
        "y_test = y_train_full[30*11:]"
      ],
      "execution_count": null,
      "outputs": []
    },
    {
      "cell_type": "code",
      "metadata": {
        "id": "xe2CYFcXVoxu",
        "colab": {
          "base_uri": "https://localhost:8080/"
        },
        "outputId": "5672185b-59e7-4246-dbc0-1ddd694da8e5"
      },
      "source": [
        "print(x_train.shape, y_train.shape)\n",
        "print(x_test.shape, y_test.shape)"
      ],
      "execution_count": null,
      "outputs": [
        {
          "output_type": "stream",
          "name": "stdout",
          "text": [
            "(330, 10, 1) (330, 1)\n",
            "(21, 10, 1) (21, 1)\n"
          ]
        }
      ]
    },
    {
      "cell_type": "markdown",
      "metadata": {
        "id": "2gvgVvkEbRsq"
      },
      "source": [
        "## 데이터 확인"
      ]
    },
    {
      "cell_type": "code",
      "metadata": {
        "id": "uJuKu5bvVosF",
        "colab": {
          "base_uri": "https://localhost:8080/"
        },
        "outputId": "444cc1cb-c52c-4332-b303-1423b3ad7589"
      },
      "source": [
        "sample_series = np.arange(100)\n",
        "a,b  = make_data(sample_series, 10)\n",
        "print(a[0])\n",
        "print(b[0])"
      ],
      "execution_count": null,
      "outputs": [
        {
          "output_type": "stream",
          "name": "stdout",
          "text": [
            "[0 1 2 3 4 5 6 7 8 9]\n",
            "10\n"
          ]
        }
      ]
    },
    {
      "cell_type": "markdown",
      "metadata": {
        "id": "5ZzsxLa-b9fq"
      },
      "source": [
        "## 모델 구성"
      ]
    },
    {
      "cell_type": "code",
      "metadata": {
        "id": "AbvWl9pGVooV"
      },
      "source": [
        "from tensorflow.keras.layers import SimpleRNN, Flatten, Dense\n",
        "from tensorflow.keras.models import Sequential"
      ],
      "execution_count": null,
      "outputs": []
    },
    {
      "cell_type": "code",
      "metadata": {
        "id": "dwT7KGJTVokn"
      },
      "source": [
        "def build_model(n):\n",
        "  model = Sequential()\n",
        "\n",
        "  model.add(SimpleRNN(units= 32, activation = 'tanh', input_shape = (n ,1)))\n",
        "  model.add(Dense(1))\n",
        "\n",
        "  model.compile(optimizer = 'adam',\n",
        "                loss = 'mse')\n",
        "  return model"
      ],
      "execution_count": null,
      "outputs": []
    },
    {
      "cell_type": "code",
      "metadata": {
        "id": "TYmQpmusVogh",
        "colab": {
          "base_uri": "https://localhost:8080/"
        },
        "outputId": "642fa994-5c0e-4fd4-9b66-e605ce963f56"
      },
      "source": [
        "model = build_model(10)\n",
        "model.summary()"
      ],
      "execution_count": null,
      "outputs": [
        {
          "output_type": "stream",
          "name": "stdout",
          "text": [
            "Model: \"sequential_15\"\n",
            "_________________________________________________________________\n",
            " Layer (type)                Output Shape              Param #   \n",
            "=================================================================\n",
            " simple_rnn (SimpleRNN)      (None, 32)                1088      \n",
            "                                                                 \n",
            " dense_6 (Dense)             (None, 1)                 33        \n",
            "                                                                 \n",
            "=================================================================\n",
            "Total params: 1,121\n",
            "Trainable params: 1,121\n",
            "Non-trainable params: 0\n",
            "_________________________________________________________________\n"
          ]
        }
      ]
    },
    {
      "cell_type": "markdown",
      "metadata": {
        "id": "pvVl7a-wc8fx"
      },
      "source": [
        "## 모델 학습"
      ]
    },
    {
      "cell_type": "code",
      "metadata": {
        "id": "OCb5Php2VocQ",
        "colab": {
          "base_uri": "https://localhost:8080/"
        },
        "outputId": "4d63ff2c-b4ea-46cc-e7b4-2ece7c8eeb51"
      },
      "source": [
        "model.fit(x_train, y_train, epochs = 100, batch_size = 12)"
      ],
      "execution_count": null,
      "outputs": [
        {
          "output_type": "stream",
          "name": "stdout",
          "text": [
            "Epoch 1/100\n",
            "28/28 [==============================] - 1s 9ms/step - loss: 207.2252\n",
            "Epoch 2/100\n",
            "28/28 [==============================] - 0s 9ms/step - loss: 170.0390\n",
            "Epoch 3/100\n",
            "28/28 [==============================] - 0s 8ms/step - loss: 148.3321\n",
            "Epoch 4/100\n",
            "28/28 [==============================] - 0s 8ms/step - loss: 133.1496\n",
            "Epoch 5/100\n",
            "28/28 [==============================] - 0s 7ms/step - loss: 121.2244\n",
            "Epoch 6/100\n",
            "28/28 [==============================] - 0s 9ms/step - loss: 110.7743\n",
            "Epoch 7/100\n",
            "28/28 [==============================] - 0s 7ms/step - loss: 100.3980\n",
            "Epoch 8/100\n",
            "28/28 [==============================] - 0s 8ms/step - loss: 91.1663\n",
            "Epoch 9/100\n",
            "28/28 [==============================] - 0s 8ms/step - loss: 84.5100\n",
            "Epoch 10/100\n",
            "28/28 [==============================] - 0s 9ms/step - loss: 78.6607\n",
            "Epoch 11/100\n",
            "28/28 [==============================] - 0s 8ms/step - loss: 73.5268\n",
            "Epoch 12/100\n",
            "28/28 [==============================] - 0s 9ms/step - loss: 68.8051\n",
            "Epoch 13/100\n",
            "28/28 [==============================] - 0s 8ms/step - loss: 64.8443\n",
            "Epoch 14/100\n",
            "28/28 [==============================] - 0s 9ms/step - loss: 60.9784\n",
            "Epoch 15/100\n",
            "28/28 [==============================] - 0s 8ms/step - loss: 57.4613\n",
            "Epoch 16/100\n",
            "28/28 [==============================] - 0s 8ms/step - loss: 54.2794\n",
            "Epoch 17/100\n",
            "28/28 [==============================] - 0s 8ms/step - loss: 51.5319\n",
            "Epoch 18/100\n",
            "28/28 [==============================] - 0s 8ms/step - loss: 49.3041\n",
            "Epoch 19/100\n",
            "28/28 [==============================] - 0s 9ms/step - loss: 46.8025\n",
            "Epoch 20/100\n",
            "28/28 [==============================] - 0s 8ms/step - loss: 44.6816\n",
            "Epoch 21/100\n",
            "28/28 [==============================] - 0s 9ms/step - loss: 42.8154\n",
            "Epoch 22/100\n",
            "28/28 [==============================] - 0s 9ms/step - loss: 41.3663\n",
            "Epoch 23/100\n",
            "28/28 [==============================] - 0s 8ms/step - loss: 39.3402\n",
            "Epoch 24/100\n",
            "28/28 [==============================] - 0s 8ms/step - loss: 37.8341\n",
            "Epoch 25/100\n",
            "28/28 [==============================] - 0s 8ms/step - loss: 36.5688\n",
            "Epoch 26/100\n",
            "28/28 [==============================] - 0s 9ms/step - loss: 35.3658\n",
            "Epoch 27/100\n",
            "28/28 [==============================] - 0s 9ms/step - loss: 34.5050\n",
            "Epoch 28/100\n",
            "28/28 [==============================] - 0s 7ms/step - loss: 33.5408\n",
            "Epoch 29/100\n",
            "28/28 [==============================] - 0s 8ms/step - loss: 32.5428\n",
            "Epoch 30/100\n",
            "28/28 [==============================] - 0s 8ms/step - loss: 31.8914\n",
            "Epoch 31/100\n",
            "28/28 [==============================] - 0s 8ms/step - loss: 31.0472\n",
            "Epoch 32/100\n",
            "28/28 [==============================] - 0s 8ms/step - loss: 30.4981\n",
            "Epoch 33/100\n",
            "28/28 [==============================] - 0s 8ms/step - loss: 29.7405\n",
            "Epoch 34/100\n",
            "28/28 [==============================] - 0s 8ms/step - loss: 29.2934\n",
            "Epoch 35/100\n",
            "28/28 [==============================] - 0s 8ms/step - loss: 28.7477\n",
            "Epoch 36/100\n",
            "28/28 [==============================] - 0s 8ms/step - loss: 28.0297\n",
            "Epoch 37/100\n",
            "28/28 [==============================] - 0s 8ms/step - loss: 27.5565\n",
            "Epoch 38/100\n",
            "28/28 [==============================] - 0s 8ms/step - loss: 27.1820\n",
            "Epoch 39/100\n",
            "28/28 [==============================] - 0s 8ms/step - loss: 27.0449\n",
            "Epoch 40/100\n",
            "28/28 [==============================] - 0s 8ms/step - loss: 26.1365\n",
            "Epoch 41/100\n",
            "28/28 [==============================] - 0s 8ms/step - loss: 25.9301\n",
            "Epoch 42/100\n",
            "28/28 [==============================] - 0s 8ms/step - loss: 25.6082\n",
            "Epoch 43/100\n",
            "28/28 [==============================] - 0s 8ms/step - loss: 25.5660\n",
            "Epoch 44/100\n",
            "28/28 [==============================] - 0s 8ms/step - loss: 25.0955\n",
            "Epoch 45/100\n",
            "28/28 [==============================] - 0s 8ms/step - loss: 24.4760\n",
            "Epoch 46/100\n",
            "28/28 [==============================] - 0s 8ms/step - loss: 25.0939\n",
            "Epoch 47/100\n",
            "28/28 [==============================] - 0s 8ms/step - loss: 23.9224\n",
            "Epoch 48/100\n",
            "28/28 [==============================] - 0s 8ms/step - loss: 23.5649\n",
            "Epoch 49/100\n",
            "28/28 [==============================] - 0s 9ms/step - loss: 22.9744\n",
            "Epoch 50/100\n",
            "28/28 [==============================] - 0s 7ms/step - loss: 23.1528\n",
            "Epoch 51/100\n",
            "28/28 [==============================] - 0s 8ms/step - loss: 22.4851\n",
            "Epoch 52/100\n",
            "28/28 [==============================] - 0s 9ms/step - loss: 22.1430\n",
            "Epoch 53/100\n",
            "28/28 [==============================] - 0s 8ms/step - loss: 22.0432\n",
            "Epoch 54/100\n",
            "28/28 [==============================] - 0s 8ms/step - loss: 22.0070\n",
            "Epoch 55/100\n",
            "28/28 [==============================] - 0s 8ms/step - loss: 21.8528\n",
            "Epoch 56/100\n",
            "28/28 [==============================] - 0s 8ms/step - loss: 21.7159\n",
            "Epoch 57/100\n",
            "28/28 [==============================] - 0s 9ms/step - loss: 21.1763\n",
            "Epoch 58/100\n",
            "28/28 [==============================] - 0s 9ms/step - loss: 21.1024\n",
            "Epoch 59/100\n",
            "28/28 [==============================] - 0s 8ms/step - loss: 20.9182\n",
            "Epoch 60/100\n",
            "28/28 [==============================] - 0s 8ms/step - loss: 20.8442\n",
            "Epoch 61/100\n",
            "28/28 [==============================] - 0s 9ms/step - loss: 20.7128\n",
            "Epoch 62/100\n",
            "28/28 [==============================] - 0s 8ms/step - loss: 20.8558\n",
            "Epoch 63/100\n",
            "28/28 [==============================] - 0s 8ms/step - loss: 20.2648\n",
            "Epoch 64/100\n",
            "28/28 [==============================] - 0s 8ms/step - loss: 20.2172\n",
            "Epoch 65/100\n",
            "28/28 [==============================] - 0s 7ms/step - loss: 20.1686\n",
            "Epoch 66/100\n",
            "28/28 [==============================] - 0s 9ms/step - loss: 20.1457\n",
            "Epoch 67/100\n",
            "28/28 [==============================] - 0s 8ms/step - loss: 20.0209\n",
            "Epoch 68/100\n",
            "28/28 [==============================] - 0s 8ms/step - loss: 19.5973\n",
            "Epoch 69/100\n",
            "28/28 [==============================] - 0s 7ms/step - loss: 19.4309\n",
            "Epoch 70/100\n",
            "28/28 [==============================] - 0s 9ms/step - loss: 19.7556\n",
            "Epoch 71/100\n",
            "28/28 [==============================] - 0s 8ms/step - loss: 19.4041\n",
            "Epoch 72/100\n",
            "28/28 [==============================] - 0s 8ms/step - loss: 19.1489\n",
            "Epoch 73/100\n",
            "28/28 [==============================] - 0s 8ms/step - loss: 18.9179\n",
            "Epoch 74/100\n",
            "28/28 [==============================] - 0s 8ms/step - loss: 19.1516\n",
            "Epoch 75/100\n",
            "28/28 [==============================] - 0s 8ms/step - loss: 19.1363\n",
            "Epoch 76/100\n",
            "28/28 [==============================] - 0s 8ms/step - loss: 18.7271\n",
            "Epoch 77/100\n",
            "28/28 [==============================] - 0s 9ms/step - loss: 19.1946\n",
            "Epoch 78/100\n",
            "28/28 [==============================] - 0s 10ms/step - loss: 18.2581\n",
            "Epoch 79/100\n",
            "28/28 [==============================] - 0s 9ms/step - loss: 18.0889\n",
            "Epoch 80/100\n",
            "28/28 [==============================] - 0s 8ms/step - loss: 18.3056\n",
            "Epoch 81/100\n",
            "28/28 [==============================] - 0s 9ms/step - loss: 17.9292\n",
            "Epoch 82/100\n",
            "28/28 [==============================] - 0s 8ms/step - loss: 18.0870\n",
            "Epoch 83/100\n",
            "28/28 [==============================] - 0s 8ms/step - loss: 17.8750\n",
            "Epoch 84/100\n",
            "28/28 [==============================] - 0s 7ms/step - loss: 17.7078\n",
            "Epoch 85/100\n",
            "28/28 [==============================] - 0s 8ms/step - loss: 18.1963\n",
            "Epoch 86/100\n",
            "28/28 [==============================] - 0s 9ms/step - loss: 17.5561\n",
            "Epoch 87/100\n",
            "28/28 [==============================] - 0s 8ms/step - loss: 17.5808\n",
            "Epoch 88/100\n",
            "28/28 [==============================] - 0s 8ms/step - loss: 17.3007\n",
            "Epoch 89/100\n",
            "28/28 [==============================] - 0s 8ms/step - loss: 17.2011\n",
            "Epoch 90/100\n",
            "28/28 [==============================] - 0s 9ms/step - loss: 17.0057\n",
            "Epoch 91/100\n",
            "28/28 [==============================] - 0s 8ms/step - loss: 17.3679\n",
            "Epoch 92/100\n",
            "28/28 [==============================] - 0s 8ms/step - loss: 17.0368\n",
            "Epoch 93/100\n",
            "28/28 [==============================] - 0s 8ms/step - loss: 16.8462\n",
            "Epoch 94/100\n",
            "28/28 [==============================] - 0s 8ms/step - loss: 16.5843\n",
            "Epoch 95/100\n",
            "28/28 [==============================] - 0s 8ms/step - loss: 16.9869\n",
            "Epoch 96/100\n",
            "28/28 [==============================] - 0s 9ms/step - loss: 16.6811\n",
            "Epoch 97/100\n",
            "28/28 [==============================] - 0s 8ms/step - loss: 16.7844\n",
            "Epoch 98/100\n",
            "28/28 [==============================] - 0s 7ms/step - loss: 16.7328\n",
            "Epoch 99/100\n",
            "28/28 [==============================] - 0s 8ms/step - loss: 16.4379\n",
            "Epoch 100/100\n",
            "28/28 [==============================] - 0s 9ms/step - loss: 16.2143\n"
          ]
        },
        {
          "output_type": "execute_result",
          "data": {
            "text/plain": [
              "<keras.callbacks.History at 0x7f0b2dc235b0>"
            ]
          },
          "metadata": {},
          "execution_count": 81
        }
      ]
    },
    {
      "cell_type": "markdown",
      "metadata": {
        "id": "CBWO8NqAdzRZ"
      },
      "source": [
        "## 예측값 그려보기"
      ]
    },
    {
      "cell_type": "code",
      "metadata": {
        "id": "80XSEaQ8dxOk",
        "colab": {
          "base_uri": "https://localhost:8080/",
          "height": 352
        },
        "outputId": "dd3eb3c6-df5d-4b55-bd11-e837d33296f4"
      },
      "source": [
        "prediction = model.predict(x_test)\n",
        "\n",
        "pred_range = np.arange(len(y_train), len(y_train) + len(prediction))\n",
        "\n",
        "plt.figure(figsize = (12,5))\n",
        "plt.xlabel('Time')\n",
        "plt.ylabel('Value')\n",
        "\n",
        "plt.plot(pred_range, y_test.flatten(), color = 'orange', label = 'Ground Truth')\n",
        "plt.plot(pred_range, prediction.flatten(), color = 'blue', label = 'prediction')\n",
        "plt.legend()\n",
        "plt.show()"
      ],
      "execution_count": null,
      "outputs": [
        {
          "output_type": "stream",
          "name": "stdout",
          "text": [
            "1/1 [==============================] - 0s 31ms/step\n"
          ]
        },
        {
          "output_type": "display_data",
          "data": {
            "text/plain": [
              "<Figure size 864x360 with 1 Axes>"
            ],
            "image/png": "[encoded data removed]"
          },
          "metadata": {
            "needs_background": "light"
          }
        }
      ]
    },
    {
      "cell_type": "markdown",
      "metadata": {
        "id": "KqWPWvHWelCp"
      },
      "source": [
        "## 모델 재구성 (2)\n",
        "- LSTM 사용"
      ]
    },
    {
      "cell_type": "code",
      "metadata": {
        "id": "gRdRAH5Hew6s"
      },
      "source": [
        "from tensorflow.keras.layers import LSTM"
      ],
      "execution_count": null,
      "outputs": []
    },
    {
      "cell_type": "code",
      "metadata": {
        "id": "wFk0_R10eqGu"
      },
      "source": [
        "def build_model2(n):\n",
        "  model = Sequential()\n",
        "\n",
        "  model.add(LSTM(units= 64, return_sequences = True, input_shape = (n ,1)))\n",
        "  model.add(LSTM(32))\n",
        "  model.add(Dense(1))\n",
        "\n",
        "  model.compile(optimizer = 'adam',\n",
        "                loss = 'mse')\n",
        "  return model"
      ],
      "execution_count": null,
      "outputs": []
    },
    {
      "cell_type": "code",
      "metadata": {
        "id": "MH6nCyR0eqBl",
        "colab": {
          "base_uri": "https://localhost:8080/"
        },
        "outputId": "0dbe6384-8e52-42bc-89f6-db241d7bc460"
      },
      "source": [
        "model_2 = build_model2(10)\n",
        "model_2.summary()"
      ],
      "execution_count": null,
      "outputs": [
        {
          "output_type": "stream",
          "name": "stdout",
          "text": [
            "Model: \"sequential_16\"\n",
            "_________________________________________________________________\n",
            " Layer (type)                Output Shape              Param #   \n",
            "=================================================================\n",
            " lstm_9 (LSTM)               (None, 10, 64)            16896     \n",
            "                                                                 \n",
            " lstm_10 (LSTM)              (None, 32)                12416     \n",
            "                                                                 \n",
            " dense_7 (Dense)             (None, 1)                 33        \n",
            "                                                                 \n",
            "=================================================================\n",
            "Total params: 29,345\n",
            "Trainable params: 29,345\n",
            "Non-trainable params: 0\n",
            "_________________________________________________________________\n"
          ]
        }
      ]
    },
    {
      "cell_type": "markdown",
      "metadata": {
        "id": "te5tAar7fUIK"
      },
      "source": [
        "## 모델 재학습 및 예측값 그려보기"
      ]
    },
    {
      "cell_type": "code",
      "metadata": {
        "id": "qDAPz1QJep9D",
        "colab": {
          "base_uri": "https://localhost:8080/"
        },
        "outputId": "64d2f1c0-9f3a-454e-c15a-fc20d2330885"
      },
      "source": [
        "model_2.fit(x_train, y_train, epochs = 100, batch_size = 12)"
      ],
      "execution_count": null,
      "outputs": [
        {
          "output_type": "stream",
          "name": "stdout",
          "text": [
            "Epoch 1/100\n",
            "28/28 [==============================] - 3s 5ms/step - loss: 215.5778\n",
            "Epoch 2/100\n",
            "28/28 [==============================] - 0s 5ms/step - loss: 162.2090\n",
            "Epoch 3/100\n",
            "28/28 [==============================] - 0s 5ms/step - loss: 121.5147\n",
            "Epoch 4/100\n",
            "28/28 [==============================] - 0s 5ms/step - loss: 97.3052\n",
            "Epoch 5/100\n",
            "28/28 [==============================] - 0s 5ms/step - loss: 81.2838\n",
            "Epoch 6/100\n",
            "28/28 [==============================] - 0s 5ms/step - loss: 68.5685\n",
            "Epoch 7/100\n",
            "28/28 [==============================] - 0s 5ms/step - loss: 60.3731\n",
            "Epoch 8/100\n",
            "28/28 [==============================] - 0s 5ms/step - loss: 53.8112\n",
            "Epoch 9/100\n",
            "28/28 [==============================] - 0s 5ms/step - loss: 49.6802\n",
            "Epoch 10/100\n",
            "28/28 [==============================] - 0s 5ms/step - loss: 45.2158\n",
            "Epoch 11/100\n",
            "28/28 [==============================] - 0s 6ms/step - loss: 41.4491\n",
            "Epoch 12/100\n",
            "28/28 [==============================] - 0s 5ms/step - loss: 38.5743\n",
            "Epoch 13/100\n",
            "28/28 [==============================] - 0s 5ms/step - loss: 36.3913\n",
            "Epoch 14/100\n",
            "28/28 [==============================] - 0s 5ms/step - loss: 34.3222\n",
            "Epoch 15/100\n",
            "28/28 [==============================] - 0s 5ms/step - loss: 33.1466\n",
            "Epoch 16/100\n",
            "28/28 [==============================] - 0s 5ms/step - loss: 32.2301\n",
            "Epoch 17/100\n",
            "28/28 [==============================] - 0s 5ms/step - loss: 30.4730\n",
            "Epoch 18/100\n",
            "28/28 [==============================] - 0s 5ms/step - loss: 29.3146\n",
            "Epoch 19/100\n",
            "28/28 [==============================] - 0s 5ms/step - loss: 29.6162\n",
            "Epoch 20/100\n",
            "28/28 [==============================] - 0s 5ms/step - loss: 28.3652\n",
            "Epoch 21/100\n",
            "28/28 [==============================] - 0s 5ms/step - loss: 26.7293\n",
            "Epoch 22/100\n",
            "28/28 [==============================] - 0s 5ms/step - loss: 26.1407\n",
            "Epoch 23/100\n",
            "28/28 [==============================] - 0s 5ms/step - loss: 25.7276\n",
            "Epoch 24/100\n",
            "28/28 [==============================] - 0s 5ms/step - loss: 24.7587\n",
            "Epoch 25/100\n",
            "28/28 [==============================] - 0s 5ms/step - loss: 24.0677\n",
            "Epoch 26/100\n",
            "28/28 [==============================] - 0s 6ms/step - loss: 23.8203\n",
            "Epoch 27/100\n",
            "28/28 [==============================] - 0s 5ms/step - loss: 22.6669\n",
            "Epoch 28/100\n",
            "28/28 [==============================] - 0s 5ms/step - loss: 22.6110\n",
            "Epoch 29/100\n",
            "28/28 [==============================] - 0s 5ms/step - loss: 22.1659\n",
            "Epoch 30/100\n",
            "28/28 [==============================] - 0s 5ms/step - loss: 21.2409\n",
            "Epoch 31/100\n",
            "28/28 [==============================] - 0s 5ms/step - loss: 20.8323\n",
            "Epoch 32/100\n",
            "28/28 [==============================] - 0s 5ms/step - loss: 19.8862\n",
            "Epoch 33/100\n",
            "28/28 [==============================] - 0s 5ms/step - loss: 19.8245\n",
            "Epoch 34/100\n",
            "28/28 [==============================] - 0s 5ms/step - loss: 18.9156\n",
            "Epoch 35/100\n",
            "28/28 [==============================] - 0s 5ms/step - loss: 19.2035\n",
            "Epoch 36/100\n",
            "28/28 [==============================] - 0s 5ms/step - loss: 19.8901\n",
            "Epoch 37/100\n",
            "28/28 [==============================] - 0s 5ms/step - loss: 19.0513\n",
            "Epoch 38/100\n",
            "28/28 [==============================] - 0s 6ms/step - loss: 18.0862\n",
            "Epoch 39/100\n",
            "28/28 [==============================] - 0s 5ms/step - loss: 17.6199\n",
            "Epoch 40/100\n",
            "28/28 [==============================] - 0s 5ms/step - loss: 17.3452\n",
            "Epoch 41/100\n",
            "28/28 [==============================] - 0s 5ms/step - loss: 17.9612\n",
            "Epoch 42/100\n",
            "28/28 [==============================] - 0s 5ms/step - loss: 17.6811\n",
            "Epoch 43/100\n",
            "28/28 [==============================] - 0s 5ms/step - loss: 17.3801\n",
            "Epoch 44/100\n",
            "28/28 [==============================] - 0s 5ms/step - loss: 16.7668\n",
            "Epoch 45/100\n",
            "28/28 [==============================] - 0s 5ms/step - loss: 17.0303\n",
            "Epoch 46/100\n",
            "28/28 [==============================] - 0s 5ms/step - loss: 16.6902\n",
            "Epoch 47/100\n",
            "28/28 [==============================] - 0s 5ms/step - loss: 16.6016\n",
            "Epoch 48/100\n",
            "28/28 [==============================] - 0s 5ms/step - loss: 16.0739\n",
            "Epoch 49/100\n",
            "28/28 [==============================] - 0s 5ms/step - loss: 16.6463\n",
            "Epoch 50/100\n",
            "28/28 [==============================] - 0s 6ms/step - loss: 16.1433\n",
            "Epoch 51/100\n",
            "28/28 [==============================] - 0s 5ms/step - loss: 15.8813\n",
            "Epoch 52/100\n",
            "28/28 [==============================] - 0s 5ms/step - loss: 15.7132\n",
            "Epoch 53/100\n",
            "28/28 [==============================] - 0s 5ms/step - loss: 15.4226\n",
            "Epoch 54/100\n",
            "28/28 [==============================] - 0s 5ms/step - loss: 15.5875\n",
            "Epoch 55/100\n",
            "28/28 [==============================] - 0s 5ms/step - loss: 17.3588\n",
            "Epoch 56/100\n",
            "28/28 [==============================] - 0s 5ms/step - loss: 15.9719\n",
            "Epoch 57/100\n",
            "28/28 [==============================] - 0s 5ms/step - loss: 15.7571\n",
            "Epoch 58/100\n",
            "28/28 [==============================] - 0s 5ms/step - loss: 15.2387\n",
            "Epoch 59/100\n",
            "28/28 [==============================] - 0s 5ms/step - loss: 15.2376\n",
            "Epoch 60/100\n",
            "28/28 [==============================] - 0s 5ms/step - loss: 15.0655\n",
            "Epoch 61/100\n",
            "28/28 [==============================] - 0s 5ms/step - loss: 15.0014\n",
            "Epoch 62/100\n",
            "28/28 [==============================] - 0s 5ms/step - loss: 14.7258\n",
            "Epoch 63/100\n",
            "28/28 [==============================] - 0s 5ms/step - loss: 15.1362\n",
            "Epoch 64/100\n",
            "28/28 [==============================] - 0s 6ms/step - loss: 14.8195\n",
            "Epoch 65/100\n",
            "28/28 [==============================] - 0s 5ms/step - loss: 14.6745\n",
            "Epoch 66/100\n",
            "28/28 [==============================] - 0s 5ms/step - loss: 15.1274\n",
            "Epoch 67/100\n",
            "28/28 [==============================] - 0s 5ms/step - loss: 14.8788\n",
            "Epoch 68/100\n",
            "28/28 [==============================] - 0s 5ms/step - loss: 14.2405\n",
            "Epoch 69/100\n",
            "28/28 [==============================] - 0s 5ms/step - loss: 13.9943\n",
            "Epoch 70/100\n",
            "28/28 [==============================] - 0s 5ms/step - loss: 14.4585\n",
            "Epoch 71/100\n",
            "28/28 [==============================] - 0s 5ms/step - loss: 14.2520\n",
            "Epoch 72/100\n",
            "28/28 [==============================] - 0s 5ms/step - loss: 14.4240\n",
            "Epoch 73/100\n",
            "28/28 [==============================] - 0s 5ms/step - loss: 13.9927\n",
            "Epoch 74/100\n",
            "28/28 [==============================] - 0s 5ms/step - loss: 13.6398\n",
            "Epoch 75/100\n",
            "28/28 [==============================] - 0s 5ms/step - loss: 13.7197\n",
            "Epoch 76/100\n",
            "28/28 [==============================] - 0s 5ms/step - loss: 13.7041\n",
            "Epoch 77/100\n",
            "28/28 [==============================] - 0s 5ms/step - loss: 13.5998\n",
            "Epoch 78/100\n",
            "28/28 [==============================] - 0s 5ms/step - loss: 13.7184\n",
            "Epoch 79/100\n",
            "28/28 [==============================] - 0s 6ms/step - loss: 13.2994\n",
            "Epoch 80/100\n",
            "28/28 [==============================] - 0s 5ms/step - loss: 13.5537\n",
            "Epoch 81/100\n",
            "28/28 [==============================] - 0s 5ms/step - loss: 12.9917\n",
            "Epoch 82/100\n",
            "28/28 [==============================] - 0s 5ms/step - loss: 13.1092\n",
            "Epoch 83/100\n",
            "28/28 [==============================] - 0s 5ms/step - loss: 13.1758\n",
            "Epoch 84/100\n",
            "28/28 [==============================] - 0s 5ms/step - loss: 13.1089\n",
            "Epoch 85/100\n",
            "28/28 [==============================] - 0s 5ms/step - loss: 12.8308\n",
            "Epoch 86/100\n",
            "28/28 [==============================] - 0s 5ms/step - loss: 12.6974\n",
            "Epoch 87/100\n",
            "28/28 [==============================] - 0s 6ms/step - loss: 12.7560\n",
            "Epoch 88/100\n",
            "28/28 [==============================] - 0s 6ms/step - loss: 12.5468\n",
            "Epoch 89/100\n",
            "28/28 [==============================] - 0s 7ms/step - loss: 13.0043\n",
            "Epoch 90/100\n",
            "28/28 [==============================] - 0s 11ms/step - loss: 12.9081\n",
            "Epoch 91/100\n",
            "28/28 [==============================] - 0s 9ms/step - loss: 12.7770\n",
            "Epoch 92/100\n",
            "28/28 [==============================] - 0s 10ms/step - loss: 12.5963\n",
            "Epoch 93/100\n",
            "28/28 [==============================] - 0s 7ms/step - loss: 12.9008\n",
            "Epoch 94/100\n",
            "28/28 [==============================] - 0s 6ms/step - loss: 12.4153\n",
            "Epoch 95/100\n",
            "28/28 [==============================] - 0s 5ms/step - loss: 12.5616\n",
            "Epoch 96/100\n",
            "28/28 [==============================] - 0s 5ms/step - loss: 12.6415\n",
            "Epoch 97/100\n",
            "28/28 [==============================] - 0s 5ms/step - loss: 11.8263\n",
            "Epoch 98/100\n",
            "28/28 [==============================] - 0s 6ms/step - loss: 12.6075\n",
            "Epoch 99/100\n",
            "28/28 [==============================] - 0s 6ms/step - loss: 11.9425\n",
            "Epoch 100/100\n",
            "28/28 [==============================] - 0s 11ms/step - loss: 12.0996\n"
          ]
        },
        {
          "output_type": "execute_result",
          "data": {
            "text/plain": [
              "<keras.callbacks.History at 0x7f0baed86850>"
            ]
          },
          "metadata": {},
          "execution_count": 88
        }
      ]
    },
    {
      "cell_type": "code",
      "metadata": {
        "id": "a2PO8mlRep4i",
        "colab": {
          "base_uri": "https://localhost:8080/",
          "height": 352
        },
        "outputId": "039b847c-9ed1-4110-c18a-d757affe3c43"
      },
      "source": [
        "prediction_2 = model_2.predict(x_test)\n",
        "\n",
        "pred_range = np.arange(len(y_train), len(y_train) + len(prediction_2))\n",
        "\n",
        "plt.figure(figsize = (12,5))\n",
        "plt.xlabel('Time')\n",
        "plt.ylabel('Value')\n",
        "\n",
        "plt.plot(pred_range, y_test.flatten(), color = 'orange', label = 'Ground Truth')\n",
        "plt.plot(pred_range, prediction.flatten(),  'r:', label = 'prediction')\n",
        "plt.plot(pred_range, prediction_2.flatten(), color = 'blue', label = 'prediction_2')\n",
        "plt.legend()\n",
        "plt.show()"
      ],
      "execution_count": null,
      "outputs": [
        {
          "output_type": "stream",
          "name": "stdout",
          "text": [
            "1/1 [==============================] - 1s 596ms/step\n"
          ]
        },
        {
          "output_type": "display_data",
          "data": {
            "text/plain": [
              "<Figure size 864x360 with 1 Axes>"
            ],
            "image/png": "[encoded data removed]"
          },
          "metadata": {
            "needs_background": "light"
          }
        }
      ]
    },
    {
      "cell_type": "markdown",
      "metadata": {
        "id": "a52Hf5A8gBY1"
      },
      "source": [
        "## 모델 재구성(3)\n",
        "- GRU 사용\n",
        "  - LSTM 보다 더 쉬운 구조"
      ]
    },
    {
      "cell_type": "code",
      "metadata": {
        "id": "mjJvMhvegFWa"
      },
      "source": [
        "from tensorflow.keras.layers import GRU"
      ],
      "execution_count": null,
      "outputs": []
    },
    {
      "cell_type": "code",
      "metadata": {
        "id": "elzfgn1ngFR7",
        "colab": {
          "base_uri": "https://localhost:8080/"
        },
        "outputId": "fe0fd660-1d01-4c09-d4b3-53653b67a213"
      },
      "source": [
        "def build_model3(n):\n",
        "  model = Sequential()\n",
        "\n",
        "  model.add(GRU(units= 30, return_sequences = True, input_shape = (n ,1)))\n",
        "  model.add(GRU(32))\n",
        "  model.add(Dense(1))\n",
        "\n",
        "  model.compile(optimizer = 'adam',\n",
        "                loss = 'mse')\n",
        "  return model\n",
        "\n",
        "model_3  = build_model3(10)\n",
        "model_3.summary()"
      ],
      "execution_count": null,
      "outputs": [
        {
          "output_type": "stream",
          "name": "stdout",
          "text": [
            "Model: \"sequential_17\"\n",
            "_________________________________________________________________\n",
            " Layer (type)                Output Shape              Param #   \n",
            "=================================================================\n",
            " gru (GRU)                   (None, 10, 30)            2970      \n",
            "                                                                 \n",
            " gru_1 (GRU)                 (None, 32)                6144      \n",
            "                                                                 \n",
            " dense_8 (Dense)             (None, 1)                 33        \n",
            "                                                                 \n",
            "=================================================================\n",
            "Total params: 9,147\n",
            "Trainable params: 9,147\n",
            "Non-trainable params: 0\n",
            "_________________________________________________________________\n"
          ]
        }
      ]
    },
    {
      "cell_type": "markdown",
      "metadata": {
        "id": "Lz4dAZvvgbQp"
      },
      "source": [
        "## 모델 재학습 및 예측값 그려보기"
      ]
    },
    {
      "cell_type": "code",
      "metadata": {
        "id": "sg-NFBcEgFMg",
        "colab": {
          "base_uri": "https://localhost:8080/"
        },
        "outputId": "7847ba56-1427-4ea1-d051-c8224414ebe9"
      },
      "source": [
        "model_3.fit(x_train,y_train , epochs  = 100, batch_size = 12)"
      ],
      "execution_count": null,
      "outputs": [
        {
          "output_type": "stream",
          "name": "stdout",
          "text": [
            "Epoch 1/100\n",
            "28/28 [==============================] - 3s 5ms/step - loss: 223.2926\n",
            "Epoch 2/100\n",
            "28/28 [==============================] - 0s 5ms/step - loss: 164.2399\n",
            "Epoch 3/100\n",
            "28/28 [==============================] - 0s 5ms/step - loss: 126.1218\n",
            "Epoch 4/100\n",
            "28/28 [==============================] - 0s 5ms/step - loss: 101.8403\n",
            "Epoch 5/100\n",
            "28/28 [==============================] - 0s 5ms/step - loss: 86.2737\n",
            "Epoch 6/100\n",
            "28/28 [==============================] - 0s 5ms/step - loss: 76.0572\n",
            "Epoch 7/100\n",
            "28/28 [==============================] - 0s 4ms/step - loss: 67.9937\n",
            "Epoch 8/100\n",
            "28/28 [==============================] - 0s 5ms/step - loss: 62.1299\n",
            "Epoch 9/100\n",
            "28/28 [==============================] - 0s 5ms/step - loss: 56.7664\n",
            "Epoch 10/100\n",
            "28/28 [==============================] - 0s 5ms/step - loss: 52.4469\n",
            "Epoch 11/100\n",
            "28/28 [==============================] - 0s 5ms/step - loss: 47.9594\n",
            "Epoch 12/100\n",
            "28/28 [==============================] - 0s 5ms/step - loss: 44.4137\n",
            "Epoch 13/100\n",
            "28/28 [==============================] - 0s 5ms/step - loss: 41.4144\n",
            "Epoch 14/100\n",
            "28/28 [==============================] - 0s 5ms/step - loss: 38.6965\n",
            "Epoch 15/100\n",
            "28/28 [==============================] - 0s 5ms/step - loss: 36.9947\n",
            "Epoch 16/100\n",
            "28/28 [==============================] - 0s 5ms/step - loss: 35.0297\n",
            "Epoch 17/100\n",
            "28/28 [==============================] - 0s 5ms/step - loss: 33.7048\n",
            "Epoch 18/100\n",
            "28/28 [==============================] - 0s 5ms/step - loss: 33.2123\n",
            "Epoch 19/100\n",
            "28/28 [==============================] - 0s 5ms/step - loss: 31.0980\n",
            "Epoch 20/100\n",
            "28/28 [==============================] - 0s 5ms/step - loss: 29.9924\n",
            "Epoch 21/100\n",
            "28/28 [==============================] - 0s 5ms/step - loss: 29.1190\n",
            "Epoch 22/100\n",
            "28/28 [==============================] - 0s 5ms/step - loss: 28.9289\n",
            "Epoch 23/100\n",
            "28/28 [==============================] - 0s 6ms/step - loss: 27.6147\n",
            "Epoch 24/100\n",
            "28/28 [==============================] - 0s 5ms/step - loss: 26.8887\n",
            "Epoch 25/100\n",
            "28/28 [==============================] - 0s 5ms/step - loss: 26.4140\n",
            "Epoch 26/100\n",
            "28/28 [==============================] - 0s 5ms/step - loss: 25.3875\n",
            "Epoch 27/100\n",
            "28/28 [==============================] - 0s 5ms/step - loss: 25.2183\n",
            "Epoch 28/100\n",
            "28/28 [==============================] - 0s 5ms/step - loss: 24.7614\n",
            "Epoch 29/100\n",
            "28/28 [==============================] - 0s 5ms/step - loss: 24.0227\n",
            "Epoch 30/100\n",
            "28/28 [==============================] - 0s 5ms/step - loss: 23.3336\n",
            "Epoch 31/100\n",
            "28/28 [==============================] - 0s 5ms/step - loss: 23.1575\n",
            "Epoch 32/100\n",
            "28/28 [==============================] - 0s 5ms/step - loss: 22.8623\n",
            "Epoch 33/100\n",
            "28/28 [==============================] - 0s 5ms/step - loss: 22.3734\n",
            "Epoch 34/100\n",
            "28/28 [==============================] - 0s 5ms/step - loss: 22.0835\n",
            "Epoch 35/100\n",
            "28/28 [==============================] - 0s 5ms/step - loss: 22.0703\n",
            "Epoch 36/100\n",
            "28/28 [==============================] - 0s 5ms/step - loss: 21.9519\n",
            "Epoch 37/100\n",
            "28/28 [==============================] - 0s 5ms/step - loss: 21.1527\n",
            "Epoch 38/100\n",
            "28/28 [==============================] - 0s 5ms/step - loss: 21.8387\n",
            "Epoch 39/100\n",
            "28/28 [==============================] - 0s 5ms/step - loss: 20.5958\n",
            "Epoch 40/100\n",
            "28/28 [==============================] - 0s 5ms/step - loss: 20.4679\n",
            "Epoch 41/100\n",
            "28/28 [==============================] - 0s 5ms/step - loss: 20.7464\n",
            "Epoch 42/100\n",
            "28/28 [==============================] - 0s 5ms/step - loss: 20.4712\n",
            "Epoch 43/100\n",
            "28/28 [==============================] - 0s 5ms/step - loss: 20.4894\n",
            "Epoch 44/100\n",
            "28/28 [==============================] - 0s 5ms/step - loss: 19.3676\n",
            "Epoch 45/100\n",
            "28/28 [==============================] - 0s 5ms/step - loss: 20.0366\n",
            "Epoch 46/100\n",
            "28/28 [==============================] - 0s 5ms/step - loss: 19.1983\n",
            "Epoch 47/100\n",
            "28/28 [==============================] - 0s 5ms/step - loss: 19.2563\n",
            "Epoch 48/100\n",
            "28/28 [==============================] - 0s 5ms/step - loss: 19.6657\n",
            "Epoch 49/100\n",
            "28/28 [==============================] - 0s 5ms/step - loss: 18.6546\n",
            "Epoch 50/100\n",
            "28/28 [==============================] - 0s 5ms/step - loss: 19.7043\n",
            "Epoch 51/100\n",
            "28/28 [==============================] - 0s 5ms/step - loss: 18.7883\n",
            "Epoch 52/100\n",
            "28/28 [==============================] - 0s 5ms/step - loss: 18.9828\n",
            "Epoch 53/100\n",
            "28/28 [==============================] - 0s 5ms/step - loss: 18.3650\n",
            "Epoch 54/100\n",
            "28/28 [==============================] - 0s 5ms/step - loss: 18.4148\n",
            "Epoch 55/100\n",
            "28/28 [==============================] - 0s 5ms/step - loss: 18.5940\n",
            "Epoch 56/100\n",
            "28/28 [==============================] - 0s 5ms/step - loss: 17.9026\n",
            "Epoch 57/100\n",
            "28/28 [==============================] - 0s 5ms/step - loss: 17.8821\n",
            "Epoch 58/100\n",
            "28/28 [==============================] - 0s 5ms/step - loss: 17.9841\n",
            "Epoch 59/100\n",
            "28/28 [==============================] - 0s 5ms/step - loss: 18.0516\n",
            "Epoch 60/100\n",
            "28/28 [==============================] - 0s 6ms/step - loss: 17.6224\n",
            "Epoch 61/100\n",
            "28/28 [==============================] - 0s 7ms/step - loss: 17.3845\n",
            "Epoch 62/100\n",
            "28/28 [==============================] - 0s 7ms/step - loss: 17.9804\n",
            "Epoch 63/100\n",
            "28/28 [==============================] - 0s 8ms/step - loss: 17.8115\n",
            "Epoch 64/100\n",
            "28/28 [==============================] - 0s 11ms/step - loss: 17.3798\n",
            "Epoch 65/100\n",
            "28/28 [==============================] - 0s 9ms/step - loss: 17.4928\n",
            "Epoch 66/100\n",
            "28/28 [==============================] - 0s 5ms/step - loss: 17.5694\n",
            "Epoch 67/100\n",
            "28/28 [==============================] - 0s 5ms/step - loss: 17.2300\n",
            "Epoch 68/100\n",
            "28/28 [==============================] - 0s 5ms/step - loss: 17.2734\n",
            "Epoch 69/100\n",
            "28/28 [==============================] - 0s 5ms/step - loss: 16.8428\n",
            "Epoch 70/100\n",
            "28/28 [==============================] - 0s 5ms/step - loss: 16.8636\n",
            "Epoch 71/100\n",
            "28/28 [==============================] - 0s 5ms/step - loss: 17.3059\n",
            "Epoch 72/100\n",
            "28/28 [==============================] - 0s 5ms/step - loss: 17.6547\n",
            "Epoch 73/100\n",
            "28/28 [==============================] - 0s 5ms/step - loss: 16.8437\n",
            "Epoch 74/100\n",
            "28/28 [==============================] - 0s 5ms/step - loss: 16.7857\n",
            "Epoch 75/100\n",
            "28/28 [==============================] - 0s 5ms/step - loss: 16.7136\n",
            "Epoch 76/100\n",
            "28/28 [==============================] - 0s 5ms/step - loss: 16.8346\n",
            "Epoch 77/100\n",
            "28/28 [==============================] - 0s 6ms/step - loss: 16.4270\n",
            "Epoch 78/100\n",
            "28/28 [==============================] - 0s 8ms/step - loss: 16.2388\n",
            "Epoch 79/100\n",
            "28/28 [==============================] - 0s 9ms/step - loss: 16.5910\n",
            "Epoch 80/100\n",
            "28/28 [==============================] - 0s 8ms/step - loss: 16.6316\n",
            "Epoch 81/100\n",
            "28/28 [==============================] - 0s 5ms/step - loss: 16.4194\n",
            "Epoch 82/100\n",
            "28/28 [==============================] - 0s 5ms/step - loss: 16.6910\n",
            "Epoch 83/100\n",
            "28/28 [==============================] - 0s 5ms/step - loss: 16.0887\n",
            "Epoch 84/100\n",
            "28/28 [==============================] - 0s 5ms/step - loss: 16.4969\n",
            "Epoch 85/100\n",
            "28/28 [==============================] - 0s 5ms/step - loss: 16.2914\n",
            "Epoch 86/100\n",
            "28/28 [==============================] - 0s 5ms/step - loss: 16.4657\n",
            "Epoch 87/100\n",
            "28/28 [==============================] - 0s 5ms/step - loss: 16.6179\n",
            "Epoch 88/100\n",
            "28/28 [==============================] - 0s 5ms/step - loss: 16.0986\n",
            "Epoch 89/100\n",
            "28/28 [==============================] - 0s 5ms/step - loss: 15.8823\n",
            "Epoch 90/100\n",
            "28/28 [==============================] - 0s 5ms/step - loss: 15.9149\n",
            "Epoch 91/100\n",
            "28/28 [==============================] - 0s 5ms/step - loss: 16.2453\n",
            "Epoch 92/100\n",
            "28/28 [==============================] - 0s 5ms/step - loss: 15.7947\n",
            "Epoch 93/100\n",
            "28/28 [==============================] - 0s 5ms/step - loss: 15.8378\n",
            "Epoch 94/100\n",
            "28/28 [==============================] - 0s 5ms/step - loss: 16.1710\n",
            "Epoch 95/100\n",
            "28/28 [==============================] - 0s 5ms/step - loss: 15.9987\n",
            "Epoch 96/100\n",
            "28/28 [==============================] - 0s 5ms/step - loss: 16.2132\n",
            "Epoch 97/100\n",
            "28/28 [==============================] - 0s 5ms/step - loss: 16.2545\n",
            "Epoch 98/100\n",
            "28/28 [==============================] - 0s 5ms/step - loss: 16.0386\n",
            "Epoch 99/100\n",
            "28/28 [==============================] - 0s 5ms/step - loss: 16.1617\n",
            "Epoch 100/100\n",
            "28/28 [==============================] - 0s 5ms/step - loss: 16.4336\n"
          ]
        },
        {
          "output_type": "execute_result",
          "data": {
            "text/plain": [
              "<keras.callbacks.History at 0x7f0baef78670>"
            ]
          },
          "metadata": {},
          "execution_count": 96
        }
      ]
    },
    {
      "cell_type": "code",
      "metadata": {
        "id": "HVwnDvHIgokR",
        "colab": {
          "base_uri": "https://localhost:8080/",
          "height": 352
        },
        "outputId": "2d689402-53a8-43df-e6cf-355a39924cba"
      },
      "source": [
        "prediction_3 = model_2.predict(x_test)\n",
        "\n",
        "pred_range = np.arange(len(y_train), len(y_train) + len(prediction_3))\n",
        "\n",
        "plt.figure(figsize = (12,5))\n",
        "plt.xlabel('Time')\n",
        "plt.ylabel('Value')\n",
        "\n",
        "plt.plot(pred_range, y_test.flatten(), color = 'orange', label = 'Ground Truth')\n",
        "\n",
        "plt.plot(pred_range, prediction_3.flatten(), color = 'blue', label = 'prediction_3')\n",
        "plt.legend()\n",
        "plt.show()"
      ],
      "execution_count": null,
      "outputs": [
        {
          "output_type": "stream",
          "name": "stdout",
          "text": [
            "1/1 [==============================] - 0s 18ms/step\n"
          ]
        },
        {
          "output_type": "display_data",
          "data": {
            "text/plain": [
              "<Figure size 864x360 with 1 Axes>"
            ],
            "image/png": "[encoded data removed]"
          },
          "metadata": {
            "needs_background": "light"
          }
        }
      ]
    },
    {
      "cell_type": "markdown",
      "metadata": {
        "id": "CrvtX4LrkhPI"
      },
      "source": [
        "# Conv1D \n",
        "\n",
        "- 텍스트 분류나 시계열 예측 같은 간단한 문제, 오디오 생성, 기계 번역 등의 문제에서 좋은 성능\n",
        "\n",
        "- 타임스텝의 순서에 민감하지 X\n",
        "\n",
        "\n",
        "- 2D Convolution\n",
        "  - 지역적 특징을 인식\n",
        "\n",
        "  <img src=\"https://missinglink.ai/wp-content/uploads/2019/03/2D-convolutional-example_2x-700x584.png\" width=\"500\">\n",
        "\n",
        "- 1D Convolution\n",
        "  - 문맥을 인식\n",
        "\n",
        "  <img src=\"https://missinglink.ai/wp-content/uploads/2019/03/1D-convolutional-example_2x.png\" width=\"500\">\n",
        "\n",
        "  <sub>출처: https://missinglink.ai/guides/keras/keras-conv1d-working-1d-convolutional-neural-networks-keras/</sub>"
      ]
    },
    {
      "cell_type": "markdown",
      "metadata": {
        "id": "aJNAI-aYnDuc"
      },
      "source": [
        "## Conv1D Layer\n",
        "- 입력: `(batch_size, timesteps, channels)`\n",
        "\n",
        "- 출력: `(batch_size, timesteps, filters)`\n",
        "\n",
        "- 필터의 사이즈가 커져도 모델이 급격히 증가하지 않기 때문에 다양한 크기를 사용할 수 있음\n",
        "- 데이터의 품질이 좋으면 굳이 크기를 달리하여 여러 개를 사용하지 않아도 될 수도 있음"
      ]
    },
    {
      "cell_type": "markdown",
      "metadata": {
        "id": "ADJZHPLJqTZa"
      },
      "source": [
        "## MaxPooling1D Layer\n",
        "- 다운 샘플링 효과\n",
        "\n",
        "- 단지 1차원형태로 바뀐 것 뿐"
      ]
    },
    {
      "cell_type": "markdown",
      "metadata": {
        "id": "wirZzwYJrNll"
      },
      "source": [
        "## GlovalMaxPooling Layer\n",
        "- 배치차원을 제외하고 2차원 형태를 1차원 형태로 바꾸어주는 레이어\n",
        "\n",
        "- Flatten layer로 대신 사용가능"
      ]
    },
    {
      "cell_type": "markdown",
      "metadata": {
        "id": "YQY_1IL9nQs2"
      },
      "source": [
        "## IMDB 데이터셋"
      ]
    },
    {
      "cell_type": "markdown",
      "metadata": {
        "id": "pl4Eu32qnUES"
      },
      "source": [
        "### 데이터 로드 및 전처리"
      ]
    },
    {
      "cell_type": "code",
      "metadata": {
        "id": "WcG-Hiltklbe"
      },
      "source": [
        "from tensorflow.keras.datasets import imdb\n",
        "from tensorflow.keras.preprocessing .sequence import pad_sequences\n",
        "from tensorflow.keras.models import Sequential\n",
        "from tensorflow.keras.optimizers import RMSprop\n",
        "from tensorflow.keras.layers import Dense, Embedding, Conv1D, MaxPooling1D, GlobalMaxPooling1D"
      ],
      "execution_count": null,
      "outputs": []
    },
    {
      "cell_type": "code",
      "metadata": {
        "id": "GGYaNT8hnec5",
        "colab": {
          "base_uri": "https://localhost:8080/"
        },
        "outputId": "f4f72c54-b90a-4ec2-eebd-a1b6857e1c2b"
      },
      "source": [
        "num_words = 10000\n",
        "max_len = 500\n",
        "batch_size = 32\n",
        "\n",
        "(input_train, y_train), (input_test, y_test) = imdb.load_data(num_words = num_words)\n",
        "print(len(input_train))\n",
        "print(len(input_test))"
      ],
      "execution_count": null,
      "outputs": [
        {
          "output_type": "stream",
          "name": "stdout",
          "text": [
            "25000\n",
            "25000\n"
          ]
        }
      ]
    },
    {
      "cell_type": "code",
      "metadata": {
        "id": "nQBzp3ownpEK",
        "colab": {
          "base_uri": "https://localhost:8080/"
        },
        "outputId": "827526bc-a345-4138-f55a-17d93ae02dd1"
      },
      "source": [
        "pad_x_train = pad_sequences(input_train, maxlen = max_len)\n",
        "pad_x_test = pad_sequences(input_test, maxlen = max_len)\n",
        "\n",
        "print(pad_x_train.shape)\n",
        "print(pad_x_test.shape)\n"
      ],
      "execution_count": null,
      "outputs": [
        {
          "output_type": "stream",
          "name": "stdout",
          "text": [
            "(25000, 500)\n",
            "(25000, 500)\n"
          ]
        }
      ]
    },
    {
      "cell_type": "markdown",
      "metadata": {
        "id": "j3E0hYiHoBO0"
      },
      "source": [
        "### 모델 구성"
      ]
    },
    {
      "cell_type": "code",
      "metadata": {
        "id": "PvKPr7N6nuHr"
      },
      "source": [
        "def build_model():\n",
        "  model = Sequential()\n",
        "\n",
        "  model.add(Embedding(input_dim = num_words, output_dim =32,\n",
        "                      input_length =max_len))\n",
        "  model.add(Conv1D(32, 7, activation = 'relu'))\n",
        "  model.add(MaxPooling1D(7))\n",
        "  model.add(Conv1D(32, 7, activation = 'relu'))\n",
        "  model.add(MaxPooling1D(5))\n",
        "  model.add(GlobalMaxPooling1D())\n",
        "  model.add(Dense(1, activation = 'sigmoid'))\n",
        "\n",
        "  model.compile(optimizer = RMSprop(learning_rate = 1e-4),\n",
        "                loss = 'binary_crossentropy',\n",
        "                metrics = ['accuracy'])\n",
        "  return model"
      ],
      "execution_count": null,
      "outputs": []
    },
    {
      "cell_type": "code",
      "metadata": {
        "id": "wwWZ47NHolB6",
        "colab": {
          "base_uri": "https://localhost:8080/"
        },
        "outputId": "7ed12c4e-3849-4510-9197-00cc6b37dbfb"
      },
      "source": [
        "model = build_model()\n",
        "\n",
        "model.summary()"
      ],
      "execution_count": null,
      "outputs": [
        {
          "output_type": "stream",
          "name": "stdout",
          "text": [
            "Model: \"sequential_20\"\n",
            "_________________________________________________________________\n",
            " Layer (type)                Output Shape              Param #   \n",
            "=================================================================\n",
            " embedding_8 (Embedding)     (None, 500, 32)           320000    \n",
            "                                                                 \n",
            " conv1d_4 (Conv1D)           (None, 494, 32)           7200      \n",
            "                                                                 \n",
            " max_pooling1d_4 (MaxPooling  (None, 70, 32)           0         \n",
            " 1D)                                                             \n",
            "                                                                 \n",
            " conv1d_5 (Conv1D)           (None, 64, 32)            7200      \n",
            "                                                                 \n",
            " max_pooling1d_5 (MaxPooling  (None, 12, 32)           0         \n",
            " 1D)                                                             \n",
            "                                                                 \n",
            " global_max_pooling1d_2 (Glo  (None, 32)               0         \n",
            " balMaxPooling1D)                                                \n",
            "                                                                 \n",
            " dense_11 (Dense)            (None, 1)                 33        \n",
            "                                                                 \n",
            "=================================================================\n",
            "Total params: 334,433\n",
            "Trainable params: 334,433\n",
            "Non-trainable params: 0\n",
            "_________________________________________________________________\n"
          ]
        }
      ]
    },
    {
      "cell_type": "markdown",
      "metadata": {
        "id": "0qUbPGdmpHpQ"
      },
      "source": [
        "\n",
        "### 모델 학습"
      ]
    },
    {
      "cell_type": "code",
      "metadata": {
        "id": "xcCgjLHvonWB",
        "colab": {
          "base_uri": "https://localhost:8080/"
        },
        "outputId": "30f84617-1db8-4b81-b820-5c1e193db046"
      },
      "source": [
        "history = model.fit(pad_x_train, y_train, epochs = 20, batch_size =128, validation_split = 0.2)"
      ],
      "execution_count": null,
      "outputs": [
        {
          "output_type": "stream",
          "name": "stdout",
          "text": [
            "Epoch 1/20\n",
            "157/157 [==============================] - 6s 9ms/step - loss: 0.6929 - accuracy: 0.5133 - val_loss: 0.6921 - val_accuracy: 0.5248\n",
            "Epoch 2/20\n",
            "157/157 [==============================] - 1s 7ms/step - loss: 0.6909 - accuracy: 0.5870 - val_loss: 0.6909 - val_accuracy: 0.5918\n",
            "Epoch 3/20\n",
            "157/157 [==============================] - 1s 7ms/step - loss: 0.6880 - accuracy: 0.6542 - val_loss: 0.6880 - val_accuracy: 0.6464\n",
            "Epoch 4/20\n",
            "157/157 [==============================] - 1s 7ms/step - loss: 0.6821 - accuracy: 0.6779 - val_loss: 0.6793 - val_accuracy: 0.6244\n",
            "Epoch 5/20\n",
            "157/157 [==============================] - 1s 7ms/step - loss: 0.6670 - accuracy: 0.7340 - val_loss: 0.6551 - val_accuracy: 0.7292\n",
            "Epoch 6/20\n",
            "157/157 [==============================] - 1s 7ms/step - loss: 0.6271 - accuracy: 0.7660 - val_loss: 0.5982 - val_accuracy: 0.7708\n",
            "Epoch 7/20\n",
            "157/157 [==============================] - 1s 7ms/step - loss: 0.5551 - accuracy: 0.7990 - val_loss: 0.5174 - val_accuracy: 0.7950\n",
            "Epoch 8/20\n",
            "157/157 [==============================] - 1s 7ms/step - loss: 0.4683 - accuracy: 0.8267 - val_loss: 0.4438 - val_accuracy: 0.8182\n",
            "Epoch 9/20\n",
            "157/157 [==============================] - 1s 7ms/step - loss: 0.3989 - accuracy: 0.8462 - val_loss: 0.3987 - val_accuracy: 0.8276\n",
            "Epoch 10/20\n",
            "157/157 [==============================] - 1s 7ms/step - loss: 0.3527 - accuracy: 0.8600 - val_loss: 0.3729 - val_accuracy: 0.8410\n",
            "Epoch 11/20\n",
            "157/157 [==============================] - 1s 9ms/step - loss: 0.3223 - accuracy: 0.8705 - val_loss: 0.3590 - val_accuracy: 0.8438\n",
            "Epoch 12/20\n",
            "157/157 [==============================] - 1s 7ms/step - loss: 0.2997 - accuracy: 0.8791 - val_loss: 0.3520 - val_accuracy: 0.8492\n",
            "Epoch 13/20\n",
            "157/157 [==============================] - 1s 7ms/step - loss: 0.2812 - accuracy: 0.8869 - val_loss: 0.3530 - val_accuracy: 0.8502\n",
            "Epoch 14/20\n",
            "157/157 [==============================] - 1s 7ms/step - loss: 0.2662 - accuracy: 0.8941 - val_loss: 0.3429 - val_accuracy: 0.8536\n",
            "Epoch 15/20\n",
            "157/157 [==============================] - 1s 7ms/step - loss: 0.2527 - accuracy: 0.8993 - val_loss: 0.3423 - val_accuracy: 0.8544\n",
            "Epoch 16/20\n",
            "157/157 [==============================] - 1s 7ms/step - loss: 0.2410 - accuracy: 0.9058 - val_loss: 0.3420 - val_accuracy: 0.8538\n",
            "Epoch 17/20\n",
            "157/157 [==============================] - 1s 7ms/step - loss: 0.2300 - accuracy: 0.9112 - val_loss: 0.3445 - val_accuracy: 0.8552\n",
            "Epoch 18/20\n",
            "157/157 [==============================] - 1s 7ms/step - loss: 0.2202 - accuracy: 0.9154 - val_loss: 0.3427 - val_accuracy: 0.8562\n",
            "Epoch 19/20\n",
            "157/157 [==============================] - 1s 7ms/step - loss: 0.2112 - accuracy: 0.9186 - val_loss: 0.3459 - val_accuracy: 0.8578\n",
            "Epoch 20/20\n",
            "157/157 [==============================] - 1s 7ms/step - loss: 0.2026 - accuracy: 0.9227 - val_loss: 0.3548 - val_accuracy: 0.8544\n"
          ]
        }
      ]
    },
    {
      "cell_type": "markdown",
      "metadata": {
        "id": "n2yEkawIph4C"
      },
      "source": [
        "### 시각화"
      ]
    },
    {
      "cell_type": "code",
      "metadata": {
        "id": "BfKC0UOkpPmP",
        "colab": {
          "base_uri": "https://localhost:8080/",
          "height": 513
        },
        "outputId": "737d8b48-f04d-486a-fd57-f2495241b1df"
      },
      "source": [
        "loss = history.history['loss']\n",
        "val_loss = history.history['val_loss']\n",
        "accuracy = history.history['accuracy']\n",
        "val_accuracy = history.history['val_accuracy']\n",
        "\n",
        "epochs = range(1, len(loss) + 1)\n",
        "\n",
        "plt.plot(epochs, loss, 'b--', label = 'training loss')\n",
        "plt.plot(epochs, val_loss, 'r:', label = 'validation loss')\n",
        "plt.grid()\n",
        "plt.legend()\n",
        "\n",
        "plt.figure()\n",
        "plt.plot(epochs, accuracy, 'b--', label = 'training accuracy')\n",
        "plt.plot(epochs, val_accuracy, 'r:', label = 'validation accuracy')\n",
        "plt.grid()\n",
        "plt.legend()\n",
        "\n",
        "plt.show()"
      ],
      "execution_count": null,
      "outputs": [
        {
          "output_type": "display_data",
          "data": {
            "text/plain": [
              "<Figure size 432x288 with 1 Axes>"
            ],
            "image/png": "[encoded data removed]"
          },
          "metadata": {
            "needs_background": "light"
          }
        },
        {
          "output_type": "display_data",
          "data": {
            "text/plain": [
              "<Figure size 432x288 with 1 Axes>"
            ],
            "image/png": "[encoded data removed]"
          },
          "metadata": {
            "needs_background": "light"
          }
        }
      ]
    },
    {
      "cell_type": "markdown",
      "metadata": {
        "id": "npd7lwPGrbz9"
      },
      "source": [
        "- 과적합이 일어났지만, 다른 옵티마이저 사용, 규제화를 걸어보는 등 다양하게 시도해볼 수 있음"
      ]
    }
  ]
}